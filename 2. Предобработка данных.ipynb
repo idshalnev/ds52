{
 "cells": [
  {
   "cell_type": "markdown",
   "id": "0f55afad",
   "metadata": {
    "deletable": false,
    "editable": false,
    "id": "c81daeeb"
   },
   "source": [
    "# Исследование надежности заемщиков"
   ]
  },
  {
   "cell_type": "markdown",
   "id": "736cb7f6",
   "metadata": {
    "deletable": false,
    "editable": false,
    "id": "-G3EJWzf62s6"
   },
   "source": [
    "Это первая часть проекта, она будет проверена автоматически. Вторую часть проверит ревьюер. "
   ]
  },
  {
   "cell_type": "markdown",
   "id": "fa44bad5",
   "metadata": {
    "deletable": false,
    "editable": false,
    "id": "744d7639"
   },
   "source": [
    "## Откройте таблицу и изучите общую информацию о данных"
   ]
  },
  {
   "cell_type": "markdown",
   "id": "b4c4b063",
   "metadata": {
    "deletable": false,
    "editable": false,
    "id": "e7a14c31",
    "tags": [
     "start_task"
    ]
   },
   "source": [
    "**Задание 1. Импортируйте библиотеку pandas. Считайте данные из csv-файла в датафрейм и сохраните в переменную `data`. Путь к файлу:**\n",
    "\n",
    "`/datasets/data.csv`"
   ]
  },
  {
   "cell_type": "code",
   "execution_count": 3,
   "id": "2401f379",
   "metadata": {
    "id": "7bcf75c9"
   },
   "outputs": [],
   "source": [
    "import pandas as pd   # импортируйте библиотеку pandas"
   ]
  },
  {
   "cell_type": "code",
   "execution_count": 4,
   "id": "e4399180",
   "metadata": {
    "id": "4d240ee2"
   },
   "outputs": [],
   "source": [
    "data = pd.read_csv('/datasets/data.csv')  # прочитайте csv-файл"
   ]
  },
  {
   "cell_type": "markdown",
   "id": "13fdc1b6",
   "metadata": {
    "deletable": false,
    "editable": false,
    "id": "b8038fe3",
    "tags": [
     "start_task"
    ]
   },
   "source": [
    "**Задание 2. Выведите первые 20 строчек датафрейма `data` на экран.**"
   ]
  },
  {
   "cell_type": "code",
   "execution_count": 5,
   "id": "a169f108",
   "metadata": {
    "id": "2a7cab99"
   },
   "outputs": [
    {
     "name": "stdout",
     "output_type": "stream",
     "text": [
      "    children  days_employed  dob_years            education  education_id  \\\n",
      "0          1   -8437.673028         42               высшее             0   \n",
      "1          1   -4024.803754         36              среднее             1   \n",
      "2          0   -5623.422610         33              Среднее             1   \n",
      "3          3   -4124.747207         32              среднее             1   \n",
      "4          0  340266.072047         53              среднее             1   \n",
      "5          0    -926.185831         27               высшее             0   \n",
      "6          0   -2879.202052         43               высшее             0   \n",
      "7          0    -152.779569         50              СРЕДНЕЕ             1   \n",
      "8          2   -6929.865299         35               ВЫСШЕЕ             0   \n",
      "9          0   -2188.756445         41              среднее             1   \n",
      "10         2   -4171.483647         36               высшее             0   \n",
      "11         0    -792.701887         40              среднее             1   \n",
      "12         0            NaN         65              среднее             1   \n",
      "13         0   -1846.641941         54  неоконченное высшее             2   \n",
      "14         0   -1844.956182         56               высшее             0   \n",
      "15         1    -972.364419         26              среднее             1   \n",
      "16         0   -1719.934226         35              среднее             1   \n",
      "17         0   -2369.999720         33               высшее             0   \n",
      "18         0  400281.136913         53              среднее             1   \n",
      "19         0  -10038.818549         48              СРЕДНЕЕ             1   \n",
      "\n",
      "       family_status  family_status_id gender income_type  debt  \\\n",
      "0    женат / замужем                 0      F   сотрудник     0   \n",
      "1    женат / замужем                 0      F   сотрудник     0   \n",
      "2    женат / замужем                 0      M   сотрудник     0   \n",
      "3    женат / замужем                 0      M   сотрудник     0   \n",
      "4   гражданский брак                 1      F   пенсионер     0   \n",
      "5   гражданский брак                 1      M   компаньон     0   \n",
      "6    женат / замужем                 0      F   компаньон     0   \n",
      "7    женат / замужем                 0      M   сотрудник     0   \n",
      "8   гражданский брак                 1      F   сотрудник     0   \n",
      "9    женат / замужем                 0      M   сотрудник     0   \n",
      "10   женат / замужем                 0      M   компаньон     0   \n",
      "11   женат / замужем                 0      F   сотрудник     0   \n",
      "12  гражданский брак                 1      M   пенсионер     0   \n",
      "13   женат / замужем                 0      F   сотрудник     0   \n",
      "14  гражданский брак                 1      F   компаньон     1   \n",
      "15   женат / замужем                 0      F   сотрудник     0   \n",
      "16   женат / замужем                 0      F   сотрудник     0   \n",
      "17  гражданский брак                 1      M   сотрудник     0   \n",
      "18    вдовец / вдова                 2      F   пенсионер     0   \n",
      "19         в разводе                 3      F   сотрудник     0   \n",
      "\n",
      "     total_income                                 purpose  \n",
      "0   253875.639453                           покупка жилья  \n",
      "1   112080.014102                 приобретение автомобиля  \n",
      "2   145885.952297                           покупка жилья  \n",
      "3   267628.550329              дополнительное образование  \n",
      "4   158616.077870                         сыграть свадьбу  \n",
      "5   255763.565419                           покупка жилья  \n",
      "6   240525.971920                       операции с жильем  \n",
      "7   135823.934197                             образование  \n",
      "8    95856.832424                   на проведение свадьбы  \n",
      "9   144425.938277                 покупка жилья для семьи  \n",
      "10  113943.491460                    покупка недвижимости  \n",
      "11   77069.234271       покупка коммерческой недвижимости  \n",
      "12            NaN                         сыграть свадьбу  \n",
      "13  130458.228857                 приобретение автомобиля  \n",
      "14  165127.911772              покупка жилой недвижимости  \n",
      "15  116820.904450  строительство собственной недвижимости  \n",
      "16  289202.704229                            недвижимость  \n",
      "17   90410.586745              строительство недвижимости  \n",
      "18   56823.777243      на покупку подержанного автомобиля  \n",
      "19  242831.107982            на покупку своего автомобиля  \n"
     ]
    }
   ],
   "source": [
    "print(data.head(20)) # ваш код здесь"
   ]
  },
  {
   "cell_type": "markdown",
   "id": "71efa6db",
   "metadata": {
    "deletable": false,
    "editable": false,
    "id": "1c12e233",
    "tags": [
     "start_task"
    ]
   },
   "source": [
    "**Задание 3. Выведите основную информацию о датафрейме с помощью метода `info()`.**"
   ]
  },
  {
   "cell_type": "code",
   "execution_count": 6,
   "id": "4f1c88fa",
   "metadata": {
    "id": "2b757bca"
   },
   "outputs": [
    {
     "name": "stdout",
     "output_type": "stream",
     "text": [
      "<class 'pandas.core.frame.DataFrame'>\n",
      "RangeIndex: 21525 entries, 0 to 21524\n",
      "Data columns (total 12 columns):\n",
      " #   Column            Non-Null Count  Dtype  \n",
      "---  ------            --------------  -----  \n",
      " 0   children          21525 non-null  int64  \n",
      " 1   days_employed     19351 non-null  float64\n",
      " 2   dob_years         21525 non-null  int64  \n",
      " 3   education         21525 non-null  object \n",
      " 4   education_id      21525 non-null  int64  \n",
      " 5   family_status     21525 non-null  object \n",
      " 6   family_status_id  21525 non-null  int64  \n",
      " 7   gender            21525 non-null  object \n",
      " 8   income_type       21525 non-null  object \n",
      " 9   debt              21525 non-null  int64  \n",
      " 10  total_income      19351 non-null  float64\n",
      " 11  purpose           21525 non-null  object \n",
      "dtypes: float64(2), int64(5), object(5)\n",
      "memory usage: 2.0+ MB\n"
     ]
    }
   ],
   "source": [
    "data.info()   # ваш код здесь"
   ]
  },
  {
   "cell_type": "markdown",
   "id": "174351db",
   "metadata": {
    "deletable": false,
    "editable": false,
    "id": "333ec665"
   },
   "source": [
    "## Предобработка данных"
   ]
  },
  {
   "cell_type": "markdown",
   "id": "2a056fef",
   "metadata": {
    "deletable": false,
    "editable": false,
    "id": "02d92d53"
   },
   "source": [
    "### Удаление пропусков"
   ]
  },
  {
   "cell_type": "markdown",
   "id": "1367086b",
   "metadata": {
    "deletable": false,
    "editable": false,
    "id": "cd84967c",
    "tags": [
     "start_task"
    ]
   },
   "source": [
    "**Задание 4. Выведите количество пропущенных значений для каждого столбца. Используйте комбинацию двух методов.**"
   ]
  },
  {
   "cell_type": "code",
   "execution_count": 7,
   "id": "26412a42",
   "metadata": {
    "id": "7f9b2309"
   },
   "outputs": [
    {
     "name": "stdout",
     "output_type": "stream",
     "text": [
      "children               0\n",
      "days_employed       2174\n",
      "dob_years              0\n",
      "education              0\n",
      "education_id           0\n",
      "family_status          0\n",
      "family_status_id       0\n",
      "gender                 0\n",
      "income_type            0\n",
      "debt                   0\n",
      "total_income        2174\n",
      "purpose                0\n",
      "dtype: int64\n"
     ]
    }
   ],
   "source": [
    "print(data.isna().sum())   # ваш код здесь"
   ]
  },
  {
   "cell_type": "markdown",
   "id": "32ecc4f6",
   "metadata": {
    "deletable": false,
    "editable": false,
    "id": "db86e27b",
    "tags": [
     "start_task"
    ]
   },
   "source": [
    "**Задание 5. В двух столбцах есть пропущенные значения. Один из них — `days_employed`. Пропуски в этом столбце вы обработаете на следующем этапе. Другой столбец с пропущенными значениями — `total_income` — хранит данные о доходах. На сумму дохода сильнее всего влияет тип занятости, поэтому заполнить пропуски в этом столбце нужно медианным значением по каждому типу из столбца `income_type`. Например, у человека с типом занятости `сотрудник` пропуск в столбце `total_income` должен быть заполнен медианным доходом среди всех записей с тем же типом.**"
   ]
  },
  {
   "cell_type": "code",
   "execution_count": 8,
   "id": "9e419f83",
   "metadata": {
    "id": "42006a93"
   },
   "outputs": [],
   "source": [
    "for job in data['income_type'].unique():\n",
    "    data.loc[(data['income_type'] == job) & (data['total_income'].isna()), 'total_income'] = \\\n",
    "    data.loc[(data['income_type'] == job), 'total_income'].median()"
   ]
  },
  {
   "cell_type": "markdown",
   "id": "ae287f2a",
   "metadata": {
    "deletable": false,
    "editable": false,
    "id": "89da5ece"
   },
   "source": [
    "### Обработка аномальных значений"
   ]
  },
  {
   "cell_type": "markdown",
   "id": "f8388245",
   "metadata": {
    "deletable": false,
    "editable": false,
    "id": "57964554",
    "tags": [
     "start_task"
    ]
   },
   "source": [
    "**Задание 6. В данных могут встречаться артефакты (аномалии) — значения, которые не отражают действительность и появились по какой-то ошибке. Таким артефактом будет отрицательное количество дней трудового стажа в столбце `days_employed`. Для реальных данных это нормально. Обработайте значения в этом столбце: замените все отрицательные значения положительными с помощью метода `abs()`.**"
   ]
  },
  {
   "cell_type": "code",
   "execution_count": 9,
   "id": "c7f86e07",
   "metadata": {
    "id": "f6f055bf"
   },
   "outputs": [],
   "source": [
    "data['days_employed'] = abs(data['days_employed'])"
   ]
  },
  {
   "cell_type": "markdown",
   "id": "4a1365aa",
   "metadata": {
    "deletable": false,
    "editable": false,
    "id": "6107dd2f",
    "tags": [
     "start_task"
    ]
   },
   "source": [
    "**Задание 7. Для каждого типа занятости выведите медианное значение трудового стажа `days_employed` в днях.**"
   ]
  },
  {
   "cell_type": "code",
   "execution_count": 10,
   "id": "d93f94ea",
   "metadata": {
    "id": "85a5faf6"
   },
   "outputs": [
    {
     "data": {
      "text/plain": [
       "income_type\n",
       "безработный        366413.652744\n",
       "в декрете            3296.759962\n",
       "госслужащий          2689.368353\n",
       "компаньон            1547.382223\n",
       "пенсионер          365213.306266\n",
       "предприниматель       520.848083\n",
       "сотрудник            1574.202821\n",
       "студент               578.751554\n",
       "Name: days_employed, dtype: float64"
      ]
     },
     "execution_count": 10,
     "metadata": {},
     "output_type": "execute_result"
    }
   ],
   "source": [
    "data.groupby('income_type')['days_employed'].median()\n",
    "    # ваш код здесь"
   ]
  },
  {
   "cell_type": "markdown",
   "id": "83d54ba2",
   "metadata": {
    "deletable": false,
    "editable": false,
    "id": "38d1a030"
   },
   "source": [
    "У двух типов (безработные и пенсионеры) получатся аномально большие значения. Исправить такие значения сложно, поэтому оставьте их как есть. Тем более этот столбец не понадобится вам для исследования."
   ]
  },
  {
   "cell_type": "markdown",
   "id": "ffcedff6",
   "metadata": {
    "deletable": false,
    "editable": false,
    "id": "d8a9f147",
    "tags": [
     "start_task"
    ]
   },
   "source": [
    "**Задание 8. Выведите перечень уникальных значений столбца `children`.**"
   ]
  },
  {
   "cell_type": "code",
   "execution_count": 11,
   "id": "f8dc63fc",
   "metadata": {
    "id": "ef5056eb"
   },
   "outputs": [
    {
     "data": {
      "text/plain": [
       "array([ 1,  0,  3,  2, -1,  4, 20,  5])"
      ]
     },
     "execution_count": 11,
     "metadata": {},
     "output_type": "execute_result"
    }
   ],
   "source": [
    "data['children'].unique()   # ваш код здесь"
   ]
  },
  {
   "cell_type": "markdown",
   "id": "6b158b0c",
   "metadata": {
    "deletable": false,
    "editable": false,
    "id": "40b9ebf2",
    "tags": [
     "start_task"
    ]
   },
   "source": [
    "**Задание 9. В столбце `children` есть два аномальных значения. Удалите строки, в которых встречаются такие аномальные значения из датафрейма `data`.**"
   ]
  },
  {
   "cell_type": "code",
   "execution_count": 12,
   "id": "7cd455cc",
   "metadata": {
    "id": "3ff9801d"
   },
   "outputs": [],
   "source": [
    "data = data[(data['children']>-1) & (data['children']!=20)]\n"
   ]
  },
  {
   "cell_type": "markdown",
   "id": "49781da0",
   "metadata": {
    "deletable": false,
    "editable": false,
    "id": "bbc4d0ce",
    "tags": [
     "start_task"
    ]
   },
   "source": [
    "**Задание 10. Ещё раз выведите перечень уникальных значений столбца `children`, чтобы убедиться, что артефакты удалены.**"
   ]
  },
  {
   "cell_type": "code",
   "execution_count": 13,
   "id": "63819266",
   "metadata": {
    "id": "ad4fa8b7"
   },
   "outputs": [
    {
     "data": {
      "text/plain": [
       "array([1, 0, 3, 2, 4, 5])"
      ]
     },
     "execution_count": 13,
     "metadata": {},
     "output_type": "execute_result"
    }
   ],
   "source": [
    "data['children'].unique()"
   ]
  },
  {
   "cell_type": "markdown",
   "id": "702505ff",
   "metadata": {
    "deletable": false,
    "editable": false,
    "id": "75440b63"
   },
   "source": [
    "### Удаление пропусков (продолжение)"
   ]
  },
  {
   "cell_type": "markdown",
   "id": "db3c137c",
   "metadata": {
    "deletable": false,
    "editable": false,
    "id": "f4ea573f",
    "tags": [
     "start_task"
    ]
   },
   "source": [
    "**Задание 11. Заполните пропуски в столбце `days_employed` медианными значениями по каждому типу занятости `income_type`.**"
   ]
  },
  {
   "cell_type": "code",
   "execution_count": 14,
   "id": "4661da97",
   "metadata": {
    "id": "af6b1a7e"
   },
   "outputs": [],
   "source": [
    "for job in data['income_type'].unique():\n",
    "    data.loc[(data['income_type'] == job) & (data['days_employed'].isna()), 'days_employed'] = \\\n",
    "    data.loc[(data['income_type'] == job), 'days_employed'].median()                                     "
   ]
  },
  {
   "cell_type": "markdown",
   "id": "f8f9abca",
   "metadata": {
    "deletable": false,
    "editable": false,
    "id": "2753f40d",
    "tags": [
     "start_task"
    ]
   },
   "source": [
    "**Задание 12. Убедитесь, что все пропуски заполнены. Проверьте себя и ещё раз выведите количество пропущенных значений для каждого столбца с помощью двух методов.**"
   ]
  },
  {
   "cell_type": "code",
   "execution_count": 15,
   "id": "d01f9418",
   "metadata": {
    "id": "55f78bc2"
   },
   "outputs": [
    {
     "data": {
      "text/plain": [
       "children  days_employed  dob_years  education            education_id  family_status     family_status_id  gender  income_type  debt  total_income   purpose                               \n",
       "0         365286.622650  62         среднее              1             женат / замужем   0                 F       пенсионер    0     118514.486412  ремонт жилью                              3\n",
       "          1572.328285    47         среднее              1             женат / замужем   0                 F       сотрудник    0     142594.396847  ремонт жилью                              3\n",
       "1         1572.328285    44         среднее              1             женат / замужем   0                 F       сотрудник    0     142594.396847  сделка с подержанным автомобилем          2\n",
       "2         1572.328285    39         среднее              1             гражданский брак  1                 F       сотрудник    0     142594.396847  сыграть свадьбу                           2\n",
       "1         1555.947387    31         среднее              1             женат / замужем   0                 F       компаньон    0     172357.950966  покупка жилья                             2\n",
       "                                                                                                                                                                                              ..\n",
       "0         2514.864124    51         неоконченное высшее  2             вдовец / вдова    2                 F       сотрудник    0     128324.048065  сделка с подержанным автомобилем          1\n",
       "          2514.545359    28         высшее               0             гражданский брак  1                 F       сотрудник    0     226048.371053  свадьба                                   1\n",
       "          2513.265737    54         Среднее              1             женат / замужем   0                 F       сотрудник    0     115391.447117  покупка коммерческой недвижимости         1\n",
       "          2511.965711    50         среднее              1             гражданский брак  1                 F       сотрудник    0     257227.462061  строительство собственной недвижимости    1\n",
       "5         3248.839837    36         среднее              1             женат / замужем   0                 F       компаньон    0     168460.926969  операции с недвижимостью                  1\n",
       "Length: 21348, dtype: int64"
      ]
     },
     "execution_count": 15,
     "metadata": {},
     "output_type": "execute_result"
    }
   ],
   "source": [
    "data.value_counts()"
   ]
  },
  {
   "cell_type": "markdown",
   "id": "72c3ab60",
   "metadata": {
    "deletable": false,
    "editable": false,
    "id": "ddc81e43"
   },
   "source": [
    "### Изменение типов данных"
   ]
  },
  {
   "cell_type": "markdown",
   "id": "731ce8d0",
   "metadata": {
    "deletable": false,
    "editable": false,
    "id": "42d19d24",
    "tags": [
     "start_task"
    ]
   },
   "source": [
    "**Задание 13. Замените вещественный тип данных в столбце `total_income` на целочисленный с помощью метода `astype()`.**"
   ]
  },
  {
   "cell_type": "code",
   "execution_count": 16,
   "id": "f4b45391",
   "metadata": {
    "id": "920b65ad"
   },
   "outputs": [],
   "source": [
    "data['total_income'] = data['total_income'].astype(int)# ваш код здесь"
   ]
  },
  {
   "cell_type": "markdown",
   "id": "480cc5ee",
   "metadata": {
    "deletable": false,
    "editable": false,
    "id": "80c420ba"
   },
   "source": [
    "### Обработка дубликатов"
   ]
  },
  {
   "cell_type": "markdown",
   "id": "e342a427",
   "metadata": {
    "deletable": false,
    "editable": false,
    "tags": [
     "start_task"
    ]
   },
   "source": [
    "**Задание 14. Обработайте неявные дубликаты в столбце `education`. В этом столбце есть одни и те же значения, но записанные по-разному: с использованием заглавных и строчных букв. Приведите их к нижнему регистру. Проверьте остальные столбцы.**"
   ]
  },
  {
   "cell_type": "code",
   "execution_count": 17,
   "id": "63c21c3e",
   "metadata": {},
   "outputs": [],
   "source": [
    "data['education']=data['education'].str.lower()"
   ]
  },
  {
   "cell_type": "markdown",
   "id": "5c5ea7ed",
   "metadata": {
    "deletable": false,
    "editable": false,
    "id": "dc587695",
    "tags": [
     "start_task"
    ]
   },
   "source": [
    "**Задание 15. Выведите на экран количество строк-дубликатов в данных. Если такие строки присутствуют, удалите их.**"
   ]
  },
  {
   "cell_type": "code",
   "execution_count": 18,
   "id": "34d07fe1",
   "metadata": {
    "id": "3ee445e4"
   },
   "outputs": [
    {
     "data": {
      "text/plain": [
       "71"
      ]
     },
     "execution_count": 18,
     "metadata": {},
     "output_type": "execute_result"
    }
   ],
   "source": [
    "data.duplicated().sum()"
   ]
  },
  {
   "cell_type": "code",
   "execution_count": 19,
   "id": "8e24fa64",
   "metadata": {
    "id": "8575fe05"
   },
   "outputs": [],
   "source": [
    "data=data.drop_duplicates().reset_index(drop=True)"
   ]
  },
  {
   "cell_type": "markdown",
   "id": "00f8d8f5",
   "metadata": {
    "deletable": false,
    "editable": false,
    "id": "9904cf55"
   },
   "source": [
    "### Категоризация данных"
   ]
  },
  {
   "cell_type": "markdown",
   "id": "ff7ce418",
   "metadata": {
    "deletable": false,
    "editable": false,
    "id": "72fcc8a2",
    "tags": [
     "start_task"
    ]
   },
   "source": [
    "**Задание 16. На основании диапазонов, указанных ниже, создайте в датафрейме `data` столбец `total_income_category` с категориями:**\n",
    "\n",
    "- 0–30000 — `'E'`;\n",
    "- 30001–50000 — `'D'`;\n",
    "- 50001–200000 — `'C'`;\n",
    "- 200001–1000000 — `'B'`;\n",
    "- 1000001 и выше — `'A'`.\n",
    "\n",
    "\n",
    "**Например, кредитополучателю с доходом 25000 нужно назначить категорию `'E'`, а клиенту, получающему 235000, — `'B'`. Используйте собственную функцию с именем `categorize_income()` и метод `apply()`.**"
   ]
  },
  {
   "cell_type": "code",
   "execution_count": 20,
   "id": "2c927e7c",
   "metadata": {
    "id": "e1771346"
   },
   "outputs": [],
   "source": [
    "def categorize_income(total_income):\n",
    "    if total_income >=0 and total_income <=30000:\n",
    "        return 'E'\n",
    "    if total_income >= 30001 and total_income <= 50000:\n",
    "        return 'D'\n",
    "    if total_income >=50001 and total_income <= 200000:\n",
    "        return 'C'\n",
    "    if total_income >= 200001 and total_income <= 1000000:\n",
    "        return 'B'\n",
    "    return 'A'\n",
    "    \n"
   ]
  },
  {
   "cell_type": "code",
   "execution_count": 21,
   "id": "74ade22a",
   "metadata": {
    "id": "d5f3586d"
   },
   "outputs": [],
   "source": [
    "data['total_income_category'] = data['total_income'].apply(categorize_income) # примените функцию методом apply()"
   ]
  },
  {
   "cell_type": "markdown",
   "id": "e65648e0",
   "metadata": {
    "deletable": false,
    "editable": false,
    "id": "dde49b5c",
    "tags": [
     "start_task"
    ]
   },
   "source": [
    "**Задание 17. Выведите на экран перечень уникальных целей взятия кредита из столбца `purpose`.**"
   ]
  },
  {
   "cell_type": "code",
   "execution_count": 22,
   "id": "1d4eb9c3",
   "metadata": {
    "id": "f67ce9b3"
   },
   "outputs": [
    {
     "data": {
      "text/plain": [
       "array(['покупка жилья', 'приобретение автомобиля',\n",
       "       'дополнительное образование', 'сыграть свадьбу',\n",
       "       'операции с жильем', 'образование', 'на проведение свадьбы',\n",
       "       'покупка жилья для семьи', 'покупка недвижимости',\n",
       "       'покупка коммерческой недвижимости', 'покупка жилой недвижимости',\n",
       "       'строительство собственной недвижимости', 'недвижимость',\n",
       "       'строительство недвижимости', 'на покупку подержанного автомобиля',\n",
       "       'на покупку своего автомобиля',\n",
       "       'операции с коммерческой недвижимостью',\n",
       "       'строительство жилой недвижимости', 'жилье',\n",
       "       'операции со своей недвижимостью', 'автомобили',\n",
       "       'заняться образованием', 'сделка с подержанным автомобилем',\n",
       "       'получение образования', 'автомобиль', 'свадьба',\n",
       "       'получение дополнительного образования', 'покупка своего жилья',\n",
       "       'операции с недвижимостью', 'получение высшего образования',\n",
       "       'свой автомобиль', 'сделка с автомобилем',\n",
       "       'профильное образование', 'высшее образование',\n",
       "       'покупка жилья для сдачи', 'на покупку автомобиля', 'ремонт жилью',\n",
       "       'заняться высшим образованием'], dtype=object)"
      ]
     },
     "execution_count": 22,
     "metadata": {},
     "output_type": "execute_result"
    }
   ],
   "source": [
    "data['purpose'].unique()# ваш код здесь"
   ]
  },
  {
   "cell_type": "markdown",
   "id": "47af852a",
   "metadata": {
    "deletable": false,
    "editable": false,
    "id": "85d0aef0",
    "tags": [
     "start_task"
    ]
   },
   "source": [
    "**Задание 18. Создайте функцию, которая на основании данных из столбца `purpose` сформирует новый столбец `purpose_category`, в который войдут следующие категории:**\n",
    "\n",
    "- `'операции с автомобилем'`,\n",
    "- `'операции с недвижимостью'`,\n",
    "- `'проведение свадьбы'`,\n",
    "- `'получение образования'`.\n",
    "\n",
    "**Например, если в столбце `purpose` находится подстрока `'на покупку автомобиля'`, то в столбце `purpose_category` должна появиться строка `'операции с автомобилем'`.**\n",
    "\n",
    "**Используйте собственную функцию с именем `categorize_purpose()` и метод `apply()`. Изучите данные в столбце `purpose` и определите, какие подстроки помогут вам правильно определить категорию.**"
   ]
  },
  {
   "cell_type": "code",
   "execution_count": 30,
   "id": "a2ef7cd4",
   "metadata": {
    "id": "e149fab4"
   },
   "outputs": [],
   "source": [
    "def categorize_purpose(purpose):\n",
    "    \n",
    "    if  'авто' in purpose:\n",
    "        return 'операции с автомобилем'\n",
    "    if  'недвиж'    in purpose:\n",
    "        return 'операции с недвижимостью'\n",
    "    \n",
    "    if  'свад' in purpose:\n",
    "        return 'проведение свадьбы'\n",
    "    if  'образ' in purpose:\n",
    "        return 'получение образования'"
   ]
  },
  {
   "cell_type": "code",
   "execution_count": 31,
   "id": "46b87049",
   "metadata": {
    "id": "bf36e69b"
   },
   "outputs": [
    {
     "name": "stdout",
     "output_type": "stream",
     "text": [
      "0                         покупка жилья\n",
      "1               приобретение автомобиля\n",
      "2                         покупка жилья\n",
      "3            дополнительное образование\n",
      "4                       сыграть свадьбу\n",
      "5                         покупка жилья\n",
      "6                     операции с жильем\n",
      "7                           образование\n",
      "8                 на проведение свадьбы\n",
      "9               покупка жилья для семьи\n",
      "10                 покупка недвижимости\n",
      "11    покупка коммерческой недвижимости\n",
      "12                      сыграть свадьбу\n",
      "13              приобретение автомобиля\n",
      "14           покупка жилой недвижимости\n",
      "Name: purpose, dtype: object\n",
      "\n",
      "0                         None\n",
      "1       операции с автомобилем\n",
      "2                         None\n",
      "3        получение образования\n",
      "4           проведение свадьбы\n",
      "5                         None\n",
      "6                         None\n",
      "7        получение образования\n",
      "8           проведение свадьбы\n",
      "9                         None\n",
      "10    операции с недвижимостью\n",
      "11    операции с недвижимостью\n",
      "12          проведение свадьбы\n",
      "13      операции с автомобилем\n",
      "14    операции с недвижимостью\n",
      "Name: purpose_category, dtype: object\n"
     ]
    }
   ],
   "source": [
    "data['purpose_category'] = data['purpose'].apply(categorize_purpose)\n",
    "print(data['purpose'].head(15))\n",
    "print()\n",
    "print(data['purpose_category'].head(15))# примените функцию методом apply()"
   ]
  },
  {
   "cell_type": "code",
   "execution_count": null,
   "id": "98be1607",
   "metadata": {},
   "outputs": [],
   "source": []
  }
 ],
 "metadata": {
  "ExecuteTimeLog": [
   {
    "duration": 47,
    "start_time": "2022-09-11T07:50:56.992Z"
   },
   {
    "duration": 340,
    "start_time": "2022-09-11T07:51:03.522Z"
   },
   {
    "duration": 129,
    "start_time": "2022-09-11T07:51:08.060Z"
   },
   {
    "duration": 9,
    "start_time": "2022-09-11T07:51:12.946Z"
   },
   {
    "duration": 16,
    "start_time": "2022-09-11T07:51:40.225Z"
   },
   {
    "duration": 15,
    "start_time": "2022-09-11T07:56:53.378Z"
   },
   {
    "duration": 26,
    "start_time": "2022-09-11T08:01:49.894Z"
   },
   {
    "duration": 14,
    "start_time": "2022-09-11T08:02:02.801Z"
   },
   {
    "duration": 8,
    "start_time": "2022-09-11T08:02:38.273Z"
   },
   {
    "duration": 12,
    "start_time": "2022-09-11T08:08:44.798Z"
   },
   {
    "duration": 12,
    "start_time": "2022-09-11T08:09:07.726Z"
   },
   {
    "duration": 9,
    "start_time": "2022-09-11T08:31:40.255Z"
   },
   {
    "duration": 10,
    "start_time": "2022-09-11T08:31:48.533Z"
   },
   {
    "duration": 12,
    "start_time": "2022-09-11T08:33:00.555Z"
   },
   {
    "duration": 10,
    "start_time": "2022-09-11T08:33:01.627Z"
   },
   {
    "duration": 9,
    "start_time": "2022-09-11T08:33:02.604Z"
   },
   {
    "duration": 10,
    "start_time": "2022-09-11T08:33:04.112Z"
   },
   {
    "duration": 10,
    "start_time": "2022-09-11T08:33:04.983Z"
   },
   {
    "duration": 9,
    "start_time": "2022-09-11T08:33:05.983Z"
   },
   {
    "duration": 9,
    "start_time": "2022-09-11T08:33:19.337Z"
   },
   {
    "duration": 10,
    "start_time": "2022-09-11T08:33:20.028Z"
   },
   {
    "duration": 10,
    "start_time": "2022-09-11T08:33:31.090Z"
   },
   {
    "duration": 11,
    "start_time": "2022-09-11T08:33:31.667Z"
   },
   {
    "duration": 11,
    "start_time": "2022-09-11T08:33:32.408Z"
   },
   {
    "duration": 9,
    "start_time": "2022-09-11T08:33:49.812Z"
   },
   {
    "duration": 0,
    "start_time": "2022-09-11T08:34:49.221Z"
   },
   {
    "duration": 42,
    "start_time": "2022-09-11T08:52:01.568Z"
   },
   {
    "duration": 5,
    "start_time": "2022-09-11T08:52:46.290Z"
   },
   {
    "duration": 319,
    "start_time": "2022-09-11T08:52:52.311Z"
   },
   {
    "duration": 77,
    "start_time": "2022-09-11T08:52:54.891Z"
   },
   {
    "duration": 11,
    "start_time": "2022-09-11T08:52:57.790Z"
   },
   {
    "duration": 14,
    "start_time": "2022-09-11T08:53:03.147Z"
   },
   {
    "duration": 8,
    "start_time": "2022-09-11T08:53:08.248Z"
   },
   {
    "duration": 10,
    "start_time": "2022-09-11T08:53:11.988Z"
   },
   {
    "duration": 9,
    "start_time": "2022-09-11T11:22:32.026Z"
   },
   {
    "duration": 69,
    "start_time": "2022-09-11T11:22:59.860Z"
   },
   {
    "duration": 75,
    "start_time": "2022-09-11T11:23:09.457Z"
   },
   {
    "duration": 73,
    "start_time": "2022-09-11T11:23:36.243Z"
   },
   {
    "duration": 106,
    "start_time": "2022-09-11T11:24:16.674Z"
   },
   {
    "duration": 4,
    "start_time": "2022-09-11T11:24:25.610Z"
   },
   {
    "duration": 169,
    "start_time": "2022-09-11T11:25:18.738Z"
   },
   {
    "duration": 97,
    "start_time": "2022-09-11T11:25:33.083Z"
   },
   {
    "duration": 186,
    "start_time": "2022-09-11T11:25:39.958Z"
   },
   {
    "duration": 147,
    "start_time": "2022-09-11T11:25:45.334Z"
   },
   {
    "duration": 228,
    "start_time": "2022-09-11T11:25:50.665Z"
   },
   {
    "duration": 81,
    "start_time": "2022-09-11T11:26:13.203Z"
   },
   {
    "duration": 99,
    "start_time": "2022-09-11T11:26:19.361Z"
   },
   {
    "duration": 45,
    "start_time": "2022-09-11T11:32:33.373Z"
   },
   {
    "duration": 421,
    "start_time": "2022-09-11T11:32:51.458Z"
   },
   {
    "duration": 125,
    "start_time": "2022-09-11T11:32:52.843Z"
   },
   {
    "duration": 14,
    "start_time": "2022-09-11T11:32:54.494Z"
   },
   {
    "duration": 17,
    "start_time": "2022-09-11T11:32:55.536Z"
   },
   {
    "duration": 9,
    "start_time": "2022-09-11T11:32:59.225Z"
   },
   {
    "duration": 13,
    "start_time": "2022-09-11T11:33:02.934Z"
   },
   {
    "duration": 33,
    "start_time": "2022-09-11T11:38:02.573Z"
   },
   {
    "duration": 32,
    "start_time": "2022-09-11T11:38:07.582Z"
   },
   {
    "duration": 37,
    "start_time": "2022-09-11T11:38:11.544Z"
   },
   {
    "duration": 33,
    "start_time": "2022-09-11T11:39:32.301Z"
   },
   {
    "duration": 35,
    "start_time": "2022-09-11T11:39:35.578Z"
   },
   {
    "duration": 3,
    "start_time": "2022-09-11T11:43:58.977Z"
   },
   {
    "duration": 67,
    "start_time": "2022-09-11T11:44:00.390Z"
   },
   {
    "duration": 11,
    "start_time": "2022-09-11T11:44:01.519Z"
   },
   {
    "duration": 15,
    "start_time": "2022-09-11T11:44:02.803Z"
   },
   {
    "duration": 9,
    "start_time": "2022-09-11T11:44:06.929Z"
   },
   {
    "duration": 31,
    "start_time": "2022-09-11T11:44:10.617Z"
   },
   {
    "duration": 43,
    "start_time": "2022-09-13T08:40:06.895Z"
   },
   {
    "duration": 360,
    "start_time": "2022-09-13T08:40:14.943Z"
   },
   {
    "duration": 118,
    "start_time": "2022-09-13T08:40:15.873Z"
   },
   {
    "duration": 9,
    "start_time": "2022-09-13T08:40:17.581Z"
   },
   {
    "duration": 8,
    "start_time": "2022-09-13T08:40:20.206Z"
   },
   {
    "duration": 22,
    "start_time": "2022-09-13T08:40:23.567Z"
   },
   {
    "duration": 10,
    "start_time": "2022-09-13T08:40:26.958Z"
   },
   {
    "duration": 32,
    "start_time": "2022-09-13T08:40:30.582Z"
   },
   {
    "duration": 15,
    "start_time": "2022-09-13T08:40:34.786Z"
   },
   {
    "duration": 49,
    "start_time": "2022-09-13T08:46:06.150Z"
   },
   {
    "duration": 31,
    "start_time": "2022-09-13T08:46:08.214Z"
   },
   {
    "duration": 30,
    "start_time": "2022-09-13T08:46:11.428Z"
   },
   {
    "duration": 27,
    "start_time": "2022-09-13T08:46:13.945Z"
   },
   {
    "duration": 8,
    "start_time": "2022-09-13T08:50:01.323Z"
   },
   {
    "duration": 91,
    "start_time": "2022-09-13T08:50:49.852Z"
   },
   {
    "duration": 126,
    "start_time": "2022-09-13T08:50:57.011Z"
   },
   {
    "duration": 5,
    "start_time": "2022-09-13T08:51:06.924Z"
   },
   {
    "duration": 40,
    "start_time": "2022-09-13T08:57:24.188Z"
   },
   {
    "duration": 8,
    "start_time": "2022-09-13T08:57:31.799Z"
   },
   {
    "duration": 8,
    "start_time": "2022-09-13T08:57:37.310Z"
   },
   {
    "duration": 36,
    "start_time": "2022-09-13T08:57:46.533Z"
   },
   {
    "duration": 24,
    "start_time": "2022-09-13T08:58:22.821Z"
   },
   {
    "duration": 30,
    "start_time": "2022-09-13T08:58:26.187Z"
   },
   {
    "duration": 12,
    "start_time": "2022-09-13T08:59:38.567Z"
   },
   {
    "duration": 11,
    "start_time": "2022-09-13T08:59:41.205Z"
   },
   {
    "duration": 13,
    "start_time": "2022-09-13T08:59:43.405Z"
   },
   {
    "duration": 5,
    "start_time": "2022-09-13T09:00:33.872Z"
   },
   {
    "duration": 5,
    "start_time": "2022-09-13T09:01:42.820Z"
   },
   {
    "duration": 4,
    "start_time": "2022-09-13T09:06:50.039Z"
   },
   {
    "duration": 108,
    "start_time": "2022-09-13T09:08:00.719Z"
   },
   {
    "duration": 627,
    "start_time": "2022-09-13T09:08:19.068Z"
   },
   {
    "duration": 698,
    "start_time": "2022-09-13T09:08:38.204Z"
   },
   {
    "duration": 811,
    "start_time": "2022-09-13T09:09:24.459Z"
   },
   {
    "duration": 20,
    "start_time": "2022-09-13T09:23:34.848Z"
   },
   {
    "duration": 23,
    "start_time": "2022-09-13T09:23:59.527Z"
   },
   {
    "duration": 22,
    "start_time": "2022-09-13T09:24:00.405Z"
   },
   {
    "duration": 6,
    "start_time": "2022-09-13T09:24:05.139Z"
   },
   {
    "duration": 23,
    "start_time": "2022-09-13T09:24:08.533Z"
   },
   {
    "duration": 20,
    "start_time": "2022-09-13T09:24:11.197Z"
   },
   {
    "duration": 21,
    "start_time": "2022-09-13T09:24:22.835Z"
   },
   {
    "duration": 29,
    "start_time": "2022-09-13T09:25:02.940Z"
   },
   {
    "duration": 6,
    "start_time": "2022-09-13T09:26:06.811Z"
   },
   {
    "duration": 4,
    "start_time": "2022-09-13T09:26:35.530Z"
   },
   {
    "duration": 5,
    "start_time": "2022-09-13T09:29:35.130Z"
   },
   {
    "duration": 8,
    "start_time": "2022-09-13T09:30:18.631Z"
   },
   {
    "duration": 8,
    "start_time": "2022-09-13T09:30:35.393Z"
   },
   {
    "duration": 7,
    "start_time": "2022-09-13T09:32:03.906Z"
   },
   {
    "duration": 7,
    "start_time": "2022-09-13T09:32:05.091Z"
   },
   {
    "duration": 15,
    "start_time": "2022-09-13T09:41:13.139Z"
   },
   {
    "duration": 12,
    "start_time": "2022-09-13T09:41:17.082Z"
   },
   {
    "duration": 13,
    "start_time": "2022-09-13T09:41:23.944Z"
   },
   {
    "duration": 12,
    "start_time": "2022-09-13T09:41:31.248Z"
   },
   {
    "duration": 97,
    "start_time": "2022-09-13T09:43:06.943Z"
   },
   {
    "duration": 9,
    "start_time": "2022-09-13T09:43:10.827Z"
   },
   {
    "duration": 14,
    "start_time": "2022-09-13T09:44:37.321Z"
   },
   {
    "duration": 12,
    "start_time": "2022-09-13T09:47:48.206Z"
   },
   {
    "duration": 6,
    "start_time": "2022-09-13T10:02:53.318Z"
   },
   {
    "duration": 7,
    "start_time": "2022-09-13T10:03:34.399Z"
   },
   {
    "duration": 3,
    "start_time": "2022-09-13T10:10:49.811Z"
   },
   {
    "duration": 6,
    "start_time": "2022-09-13T10:10:55.551Z"
   },
   {
    "duration": 373,
    "start_time": "2022-09-13T10:12:08.996Z"
   },
   {
    "duration": 288,
    "start_time": "2022-09-13T10:12:48.127Z"
   },
   {
    "duration": 6,
    "start_time": "2022-09-13T10:14:59.639Z"
   },
   {
    "duration": 6,
    "start_time": "2022-09-13T10:15:01.677Z"
   },
   {
    "duration": 6,
    "start_time": "2022-09-13T10:15:07.371Z"
   },
   {
    "duration": 5,
    "start_time": "2022-09-13T10:19:41.883Z"
   },
   {
    "duration": 77,
    "start_time": "2022-09-13T10:29:22.659Z"
   },
   {
    "duration": 3,
    "start_time": "2022-09-13T10:31:04.750Z"
   },
   {
    "duration": 394,
    "start_time": "2022-09-13T11:02:50.198Z"
   },
   {
    "duration": 341,
    "start_time": "2022-09-13T11:03:22.357Z"
   },
   {
    "duration": 372,
    "start_time": "2022-09-13T11:03:29.157Z"
   },
   {
    "duration": 301,
    "start_time": "2022-09-13T11:09:39.713Z"
   },
   {
    "duration": 358,
    "start_time": "2022-09-13T11:09:45.407Z"
   },
   {
    "duration": 3,
    "start_time": "2022-09-13T11:09:48.272Z"
   },
   {
    "duration": 9,
    "start_time": "2022-09-13T11:09:51.744Z"
   },
   {
    "duration": 8,
    "start_time": "2022-09-13T11:10:59.193Z"
   },
   {
    "duration": 11,
    "start_time": "2022-09-13T11:27:21.294Z"
   },
   {
    "duration": 3,
    "start_time": "2022-09-13T11:28:14.569Z"
   },
   {
    "duration": 8,
    "start_time": "2022-09-13T11:28:16.695Z"
   },
   {
    "duration": 8,
    "start_time": "2022-09-13T11:29:00.154Z"
   },
   {
    "duration": 11,
    "start_time": "2022-09-13T11:29:39.291Z"
   },
   {
    "duration": 7,
    "start_time": "2022-09-13T11:29:45.151Z"
   },
   {
    "duration": 7,
    "start_time": "2022-09-13T11:29:59.201Z"
   },
   {
    "duration": 9,
    "start_time": "2022-09-13T11:30:21.999Z"
   },
   {
    "duration": 1253,
    "start_time": "2022-09-13T11:30:45.281Z"
   },
   {
    "duration": 685,
    "start_time": "2022-09-13T11:31:00.718Z"
   },
   {
    "duration": 1109,
    "start_time": "2022-09-13T11:31:16.185Z"
   },
   {
    "duration": 1256,
    "start_time": "2022-09-13T11:31:25.249Z"
   },
   {
    "duration": 9,
    "start_time": "2022-09-13T11:31:32.093Z"
   },
   {
    "duration": 8,
    "start_time": "2022-09-13T11:32:05.349Z"
   },
   {
    "duration": 164,
    "start_time": "2022-09-13T11:32:29.970Z"
   },
   {
    "duration": 3,
    "start_time": "2022-09-13T11:32:42.661Z"
   },
   {
    "duration": 3,
    "start_time": "2022-09-13T11:32:46.695Z"
   },
   {
    "duration": 8,
    "start_time": "2022-09-13T11:32:49.748Z"
   },
   {
    "duration": 6,
    "start_time": "2022-09-13T11:33:51.250Z"
   },
   {
    "duration": 5,
    "start_time": "2022-09-13T11:33:57.447Z"
   },
   {
    "duration": 7,
    "start_time": "2022-09-13T11:34:22.912Z"
   },
   {
    "duration": 7,
    "start_time": "2022-09-13T11:35:03.088Z"
   },
   {
    "duration": 7,
    "start_time": "2022-09-13T11:35:20.585Z"
   },
   {
    "duration": 3,
    "start_time": "2022-09-13T11:35:24.269Z"
   },
   {
    "duration": 3,
    "start_time": "2022-09-13T11:35:26.481Z"
   },
   {
    "duration": 2,
    "start_time": "2022-09-13T11:35:37.625Z"
   },
   {
    "duration": 3,
    "start_time": "2022-09-13T11:35:39.507Z"
   },
   {
    "duration": 8,
    "start_time": "2022-09-13T11:35:40.715Z"
   },
   {
    "duration": 8,
    "start_time": "2022-09-13T11:36:01.480Z"
   },
   {
    "duration": 3,
    "start_time": "2022-09-13T11:36:32.450Z"
   },
   {
    "duration": 3,
    "start_time": "2022-09-13T11:36:34.341Z"
   },
   {
    "duration": 8,
    "start_time": "2022-09-13T11:36:36.321Z"
   },
   {
    "duration": 3,
    "start_time": "2022-09-13T11:37:03.577Z"
   },
   {
    "duration": 8,
    "start_time": "2022-09-13T11:37:07.695Z"
   },
   {
    "duration": 11,
    "start_time": "2022-09-13T11:37:25.255Z"
   },
   {
    "duration": 8,
    "start_time": "2022-09-13T11:37:46.553Z"
   },
   {
    "duration": 8,
    "start_time": "2022-09-13T11:38:02.212Z"
   },
   {
    "duration": 3,
    "start_time": "2022-09-13T11:38:58.655Z"
   },
   {
    "duration": 8,
    "start_time": "2022-09-13T11:39:01.547Z"
   },
   {
    "duration": 8,
    "start_time": "2022-09-13T17:16:56.089Z"
   },
   {
    "duration": 53,
    "start_time": "2022-09-13T17:17:00.587Z"
   },
   {
    "duration": 438,
    "start_time": "2022-09-13T17:17:08.254Z"
   },
   {
    "duration": 298,
    "start_time": "2022-09-13T17:17:09.091Z"
   },
   {
    "duration": 13,
    "start_time": "2022-09-13T17:17:09.419Z"
   },
   {
    "duration": 15,
    "start_time": "2022-09-13T17:17:09.746Z"
   },
   {
    "duration": 8,
    "start_time": "2022-09-13T17:17:10.391Z"
   },
   {
    "duration": 35,
    "start_time": "2022-09-13T17:17:10.749Z"
   },
   {
    "duration": 3,
    "start_time": "2022-09-13T17:17:11.521Z"
   },
   {
    "duration": 13,
    "start_time": "2022-09-13T17:17:12.294Z"
   },
   {
    "duration": 5,
    "start_time": "2022-09-13T17:17:12.864Z"
   },
   {
    "duration": 7,
    "start_time": "2022-09-13T17:17:13.229Z"
   },
   {
    "duration": 5,
    "start_time": "2022-09-13T17:17:14.124Z"
   },
   {
    "duration": 31,
    "start_time": "2022-09-13T17:17:15.587Z"
   },
   {
    "duration": 42,
    "start_time": "2022-09-13T17:17:17.193Z"
   },
   {
    "duration": 4,
    "start_time": "2022-09-13T17:17:18.789Z"
   },
   {
    "duration": 11,
    "start_time": "2022-09-13T17:17:20.312Z"
   },
   {
    "duration": 19,
    "start_time": "2022-09-13T17:17:22.451Z"
   },
   {
    "duration": 20,
    "start_time": "2022-09-13T17:17:27.789Z"
   },
   {
    "duration": 3,
    "start_time": "2022-09-13T17:17:30.310Z"
   },
   {
    "duration": 10,
    "start_time": "2022-09-13T17:17:36.024Z"
   },
   {
    "duration": 6,
    "start_time": "2022-09-13T17:17:37.622Z"
   },
   {
    "duration": 3,
    "start_time": "2022-09-13T17:17:40.990Z"
   },
   {
    "duration": 10,
    "start_time": "2022-09-13T17:17:42.332Z"
   },
   {
    "duration": 4,
    "start_time": "2022-09-13T17:18:12.956Z"
   },
   {
    "duration": 10,
    "start_time": "2022-09-13T17:18:15.905Z"
   },
   {
    "duration": 3,
    "start_time": "2022-09-13T17:18:46.880Z"
   },
   {
    "duration": 9,
    "start_time": "2022-09-13T17:18:48.725Z"
   },
   {
    "duration": 4,
    "start_time": "2022-09-13T17:19:00.465Z"
   },
   {
    "duration": 3,
    "start_time": "2022-09-13T17:19:05.427Z"
   },
   {
    "duration": 10,
    "start_time": "2022-09-13T17:19:06.191Z"
   }
  ],
  "colab": {
   "name": "dpp_template_part1.ipynb",
   "provenance": []
  },
  "kernelspec": {
   "display_name": "Python 3 (ipykernel)",
   "language": "python",
   "name": "python3"
  },
  "language_info": {
   "codemirror_mode": {
    "name": "ipython",
    "version": 3
   },
   "file_extension": ".py",
   "mimetype": "text/x-python",
   "name": "python",
   "nbconvert_exporter": "python",
   "pygments_lexer": "ipython3",
   "version": "3.9.5"
  },
  "toc": {
   "base_numbering": 1,
   "nav_menu": {},
   "number_sections": true,
   "sideBar": true,
   "skip_h1_title": true,
   "title_cell": "Table of Contents",
   "title_sidebar": "Contents",
   "toc_cell": false,
   "toc_position": {},
   "toc_section_display": true,
   "toc_window_display": false
  }
 },
 "nbformat": 4,
 "nbformat_minor": 5
}
