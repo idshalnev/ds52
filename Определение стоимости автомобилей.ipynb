{
  "cells": [
    {
      "cell_type": "markdown",
      "metadata": {
        "id": "RjWJ0aTo5FBQ"
      },
      "source": [
        "# Определение стоимости автомобилей"
      ]
    },
    {
      "cell_type": "markdown",
      "metadata": {
        "id": "HmbSZ4w75FBQ"
      },
      "source": [
        "Сервис по продаже автомобилей с пробегом «Не бит, не крашен» разрабатывает приложение для привлечения новых клиентов. В нём можно быстро узнать рыночную стоимость своего автомобиля. В вашем распоряжении исторические данные: технические характеристики, комплектации и цены автомобилей. Вам нужно построить модель для определения стоимости.\n",
        "\n",
        "Заказчику важны:\n",
        "\n",
        "- качество предсказания;\n",
        "- скорость предсказания;\n",
        "- время обучения."
      ]
    },
    {
      "cell_type": "markdown",
      "metadata": {
        "id": "aJFuowPo5FBR"
      },
      "source": [
        "<h1>Содержание<span class=\"tocSkip\"></span></h1>\n",
        "<div class=\"toc\"><ul class=\"toc-item\"><li><span><a href=\"#Подготовка-данных\" data-toc-modified-id=\"Подготовка-данных-1\"><span class=\"toc-item-num\">1&nbsp;&nbsp;</span>Подготовка данных</a></span></li><li><span><a href=\"#Обучение-моделей\" data-toc-modified-id=\"Обучение-моделей-2\"><span class=\"toc-item-num\">2&nbsp;&nbsp;</span>Обучение моделей</a></span></li><li><span><a href=\"#Анализ-моделей\" data-toc-modified-id=\"Анализ-моделей-3\"><span class=\"toc-item-num\">3&nbsp;&nbsp;</span>Анализ моделей</a></span></li><li><span><a href=\"#Чек-лист-проверки\" data-toc-modified-id=\"Чек-лист-проверки-4\"><span class=\"toc-item-num\">4&nbsp;&nbsp;</span>Чек-лист проверки</a></span></li></ul></div>"
      ]
    },
    {
      "cell_type": "markdown",
      "metadata": {
        "id": "eNiOk8675FBR"
      },
      "source": [
        "## Подготовка данных"
      ]
    },
    {
      "cell_type": "code",
      "execution_count": null,
      "metadata": {
        "id": "Pd0r1TRo5FBR"
      },
      "outputs": [],
      "source": [
        "import pandas as pd\n",
        "import numpy as np\n",
        "import seaborn as sns\n",
        "import matplotlib.pyplot as plt\n",
        "from sklearn.preprocessing import OrdinalEncoder\n",
        "from sklearn.model_selection import GridSearchCV\n",
        "from sklearn.model_selection import KFold\n",
        "from sklearn.model_selection import train_test_split\n",
        "from sklearn.model_selection import cross_val_score\n",
        "from sklearn.ensemble import RandomForestRegressor\n",
        "from lightgbm import LGBMRegressor\n",
        "import lightgbm as lgbm\n",
        "import time\n",
        "from catboost import CatBoostRegressor\n",
        "from sklearn.metrics import mean_squared_error as mse"
      ]
    },
    {
      "cell_type": "code",
      "execution_count": null,
      "metadata": {
        "id": "CuNuT2YD5FBS"
      },
      "outputs": [],
      "source": [
        "data = pd.read_csv('/datasets/autos.csv')"
      ]
    },
    {
      "cell_type": "code",
      "execution_count": null,
      "metadata": {
        "id": "ffCE9qNy5FBS",
        "outputId": "a69b1429-d026-46d1-e71b-d8a3374a0c90"
      },
      "outputs": [
        {
          "data": {
            "text/html": [
              "<div>\n",
              "<style scoped>\n",
              "    .dataframe tbody tr th:only-of-type {\n",
              "        vertical-align: middle;\n",
              "    }\n",
              "\n",
              "    .dataframe tbody tr th {\n",
              "        vertical-align: top;\n",
              "    }\n",
              "\n",
              "    .dataframe thead th {\n",
              "        text-align: right;\n",
              "    }\n",
              "</style>\n",
              "<table border=\"1\" class=\"dataframe\">\n",
              "  <thead>\n",
              "    <tr style=\"text-align: right;\">\n",
              "      <th></th>\n",
              "      <th>DateCrawled</th>\n",
              "      <th>Price</th>\n",
              "      <th>VehicleType</th>\n",
              "      <th>RegistrationYear</th>\n",
              "      <th>Gearbox</th>\n",
              "      <th>Power</th>\n",
              "      <th>Model</th>\n",
              "      <th>Kilometer</th>\n",
              "      <th>RegistrationMonth</th>\n",
              "      <th>FuelType</th>\n",
              "      <th>Brand</th>\n",
              "      <th>Repaired</th>\n",
              "      <th>DateCreated</th>\n",
              "      <th>NumberOfPictures</th>\n",
              "      <th>PostalCode</th>\n",
              "      <th>LastSeen</th>\n",
              "    </tr>\n",
              "  </thead>\n",
              "  <tbody>\n",
              "    <tr>\n",
              "      <th>0</th>\n",
              "      <td>2016-03-24 11:52:17</td>\n",
              "      <td>480</td>\n",
              "      <td>NaN</td>\n",
              "      <td>1993</td>\n",
              "      <td>manual</td>\n",
              "      <td>0</td>\n",
              "      <td>golf</td>\n",
              "      <td>150000</td>\n",
              "      <td>0</td>\n",
              "      <td>petrol</td>\n",
              "      <td>volkswagen</td>\n",
              "      <td>NaN</td>\n",
              "      <td>2016-03-24 00:00:00</td>\n",
              "      <td>0</td>\n",
              "      <td>70435</td>\n",
              "      <td>2016-04-07 03:16:57</td>\n",
              "    </tr>\n",
              "    <tr>\n",
              "      <th>1</th>\n",
              "      <td>2016-03-24 10:58:45</td>\n",
              "      <td>18300</td>\n",
              "      <td>coupe</td>\n",
              "      <td>2011</td>\n",
              "      <td>manual</td>\n",
              "      <td>190</td>\n",
              "      <td>NaN</td>\n",
              "      <td>125000</td>\n",
              "      <td>5</td>\n",
              "      <td>gasoline</td>\n",
              "      <td>audi</td>\n",
              "      <td>yes</td>\n",
              "      <td>2016-03-24 00:00:00</td>\n",
              "      <td>0</td>\n",
              "      <td>66954</td>\n",
              "      <td>2016-04-07 01:46:50</td>\n",
              "    </tr>\n",
              "    <tr>\n",
              "      <th>2</th>\n",
              "      <td>2016-03-14 12:52:21</td>\n",
              "      <td>9800</td>\n",
              "      <td>suv</td>\n",
              "      <td>2004</td>\n",
              "      <td>auto</td>\n",
              "      <td>163</td>\n",
              "      <td>grand</td>\n",
              "      <td>125000</td>\n",
              "      <td>8</td>\n",
              "      <td>gasoline</td>\n",
              "      <td>jeep</td>\n",
              "      <td>NaN</td>\n",
              "      <td>2016-03-14 00:00:00</td>\n",
              "      <td>0</td>\n",
              "      <td>90480</td>\n",
              "      <td>2016-04-05 12:47:46</td>\n",
              "    </tr>\n",
              "    <tr>\n",
              "      <th>3</th>\n",
              "      <td>2016-03-17 16:54:04</td>\n",
              "      <td>1500</td>\n",
              "      <td>small</td>\n",
              "      <td>2001</td>\n",
              "      <td>manual</td>\n",
              "      <td>75</td>\n",
              "      <td>golf</td>\n",
              "      <td>150000</td>\n",
              "      <td>6</td>\n",
              "      <td>petrol</td>\n",
              "      <td>volkswagen</td>\n",
              "      <td>no</td>\n",
              "      <td>2016-03-17 00:00:00</td>\n",
              "      <td>0</td>\n",
              "      <td>91074</td>\n",
              "      <td>2016-03-17 17:40:17</td>\n",
              "    </tr>\n",
              "    <tr>\n",
              "      <th>4</th>\n",
              "      <td>2016-03-31 17:25:20</td>\n",
              "      <td>3600</td>\n",
              "      <td>small</td>\n",
              "      <td>2008</td>\n",
              "      <td>manual</td>\n",
              "      <td>69</td>\n",
              "      <td>fabia</td>\n",
              "      <td>90000</td>\n",
              "      <td>7</td>\n",
              "      <td>gasoline</td>\n",
              "      <td>skoda</td>\n",
              "      <td>no</td>\n",
              "      <td>2016-03-31 00:00:00</td>\n",
              "      <td>0</td>\n",
              "      <td>60437</td>\n",
              "      <td>2016-04-06 10:17:21</td>\n",
              "    </tr>\n",
              "  </tbody>\n",
              "</table>\n",
              "</div>"
            ],
            "text/plain": [
              "           DateCrawled  Price VehicleType  RegistrationYear Gearbox  Power  \\\n",
              "0  2016-03-24 11:52:17    480         NaN              1993  manual      0   \n",
              "1  2016-03-24 10:58:45  18300       coupe              2011  manual    190   \n",
              "2  2016-03-14 12:52:21   9800         suv              2004    auto    163   \n",
              "3  2016-03-17 16:54:04   1500       small              2001  manual     75   \n",
              "4  2016-03-31 17:25:20   3600       small              2008  manual     69   \n",
              "\n",
              "   Model  Kilometer  RegistrationMonth  FuelType       Brand Repaired  \\\n",
              "0   golf     150000                  0    petrol  volkswagen      NaN   \n",
              "1    NaN     125000                  5  gasoline        audi      yes   \n",
              "2  grand     125000                  8  gasoline        jeep      NaN   \n",
              "3   golf     150000                  6    petrol  volkswagen       no   \n",
              "4  fabia      90000                  7  gasoline       skoda       no   \n",
              "\n",
              "           DateCreated  NumberOfPictures  PostalCode             LastSeen  \n",
              "0  2016-03-24 00:00:00                 0       70435  2016-04-07 03:16:57  \n",
              "1  2016-03-24 00:00:00                 0       66954  2016-04-07 01:46:50  \n",
              "2  2016-03-14 00:00:00                 0       90480  2016-04-05 12:47:46  \n",
              "3  2016-03-17 00:00:00                 0       91074  2016-03-17 17:40:17  \n",
              "4  2016-03-31 00:00:00                 0       60437  2016-04-06 10:17:21  "
            ]
          },
          "execution_count": 3,
          "metadata": {},
          "output_type": "execute_result"
        }
      ],
      "source": [
        "data.head()"
      ]
    },
    {
      "cell_type": "code",
      "execution_count": null,
      "metadata": {
        "id": "34VKs7uY5FBT",
        "outputId": "020d2057-4fc5-4176-eff4-de3e062be6f9"
      },
      "outputs": [
        {
          "name": "stdout",
          "output_type": "stream",
          "text": [
            "<class 'pandas.core.frame.DataFrame'>\n",
            "RangeIndex: 354369 entries, 0 to 354368\n",
            "Data columns (total 16 columns):\n",
            " #   Column             Non-Null Count   Dtype \n",
            "---  ------             --------------   ----- \n",
            " 0   DateCrawled        354369 non-null  object\n",
            " 1   Price              354369 non-null  int64 \n",
            " 2   VehicleType        316879 non-null  object\n",
            " 3   RegistrationYear   354369 non-null  int64 \n",
            " 4   Gearbox            334536 non-null  object\n",
            " 5   Power              354369 non-null  int64 \n",
            " 6   Model              334664 non-null  object\n",
            " 7   Kilometer          354369 non-null  int64 \n",
            " 8   RegistrationMonth  354369 non-null  int64 \n",
            " 9   FuelType           321474 non-null  object\n",
            " 10  Brand              354369 non-null  object\n",
            " 11  Repaired           283215 non-null  object\n",
            " 12  DateCreated        354369 non-null  object\n",
            " 13  NumberOfPictures   354369 non-null  int64 \n",
            " 14  PostalCode         354369 non-null  int64 \n",
            " 15  LastSeen           354369 non-null  object\n",
            "dtypes: int64(7), object(9)\n",
            "memory usage: 43.3+ MB\n"
          ]
        }
      ],
      "source": [
        "data.info()"
      ]
    },
    {
      "cell_type": "code",
      "execution_count": null,
      "metadata": {
        "id": "go_mypb65FBT",
        "outputId": "b91c796c-c510-4a0e-b5fd-5a61819cebf8"
      },
      "outputs": [
        {
          "data": {
            "text/html": [
              "<div>\n",
              "<style scoped>\n",
              "    .dataframe tbody tr th:only-of-type {\n",
              "        vertical-align: middle;\n",
              "    }\n",
              "\n",
              "    .dataframe tbody tr th {\n",
              "        vertical-align: top;\n",
              "    }\n",
              "\n",
              "    .dataframe thead th {\n",
              "        text-align: right;\n",
              "    }\n",
              "</style>\n",
              "<table border=\"1\" class=\"dataframe\">\n",
              "  <thead>\n",
              "    <tr style=\"text-align: right;\">\n",
              "      <th></th>\n",
              "      <th>Price</th>\n",
              "      <th>RegistrationYear</th>\n",
              "      <th>Power</th>\n",
              "      <th>Kilometer</th>\n",
              "      <th>RegistrationMonth</th>\n",
              "      <th>NumberOfPictures</th>\n",
              "      <th>PostalCode</th>\n",
              "    </tr>\n",
              "  </thead>\n",
              "  <tbody>\n",
              "    <tr>\n",
              "      <th>count</th>\n",
              "      <td>354369.000000</td>\n",
              "      <td>354369.000000</td>\n",
              "      <td>354369.000000</td>\n",
              "      <td>354369.000000</td>\n",
              "      <td>354369.000000</td>\n",
              "      <td>354369.0</td>\n",
              "      <td>354369.000000</td>\n",
              "    </tr>\n",
              "    <tr>\n",
              "      <th>mean</th>\n",
              "      <td>4416.656776</td>\n",
              "      <td>2004.234448</td>\n",
              "      <td>110.094337</td>\n",
              "      <td>128211.172535</td>\n",
              "      <td>5.714645</td>\n",
              "      <td>0.0</td>\n",
              "      <td>50508.689087</td>\n",
              "    </tr>\n",
              "    <tr>\n",
              "      <th>std</th>\n",
              "      <td>4514.158514</td>\n",
              "      <td>90.227958</td>\n",
              "      <td>189.850405</td>\n",
              "      <td>37905.341530</td>\n",
              "      <td>3.726421</td>\n",
              "      <td>0.0</td>\n",
              "      <td>25783.096248</td>\n",
              "    </tr>\n",
              "    <tr>\n",
              "      <th>min</th>\n",
              "      <td>0.000000</td>\n",
              "      <td>1000.000000</td>\n",
              "      <td>0.000000</td>\n",
              "      <td>5000.000000</td>\n",
              "      <td>0.000000</td>\n",
              "      <td>0.0</td>\n",
              "      <td>1067.000000</td>\n",
              "    </tr>\n",
              "    <tr>\n",
              "      <th>25%</th>\n",
              "      <td>1050.000000</td>\n",
              "      <td>1999.000000</td>\n",
              "      <td>69.000000</td>\n",
              "      <td>125000.000000</td>\n",
              "      <td>3.000000</td>\n",
              "      <td>0.0</td>\n",
              "      <td>30165.000000</td>\n",
              "    </tr>\n",
              "    <tr>\n",
              "      <th>50%</th>\n",
              "      <td>2700.000000</td>\n",
              "      <td>2003.000000</td>\n",
              "      <td>105.000000</td>\n",
              "      <td>150000.000000</td>\n",
              "      <td>6.000000</td>\n",
              "      <td>0.0</td>\n",
              "      <td>49413.000000</td>\n",
              "    </tr>\n",
              "    <tr>\n",
              "      <th>75%</th>\n",
              "      <td>6400.000000</td>\n",
              "      <td>2008.000000</td>\n",
              "      <td>143.000000</td>\n",
              "      <td>150000.000000</td>\n",
              "      <td>9.000000</td>\n",
              "      <td>0.0</td>\n",
              "      <td>71083.000000</td>\n",
              "    </tr>\n",
              "    <tr>\n",
              "      <th>max</th>\n",
              "      <td>20000.000000</td>\n",
              "      <td>9999.000000</td>\n",
              "      <td>20000.000000</td>\n",
              "      <td>150000.000000</td>\n",
              "      <td>12.000000</td>\n",
              "      <td>0.0</td>\n",
              "      <td>99998.000000</td>\n",
              "    </tr>\n",
              "  </tbody>\n",
              "</table>\n",
              "</div>"
            ],
            "text/plain": [
              "               Price  RegistrationYear          Power      Kilometer  \\\n",
              "count  354369.000000     354369.000000  354369.000000  354369.000000   \n",
              "mean     4416.656776       2004.234448     110.094337  128211.172535   \n",
              "std      4514.158514         90.227958     189.850405   37905.341530   \n",
              "min         0.000000       1000.000000       0.000000    5000.000000   \n",
              "25%      1050.000000       1999.000000      69.000000  125000.000000   \n",
              "50%      2700.000000       2003.000000     105.000000  150000.000000   \n",
              "75%      6400.000000       2008.000000     143.000000  150000.000000   \n",
              "max     20000.000000       9999.000000   20000.000000  150000.000000   \n",
              "\n",
              "       RegistrationMonth  NumberOfPictures     PostalCode  \n",
              "count      354369.000000          354369.0  354369.000000  \n",
              "mean            5.714645               0.0   50508.689087  \n",
              "std             3.726421               0.0   25783.096248  \n",
              "min             0.000000               0.0    1067.000000  \n",
              "25%             3.000000               0.0   30165.000000  \n",
              "50%             6.000000               0.0   49413.000000  \n",
              "75%             9.000000               0.0   71083.000000  \n",
              "max            12.000000               0.0   99998.000000  "
            ]
          },
          "execution_count": 5,
          "metadata": {},
          "output_type": "execute_result"
        }
      ],
      "source": [
        "data.describe()"
      ]
    },
    {
      "cell_type": "code",
      "execution_count": null,
      "metadata": {
        "id": "xRlb86XE5FBU",
        "outputId": "7fbe2f1f-76ef-4c76-9eba-c2575b3c3adb"
      },
      "outputs": [
        {
          "data": {
            "text/plain": [
              "DateCrawled              0\n",
              "Price                    0\n",
              "VehicleType          37490\n",
              "RegistrationYear         0\n",
              "Gearbox              19833\n",
              "Power                    0\n",
              "Model                19705\n",
              "Kilometer                0\n",
              "RegistrationMonth        0\n",
              "FuelType             32895\n",
              "Brand                    0\n",
              "Repaired             71154\n",
              "DateCreated              0\n",
              "NumberOfPictures         0\n",
              "PostalCode               0\n",
              "LastSeen                 0\n",
              "dtype: int64"
            ]
          },
          "execution_count": 6,
          "metadata": {},
          "output_type": "execute_result"
        }
      ],
      "source": [
        "data.isna().sum()"
      ]
    },
    {
      "cell_type": "code",
      "execution_count": null,
      "metadata": {
        "id": "9qLvBSYA5FBU",
        "outputId": "00242c3c-5eea-4229-e303-1149df2265f7"
      },
      "outputs": [
        {
          "data": {
            "text/plain": [
              "DateCrawled          0.00\n",
              "Price                0.00\n",
              "VehicleType          0.11\n",
              "RegistrationYear     0.00\n",
              "Gearbox              0.06\n",
              "Power                0.00\n",
              "Model                0.06\n",
              "Kilometer            0.00\n",
              "RegistrationMonth    0.00\n",
              "FuelType             0.09\n",
              "Brand                0.00\n",
              "Repaired             0.20\n",
              "DateCreated          0.00\n",
              "NumberOfPictures     0.00\n",
              "PostalCode           0.00\n",
              "LastSeen             0.00\n",
              "dtype: float64"
            ]
          },
          "execution_count": 7,
          "metadata": {},
          "output_type": "execute_result"
        }
      ],
      "source": [
        "(data.isna().sum()/data.shape[0]).round(2)\n",
        "# смотрим пропуски в процентом отношении"
      ]
    },
    {
      "cell_type": "code",
      "execution_count": null,
      "metadata": {
        "id": "nierv2s_5FBU"
      },
      "outputs": [],
      "source": [
        "category_columns = ['VehicleType', 'Gearbox', 'Model', 'FuelType','Brand','Repaired']"
      ]
    },
    {
      "cell_type": "markdown",
      "metadata": {
        "id": "PMXA5CfK5FBU"
      },
      "source": [
        "Вынесем столбцы с категориальными данными в отдельный список"
      ]
    },
    {
      "cell_type": "code",
      "execution_count": null,
      "metadata": {
        "id": "oy0bewxz5FBV",
        "outputId": "14c5e7d6-58e7-45dc-b7f8-3fd4beadba15"
      },
      "outputs": [
        {
          "data": {
            "text/plain": [
              "VehicleType    37490\n",
              "Gearbox        19833\n",
              "Model          19705\n",
              "FuelType       32895\n",
              "Brand              0\n",
              "Repaired       71154\n",
              "dtype: int64"
            ]
          },
          "execution_count": 9,
          "metadata": {},
          "output_type": "execute_result"
        }
      ],
      "source": [
        "data[category_columns].isna().sum()"
      ]
    },
    {
      "cell_type": "code",
      "execution_count": null,
      "metadata": {
        "id": "NGCLkIlN5FBV"
      },
      "outputs": [],
      "source": [
        "data[category_columns] = data[category_columns].fillna('unknown')\n",
        "\n"
      ]
    },
    {
      "cell_type": "markdown",
      "metadata": {
        "id": "dbSsZg3f5FBV"
      },
      "source": [
        " т.к. пропуски в данных заполнить невозможно и нельзя их удалить,  т.к. недостаток исторических данных,\n",
        "мы заполним \"неизвестным\", тем более, что пропуски в категориальных данных"
      ]
    },
    {
      "cell_type": "code",
      "execution_count": null,
      "metadata": {
        "id": "tyVuM-0g5FBW",
        "outputId": "7fa6814f-d9e4-429b-9c6f-31f6124563a9"
      },
      "outputs": [
        {
          "data": {
            "text/plain": [
              "DateCrawled          0\n",
              "Price                0\n",
              "VehicleType          0\n",
              "RegistrationYear     0\n",
              "Gearbox              0\n",
              "Power                0\n",
              "Model                0\n",
              "Kilometer            0\n",
              "RegistrationMonth    0\n",
              "FuelType             0\n",
              "Brand                0\n",
              "Repaired             0\n",
              "DateCreated          0\n",
              "NumberOfPictures     0\n",
              "PostalCode           0\n",
              "LastSeen             0\n",
              "dtype: int64"
            ]
          },
          "execution_count": 11,
          "metadata": {},
          "output_type": "execute_result"
        }
      ],
      "source": [
        "data.isna().sum()"
      ]
    },
    {
      "cell_type": "code",
      "execution_count": null,
      "metadata": {
        "id": "DLU5gcc35FBW"
      },
      "outputs": [],
      "source": [
        "data = data.drop(['DateCrawled',\n",
        "                  'NumberOfPictures',\n",
        "                  'PostalCode',\n",
        "                  'LastSeen',\n",
        "                  'DateCreated',\n",
        "                  'RegistrationMonth'], axis = 1)\n"
      ]
    },
    {
      "cell_type": "markdown",
      "metadata": {
        "id": "BTQ_1USK5FBW"
      },
      "source": [
        "удалим не влияющие на обучение столбцы"
      ]
    },
    {
      "cell_type": "code",
      "execution_count": null,
      "metadata": {
        "id": "JakGkjuP5FBW",
        "outputId": "bfe804eb-f769-4fc8-efc1-812c4107c60a"
      },
      "outputs": [
        {
          "data": {
            "text/plain": [
              "45040"
            ]
          },
          "execution_count": 13,
          "metadata": {},
          "output_type": "execute_result"
        }
      ],
      "source": [
        "data.duplicated().sum()"
      ]
    },
    {
      "cell_type": "markdown",
      "metadata": {
        "id": "DXtS3M825FBX"
      },
      "source": [
        "проверяем на дубликаты, их очень мало"
      ]
    },
    {
      "cell_type": "markdown",
      "metadata": {
        "id": "2zn_PcKc5FBX"
      },
      "source": [
        "Построим гистограммы распределения некоторых категориальных признаков, для выявления аномалий"
      ]
    },
    {
      "cell_type": "code",
      "execution_count": null,
      "metadata": {
        "id": "wjEN78tp5FBX",
        "outputId": "e750266a-b680-460b-96bb-0afd1f3a4b71"
      },
      "outputs": [
        {
          "data": {
            "image/png": "[encoded data removed]",
            "text/plain": [
              "<Figure size 648x648 with 1 Axes>"
            ]
          },
          "metadata": {
            "needs_background": "light"
          },
          "output_type": "display_data"
        },
        {
          "data": {
            "image/png": "[encoded data removed]",
            "text/plain": [
              "<Figure size 648x648 with 1 Axes>"
            ]
          },
          "metadata": {
            "needs_background": "light"
          },
          "output_type": "display_data"
        },
        {
          "data": {
            "image/png": "[encoded data removed]",
            "text/plain": [
              "<Figure size 648x648 with 1 Axes>"
            ]
          },
          "metadata": {
            "needs_background": "light"
          },
          "output_type": "display_data"
        },
        {
          "data": {
            "image/png": "[encoded data removed]",
            "text/plain": [
              "<Figure size 648x648 with 1 Axes>"
            ]
          },
          "metadata": {
            "needs_background": "light"
          },
          "output_type": "display_data"
        }
      ],
      "source": [
        "columns = ['Price', 'FuelType','Repaired', 'Kilometer']\n",
        "for col in columns:\n",
        "    plt.figure(figsize=(9, 9))\n",
        "    plt.title(f'Диаграмма распределения {col}')\n",
        "    data[col].hist(bins=30)\n",
        "    plt.show()"
      ]
    },
    {
      "cell_type": "code",
      "execution_count": null,
      "metadata": {
        "id": "ynakOrhm5FBX",
        "outputId": "c9fd1d51-3eb2-4c59-e672-f73c6c92185d"
      },
      "outputs": [
        {
          "data": {
            "image/png": "[encoded data removed]",
            "text/plain": [
              "<Figure size 648x648 with 1 Axes>"
            ]
          },
          "metadata": {
            "needs_background": "light"
          },
          "output_type": "display_data"
        }
      ],
      "source": [
        "data['RegistrationYear'].hist(figsize=(9, 9), bins=30, range=(1950, 2022))\n",
        "plt.xlabel('Год выпуска')\n",
        "plt.show()\n",
        "# рассмотрим отдельно распределение года выпуска"
      ]
    },
    {
      "cell_type": "code",
      "execution_count": null,
      "metadata": {
        "id": "r4ElqoMF5FBX",
        "outputId": "4a887807-7ca8-46f7-bbc1-b348ae0a7923"
      },
      "outputs": [
        {
          "data": {
            "image/png": "[encoded data removed]",
            "text/plain": [
              "<Figure size 648x648 with 1 Axes>"
            ]
          },
          "metadata": {
            "needs_background": "light"
          },
          "output_type": "display_data"
        }
      ],
      "source": [
        "data['Power'].hist(figsize=(9,9))\n",
        "plt.title(f'Диаграмма распределения мощности')\n",
        "plt.xlabel('Кол-во л.с')\n",
        "plt.show()"
      ]
    },
    {
      "cell_type": "code",
      "execution_count": null,
      "metadata": {
        "id": "_JNCNXfk5FBY",
        "outputId": "24452f4b-f0ba-4e56-dd2d-58e493a45e62"
      },
      "outputs": [
        {
          "data": {
            "image/png": "[encoded data removed]",
            "text/plain": [
              "<Figure size 648x648 with 1 Axes>"
            ]
          },
          "metadata": {
            "needs_background": "light"
          },
          "output_type": "display_data"
        }
      ],
      "source": [
        "data['Price'].hist( figsize=(9,9), bins=30)\n",
        "plt.title(f'Диаграмма распределения стоимости')\n",
        "plt.xlabel('Стоимость')\n",
        "plt.show()"
      ]
    },
    {
      "cell_type": "markdown",
      "metadata": {
        "id": "EIM3ghYF5FBY"
      },
      "source": [
        "В колонках цена, год выпуска и мощность, много околонулевых значений - выбросы, от них придется избавится, т.к. могут плохо влиять на обучение модели. Так же есть и околонулевые значения в столбце мощность и выбросы в виде значений свыше 1000 лс. Их придется корректировать, есть предположение, что при создании анкеты потерялась точка, и значения убежали далеко за пределы.\n",
        "Поэтому удалим из таблицы данные с ценой до 100 евро, и нулевую мощность"
      ]
    },
    {
      "cell_type": "code",
      "execution_count": null,
      "metadata": {
        "id": "cOabVOkM5FBY",
        "outputId": "77215f08-1f80-461c-d8b0-68be891b350d"
      },
      "outputs": [
        {
          "data": {
            "text/html": [
              "<div>\n",
              "<style scoped>\n",
              "    .dataframe tbody tr th:only-of-type {\n",
              "        vertical-align: middle;\n",
              "    }\n",
              "\n",
              "    .dataframe tbody tr th {\n",
              "        vertical-align: top;\n",
              "    }\n",
              "\n",
              "    .dataframe thead th {\n",
              "        text-align: right;\n",
              "    }\n",
              "</style>\n",
              "<table border=\"1\" class=\"dataframe\">\n",
              "  <thead>\n",
              "    <tr style=\"text-align: right;\">\n",
              "      <th></th>\n",
              "      <th>Price</th>\n",
              "      <th>VehicleType</th>\n",
              "      <th>RegistrationYear</th>\n",
              "      <th>Gearbox</th>\n",
              "      <th>Power</th>\n",
              "      <th>Model</th>\n",
              "      <th>Kilometer</th>\n",
              "      <th>FuelType</th>\n",
              "      <th>Brand</th>\n",
              "      <th>Repaired</th>\n",
              "    </tr>\n",
              "  </thead>\n",
              "  <tbody>\n",
              "    <tr>\n",
              "      <th>1</th>\n",
              "      <td>18300</td>\n",
              "      <td>coupe</td>\n",
              "      <td>2011</td>\n",
              "      <td>manual</td>\n",
              "      <td>190</td>\n",
              "      <td>unknown</td>\n",
              "      <td>125000</td>\n",
              "      <td>gasoline</td>\n",
              "      <td>audi</td>\n",
              "      <td>yes</td>\n",
              "    </tr>\n",
              "    <tr>\n",
              "      <th>2</th>\n",
              "      <td>9800</td>\n",
              "      <td>suv</td>\n",
              "      <td>2004</td>\n",
              "      <td>auto</td>\n",
              "      <td>163</td>\n",
              "      <td>grand</td>\n",
              "      <td>125000</td>\n",
              "      <td>gasoline</td>\n",
              "      <td>jeep</td>\n",
              "      <td>unknown</td>\n",
              "    </tr>\n",
              "    <tr>\n",
              "      <th>3</th>\n",
              "      <td>1500</td>\n",
              "      <td>small</td>\n",
              "      <td>2001</td>\n",
              "      <td>manual</td>\n",
              "      <td>75</td>\n",
              "      <td>golf</td>\n",
              "      <td>150000</td>\n",
              "      <td>petrol</td>\n",
              "      <td>volkswagen</td>\n",
              "      <td>no</td>\n",
              "    </tr>\n",
              "    <tr>\n",
              "      <th>4</th>\n",
              "      <td>3600</td>\n",
              "      <td>small</td>\n",
              "      <td>2008</td>\n",
              "      <td>manual</td>\n",
              "      <td>69</td>\n",
              "      <td>fabia</td>\n",
              "      <td>90000</td>\n",
              "      <td>gasoline</td>\n",
              "      <td>skoda</td>\n",
              "      <td>no</td>\n",
              "    </tr>\n",
              "    <tr>\n",
              "      <th>5</th>\n",
              "      <td>650</td>\n",
              "      <td>sedan</td>\n",
              "      <td>1995</td>\n",
              "      <td>manual</td>\n",
              "      <td>102</td>\n",
              "      <td>3er</td>\n",
              "      <td>150000</td>\n",
              "      <td>petrol</td>\n",
              "      <td>bmw</td>\n",
              "      <td>yes</td>\n",
              "    </tr>\n",
              "  </tbody>\n",
              "</table>\n",
              "</div>"
            ],
            "text/plain": [
              "   Price VehicleType  RegistrationYear Gearbox  Power    Model  Kilometer  \\\n",
              "1  18300       coupe              2011  manual    190  unknown     125000   \n",
              "2   9800         suv              2004    auto    163    grand     125000   \n",
              "3   1500       small              2001  manual     75     golf     150000   \n",
              "4   3600       small              2008  manual     69    fabia      90000   \n",
              "5    650       sedan              1995  manual    102      3er     150000   \n",
              "\n",
              "   FuelType       Brand Repaired  \n",
              "1  gasoline        audi      yes  \n",
              "2  gasoline        jeep  unknown  \n",
              "3    petrol  volkswagen       no  \n",
              "4  gasoline       skoda       no  \n",
              "5    petrol         bmw      yes  "
            ]
          },
          "execution_count": 18,
          "metadata": {},
          "output_type": "execute_result"
        }
      ],
      "source": [
        "data = data.query('Price>100')\n",
        "data = data.query('Power !=0')\n",
        "data = data.query('1910<RegistrationYear<2022')\n",
        "data.head()"
      ]
    },
    {
      "cell_type": "markdown",
      "metadata": {
        "id": "APxpyRgg5FBY"
      },
      "source": [
        "**Мини вывод**\n",
        "\n",
        "Мы загрузили и посмотрели данные, оценили пропуски, приняли решение не трогать их,  а заменить на неизвестное, т.к. мы имеем недостаток исторических данных, или их просто не указали при создании анкеты. Удалили ненужные для обучения столбцы (дата создания анкеты, кол-во фото, индекс владельца, последняя активность, месяц регистрации ТС, т.к. более важен год регистрации, чем месяц).  Построили гистограммы по некоторым столбцам, в основном продаются машины выпуска от 1999 до 2005 года, можно по разному описать эти события, что новоиспеченные водители покупают старые машины, как первую, и потом продают их, очень много машин без ремонта, либо ремонтировались, но об этом умолчали. На рынке чаще продаются машины с пробегом более 150 т.км. В целом больше замечаний нет для дальнейшей работы и обучения модели."
      ]
    },
    {
      "cell_type": "markdown",
      "metadata": {
        "id": "jtIzYsnA5FBj"
      },
      "source": [
        "## Обучение моделей"
      ]
    },
    {
      "cell_type": "markdown",
      "metadata": {
        "id": "81_QHq925FBj"
      },
      "source": [
        "Выделим признаки для дальнейшего обучения моделей"
      ]
    },
    {
      "cell_type": "code",
      "execution_count": null,
      "metadata": {
        "id": "XWGg5vdZ5FBj"
      },
      "outputs": [],
      "source": [
        "features = data.drop(['Price'], axis=1)\n",
        "target = data['Price']\n",
        "\n"
      ]
    },
    {
      "cell_type": "markdown",
      "metadata": {
        "id": "EMqn-5vt5FBj"
      },
      "source": [
        "Делим выборку на обучающую и тестовую"
      ]
    },
    {
      "cell_type": "code",
      "execution_count": null,
      "metadata": {
        "id": "C8MRL68W5FBj"
      },
      "outputs": [],
      "source": [
        "features_train, features_test, target_train, target_test = train_test_split(features,\n",
        "                                                                            target,\n",
        "                                                                            test_size = 0.2,\n",
        "                                                                            random_state=12345)\n"
      ]
    },
    {
      "cell_type": "code",
      "execution_count": null,
      "metadata": {
        "id": "7-Kdd2XJ5FBj",
        "outputId": "bca632a7-f074-4da1-dce5-9db58d17718c"
      },
      "outputs": [
        {
          "name": "stdout",
          "output_type": "stream",
          "text": [
            "244267\n",
            "61067\n",
            "244267\n",
            "61067\n"
          ]
        }
      ],
      "source": [
        "print(features_train.shape[0])\n",
        "print(features_test.shape[0])\n",
        "print(target_train.shape[0])\n",
        "print(target_test.shape[0])"
      ]
    },
    {
      "cell_type": "markdown",
      "metadata": {
        "id": "RbRgTkuk5FBk"
      },
      "source": [
        "Создадим кросс валидационную модель"
      ]
    },
    {
      "cell_type": "code",
      "execution_count": null,
      "metadata": {
        "id": "osqvwfhh5FBk"
      },
      "outputs": [],
      "source": [
        "cv = KFold(n_splits = 3, shuffle= True, random_state = 12345 )"
      ]
    },
    {
      "cell_type": "markdown",
      "metadata": {
        "id": "XZp_hHwL5FBk"
      },
      "source": [
        "создаем функцию, которая на вход получает данные с выборок и лучшие параметры для обучения, на выходе выдает время обучения,\n",
        "    #время редсказания и результат метрики по моделям и кросс валидацией."
      ]
    },
    {
      "cell_type": "code",
      "execution_count": null,
      "metadata": {
        "id": "y44_ssiQ5FBk"
      },
      "outputs": [],
      "source": [
        "def model_select(model, features_train, target_train, best_score):\n",
        "    start = time.time()\n",
        "    model.fit(features_train, target_train)\n",
        "    train_time = time.time() - start\n",
        "\n",
        "    start = time.time()\n",
        "    predicted = model.predict(features_train)\n",
        "    predicted_time = time.time()-start\n",
        "    rmse = mse(target_train, predicted)**0.5\n",
        "    cv_rmse = np.sqrt(-1*best_score)\n",
        "    return train_time, predicted_time, rmse, cv_rmse"
      ]
    },
    {
      "cell_type": "code",
      "execution_count": null,
      "metadata": {
        "scrolled": true,
        "id": "z9Wpmyup5FBm",
        "outputId": "8890cc2b-a076-4533-aa08-7f2e04456a00"
      },
      "outputs": [
        {
          "name": "stderr",
          "output_type": "stream",
          "text": [
            "/tmp/ipykernel_86/199925141.py:1: SettingWithCopyWarning: \n",
            "A value is trying to be set on a copy of a slice from a DataFrame.\n",
            "Try using .loc[row_indexer,col_indexer] = value instead\n",
            "\n",
            "See the caveats in the documentation: https://pandas.pydata.org/pandas-docs/stable/user_guide/indexing.html#returning-a-view-versus-a-copy\n",
            "  features_train['VehicleType'] = features_train['VehicleType'].astype('category')\n",
            "/tmp/ipykernel_86/199925141.py:2: SettingWithCopyWarning: \n",
            "A value is trying to be set on a copy of a slice from a DataFrame.\n",
            "Try using .loc[row_indexer,col_indexer] = value instead\n",
            "\n",
            "See the caveats in the documentation: https://pandas.pydata.org/pandas-docs/stable/user_guide/indexing.html#returning-a-view-versus-a-copy\n",
            "  features_train['Gearbox'] = features_train['Gearbox'].astype('category')\n",
            "/tmp/ipykernel_86/199925141.py:3: SettingWithCopyWarning: \n",
            "A value is trying to be set on a copy of a slice from a DataFrame.\n",
            "Try using .loc[row_indexer,col_indexer] = value instead\n",
            "\n",
            "See the caveats in the documentation: https://pandas.pydata.org/pandas-docs/stable/user_guide/indexing.html#returning-a-view-versus-a-copy\n",
            "  features_train['Model'] = features_train['Model'].astype('category')\n",
            "/tmp/ipykernel_86/199925141.py:4: SettingWithCopyWarning: \n",
            "A value is trying to be set on a copy of a slice from a DataFrame.\n",
            "Try using .loc[row_indexer,col_indexer] = value instead\n",
            "\n",
            "See the caveats in the documentation: https://pandas.pydata.org/pandas-docs/stable/user_guide/indexing.html#returning-a-view-versus-a-copy\n",
            "  features_train['FuelType'] = features_train['FuelType'].astype('category')\n",
            "/tmp/ipykernel_86/199925141.py:5: SettingWithCopyWarning: \n",
            "A value is trying to be set on a copy of a slice from a DataFrame.\n",
            "Try using .loc[row_indexer,col_indexer] = value instead\n",
            "\n",
            "See the caveats in the documentation: https://pandas.pydata.org/pandas-docs/stable/user_guide/indexing.html#returning-a-view-versus-a-copy\n",
            "  features_train['Brand'] = features_train['Brand'].astype('category')\n",
            "/tmp/ipykernel_86/199925141.py:6: SettingWithCopyWarning: \n",
            "A value is trying to be set on a copy of a slice from a DataFrame.\n",
            "Try using .loc[row_indexer,col_indexer] = value instead\n",
            "\n",
            "See the caveats in the documentation: https://pandas.pydata.org/pandas-docs/stable/user_guide/indexing.html#returning-a-view-versus-a-copy\n",
            "  features_train['Repaired'] = features_train['Repaired'].astype('category')\n",
            "/tmp/ipykernel_86/199925141.py:8: SettingWithCopyWarning: \n",
            "A value is trying to be set on a copy of a slice from a DataFrame.\n",
            "Try using .loc[row_indexer,col_indexer] = value instead\n",
            "\n",
            "See the caveats in the documentation: https://pandas.pydata.org/pandas-docs/stable/user_guide/indexing.html#returning-a-view-versus-a-copy\n",
            "  features_test['VehicleType'] = features_test['VehicleType'].astype('category')\n",
            "/tmp/ipykernel_86/199925141.py:9: SettingWithCopyWarning: \n",
            "A value is trying to be set on a copy of a slice from a DataFrame.\n",
            "Try using .loc[row_indexer,col_indexer] = value instead\n",
            "\n",
            "See the caveats in the documentation: https://pandas.pydata.org/pandas-docs/stable/user_guide/indexing.html#returning-a-view-versus-a-copy\n",
            "  features_test['Gearbox'] = features_test['Gearbox'].astype('category')\n",
            "/tmp/ipykernel_86/199925141.py:10: SettingWithCopyWarning: \n",
            "A value is trying to be set on a copy of a slice from a DataFrame.\n",
            "Try using .loc[row_indexer,col_indexer] = value instead\n",
            "\n",
            "See the caveats in the documentation: https://pandas.pydata.org/pandas-docs/stable/user_guide/indexing.html#returning-a-view-versus-a-copy\n",
            "  features_test['Model'] = features_test['Model'].astype('category')\n",
            "/tmp/ipykernel_86/199925141.py:11: SettingWithCopyWarning: \n",
            "A value is trying to be set on a copy of a slice from a DataFrame.\n",
            "Try using .loc[row_indexer,col_indexer] = value instead\n",
            "\n",
            "See the caveats in the documentation: https://pandas.pydata.org/pandas-docs/stable/user_guide/indexing.html#returning-a-view-versus-a-copy\n",
            "  features_test['FuelType'] = features_test['FuelType'].astype('category')\n",
            "/tmp/ipykernel_86/199925141.py:12: SettingWithCopyWarning: \n",
            "A value is trying to be set on a copy of a slice from a DataFrame.\n",
            "Try using .loc[row_indexer,col_indexer] = value instead\n",
            "\n",
            "See the caveats in the documentation: https://pandas.pydata.org/pandas-docs/stable/user_guide/indexing.html#returning-a-view-versus-a-copy\n",
            "  features_test['Brand'] = features_test['Brand'].astype('category')\n",
            "/tmp/ipykernel_86/199925141.py:13: SettingWithCopyWarning: \n",
            "A value is trying to be set on a copy of a slice from a DataFrame.\n",
            "Try using .loc[row_indexer,col_indexer] = value instead\n",
            "\n",
            "See the caveats in the documentation: https://pandas.pydata.org/pandas-docs/stable/user_guide/indexing.html#returning-a-view-versus-a-copy\n",
            "  features_test['Repaired'] = features_test['Repaired'].astype('category')\n"
          ]
        }
      ],
      "source": [
        "features_train['VehicleType'] = features_train['VehicleType'].astype('category')\n",
        "features_train['Gearbox'] = features_train['Gearbox'].astype('category')\n",
        "features_train['Model'] = features_train['Model'].astype('category')\n",
        "features_train['FuelType'] = features_train['FuelType'].astype('category')\n",
        "features_train['Brand'] = features_train['Brand'].astype('category')\n",
        "features_train['Repaired'] = features_train['Repaired'].astype('category')\n",
        "\n",
        "features_test['VehicleType'] = features_test['VehicleType'].astype('category')\n",
        "features_test['Gearbox'] = features_test['Gearbox'].astype('category')\n",
        "features_test['Model'] = features_test['Model'].astype('category')\n",
        "features_test['FuelType'] = features_test['FuelType'].astype('category')\n",
        "features_test['Brand'] = features_test['Brand'].astype('category')\n",
        "features_test['Repaired'] = features_test['Repaired'].astype('category')"
      ]
    },
    {
      "cell_type": "markdown",
      "metadata": {
        "id": "o8pNHmmm5FBm"
      },
      "source": [
        "**RandomForest**"
      ]
    },
    {
      "cell_type": "code",
      "execution_count": null,
      "metadata": {
        "id": "BDWvJIin5FBm"
      },
      "outputs": [],
      "source": [
        "encoder = OrdinalEncoder()\n",
        "rf_train = features_train.copy()\n",
        "\n",
        "for i in category_columns:\n",
        "    rf_train[i]  = encoder.fit_transform(rf_train)\n",
        "\n",
        "\n",
        "rf = RandomForestRegressor(random_state = 12345)\n",
        "hyp_params = {\n",
        "    'max_depth' : [1, 10, 1],\n",
        "    'n_estimators' : [10, 100, 10]\n",
        "}\n",
        "\n",
        "grid_rf = GridSearchCV(rf, hyp_params, scoring='neg_mean_squared_error', verbose=True, cv=cv)\n"
      ]
    },
    {
      "cell_type": "code",
      "execution_count": null,
      "metadata": {
        "scrolled": true,
        "id": "5prwuqYi5FBn",
        "outputId": "b79c4e86-b1d4-4b64-c399-bc3fff7fe386"
      },
      "outputs": [
        {
          "name": "stdout",
          "output_type": "stream",
          "text": [
            "Fitting 3 folds for each of 9 candidates, totalling 27 fits\n",
            "CPU times: user 1min 55s, sys: 314 ms, total: 1min 56s\n",
            "Wall time: 1min 56s\n"
          ]
        },
        {
          "data": {
            "text/plain": [
              "GridSearchCV(cv=KFold(n_splits=3, random_state=12345, shuffle=True),\n",
              "             estimator=RandomForestRegressor(random_state=12345),\n",
              "             param_grid={'max_depth': [1, 10, 1],\n",
              "                         'n_estimators': [10, 100, 10]},\n",
              "             scoring='neg_mean_squared_error', verbose=True)"
            ]
          },
          "execution_count": 26,
          "metadata": {},
          "output_type": "execute_result"
        }
      ],
      "source": [
        "%%time\n",
        "grid_rf.fit(rf_train, target_train)"
      ]
    },
    {
      "cell_type": "code",
      "execution_count": null,
      "metadata": {
        "id": "REv4H7x-5FBn",
        "outputId": "ee9497ac-d34a-4f35-a28f-90b575095346"
      },
      "outputs": [
        {
          "data": {
            "text/plain": [
              "{'max_depth': 10, 'n_estimators': 100}"
            ]
          },
          "execution_count": 27,
          "metadata": {},
          "output_type": "execute_result"
        }
      ],
      "source": [
        "grid_rf.best_params_"
      ]
    },
    {
      "cell_type": "code",
      "execution_count": null,
      "metadata": {
        "id": "xxln5ZxJ5FBn",
        "outputId": "612b0927-eeec-4ecf-fb60-d0247c67dc08"
      },
      "outputs": [
        {
          "data": {
            "text/plain": [
              "2018.3096614545045"
            ]
          },
          "execution_count": 28,
          "metadata": {},
          "output_type": "execute_result"
        }
      ],
      "source": [
        "grid_rf_rmse = np.sqrt(-1*grid_rf.best_score_)\n",
        "grid_rf_rmse"
      ]
    },
    {
      "cell_type": "markdown",
      "metadata": {
        "id": "P6iEFQ0g5FBn"
      },
      "source": [
        "**LightGBM**"
      ]
    },
    {
      "cell_type": "code",
      "execution_count": null,
      "metadata": {
        "id": "I4TinXFP5FBo"
      },
      "outputs": [],
      "source": [
        "lgbm = LGBMRegressor(boosting_type='gbdt', random_state = 12345)\n",
        "params = {'learning_rate': np.logspace(-3, 0 ,5),\n",
        "         'n_estimators' : [40, 60],\n",
        "         'num_leaves' : [31, 41, 51]\n",
        "}\n",
        "\n",
        "grid_lgbm = GridSearchCV(lgbm, params, scoring='neg_mean_squared_error', verbose=True, cv=cv)"
      ]
    },
    {
      "cell_type": "code",
      "execution_count": null,
      "metadata": {
        "id": "0XA8O8BL5FBo",
        "outputId": "d041b7b9-4d7d-4993-f95b-1dd801d04c8c"
      },
      "outputs": [
        {
          "name": "stdout",
          "output_type": "stream",
          "text": [
            "Fitting 3 folds for each of 30 candidates, totalling 90 fits\n",
            "CPU times: user 17min 7s, sys: 18.3 s, total: 17min 25s\n",
            "Wall time: 17min 34s\n"
          ]
        },
        {
          "data": {
            "text/plain": [
              "GridSearchCV(cv=KFold(n_splits=3, random_state=12345, shuffle=True),\n",
              "             estimator=LGBMRegressor(random_state=12345),\n",
              "             param_grid={'learning_rate': array([0.001     , 0.00562341, 0.03162278, 0.17782794, 1.        ]),\n",
              "                         'n_estimators': [40, 60], 'num_leaves': [31, 41, 51]},\n",
              "             scoring='neg_mean_squared_error', verbose=True)"
            ]
          },
          "execution_count": 30,
          "metadata": {},
          "output_type": "execute_result"
        }
      ],
      "source": [
        "%%time\n",
        "grid_lgbm.fit(features_train, target_train)"
      ]
    },
    {
      "cell_type": "code",
      "execution_count": null,
      "metadata": {
        "id": "Itvha4HW5FBo",
        "outputId": "b78bed6d-cbc9-4a21-b0c0-bab7dfabf2e0"
      },
      "outputs": [
        {
          "data": {
            "text/plain": [
              "{'learning_rate': 0.1778279410038923, 'n_estimators': 60, 'num_leaves': 51}"
            ]
          },
          "execution_count": 31,
          "metadata": {},
          "output_type": "execute_result"
        }
      ],
      "source": [
        "grid_lgbm.best_params_"
      ]
    },
    {
      "cell_type": "code",
      "execution_count": null,
      "metadata": {
        "id": "zsUt65Y-5FBp",
        "outputId": "589bb67d-aec9-41ce-8427-cae9930db289"
      },
      "outputs": [
        {
          "data": {
            "text/plain": [
              "1613.9778323288701"
            ]
          },
          "execution_count": 32,
          "metadata": {},
          "output_type": "execute_result"
        }
      ],
      "source": [
        "grid_lgbm_rmse = np.sqrt(-1*grid_lgbm.best_score_)\n",
        "grid_lgbm_rmse\n"
      ]
    },
    {
      "cell_type": "code",
      "execution_count": null,
      "metadata": {
        "id": "gg3TwdE15FBp"
      },
      "outputs": [],
      "source": [
        "cb_reg = CatBoostRegressor(random_seed = 12345,\n",
        "                          loss_function = 'RMSE',\n",
        "                          silent = True,\n",
        "                          cat_features = category_columns)\n",
        "params = {'learning_rate' : np.logspace(-3, 0, 5),\n",
        "           'iterations' : [40, 60],\n",
        "           'depth' : [d for d in range(2, 11)]\n",
        "}\n",
        "\n",
        "grid_cb_reg = GridSearchCV(cb_reg, params, cv=cv, scoring = 'neg_mean_squared_error', verbose=10)"
      ]
    },
    {
      "cell_type": "code",
      "execution_count": null,
      "metadata": {
        "scrolled": true,
        "id": "ifQR69kD5FBp",
        "outputId": "8a9010f5-48d1-40d7-fcbb-c0cf4a5da47f"
      },
      "outputs": [
        {
          "name": "stdout",
          "output_type": "stream",
          "text": [
            "Fitting 3 folds for each of 90 candidates, totalling 270 fits\n",
            "[CV 1/3; 1/90] START depth=2, iterations=40, learning_rate=0.001................\n",
            "[CV 1/3; 1/90] END depth=2, iterations=40, learning_rate=0.001; total time=   2.2s\n",
            "[CV 2/3; 1/90] START depth=2, iterations=40, learning_rate=0.001................\n",
            "[CV 2/3; 1/90] END depth=2, iterations=40, learning_rate=0.001; total time=   2.3s\n",
            "[CV 3/3; 1/90] START depth=2, iterations=40, learning_rate=0.001................\n",
            "[CV 3/3; 1/90] END depth=2, iterations=40, learning_rate=0.001; total time=   2.1s\n",
            "[CV 1/3; 2/90] START depth=2, iterations=40, learning_rate=0.005623413251903491.\n",
            "[CV 1/3; 2/90] END depth=2, iterations=40, learning_rate=0.005623413251903491; total time=   2.4s\n",
            "[CV 2/3; 2/90] START depth=2, iterations=40, learning_rate=0.005623413251903491.\n",
            "[CV 2/3; 2/90] END depth=2, iterations=40, learning_rate=0.005623413251903491; total time=   2.1s\n",
            "[CV 3/3; 2/90] START depth=2, iterations=40, learning_rate=0.005623413251903491.\n",
            "[CV 3/3; 2/90] END depth=2, iterations=40, learning_rate=0.005623413251903491; total time=   2.2s\n",
            "[CV 1/3; 3/90] START depth=2, iterations=40, learning_rate=0.03162277660168379..\n",
            "[CV 1/3; 3/90] END depth=2, iterations=40, learning_rate=0.03162277660168379; total time=   2.2s\n",
            "[CV 2/3; 3/90] START depth=2, iterations=40, learning_rate=0.03162277660168379..\n",
            "[CV 2/3; 3/90] END depth=2, iterations=40, learning_rate=0.03162277660168379; total time=   2.1s\n",
            "[CV 3/3; 3/90] START depth=2, iterations=40, learning_rate=0.03162277660168379..\n",
            "[CV 3/3; 3/90] END depth=2, iterations=40, learning_rate=0.03162277660168379; total time=   2.1s\n",
            "[CV 1/3; 4/90] START depth=2, iterations=40, learning_rate=0.1778279410038923...\n",
            "[CV 1/3; 4/90] END depth=2, iterations=40, learning_rate=0.1778279410038923; total time=   2.2s\n",
            "[CV 2/3; 4/90] START depth=2, iterations=40, learning_rate=0.1778279410038923...\n",
            "[CV 2/3; 4/90] END depth=2, iterations=40, learning_rate=0.1778279410038923; total time=   2.1s\n",
            "[CV 3/3; 4/90] START depth=2, iterations=40, learning_rate=0.1778279410038923...\n",
            "[CV 3/3; 4/90] END depth=2, iterations=40, learning_rate=0.1778279410038923; total time=   2.2s\n",
            "[CV 1/3; 5/90] START depth=2, iterations=40, learning_rate=1.0..................\n",
            "[CV 1/3; 5/90] END depth=2, iterations=40, learning_rate=1.0; total time=   2.0s\n",
            "[CV 2/3; 5/90] START depth=2, iterations=40, learning_rate=1.0..................\n",
            "[CV 2/3; 5/90] END depth=2, iterations=40, learning_rate=1.0; total time=   2.2s\n",
            "[CV 3/3; 5/90] START depth=2, iterations=40, learning_rate=1.0..................\n",
            "[CV 3/3; 5/90] END depth=2, iterations=40, learning_rate=1.0; total time=   2.2s\n",
            "[CV 1/3; 6/90] START depth=2, iterations=60, learning_rate=0.001................\n",
            "[CV 1/3; 6/90] END depth=2, iterations=60, learning_rate=0.001; total time=   2.9s\n",
            "[CV 2/3; 6/90] START depth=2, iterations=60, learning_rate=0.001................\n",
            "[CV 2/3; 6/90] END depth=2, iterations=60, learning_rate=0.001; total time=   2.8s\n",
            "[CV 3/3; 6/90] START depth=2, iterations=60, learning_rate=0.001................\n",
            "[CV 3/3; 6/90] END depth=2, iterations=60, learning_rate=0.001; total time=   2.8s\n",
            "[CV 1/3; 7/90] START depth=2, iterations=60, learning_rate=0.005623413251903491.\n",
            "[CV 1/3; 7/90] END depth=2, iterations=60, learning_rate=0.005623413251903491; total time=   2.7s\n",
            "[CV 2/3; 7/90] START depth=2, iterations=60, learning_rate=0.005623413251903491.\n",
            "[CV 2/3; 7/90] END depth=2, iterations=60, learning_rate=0.005623413251903491; total time=   2.8s\n",
            "[CV 3/3; 7/90] START depth=2, iterations=60, learning_rate=0.005623413251903491.\n",
            "[CV 3/3; 7/90] END depth=2, iterations=60, learning_rate=0.005623413251903491; total time=   2.7s\n",
            "[CV 1/3; 8/90] START depth=2, iterations=60, learning_rate=0.03162277660168379..\n",
            "[CV 1/3; 8/90] END depth=2, iterations=60, learning_rate=0.03162277660168379; total time=   2.8s\n",
            "[CV 2/3; 8/90] START depth=2, iterations=60, learning_rate=0.03162277660168379..\n",
            "[CV 2/3; 8/90] END depth=2, iterations=60, learning_rate=0.03162277660168379; total time=   3.0s\n",
            "[CV 3/3; 8/90] START depth=2, iterations=60, learning_rate=0.03162277660168379..\n",
            "[CV 3/3; 8/90] END depth=2, iterations=60, learning_rate=0.03162277660168379; total time=   2.7s\n",
            "[CV 1/3; 9/90] START depth=2, iterations=60, learning_rate=0.1778279410038923...\n",
            "[CV 1/3; 9/90] END depth=2, iterations=60, learning_rate=0.1778279410038923; total time=   3.8s\n",
            "[CV 2/3; 9/90] START depth=2, iterations=60, learning_rate=0.1778279410038923...\n",
            "[CV 2/3; 9/90] END depth=2, iterations=60, learning_rate=0.1778279410038923; total time=   2.7s\n",
            "[CV 3/3; 9/90] START depth=2, iterations=60, learning_rate=0.1778279410038923...\n",
            "[CV 3/3; 9/90] END depth=2, iterations=60, learning_rate=0.1778279410038923; total time=   2.7s\n",
            "[CV 1/3; 10/90] START depth=2, iterations=60, learning_rate=1.0.................\n",
            "[CV 1/3; 10/90] END depth=2, iterations=60, learning_rate=1.0; total time=   2.8s\n",
            "[CV 2/3; 10/90] START depth=2, iterations=60, learning_rate=1.0.................\n",
            "[CV 2/3; 10/90] END depth=2, iterations=60, learning_rate=1.0; total time=   2.8s\n",
            "[CV 3/3; 10/90] START depth=2, iterations=60, learning_rate=1.0.................\n",
            "[CV 3/3; 10/90] END depth=2, iterations=60, learning_rate=1.0; total time=   2.8s\n",
            "[CV 1/3; 11/90] START depth=3, iterations=40, learning_rate=0.001...............\n",
            "[CV 1/3; 11/90] END depth=3, iterations=40, learning_rate=0.001; total time=   2.6s\n",
            "[CV 2/3; 11/90] START depth=3, iterations=40, learning_rate=0.001...............\n",
            "[CV 2/3; 11/90] END depth=3, iterations=40, learning_rate=0.001; total time=   2.4s\n",
            "[CV 3/3; 11/90] START depth=3, iterations=40, learning_rate=0.001...............\n",
            "[CV 3/3; 11/90] END depth=3, iterations=40, learning_rate=0.001; total time=   2.6s\n",
            "[CV 1/3; 12/90] START depth=3, iterations=40, learning_rate=0.005623413251903491\n",
            "[CV 1/3; 12/90] END depth=3, iterations=40, learning_rate=0.005623413251903491; total time=   2.6s\n",
            "[CV 2/3; 12/90] START depth=3, iterations=40, learning_rate=0.005623413251903491\n",
            "[CV 2/3; 12/90] END depth=3, iterations=40, learning_rate=0.005623413251903491; total time=   2.4s\n",
            "[CV 3/3; 12/90] START depth=3, iterations=40, learning_rate=0.005623413251903491\n",
            "[CV 3/3; 12/90] END depth=3, iterations=40, learning_rate=0.005623413251903491; total time=   2.5s\n",
            "[CV 1/3; 13/90] START depth=3, iterations=40, learning_rate=0.03162277660168379.\n",
            "[CV 1/3; 13/90] END depth=3, iterations=40, learning_rate=0.03162277660168379; total time=   2.4s\n",
            "[CV 2/3; 13/90] START depth=3, iterations=40, learning_rate=0.03162277660168379.\n",
            "[CV 2/3; 13/90] END depth=3, iterations=40, learning_rate=0.03162277660168379; total time=   2.5s\n",
            "[CV 3/3; 13/90] START depth=3, iterations=40, learning_rate=0.03162277660168379.\n",
            "[CV 3/3; 13/90] END depth=3, iterations=40, learning_rate=0.03162277660168379; total time=   2.5s\n",
            "[CV 1/3; 14/90] START depth=3, iterations=40, learning_rate=0.1778279410038923..\n",
            "[CV 1/3; 14/90] END depth=3, iterations=40, learning_rate=0.1778279410038923; total time=   2.4s\n",
            "[CV 2/3; 14/90] START depth=3, iterations=40, learning_rate=0.1778279410038923..\n",
            "[CV 2/3; 14/90] END depth=3, iterations=40, learning_rate=0.1778279410038923; total time=   2.5s\n",
            "[CV 3/3; 14/90] START depth=3, iterations=40, learning_rate=0.1778279410038923..\n",
            "[CV 3/3; 14/90] END depth=3, iterations=40, learning_rate=0.1778279410038923; total time=   2.8s\n",
            "[CV 1/3; 15/90] START depth=3, iterations=40, learning_rate=1.0.................\n",
            "[CV 1/3; 15/90] END depth=3, iterations=40, learning_rate=1.0; total time=   2.4s\n",
            "[CV 2/3; 15/90] START depth=3, iterations=40, learning_rate=1.0.................\n",
            "[CV 2/3; 15/90] END depth=3, iterations=40, learning_rate=1.0; total time=   2.4s\n",
            "[CV 3/3; 15/90] START depth=3, iterations=40, learning_rate=1.0.................\n",
            "[CV 3/3; 15/90] END depth=3, iterations=40, learning_rate=1.0; total time=   2.4s\n",
            "[CV 1/3; 16/90] START depth=3, iterations=60, learning_rate=0.001...............\n",
            "[CV 1/3; 16/90] END depth=3, iterations=60, learning_rate=0.001; total time=   3.2s\n",
            "[CV 2/3; 16/90] START depth=3, iterations=60, learning_rate=0.001...............\n",
            "[CV 2/3; 16/90] END depth=3, iterations=60, learning_rate=0.001; total time=   3.2s\n",
            "[CV 3/3; 16/90] START depth=3, iterations=60, learning_rate=0.001...............\n",
            "[CV 3/3; 16/90] END depth=3, iterations=60, learning_rate=0.001; total time=   3.3s\n",
            "[CV 1/3; 17/90] START depth=3, iterations=60, learning_rate=0.005623413251903491\n",
            "[CV 1/3; 17/90] END depth=3, iterations=60, learning_rate=0.005623413251903491; total time=   3.3s\n",
            "[CV 2/3; 17/90] START depth=3, iterations=60, learning_rate=0.005623413251903491\n",
            "[CV 2/3; 17/90] END depth=3, iterations=60, learning_rate=0.005623413251903491; total time=   3.3s\n",
            "[CV 3/3; 17/90] START depth=3, iterations=60, learning_rate=0.005623413251903491\n",
            "[CV 3/3; 17/90] END depth=3, iterations=60, learning_rate=0.005623413251903491; total time=   3.2s\n",
            "[CV 1/3; 18/90] START depth=3, iterations=60, learning_rate=0.03162277660168379.\n",
            "[CV 1/3; 18/90] END depth=3, iterations=60, learning_rate=0.03162277660168379; total time=   3.4s\n",
            "[CV 2/3; 18/90] START depth=3, iterations=60, learning_rate=0.03162277660168379.\n",
            "[CV 2/3; 18/90] END depth=3, iterations=60, learning_rate=0.03162277660168379; total time=   3.2s\n",
            "[CV 3/3; 18/90] START depth=3, iterations=60, learning_rate=0.03162277660168379.\n",
            "[CV 3/3; 18/90] END depth=3, iterations=60, learning_rate=0.03162277660168379; total time=   3.2s\n",
            "[CV 1/3; 19/90] START depth=3, iterations=60, learning_rate=0.1778279410038923..\n",
            "[CV 1/3; 19/90] END depth=3, iterations=60, learning_rate=0.1778279410038923; total time=   3.4s\n",
            "[CV 2/3; 19/90] START depth=3, iterations=60, learning_rate=0.1778279410038923..\n",
            "[CV 2/3; 19/90] END depth=3, iterations=60, learning_rate=0.1778279410038923; total time=   3.2s\n",
            "[CV 3/3; 19/90] START depth=3, iterations=60, learning_rate=0.1778279410038923..\n",
            "[CV 3/3; 19/90] END depth=3, iterations=60, learning_rate=0.1778279410038923; total time=   3.1s\n",
            "[CV 1/3; 20/90] START depth=3, iterations=60, learning_rate=1.0.................\n",
            "[CV 1/3; 20/90] END depth=3, iterations=60, learning_rate=1.0; total time=   3.5s\n",
            "[CV 2/3; 20/90] START depth=3, iterations=60, learning_rate=1.0.................\n",
            "[CV 2/3; 20/90] END depth=3, iterations=60, learning_rate=1.0; total time=   3.2s\n",
            "[CV 3/3; 20/90] START depth=3, iterations=60, learning_rate=1.0.................\n",
            "[CV 3/3; 20/90] END depth=3, iterations=60, learning_rate=1.0; total time=   3.1s\n",
            "[CV 1/3; 21/90] START depth=4, iterations=40, learning_rate=0.001...............\n",
            "[CV 1/3; 21/90] END depth=4, iterations=40, learning_rate=0.001; total time=   3.0s\n",
            "[CV 2/3; 21/90] START depth=4, iterations=40, learning_rate=0.001...............\n",
            "[CV 2/3; 21/90] END depth=4, iterations=40, learning_rate=0.001; total time=   2.8s\n",
            "[CV 3/3; 21/90] START depth=4, iterations=40, learning_rate=0.001...............\n",
            "[CV 3/3; 21/90] END depth=4, iterations=40, learning_rate=0.001; total time=   2.8s\n",
            "[CV 1/3; 22/90] START depth=4, iterations=40, learning_rate=0.005623413251903491\n",
            "[CV 1/3; 22/90] END depth=4, iterations=40, learning_rate=0.005623413251903491; total time=   2.7s\n",
            "[CV 2/3; 22/90] START depth=4, iterations=40, learning_rate=0.005623413251903491\n",
            "[CV 2/3; 22/90] END depth=4, iterations=40, learning_rate=0.005623413251903491; total time=   2.9s\n",
            "[CV 3/3; 22/90] START depth=4, iterations=40, learning_rate=0.005623413251903491\n",
            "[CV 3/3; 22/90] END depth=4, iterations=40, learning_rate=0.005623413251903491; total time=   2.7s\n",
            "[CV 1/3; 23/90] START depth=4, iterations=40, learning_rate=0.03162277660168379.\n",
            "[CV 1/3; 23/90] END depth=4, iterations=40, learning_rate=0.03162277660168379; total time=   2.7s\n",
            "[CV 2/3; 23/90] START depth=4, iterations=40, learning_rate=0.03162277660168379.\n",
            "[CV 2/3; 23/90] END depth=4, iterations=40, learning_rate=0.03162277660168379; total time=   2.8s\n",
            "[CV 3/3; 23/90] START depth=4, iterations=40, learning_rate=0.03162277660168379.\n",
            "[CV 3/3; 23/90] END depth=4, iterations=40, learning_rate=0.03162277660168379; total time=   2.9s\n",
            "[CV 1/3; 24/90] START depth=4, iterations=40, learning_rate=0.1778279410038923..\n",
            "[CV 1/3; 24/90] END depth=4, iterations=40, learning_rate=0.1778279410038923; total time=   3.0s\n",
            "[CV 2/3; 24/90] START depth=4, iterations=40, learning_rate=0.1778279410038923..\n",
            "[CV 2/3; 24/90] END depth=4, iterations=40, learning_rate=0.1778279410038923; total time=   2.9s\n",
            "[CV 3/3; 24/90] START depth=4, iterations=40, learning_rate=0.1778279410038923..\n",
            "[CV 3/3; 24/90] END depth=4, iterations=40, learning_rate=0.1778279410038923; total time=   3.0s\n",
            "[CV 1/3; 25/90] START depth=4, iterations=40, learning_rate=1.0.................\n",
            "[CV 1/3; 25/90] END depth=4, iterations=40, learning_rate=1.0; total time=   2.8s\n",
            "[CV 2/3; 25/90] START depth=4, iterations=40, learning_rate=1.0.................\n",
            "[CV 2/3; 25/90] END depth=4, iterations=40, learning_rate=1.0; total time=   2.8s\n",
            "[CV 3/3; 25/90] START depth=4, iterations=40, learning_rate=1.0.................\n",
            "[CV 3/3; 25/90] END depth=4, iterations=40, learning_rate=1.0; total time=   2.8s\n",
            "[CV 1/3; 26/90] START depth=4, iterations=60, learning_rate=0.001...............\n",
            "[CV 1/3; 26/90] END depth=4, iterations=60, learning_rate=0.001; total time=   3.8s\n",
            "[CV 2/3; 26/90] START depth=4, iterations=60, learning_rate=0.001...............\n",
            "[CV 2/3; 26/90] END depth=4, iterations=60, learning_rate=0.001; total time=   3.8s\n",
            "[CV 3/3; 26/90] START depth=4, iterations=60, learning_rate=0.001...............\n",
            "[CV 3/3; 26/90] END depth=4, iterations=60, learning_rate=0.001; total time=   3.7s\n",
            "[CV 1/3; 27/90] START depth=4, iterations=60, learning_rate=0.005623413251903491\n",
            "[CV 1/3; 27/90] END depth=4, iterations=60, learning_rate=0.005623413251903491; total time=   3.8s\n",
            "[CV 2/3; 27/90] START depth=4, iterations=60, learning_rate=0.005623413251903491\n",
            "[CV 2/3; 27/90] END depth=4, iterations=60, learning_rate=0.005623413251903491; total time=   3.6s\n",
            "[CV 3/3; 27/90] START depth=4, iterations=60, learning_rate=0.005623413251903491\n",
            "[CV 3/3; 27/90] END depth=4, iterations=60, learning_rate=0.005623413251903491; total time=   4.0s\n",
            "[CV 1/3; 28/90] START depth=4, iterations=60, learning_rate=0.03162277660168379.\n",
            "[CV 1/3; 28/90] END depth=4, iterations=60, learning_rate=0.03162277660168379; total time=   3.8s\n",
            "[CV 2/3; 28/90] START depth=4, iterations=60, learning_rate=0.03162277660168379.\n",
            "[CV 2/3; 28/90] END depth=4, iterations=60, learning_rate=0.03162277660168379; total time=   3.8s\n",
            "[CV 3/3; 28/90] START depth=4, iterations=60, learning_rate=0.03162277660168379.\n",
            "[CV 3/3; 28/90] END depth=4, iterations=60, learning_rate=0.03162277660168379; total time=   3.7s\n",
            "[CV 1/3; 29/90] START depth=4, iterations=60, learning_rate=0.1778279410038923..\n",
            "[CV 1/3; 29/90] END depth=4, iterations=60, learning_rate=0.1778279410038923; total time=   3.7s\n",
            "[CV 2/3; 29/90] START depth=4, iterations=60, learning_rate=0.1778279410038923..\n",
            "[CV 2/3; 29/90] END depth=4, iterations=60, learning_rate=0.1778279410038923; total time=   3.8s\n",
            "[CV 3/3; 29/90] START depth=4, iterations=60, learning_rate=0.1778279410038923..\n",
            "[CV 3/3; 29/90] END depth=4, iterations=60, learning_rate=0.1778279410038923; total time=   4.0s\n",
            "[CV 1/3; 30/90] START depth=4, iterations=60, learning_rate=1.0.................\n",
            "[CV 1/3; 30/90] END depth=4, iterations=60, learning_rate=1.0; total time=   3.8s\n",
            "[CV 2/3; 30/90] START depth=4, iterations=60, learning_rate=1.0.................\n",
            "[CV 2/3; 30/90] END depth=4, iterations=60, learning_rate=1.0; total time=   3.9s\n",
            "[CV 3/3; 30/90] START depth=4, iterations=60, learning_rate=1.0.................\n",
            "[CV 3/3; 30/90] END depth=4, iterations=60, learning_rate=1.0; total time=   3.8s\n",
            "[CV 1/3; 31/90] START depth=5, iterations=40, learning_rate=0.001...............\n",
            "[CV 1/3; 31/90] END depth=5, iterations=40, learning_rate=0.001; total time=   3.2s\n",
            "[CV 2/3; 31/90] START depth=5, iterations=40, learning_rate=0.001...............\n",
            "[CV 2/3; 31/90] END depth=5, iterations=40, learning_rate=0.001; total time=   3.2s\n",
            "[CV 3/3; 31/90] START depth=5, iterations=40, learning_rate=0.001...............\n",
            "[CV 3/3; 31/90] END depth=5, iterations=40, learning_rate=0.001; total time=   3.0s\n",
            "[CV 1/3; 32/90] START depth=5, iterations=40, learning_rate=0.005623413251903491\n",
            "[CV 1/3; 32/90] END depth=5, iterations=40, learning_rate=0.005623413251903491; total time=   3.1s\n",
            "[CV 2/3; 32/90] START depth=5, iterations=40, learning_rate=0.005623413251903491\n",
            "[CV 2/3; 32/90] END depth=5, iterations=40, learning_rate=0.005623413251903491; total time=   3.1s\n",
            "[CV 3/3; 32/90] START depth=5, iterations=40, learning_rate=0.005623413251903491\n",
            "[CV 3/3; 32/90] END depth=5, iterations=40, learning_rate=0.005623413251903491; total time=   3.0s\n",
            "[CV 1/3; 33/90] START depth=5, iterations=40, learning_rate=0.03162277660168379.\n",
            "[CV 1/3; 33/90] END depth=5, iterations=40, learning_rate=0.03162277660168379; total time=   3.2s\n",
            "[CV 2/3; 33/90] START depth=5, iterations=40, learning_rate=0.03162277660168379.\n",
            "[CV 2/3; 33/90] END depth=5, iterations=40, learning_rate=0.03162277660168379; total time=   3.1s\n",
            "[CV 3/3; 33/90] START depth=5, iterations=40, learning_rate=0.03162277660168379.\n",
            "[CV 3/3; 33/90] END depth=5, iterations=40, learning_rate=0.03162277660168379; total time=   2.9s\n",
            "[CV 1/3; 34/90] START depth=5, iterations=40, learning_rate=0.1778279410038923..\n",
            "[CV 1/3; 34/90] END depth=5, iterations=40, learning_rate=0.1778279410038923; total time=   3.1s\n",
            "[CV 2/3; 34/90] START depth=5, iterations=40, learning_rate=0.1778279410038923..\n",
            "[CV 2/3; 34/90] END depth=5, iterations=40, learning_rate=0.1778279410038923; total time=   3.1s\n",
            "[CV 3/3; 34/90] START depth=5, iterations=40, learning_rate=0.1778279410038923..\n",
            "[CV 3/3; 34/90] END depth=5, iterations=40, learning_rate=0.1778279410038923; total time=   3.0s\n",
            "[CV 1/3; 35/90] START depth=5, iterations=40, learning_rate=1.0.................\n",
            "[CV 1/3; 35/90] END depth=5, iterations=40, learning_rate=1.0; total time=   3.0s\n",
            "[CV 2/3; 35/90] START depth=5, iterations=40, learning_rate=1.0.................\n",
            "[CV 2/3; 35/90] END depth=5, iterations=40, learning_rate=1.0; total time=   3.1s\n",
            "[CV 3/3; 35/90] START depth=5, iterations=40, learning_rate=1.0.................\n",
            "[CV 3/3; 35/90] END depth=5, iterations=40, learning_rate=1.0; total time=   3.0s\n",
            "[CV 1/3; 36/90] START depth=5, iterations=60, learning_rate=0.001...............\n",
            "[CV 1/3; 36/90] END depth=5, iterations=60, learning_rate=0.001; total time=   4.2s\n",
            "[CV 2/3; 36/90] START depth=5, iterations=60, learning_rate=0.001...............\n",
            "[CV 2/3; 36/90] END depth=5, iterations=60, learning_rate=0.001; total time=   4.1s\n",
            "[CV 3/3; 36/90] START depth=5, iterations=60, learning_rate=0.001...............\n",
            "[CV 3/3; 36/90] END depth=5, iterations=60, learning_rate=0.001; total time=   4.0s\n",
            "[CV 1/3; 37/90] START depth=5, iterations=60, learning_rate=0.005623413251903491\n",
            "[CV 1/3; 37/90] END depth=5, iterations=60, learning_rate=0.005623413251903491; total time=   4.1s\n",
            "[CV 2/3; 37/90] START depth=5, iterations=60, learning_rate=0.005623413251903491\n",
            "[CV 2/3; 37/90] END depth=5, iterations=60, learning_rate=0.005623413251903491; total time=   4.1s\n",
            "[CV 3/3; 37/90] START depth=5, iterations=60, learning_rate=0.005623413251903491\n",
            "[CV 3/3; 37/90] END depth=5, iterations=60, learning_rate=0.005623413251903491; total time=   4.1s\n",
            "[CV 1/3; 38/90] START depth=5, iterations=60, learning_rate=0.03162277660168379.\n",
            "[CV 1/3; 38/90] END depth=5, iterations=60, learning_rate=0.03162277660168379; total time=   4.2s\n",
            "[CV 2/3; 38/90] START depth=5, iterations=60, learning_rate=0.03162277660168379.\n",
            "[CV 2/3; 38/90] END depth=5, iterations=60, learning_rate=0.03162277660168379; total time=   4.1s\n",
            "[CV 3/3; 38/90] START depth=5, iterations=60, learning_rate=0.03162277660168379.\n",
            "[CV 3/3; 38/90] END depth=5, iterations=60, learning_rate=0.03162277660168379; total time=   4.5s\n",
            "[CV 1/3; 39/90] START depth=5, iterations=60, learning_rate=0.1778279410038923..\n",
            "[CV 1/3; 39/90] END depth=5, iterations=60, learning_rate=0.1778279410038923; total time=   4.6s\n",
            "[CV 2/3; 39/90] START depth=5, iterations=60, learning_rate=0.1778279410038923..\n",
            "[CV 2/3; 39/90] END depth=5, iterations=60, learning_rate=0.1778279410038923; total time=   4.3s\n",
            "[CV 3/3; 39/90] START depth=5, iterations=60, learning_rate=0.1778279410038923..\n",
            "[CV 3/3; 39/90] END depth=5, iterations=60, learning_rate=0.1778279410038923; total time=   4.3s\n",
            "[CV 1/3; 40/90] START depth=5, iterations=60, learning_rate=1.0.................\n",
            "[CV 1/3; 40/90] END depth=5, iterations=60, learning_rate=1.0; total time=   4.3s\n",
            "[CV 2/3; 40/90] START depth=5, iterations=60, learning_rate=1.0.................\n",
            "[CV 2/3; 40/90] END depth=5, iterations=60, learning_rate=1.0; total time=   4.3s\n",
            "[CV 3/3; 40/90] START depth=5, iterations=60, learning_rate=1.0.................\n",
            "[CV 3/3; 40/90] END depth=5, iterations=60, learning_rate=1.0; total time=   4.2s\n",
            "[CV 1/3; 41/90] START depth=6, iterations=40, learning_rate=0.001...............\n",
            "[CV 1/3; 41/90] END depth=6, iterations=40, learning_rate=0.001; total time=   3.6s\n",
            "[CV 2/3; 41/90] START depth=6, iterations=40, learning_rate=0.001...............\n",
            "[CV 2/3; 41/90] END depth=6, iterations=40, learning_rate=0.001; total time=   3.3s\n",
            "[CV 3/3; 41/90] START depth=6, iterations=40, learning_rate=0.001...............\n",
            "[CV 3/3; 41/90] END depth=6, iterations=40, learning_rate=0.001; total time=   3.4s\n",
            "[CV 1/3; 42/90] START depth=6, iterations=40, learning_rate=0.005623413251903491\n",
            "[CV 1/3; 42/90] END depth=6, iterations=40, learning_rate=0.005623413251903491; total time=   3.5s\n",
            "[CV 2/3; 42/90] START depth=6, iterations=40, learning_rate=0.005623413251903491\n",
            "[CV 2/3; 42/90] END depth=6, iterations=40, learning_rate=0.005623413251903491; total time=   3.4s\n",
            "[CV 3/3; 42/90] START depth=6, iterations=40, learning_rate=0.005623413251903491\n",
            "[CV 3/3; 42/90] END depth=6, iterations=40, learning_rate=0.005623413251903491; total time=   3.3s\n",
            "[CV 1/3; 43/90] START depth=6, iterations=40, learning_rate=0.03162277660168379.\n",
            "[CV 1/3; 43/90] END depth=6, iterations=40, learning_rate=0.03162277660168379; total time=   3.5s\n",
            "[CV 2/3; 43/90] START depth=6, iterations=40, learning_rate=0.03162277660168379.\n",
            "[CV 2/3; 43/90] END depth=6, iterations=40, learning_rate=0.03162277660168379; total time=   3.3s\n",
            "[CV 3/3; 43/90] START depth=6, iterations=40, learning_rate=0.03162277660168379.\n",
            "[CV 3/3; 43/90] END depth=6, iterations=40, learning_rate=0.03162277660168379; total time=   3.3s\n",
            "[CV 1/3; 44/90] START depth=6, iterations=40, learning_rate=0.1778279410038923..\n",
            "[CV 1/3; 44/90] END depth=6, iterations=40, learning_rate=0.1778279410038923; total time=   3.5s\n",
            "[CV 2/3; 44/90] START depth=6, iterations=40, learning_rate=0.1778279410038923..\n",
            "[CV 2/3; 44/90] END depth=6, iterations=40, learning_rate=0.1778279410038923; total time=   3.3s\n",
            "[CV 3/3; 44/90] START depth=6, iterations=40, learning_rate=0.1778279410038923..\n",
            "[CV 3/3; 44/90] END depth=6, iterations=40, learning_rate=0.1778279410038923; total time=   3.5s\n",
            "[CV 1/3; 45/90] START depth=6, iterations=40, learning_rate=1.0.................\n",
            "[CV 1/3; 45/90] END depth=6, iterations=40, learning_rate=1.0; total time=   3.5s\n",
            "[CV 2/3; 45/90] START depth=6, iterations=40, learning_rate=1.0.................\n",
            "[CV 2/3; 45/90] END depth=6, iterations=40, learning_rate=1.0; total time=   3.4s\n",
            "[CV 3/3; 45/90] START depth=6, iterations=40, learning_rate=1.0.................\n",
            "[CV 3/3; 45/90] END depth=6, iterations=40, learning_rate=1.0; total time=   3.4s\n",
            "[CV 1/3; 46/90] START depth=6, iterations=60, learning_rate=0.001...............\n",
            "[CV 1/3; 46/90] END depth=6, iterations=60, learning_rate=0.001; total time=   4.8s\n",
            "[CV 2/3; 46/90] START depth=6, iterations=60, learning_rate=0.001...............\n",
            "[CV 2/3; 46/90] END depth=6, iterations=60, learning_rate=0.001; total time=   4.6s\n",
            "[CV 3/3; 46/90] START depth=6, iterations=60, learning_rate=0.001...............\n",
            "[CV 3/3; 46/90] END depth=6, iterations=60, learning_rate=0.001; total time=   4.7s\n",
            "[CV 1/3; 47/90] START depth=6, iterations=60, learning_rate=0.005623413251903491\n",
            "[CV 1/3; 47/90] END depth=6, iterations=60, learning_rate=0.005623413251903491; total time=   4.7s\n",
            "[CV 2/3; 47/90] START depth=6, iterations=60, learning_rate=0.005623413251903491\n",
            "[CV 2/3; 47/90] END depth=6, iterations=60, learning_rate=0.005623413251903491; total time=   5.0s\n",
            "[CV 3/3; 47/90] START depth=6, iterations=60, learning_rate=0.005623413251903491\n",
            "[CV 3/3; 47/90] END depth=6, iterations=60, learning_rate=0.005623413251903491; total time=   4.6s\n",
            "[CV 1/3; 48/90] START depth=6, iterations=60, learning_rate=0.03162277660168379.\n",
            "[CV 1/3; 48/90] END depth=6, iterations=60, learning_rate=0.03162277660168379; total time=   4.7s\n",
            "[CV 2/3; 48/90] START depth=6, iterations=60, learning_rate=0.03162277660168379.\n",
            "[CV 2/3; 48/90] END depth=6, iterations=60, learning_rate=0.03162277660168379; total time=   4.7s\n",
            "[CV 3/3; 48/90] START depth=6, iterations=60, learning_rate=0.03162277660168379.\n",
            "[CV 3/3; 48/90] END depth=6, iterations=60, learning_rate=0.03162277660168379; total time=   4.9s\n",
            "[CV 1/3; 49/90] START depth=6, iterations=60, learning_rate=0.1778279410038923..\n",
            "[CV 1/3; 49/90] END depth=6, iterations=60, learning_rate=0.1778279410038923; total time=   4.9s\n",
            "[CV 2/3; 49/90] START depth=6, iterations=60, learning_rate=0.1778279410038923..\n",
            "[CV 2/3; 49/90] END depth=6, iterations=60, learning_rate=0.1778279410038923; total time=   4.8s\n",
            "[CV 3/3; 49/90] START depth=6, iterations=60, learning_rate=0.1778279410038923..\n",
            "[CV 3/3; 49/90] END depth=6, iterations=60, learning_rate=0.1778279410038923; total time=   4.7s\n",
            "[CV 1/3; 50/90] START depth=6, iterations=60, learning_rate=1.0.................\n",
            "[CV 1/3; 50/90] END depth=6, iterations=60, learning_rate=1.0; total time=   4.5s\n",
            "[CV 2/3; 50/90] START depth=6, iterations=60, learning_rate=1.0.................\n",
            "[CV 2/3; 50/90] END depth=6, iterations=60, learning_rate=1.0; total time=   4.7s\n",
            "[CV 3/3; 50/90] START depth=6, iterations=60, learning_rate=1.0.................\n",
            "[CV 3/3; 50/90] END depth=6, iterations=60, learning_rate=1.0; total time=   5.0s\n",
            "[CV 1/3; 51/90] START depth=7, iterations=40, learning_rate=0.001...............\n",
            "[CV 1/3; 51/90] END depth=7, iterations=40, learning_rate=0.001; total time=   3.9s\n",
            "[CV 2/3; 51/90] START depth=7, iterations=40, learning_rate=0.001...............\n",
            "[CV 2/3; 51/90] END depth=7, iterations=40, learning_rate=0.001; total time=   3.8s\n",
            "[CV 3/3; 51/90] START depth=7, iterations=40, learning_rate=0.001...............\n",
            "[CV 3/3; 51/90] END depth=7, iterations=40, learning_rate=0.001; total time=   4.0s\n",
            "[CV 1/3; 52/90] START depth=7, iterations=40, learning_rate=0.005623413251903491\n",
            "[CV 1/3; 52/90] END depth=7, iterations=40, learning_rate=0.005623413251903491; total time=   3.7s\n",
            "[CV 2/3; 52/90] START depth=7, iterations=40, learning_rate=0.005623413251903491\n",
            "[CV 2/3; 52/90] END depth=7, iterations=40, learning_rate=0.005623413251903491; total time=   3.6s\n",
            "[CV 3/3; 52/90] START depth=7, iterations=40, learning_rate=0.005623413251903491\n",
            "[CV 3/3; 52/90] END depth=7, iterations=40, learning_rate=0.005623413251903491; total time=   3.9s\n",
            "[CV 1/3; 53/90] START depth=7, iterations=40, learning_rate=0.03162277660168379.\n",
            "[CV 1/3; 53/90] END depth=7, iterations=40, learning_rate=0.03162277660168379; total time=   3.7s\n",
            "[CV 2/3; 53/90] START depth=7, iterations=40, learning_rate=0.03162277660168379.\n",
            "[CV 2/3; 53/90] END depth=7, iterations=40, learning_rate=0.03162277660168379; total time=   3.7s\n",
            "[CV 3/3; 53/90] START depth=7, iterations=40, learning_rate=0.03162277660168379.\n",
            "[CV 3/3; 53/90] END depth=7, iterations=40, learning_rate=0.03162277660168379; total time=   3.6s\n",
            "[CV 1/3; 54/90] START depth=7, iterations=40, learning_rate=0.1778279410038923..\n",
            "[CV 1/3; 54/90] END depth=7, iterations=40, learning_rate=0.1778279410038923; total time=   3.7s\n",
            "[CV 2/3; 54/90] START depth=7, iterations=40, learning_rate=0.1778279410038923..\n",
            "[CV 2/3; 54/90] END depth=7, iterations=40, learning_rate=0.1778279410038923; total time=   4.0s\n",
            "[CV 3/3; 54/90] START depth=7, iterations=40, learning_rate=0.1778279410038923..\n",
            "[CV 3/3; 54/90] END depth=7, iterations=40, learning_rate=0.1778279410038923; total time=   3.7s\n",
            "[CV 1/3; 55/90] START depth=7, iterations=40, learning_rate=1.0.................\n",
            "[CV 1/3; 55/90] END depth=7, iterations=40, learning_rate=1.0; total time=   3.7s\n",
            "[CV 2/3; 55/90] START depth=7, iterations=40, learning_rate=1.0.................\n",
            "[CV 2/3; 55/90] END depth=7, iterations=40, learning_rate=1.0; total time=   4.1s\n",
            "[CV 3/3; 55/90] START depth=7, iterations=40, learning_rate=1.0.................\n",
            "[CV 3/3; 55/90] END depth=7, iterations=40, learning_rate=1.0; total time=   3.9s\n",
            "[CV 1/3; 56/90] START depth=7, iterations=60, learning_rate=0.001...............\n",
            "[CV 1/3; 56/90] END depth=7, iterations=60, learning_rate=0.001; total time=   5.3s\n",
            "[CV 2/3; 56/90] START depth=7, iterations=60, learning_rate=0.001...............\n",
            "[CV 2/3; 56/90] END depth=7, iterations=60, learning_rate=0.001; total time=   5.1s\n",
            "[CV 3/3; 56/90] START depth=7, iterations=60, learning_rate=0.001...............\n",
            "[CV 3/3; 56/90] END depth=7, iterations=60, learning_rate=0.001; total time=   5.1s\n",
            "[CV 1/3; 57/90] START depth=7, iterations=60, learning_rate=0.005623413251903491\n",
            "[CV 1/3; 57/90] END depth=7, iterations=60, learning_rate=0.005623413251903491; total time=   5.1s\n",
            "[CV 2/3; 57/90] START depth=7, iterations=60, learning_rate=0.005623413251903491\n",
            "[CV 2/3; 57/90] END depth=7, iterations=60, learning_rate=0.005623413251903491; total time=   5.2s\n",
            "[CV 3/3; 57/90] START depth=7, iterations=60, learning_rate=0.005623413251903491\n",
            "[CV 3/3; 57/90] END depth=7, iterations=60, learning_rate=0.005623413251903491; total time=   5.1s\n",
            "[CV 1/3; 58/90] START depth=7, iterations=60, learning_rate=0.03162277660168379.\n",
            "[CV 1/3; 58/90] END depth=7, iterations=60, learning_rate=0.03162277660168379; total time=   5.5s\n",
            "[CV 2/3; 58/90] START depth=7, iterations=60, learning_rate=0.03162277660168379.\n",
            "[CV 2/3; 58/90] END depth=7, iterations=60, learning_rate=0.03162277660168379; total time=   5.1s\n",
            "[CV 3/3; 58/90] START depth=7, iterations=60, learning_rate=0.03162277660168379.\n",
            "[CV 3/3; 58/90] END depth=7, iterations=60, learning_rate=0.03162277660168379; total time=   5.1s\n",
            "[CV 1/3; 59/90] START depth=7, iterations=60, learning_rate=0.1778279410038923..\n",
            "[CV 1/3; 59/90] END depth=7, iterations=60, learning_rate=0.1778279410038923; total time=   5.6s\n",
            "[CV 2/3; 59/90] START depth=7, iterations=60, learning_rate=0.1778279410038923..\n",
            "[CV 2/3; 59/90] END depth=7, iterations=60, learning_rate=0.1778279410038923; total time=   5.3s\n",
            "[CV 3/3; 59/90] START depth=7, iterations=60, learning_rate=0.1778279410038923..\n",
            "[CV 3/3; 59/90] END depth=7, iterations=60, learning_rate=0.1778279410038923; total time=   5.1s\n",
            "[CV 1/3; 60/90] START depth=7, iterations=60, learning_rate=1.0.................\n",
            "[CV 1/3; 60/90] END depth=7, iterations=60, learning_rate=1.0; total time=   5.2s\n",
            "[CV 2/3; 60/90] START depth=7, iterations=60, learning_rate=1.0.................\n",
            "[CV 2/3; 60/90] END depth=7, iterations=60, learning_rate=1.0; total time=   5.3s\n",
            "[CV 3/3; 60/90] START depth=7, iterations=60, learning_rate=1.0.................\n",
            "[CV 3/3; 60/90] END depth=7, iterations=60, learning_rate=1.0; total time=   5.4s\n",
            "[CV 1/3; 61/90] START depth=8, iterations=40, learning_rate=0.001...............\n",
            "[CV 1/3; 61/90] END depth=8, iterations=40, learning_rate=0.001; total time=   4.2s\n",
            "[CV 2/3; 61/90] START depth=8, iterations=40, learning_rate=0.001...............\n",
            "[CV 2/3; 61/90] END depth=8, iterations=40, learning_rate=0.001; total time=   4.2s\n",
            "[CV 3/3; 61/90] START depth=8, iterations=40, learning_rate=0.001...............\n",
            "[CV 3/3; 61/90] END depth=8, iterations=40, learning_rate=0.001; total time=   4.0s\n",
            "[CV 1/3; 62/90] START depth=8, iterations=40, learning_rate=0.005623413251903491\n",
            "[CV 1/3; 62/90] END depth=8, iterations=40, learning_rate=0.005623413251903491; total time=   4.1s\n",
            "[CV 2/3; 62/90] START depth=8, iterations=40, learning_rate=0.005623413251903491\n",
            "[CV 2/3; 62/90] END depth=8, iterations=40, learning_rate=0.005623413251903491; total time=   4.1s\n",
            "[CV 3/3; 62/90] START depth=8, iterations=40, learning_rate=0.005623413251903491\n",
            "[CV 3/3; 62/90] END depth=8, iterations=40, learning_rate=0.005623413251903491; total time=   4.2s\n",
            "[CV 1/3; 63/90] START depth=8, iterations=40, learning_rate=0.03162277660168379.\n",
            "[CV 1/3; 63/90] END depth=8, iterations=40, learning_rate=0.03162277660168379; total time=   4.1s\n",
            "[CV 2/3; 63/90] START depth=8, iterations=40, learning_rate=0.03162277660168379.\n",
            "[CV 2/3; 63/90] END depth=8, iterations=40, learning_rate=0.03162277660168379; total time=   4.0s\n",
            "[CV 3/3; 63/90] START depth=8, iterations=40, learning_rate=0.03162277660168379.\n",
            "[CV 3/3; 63/90] END depth=8, iterations=40, learning_rate=0.03162277660168379; total time=   4.2s\n",
            "[CV 1/3; 64/90] START depth=8, iterations=40, learning_rate=0.1778279410038923..\n",
            "[CV 1/3; 64/90] END depth=8, iterations=40, learning_rate=0.1778279410038923; total time=   4.1s\n",
            "[CV 2/3; 64/90] START depth=8, iterations=40, learning_rate=0.1778279410038923..\n",
            "[CV 2/3; 64/90] END depth=8, iterations=40, learning_rate=0.1778279410038923; total time=   4.2s\n",
            "[CV 3/3; 64/90] START depth=8, iterations=40, learning_rate=0.1778279410038923..\n",
            "[CV 3/3; 64/90] END depth=8, iterations=40, learning_rate=0.1778279410038923; total time=   4.1s\n",
            "[CV 1/3; 65/90] START depth=8, iterations=40, learning_rate=1.0.................\n",
            "[CV 1/3; 65/90] END depth=8, iterations=40, learning_rate=1.0; total time=   4.3s\n",
            "[CV 2/3; 65/90] START depth=8, iterations=40, learning_rate=1.0.................\n",
            "[CV 2/3; 65/90] END depth=8, iterations=40, learning_rate=1.0; total time=   4.3s\n",
            "[CV 3/3; 65/90] START depth=8, iterations=40, learning_rate=1.0.................\n",
            "[CV 3/3; 65/90] END depth=8, iterations=40, learning_rate=1.0; total time=   4.1s\n",
            "[CV 1/3; 66/90] START depth=8, iterations=60, learning_rate=0.001...............\n",
            "[CV 1/3; 66/90] END depth=8, iterations=60, learning_rate=0.001; total time=   5.9s\n",
            "[CV 2/3; 66/90] START depth=8, iterations=60, learning_rate=0.001...............\n",
            "[CV 2/3; 66/90] END depth=8, iterations=60, learning_rate=0.001; total time=   5.7s\n",
            "[CV 3/3; 66/90] START depth=8, iterations=60, learning_rate=0.001...............\n",
            "[CV 3/3; 66/90] END depth=8, iterations=60, learning_rate=0.001; total time=   6.1s\n",
            "[CV 1/3; 67/90] START depth=8, iterations=60, learning_rate=0.005623413251903491\n",
            "[CV 1/3; 67/90] END depth=8, iterations=60, learning_rate=0.005623413251903491; total time=   5.9s\n",
            "[CV 2/3; 67/90] START depth=8, iterations=60, learning_rate=0.005623413251903491\n",
            "[CV 2/3; 67/90] END depth=8, iterations=60, learning_rate=0.005623413251903491; total time=   5.7s\n",
            "[CV 3/3; 67/90] START depth=8, iterations=60, learning_rate=0.005623413251903491\n",
            "[CV 3/3; 67/90] END depth=8, iterations=60, learning_rate=0.005623413251903491; total time=   5.9s\n",
            "[CV 1/3; 68/90] START depth=8, iterations=60, learning_rate=0.03162277660168379.\n",
            "[CV 1/3; 68/90] END depth=8, iterations=60, learning_rate=0.03162277660168379; total time=   6.0s\n",
            "[CV 2/3; 68/90] START depth=8, iterations=60, learning_rate=0.03162277660168379.\n",
            "[CV 2/3; 68/90] END depth=8, iterations=60, learning_rate=0.03162277660168379; total time=   5.9s\n",
            "[CV 3/3; 68/90] START depth=8, iterations=60, learning_rate=0.03162277660168379.\n",
            "[CV 3/3; 68/90] END depth=8, iterations=60, learning_rate=0.03162277660168379; total time=   5.8s\n",
            "[CV 1/3; 69/90] START depth=8, iterations=60, learning_rate=0.1778279410038923..\n",
            "[CV 1/3; 69/90] END depth=8, iterations=60, learning_rate=0.1778279410038923; total time=   5.9s\n",
            "[CV 2/3; 69/90] START depth=8, iterations=60, learning_rate=0.1778279410038923..\n",
            "[CV 2/3; 69/90] END depth=8, iterations=60, learning_rate=0.1778279410038923; total time=   6.1s\n",
            "[CV 3/3; 69/90] START depth=8, iterations=60, learning_rate=0.1778279410038923..\n",
            "[CV 3/3; 69/90] END depth=8, iterations=60, learning_rate=0.1778279410038923; total time=   5.9s\n",
            "[CV 1/3; 70/90] START depth=8, iterations=60, learning_rate=1.0.................\n",
            "[CV 1/3; 70/90] END depth=8, iterations=60, learning_rate=1.0; total time=   5.8s\n",
            "[CV 2/3; 70/90] START depth=8, iterations=60, learning_rate=1.0.................\n",
            "[CV 2/3; 70/90] END depth=8, iterations=60, learning_rate=1.0; total time=   5.8s\n",
            "[CV 3/3; 70/90] START depth=8, iterations=60, learning_rate=1.0.................\n",
            "[CV 3/3; 70/90] END depth=8, iterations=60, learning_rate=1.0; total time=   6.0s\n",
            "[CV 1/3; 71/90] START depth=9, iterations=40, learning_rate=0.001...............\n",
            "[CV 1/3; 71/90] END depth=9, iterations=40, learning_rate=0.001; total time=   4.7s\n",
            "[CV 2/3; 71/90] START depth=9, iterations=40, learning_rate=0.001...............\n",
            "[CV 2/3; 71/90] END depth=9, iterations=40, learning_rate=0.001; total time=   4.8s\n",
            "[CV 3/3; 71/90] START depth=9, iterations=40, learning_rate=0.001...............\n",
            "[CV 3/3; 71/90] END depth=9, iterations=40, learning_rate=0.001; total time=   4.7s\n",
            "[CV 1/3; 72/90] START depth=9, iterations=40, learning_rate=0.005623413251903491\n",
            "[CV 1/3; 72/90] END depth=9, iterations=40, learning_rate=0.005623413251903491; total time=   4.6s\n",
            "[CV 2/3; 72/90] START depth=9, iterations=40, learning_rate=0.005623413251903491\n",
            "[CV 2/3; 72/90] END depth=9, iterations=40, learning_rate=0.005623413251903491; total time=   4.7s\n",
            "[CV 3/3; 72/90] START depth=9, iterations=40, learning_rate=0.005623413251903491\n",
            "[CV 3/3; 72/90] END depth=9, iterations=40, learning_rate=0.005623413251903491; total time=   4.8s\n",
            "[CV 1/3; 73/90] START depth=9, iterations=40, learning_rate=0.03162277660168379.\n",
            "[CV 1/3; 73/90] END depth=9, iterations=40, learning_rate=0.03162277660168379; total time=   4.6s\n",
            "[CV 2/3; 73/90] START depth=9, iterations=40, learning_rate=0.03162277660168379.\n",
            "[CV 2/3; 73/90] END depth=9, iterations=40, learning_rate=0.03162277660168379; total time=   4.8s\n",
            "[CV 3/3; 73/90] START depth=9, iterations=40, learning_rate=0.03162277660168379.\n",
            "[CV 3/3; 73/90] END depth=9, iterations=40, learning_rate=0.03162277660168379; total time=   4.8s\n",
            "[CV 1/3; 74/90] START depth=9, iterations=40, learning_rate=0.1778279410038923..\n",
            "[CV 1/3; 74/90] END depth=9, iterations=40, learning_rate=0.1778279410038923; total time=   5.1s\n",
            "[CV 2/3; 74/90] START depth=9, iterations=40, learning_rate=0.1778279410038923..\n",
            "[CV 2/3; 74/90] END depth=9, iterations=40, learning_rate=0.1778279410038923; total time=   4.7s\n",
            "[CV 3/3; 74/90] START depth=9, iterations=40, learning_rate=0.1778279410038923..\n",
            "[CV 3/3; 74/90] END depth=9, iterations=40, learning_rate=0.1778279410038923; total time=   4.8s\n",
            "[CV 1/3; 75/90] START depth=9, iterations=40, learning_rate=1.0.................\n",
            "[CV 1/3; 75/90] END depth=9, iterations=40, learning_rate=1.0; total time=   4.6s\n",
            "[CV 2/3; 75/90] START depth=9, iterations=40, learning_rate=1.0.................\n",
            "[CV 2/3; 75/90] END depth=9, iterations=40, learning_rate=1.0; total time=   4.9s\n",
            "[CV 3/3; 75/90] START depth=9, iterations=40, learning_rate=1.0.................\n",
            "[CV 3/3; 75/90] END depth=9, iterations=40, learning_rate=1.0; total time=   4.7s\n",
            "[CV 1/3; 76/90] START depth=9, iterations=60, learning_rate=0.001...............\n",
            "[CV 1/3; 76/90] END depth=9, iterations=60, learning_rate=0.001; total time=   6.9s\n",
            "[CV 2/3; 76/90] START depth=9, iterations=60, learning_rate=0.001...............\n",
            "[CV 2/3; 76/90] END depth=9, iterations=60, learning_rate=0.001; total time=   6.8s\n",
            "[CV 3/3; 76/90] START depth=9, iterations=60, learning_rate=0.001...............\n",
            "[CV 3/3; 76/90] END depth=9, iterations=60, learning_rate=0.001; total time=   6.8s\n",
            "[CV 1/3; 77/90] START depth=9, iterations=60, learning_rate=0.005623413251903491\n",
            "[CV 1/3; 77/90] END depth=9, iterations=60, learning_rate=0.005623413251903491; total time=   6.9s\n",
            "[CV 2/3; 77/90] START depth=9, iterations=60, learning_rate=0.005623413251903491\n",
            "[CV 2/3; 77/90] END depth=9, iterations=60, learning_rate=0.005623413251903491; total time=   6.6s\n",
            "[CV 3/3; 77/90] START depth=9, iterations=60, learning_rate=0.005623413251903491\n",
            "[CV 3/3; 77/90] END depth=9, iterations=60, learning_rate=0.005623413251903491; total time=   6.6s\n",
            "[CV 1/3; 78/90] START depth=9, iterations=60, learning_rate=0.03162277660168379.\n",
            "[CV 1/3; 78/90] END depth=9, iterations=60, learning_rate=0.03162277660168379; total time=   6.7s\n",
            "[CV 2/3; 78/90] START depth=9, iterations=60, learning_rate=0.03162277660168379.\n",
            "[CV 2/3; 78/90] END depth=9, iterations=60, learning_rate=0.03162277660168379; total time=   6.8s\n",
            "[CV 3/3; 78/90] START depth=9, iterations=60, learning_rate=0.03162277660168379.\n",
            "[CV 3/3; 78/90] END depth=9, iterations=60, learning_rate=0.03162277660168379; total time=   6.6s\n",
            "[CV 1/3; 79/90] START depth=9, iterations=60, learning_rate=0.1778279410038923..\n",
            "[CV 1/3; 79/90] END depth=9, iterations=60, learning_rate=0.1778279410038923; total time=   6.8s\n",
            "[CV 2/3; 79/90] START depth=9, iterations=60, learning_rate=0.1778279410038923..\n",
            "[CV 2/3; 79/90] END depth=9, iterations=60, learning_rate=0.1778279410038923; total time=   6.6s\n",
            "[CV 3/3; 79/90] START depth=9, iterations=60, learning_rate=0.1778279410038923..\n",
            "[CV 3/3; 79/90] END depth=9, iterations=60, learning_rate=0.1778279410038923; total time=   6.7s\n",
            "[CV 1/3; 80/90] START depth=9, iterations=60, learning_rate=1.0.................\n",
            "[CV 1/3; 80/90] END depth=9, iterations=60, learning_rate=1.0; total time=   6.9s\n",
            "[CV 2/3; 80/90] START depth=9, iterations=60, learning_rate=1.0.................\n",
            "[CV 2/3; 80/90] END depth=9, iterations=60, learning_rate=1.0; total time=   7.3s\n",
            "[CV 3/3; 80/90] START depth=9, iterations=60, learning_rate=1.0.................\n",
            "[CV 3/3; 80/90] END depth=9, iterations=60, learning_rate=1.0; total time=   6.8s\n",
            "[CV 1/3; 81/90] START depth=10, iterations=40, learning_rate=0.001..............\n",
            "[CV 1/3; 81/90] END depth=10, iterations=40, learning_rate=0.001; total time=   5.2s\n",
            "[CV 2/3; 81/90] START depth=10, iterations=40, learning_rate=0.001..............\n",
            "[CV 2/3; 81/90] END depth=10, iterations=40, learning_rate=0.001; total time=   5.1s\n",
            "[CV 3/3; 81/90] START depth=10, iterations=40, learning_rate=0.001..............\n",
            "[CV 3/3; 81/90] END depth=10, iterations=40, learning_rate=0.001; total time=   5.1s\n",
            "[CV 1/3; 82/90] START depth=10, iterations=40, learning_rate=0.005623413251903491\n",
            "[CV 1/3; 82/90] END depth=10, iterations=40, learning_rate=0.005623413251903491; total time=   5.0s\n",
            "[CV 2/3; 82/90] START depth=10, iterations=40, learning_rate=0.005623413251903491\n",
            "[CV 2/3; 82/90] END depth=10, iterations=40, learning_rate=0.005623413251903491; total time=   5.0s\n",
            "[CV 3/3; 82/90] START depth=10, iterations=40, learning_rate=0.005623413251903491\n",
            "[CV 3/3; 82/90] END depth=10, iterations=40, learning_rate=0.005623413251903491; total time=   4.9s\n",
            "[CV 1/3; 83/90] START depth=10, iterations=40, learning_rate=0.03162277660168379\n",
            "[CV 1/3; 83/90] END depth=10, iterations=40, learning_rate=0.03162277660168379; total time=   4.9s\n",
            "[CV 2/3; 83/90] START depth=10, iterations=40, learning_rate=0.03162277660168379\n",
            "[CV 2/3; 83/90] END depth=10, iterations=40, learning_rate=0.03162277660168379; total time=   4.9s\n",
            "[CV 3/3; 83/90] START depth=10, iterations=40, learning_rate=0.03162277660168379\n",
            "[CV 3/3; 83/90] END depth=10, iterations=40, learning_rate=0.03162277660168379; total time=   5.3s\n",
            "[CV 1/3; 84/90] START depth=10, iterations=40, learning_rate=0.1778279410038923.\n",
            "[CV 1/3; 84/90] END depth=10, iterations=40, learning_rate=0.1778279410038923; total time=   4.9s\n",
            "[CV 2/3; 84/90] START depth=10, iterations=40, learning_rate=0.1778279410038923.\n",
            "[CV 2/3; 84/90] END depth=10, iterations=40, learning_rate=0.1778279410038923; total time=   5.2s\n",
            "[CV 3/3; 84/90] START depth=10, iterations=40, learning_rate=0.1778279410038923.\n",
            "[CV 3/3; 84/90] END depth=10, iterations=40, learning_rate=0.1778279410038923; total time=   5.2s\n",
            "[CV 1/3; 85/90] START depth=10, iterations=40, learning_rate=1.0................\n",
            "[CV 1/3; 85/90] END depth=10, iterations=40, learning_rate=1.0; total time=   5.3s\n",
            "[CV 2/3; 85/90] START depth=10, iterations=40, learning_rate=1.0................\n",
            "[CV 2/3; 85/90] END depth=10, iterations=40, learning_rate=1.0; total time=   5.2s\n",
            "[CV 3/3; 85/90] START depth=10, iterations=40, learning_rate=1.0................\n",
            "[CV 3/3; 85/90] END depth=10, iterations=40, learning_rate=1.0; total time=   5.3s\n",
            "[CV 1/3; 86/90] START depth=10, iterations=60, learning_rate=0.001..............\n",
            "[CV 1/3; 86/90] END depth=10, iterations=60, learning_rate=0.001; total time=   7.6s\n",
            "[CV 2/3; 86/90] START depth=10, iterations=60, learning_rate=0.001..............\n",
            "[CV 2/3; 86/90] END depth=10, iterations=60, learning_rate=0.001; total time=   7.4s\n",
            "[CV 3/3; 86/90] START depth=10, iterations=60, learning_rate=0.001..............\n",
            "[CV 3/3; 86/90] END depth=10, iterations=60, learning_rate=0.001; total time=   7.3s\n",
            "[CV 1/3; 87/90] START depth=10, iterations=60, learning_rate=0.005623413251903491\n",
            "[CV 1/3; 87/90] END depth=10, iterations=60, learning_rate=0.005623413251903491; total time=   7.6s\n",
            "[CV 2/3; 87/90] START depth=10, iterations=60, learning_rate=0.005623413251903491\n",
            "[CV 2/3; 87/90] END depth=10, iterations=60, learning_rate=0.005623413251903491; total time=   7.7s\n",
            "[CV 3/3; 87/90] START depth=10, iterations=60, learning_rate=0.005623413251903491\n",
            "[CV 3/3; 87/90] END depth=10, iterations=60, learning_rate=0.005623413251903491; total time=   7.7s\n",
            "[CV 1/3; 88/90] START depth=10, iterations=60, learning_rate=0.03162277660168379\n",
            "[CV 1/3; 88/90] END depth=10, iterations=60, learning_rate=0.03162277660168379; total time=   7.2s\n",
            "[CV 2/3; 88/90] START depth=10, iterations=60, learning_rate=0.03162277660168379\n",
            "[CV 2/3; 88/90] END depth=10, iterations=60, learning_rate=0.03162277660168379; total time=   7.2s\n",
            "[CV 3/3; 88/90] START depth=10, iterations=60, learning_rate=0.03162277660168379\n",
            "[CV 3/3; 88/90] END depth=10, iterations=60, learning_rate=0.03162277660168379; total time=   7.3s\n",
            "[CV 1/3; 89/90] START depth=10, iterations=60, learning_rate=0.1778279410038923.\n",
            "[CV 1/3; 89/90] END depth=10, iterations=60, learning_rate=0.1778279410038923; total time=   7.5s\n",
            "[CV 2/3; 89/90] START depth=10, iterations=60, learning_rate=0.1778279410038923.\n",
            "[CV 2/3; 89/90] END depth=10, iterations=60, learning_rate=0.1778279410038923; total time=   7.3s\n",
            "[CV 3/3; 89/90] START depth=10, iterations=60, learning_rate=0.1778279410038923.\n",
            "[CV 3/3; 89/90] END depth=10, iterations=60, learning_rate=0.1778279410038923; total time=   7.5s\n",
            "[CV 1/3; 90/90] START depth=10, iterations=60, learning_rate=1.0................\n",
            "[CV 1/3; 90/90] END depth=10, iterations=60, learning_rate=1.0; total time=   7.8s\n",
            "[CV 2/3; 90/90] START depth=10, iterations=60, learning_rate=1.0................\n",
            "[CV 2/3; 90/90] END depth=10, iterations=60, learning_rate=1.0; total time=   7.7s\n",
            "[CV 3/3; 90/90] START depth=10, iterations=60, learning_rate=1.0................\n",
            "[CV 3/3; 90/90] END depth=10, iterations=60, learning_rate=1.0; total time=   7.5s\n",
            "CPU times: user 16min 13s, sys: 10.4 s, total: 16min 23s\n",
            "Wall time: 19min 11s\n"
          ]
        },
        {
          "data": {
            "text/plain": [
              "GridSearchCV(cv=KFold(n_splits=3, random_state=12345, shuffle=True),\n",
              "             estimator=<catboost.core.CatBoostRegressor object at 0x7f7ac3a77f40>,\n",
              "             param_grid={'depth': [2, 3, 4, 5, 6, 7, 8, 9, 10],\n",
              "                         'iterations': [40, 60],\n",
              "                         'learning_rate': array([0.001     , 0.00562341, 0.03162278, 0.17782794, 1.        ])},\n",
              "             scoring='neg_mean_squared_error', verbose=10)"
            ]
          },
          "execution_count": 34,
          "metadata": {},
          "output_type": "execute_result"
        }
      ],
      "source": [
        "%%time\n",
        "grid_cb_reg.fit(features_train, target_train)"
      ]
    },
    {
      "cell_type": "code",
      "execution_count": null,
      "metadata": {
        "id": "ULsynzcR5FBp",
        "outputId": "8e3560c5-91e1-4fe1-f6df-3566b4ab43d3"
      },
      "outputs": [
        {
          "data": {
            "text/plain": [
              "{'depth': 10, 'iterations': 60, 'learning_rate': 0.1778279410038923}"
            ]
          },
          "execution_count": 35,
          "metadata": {},
          "output_type": "execute_result"
        }
      ],
      "source": [
        "grid_cb_reg.best_params_"
      ]
    },
    {
      "cell_type": "code",
      "execution_count": null,
      "metadata": {
        "id": "mv7nKcx35FBq",
        "outputId": "02ee314e-bd7a-4a38-b13b-9773b1d59e4d"
      },
      "outputs": [
        {
          "data": {
            "text/plain": [
              "1686.8798816986887"
            ]
          },
          "execution_count": 36,
          "metadata": {},
          "output_type": "execute_result"
        }
      ],
      "source": [
        "grid_cb_reg_rmse = np.sqrt(-1*grid_cb_reg.best_score_)\n",
        "grid_cb_reg_rmse"
      ]
    },
    {
      "cell_type": "markdown",
      "metadata": {
        "id": "J0cmZksv5FBq"
      },
      "source": [
        " Метрика RMSE на обучающей выборке лучше у модели lightgbm, и составляет 1613,977"
      ]
    },
    {
      "cell_type": "markdown",
      "metadata": {
        "id": "FTSgCkFO5FBq"
      },
      "source": [
        "## Анализ моделей"
      ]
    },
    {
      "cell_type": "code",
      "execution_count": null,
      "metadata": {
        "id": "E_HtyaAJ5FBq"
      },
      "outputs": [],
      "source": [
        "# создадим список обученных моделей для построения DataFrame, в список добавляем функцию подсчета предсказаний и метрики rmse\n",
        "\n",
        "models = []"
      ]
    },
    {
      "cell_type": "code",
      "execution_count": null,
      "metadata": {
        "id": "AAl7xkTp5FBq"
      },
      "outputs": [],
      "source": [
        "models.append(model_select(grid_rf.best_estimator_,\n",
        "                           rf_train,\n",
        "                           target_train,\n",
        "                           grid_rf.best_score_)\n",
        ")"
      ]
    },
    {
      "cell_type": "code",
      "execution_count": null,
      "metadata": {
        "id": "XnYF0_r15FBr"
      },
      "outputs": [],
      "source": [
        "models.append(model_select(grid_lgbm.best_estimator_,\n",
        "                           features_train,\n",
        "                           target_train,\n",
        "                           grid_lgbm.best_score_)\n",
        ")\n",
        "\n"
      ]
    },
    {
      "cell_type": "code",
      "execution_count": null,
      "metadata": {
        "id": "2vmGTL565FBr"
      },
      "outputs": [],
      "source": [
        "models.append(model_select(grid_cb_reg.best_estimator_,\n",
        "                           features_train,\n",
        "                           target_train,\n",
        "                           grid_cb_reg.best_score_)\n",
        ")\n"
      ]
    },
    {
      "cell_type": "code",
      "execution_count": null,
      "metadata": {
        "id": "8dB-IVdy5FBr"
      },
      "outputs": [],
      "source": [
        "final = pd.DataFrame(data = models,\n",
        "                     index = ['RandomForest', 'LightGBM', 'CatBoost'],\n",
        "                     columns = ['training_time', 'predict_time', 'RMSE', 'RMSE_CV']\n",
        ")"
      ]
    },
    {
      "cell_type": "code",
      "execution_count": null,
      "metadata": {
        "id": "UKu5PTCj5FBs",
        "outputId": "5da67142-44c5-4150-d927-7783e75ba254"
      },
      "outputs": [
        {
          "data": {
            "text/html": [
              "<div>\n",
              "<style scoped>\n",
              "    .dataframe tbody tr th:only-of-type {\n",
              "        vertical-align: middle;\n",
              "    }\n",
              "\n",
              "    .dataframe tbody tr th {\n",
              "        vertical-align: top;\n",
              "    }\n",
              "\n",
              "    .dataframe thead th {\n",
              "        text-align: right;\n",
              "    }\n",
              "</style>\n",
              "<table border=\"1\" class=\"dataframe\">\n",
              "  <thead>\n",
              "    <tr style=\"text-align: right;\">\n",
              "      <th></th>\n",
              "      <th>training_time</th>\n",
              "      <th>predict_time</th>\n",
              "      <th>RMSE</th>\n",
              "      <th>RMSE_CV</th>\n",
              "    </tr>\n",
              "  </thead>\n",
              "  <tbody>\n",
              "    <tr>\n",
              "      <th>RandomForest</th>\n",
              "      <td>29.352521</td>\n",
              "      <td>2.316273</td>\n",
              "      <td>1959.350463</td>\n",
              "      <td>2018.309661</td>\n",
              "    </tr>\n",
              "    <tr>\n",
              "      <th>LightGBM</th>\n",
              "      <td>135.551515</td>\n",
              "      <td>1.700873</td>\n",
              "      <td>1535.258123</td>\n",
              "      <td>1613.977832</td>\n",
              "    </tr>\n",
              "    <tr>\n",
              "      <th>CatBoost</th>\n",
              "      <td>9.951276</td>\n",
              "      <td>0.206192</td>\n",
              "      <td>1641.364303</td>\n",
              "      <td>1686.879882</td>\n",
              "    </tr>\n",
              "  </tbody>\n",
              "</table>\n",
              "</div>"
            ],
            "text/plain": [
              "              training_time  predict_time         RMSE      RMSE_CV\n",
              "RandomForest      29.352521      2.316273  1959.350463  2018.309661\n",
              "LightGBM         135.551515      1.700873  1535.258123  1613.977832\n",
              "CatBoost           9.951276      0.206192  1641.364303  1686.879882"
            ]
          },
          "metadata": {},
          "output_type": "display_data"
        }
      ],
      "source": [
        "display(final)"
      ]
    },
    {
      "cell_type": "markdown",
      "metadata": {
        "id": "fBz2uYrO5FBs"
      },
      "source": [
        "Проверим лучшую модель LGBM на тестовой выборке"
      ]
    },
    {
      "cell_type": "code",
      "execution_count": null,
      "metadata": {
        "id": "iUoxkh4K5FBt",
        "outputId": "bdb4e7f7-a161-454d-d28b-ff5dd017eaa9"
      },
      "outputs": [
        {
          "name": "stdout",
          "output_type": "stream",
          "text": [
            "1625.8001960147026\n"
          ]
        }
      ],
      "source": [
        "best_model = LGBMRegressor()\n",
        "best_model.fit(features_train, target_train,eval_metric='rmse')\n",
        "best_predicted = best_model.predict(features_test)\n",
        "rmse = mse(target_test, best_predicted)**0.5\n",
        "print(rmse)"
      ]
    },
    {
      "cell_type": "markdown",
      "metadata": {
        "id": "0p-2dgw55FBu"
      },
      "source": [
        "Модель LGBM на тестовой выборке показала результат почти такой же, как и на кросс валидационной. Значит все расчеты выполнены верно!"
      ]
    },
    {
      "cell_type": "markdown",
      "metadata": {
        "id": "BXV2pzfT5FBw"
      },
      "source": [
        "**Вывод**\n",
        "\n",
        "Мы выполнили обработку данных по анкетам автомобилей с пробегом, отдельно выделили столбцы с категорийными данными, которые пригодятся нам для обучения модели, в данных столбцах было большое кол-во пропусков, из-за нехватки исторических данных или по какой либо технической ошибке они появились мы узнать не можем, поэтому пропуски заполнили unknown.\n",
        "\n",
        "\n",
        "Построили графики с распределением разных категорий, выявили какие машины в основном продаются, с каким пробегом и какого года выпуска. На рынке в основном машины околонулевых годов выпуска(2000-х), с пробегами свыше 140 т.км., большинство машин с бензиновыми двигателями.\n",
        "\n",
        "\n",
        "Далее в обучении моделей применили кодировщик OrdinalEncoder и встроенный кодировщик модели LGBM .  Далее создали функцию для обучния моделей, вычисления предсказаний и метрики RMSE на обучающей и кросс валиационной модели. Было выбрано 3: Случайный лес, LightGBM, CatBoost. Каждую модель обучили на обучающей выборке, посчитали метрику RMSE, самое низкое значение у метрики LightGBM 1613.426. Затем создали список с обученными моделями и созадили таблицу сравнения моделей. По итогу лучшей моделью оказалась  модель LightGBM, ее мы проверили на тестовой выборке и еще раз в этом убедились, метрика RMSE на тестовой выборке 1625,800..."
      ]
    },
    {
      "cell_type": "markdown",
      "metadata": {
        "id": "IZ4bMrop5FBx"
      },
      "source": [
        "Поставьте 'x' в выполненных пунктах. Далее нажмите Shift+Enter."
      ]
    }
  ],
  "metadata": {
    "ExecuteTimeLog": [
      {
        "duration": 1477,
        "start_time": "2023-01-25T19:02:15.483Z"
      },
      {
        "duration": 3,
        "start_time": "2023-01-25T19:02:20.657Z"
      },
      {
        "duration": 2942,
        "start_time": "2023-01-25T19:02:57.954Z"
      },
      {
        "duration": 19,
        "start_time": "2023-01-25T19:03:05.034Z"
      },
      {
        "duration": 109,
        "start_time": "2023-01-25T19:04:42.931Z"
      },
      {
        "duration": 98,
        "start_time": "2023-01-25T19:04:54.321Z"
      },
      {
        "duration": 452,
        "start_time": "2023-01-25T19:05:47.404Z"
      },
      {
        "duration": 452,
        "start_time": "2023-01-25T19:05:55.713Z"
      },
      {
        "duration": 418,
        "start_time": "2023-01-25T19:06:02.555Z"
      },
      {
        "duration": 31,
        "start_time": "2023-01-25T19:08:32.708Z"
      },
      {
        "duration": 108,
        "start_time": "2023-01-25T19:14:46.203Z"
      },
      {
        "duration": 25,
        "start_time": "2023-01-25T19:15:05.563Z"
      },
      {
        "duration": 72,
        "start_time": "2023-01-25T19:16:15.968Z"
      },
      {
        "duration": 72,
        "start_time": "2023-01-25T19:16:20.370Z"
      },
      {
        "duration": 68,
        "start_time": "2023-01-25T19:16:24.715Z"
      },
      {
        "duration": 91,
        "start_time": "2023-01-25T19:16:35.537Z"
      },
      {
        "duration": 67,
        "start_time": "2023-01-25T19:16:42.805Z"
      },
      {
        "duration": 51,
        "start_time": "2023-01-25T19:17:08.610Z"
      },
      {
        "duration": 69,
        "start_time": "2023-01-25T19:17:12.194Z"
      },
      {
        "duration": 9,
        "start_time": "2023-01-25T19:18:48.328Z"
      },
      {
        "duration": 116,
        "start_time": "2023-01-25T19:18:54.459Z"
      },
      {
        "duration": 340,
        "start_time": "2023-01-25T19:26:24.811Z"
      },
      {
        "duration": 27,
        "start_time": "2023-01-25T19:28:35.301Z"
      },
      {
        "duration": 176,
        "start_time": "2023-01-25T19:29:44.469Z"
      },
      {
        "duration": 4,
        "start_time": "2023-01-25T19:30:04.640Z"
      },
      {
        "duration": 161,
        "start_time": "2023-01-25T19:30:10.820Z"
      },
      {
        "duration": 4,
        "start_time": "2023-01-25T19:30:32.643Z"
      },
      {
        "duration": 621,
        "start_time": "2023-01-25T19:30:39.024Z"
      },
      {
        "duration": 121,
        "start_time": "2023-01-25T19:32:18.270Z"
      },
      {
        "duration": 567,
        "start_time": "2023-01-25T19:32:58.438Z"
      },
      {
        "duration": 121,
        "start_time": "2023-01-25T19:34:10.933Z"
      },
      {
        "duration": 20,
        "start_time": "2023-01-25T19:34:41.960Z"
      },
      {
        "duration": 133,
        "start_time": "2023-01-25T19:35:52.438Z"
      },
      {
        "duration": 145,
        "start_time": "2023-01-25T19:36:02.507Z"
      },
      {
        "duration": 16,
        "start_time": "2023-01-25T19:36:34.504Z"
      },
      {
        "duration": 1370,
        "start_time": "2023-01-25T19:37:28.541Z"
      },
      {
        "duration": 844,
        "start_time": "2023-01-25T19:37:29.913Z"
      },
      {
        "duration": 18,
        "start_time": "2023-01-25T19:37:30.763Z"
      },
      {
        "duration": 116,
        "start_time": "2023-01-25T19:37:30.783Z"
      },
      {
        "duration": 96,
        "start_time": "2023-01-25T19:37:30.901Z"
      },
      {
        "duration": 111,
        "start_time": "2023-01-25T19:37:30.999Z"
      },
      {
        "duration": 162,
        "start_time": "2023-01-25T19:37:31.112Z"
      },
      {
        "duration": 429,
        "start_time": "2023-01-25T19:37:31.275Z"
      },
      {
        "duration": 24,
        "start_time": "2023-01-25T19:37:31.706Z"
      },
      {
        "duration": 111,
        "start_time": "2023-01-25T19:38:37.024Z"
      },
      {
        "duration": 10,
        "start_time": "2023-01-25T19:41:48.043Z"
      },
      {
        "duration": 163,
        "start_time": "2023-01-25T19:42:07.957Z"
      },
      {
        "duration": 1432,
        "start_time": "2023-01-25T19:43:54.929Z"
      },
      {
        "duration": 795,
        "start_time": "2023-01-25T19:43:56.364Z"
      },
      {
        "duration": 22,
        "start_time": "2023-01-25T19:43:57.161Z"
      },
      {
        "duration": 111,
        "start_time": "2023-01-25T19:43:57.186Z"
      },
      {
        "duration": 107,
        "start_time": "2023-01-25T19:43:57.299Z"
      },
      {
        "duration": 113,
        "start_time": "2023-01-25T19:43:57.408Z"
      },
      {
        "duration": 186,
        "start_time": "2023-01-25T19:43:57.523Z"
      },
      {
        "duration": 435,
        "start_time": "2023-01-25T19:43:57.710Z"
      },
      {
        "duration": 110,
        "start_time": "2023-01-25T19:43:58.146Z"
      },
      {
        "duration": 0,
        "start_time": "2023-01-25T19:43:58.258Z"
      },
      {
        "duration": 437,
        "start_time": "2023-01-25T19:44:37.340Z"
      },
      {
        "duration": 440,
        "start_time": "2023-01-25T19:44:57.129Z"
      },
      {
        "duration": 128,
        "start_time": "2023-01-25T19:52:57.223Z"
      },
      {
        "duration": 51,
        "start_time": "2023-01-25T19:58:50.247Z"
      },
      {
        "duration": 1314,
        "start_time": "2023-01-25T19:58:58.522Z"
      },
      {
        "duration": 3007,
        "start_time": "2023-01-25T19:58:59.838Z"
      },
      {
        "duration": 15,
        "start_time": "2023-01-25T19:59:02.846Z"
      },
      {
        "duration": 121,
        "start_time": "2023-01-25T19:59:02.863Z"
      },
      {
        "duration": 106,
        "start_time": "2023-01-25T19:59:02.986Z"
      },
      {
        "duration": 119,
        "start_time": "2023-01-25T19:59:03.094Z"
      },
      {
        "duration": 189,
        "start_time": "2023-01-25T19:59:03.214Z"
      },
      {
        "duration": 25,
        "start_time": "2023-01-25T19:59:03.404Z"
      },
      {
        "duration": 202,
        "start_time": "2023-01-25T19:59:03.431Z"
      },
      {
        "duration": 1496,
        "start_time": "2023-01-25T20:02:16.003Z"
      },
      {
        "duration": 3001,
        "start_time": "2023-01-25T20:02:17.501Z"
      },
      {
        "duration": 17,
        "start_time": "2023-01-25T20:02:20.504Z"
      },
      {
        "duration": 114,
        "start_time": "2023-01-25T20:02:20.523Z"
      },
      {
        "duration": 118,
        "start_time": "2023-01-25T20:02:20.639Z"
      },
      {
        "duration": 129,
        "start_time": "2023-01-25T20:02:20.759Z"
      },
      {
        "duration": 182,
        "start_time": "2023-01-25T20:02:20.889Z"
      },
      {
        "duration": 27,
        "start_time": "2023-01-25T20:02:21.073Z"
      },
      {
        "duration": 187,
        "start_time": "2023-01-25T20:02:21.102Z"
      },
      {
        "duration": 598,
        "start_time": "2023-01-25T20:02:21.291Z"
      },
      {
        "duration": 117,
        "start_time": "2023-01-25T20:03:22.605Z"
      },
      {
        "duration": 167522,
        "start_time": "2023-01-25T20:03:27.381Z"
      },
      {
        "duration": 5556,
        "start_time": "2023-01-25T20:06:20.553Z"
      },
      {
        "duration": 165,
        "start_time": "2023-01-25T20:08:18.476Z"
      },
      {
        "duration": 48,
        "start_time": "2023-01-25T20:08:40.150Z"
      },
      {
        "duration": 149,
        "start_time": "2023-01-25T20:08:43.340Z"
      },
      {
        "duration": 165,
        "start_time": "2023-01-25T20:09:09.994Z"
      },
      {
        "duration": 211,
        "start_time": "2023-01-25T20:09:26.316Z"
      },
      {
        "duration": 623,
        "start_time": "2023-01-25T20:13:30.164Z"
      },
      {
        "duration": 652,
        "start_time": "2023-01-25T20:14:37.522Z"
      },
      {
        "duration": 855,
        "start_time": "2023-01-25T20:15:20.050Z"
      },
      {
        "duration": 133,
        "start_time": "2023-01-25T20:17:35.596Z"
      },
      {
        "duration": 115,
        "start_time": "2023-01-25T20:18:01.096Z"
      },
      {
        "duration": 174,
        "start_time": "2023-01-25T20:19:32.177Z"
      },
      {
        "duration": 156,
        "start_time": "2023-01-25T20:19:51.881Z"
      },
      {
        "duration": 156,
        "start_time": "2023-01-25T20:20:42.013Z"
      },
      {
        "duration": 179,
        "start_time": "2023-01-25T20:21:07.549Z"
      },
      {
        "duration": 167,
        "start_time": "2023-01-25T20:21:18.734Z"
      },
      {
        "duration": 181,
        "start_time": "2023-01-25T20:21:58.456Z"
      },
      {
        "duration": 1859,
        "start_time": "2023-01-26T18:42:18.131Z"
      },
      {
        "duration": 1356,
        "start_time": "2023-01-26T18:42:19.991Z"
      },
      {
        "duration": 18,
        "start_time": "2023-01-26T18:42:21.348Z"
      },
      {
        "duration": 133,
        "start_time": "2023-01-26T18:42:21.368Z"
      },
      {
        "duration": 124,
        "start_time": "2023-01-26T18:42:21.505Z"
      },
      {
        "duration": 141,
        "start_time": "2023-01-26T18:42:21.631Z"
      },
      {
        "duration": 189,
        "start_time": "2023-01-26T18:42:21.774Z"
      },
      {
        "duration": 24,
        "start_time": "2023-01-26T18:42:21.965Z"
      },
      {
        "duration": 251,
        "start_time": "2023-01-26T18:42:21.991Z"
      },
      {
        "duration": 1051,
        "start_time": "2023-01-26T18:42:22.245Z"
      },
      {
        "duration": 192,
        "start_time": "2023-01-26T18:42:23.298Z"
      },
      {
        "duration": 162,
        "start_time": "2023-01-26T18:42:23.501Z"
      },
      {
        "duration": 560,
        "start_time": "2023-01-26T18:46:51.773Z"
      },
      {
        "duration": 109,
        "start_time": "2023-01-26T18:47:00.963Z"
      },
      {
        "duration": 5,
        "start_time": "2023-01-26T18:47:58.333Z"
      },
      {
        "duration": 12,
        "start_time": "2023-01-26T18:50:41.872Z"
      },
      {
        "duration": 11,
        "start_time": "2023-01-26T18:51:51.266Z"
      },
      {
        "duration": 1600,
        "start_time": "2023-01-26T18:52:09.280Z"
      },
      {
        "duration": 862,
        "start_time": "2023-01-26T18:52:10.882Z"
      },
      {
        "duration": 17,
        "start_time": "2023-01-26T18:52:11.753Z"
      },
      {
        "duration": 174,
        "start_time": "2023-01-26T18:52:11.773Z"
      },
      {
        "duration": 216,
        "start_time": "2023-01-26T18:52:11.949Z"
      },
      {
        "duration": 164,
        "start_time": "2023-01-26T18:52:12.167Z"
      },
      {
        "duration": 218,
        "start_time": "2023-01-26T18:52:12.339Z"
      },
      {
        "duration": 20,
        "start_time": "2023-01-26T18:52:12.558Z"
      },
      {
        "duration": 216,
        "start_time": "2023-01-26T18:52:12.598Z"
      },
      {
        "duration": 1107,
        "start_time": "2023-01-26T18:52:12.821Z"
      },
      {
        "duration": 218,
        "start_time": "2023-01-26T18:52:13.929Z"
      },
      {
        "duration": 185,
        "start_time": "2023-01-26T18:52:14.149Z"
      },
      {
        "duration": 114,
        "start_time": "2023-01-26T18:52:14.335Z"
      },
      {
        "duration": 121,
        "start_time": "2023-01-26T18:52:14.451Z"
      },
      {
        "duration": 114,
        "start_time": "2023-01-26T18:57:21.004Z"
      },
      {
        "duration": 85,
        "start_time": "2023-01-26T18:58:56.747Z"
      },
      {
        "duration": 28,
        "start_time": "2023-01-26T18:59:06.235Z"
      },
      {
        "duration": 96,
        "start_time": "2023-01-26T18:59:19.752Z"
      },
      {
        "duration": 3,
        "start_time": "2023-01-26T19:10:01.328Z"
      },
      {
        "duration": 4,
        "start_time": "2023-01-26T19:12:41.133Z"
      },
      {
        "duration": 3,
        "start_time": "2023-01-26T19:24:52.806Z"
      },
      {
        "duration": 11,
        "start_time": "2023-01-26T19:43:57.408Z"
      },
      {
        "duration": 4,
        "start_time": "2023-01-26T19:44:39.897Z"
      },
      {
        "duration": 379,
        "start_time": "2023-01-26T19:44:46.719Z"
      },
      {
        "duration": 345,
        "start_time": "2023-01-26T19:44:54.359Z"
      },
      {
        "duration": 3182,
        "start_time": "2023-01-26T19:45:25.121Z"
      },
      {
        "duration": 1521,
        "start_time": "2023-01-26T19:50:09.066Z"
      },
      {
        "duration": 796,
        "start_time": "2023-01-26T19:50:10.589Z"
      },
      {
        "duration": 16,
        "start_time": "2023-01-26T19:50:11.387Z"
      },
      {
        "duration": 131,
        "start_time": "2023-01-26T19:50:11.404Z"
      },
      {
        "duration": 113,
        "start_time": "2023-01-26T19:50:11.537Z"
      },
      {
        "duration": 124,
        "start_time": "2023-01-26T19:50:11.652Z"
      },
      {
        "duration": 8,
        "start_time": "2023-01-26T19:50:11.777Z"
      },
      {
        "duration": 171,
        "start_time": "2023-01-26T19:50:11.787Z"
      },
      {
        "duration": 30,
        "start_time": "2023-01-26T19:50:11.959Z"
      },
      {
        "duration": 175,
        "start_time": "2023-01-26T19:50:11.991Z"
      },
      {
        "duration": 883,
        "start_time": "2023-01-26T19:50:12.168Z"
      },
      {
        "duration": 171,
        "start_time": "2023-01-26T19:50:13.053Z"
      },
      {
        "duration": 145,
        "start_time": "2023-01-26T19:50:13.226Z"
      },
      {
        "duration": 26,
        "start_time": "2023-01-26T19:50:13.372Z"
      },
      {
        "duration": 112,
        "start_time": "2023-01-26T19:50:13.400Z"
      },
      {
        "duration": 3,
        "start_time": "2023-01-26T19:50:13.514Z"
      },
      {
        "duration": 8,
        "start_time": "2023-01-26T19:50:13.519Z"
      },
      {
        "duration": 399,
        "start_time": "2023-01-26T19:50:13.529Z"
      },
      {
        "duration": 3162,
        "start_time": "2023-01-26T19:50:13.930Z"
      },
      {
        "duration": 1644,
        "start_time": "2023-01-27T18:21:52.578Z"
      },
      {
        "duration": 1089,
        "start_time": "2023-01-27T18:21:54.224Z"
      },
      {
        "duration": 17,
        "start_time": "2023-01-27T18:21:55.315Z"
      },
      {
        "duration": 127,
        "start_time": "2023-01-27T18:21:55.334Z"
      },
      {
        "duration": 125,
        "start_time": "2023-01-27T18:21:55.462Z"
      },
      {
        "duration": 115,
        "start_time": "2023-01-27T18:21:55.589Z"
      },
      {
        "duration": 3,
        "start_time": "2023-01-27T18:21:55.705Z"
      },
      {
        "duration": 190,
        "start_time": "2023-01-27T18:21:55.709Z"
      },
      {
        "duration": 25,
        "start_time": "2023-01-27T18:21:55.901Z"
      },
      {
        "duration": 195,
        "start_time": "2023-01-27T18:21:55.928Z"
      },
      {
        "duration": 1073,
        "start_time": "2023-01-27T18:21:56.126Z"
      },
      {
        "duration": 209,
        "start_time": "2023-01-27T18:21:57.201Z"
      },
      {
        "duration": 185,
        "start_time": "2023-01-27T18:21:57.412Z"
      },
      {
        "duration": 26,
        "start_time": "2023-01-27T18:21:57.599Z"
      },
      {
        "duration": 98,
        "start_time": "2023-01-27T18:21:57.627Z"
      },
      {
        "duration": 4,
        "start_time": "2023-01-27T18:21:57.727Z"
      },
      {
        "duration": 12,
        "start_time": "2023-01-27T18:21:57.733Z"
      },
      {
        "duration": 431,
        "start_time": "2023-01-27T18:21:57.747Z"
      },
      {
        "duration": 3484,
        "start_time": "2023-01-27T18:21:58.180Z"
      },
      {
        "duration": 30,
        "start_time": "2023-01-27T18:22:33.003Z"
      },
      {
        "duration": 2,
        "start_time": "2023-01-27T18:23:11.046Z"
      },
      {
        "duration": 3327,
        "start_time": "2023-01-27T18:23:19.678Z"
      },
      {
        "duration": 3,
        "start_time": "2023-01-27T18:25:33.198Z"
      },
      {
        "duration": 751,
        "start_time": "2023-01-27T18:25:33.203Z"
      },
      {
        "duration": 17,
        "start_time": "2023-01-27T18:25:33.957Z"
      },
      {
        "duration": 136,
        "start_time": "2023-01-27T18:25:33.976Z"
      },
      {
        "duration": 114,
        "start_time": "2023-01-27T18:25:34.115Z"
      },
      {
        "duration": 123,
        "start_time": "2023-01-27T18:25:34.231Z"
      },
      {
        "duration": 2,
        "start_time": "2023-01-27T18:25:34.356Z"
      },
      {
        "duration": 49,
        "start_time": "2023-01-27T18:25:34.360Z"
      },
      {
        "duration": 171,
        "start_time": "2023-01-27T18:25:34.411Z"
      },
      {
        "duration": 29,
        "start_time": "2023-01-27T18:25:34.583Z"
      },
      {
        "duration": 205,
        "start_time": "2023-01-27T18:25:34.616Z"
      },
      {
        "duration": 866,
        "start_time": "2023-01-27T18:25:34.822Z"
      },
      {
        "duration": 190,
        "start_time": "2023-01-27T18:25:35.690Z"
      },
      {
        "duration": 157,
        "start_time": "2023-01-27T18:25:35.882Z"
      },
      {
        "duration": 21,
        "start_time": "2023-01-27T18:25:36.040Z"
      },
      {
        "duration": 95,
        "start_time": "2023-01-27T18:25:36.063Z"
      },
      {
        "duration": 3,
        "start_time": "2023-01-27T18:25:36.160Z"
      },
      {
        "duration": 9,
        "start_time": "2023-01-27T18:25:36.164Z"
      },
      {
        "duration": 441,
        "start_time": "2023-01-27T18:25:36.175Z"
      },
      {
        "duration": 156239,
        "start_time": "2023-01-27T18:25:36.617Z"
      },
      {
        "duration": 149711,
        "start_time": "2023-01-27T18:31:05.463Z"
      },
      {
        "duration": 4,
        "start_time": "2023-01-27T18:39:49.151Z"
      },
      {
        "duration": 394,
        "start_time": "2023-01-27T19:06:19.268Z"
      },
      {
        "duration": 3,
        "start_time": "2023-01-27T19:07:06.813Z"
      },
      {
        "duration": 385,
        "start_time": "2023-01-27T19:07:16.680Z"
      },
      {
        "duration": 0,
        "start_time": "2023-01-27T19:07:59.236Z"
      },
      {
        "duration": 330378,
        "start_time": "2023-01-27T19:08:03.330Z"
      },
      {
        "duration": 5,
        "start_time": "2023-01-27T19:14:44.008Z"
      },
      {
        "duration": 4,
        "start_time": "2023-01-27T19:41:31.595Z"
      },
      {
        "duration": 38604,
        "start_time": "2023-01-27T19:42:17.804Z"
      },
      {
        "duration": 57367,
        "start_time": "2023-01-27T19:43:06.072Z"
      },
      {
        "duration": 4,
        "start_time": "2023-01-27T19:47:06.368Z"
      },
      {
        "duration": 94883,
        "start_time": "2023-01-27T19:47:09.485Z"
      },
      {
        "duration": 12,
        "start_time": "2023-01-27T19:56:32.303Z"
      },
      {
        "duration": 89,
        "start_time": "2023-01-27T19:58:05.990Z"
      },
      {
        "duration": 11,
        "start_time": "2023-01-27T19:58:39.859Z"
      },
      {
        "duration": 14,
        "start_time": "2023-01-27T19:58:53.970Z"
      },
      {
        "duration": 1398,
        "start_time": "2023-01-27T20:01:35.104Z"
      },
      {
        "duration": 801,
        "start_time": "2023-01-27T20:01:36.504Z"
      },
      {
        "duration": 16,
        "start_time": "2023-01-27T20:01:37.306Z"
      },
      {
        "duration": 112,
        "start_time": "2023-01-27T20:01:37.323Z"
      },
      {
        "duration": 101,
        "start_time": "2023-01-27T20:01:37.437Z"
      },
      {
        "duration": 109,
        "start_time": "2023-01-27T20:01:37.539Z"
      },
      {
        "duration": 3,
        "start_time": "2023-01-27T20:01:37.650Z"
      },
      {
        "duration": 45,
        "start_time": "2023-01-27T20:01:37.655Z"
      },
      {
        "duration": 181,
        "start_time": "2023-01-27T20:01:37.701Z"
      },
      {
        "duration": 21,
        "start_time": "2023-01-27T20:01:37.884Z"
      },
      {
        "duration": 176,
        "start_time": "2023-01-27T20:01:37.907Z"
      },
      {
        "duration": 893,
        "start_time": "2023-01-27T20:01:38.085Z"
      },
      {
        "duration": 188,
        "start_time": "2023-01-27T20:01:38.980Z"
      },
      {
        "duration": 160,
        "start_time": "2023-01-27T20:01:39.172Z"
      },
      {
        "duration": 27,
        "start_time": "2023-01-27T20:01:39.334Z"
      },
      {
        "duration": 95,
        "start_time": "2023-01-27T20:01:39.363Z"
      },
      {
        "duration": 4,
        "start_time": "2023-01-27T20:01:39.460Z"
      },
      {
        "duration": 7,
        "start_time": "2023-01-27T20:01:39.466Z"
      },
      {
        "duration": 10,
        "start_time": "2023-01-27T20:01:39.475Z"
      },
      {
        "duration": 99968,
        "start_time": "2023-01-27T20:01:39.486Z"
      },
      {
        "duration": 428,
        "start_time": "2023-01-27T20:03:19.456Z"
      },
      {
        "duration": 153383,
        "start_time": "2023-01-27T20:03:19.885Z"
      },
      {
        "duration": 4,
        "start_time": "2023-01-27T20:05:53.270Z"
      },
      {
        "duration": 386,
        "start_time": "2023-01-27T20:05:53.275Z"
      },
      {
        "duration": 276843,
        "start_time": "2023-01-27T20:05:53.662Z"
      },
      {
        "duration": 11,
        "start_time": "2023-01-27T20:10:30.506Z"
      },
      {
        "duration": 0,
        "start_time": "2023-01-27T20:10:30.518Z"
      },
      {
        "duration": 3,
        "start_time": "2023-01-27T20:10:40.161Z"
      },
      {
        "duration": 5,
        "start_time": "2023-01-27T20:10:44.385Z"
      },
      {
        "duration": 96473,
        "start_time": "2023-01-27T20:10:47.337Z"
      },
      {
        "duration": 4,
        "start_time": "2023-01-27T20:21:12.831Z"
      },
      {
        "duration": 5437,
        "start_time": "2023-01-27T20:21:16.041Z"
      },
      {
        "duration": 5,
        "start_time": "2023-01-27T20:23:56.552Z"
      },
      {
        "duration": 72084,
        "start_time": "2023-01-27T20:23:58.965Z"
      },
      {
        "duration": 10,
        "start_time": "2023-01-27T20:33:53.637Z"
      },
      {
        "duration": 306,
        "start_time": "2023-01-27T20:34:14.478Z"
      },
      {
        "duration": 304,
        "start_time": "2023-01-27T20:34:39.970Z"
      },
      {
        "duration": 45,
        "start_time": "2023-01-27T20:34:58.290Z"
      },
      {
        "duration": 13,
        "start_time": "2023-01-27T20:35:50.168Z"
      },
      {
        "duration": 11,
        "start_time": "2023-01-27T20:36:08.372Z"
      },
      {
        "duration": 10,
        "start_time": "2023-01-27T20:36:21.936Z"
      },
      {
        "duration": 92,
        "start_time": "2023-01-27T20:37:46.821Z"
      },
      {
        "duration": 4,
        "start_time": "2023-01-27T20:37:54.346Z"
      },
      {
        "duration": 71932,
        "start_time": "2023-01-27T20:37:57.930Z"
      },
      {
        "duration": 4,
        "start_time": "2023-01-27T20:39:49.053Z"
      },
      {
        "duration": 1544,
        "start_time": "2023-01-28T17:10:10.479Z"
      },
      {
        "duration": 1032,
        "start_time": "2023-01-28T17:10:12.025Z"
      },
      {
        "duration": 19,
        "start_time": "2023-01-28T17:10:13.059Z"
      },
      {
        "duration": 137,
        "start_time": "2023-01-28T17:10:13.080Z"
      },
      {
        "duration": 111,
        "start_time": "2023-01-28T17:10:13.219Z"
      },
      {
        "duration": 121,
        "start_time": "2023-01-28T17:10:13.332Z"
      },
      {
        "duration": 117,
        "start_time": "2023-01-28T17:10:37.581Z"
      },
      {
        "duration": 3,
        "start_time": "2023-01-28T17:10:42.954Z"
      },
      {
        "duration": 9,
        "start_time": "2023-01-28T17:10:44.392Z"
      },
      {
        "duration": 117,
        "start_time": "2023-01-28T17:11:11.108Z"
      },
      {
        "duration": 185,
        "start_time": "2023-01-28T17:11:36.401Z"
      },
      {
        "duration": 93,
        "start_time": "2023-01-28T17:11:40.826Z"
      },
      {
        "duration": 115,
        "start_time": "2023-01-28T17:12:13.591Z"
      },
      {
        "duration": 85,
        "start_time": "2023-01-28T17:13:25.923Z"
      },
      {
        "duration": 125,
        "start_time": "2023-01-28T17:14:31.061Z"
      },
      {
        "duration": 111,
        "start_time": "2023-01-28T17:14:35.198Z"
      },
      {
        "duration": 1523,
        "start_time": "2023-01-28T17:17:31.258Z"
      },
      {
        "duration": 872,
        "start_time": "2023-01-28T17:17:32.783Z"
      },
      {
        "duration": 18,
        "start_time": "2023-01-28T17:17:33.657Z"
      },
      {
        "duration": 134,
        "start_time": "2023-01-28T17:17:33.677Z"
      },
      {
        "duration": 121,
        "start_time": "2023-01-28T17:17:33.813Z"
      },
      {
        "duration": 112,
        "start_time": "2023-01-28T17:17:33.936Z"
      },
      {
        "duration": 4,
        "start_time": "2023-01-28T17:17:34.050Z"
      },
      {
        "duration": 117,
        "start_time": "2023-01-28T17:17:34.055Z"
      },
      {
        "duration": 143,
        "start_time": "2023-01-28T17:17:34.174Z"
      },
      {
        "duration": 118,
        "start_time": "2023-01-28T17:17:34.320Z"
      },
      {
        "duration": 24,
        "start_time": "2023-01-28T17:17:34.440Z"
      },
      {
        "duration": 216,
        "start_time": "2023-01-28T17:17:34.466Z"
      },
      {
        "duration": 1096,
        "start_time": "2023-01-28T17:17:34.684Z"
      },
      {
        "duration": 198,
        "start_time": "2023-01-28T17:17:35.782Z"
      },
      {
        "duration": 177,
        "start_time": "2023-01-28T17:17:35.982Z"
      },
      {
        "duration": 21,
        "start_time": "2023-01-28T17:17:36.161Z"
      },
      {
        "duration": 103,
        "start_time": "2023-01-28T17:17:36.184Z"
      },
      {
        "duration": 3,
        "start_time": "2023-01-28T17:17:36.289Z"
      },
      {
        "duration": 20,
        "start_time": "2023-01-28T17:17:36.293Z"
      },
      {
        "duration": 507,
        "start_time": "2023-01-28T17:17:36.315Z"
      },
      {
        "duration": 166347,
        "start_time": "2023-01-28T17:17:36.824Z"
      },
      {
        "duration": 4,
        "start_time": "2023-01-28T17:20:23.173Z"
      },
      {
        "duration": 454,
        "start_time": "2023-01-28T17:20:23.179Z"
      },
      {
        "duration": 1323993,
        "start_time": "2023-01-28T17:20:23.635Z"
      },
      {
        "duration": 21,
        "start_time": "2023-01-28T17:42:27.638Z"
      },
      {
        "duration": 0,
        "start_time": "2023-01-28T17:42:27.661Z"
      },
      {
        "duration": 0,
        "start_time": "2023-01-28T17:42:27.662Z"
      },
      {
        "duration": 0,
        "start_time": "2023-01-28T17:42:27.663Z"
      },
      {
        "duration": 1561672,
        "start_time": "2023-01-28T17:42:37.255Z"
      },
      {
        "duration": 5,
        "start_time": "2023-01-28T18:11:29.018Z"
      },
      {
        "duration": 4,
        "start_time": "2023-01-28T18:11:36.451Z"
      },
      {
        "duration": 1293183,
        "start_time": "2023-01-28T18:11:38.817Z"
      },
      {
        "duration": 4,
        "start_time": "2023-01-28T18:46:23.412Z"
      },
      {
        "duration": 9,
        "start_time": "2023-01-28T18:50:25.510Z"
      },
      {
        "duration": 4,
        "start_time": "2023-01-28T18:50:33.127Z"
      },
      {
        "duration": 14,
        "start_time": "2023-01-28T18:50:36.419Z"
      },
      {
        "duration": 3,
        "start_time": "2023-01-28T18:51:41.284Z"
      },
      {
        "duration": 4,
        "start_time": "2023-01-28T18:51:51.427Z"
      },
      {
        "duration": 10,
        "start_time": "2023-01-28T18:52:52.622Z"
      },
      {
        "duration": 11,
        "start_time": "2023-01-28T18:53:07.253Z"
      },
      {
        "duration": 4,
        "start_time": "2023-01-28T18:53:32.946Z"
      },
      {
        "duration": 4,
        "start_time": "2023-01-28T18:54:59.168Z"
      },
      {
        "duration": 12,
        "start_time": "2023-01-28T19:03:34.707Z"
      },
      {
        "duration": 12,
        "start_time": "2023-01-28T19:04:18.393Z"
      },
      {
        "duration": 4,
        "start_time": "2023-01-28T19:04:59.732Z"
      },
      {
        "duration": 67,
        "start_time": "2023-01-28T19:05:05.932Z"
      },
      {
        "duration": 5,
        "start_time": "2023-01-28T19:12:43.098Z"
      },
      {
        "duration": 71,
        "start_time": "2023-01-28T19:13:42.621Z"
      },
      {
        "duration": 3,
        "start_time": "2023-01-28T19:13:48.169Z"
      },
      {
        "duration": 5,
        "start_time": "2023-01-28T19:14:03.526Z"
      },
      {
        "duration": 4,
        "start_time": "2023-01-28T19:14:27.557Z"
      },
      {
        "duration": 62,
        "start_time": "2023-01-28T19:22:04.360Z"
      },
      {
        "duration": 149105,
        "start_time": "2023-01-28T19:22:12.341Z"
      },
      {
        "duration": 0,
        "start_time": "2023-01-28T19:24:41.447Z"
      },
      {
        "duration": 11107,
        "start_time": "2023-01-28T19:24:48.270Z"
      },
      {
        "duration": 5,
        "start_time": "2023-01-28T19:26:02.225Z"
      },
      {
        "duration": 11096,
        "start_time": "2023-01-28T19:26:09.088Z"
      },
      {
        "duration": 492648,
        "start_time": "2023-01-28T19:26:30.479Z"
      },
      {
        "duration": 67,
        "start_time": "2023-01-28T19:35:17.360Z"
      },
      {
        "duration": 4,
        "start_time": "2023-01-28T19:36:03.679Z"
      },
      {
        "duration": 1587,
        "start_time": "2023-01-28T19:43:20.540Z"
      },
      {
        "duration": 530,
        "start_time": "2023-01-28T19:44:11.495Z"
      },
      {
        "duration": 10,
        "start_time": "2023-01-28T19:44:15.877Z"
      },
      {
        "duration": 6,
        "start_time": "2023-01-28T19:44:20.349Z"
      },
      {
        "duration": 6,
        "start_time": "2023-01-28T19:44:21.451Z"
      },
      {
        "duration": 9,
        "start_time": "2023-01-28T19:44:28.318Z"
      },
      {
        "duration": 151376,
        "start_time": "2023-01-28T19:46:50.034Z"
      },
      {
        "duration": 5,
        "start_time": "2023-01-28T19:49:50.240Z"
      },
      {
        "duration": 4,
        "start_time": "2023-01-28T19:49:55.349Z"
      },
      {
        "duration": 4,
        "start_time": "2023-01-28T19:52:04.959Z"
      },
      {
        "duration": 9,
        "start_time": "2023-01-28T19:52:14.326Z"
      },
      {
        "duration": 162,
        "start_time": "2023-01-28T20:09:29.343Z"
      },
      {
        "duration": 68,
        "start_time": "2023-01-28T20:09:46.814Z"
      },
      {
        "duration": 239,
        "start_time": "2023-01-28T20:10:00.178Z"
      },
      {
        "duration": 177,
        "start_time": "2023-01-28T20:10:10.473Z"
      },
      {
        "duration": 221,
        "start_time": "2023-01-28T20:12:40.104Z"
      },
      {
        "duration": 1711,
        "start_time": "2023-01-30T13:56:33.197Z"
      },
      {
        "duration": 1041,
        "start_time": "2023-01-30T13:56:37.658Z"
      },
      {
        "duration": 15,
        "start_time": "2023-01-30T13:56:40.442Z"
      },
      {
        "duration": 4,
        "start_time": "2023-01-30T13:59:37.999Z"
      },
      {
        "duration": 778,
        "start_time": "2023-01-30T13:59:42.634Z"
      },
      {
        "duration": 12,
        "start_time": "2023-01-30T13:59:44.705Z"
      },
      {
        "duration": 121,
        "start_time": "2023-01-30T13:59:47.078Z"
      },
      {
        "duration": 95,
        "start_time": "2023-01-30T13:59:49.269Z"
      },
      {
        "duration": 109,
        "start_time": "2023-01-30T13:59:55.565Z"
      },
      {
        "duration": 3,
        "start_time": "2023-01-30T13:59:58.253Z"
      },
      {
        "duration": 75,
        "start_time": "2023-01-30T14:00:00.124Z"
      },
      {
        "duration": 96,
        "start_time": "2023-01-30T14:01:48.578Z"
      },
      {
        "duration": 119,
        "start_time": "2023-01-30T14:01:56.520Z"
      },
      {
        "duration": 94,
        "start_time": "2023-01-30T14:01:59.495Z"
      },
      {
        "duration": 25,
        "start_time": "2023-01-30T14:02:03.874Z"
      },
      {
        "duration": 158,
        "start_time": "2023-01-30T14:03:48.473Z"
      },
      {
        "duration": 150,
        "start_time": "2023-01-30T14:04:09.514Z"
      },
      {
        "duration": 157,
        "start_time": "2023-01-30T14:07:03.506Z"
      },
      {
        "duration": 170,
        "start_time": "2023-01-30T14:08:16.277Z"
      },
      {
        "duration": 232,
        "start_time": "2023-01-30T14:09:35.904Z"
      },
      {
        "duration": 169,
        "start_time": "2023-01-30T14:10:24.869Z"
      },
      {
        "duration": 148,
        "start_time": "2023-01-30T14:13:52.273Z"
      },
      {
        "duration": 142,
        "start_time": "2023-01-30T14:14:10.179Z"
      },
      {
        "duration": 324,
        "start_time": "2023-01-30T14:16:12.278Z"
      },
      {
        "duration": 156,
        "start_time": "2023-01-30T14:16:16.918Z"
      },
      {
        "duration": 210,
        "start_time": "2023-01-30T14:16:43.816Z"
      },
      {
        "duration": 1676,
        "start_time": "2023-01-30T17:25:30.973Z"
      },
      {
        "duration": 3069,
        "start_time": "2023-01-30T17:25:34.014Z"
      },
      {
        "duration": 17,
        "start_time": "2023-01-30T17:25:38.939Z"
      },
      {
        "duration": 129,
        "start_time": "2023-01-30T17:25:39.838Z"
      },
      {
        "duration": 112,
        "start_time": "2023-01-30T17:25:40.896Z"
      },
      {
        "duration": 114,
        "start_time": "2023-01-30T17:25:41.965Z"
      },
      {
        "duration": 2,
        "start_time": "2023-01-30T17:25:45.418Z"
      },
      {
        "duration": 85,
        "start_time": "2023-01-30T17:25:46.597Z"
      },
      {
        "duration": 134,
        "start_time": "2023-01-30T17:25:48.038Z"
      },
      {
        "duration": 202,
        "start_time": "2023-01-30T17:25:56.206Z"
      },
      {
        "duration": 188,
        "start_time": "2023-01-30T17:28:32.929Z"
      },
      {
        "duration": 139,
        "start_time": "2023-01-30T17:36:16.536Z"
      },
      {
        "duration": 138,
        "start_time": "2023-01-30T17:36:38.961Z"
      },
      {
        "duration": 159,
        "start_time": "2023-01-30T17:39:35.350Z"
      },
      {
        "duration": 144,
        "start_time": "2023-01-30T17:40:27.056Z"
      },
      {
        "duration": 49,
        "start_time": "2023-01-30T17:41:21.257Z"
      },
      {
        "duration": 947,
        "start_time": "2023-01-30T17:41:29.812Z"
      },
      {
        "duration": 147,
        "start_time": "2023-01-30T17:41:37.850Z"
      },
      {
        "duration": 177,
        "start_time": "2023-01-30T17:41:59.275Z"
      },
      {
        "duration": 170,
        "start_time": "2023-01-30T17:42:11.554Z"
      },
      {
        "duration": 157,
        "start_time": "2023-01-30T17:42:25.572Z"
      },
      {
        "duration": 144,
        "start_time": "2023-01-30T17:42:33.243Z"
      },
      {
        "duration": 144,
        "start_time": "2023-01-30T17:42:38.422Z"
      },
      {
        "duration": 186,
        "start_time": "2023-01-30T17:46:26.288Z"
      },
      {
        "duration": 278,
        "start_time": "2023-01-30T17:47:08.844Z"
      },
      {
        "duration": 214,
        "start_time": "2023-01-30T17:47:22.606Z"
      },
      {
        "duration": 204,
        "start_time": "2023-01-30T17:47:30.321Z"
      },
      {
        "duration": 9,
        "start_time": "2023-01-30T17:48:40.567Z"
      },
      {
        "duration": 32,
        "start_time": "2023-01-30T17:48:59.250Z"
      },
      {
        "duration": 178,
        "start_time": "2023-01-30T17:49:03.190Z"
      },
      {
        "duration": 6,
        "start_time": "2023-01-30T17:49:06.524Z"
      },
      {
        "duration": 6,
        "start_time": "2023-01-30T18:06:47.701Z"
      },
      {
        "duration": 327,
        "start_time": "2023-01-30T18:09:13.520Z"
      },
      {
        "duration": 12,
        "start_time": "2023-01-30T18:15:41.157Z"
      },
      {
        "duration": 5,
        "start_time": "2023-01-30T18:15:58.912Z"
      },
      {
        "duration": 38,
        "start_time": "2023-01-30T18:16:06.316Z"
      },
      {
        "duration": 56,
        "start_time": "2023-01-30T18:35:04.281Z"
      },
      {
        "duration": 56,
        "start_time": "2023-01-30T18:35:27.555Z"
      },
      {
        "duration": 4550,
        "start_time": "2023-01-30T18:43:13.629Z"
      },
      {
        "duration": 4,
        "start_time": "2023-01-30T18:43:41.518Z"
      },
      {
        "duration": 4733,
        "start_time": "2023-01-30T18:43:46.325Z"
      },
      {
        "duration": 3841,
        "start_time": "2023-01-30T18:45:38.605Z"
      },
      {
        "duration": 5,
        "start_time": "2023-01-30T18:46:32.617Z"
      },
      {
        "duration": 767,
        "start_time": "2023-01-30T18:46:32.903Z"
      },
      {
        "duration": 13,
        "start_time": "2023-01-30T18:46:33.672Z"
      },
      {
        "duration": 137,
        "start_time": "2023-01-30T18:46:33.692Z"
      },
      {
        "duration": 112,
        "start_time": "2023-01-30T18:46:33.831Z"
      },
      {
        "duration": 121,
        "start_time": "2023-01-30T18:46:33.945Z"
      },
      {
        "duration": 3,
        "start_time": "2023-01-30T18:46:34.067Z"
      },
      {
        "duration": 96,
        "start_time": "2023-01-30T18:46:34.072Z"
      },
      {
        "duration": 106,
        "start_time": "2023-01-30T18:46:34.213Z"
      },
      {
        "duration": 114,
        "start_time": "2023-01-30T18:46:35.022Z"
      },
      {
        "duration": 24,
        "start_time": "2023-01-30T18:46:35.193Z"
      },
      {
        "duration": 194,
        "start_time": "2023-01-30T18:46:36.140Z"
      },
      {
        "duration": 954,
        "start_time": "2023-01-30T18:46:36.665Z"
      },
      {
        "duration": 170,
        "start_time": "2023-01-30T18:46:39.000Z"
      },
      {
        "duration": 209,
        "start_time": "2023-01-30T18:46:39.172Z"
      },
      {
        "duration": 209,
        "start_time": "2023-01-30T18:46:39.383Z"
      },
      {
        "duration": 57,
        "start_time": "2023-01-30T18:46:39.594Z"
      },
      {
        "duration": 22,
        "start_time": "2023-01-30T18:46:43.756Z"
      },
      {
        "duration": 95,
        "start_time": "2023-01-30T18:46:46.074Z"
      },
      {
        "duration": 4,
        "start_time": "2023-01-30T18:46:47.029Z"
      },
      {
        "duration": 3,
        "start_time": "2023-01-30T18:46:48.711Z"
      },
      {
        "duration": 4,
        "start_time": "2023-01-30T18:46:51.504Z"
      },
      {
        "duration": 125,
        "start_time": "2023-01-30T18:46:57.690Z"
      },
      {
        "duration": 436,
        "start_time": "2023-01-30T18:47:03.259Z"
      },
      {
        "duration": 1503,
        "start_time": "2023-01-30T18:47:07.465Z"
      },
      {
        "duration": 2038,
        "start_time": "2023-01-30T18:47:53.952Z"
      },
      {
        "duration": 110942,
        "start_time": "2023-01-30T18:47:59.466Z"
      },
      {
        "duration": 4,
        "start_time": "2023-01-30T18:52:25.376Z"
      },
      {
        "duration": 5,
        "start_time": "2023-01-30T18:52:36.329Z"
      },
      {
        "duration": 14,
        "start_time": "2023-01-30T19:02:07.342Z"
      },
      {
        "duration": 40,
        "start_time": "2023-01-30T19:02:30.080Z"
      },
      {
        "duration": 19,
        "start_time": "2023-01-30T19:02:56.614Z"
      },
      {
        "duration": 21,
        "start_time": "2023-01-30T19:08:33.214Z"
      },
      {
        "duration": 9,
        "start_time": "2023-01-30T19:09:36.580Z"
      },
      {
        "duration": 14,
        "start_time": "2023-01-30T19:09:51.696Z"
      },
      {
        "duration": 10,
        "start_time": "2023-01-30T19:10:04.223Z"
      },
      {
        "duration": 12,
        "start_time": "2023-01-30T19:10:20.607Z"
      },
      {
        "duration": 11,
        "start_time": "2023-01-30T19:10:41.611Z"
      },
      {
        "duration": 26,
        "start_time": "2023-01-30T19:10:45.369Z"
      },
      {
        "duration": 41,
        "start_time": "2023-01-30T19:12:10.345Z"
      },
      {
        "duration": 13821,
        "start_time": "2023-01-30T19:12:18.777Z"
      },
      {
        "duration": 4,
        "start_time": "2023-01-30T19:13:12.491Z"
      },
      {
        "duration": 51,
        "start_time": "2023-01-30T19:13:16.719Z"
      },
      {
        "duration": 566122,
        "start_time": "2023-01-30T19:13:30.885Z"
      },
      {
        "duration": 5,
        "start_time": "2023-01-30T19:26:59.419Z"
      },
      {
        "duration": 4,
        "start_time": "2023-01-30T19:27:05.440Z"
      },
      {
        "duration": 4,
        "start_time": "2023-01-30T19:27:33.574Z"
      },
      {
        "duration": 5,
        "start_time": "2023-01-30T19:29:56.234Z"
      },
      {
        "duration": 2040,
        "start_time": "2023-01-30T19:32:01.667Z"
      },
      {
        "duration": 107311,
        "start_time": "2023-01-30T19:32:07.165Z"
      },
      {
        "duration": 4,
        "start_time": "2023-01-30T19:33:58.454Z"
      },
      {
        "duration": 5,
        "start_time": "2023-01-30T19:34:01.415Z"
      },
      {
        "duration": 4,
        "start_time": "2023-01-30T19:40:08.468Z"
      },
      {
        "duration": 1002285,
        "start_time": "2023-01-30T19:40:11.057Z"
      },
      {
        "duration": 4,
        "start_time": "2023-01-30T19:58:54.907Z"
      },
      {
        "duration": 5,
        "start_time": "2023-01-30T19:59:03.959Z"
      },
      {
        "duration": 3,
        "start_time": "2023-01-30T19:59:12.784Z"
      },
      {
        "duration": 3,
        "start_time": "2023-01-30T19:59:13.570Z"
      },
      {
        "duration": 10,
        "start_time": "2023-01-30T19:59:14.171Z"
      },
      {
        "duration": 27579,
        "start_time": "2023-01-30T19:59:51.901Z"
      },
      {
        "duration": 8020,
        "start_time": "2023-01-30T20:00:23.286Z"
      },
      {
        "duration": 9418,
        "start_time": "2023-01-30T20:00:32.877Z"
      },
      {
        "duration": 4,
        "start_time": "2023-01-30T20:00:43.466Z"
      },
      {
        "duration": 9,
        "start_time": "2023-01-30T20:00:46.313Z"
      },
      {
        "duration": 12411,
        "start_time": "2023-01-30T20:01:00.087Z"
      },
      {
        "duration": 3165,
        "start_time": "2023-01-30T20:01:31.828Z"
      },
      {
        "duration": 3003,
        "start_time": "2023-01-30T20:29:17.155Z"
      },
      {
        "duration": 741,
        "start_time": "2023-01-30T20:29:20.159Z"
      },
      {
        "duration": 16,
        "start_time": "2023-01-30T20:29:20.902Z"
      },
      {
        "duration": 122,
        "start_time": "2023-01-30T20:29:20.920Z"
      },
      {
        "duration": 101,
        "start_time": "2023-01-30T20:29:21.044Z"
      },
      {
        "duration": 127,
        "start_time": "2023-01-30T20:29:21.147Z"
      },
      {
        "duration": 3,
        "start_time": "2023-01-30T20:29:21.275Z"
      },
      {
        "duration": 85,
        "start_time": "2023-01-30T20:29:21.279Z"
      },
      {
        "duration": 131,
        "start_time": "2023-01-30T20:29:21.366Z"
      },
      {
        "duration": 104,
        "start_time": "2023-01-30T20:29:21.499Z"
      },
      {
        "duration": 22,
        "start_time": "2023-01-30T20:29:21.605Z"
      },
      {
        "duration": 188,
        "start_time": "2023-01-30T20:29:21.629Z"
      },
      {
        "duration": 949,
        "start_time": "2023-01-30T20:29:21.818Z"
      },
      {
        "duration": 142,
        "start_time": "2023-01-30T20:29:22.769Z"
      },
      {
        "duration": 181,
        "start_time": "2023-01-30T20:29:22.912Z"
      },
      {
        "duration": 205,
        "start_time": "2023-01-30T20:29:23.094Z"
      },
      {
        "duration": 60,
        "start_time": "2023-01-30T20:29:23.301Z"
      },
      {
        "duration": 51,
        "start_time": "2023-01-30T20:29:37.391Z"
      },
      {
        "duration": 4,
        "start_time": "2023-01-30T20:42:12.201Z"
      },
      {
        "duration": 717,
        "start_time": "2023-01-30T20:42:14.388Z"
      },
      {
        "duration": 15,
        "start_time": "2023-01-30T20:42:16.059Z"
      },
      {
        "duration": 106,
        "start_time": "2023-01-30T20:42:18.374Z"
      },
      {
        "duration": 92,
        "start_time": "2023-01-30T20:42:32.541Z"
      },
      {
        "duration": 102,
        "start_time": "2023-01-30T20:43:35.147Z"
      },
      {
        "duration": 99,
        "start_time": "2023-01-30T20:43:35.733Z"
      },
      {
        "duration": 3,
        "start_time": "2023-01-30T20:43:36.317Z"
      },
      {
        "duration": 79,
        "start_time": "2023-01-30T20:43:37.768Z"
      },
      {
        "duration": 110,
        "start_time": "2023-01-30T20:43:38.293Z"
      },
      {
        "duration": 100,
        "start_time": "2023-01-30T20:43:43.039Z"
      },
      {
        "duration": 15,
        "start_time": "2023-01-30T20:43:45.208Z"
      },
      {
        "duration": 147,
        "start_time": "2023-01-30T20:43:47.083Z"
      },
      {
        "duration": 852,
        "start_time": "2023-01-30T20:43:49.726Z"
      },
      {
        "duration": 198,
        "start_time": "2023-01-30T20:43:52.854Z"
      },
      {
        "duration": 53,
        "start_time": "2023-01-30T20:44:02.604Z"
      },
      {
        "duration": 147,
        "start_time": "2023-01-30T20:44:31.642Z"
      },
      {
        "duration": 167,
        "start_time": "2023-01-30T20:44:59.890Z"
      },
      {
        "duration": 153,
        "start_time": "2023-01-30T20:45:15.838Z"
      },
      {
        "duration": 150,
        "start_time": "2023-01-30T20:45:23.326Z"
      },
      {
        "duration": 70,
        "start_time": "2023-01-30T20:46:13.030Z"
      },
      {
        "duration": 190,
        "start_time": "2023-01-30T20:47:23.586Z"
      },
      {
        "duration": 21712,
        "start_time": "2023-01-30T20:54:26.485Z"
      },
      {
        "duration": 47664,
        "start_time": "2023-01-30T20:56:47.029Z"
      },
      {
        "duration": 16,
        "start_time": "2023-01-30T20:57:48.925Z"
      },
      {
        "duration": 55,
        "start_time": "2023-01-30T20:57:50.990Z"
      },
      {
        "duration": 4,
        "start_time": "2023-01-30T20:57:53.661Z"
      },
      {
        "duration": 53,
        "start_time": "2023-01-30T20:58:17.622Z"
      },
      {
        "duration": 53,
        "start_time": "2023-01-30T20:58:29.327Z"
      },
      {
        "duration": 41,
        "start_time": "2023-01-30T20:58:47.126Z"
      },
      {
        "duration": 279,
        "start_time": "2023-01-30T20:58:51.738Z"
      },
      {
        "duration": 160,
        "start_time": "2023-01-30T20:59:07.853Z"
      },
      {
        "duration": 164,
        "start_time": "2023-01-30T20:59:17.757Z"
      },
      {
        "duration": 177,
        "start_time": "2023-01-30T20:59:25.786Z"
      },
      {
        "duration": 5,
        "start_time": "2023-01-30T20:59:42.650Z"
      },
      {
        "duration": 4,
        "start_time": "2023-01-30T21:38:46.532Z"
      },
      {
        "duration": 26,
        "start_time": "2023-01-30T21:39:36.532Z"
      },
      {
        "duration": 168,
        "start_time": "2023-01-30T21:40:57.158Z"
      },
      {
        "duration": 6377,
        "start_time": "2023-01-30T21:41:21.316Z"
      },
      {
        "duration": 1765,
        "start_time": "2023-01-31T10:04:04.837Z"
      },
      {
        "duration": 1248,
        "start_time": "2023-01-31T10:04:06.606Z"
      },
      {
        "duration": 19,
        "start_time": "2023-01-31T10:04:07.856Z"
      },
      {
        "duration": 162,
        "start_time": "2023-01-31T10:04:07.878Z"
      },
      {
        "duration": 107,
        "start_time": "2023-01-31T10:04:08.043Z"
      },
      {
        "duration": 170,
        "start_time": "2023-01-31T10:04:08.152Z"
      },
      {
        "duration": 148,
        "start_time": "2023-01-31T10:04:08.324Z"
      },
      {
        "duration": 4,
        "start_time": "2023-01-31T10:04:08.473Z"
      },
      {
        "duration": 123,
        "start_time": "2023-01-31T10:04:08.479Z"
      },
      {
        "duration": 149,
        "start_time": "2023-01-31T10:04:08.605Z"
      },
      {
        "duration": 148,
        "start_time": "2023-01-31T10:04:08.755Z"
      },
      {
        "duration": 30,
        "start_time": "2023-01-31T10:04:08.905Z"
      },
      {
        "duration": 211,
        "start_time": "2023-01-31T10:04:08.939Z"
      },
      {
        "duration": 1123,
        "start_time": "2023-01-31T10:04:09.153Z"
      },
      {
        "duration": 209,
        "start_time": "2023-01-31T10:04:10.277Z"
      },
      {
        "duration": 192,
        "start_time": "2023-01-31T10:04:10.488Z"
      },
      {
        "duration": 230,
        "start_time": "2023-01-31T10:04:10.682Z"
      },
      {
        "duration": 107,
        "start_time": "2023-01-31T10:04:10.914Z"
      },
      {
        "duration": 31,
        "start_time": "2023-01-31T10:04:11.023Z"
      },
      {
        "duration": 70,
        "start_time": "2023-01-31T10:04:11.056Z"
      },
      {
        "duration": 13,
        "start_time": "2023-01-31T10:04:11.129Z"
      },
      {
        "duration": 17,
        "start_time": "2023-01-31T10:04:11.144Z"
      },
      {
        "duration": 19,
        "start_time": "2023-01-31T10:04:11.163Z"
      },
      {
        "duration": 75,
        "start_time": "2023-01-31T10:04:11.185Z"
      },
      {
        "duration": 0,
        "start_time": "2023-01-31T10:04:11.263Z"
      },
      {
        "duration": 0,
        "start_time": "2023-01-31T10:04:11.265Z"
      },
      {
        "duration": 1,
        "start_time": "2023-01-31T10:04:11.266Z"
      },
      {
        "duration": 0,
        "start_time": "2023-01-31T10:04:11.268Z"
      },
      {
        "duration": 0,
        "start_time": "2023-01-31T10:04:11.270Z"
      },
      {
        "duration": 0,
        "start_time": "2023-01-31T10:04:11.271Z"
      },
      {
        "duration": 0,
        "start_time": "2023-01-31T10:04:11.272Z"
      },
      {
        "duration": 0,
        "start_time": "2023-01-31T10:04:11.274Z"
      },
      {
        "duration": 0,
        "start_time": "2023-01-31T10:04:11.275Z"
      },
      {
        "duration": 0,
        "start_time": "2023-01-31T10:04:11.277Z"
      },
      {
        "duration": 0,
        "start_time": "2023-01-31T10:04:11.278Z"
      },
      {
        "duration": 0,
        "start_time": "2023-01-31T10:04:11.280Z"
      },
      {
        "duration": 0,
        "start_time": "2023-01-31T10:04:11.283Z"
      },
      {
        "duration": 0,
        "start_time": "2023-01-31T10:04:11.285Z"
      },
      {
        "duration": 0,
        "start_time": "2023-01-31T10:04:11.286Z"
      },
      {
        "duration": 0,
        "start_time": "2023-01-31T10:04:11.288Z"
      },
      {
        "duration": 0,
        "start_time": "2023-01-31T10:04:11.290Z"
      },
      {
        "duration": 0,
        "start_time": "2023-01-31T10:04:11.292Z"
      },
      {
        "duration": 0,
        "start_time": "2023-01-31T10:04:11.294Z"
      },
      {
        "duration": 0,
        "start_time": "2023-01-31T10:04:11.296Z"
      },
      {
        "duration": 234,
        "start_time": "2023-01-31T10:08:29.042Z"
      },
      {
        "duration": 2204,
        "start_time": "2023-01-31T10:08:29.279Z"
      },
      {
        "duration": 126703,
        "start_time": "2023-01-31T10:08:31.485Z"
      },
      {
        "duration": 6,
        "start_time": "2023-01-31T10:10:38.191Z"
      },
      {
        "duration": 38,
        "start_time": "2023-01-31T10:10:38.200Z"
      },
      {
        "duration": 72,
        "start_time": "2023-01-31T10:10:38.240Z"
      },
      {
        "duration": 2755626,
        "start_time": "2023-01-31T10:10:38.315Z"
      },
      {
        "duration": 4,
        "start_time": "2023-01-31T10:56:33.943Z"
      },
      {
        "duration": 34,
        "start_time": "2023-01-31T10:56:33.948Z"
      },
      {
        "duration": 28,
        "start_time": "2023-01-31T10:56:33.985Z"
      },
      {
        "duration": 67957,
        "start_time": "2023-01-31T11:26:37.694Z"
      },
      {
        "duration": 31883,
        "start_time": "2023-01-31T11:27:45.653Z"
      },
      {
        "duration": 3,
        "start_time": "2023-01-31T11:31:15.522Z"
      },
      {
        "duration": 10827,
        "start_time": "2023-01-31T14:37:03.739Z"
      },
      {
        "duration": 5,
        "start_time": "2023-01-31T14:37:50.099Z"
      },
      {
        "duration": 9,
        "start_time": "2023-01-31T14:37:52.987Z"
      },
      {
        "duration": 0,
        "start_time": "2023-01-31T14:38:09.964Z"
      },
      {
        "duration": 9331,
        "start_time": "2023-01-31T14:38:18.510Z"
      },
      {
        "duration": 18520,
        "start_time": "2023-01-31T14:42:23.921Z"
      },
      {
        "duration": 1557,
        "start_time": "2023-01-31T14:43:15.383Z"
      },
      {
        "duration": 899,
        "start_time": "2023-01-31T14:43:16.941Z"
      },
      {
        "duration": 19,
        "start_time": "2023-01-31T14:43:17.842Z"
      },
      {
        "duration": 176,
        "start_time": "2023-01-31T14:43:17.864Z"
      },
      {
        "duration": 127,
        "start_time": "2023-01-31T14:43:18.041Z"
      },
      {
        "duration": 162,
        "start_time": "2023-01-31T14:43:18.170Z"
      },
      {
        "duration": 144,
        "start_time": "2023-01-31T14:43:18.333Z"
      },
      {
        "duration": 3,
        "start_time": "2023-01-31T14:43:18.479Z"
      },
      {
        "duration": 122,
        "start_time": "2023-01-31T14:43:18.484Z"
      },
      {
        "duration": 149,
        "start_time": "2023-01-31T14:43:18.608Z"
      },
      {
        "duration": 136,
        "start_time": "2023-01-31T14:43:18.758Z"
      },
      {
        "duration": 28,
        "start_time": "2023-01-31T14:43:18.896Z"
      },
      {
        "duration": 236,
        "start_time": "2023-01-31T14:43:18.926Z"
      },
      {
        "duration": 1111,
        "start_time": "2023-01-31T14:43:19.164Z"
      },
      {
        "duration": 206,
        "start_time": "2023-01-31T14:43:20.277Z"
      },
      {
        "duration": 202,
        "start_time": "2023-01-31T14:43:20.485Z"
      },
      {
        "duration": 219,
        "start_time": "2023-01-31T14:43:20.690Z"
      },
      {
        "duration": 96,
        "start_time": "2023-01-31T14:43:20.910Z"
      },
      {
        "duration": 15,
        "start_time": "2023-01-31T14:43:21.007Z"
      },
      {
        "duration": 81,
        "start_time": "2023-01-31T14:43:21.024Z"
      },
      {
        "duration": 4,
        "start_time": "2023-01-31T14:43:21.107Z"
      },
      {
        "duration": 21,
        "start_time": "2023-01-31T14:43:21.112Z"
      },
      {
        "duration": 23,
        "start_time": "2023-01-31T14:43:21.134Z"
      },
      {
        "duration": 158,
        "start_time": "2023-01-31T14:43:21.158Z"
      },
      {
        "duration": 2217,
        "start_time": "2023-01-31T14:43:21.318Z"
      },
      {
        "duration": 116204,
        "start_time": "2023-01-31T14:43:23.537Z"
      },
      {
        "duration": 4,
        "start_time": "2023-01-31T14:45:19.742Z"
      },
      {
        "duration": 22,
        "start_time": "2023-01-31T14:45:19.750Z"
      },
      {
        "duration": 9,
        "start_time": "2023-01-31T14:45:19.773Z"
      },
      {
        "duration": 1054864,
        "start_time": "2023-01-31T14:45:19.784Z"
      },
      {
        "duration": 4,
        "start_time": "2023-01-31T15:02:54.650Z"
      },
      {
        "duration": 15,
        "start_time": "2023-01-31T15:02:54.656Z"
      },
      {
        "duration": 19,
        "start_time": "2023-01-31T15:02:54.673Z"
      },
      {
        "duration": 1151165,
        "start_time": "2023-01-31T15:02:54.694Z"
      },
      {
        "duration": 4,
        "start_time": "2023-01-31T15:22:05.861Z"
      },
      {
        "duration": 12,
        "start_time": "2023-01-31T15:22:05.866Z"
      },
      {
        "duration": 21,
        "start_time": "2023-01-31T15:22:05.880Z"
      },
      {
        "duration": 31684,
        "start_time": "2023-01-31T15:22:05.904Z"
      },
      {
        "duration": 137258,
        "start_time": "2023-01-31T15:22:37.590Z"
      },
      {
        "duration": 10162,
        "start_time": "2023-01-31T15:24:54.850Z"
      },
      {
        "duration": 5,
        "start_time": "2023-01-31T15:25:05.014Z"
      },
      {
        "duration": 25,
        "start_time": "2023-01-31T15:25:05.021Z"
      },
      {
        "duration": 7593,
        "start_time": "2023-01-31T15:25:05.048Z"
      }
    ],
    "kernelspec": {
      "display_name": "Python 3 (ipykernel)",
      "language": "python",
      "name": "python3"
    },
    "language_info": {
      "codemirror_mode": {
        "name": "ipython",
        "version": 3
      },
      "file_extension": ".py",
      "mimetype": "text/x-python",
      "name": "python",
      "nbconvert_exporter": "python",
      "pygments_lexer": "ipython3",
      "version": "3.9.5"
    },
    "toc": {
      "base_numbering": 1,
      "nav_menu": {},
      "number_sections": true,
      "sideBar": true,
      "skip_h1_title": true,
      "title_cell": "Table of Contents",
      "title_sidebar": "Contents",
      "toc_cell": false,
      "toc_position": {},
      "toc_section_display": true,
      "toc_window_display": false
    },
    "colab": {
      "provenance": []
    }
  },
  "nbformat": 4,
  "nbformat_minor": 0
}