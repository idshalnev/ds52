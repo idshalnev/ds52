{
  "cells": [
    {
      "cell_type": "markdown",
      "metadata": {
        "toc": true,
        "id": "8tYTdWL18StN"
      },
      "source": [
        "<h1>Содержание<span class=\"tocSkip\"></span></h1>\n",
        "<div class=\"toc\"><ul class=\"toc-item\"><li><span><a href=\"#Подготовка-данных\" data-toc-modified-id=\"Подготовка-данных-1\"><span class=\"toc-item-num\">1&nbsp;&nbsp;</span>Подготовка данных</a></span><ul class=\"toc-item\"><li><span><a href=\"#Импортируем-библиотеки\" data-toc-modified-id=\"Импортируем-библиотеки-1.1\"><span class=\"toc-item-num\">1.1&nbsp;&nbsp;</span>Импортируем библиотеки</a></span></li><li><span><a href=\"#Читаем-датасеты,-выведем-по-5-строк-из-каждого,--выведем-на-экран-основную-инмормацию-по-каждому-блоку-данных,-проверяем-какой-тип-данных-у-каждого-столбца,-проверяем-на-наличие-пропусков\" data-toc-modified-id=\"Читаем-датасеты,-выведем-по-5-строк-из-каждого,--выведем-на-экран-основную-инмормацию-по-каждому-блоку-данных,-проверяем-какой-тип-данных-у-каждого-столбца,-проверяем-на-наличие-пропусков-1.2\"><span class=\"toc-item-num\">1.2&nbsp;&nbsp;</span>Читаем датасеты, выведем по 5 строк из каждого,  выведем на экран основную инмормацию по каждому блоку данных, проверяем какой тип данных у каждого столбца, проверяем на наличие пропусков</a></span></li><li><span><a href=\"#Заполняем-пропуски\" data-toc-modified-id=\"Заполняем-пропуски-1.3\"><span class=\"toc-item-num\">1.3&nbsp;&nbsp;</span>Заполняем пропуски</a></span></li><li><span><a href=\"#Переводим-из-одного-формата-в-другой\" data-toc-modified-id=\"Переводим-из-одного-формата-в-другой-1.4\"><span class=\"toc-item-num\">1.4&nbsp;&nbsp;</span>Переводим из одного формата в другой</a></span></li><li><span><a href=\"#Расчитаем-эффективность-обогащения-золота-для-признака--rougher.output.recovery\" data-toc-modified-id=\"Расчитаем-эффективность-обогащения-золота-для-признака--rougher.output.recovery-1.5\"><span class=\"toc-item-num\">1.5&nbsp;&nbsp;</span>Расчитаем эффективность обогащения золота для признака  rougher.output.recovery</a></span></li><li><span><a href=\"#Найдем-MAE-между-нашими-расчётами-и-значением-признака.\" data-toc-modified-id=\"Найдем-MAE-между-нашими-расчётами-и-значением-признака.-1.6\"><span class=\"toc-item-num\">1.6&nbsp;&nbsp;</span>Найдем MAE между нашими расчётами и значением признака.</a></span></li><li><span><a href=\"#Проанализируем-признаки,-недоступные-в-тестовой-выборке.\" data-toc-modified-id=\"Проанализируем-признаки,-недоступные-в-тестовой-выборке.-1.7\"><span class=\"toc-item-num\">1.7&nbsp;&nbsp;</span>Проанализируем признаки, недоступные в тестовой выборке.</a></span></li><li><span><a href=\"#Вывод:\" data-toc-modified-id=\"Вывод:-1.8\"><span class=\"toc-item-num\">1.8&nbsp;&nbsp;</span>Вывод:</a></span></li></ul></li><li><span><a href=\"#Анализ-данных\" data-toc-modified-id=\"Анализ-данных-2\"><span class=\"toc-item-num\">2&nbsp;&nbsp;</span>Анализ данных</a></span><ul class=\"toc-item\"><li><span><a href=\"#Посмотрим,-как-меняется-концентрация-металлов-(Au,-Ag,-Pb)-на-различных-этапах-очистки.\" data-toc-modified-id=\"Посмотрим,-как-меняется-концентрация-металлов-(Au,-Ag,-Pb)-на-различных-этапах-очистки.-2.1\"><span class=\"toc-item-num\">2.1&nbsp;&nbsp;</span>Посмотрим, как меняется концентрация металлов (Au, Ag, Pb) на различных этапах очистки.</a></span></li><li><span><a href=\"#Сравним-распределения-размеров-гранул-сырья-на-обучающей-и-тестовой-выборках.\" data-toc-modified-id=\"Сравним-распределения-размеров-гранул-сырья-на-обучающей-и-тестовой-выборках.-2.2\"><span class=\"toc-item-num\">2.2&nbsp;&nbsp;</span>Сравним распределения размеров гранул сырья на обучающей и тестовой выборках.</a></span></li><li><span><a href=\"#Исследуем-суммарную-концентрацию-всех-веществ-на-разных-стадиях:-в-сырье,-в-черновом-и-финальном-концентратах.\" data-toc-modified-id=\"Исследуем-суммарную-концентрацию-всех-веществ-на-разных-стадиях:-в-сырье,-в-черновом-и-финальном-концентратах.-2.3\"><span class=\"toc-item-num\">2.3&nbsp;&nbsp;</span>Исследуем суммарную концентрацию всех веществ на разных стадиях: в сырье, в черновом и финальном концентратах.</a></span></li><li><span><a href=\"#Вывод\" data-toc-modified-id=\"Вывод-2.4\"><span class=\"toc-item-num\">2.4&nbsp;&nbsp;</span>Вывод</a></span></li></ul></li><li><span><a href=\"#Модель\" data-toc-modified-id=\"Модель-3\"><span class=\"toc-item-num\">3&nbsp;&nbsp;</span>Модель</a></span><ul class=\"toc-item\"><li><span><a href=\"#Удалим-отсутствующие-в-тестовой-выборке-признаки-из-обучающей\" data-toc-modified-id=\"Удалим-отсутствующие-в-тестовой-выборке-признаки-из-обучающей-3.1\"><span class=\"toc-item-num\">3.1&nbsp;&nbsp;</span>Удалим отсутствующие в тестовой выборке признаки из обучающей</a></span></li><li><span><a href=\"#Напишем-функцию-для-вычисления-итоговой-sMAPE.\" data-toc-modified-id=\"Напишем-функцию-для-вычисления-итоговой-sMAPE.-3.2\"><span class=\"toc-item-num\">3.2&nbsp;&nbsp;</span>Напишем функцию для вычисления итоговой sMAPE.</a></span></li><li><span><a href=\"#Построим-и-обучим-разные-модели-и-оценим-их-качество-кросс-валидацией.-Выберим-лучшую-модель-и-проверьте-её-на-тестовой-выборке.\" data-toc-modified-id=\"Построим-и-обучим-разные-модели-и-оценим-их-качество-кросс-валидацией.-Выберим-лучшую-модель-и-проверьте-её-на-тестовой-выборке.-3.3\"><span class=\"toc-item-num\">3.3&nbsp;&nbsp;</span>Построим и обучим разные модели и оценим их качество кросс-валидацией. Выберим лучшую модель и проверьте её на тестовой выборке.</a></span><ul class=\"toc-item\"><li><span><a href=\"#Введем-целевые-признаки-для-будущих-моделей\" data-toc-modified-id=\"Введем-целевые-признаки-для-будущих-моделей-3.3.1\"><span class=\"toc-item-num\">3.3.1&nbsp;&nbsp;</span>Введем целевые признаки для будущих моделей</a></span></li><li><span><a href=\"#Линейная-регрессия\" data-toc-modified-id=\"Линейная-регрессия-3.3.2\"><span class=\"toc-item-num\">3.3.2&nbsp;&nbsp;</span>Линейная регрессия</a></span></li><li><span><a href=\"#Дерево-решений\" data-toc-modified-id=\"Дерево-решений-3.3.3\"><span class=\"toc-item-num\">3.3.3&nbsp;&nbsp;</span>Дерево решений</a></span></li><li><span><a href=\"#Случайный-лес\" data-toc-modified-id=\"Случайный-лес-3.3.4\"><span class=\"toc-item-num\">3.3.4&nbsp;&nbsp;</span>Случайный лес</a></span></li><li><span><a href=\"#Проверим-модель-на-адекватность.-Построим-константную-модель\" data-toc-modified-id=\"Проверим-модель-на-адекватность.-Построим-константную-модель-3.3.5\"><span class=\"toc-item-num\">3.3.5&nbsp;&nbsp;</span>Проверим модель на адекватность. Построим константную модель</a></span></li></ul></li></ul></li><li><span><a href=\"#Общий-вывод\" data-toc-modified-id=\"Общий-вывод-4\"><span class=\"toc-item-num\">4&nbsp;&nbsp;</span>Общий вывод</a></span></li></ul></div>"
      ]
    },
    {
      "cell_type": "markdown",
      "metadata": {
        "id": "G1OcovF98StO"
      },
      "source": [
        "# Восстановление золота из руды"
      ]
    },
    {
      "cell_type": "markdown",
      "metadata": {
        "id": "mMuooyti8StO"
      },
      "source": [
        "Подготовьте прототип модели машинного обучения для «Цифры». Компания разрабатывает решения для эффективной работы промышленных предприятий.\n",
        "\n",
        "Модель должна предсказать коэффициент восстановления золота из золотосодержащей руды. Используйте данные с параметрами добычи и очистки.\n",
        "\n",
        "Модель поможет оптимизировать производство, чтобы не запускать предприятие с убыточными характеристиками.\n",
        "\n",
        "Вам нужно:\n",
        "\n",
        "1. Подготовить данные;\n",
        "2. Провести исследовательский анализ данных;\n",
        "3. Построить и обучить модель.\n",
        "\n",
        "Чтобы выполнить проект, обращайтесь к библиотекам *pandas*, *matplotlib* и *sklearn.* Вам поможет их документация."
      ]
    },
    {
      "cell_type": "markdown",
      "metadata": {
        "id": "SB42aGwv8StP"
      },
      "source": [
        "## Подготовка данных"
      ]
    },
    {
      "cell_type": "markdown",
      "metadata": {
        "id": "DDifkQYi8StP"
      },
      "source": [
        "### Импортируем библиотеки"
      ]
    },
    {
      "cell_type": "code",
      "execution_count": null,
      "metadata": {
        "id": "-Icwp_gF8StQ"
      },
      "outputs": [],
      "source": [
        "import pandas as pd\n",
        "import numpy as np\n",
        "from sklearn.model_selection import train_test_split\n",
        "from sklearn.tree import DecisionTreeRegressor\n",
        "from sklearn.ensemble import RandomForestRegressor\n",
        "from sklearn.linear_model import LinearRegression\n",
        "from sklearn.linear_model import LogisticRegression\n",
        "from numpy.random import RandomState\n",
        "from sklearn.metrics import mean_absolute_error, make_scorer\n",
        "import matplotlib.pyplot as plt\n",
        "import seaborn as sns\n",
        "from sklearn.model_selection import cross_val_score\n",
        "from sklearn.dummy import DummyRegressor\n",
        "\n",
        "# делаем импорты"
      ]
    },
    {
      "cell_type": "markdown",
      "metadata": {
        "id": "QS_5lQsB8StR"
      },
      "source": [
        "### Читаем датасеты, выведем по 5 строк из каждого,  выведем на экран основную инмормацию по каждому блоку данных, проверяем какой тип данных у каждого столбца, проверяем на наличие пропусков"
      ]
    },
    {
      "cell_type": "code",
      "execution_count": null,
      "metadata": {
        "id": "-HmkNeji8StR"
      },
      "outputs": [],
      "source": [
        "df_train = pd.read_csv('/datasets/gold_recovery_train_new.csv')\n",
        "df_test = pd.read_csv('/datasets/gold_recovery_test_new.csv')\n",
        "df_full = pd.read_csv('/datasets/gold_recovery_full_new.csv')\n",
        "\n",
        "#читаем датасеты"
      ]
    },
    {
      "cell_type": "code",
      "execution_count": null,
      "metadata": {
        "id": "0r2bUDFm8StS",
        "outputId": "5676023f-9372-4e17-b91c-a9a7a80a06ee"
      },
      "outputs": [
        {
          "data": {
            "text/html": [
              "<div>\n",
              "<style scoped>\n",
              "    .dataframe tbody tr th:only-of-type {\n",
              "        vertical-align: middle;\n",
              "    }\n",
              "\n",
              "    .dataframe tbody tr th {\n",
              "        vertical-align: top;\n",
              "    }\n",
              "\n",
              "    .dataframe thead th {\n",
              "        text-align: right;\n",
              "    }\n",
              "</style>\n",
              "<table border=\"1\" class=\"dataframe\">\n",
              "  <thead>\n",
              "    <tr style=\"text-align: right;\">\n",
              "      <th></th>\n",
              "      <th>date</th>\n",
              "      <th>final.output.concentrate_ag</th>\n",
              "      <th>final.output.concentrate_pb</th>\n",
              "      <th>final.output.concentrate_sol</th>\n",
              "      <th>final.output.concentrate_au</th>\n",
              "      <th>final.output.recovery</th>\n",
              "      <th>final.output.tail_ag</th>\n",
              "      <th>final.output.tail_pb</th>\n",
              "      <th>final.output.tail_sol</th>\n",
              "      <th>final.output.tail_au</th>\n",
              "      <th>...</th>\n",
              "      <th>secondary_cleaner.state.floatbank4_a_air</th>\n",
              "      <th>secondary_cleaner.state.floatbank4_a_level</th>\n",
              "      <th>secondary_cleaner.state.floatbank4_b_air</th>\n",
              "      <th>secondary_cleaner.state.floatbank4_b_level</th>\n",
              "      <th>secondary_cleaner.state.floatbank5_a_air</th>\n",
              "      <th>secondary_cleaner.state.floatbank5_a_level</th>\n",
              "      <th>secondary_cleaner.state.floatbank5_b_air</th>\n",
              "      <th>secondary_cleaner.state.floatbank5_b_level</th>\n",
              "      <th>secondary_cleaner.state.floatbank6_a_air</th>\n",
              "      <th>secondary_cleaner.state.floatbank6_a_level</th>\n",
              "    </tr>\n",
              "  </thead>\n",
              "  <tbody>\n",
              "    <tr>\n",
              "      <th>0</th>\n",
              "      <td>2016-01-15 00:00:00</td>\n",
              "      <td>6.055403</td>\n",
              "      <td>9.889648</td>\n",
              "      <td>5.507324</td>\n",
              "      <td>42.192020</td>\n",
              "      <td>70.541216</td>\n",
              "      <td>10.411962</td>\n",
              "      <td>0.895447</td>\n",
              "      <td>16.904297</td>\n",
              "      <td>2.143149</td>\n",
              "      <td>...</td>\n",
              "      <td>14.016835</td>\n",
              "      <td>-502.488007</td>\n",
              "      <td>12.099931</td>\n",
              "      <td>-504.715942</td>\n",
              "      <td>9.925633</td>\n",
              "      <td>-498.310211</td>\n",
              "      <td>8.079666</td>\n",
              "      <td>-500.470978</td>\n",
              "      <td>14.151341</td>\n",
              "      <td>-605.841980</td>\n",
              "    </tr>\n",
              "    <tr>\n",
              "      <th>1</th>\n",
              "      <td>2016-01-15 01:00:00</td>\n",
              "      <td>6.029369</td>\n",
              "      <td>9.968944</td>\n",
              "      <td>5.257781</td>\n",
              "      <td>42.701629</td>\n",
              "      <td>69.266198</td>\n",
              "      <td>10.462676</td>\n",
              "      <td>0.927452</td>\n",
              "      <td>16.634514</td>\n",
              "      <td>2.224930</td>\n",
              "      <td>...</td>\n",
              "      <td>13.992281</td>\n",
              "      <td>-505.503262</td>\n",
              "      <td>11.950531</td>\n",
              "      <td>-501.331529</td>\n",
              "      <td>10.039245</td>\n",
              "      <td>-500.169983</td>\n",
              "      <td>7.984757</td>\n",
              "      <td>-500.582168</td>\n",
              "      <td>13.998353</td>\n",
              "      <td>-599.787184</td>\n",
              "    </tr>\n",
              "    <tr>\n",
              "      <th>2</th>\n",
              "      <td>2016-01-15 02:00:00</td>\n",
              "      <td>6.055926</td>\n",
              "      <td>10.213995</td>\n",
              "      <td>5.383759</td>\n",
              "      <td>42.657501</td>\n",
              "      <td>68.116445</td>\n",
              "      <td>10.507046</td>\n",
              "      <td>0.953716</td>\n",
              "      <td>16.208849</td>\n",
              "      <td>2.257889</td>\n",
              "      <td>...</td>\n",
              "      <td>14.015015</td>\n",
              "      <td>-502.520901</td>\n",
              "      <td>11.912783</td>\n",
              "      <td>-501.133383</td>\n",
              "      <td>10.070913</td>\n",
              "      <td>-500.129135</td>\n",
              "      <td>8.013877</td>\n",
              "      <td>-500.517572</td>\n",
              "      <td>14.028663</td>\n",
              "      <td>-601.427363</td>\n",
              "    </tr>\n",
              "    <tr>\n",
              "      <th>3</th>\n",
              "      <td>2016-01-15 03:00:00</td>\n",
              "      <td>6.047977</td>\n",
              "      <td>9.977019</td>\n",
              "      <td>4.858634</td>\n",
              "      <td>42.689819</td>\n",
              "      <td>68.347543</td>\n",
              "      <td>10.422762</td>\n",
              "      <td>0.883763</td>\n",
              "      <td>16.532835</td>\n",
              "      <td>2.146849</td>\n",
              "      <td>...</td>\n",
              "      <td>14.036510</td>\n",
              "      <td>-500.857308</td>\n",
              "      <td>11.999550</td>\n",
              "      <td>-501.193686</td>\n",
              "      <td>9.970366</td>\n",
              "      <td>-499.201640</td>\n",
              "      <td>7.977324</td>\n",
              "      <td>-500.255908</td>\n",
              "      <td>14.005551</td>\n",
              "      <td>-599.996129</td>\n",
              "    </tr>\n",
              "    <tr>\n",
              "      <th>4</th>\n",
              "      <td>2016-01-15 04:00:00</td>\n",
              "      <td>6.148599</td>\n",
              "      <td>10.142511</td>\n",
              "      <td>4.939416</td>\n",
              "      <td>42.774141</td>\n",
              "      <td>66.927016</td>\n",
              "      <td>10.360302</td>\n",
              "      <td>0.792826</td>\n",
              "      <td>16.525686</td>\n",
              "      <td>2.055292</td>\n",
              "      <td>...</td>\n",
              "      <td>14.027298</td>\n",
              "      <td>-499.838632</td>\n",
              "      <td>11.953070</td>\n",
              "      <td>-501.053894</td>\n",
              "      <td>9.925709</td>\n",
              "      <td>-501.686727</td>\n",
              "      <td>7.894242</td>\n",
              "      <td>-500.356035</td>\n",
              "      <td>13.996647</td>\n",
              "      <td>-601.496691</td>\n",
              "    </tr>\n",
              "  </tbody>\n",
              "</table>\n",
              "<p>5 rows × 87 columns</p>\n",
              "</div>"
            ],
            "text/plain": [
              "                  date  final.output.concentrate_ag  \\\n",
              "0  2016-01-15 00:00:00                     6.055403   \n",
              "1  2016-01-15 01:00:00                     6.029369   \n",
              "2  2016-01-15 02:00:00                     6.055926   \n",
              "3  2016-01-15 03:00:00                     6.047977   \n",
              "4  2016-01-15 04:00:00                     6.148599   \n",
              "\n",
              "   final.output.concentrate_pb  final.output.concentrate_sol  \\\n",
              "0                     9.889648                      5.507324   \n",
              "1                     9.968944                      5.257781   \n",
              "2                    10.213995                      5.383759   \n",
              "3                     9.977019                      4.858634   \n",
              "4                    10.142511                      4.939416   \n",
              "\n",
              "   final.output.concentrate_au  final.output.recovery  final.output.tail_ag  \\\n",
              "0                    42.192020              70.541216             10.411962   \n",
              "1                    42.701629              69.266198             10.462676   \n",
              "2                    42.657501              68.116445             10.507046   \n",
              "3                    42.689819              68.347543             10.422762   \n",
              "4                    42.774141              66.927016             10.360302   \n",
              "\n",
              "   final.output.tail_pb  final.output.tail_sol  final.output.tail_au  ...  \\\n",
              "0              0.895447              16.904297              2.143149  ...   \n",
              "1              0.927452              16.634514              2.224930  ...   \n",
              "2              0.953716              16.208849              2.257889  ...   \n",
              "3              0.883763              16.532835              2.146849  ...   \n",
              "4              0.792826              16.525686              2.055292  ...   \n",
              "\n",
              "   secondary_cleaner.state.floatbank4_a_air  \\\n",
              "0                                 14.016835   \n",
              "1                                 13.992281   \n",
              "2                                 14.015015   \n",
              "3                                 14.036510   \n",
              "4                                 14.027298   \n",
              "\n",
              "   secondary_cleaner.state.floatbank4_a_level  \\\n",
              "0                                 -502.488007   \n",
              "1                                 -505.503262   \n",
              "2                                 -502.520901   \n",
              "3                                 -500.857308   \n",
              "4                                 -499.838632   \n",
              "\n",
              "   secondary_cleaner.state.floatbank4_b_air  \\\n",
              "0                                 12.099931   \n",
              "1                                 11.950531   \n",
              "2                                 11.912783   \n",
              "3                                 11.999550   \n",
              "4                                 11.953070   \n",
              "\n",
              "   secondary_cleaner.state.floatbank4_b_level  \\\n",
              "0                                 -504.715942   \n",
              "1                                 -501.331529   \n",
              "2                                 -501.133383   \n",
              "3                                 -501.193686   \n",
              "4                                 -501.053894   \n",
              "\n",
              "   secondary_cleaner.state.floatbank5_a_air  \\\n",
              "0                                  9.925633   \n",
              "1                                 10.039245   \n",
              "2                                 10.070913   \n",
              "3                                  9.970366   \n",
              "4                                  9.925709   \n",
              "\n",
              "   secondary_cleaner.state.floatbank5_a_level  \\\n",
              "0                                 -498.310211   \n",
              "1                                 -500.169983   \n",
              "2                                 -500.129135   \n",
              "3                                 -499.201640   \n",
              "4                                 -501.686727   \n",
              "\n",
              "   secondary_cleaner.state.floatbank5_b_air  \\\n",
              "0                                  8.079666   \n",
              "1                                  7.984757   \n",
              "2                                  8.013877   \n",
              "3                                  7.977324   \n",
              "4                                  7.894242   \n",
              "\n",
              "   secondary_cleaner.state.floatbank5_b_level  \\\n",
              "0                                 -500.470978   \n",
              "1                                 -500.582168   \n",
              "2                                 -500.517572   \n",
              "3                                 -500.255908   \n",
              "4                                 -500.356035   \n",
              "\n",
              "   secondary_cleaner.state.floatbank6_a_air  \\\n",
              "0                                 14.151341   \n",
              "1                                 13.998353   \n",
              "2                                 14.028663   \n",
              "3                                 14.005551   \n",
              "4                                 13.996647   \n",
              "\n",
              "   secondary_cleaner.state.floatbank6_a_level  \n",
              "0                                 -605.841980  \n",
              "1                                 -599.787184  \n",
              "2                                 -601.427363  \n",
              "3                                 -599.996129  \n",
              "4                                 -601.496691  \n",
              "\n",
              "[5 rows x 87 columns]"
            ]
          },
          "execution_count": 3,
          "metadata": {},
          "output_type": "execute_result"
        }
      ],
      "source": [
        "df_train.head()"
      ]
    },
    {
      "cell_type": "code",
      "execution_count": null,
      "metadata": {
        "id": "0XozK9bo8StS",
        "outputId": "4bde649a-1d68-47a6-9fa0-18bea0a4cd43"
      },
      "outputs": [
        {
          "data": {
            "text/html": [
              "<div>\n",
              "<style scoped>\n",
              "    .dataframe tbody tr th:only-of-type {\n",
              "        vertical-align: middle;\n",
              "    }\n",
              "\n",
              "    .dataframe tbody tr th {\n",
              "        vertical-align: top;\n",
              "    }\n",
              "\n",
              "    .dataframe thead th {\n",
              "        text-align: right;\n",
              "    }\n",
              "</style>\n",
              "<table border=\"1\" class=\"dataframe\">\n",
              "  <thead>\n",
              "    <tr style=\"text-align: right;\">\n",
              "      <th></th>\n",
              "      <th>date</th>\n",
              "      <th>primary_cleaner.input.sulfate</th>\n",
              "      <th>primary_cleaner.input.depressant</th>\n",
              "      <th>primary_cleaner.input.feed_size</th>\n",
              "      <th>primary_cleaner.input.xanthate</th>\n",
              "      <th>primary_cleaner.state.floatbank8_a_air</th>\n",
              "      <th>primary_cleaner.state.floatbank8_a_level</th>\n",
              "      <th>primary_cleaner.state.floatbank8_b_air</th>\n",
              "      <th>primary_cleaner.state.floatbank8_b_level</th>\n",
              "      <th>primary_cleaner.state.floatbank8_c_air</th>\n",
              "      <th>...</th>\n",
              "      <th>secondary_cleaner.state.floatbank4_a_air</th>\n",
              "      <th>secondary_cleaner.state.floatbank4_a_level</th>\n",
              "      <th>secondary_cleaner.state.floatbank4_b_air</th>\n",
              "      <th>secondary_cleaner.state.floatbank4_b_level</th>\n",
              "      <th>secondary_cleaner.state.floatbank5_a_air</th>\n",
              "      <th>secondary_cleaner.state.floatbank5_a_level</th>\n",
              "      <th>secondary_cleaner.state.floatbank5_b_air</th>\n",
              "      <th>secondary_cleaner.state.floatbank5_b_level</th>\n",
              "      <th>secondary_cleaner.state.floatbank6_a_air</th>\n",
              "      <th>secondary_cleaner.state.floatbank6_a_level</th>\n",
              "    </tr>\n",
              "  </thead>\n",
              "  <tbody>\n",
              "    <tr>\n",
              "      <th>0</th>\n",
              "      <td>2016-09-01 00:59:59</td>\n",
              "      <td>210.800909</td>\n",
              "      <td>14.993118</td>\n",
              "      <td>8.080000</td>\n",
              "      <td>1.005021</td>\n",
              "      <td>1398.981301</td>\n",
              "      <td>-500.225577</td>\n",
              "      <td>1399.144926</td>\n",
              "      <td>-499.919735</td>\n",
              "      <td>1400.102998</td>\n",
              "      <td>...</td>\n",
              "      <td>12.023554</td>\n",
              "      <td>-497.795834</td>\n",
              "      <td>8.016656</td>\n",
              "      <td>-501.289139</td>\n",
              "      <td>7.946562</td>\n",
              "      <td>-432.317850</td>\n",
              "      <td>4.872511</td>\n",
              "      <td>-500.037437</td>\n",
              "      <td>26.705889</td>\n",
              "      <td>-499.709414</td>\n",
              "    </tr>\n",
              "    <tr>\n",
              "      <th>1</th>\n",
              "      <td>2016-09-01 01:59:59</td>\n",
              "      <td>215.392455</td>\n",
              "      <td>14.987471</td>\n",
              "      <td>8.080000</td>\n",
              "      <td>0.990469</td>\n",
              "      <td>1398.777912</td>\n",
              "      <td>-500.057435</td>\n",
              "      <td>1398.055362</td>\n",
              "      <td>-499.778182</td>\n",
              "      <td>1396.151033</td>\n",
              "      <td>...</td>\n",
              "      <td>12.058140</td>\n",
              "      <td>-498.695773</td>\n",
              "      <td>8.130979</td>\n",
              "      <td>-499.634209</td>\n",
              "      <td>7.958270</td>\n",
              "      <td>-525.839648</td>\n",
              "      <td>4.878850</td>\n",
              "      <td>-500.162375</td>\n",
              "      <td>25.019940</td>\n",
              "      <td>-499.819438</td>\n",
              "    </tr>\n",
              "    <tr>\n",
              "      <th>2</th>\n",
              "      <td>2016-09-01 02:59:59</td>\n",
              "      <td>215.259946</td>\n",
              "      <td>12.884934</td>\n",
              "      <td>7.786667</td>\n",
              "      <td>0.996043</td>\n",
              "      <td>1398.493666</td>\n",
              "      <td>-500.868360</td>\n",
              "      <td>1398.860436</td>\n",
              "      <td>-499.764529</td>\n",
              "      <td>1398.075709</td>\n",
              "      <td>...</td>\n",
              "      <td>11.962366</td>\n",
              "      <td>-498.767484</td>\n",
              "      <td>8.096893</td>\n",
              "      <td>-500.827423</td>\n",
              "      <td>8.071056</td>\n",
              "      <td>-500.801673</td>\n",
              "      <td>4.905125</td>\n",
              "      <td>-499.828510</td>\n",
              "      <td>24.994862</td>\n",
              "      <td>-500.622559</td>\n",
              "    </tr>\n",
              "    <tr>\n",
              "      <th>3</th>\n",
              "      <td>2016-09-01 03:59:59</td>\n",
              "      <td>215.336236</td>\n",
              "      <td>12.006805</td>\n",
              "      <td>7.640000</td>\n",
              "      <td>0.863514</td>\n",
              "      <td>1399.618111</td>\n",
              "      <td>-498.863574</td>\n",
              "      <td>1397.440120</td>\n",
              "      <td>-499.211024</td>\n",
              "      <td>1400.129303</td>\n",
              "      <td>...</td>\n",
              "      <td>12.033091</td>\n",
              "      <td>-498.350935</td>\n",
              "      <td>8.074946</td>\n",
              "      <td>-499.474407</td>\n",
              "      <td>7.897085</td>\n",
              "      <td>-500.868509</td>\n",
              "      <td>4.931400</td>\n",
              "      <td>-499.963623</td>\n",
              "      <td>24.948919</td>\n",
              "      <td>-498.709987</td>\n",
              "    </tr>\n",
              "    <tr>\n",
              "      <th>4</th>\n",
              "      <td>2016-09-01 04:59:59</td>\n",
              "      <td>199.099327</td>\n",
              "      <td>10.682530</td>\n",
              "      <td>7.530000</td>\n",
              "      <td>0.805575</td>\n",
              "      <td>1401.268123</td>\n",
              "      <td>-500.808305</td>\n",
              "      <td>1398.128818</td>\n",
              "      <td>-499.504543</td>\n",
              "      <td>1402.172226</td>\n",
              "      <td>...</td>\n",
              "      <td>12.025367</td>\n",
              "      <td>-500.786497</td>\n",
              "      <td>8.054678</td>\n",
              "      <td>-500.397500</td>\n",
              "      <td>8.107890</td>\n",
              "      <td>-509.526725</td>\n",
              "      <td>4.957674</td>\n",
              "      <td>-500.360026</td>\n",
              "      <td>25.003331</td>\n",
              "      <td>-500.856333</td>\n",
              "    </tr>\n",
              "  </tbody>\n",
              "</table>\n",
              "<p>5 rows × 53 columns</p>\n",
              "</div>"
            ],
            "text/plain": [
              "                  date  primary_cleaner.input.sulfate  \\\n",
              "0  2016-09-01 00:59:59                     210.800909   \n",
              "1  2016-09-01 01:59:59                     215.392455   \n",
              "2  2016-09-01 02:59:59                     215.259946   \n",
              "3  2016-09-01 03:59:59                     215.336236   \n",
              "4  2016-09-01 04:59:59                     199.099327   \n",
              "\n",
              "   primary_cleaner.input.depressant  primary_cleaner.input.feed_size  \\\n",
              "0                         14.993118                         8.080000   \n",
              "1                         14.987471                         8.080000   \n",
              "2                         12.884934                         7.786667   \n",
              "3                         12.006805                         7.640000   \n",
              "4                         10.682530                         7.530000   \n",
              "\n",
              "   primary_cleaner.input.xanthate  primary_cleaner.state.floatbank8_a_air  \\\n",
              "0                        1.005021                             1398.981301   \n",
              "1                        0.990469                             1398.777912   \n",
              "2                        0.996043                             1398.493666   \n",
              "3                        0.863514                             1399.618111   \n",
              "4                        0.805575                             1401.268123   \n",
              "\n",
              "   primary_cleaner.state.floatbank8_a_level  \\\n",
              "0                               -500.225577   \n",
              "1                               -500.057435   \n",
              "2                               -500.868360   \n",
              "3                               -498.863574   \n",
              "4                               -500.808305   \n",
              "\n",
              "   primary_cleaner.state.floatbank8_b_air  \\\n",
              "0                             1399.144926   \n",
              "1                             1398.055362   \n",
              "2                             1398.860436   \n",
              "3                             1397.440120   \n",
              "4                             1398.128818   \n",
              "\n",
              "   primary_cleaner.state.floatbank8_b_level  \\\n",
              "0                               -499.919735   \n",
              "1                               -499.778182   \n",
              "2                               -499.764529   \n",
              "3                               -499.211024   \n",
              "4                               -499.504543   \n",
              "\n",
              "   primary_cleaner.state.floatbank8_c_air  ...  \\\n",
              "0                             1400.102998  ...   \n",
              "1                             1396.151033  ...   \n",
              "2                             1398.075709  ...   \n",
              "3                             1400.129303  ...   \n",
              "4                             1402.172226  ...   \n",
              "\n",
              "   secondary_cleaner.state.floatbank4_a_air  \\\n",
              "0                                 12.023554   \n",
              "1                                 12.058140   \n",
              "2                                 11.962366   \n",
              "3                                 12.033091   \n",
              "4                                 12.025367   \n",
              "\n",
              "   secondary_cleaner.state.floatbank4_a_level  \\\n",
              "0                                 -497.795834   \n",
              "1                                 -498.695773   \n",
              "2                                 -498.767484   \n",
              "3                                 -498.350935   \n",
              "4                                 -500.786497   \n",
              "\n",
              "   secondary_cleaner.state.floatbank4_b_air  \\\n",
              "0                                  8.016656   \n",
              "1                                  8.130979   \n",
              "2                                  8.096893   \n",
              "3                                  8.074946   \n",
              "4                                  8.054678   \n",
              "\n",
              "   secondary_cleaner.state.floatbank4_b_level  \\\n",
              "0                                 -501.289139   \n",
              "1                                 -499.634209   \n",
              "2                                 -500.827423   \n",
              "3                                 -499.474407   \n",
              "4                                 -500.397500   \n",
              "\n",
              "   secondary_cleaner.state.floatbank5_a_air  \\\n",
              "0                                  7.946562   \n",
              "1                                  7.958270   \n",
              "2                                  8.071056   \n",
              "3                                  7.897085   \n",
              "4                                  8.107890   \n",
              "\n",
              "   secondary_cleaner.state.floatbank5_a_level  \\\n",
              "0                                 -432.317850   \n",
              "1                                 -525.839648   \n",
              "2                                 -500.801673   \n",
              "3                                 -500.868509   \n",
              "4                                 -509.526725   \n",
              "\n",
              "   secondary_cleaner.state.floatbank5_b_air  \\\n",
              "0                                  4.872511   \n",
              "1                                  4.878850   \n",
              "2                                  4.905125   \n",
              "3                                  4.931400   \n",
              "4                                  4.957674   \n",
              "\n",
              "   secondary_cleaner.state.floatbank5_b_level  \\\n",
              "0                                 -500.037437   \n",
              "1                                 -500.162375   \n",
              "2                                 -499.828510   \n",
              "3                                 -499.963623   \n",
              "4                                 -500.360026   \n",
              "\n",
              "   secondary_cleaner.state.floatbank6_a_air  \\\n",
              "0                                 26.705889   \n",
              "1                                 25.019940   \n",
              "2                                 24.994862   \n",
              "3                                 24.948919   \n",
              "4                                 25.003331   \n",
              "\n",
              "   secondary_cleaner.state.floatbank6_a_level  \n",
              "0                                 -499.709414  \n",
              "1                                 -499.819438  \n",
              "2                                 -500.622559  \n",
              "3                                 -498.709987  \n",
              "4                                 -500.856333  \n",
              "\n",
              "[5 rows x 53 columns]"
            ]
          },
          "execution_count": 4,
          "metadata": {},
          "output_type": "execute_result"
        }
      ],
      "source": [
        "df_test.head()"
      ]
    },
    {
      "cell_type": "code",
      "execution_count": null,
      "metadata": {
        "id": "3jvFy0f18StT",
        "outputId": "ac7a1f08-d39e-4230-f6fc-bc29e22e7bd4"
      },
      "outputs": [
        {
          "data": {
            "text/html": [
              "<div>\n",
              "<style scoped>\n",
              "    .dataframe tbody tr th:only-of-type {\n",
              "        vertical-align: middle;\n",
              "    }\n",
              "\n",
              "    .dataframe tbody tr th {\n",
              "        vertical-align: top;\n",
              "    }\n",
              "\n",
              "    .dataframe thead th {\n",
              "        text-align: right;\n",
              "    }\n",
              "</style>\n",
              "<table border=\"1\" class=\"dataframe\">\n",
              "  <thead>\n",
              "    <tr style=\"text-align: right;\">\n",
              "      <th></th>\n",
              "      <th>date</th>\n",
              "      <th>final.output.concentrate_ag</th>\n",
              "      <th>final.output.concentrate_pb</th>\n",
              "      <th>final.output.concentrate_sol</th>\n",
              "      <th>final.output.concentrate_au</th>\n",
              "      <th>final.output.recovery</th>\n",
              "      <th>final.output.tail_ag</th>\n",
              "      <th>final.output.tail_pb</th>\n",
              "      <th>final.output.tail_sol</th>\n",
              "      <th>final.output.tail_au</th>\n",
              "      <th>...</th>\n",
              "      <th>secondary_cleaner.state.floatbank4_a_air</th>\n",
              "      <th>secondary_cleaner.state.floatbank4_a_level</th>\n",
              "      <th>secondary_cleaner.state.floatbank4_b_air</th>\n",
              "      <th>secondary_cleaner.state.floatbank4_b_level</th>\n",
              "      <th>secondary_cleaner.state.floatbank5_a_air</th>\n",
              "      <th>secondary_cleaner.state.floatbank5_a_level</th>\n",
              "      <th>secondary_cleaner.state.floatbank5_b_air</th>\n",
              "      <th>secondary_cleaner.state.floatbank5_b_level</th>\n",
              "      <th>secondary_cleaner.state.floatbank6_a_air</th>\n",
              "      <th>secondary_cleaner.state.floatbank6_a_level</th>\n",
              "    </tr>\n",
              "  </thead>\n",
              "  <tbody>\n",
              "    <tr>\n",
              "      <th>0</th>\n",
              "      <td>2016-01-15 00:00:00</td>\n",
              "      <td>6.055403</td>\n",
              "      <td>9.889648</td>\n",
              "      <td>5.507324</td>\n",
              "      <td>42.192020</td>\n",
              "      <td>70.541216</td>\n",
              "      <td>10.411962</td>\n",
              "      <td>0.895447</td>\n",
              "      <td>16.904297</td>\n",
              "      <td>2.143149</td>\n",
              "      <td>...</td>\n",
              "      <td>14.016835</td>\n",
              "      <td>-502.488007</td>\n",
              "      <td>12.099931</td>\n",
              "      <td>-504.715942</td>\n",
              "      <td>9.925633</td>\n",
              "      <td>-498.310211</td>\n",
              "      <td>8.079666</td>\n",
              "      <td>-500.470978</td>\n",
              "      <td>14.151341</td>\n",
              "      <td>-605.841980</td>\n",
              "    </tr>\n",
              "    <tr>\n",
              "      <th>1</th>\n",
              "      <td>2016-01-15 01:00:00</td>\n",
              "      <td>6.029369</td>\n",
              "      <td>9.968944</td>\n",
              "      <td>5.257781</td>\n",
              "      <td>42.701629</td>\n",
              "      <td>69.266198</td>\n",
              "      <td>10.462676</td>\n",
              "      <td>0.927452</td>\n",
              "      <td>16.634514</td>\n",
              "      <td>2.224930</td>\n",
              "      <td>...</td>\n",
              "      <td>13.992281</td>\n",
              "      <td>-505.503262</td>\n",
              "      <td>11.950531</td>\n",
              "      <td>-501.331529</td>\n",
              "      <td>10.039245</td>\n",
              "      <td>-500.169983</td>\n",
              "      <td>7.984757</td>\n",
              "      <td>-500.582168</td>\n",
              "      <td>13.998353</td>\n",
              "      <td>-599.787184</td>\n",
              "    </tr>\n",
              "    <tr>\n",
              "      <th>2</th>\n",
              "      <td>2016-01-15 02:00:00</td>\n",
              "      <td>6.055926</td>\n",
              "      <td>10.213995</td>\n",
              "      <td>5.383759</td>\n",
              "      <td>42.657501</td>\n",
              "      <td>68.116445</td>\n",
              "      <td>10.507046</td>\n",
              "      <td>0.953716</td>\n",
              "      <td>16.208849</td>\n",
              "      <td>2.257889</td>\n",
              "      <td>...</td>\n",
              "      <td>14.015015</td>\n",
              "      <td>-502.520901</td>\n",
              "      <td>11.912783</td>\n",
              "      <td>-501.133383</td>\n",
              "      <td>10.070913</td>\n",
              "      <td>-500.129135</td>\n",
              "      <td>8.013877</td>\n",
              "      <td>-500.517572</td>\n",
              "      <td>14.028663</td>\n",
              "      <td>-601.427363</td>\n",
              "    </tr>\n",
              "    <tr>\n",
              "      <th>3</th>\n",
              "      <td>2016-01-15 03:00:00</td>\n",
              "      <td>6.047977</td>\n",
              "      <td>9.977019</td>\n",
              "      <td>4.858634</td>\n",
              "      <td>42.689819</td>\n",
              "      <td>68.347543</td>\n",
              "      <td>10.422762</td>\n",
              "      <td>0.883763</td>\n",
              "      <td>16.532835</td>\n",
              "      <td>2.146849</td>\n",
              "      <td>...</td>\n",
              "      <td>14.036510</td>\n",
              "      <td>-500.857308</td>\n",
              "      <td>11.999550</td>\n",
              "      <td>-501.193686</td>\n",
              "      <td>9.970366</td>\n",
              "      <td>-499.201640</td>\n",
              "      <td>7.977324</td>\n",
              "      <td>-500.255908</td>\n",
              "      <td>14.005551</td>\n",
              "      <td>-599.996129</td>\n",
              "    </tr>\n",
              "    <tr>\n",
              "      <th>4</th>\n",
              "      <td>2016-01-15 04:00:00</td>\n",
              "      <td>6.148599</td>\n",
              "      <td>10.142511</td>\n",
              "      <td>4.939416</td>\n",
              "      <td>42.774141</td>\n",
              "      <td>66.927016</td>\n",
              "      <td>10.360302</td>\n",
              "      <td>0.792826</td>\n",
              "      <td>16.525686</td>\n",
              "      <td>2.055292</td>\n",
              "      <td>...</td>\n",
              "      <td>14.027298</td>\n",
              "      <td>-499.838632</td>\n",
              "      <td>11.953070</td>\n",
              "      <td>-501.053894</td>\n",
              "      <td>9.925709</td>\n",
              "      <td>-501.686727</td>\n",
              "      <td>7.894242</td>\n",
              "      <td>-500.356035</td>\n",
              "      <td>13.996647</td>\n",
              "      <td>-601.496691</td>\n",
              "    </tr>\n",
              "  </tbody>\n",
              "</table>\n",
              "<p>5 rows × 87 columns</p>\n",
              "</div>"
            ],
            "text/plain": [
              "                  date  final.output.concentrate_ag  \\\n",
              "0  2016-01-15 00:00:00                     6.055403   \n",
              "1  2016-01-15 01:00:00                     6.029369   \n",
              "2  2016-01-15 02:00:00                     6.055926   \n",
              "3  2016-01-15 03:00:00                     6.047977   \n",
              "4  2016-01-15 04:00:00                     6.148599   \n",
              "\n",
              "   final.output.concentrate_pb  final.output.concentrate_sol  \\\n",
              "0                     9.889648                      5.507324   \n",
              "1                     9.968944                      5.257781   \n",
              "2                    10.213995                      5.383759   \n",
              "3                     9.977019                      4.858634   \n",
              "4                    10.142511                      4.939416   \n",
              "\n",
              "   final.output.concentrate_au  final.output.recovery  final.output.tail_ag  \\\n",
              "0                    42.192020              70.541216             10.411962   \n",
              "1                    42.701629              69.266198             10.462676   \n",
              "2                    42.657501              68.116445             10.507046   \n",
              "3                    42.689819              68.347543             10.422762   \n",
              "4                    42.774141              66.927016             10.360302   \n",
              "\n",
              "   final.output.tail_pb  final.output.tail_sol  final.output.tail_au  ...  \\\n",
              "0              0.895447              16.904297              2.143149  ...   \n",
              "1              0.927452              16.634514              2.224930  ...   \n",
              "2              0.953716              16.208849              2.257889  ...   \n",
              "3              0.883763              16.532835              2.146849  ...   \n",
              "4              0.792826              16.525686              2.055292  ...   \n",
              "\n",
              "   secondary_cleaner.state.floatbank4_a_air  \\\n",
              "0                                 14.016835   \n",
              "1                                 13.992281   \n",
              "2                                 14.015015   \n",
              "3                                 14.036510   \n",
              "4                                 14.027298   \n",
              "\n",
              "   secondary_cleaner.state.floatbank4_a_level  \\\n",
              "0                                 -502.488007   \n",
              "1                                 -505.503262   \n",
              "2                                 -502.520901   \n",
              "3                                 -500.857308   \n",
              "4                                 -499.838632   \n",
              "\n",
              "   secondary_cleaner.state.floatbank4_b_air  \\\n",
              "0                                 12.099931   \n",
              "1                                 11.950531   \n",
              "2                                 11.912783   \n",
              "3                                 11.999550   \n",
              "4                                 11.953070   \n",
              "\n",
              "   secondary_cleaner.state.floatbank4_b_level  \\\n",
              "0                                 -504.715942   \n",
              "1                                 -501.331529   \n",
              "2                                 -501.133383   \n",
              "3                                 -501.193686   \n",
              "4                                 -501.053894   \n",
              "\n",
              "   secondary_cleaner.state.floatbank5_a_air  \\\n",
              "0                                  9.925633   \n",
              "1                                 10.039245   \n",
              "2                                 10.070913   \n",
              "3                                  9.970366   \n",
              "4                                  9.925709   \n",
              "\n",
              "   secondary_cleaner.state.floatbank5_a_level  \\\n",
              "0                                 -498.310211   \n",
              "1                                 -500.169983   \n",
              "2                                 -500.129135   \n",
              "3                                 -499.201640   \n",
              "4                                 -501.686727   \n",
              "\n",
              "   secondary_cleaner.state.floatbank5_b_air  \\\n",
              "0                                  8.079666   \n",
              "1                                  7.984757   \n",
              "2                                  8.013877   \n",
              "3                                  7.977324   \n",
              "4                                  7.894242   \n",
              "\n",
              "   secondary_cleaner.state.floatbank5_b_level  \\\n",
              "0                                 -500.470978   \n",
              "1                                 -500.582168   \n",
              "2                                 -500.517572   \n",
              "3                                 -500.255908   \n",
              "4                                 -500.356035   \n",
              "\n",
              "   secondary_cleaner.state.floatbank6_a_air  \\\n",
              "0                                 14.151341   \n",
              "1                                 13.998353   \n",
              "2                                 14.028663   \n",
              "3                                 14.005551   \n",
              "4                                 13.996647   \n",
              "\n",
              "   secondary_cleaner.state.floatbank6_a_level  \n",
              "0                                 -605.841980  \n",
              "1                                 -599.787184  \n",
              "2                                 -601.427363  \n",
              "3                                 -599.996129  \n",
              "4                                 -601.496691  \n",
              "\n",
              "[5 rows x 87 columns]"
            ]
          },
          "execution_count": 5,
          "metadata": {},
          "output_type": "execute_result"
        }
      ],
      "source": [
        "df_full.head()"
      ]
    },
    {
      "cell_type": "code",
      "execution_count": null,
      "metadata": {
        "id": "bZp5-trX8StT",
        "outputId": "0c42682c-30ee-483c-804d-eab2ab7205c7"
      },
      "outputs": [
        {
          "name": "stdout",
          "output_type": "stream",
          "text": [
            "<class 'pandas.core.frame.DataFrame'>\n",
            "RangeIndex: 14149 entries, 0 to 14148\n",
            "Data columns (total 87 columns):\n",
            " #   Column                                              Non-Null Count  Dtype  \n",
            "---  ------                                              --------------  -----  \n",
            " 0   date                                                14149 non-null  object \n",
            " 1   final.output.concentrate_ag                         14148 non-null  float64\n",
            " 2   final.output.concentrate_pb                         14148 non-null  float64\n",
            " 3   final.output.concentrate_sol                        13938 non-null  float64\n",
            " 4   final.output.concentrate_au                         14149 non-null  float64\n",
            " 5   final.output.recovery                               14149 non-null  float64\n",
            " 6   final.output.tail_ag                                14149 non-null  float64\n",
            " 7   final.output.tail_pb                                14049 non-null  float64\n",
            " 8   final.output.tail_sol                               14144 non-null  float64\n",
            " 9   final.output.tail_au                                14149 non-null  float64\n",
            " 10  primary_cleaner.input.sulfate                       14129 non-null  float64\n",
            " 11  primary_cleaner.input.depressant                    14117 non-null  float64\n",
            " 12  primary_cleaner.input.feed_size                     14149 non-null  float64\n",
            " 13  primary_cleaner.input.xanthate                      14049 non-null  float64\n",
            " 14  primary_cleaner.output.concentrate_ag               14149 non-null  float64\n",
            " 15  primary_cleaner.output.concentrate_pb               14063 non-null  float64\n",
            " 16  primary_cleaner.output.concentrate_sol              13863 non-null  float64\n",
            " 17  primary_cleaner.output.concentrate_au               14149 non-null  float64\n",
            " 18  primary_cleaner.output.tail_ag                      14148 non-null  float64\n",
            " 19  primary_cleaner.output.tail_pb                      14134 non-null  float64\n",
            " 20  primary_cleaner.output.tail_sol                     14103 non-null  float64\n",
            " 21  primary_cleaner.output.tail_au                      14149 non-null  float64\n",
            " 22  primary_cleaner.state.floatbank8_a_air              14145 non-null  float64\n",
            " 23  primary_cleaner.state.floatbank8_a_level            14148 non-null  float64\n",
            " 24  primary_cleaner.state.floatbank8_b_air              14145 non-null  float64\n",
            " 25  primary_cleaner.state.floatbank8_b_level            14148 non-null  float64\n",
            " 26  primary_cleaner.state.floatbank8_c_air              14147 non-null  float64\n",
            " 27  primary_cleaner.state.floatbank8_c_level            14148 non-null  float64\n",
            " 28  primary_cleaner.state.floatbank8_d_air              14146 non-null  float64\n",
            " 29  primary_cleaner.state.floatbank8_d_level            14148 non-null  float64\n",
            " 30  rougher.calculation.sulfate_to_au_concentrate       14148 non-null  float64\n",
            " 31  rougher.calculation.floatbank10_sulfate_to_au_feed  14148 non-null  float64\n",
            " 32  rougher.calculation.floatbank11_sulfate_to_au_feed  14148 non-null  float64\n",
            " 33  rougher.calculation.au_pb_ratio                     14149 non-null  float64\n",
            " 34  rougher.input.feed_ag                               14149 non-null  float64\n",
            " 35  rougher.input.feed_pb                               14049 non-null  float64\n",
            " 36  rougher.input.feed_rate                             14141 non-null  float64\n",
            " 37  rougher.input.feed_size                             14005 non-null  float64\n",
            " 38  rougher.input.feed_sol                              14071 non-null  float64\n",
            " 39  rougher.input.feed_au                               14149 non-null  float64\n",
            " 40  rougher.input.floatbank10_sulfate                   14120 non-null  float64\n",
            " 41  rougher.input.floatbank10_xanthate                  14141 non-null  float64\n",
            " 42  rougher.input.floatbank11_sulfate                   14113 non-null  float64\n",
            " 43  rougher.input.floatbank11_xanthate                  13721 non-null  float64\n",
            " 44  rougher.output.concentrate_ag                       14149 non-null  float64\n",
            " 45  rougher.output.concentrate_pb                       14149 non-null  float64\n",
            " 46  rougher.output.concentrate_sol                      14127 non-null  float64\n",
            " 47  rougher.output.concentrate_au                       14149 non-null  float64\n",
            " 48  rougher.output.recovery                             14149 non-null  float64\n",
            " 49  rougher.output.tail_ag                              14148 non-null  float64\n",
            " 50  rougher.output.tail_pb                              14149 non-null  float64\n",
            " 51  rougher.output.tail_sol                             14149 non-null  float64\n",
            " 52  rougher.output.tail_au                              14149 non-null  float64\n",
            " 53  rougher.state.floatbank10_a_air                     14148 non-null  float64\n",
            " 54  rougher.state.floatbank10_a_level                   14148 non-null  float64\n",
            " 55  rougher.state.floatbank10_b_air                     14148 non-null  float64\n",
            " 56  rougher.state.floatbank10_b_level                   14148 non-null  float64\n",
            " 57  rougher.state.floatbank10_c_air                     14148 non-null  float64\n",
            " 58  rougher.state.floatbank10_c_level                   14148 non-null  float64\n",
            " 59  rougher.state.floatbank10_d_air                     14149 non-null  float64\n",
            " 60  rougher.state.floatbank10_d_level                   14149 non-null  float64\n",
            " 61  rougher.state.floatbank10_e_air                     13713 non-null  float64\n",
            " 62  rougher.state.floatbank10_e_level                   14149 non-null  float64\n",
            " 63  rougher.state.floatbank10_f_air                     14149 non-null  float64\n",
            " 64  rougher.state.floatbank10_f_level                   14149 non-null  float64\n",
            " 65  secondary_cleaner.output.tail_ag                    14147 non-null  float64\n",
            " 66  secondary_cleaner.output.tail_pb                    14139 non-null  float64\n",
            " 67  secondary_cleaner.output.tail_sol                   12544 non-null  float64\n",
            " 68  secondary_cleaner.output.tail_au                    14149 non-null  float64\n",
            " 69  secondary_cleaner.state.floatbank2_a_air            13932 non-null  float64\n",
            " 70  secondary_cleaner.state.floatbank2_a_level          14148 non-null  float64\n",
            " 71  secondary_cleaner.state.floatbank2_b_air            14128 non-null  float64\n",
            " 72  secondary_cleaner.state.floatbank2_b_level          14148 non-null  float64\n",
            " 73  secondary_cleaner.state.floatbank3_a_air            14145 non-null  float64\n",
            " 74  secondary_cleaner.state.floatbank3_a_level          14148 non-null  float64\n",
            " 75  secondary_cleaner.state.floatbank3_b_air            14148 non-null  float64\n",
            " 76  secondary_cleaner.state.floatbank3_b_level          14148 non-null  float64\n",
            " 77  secondary_cleaner.state.floatbank4_a_air            14143 non-null  float64\n",
            " 78  secondary_cleaner.state.floatbank4_a_level          14148 non-null  float64\n",
            " 79  secondary_cleaner.state.floatbank4_b_air            14148 non-null  float64\n",
            " 80  secondary_cleaner.state.floatbank4_b_level          14148 non-null  float64\n",
            " 81  secondary_cleaner.state.floatbank5_a_air            14148 non-null  float64\n",
            " 82  secondary_cleaner.state.floatbank5_a_level          14148 non-null  float64\n",
            " 83  secondary_cleaner.state.floatbank5_b_air            14148 non-null  float64\n",
            " 84  secondary_cleaner.state.floatbank5_b_level          14148 non-null  float64\n",
            " 85  secondary_cleaner.state.floatbank6_a_air            14147 non-null  float64\n",
            " 86  secondary_cleaner.state.floatbank6_a_level          14148 non-null  float64\n",
            "dtypes: float64(86), object(1)\n",
            "memory usage: 9.4+ MB\n"
          ]
        }
      ],
      "source": [
        "df_train.info()"
      ]
    },
    {
      "cell_type": "code",
      "execution_count": null,
      "metadata": {
        "id": "ql1YufJO8StT",
        "outputId": "379b5a27-c7a4-4349-ca9f-3137c0fb8ab0"
      },
      "outputs": [
        {
          "data": {
            "text/plain": [
              "date                                           object\n",
              "final.output.concentrate_ag                   float64\n",
              "final.output.concentrate_pb                   float64\n",
              "final.output.concentrate_sol                  float64\n",
              "final.output.concentrate_au                   float64\n",
              "                                               ...   \n",
              "secondary_cleaner.state.floatbank5_a_level    float64\n",
              "secondary_cleaner.state.floatbank5_b_air      float64\n",
              "secondary_cleaner.state.floatbank5_b_level    float64\n",
              "secondary_cleaner.state.floatbank6_a_air      float64\n",
              "secondary_cleaner.state.floatbank6_a_level    float64\n",
              "Length: 87, dtype: object"
            ]
          },
          "execution_count": 7,
          "metadata": {},
          "output_type": "execute_result"
        }
      ],
      "source": [
        "df_train.dtypes"
      ]
    },
    {
      "cell_type": "code",
      "execution_count": null,
      "metadata": {
        "id": "JGUmfGo68StT",
        "outputId": "22462c65-1dba-4f36-90e1-81534bf74129"
      },
      "outputs": [
        {
          "data": {
            "text/plain": [
              "date                                           object\n",
              "primary_cleaner.input.sulfate                 float64\n",
              "primary_cleaner.input.depressant              float64\n",
              "primary_cleaner.input.feed_size               float64\n",
              "primary_cleaner.input.xanthate                float64\n",
              "primary_cleaner.state.floatbank8_a_air        float64\n",
              "primary_cleaner.state.floatbank8_a_level      float64\n",
              "primary_cleaner.state.floatbank8_b_air        float64\n",
              "primary_cleaner.state.floatbank8_b_level      float64\n",
              "primary_cleaner.state.floatbank8_c_air        float64\n",
              "primary_cleaner.state.floatbank8_c_level      float64\n",
              "primary_cleaner.state.floatbank8_d_air        float64\n",
              "primary_cleaner.state.floatbank8_d_level      float64\n",
              "rougher.input.feed_ag                         float64\n",
              "rougher.input.feed_pb                         float64\n",
              "rougher.input.feed_rate                       float64\n",
              "rougher.input.feed_size                       float64\n",
              "rougher.input.feed_sol                        float64\n",
              "rougher.input.feed_au                         float64\n",
              "rougher.input.floatbank10_sulfate             float64\n",
              "rougher.input.floatbank10_xanthate            float64\n",
              "rougher.input.floatbank11_sulfate             float64\n",
              "rougher.input.floatbank11_xanthate            float64\n",
              "rougher.state.floatbank10_a_air               float64\n",
              "rougher.state.floatbank10_a_level             float64\n",
              "rougher.state.floatbank10_b_air               float64\n",
              "rougher.state.floatbank10_b_level             float64\n",
              "rougher.state.floatbank10_c_air               float64\n",
              "rougher.state.floatbank10_c_level             float64\n",
              "rougher.state.floatbank10_d_air               float64\n",
              "rougher.state.floatbank10_d_level             float64\n",
              "rougher.state.floatbank10_e_air               float64\n",
              "rougher.state.floatbank10_e_level             float64\n",
              "rougher.state.floatbank10_f_air               float64\n",
              "rougher.state.floatbank10_f_level             float64\n",
              "secondary_cleaner.state.floatbank2_a_air      float64\n",
              "secondary_cleaner.state.floatbank2_a_level    float64\n",
              "secondary_cleaner.state.floatbank2_b_air      float64\n",
              "secondary_cleaner.state.floatbank2_b_level    float64\n",
              "secondary_cleaner.state.floatbank3_a_air      float64\n",
              "secondary_cleaner.state.floatbank3_a_level    float64\n",
              "secondary_cleaner.state.floatbank3_b_air      float64\n",
              "secondary_cleaner.state.floatbank3_b_level    float64\n",
              "secondary_cleaner.state.floatbank4_a_air      float64\n",
              "secondary_cleaner.state.floatbank4_a_level    float64\n",
              "secondary_cleaner.state.floatbank4_b_air      float64\n",
              "secondary_cleaner.state.floatbank4_b_level    float64\n",
              "secondary_cleaner.state.floatbank5_a_air      float64\n",
              "secondary_cleaner.state.floatbank5_a_level    float64\n",
              "secondary_cleaner.state.floatbank5_b_air      float64\n",
              "secondary_cleaner.state.floatbank5_b_level    float64\n",
              "secondary_cleaner.state.floatbank6_a_air      float64\n",
              "secondary_cleaner.state.floatbank6_a_level    float64\n",
              "dtype: object"
            ]
          },
          "execution_count": 8,
          "metadata": {},
          "output_type": "execute_result"
        }
      ],
      "source": [
        "df_test.dtypes"
      ]
    },
    {
      "cell_type": "code",
      "execution_count": null,
      "metadata": {
        "id": "WKr-Rtm98StU",
        "outputId": "de1dd225-e7ed-4d84-e5e9-216b67e76dfe"
      },
      "outputs": [
        {
          "name": "stdout",
          "output_type": "stream",
          "text": [
            "<class 'pandas.core.frame.DataFrame'>\n",
            "RangeIndex: 5290 entries, 0 to 5289\n",
            "Data columns (total 53 columns):\n",
            " #   Column                                      Non-Null Count  Dtype  \n",
            "---  ------                                      --------------  -----  \n",
            " 0   date                                        5290 non-null   object \n",
            " 1   primary_cleaner.input.sulfate               5286 non-null   float64\n",
            " 2   primary_cleaner.input.depressant            5285 non-null   float64\n",
            " 3   primary_cleaner.input.feed_size             5290 non-null   float64\n",
            " 4   primary_cleaner.input.xanthate              5286 non-null   float64\n",
            " 5   primary_cleaner.state.floatbank8_a_air      5290 non-null   float64\n",
            " 6   primary_cleaner.state.floatbank8_a_level    5290 non-null   float64\n",
            " 7   primary_cleaner.state.floatbank8_b_air      5290 non-null   float64\n",
            " 8   primary_cleaner.state.floatbank8_b_level    5290 non-null   float64\n",
            " 9   primary_cleaner.state.floatbank8_c_air      5290 non-null   float64\n",
            " 10  primary_cleaner.state.floatbank8_c_level    5290 non-null   float64\n",
            " 11  primary_cleaner.state.floatbank8_d_air      5290 non-null   float64\n",
            " 12  primary_cleaner.state.floatbank8_d_level    5290 non-null   float64\n",
            " 13  rougher.input.feed_ag                       5290 non-null   float64\n",
            " 14  rougher.input.feed_pb                       5290 non-null   float64\n",
            " 15  rougher.input.feed_rate                     5287 non-null   float64\n",
            " 16  rougher.input.feed_size                     5289 non-null   float64\n",
            " 17  rougher.input.feed_sol                      5269 non-null   float64\n",
            " 18  rougher.input.feed_au                       5290 non-null   float64\n",
            " 19  rougher.input.floatbank10_sulfate           5285 non-null   float64\n",
            " 20  rougher.input.floatbank10_xanthate          5290 non-null   float64\n",
            " 21  rougher.input.floatbank11_sulfate           5282 non-null   float64\n",
            " 22  rougher.input.floatbank11_xanthate          5265 non-null   float64\n",
            " 23  rougher.state.floatbank10_a_air             5290 non-null   float64\n",
            " 24  rougher.state.floatbank10_a_level           5290 non-null   float64\n",
            " 25  rougher.state.floatbank10_b_air             5290 non-null   float64\n",
            " 26  rougher.state.floatbank10_b_level           5290 non-null   float64\n",
            " 27  rougher.state.floatbank10_c_air             5290 non-null   float64\n",
            " 28  rougher.state.floatbank10_c_level           5290 non-null   float64\n",
            " 29  rougher.state.floatbank10_d_air             5290 non-null   float64\n",
            " 30  rougher.state.floatbank10_d_level           5290 non-null   float64\n",
            " 31  rougher.state.floatbank10_e_air             5290 non-null   float64\n",
            " 32  rougher.state.floatbank10_e_level           5290 non-null   float64\n",
            " 33  rougher.state.floatbank10_f_air             5290 non-null   float64\n",
            " 34  rougher.state.floatbank10_f_level           5290 non-null   float64\n",
            " 35  secondary_cleaner.state.floatbank2_a_air    5287 non-null   float64\n",
            " 36  secondary_cleaner.state.floatbank2_a_level  5290 non-null   float64\n",
            " 37  secondary_cleaner.state.floatbank2_b_air    5288 non-null   float64\n",
            " 38  secondary_cleaner.state.floatbank2_b_level  5290 non-null   float64\n",
            " 39  secondary_cleaner.state.floatbank3_a_air    5281 non-null   float64\n",
            " 40  secondary_cleaner.state.floatbank3_a_level  5290 non-null   float64\n",
            " 41  secondary_cleaner.state.floatbank3_b_air    5290 non-null   float64\n",
            " 42  secondary_cleaner.state.floatbank3_b_level  5290 non-null   float64\n",
            " 43  secondary_cleaner.state.floatbank4_a_air    5290 non-null   float64\n",
            " 44  secondary_cleaner.state.floatbank4_a_level  5290 non-null   float64\n",
            " 45  secondary_cleaner.state.floatbank4_b_air    5290 non-null   float64\n",
            " 46  secondary_cleaner.state.floatbank4_b_level  5290 non-null   float64\n",
            " 47  secondary_cleaner.state.floatbank5_a_air    5290 non-null   float64\n",
            " 48  secondary_cleaner.state.floatbank5_a_level  5290 non-null   float64\n",
            " 49  secondary_cleaner.state.floatbank5_b_air    5290 non-null   float64\n",
            " 50  secondary_cleaner.state.floatbank5_b_level  5290 non-null   float64\n",
            " 51  secondary_cleaner.state.floatbank6_a_air    5290 non-null   float64\n",
            " 52  secondary_cleaner.state.floatbank6_a_level  5290 non-null   float64\n",
            "dtypes: float64(52), object(1)\n",
            "memory usage: 2.1+ MB\n"
          ]
        }
      ],
      "source": [
        "df_test.info()"
      ]
    },
    {
      "cell_type": "code",
      "execution_count": null,
      "metadata": {
        "id": "HvPR-CW78StU",
        "outputId": "b37ece15-dfa5-4b2a-b0db-d4e55b83a739"
      },
      "outputs": [
        {
          "name": "stdout",
          "output_type": "stream",
          "text": [
            "<class 'pandas.core.frame.DataFrame'>\n",
            "RangeIndex: 19439 entries, 0 to 19438\n",
            "Data columns (total 87 columns):\n",
            " #   Column                                              Non-Null Count  Dtype  \n",
            "---  ------                                              --------------  -----  \n",
            " 0   date                                                19439 non-null  object \n",
            " 1   final.output.concentrate_ag                         19438 non-null  float64\n",
            " 2   final.output.concentrate_pb                         19438 non-null  float64\n",
            " 3   final.output.concentrate_sol                        19228 non-null  float64\n",
            " 4   final.output.concentrate_au                         19439 non-null  float64\n",
            " 5   final.output.recovery                               19439 non-null  float64\n",
            " 6   final.output.tail_ag                                19438 non-null  float64\n",
            " 7   final.output.tail_pb                                19338 non-null  float64\n",
            " 8   final.output.tail_sol                               19433 non-null  float64\n",
            " 9   final.output.tail_au                                19439 non-null  float64\n",
            " 10  primary_cleaner.input.sulfate                       19415 non-null  float64\n",
            " 11  primary_cleaner.input.depressant                    19402 non-null  float64\n",
            " 12  primary_cleaner.input.feed_size                     19439 non-null  float64\n",
            " 13  primary_cleaner.input.xanthate                      19335 non-null  float64\n",
            " 14  primary_cleaner.output.concentrate_ag               19439 non-null  float64\n",
            " 15  primary_cleaner.output.concentrate_pb               19323 non-null  float64\n",
            " 16  primary_cleaner.output.concentrate_sol              19069 non-null  float64\n",
            " 17  primary_cleaner.output.concentrate_au               19439 non-null  float64\n",
            " 18  primary_cleaner.output.tail_ag                      19435 non-null  float64\n",
            " 19  primary_cleaner.output.tail_pb                      19418 non-null  float64\n",
            " 20  primary_cleaner.output.tail_sol                     19377 non-null  float64\n",
            " 21  primary_cleaner.output.tail_au                      19439 non-null  float64\n",
            " 22  primary_cleaner.state.floatbank8_a_air              19435 non-null  float64\n",
            " 23  primary_cleaner.state.floatbank8_a_level            19438 non-null  float64\n",
            " 24  primary_cleaner.state.floatbank8_b_air              19435 non-null  float64\n",
            " 25  primary_cleaner.state.floatbank8_b_level            19438 non-null  float64\n",
            " 26  primary_cleaner.state.floatbank8_c_air              19437 non-null  float64\n",
            " 27  primary_cleaner.state.floatbank8_c_level            19438 non-null  float64\n",
            " 28  primary_cleaner.state.floatbank8_d_air              19436 non-null  float64\n",
            " 29  primary_cleaner.state.floatbank8_d_level            19438 non-null  float64\n",
            " 30  rougher.calculation.sulfate_to_au_concentrate       19437 non-null  float64\n",
            " 31  rougher.calculation.floatbank10_sulfate_to_au_feed  19437 non-null  float64\n",
            " 32  rougher.calculation.floatbank11_sulfate_to_au_feed  19437 non-null  float64\n",
            " 33  rougher.calculation.au_pb_ratio                     19439 non-null  float64\n",
            " 34  rougher.input.feed_ag                               19439 non-null  float64\n",
            " 35  rougher.input.feed_pb                               19339 non-null  float64\n",
            " 36  rougher.input.feed_rate                             19428 non-null  float64\n",
            " 37  rougher.input.feed_size                             19294 non-null  float64\n",
            " 38  rougher.input.feed_sol                              19340 non-null  float64\n",
            " 39  rougher.input.feed_au                               19439 non-null  float64\n",
            " 40  rougher.input.floatbank10_sulfate                   19405 non-null  float64\n",
            " 41  rougher.input.floatbank10_xanthate                  19431 non-null  float64\n",
            " 42  rougher.input.floatbank11_sulfate                   19395 non-null  float64\n",
            " 43  rougher.input.floatbank11_xanthate                  18986 non-null  float64\n",
            " 44  rougher.output.concentrate_ag                       19439 non-null  float64\n",
            " 45  rougher.output.concentrate_pb                       19439 non-null  float64\n",
            " 46  rougher.output.concentrate_sol                      19416 non-null  float64\n",
            " 47  rougher.output.concentrate_au                       19439 non-null  float64\n",
            " 48  rougher.output.recovery                             19439 non-null  float64\n",
            " 49  rougher.output.tail_ag                              19438 non-null  float64\n",
            " 50  rougher.output.tail_pb                              19439 non-null  float64\n",
            " 51  rougher.output.tail_sol                             19439 non-null  float64\n",
            " 52  rougher.output.tail_au                              19439 non-null  float64\n",
            " 53  rougher.state.floatbank10_a_air                     19438 non-null  float64\n",
            " 54  rougher.state.floatbank10_a_level                   19438 non-null  float64\n",
            " 55  rougher.state.floatbank10_b_air                     19438 non-null  float64\n",
            " 56  rougher.state.floatbank10_b_level                   19438 non-null  float64\n",
            " 57  rougher.state.floatbank10_c_air                     19438 non-null  float64\n",
            " 58  rougher.state.floatbank10_c_level                   19438 non-null  float64\n",
            " 59  rougher.state.floatbank10_d_air                     19439 non-null  float64\n",
            " 60  rougher.state.floatbank10_d_level                   19439 non-null  float64\n",
            " 61  rougher.state.floatbank10_e_air                     19003 non-null  float64\n",
            " 62  rougher.state.floatbank10_e_level                   19439 non-null  float64\n",
            " 63  rougher.state.floatbank10_f_air                     19439 non-null  float64\n",
            " 64  rougher.state.floatbank10_f_level                   19439 non-null  float64\n",
            " 65  secondary_cleaner.output.tail_ag                    19437 non-null  float64\n",
            " 66  secondary_cleaner.output.tail_pb                    19427 non-null  float64\n",
            " 67  secondary_cleaner.output.tail_sol                   17691 non-null  float64\n",
            " 68  secondary_cleaner.output.tail_au                    19439 non-null  float64\n",
            " 69  secondary_cleaner.state.floatbank2_a_air            19219 non-null  float64\n",
            " 70  secondary_cleaner.state.floatbank2_a_level          19438 non-null  float64\n",
            " 71  secondary_cleaner.state.floatbank2_b_air            19416 non-null  float64\n",
            " 72  secondary_cleaner.state.floatbank2_b_level          19438 non-null  float64\n",
            " 73  secondary_cleaner.state.floatbank3_a_air            19426 non-null  float64\n",
            " 74  secondary_cleaner.state.floatbank3_a_level          19438 non-null  float64\n",
            " 75  secondary_cleaner.state.floatbank3_b_air            19438 non-null  float64\n",
            " 76  secondary_cleaner.state.floatbank3_b_level          19438 non-null  float64\n",
            " 77  secondary_cleaner.state.floatbank4_a_air            19433 non-null  float64\n",
            " 78  secondary_cleaner.state.floatbank4_a_level          19438 non-null  float64\n",
            " 79  secondary_cleaner.state.floatbank4_b_air            19438 non-null  float64\n",
            " 80  secondary_cleaner.state.floatbank4_b_level          19438 non-null  float64\n",
            " 81  secondary_cleaner.state.floatbank5_a_air            19438 non-null  float64\n",
            " 82  secondary_cleaner.state.floatbank5_a_level          19438 non-null  float64\n",
            " 83  secondary_cleaner.state.floatbank5_b_air            19438 non-null  float64\n",
            " 84  secondary_cleaner.state.floatbank5_b_level          19438 non-null  float64\n",
            " 85  secondary_cleaner.state.floatbank6_a_air            19437 non-null  float64\n",
            " 86  secondary_cleaner.state.floatbank6_a_level          19438 non-null  float64\n",
            "dtypes: float64(86), object(1)\n",
            "memory usage: 12.9+ MB\n"
          ]
        }
      ],
      "source": [
        "df_full.info()"
      ]
    },
    {
      "cell_type": "code",
      "execution_count": null,
      "metadata": {
        "id": "vaikL4ot8StU",
        "outputId": "8fa39bf3-b0a9-4e9d-fad8-0e08caf449b9"
      },
      "outputs": [
        {
          "data": {
            "text/plain": [
              "date                                           object\n",
              "final.output.concentrate_ag                   float64\n",
              "final.output.concentrate_pb                   float64\n",
              "final.output.concentrate_sol                  float64\n",
              "final.output.concentrate_au                   float64\n",
              "                                               ...   \n",
              "secondary_cleaner.state.floatbank5_a_level    float64\n",
              "secondary_cleaner.state.floatbank5_b_air      float64\n",
              "secondary_cleaner.state.floatbank5_b_level    float64\n",
              "secondary_cleaner.state.floatbank6_a_air      float64\n",
              "secondary_cleaner.state.floatbank6_a_level    float64\n",
              "Length: 87, dtype: object"
            ]
          },
          "execution_count": 11,
          "metadata": {},
          "output_type": "execute_result"
        }
      ],
      "source": [
        "df_full.dtypes"
      ]
    },
    {
      "cell_type": "code",
      "execution_count": null,
      "metadata": {
        "id": "X17noMnX8StU",
        "outputId": "c415dee4-87a8-421a-ec68-70e8b287aec3"
      },
      "outputs": [
        {
          "data": {
            "text/plain": [
              "secondary_cleaner.output.tail_sol           0.11\n",
              "rougher.state.floatbank10_e_air             0.03\n",
              "rougher.input.floatbank11_xanthate          0.03\n",
              "primary_cleaner.output.concentrate_sol      0.02\n",
              "secondary_cleaner.state.floatbank2_a_air    0.02\n",
              "final.output.concentrate_sol                0.01\n",
              "rougher.input.feed_size                     0.01\n",
              "primary_cleaner.input.xanthate              0.01\n",
              "rougher.input.feed_pb                       0.01\n",
              "final.output.tail_pb                        0.01\n",
              "primary_cleaner.output.concentrate_pb       0.01\n",
              "rougher.input.feed_sol                      0.01\n",
              "primary_cleaner.output.tail_sol             0.00\n",
              "rougher.input.floatbank11_sulfate           0.00\n",
              "primary_cleaner.input.depressant            0.00\n",
              "dtype: float64"
            ]
          },
          "execution_count": 12,
          "metadata": {},
          "output_type": "execute_result"
        }
      ],
      "source": [
        "(df_train.isna().sum()/df_train.shape[0]).sort_values(ascending =False).round(2).head(15)"
      ]
    },
    {
      "cell_type": "code",
      "execution_count": null,
      "metadata": {
        "id": "ZubZNbG-8StV",
        "outputId": "f5b1052e-9060-4351-edb2-c9a64ad5ebc8"
      },
      "outputs": [
        {
          "data": {
            "text/plain": [
              "secondary_cleaner.output.tail_sol                     1605\n",
              "rougher.state.floatbank10_e_air                        436\n",
              "rougher.input.floatbank11_xanthate                     428\n",
              "primary_cleaner.output.concentrate_sol                 286\n",
              "secondary_cleaner.state.floatbank2_a_air               217\n",
              "final.output.concentrate_sol                           211\n",
              "rougher.input.feed_size                                144\n",
              "primary_cleaner.input.xanthate                         100\n",
              "rougher.input.feed_pb                                  100\n",
              "final.output.tail_pb                                   100\n",
              "primary_cleaner.output.concentrate_pb                   86\n",
              "rougher.input.feed_sol                                  78\n",
              "primary_cleaner.output.tail_sol                         46\n",
              "rougher.input.floatbank11_sulfate                       36\n",
              "primary_cleaner.input.depressant                        32\n",
              "rougher.input.floatbank10_sulfate                       29\n",
              "rougher.output.concentrate_sol                          22\n",
              "secondary_cleaner.state.floatbank2_b_air                21\n",
              "primary_cleaner.input.sulfate                           20\n",
              "primary_cleaner.output.tail_pb                          15\n",
              "secondary_cleaner.output.tail_pb                        10\n",
              "rougher.input.feed_rate                                  8\n",
              "rougher.input.floatbank10_xanthate                       8\n",
              "secondary_cleaner.state.floatbank4_a_air                 6\n",
              "final.output.tail_sol                                    5\n",
              "secondary_cleaner.state.floatbank3_a_air                 4\n",
              "primary_cleaner.state.floatbank8_a_air                   4\n",
              "primary_cleaner.state.floatbank8_b_air                   4\n",
              "primary_cleaner.state.floatbank8_d_air                   3\n",
              "primary_cleaner.state.floatbank8_c_air                   2\n",
              "secondary_cleaner.output.tail_ag                         2\n",
              "secondary_cleaner.state.floatbank6_a_air                 2\n",
              "rougher.state.floatbank10_b_level                        1\n",
              "rougher.state.floatbank10_b_air                          1\n",
              "rougher.state.floatbank10_c_level                        1\n",
              "rougher.state.floatbank10_c_air                          1\n",
              "secondary_cleaner.state.floatbank3_a_level               1\n",
              "secondary_cleaner.state.floatbank2_a_level               1\n",
              "secondary_cleaner.state.floatbank2_b_level               1\n",
              "rougher.state.floatbank10_a_air                          1\n",
              "secondary_cleaner.state.floatbank3_b_air                 1\n",
              "secondary_cleaner.state.floatbank3_b_level               1\n",
              "secondary_cleaner.state.floatbank4_a_level               1\n",
              "secondary_cleaner.state.floatbank4_b_air                 1\n",
              "secondary_cleaner.state.floatbank4_b_level               1\n",
              "secondary_cleaner.state.floatbank5_a_air                 1\n",
              "secondary_cleaner.state.floatbank5_a_level               1\n",
              "secondary_cleaner.state.floatbank5_b_air                 1\n",
              "secondary_cleaner.state.floatbank5_b_level               1\n",
              "rougher.state.floatbank10_a_level                        1\n",
              "secondary_cleaner.state.floatbank6_a_level               1\n",
              "rougher.calculation.floatbank11_sulfate_to_au_feed       1\n",
              "rougher.calculation.floatbank10_sulfate_to_au_feed       1\n",
              "primary_cleaner.state.floatbank8_d_level                 1\n",
              "primary_cleaner.state.floatbank8_c_level                 1\n",
              "primary_cleaner.state.floatbank8_b_level                 1\n",
              "primary_cleaner.state.floatbank8_a_level                 1\n",
              "primary_cleaner.output.tail_ag                           1\n",
              "final.output.concentrate_ag                              1\n",
              "rougher.calculation.sulfate_to_au_concentrate            1\n",
              "dtype: int64"
            ]
          },
          "execution_count": 13,
          "metadata": {},
          "output_type": "execute_result"
        }
      ],
      "source": [
        "df_train.isna().sum().sort_values(ascending = False).head(60)"
      ]
    },
    {
      "cell_type": "code",
      "execution_count": null,
      "metadata": {
        "id": "LG8yQIQh8StV",
        "outputId": "34bef628-57c1-454d-e0ed-2306ba2da999"
      },
      "outputs": [
        {
          "data": {
            "text/plain": [
              "rougher.input.floatbank11_xanthate            25\n",
              "rougher.input.feed_sol                        21\n",
              "secondary_cleaner.state.floatbank3_a_air       9\n",
              "rougher.input.floatbank11_sulfate              8\n",
              "primary_cleaner.input.depressant               5\n",
              "rougher.input.floatbank10_sulfate              5\n",
              "primary_cleaner.input.xanthate                 4\n",
              "primary_cleaner.input.sulfate                  4\n",
              "rougher.input.feed_rate                        3\n",
              "secondary_cleaner.state.floatbank2_a_air       3\n",
              "secondary_cleaner.state.floatbank2_b_air       2\n",
              "rougher.input.feed_size                        1\n",
              "secondary_cleaner.state.floatbank2_b_level     0\n",
              "rougher.state.floatbank10_f_level              0\n",
              "rougher.state.floatbank10_f_air                0\n",
              "secondary_cleaner.state.floatbank3_a_level     0\n",
              "secondary_cleaner.state.floatbank2_a_level     0\n",
              "date                                           0\n",
              "rougher.state.floatbank10_e_air                0\n",
              "secondary_cleaner.state.floatbank3_b_air       0\n",
              "secondary_cleaner.state.floatbank3_b_level     0\n",
              "secondary_cleaner.state.floatbank4_a_air       0\n",
              "secondary_cleaner.state.floatbank4_a_level     0\n",
              "secondary_cleaner.state.floatbank4_b_air       0\n",
              "secondary_cleaner.state.floatbank4_b_level     0\n",
              "secondary_cleaner.state.floatbank5_a_air       0\n",
              "secondary_cleaner.state.floatbank5_a_level     0\n",
              "secondary_cleaner.state.floatbank5_b_air       0\n",
              "secondary_cleaner.state.floatbank5_b_level     0\n",
              "secondary_cleaner.state.floatbank6_a_air       0\n",
              "rougher.state.floatbank10_e_level              0\n",
              "rougher.state.floatbank10_b_level              0\n",
              "rougher.state.floatbank10_d_level              0\n",
              "primary_cleaner.state.floatbank8_d_level       0\n",
              "primary_cleaner.input.feed_size                0\n",
              "primary_cleaner.state.floatbank8_a_air         0\n",
              "primary_cleaner.state.floatbank8_a_level       0\n",
              "primary_cleaner.state.floatbank8_b_air         0\n",
              "primary_cleaner.state.floatbank8_b_level       0\n",
              "primary_cleaner.state.floatbank8_c_air         0\n",
              "primary_cleaner.state.floatbank8_c_level       0\n",
              "primary_cleaner.state.floatbank8_d_air         0\n",
              "rougher.input.feed_ag                          0\n",
              "rougher.state.floatbank10_d_air                0\n",
              "rougher.input.feed_pb                          0\n",
              "rougher.input.feed_au                          0\n",
              "rougher.input.floatbank10_xanthate             0\n",
              "rougher.state.floatbank10_a_air                0\n",
              "rougher.state.floatbank10_a_level              0\n",
              "rougher.state.floatbank10_b_air                0\n",
              "rougher.state.floatbank10_c_air                0\n",
              "rougher.state.floatbank10_c_level              0\n",
              "secondary_cleaner.state.floatbank6_a_level     0\n",
              "dtype: int64"
            ]
          },
          "execution_count": 14,
          "metadata": {},
          "output_type": "execute_result"
        }
      ],
      "source": [
        "df_test.isna().sum().sort_values(ascending = False)"
      ]
    },
    {
      "cell_type": "code",
      "execution_count": null,
      "metadata": {
        "id": "bIRmy5ap8StV",
        "outputId": "6240b8ce-0753-41ea-8563-cb9b96d67eef"
      },
      "outputs": [
        {
          "data": {
            "text/plain": [
              "rougher.input.floatbank11_xanthate            0.005\n",
              "rougher.input.feed_sol                        0.004\n",
              "secondary_cleaner.state.floatbank3_a_air      0.002\n",
              "rougher.input.floatbank11_sulfate             0.002\n",
              "primary_cleaner.input.depressant              0.001\n",
              "rougher.input.floatbank10_sulfate             0.001\n",
              "primary_cleaner.input.xanthate                0.001\n",
              "primary_cleaner.input.sulfate                 0.001\n",
              "rougher.input.feed_rate                       0.001\n",
              "secondary_cleaner.state.floatbank2_a_air      0.001\n",
              "secondary_cleaner.state.floatbank2_b_air      0.000\n",
              "rougher.input.feed_size                       0.000\n",
              "secondary_cleaner.state.floatbank2_b_level    0.000\n",
              "rougher.state.floatbank10_f_level             0.000\n",
              "rougher.state.floatbank10_f_air               0.000\n",
              "secondary_cleaner.state.floatbank3_a_level    0.000\n",
              "secondary_cleaner.state.floatbank2_a_level    0.000\n",
              "date                                          0.000\n",
              "rougher.state.floatbank10_e_air               0.000\n",
              "secondary_cleaner.state.floatbank3_b_air      0.000\n",
              "secondary_cleaner.state.floatbank3_b_level    0.000\n",
              "secondary_cleaner.state.floatbank4_a_air      0.000\n",
              "secondary_cleaner.state.floatbank4_a_level    0.000\n",
              "secondary_cleaner.state.floatbank4_b_air      0.000\n",
              "secondary_cleaner.state.floatbank4_b_level    0.000\n",
              "secondary_cleaner.state.floatbank5_a_air      0.000\n",
              "secondary_cleaner.state.floatbank5_a_level    0.000\n",
              "secondary_cleaner.state.floatbank5_b_air      0.000\n",
              "secondary_cleaner.state.floatbank5_b_level    0.000\n",
              "secondary_cleaner.state.floatbank6_a_air      0.000\n",
              "rougher.state.floatbank10_e_level             0.000\n",
              "rougher.state.floatbank10_b_level             0.000\n",
              "rougher.state.floatbank10_d_level             0.000\n",
              "primary_cleaner.state.floatbank8_d_level      0.000\n",
              "primary_cleaner.input.feed_size               0.000\n",
              "primary_cleaner.state.floatbank8_a_air        0.000\n",
              "primary_cleaner.state.floatbank8_a_level      0.000\n",
              "primary_cleaner.state.floatbank8_b_air        0.000\n",
              "primary_cleaner.state.floatbank8_b_level      0.000\n",
              "primary_cleaner.state.floatbank8_c_air        0.000\n",
              "primary_cleaner.state.floatbank8_c_level      0.000\n",
              "primary_cleaner.state.floatbank8_d_air        0.000\n",
              "rougher.input.feed_ag                         0.000\n",
              "rougher.state.floatbank10_d_air               0.000\n",
              "rougher.input.feed_pb                         0.000\n",
              "rougher.input.feed_au                         0.000\n",
              "rougher.input.floatbank10_xanthate            0.000\n",
              "rougher.state.floatbank10_a_air               0.000\n",
              "rougher.state.floatbank10_a_level             0.000\n",
              "rougher.state.floatbank10_b_air               0.000\n",
              "rougher.state.floatbank10_c_air               0.000\n",
              "rougher.state.floatbank10_c_level             0.000\n",
              "secondary_cleaner.state.floatbank6_a_level    0.000\n",
              "dtype: float64"
            ]
          },
          "execution_count": 15,
          "metadata": {},
          "output_type": "execute_result"
        }
      ],
      "source": [
        "(df_test.isna().sum()/df_test.shape[0]).sort_values(ascending = False).round(3)"
      ]
    },
    {
      "cell_type": "code",
      "execution_count": null,
      "metadata": {
        "id": "XXrb4Z-28StV",
        "outputId": "6fecf9fb-a026-4c92-a6a0-4dd709cd2928"
      },
      "outputs": [
        {
          "data": {
            "text/plain": [
              "secondary_cleaner.output.tail_sol                     1748\n",
              "rougher.input.floatbank11_xanthate                     453\n",
              "rougher.state.floatbank10_e_air                        436\n",
              "primary_cleaner.output.concentrate_sol                 370\n",
              "secondary_cleaner.state.floatbank2_a_air               220\n",
              "final.output.concentrate_sol                           211\n",
              "rougher.input.feed_size                                145\n",
              "primary_cleaner.output.concentrate_pb                  116\n",
              "primary_cleaner.input.xanthate                         104\n",
              "final.output.tail_pb                                   101\n",
              "rougher.input.feed_pb                                  100\n",
              "rougher.input.feed_sol                                  99\n",
              "primary_cleaner.output.tail_sol                         62\n",
              "rougher.input.floatbank11_sulfate                       44\n",
              "primary_cleaner.input.depressant                        37\n",
              "rougher.input.floatbank10_sulfate                       34\n",
              "primary_cleaner.input.sulfate                           24\n",
              "rougher.output.concentrate_sol                          23\n",
              "secondary_cleaner.state.floatbank2_b_air                23\n",
              "primary_cleaner.output.tail_pb                          21\n",
              "secondary_cleaner.state.floatbank3_a_air                13\n",
              "secondary_cleaner.output.tail_pb                        12\n",
              "rougher.input.feed_rate                                 11\n",
              "rougher.input.floatbank10_xanthate                       8\n",
              "final.output.tail_sol                                    6\n",
              "secondary_cleaner.state.floatbank4_a_air                 6\n",
              "primary_cleaner.output.tail_ag                           4\n",
              "primary_cleaner.state.floatbank8_b_air                   4\n",
              "primary_cleaner.state.floatbank8_a_air                   4\n",
              "primary_cleaner.state.floatbank8_d_air                   3\n",
              "rougher.calculation.floatbank11_sulfate_to_au_feed       2\n",
              "secondary_cleaner.output.tail_ag                         2\n",
              "primary_cleaner.state.floatbank8_c_air                   2\n",
              "rougher.calculation.sulfate_to_au_concentrate            2\n",
              "secondary_cleaner.state.floatbank6_a_air                 2\n",
              "rougher.calculation.floatbank10_sulfate_to_au_feed       2\n",
              "secondary_cleaner.state.floatbank2_b_level               1\n",
              "secondary_cleaner.state.floatbank5_a_air                 1\n",
              "rougher.state.floatbank10_b_level                        1\n",
              "rougher.state.floatbank10_c_air                          1\n",
              "dtype: int64"
            ]
          },
          "execution_count": 16,
          "metadata": {},
          "output_type": "execute_result"
        }
      ],
      "source": [
        "df_full.isna().sum().sort_values(ascending = False).head(40)"
      ]
    },
    {
      "cell_type": "code",
      "execution_count": null,
      "metadata": {
        "id": "Njd_3GOG8StV",
        "outputId": "ea4524b5-3946-41e9-943b-7e88f0de35aa"
      },
      "outputs": [
        {
          "data": {
            "text/plain": [
              "secondary_cleaner.output.tail_sol           0.09\n",
              "rougher.input.floatbank11_xanthate          0.02\n",
              "rougher.state.floatbank10_e_air             0.02\n",
              "primary_cleaner.output.concentrate_sol      0.02\n",
              "secondary_cleaner.state.floatbank2_a_air    0.01\n",
              "final.output.concentrate_sol                0.01\n",
              "rougher.input.feed_size                     0.01\n",
              "primary_cleaner.output.concentrate_pb       0.01\n",
              "primary_cleaner.input.xanthate              0.01\n",
              "final.output.tail_pb                        0.01\n",
              "rougher.input.feed_pb                       0.01\n",
              "rougher.input.feed_sol                      0.01\n",
              "primary_cleaner.output.tail_sol             0.00\n",
              "rougher.input.floatbank11_sulfate           0.00\n",
              "primary_cleaner.input.depressant            0.00\n",
              "rougher.input.floatbank10_sulfate           0.00\n",
              "primary_cleaner.input.sulfate               0.00\n",
              "rougher.output.concentrate_sol              0.00\n",
              "secondary_cleaner.state.floatbank2_b_air    0.00\n",
              "primary_cleaner.output.tail_pb              0.00\n",
              "dtype: float64"
            ]
          },
          "execution_count": 17,
          "metadata": {},
          "output_type": "execute_result"
        }
      ],
      "source": [
        "(df_full.isna().sum()/df_full.shape[0]).sort_values(ascending = False).round(2).head(20)"
      ]
    },
    {
      "cell_type": "markdown",
      "metadata": {
        "id": "Uaui-_ST8StW"
      },
      "source": [
        "###  Заполняем пропуски"
      ]
    },
    {
      "cell_type": "code",
      "execution_count": null,
      "metadata": {
        "id": "49aox91-8StW"
      },
      "outputs": [],
      "source": [
        "df_train = df_train.ffill()"
      ]
    },
    {
      "cell_type": "code",
      "execution_count": null,
      "metadata": {
        "id": "cQvL2lSP8StW",
        "outputId": "2696c92c-4063-4883-e8b8-a49d8f930c55"
      },
      "outputs": [
        {
          "data": {
            "text/plain": [
              "date                                          0\n",
              "final.output.concentrate_ag                   0\n",
              "final.output.concentrate_pb                   0\n",
              "final.output.concentrate_sol                  0\n",
              "final.output.concentrate_au                   0\n",
              "                                             ..\n",
              "secondary_cleaner.state.floatbank5_a_level    0\n",
              "secondary_cleaner.state.floatbank5_b_air      0\n",
              "secondary_cleaner.state.floatbank5_b_level    0\n",
              "secondary_cleaner.state.floatbank6_a_air      0\n",
              "secondary_cleaner.state.floatbank6_a_level    0\n",
              "Length: 87, dtype: int64"
            ]
          },
          "execution_count": 19,
          "metadata": {},
          "output_type": "execute_result"
        }
      ],
      "source": [
        "df_train.isna().sum()"
      ]
    },
    {
      "cell_type": "code",
      "execution_count": null,
      "metadata": {
        "id": "1u3y-5lJ8StW"
      },
      "outputs": [],
      "source": [
        "df_test = df_test.ffill()"
      ]
    },
    {
      "cell_type": "code",
      "execution_count": null,
      "metadata": {
        "id": "8MxRvrSD8StX",
        "outputId": "893445da-ebbe-4bb5-ce40-c05e08e14636"
      },
      "outputs": [
        {
          "data": {
            "text/plain": [
              "date                                          0\n",
              "primary_cleaner.input.sulfate                 0\n",
              "primary_cleaner.input.depressant              0\n",
              "primary_cleaner.input.feed_size               0\n",
              "primary_cleaner.input.xanthate                0\n",
              "primary_cleaner.state.floatbank8_a_air        0\n",
              "primary_cleaner.state.floatbank8_a_level      0\n",
              "primary_cleaner.state.floatbank8_b_air        0\n",
              "primary_cleaner.state.floatbank8_b_level      0\n",
              "primary_cleaner.state.floatbank8_c_air        0\n",
              "primary_cleaner.state.floatbank8_c_level      0\n",
              "primary_cleaner.state.floatbank8_d_air        0\n",
              "primary_cleaner.state.floatbank8_d_level      0\n",
              "rougher.input.feed_ag                         0\n",
              "rougher.input.feed_pb                         0\n",
              "rougher.input.feed_rate                       0\n",
              "rougher.input.feed_size                       0\n",
              "rougher.input.feed_sol                        0\n",
              "rougher.input.feed_au                         0\n",
              "rougher.input.floatbank10_sulfate             0\n",
              "rougher.input.floatbank10_xanthate            0\n",
              "rougher.input.floatbank11_sulfate             0\n",
              "rougher.input.floatbank11_xanthate            0\n",
              "rougher.state.floatbank10_a_air               0\n",
              "rougher.state.floatbank10_a_level             0\n",
              "rougher.state.floatbank10_b_air               0\n",
              "rougher.state.floatbank10_b_level             0\n",
              "rougher.state.floatbank10_c_air               0\n",
              "rougher.state.floatbank10_c_level             0\n",
              "rougher.state.floatbank10_d_air               0\n",
              "rougher.state.floatbank10_d_level             0\n",
              "rougher.state.floatbank10_e_air               0\n",
              "rougher.state.floatbank10_e_level             0\n",
              "rougher.state.floatbank10_f_air               0\n",
              "rougher.state.floatbank10_f_level             0\n",
              "secondary_cleaner.state.floatbank2_a_air      0\n",
              "secondary_cleaner.state.floatbank2_a_level    0\n",
              "secondary_cleaner.state.floatbank2_b_air      0\n",
              "secondary_cleaner.state.floatbank2_b_level    0\n",
              "secondary_cleaner.state.floatbank3_a_air      0\n",
              "secondary_cleaner.state.floatbank3_a_level    0\n",
              "secondary_cleaner.state.floatbank3_b_air      0\n",
              "secondary_cleaner.state.floatbank3_b_level    0\n",
              "secondary_cleaner.state.floatbank4_a_air      0\n",
              "secondary_cleaner.state.floatbank4_a_level    0\n",
              "secondary_cleaner.state.floatbank4_b_air      0\n",
              "secondary_cleaner.state.floatbank4_b_level    0\n",
              "secondary_cleaner.state.floatbank5_a_air      0\n",
              "secondary_cleaner.state.floatbank5_a_level    0\n",
              "secondary_cleaner.state.floatbank5_b_air      0\n",
              "secondary_cleaner.state.floatbank5_b_level    0\n",
              "secondary_cleaner.state.floatbank6_a_air      0\n",
              "secondary_cleaner.state.floatbank6_a_level    0\n",
              "dtype: int64"
            ]
          },
          "execution_count": 21,
          "metadata": {},
          "output_type": "execute_result"
        }
      ],
      "source": [
        "df_test.isna().sum()"
      ]
    },
    {
      "cell_type": "code",
      "execution_count": null,
      "metadata": {
        "id": "9js4wDoe8StX"
      },
      "outputs": [],
      "source": [
        "df_full = df_full.ffill()"
      ]
    },
    {
      "cell_type": "code",
      "execution_count": null,
      "metadata": {
        "id": "PBgw08S78StX",
        "outputId": "1fb65400-0e3c-4c63-f54f-ded192494726"
      },
      "outputs": [
        {
          "data": {
            "text/plain": [
              "date                                          0\n",
              "final.output.concentrate_ag                   0\n",
              "final.output.concentrate_pb                   0\n",
              "final.output.concentrate_sol                  0\n",
              "final.output.concentrate_au                   0\n",
              "                                             ..\n",
              "secondary_cleaner.state.floatbank5_a_level    0\n",
              "secondary_cleaner.state.floatbank5_b_air      0\n",
              "secondary_cleaner.state.floatbank5_b_level    0\n",
              "secondary_cleaner.state.floatbank6_a_air      0\n",
              "secondary_cleaner.state.floatbank6_a_level    0\n",
              "Length: 87, dtype: int64"
            ]
          },
          "execution_count": 23,
          "metadata": {},
          "output_type": "execute_result"
        }
      ],
      "source": [
        "df_full.isna().sum()"
      ]
    },
    {
      "cell_type": "markdown",
      "metadata": {
        "id": "b4kPOWVt8StX"
      },
      "source": [
        "<div class=\"alert alert-info\">\n",
        "<h2> Комментарий студента <a class=\"tocSkip\"> </h2>\n",
        "\n",
        "Пропуски заполнили методом ffil, близкими значениями, исходя из условия задачи, что соседние по времени параметры похожи.\n",
        "</div>"
      ]
    },
    {
      "cell_type": "markdown",
      "metadata": {
        "id": "SCpxjy-C8Stt"
      },
      "source": [
        "### Переводим из одного формата в другой"
      ]
    },
    {
      "cell_type": "code",
      "execution_count": null,
      "metadata": {
        "id": "_B7SQBPI8Stt"
      },
      "outputs": [],
      "source": [
        "df_train['date']  = pd.to_datetime(df_train['date'], format = '%Y-%m-%d %H:%M:%S')\n",
        "df_test['date']  = pd.to_datetime(df_test['date'], format = '%Y-%m-%d %H:%M:%S')\n",
        "df_full['date']  = pd.to_datetime(df_full['date'], format = '%Y-%m-%d %H:%M:%S')"
      ]
    },
    {
      "cell_type": "code",
      "execution_count": null,
      "metadata": {
        "id": "y2mEkvzF8Stt",
        "outputId": "35c3ea94-b876-4252-b76a-023041269fff"
      },
      "outputs": [
        {
          "name": "stdout",
          "output_type": "stream",
          "text": [
            "<class 'pandas.core.frame.DataFrame'>\n",
            "RangeIndex: 14149 entries, 0 to 14148\n",
            "Data columns (total 87 columns):\n",
            " #   Column                                              Non-Null Count  Dtype         \n",
            "---  ------                                              --------------  -----         \n",
            " 0   date                                                14149 non-null  datetime64[ns]\n",
            " 1   final.output.concentrate_ag                         14149 non-null  float64       \n",
            " 2   final.output.concentrate_pb                         14149 non-null  float64       \n",
            " 3   final.output.concentrate_sol                        14149 non-null  float64       \n",
            " 4   final.output.concentrate_au                         14149 non-null  float64       \n",
            " 5   final.output.recovery                               14149 non-null  float64       \n",
            " 6   final.output.tail_ag                                14149 non-null  float64       \n",
            " 7   final.output.tail_pb                                14149 non-null  float64       \n",
            " 8   final.output.tail_sol                               14149 non-null  float64       \n",
            " 9   final.output.tail_au                                14149 non-null  float64       \n",
            " 10  primary_cleaner.input.sulfate                       14149 non-null  float64       \n",
            " 11  primary_cleaner.input.depressant                    14149 non-null  float64       \n",
            " 12  primary_cleaner.input.feed_size                     14149 non-null  float64       \n",
            " 13  primary_cleaner.input.xanthate                      14149 non-null  float64       \n",
            " 14  primary_cleaner.output.concentrate_ag               14149 non-null  float64       \n",
            " 15  primary_cleaner.output.concentrate_pb               14149 non-null  float64       \n",
            " 16  primary_cleaner.output.concentrate_sol              14149 non-null  float64       \n",
            " 17  primary_cleaner.output.concentrate_au               14149 non-null  float64       \n",
            " 18  primary_cleaner.output.tail_ag                      14149 non-null  float64       \n",
            " 19  primary_cleaner.output.tail_pb                      14149 non-null  float64       \n",
            " 20  primary_cleaner.output.tail_sol                     14149 non-null  float64       \n",
            " 21  primary_cleaner.output.tail_au                      14149 non-null  float64       \n",
            " 22  primary_cleaner.state.floatbank8_a_air              14149 non-null  float64       \n",
            " 23  primary_cleaner.state.floatbank8_a_level            14149 non-null  float64       \n",
            " 24  primary_cleaner.state.floatbank8_b_air              14149 non-null  float64       \n",
            " 25  primary_cleaner.state.floatbank8_b_level            14149 non-null  float64       \n",
            " 26  primary_cleaner.state.floatbank8_c_air              14149 non-null  float64       \n",
            " 27  primary_cleaner.state.floatbank8_c_level            14149 non-null  float64       \n",
            " 28  primary_cleaner.state.floatbank8_d_air              14149 non-null  float64       \n",
            " 29  primary_cleaner.state.floatbank8_d_level            14149 non-null  float64       \n",
            " 30  rougher.calculation.sulfate_to_au_concentrate       14149 non-null  float64       \n",
            " 31  rougher.calculation.floatbank10_sulfate_to_au_feed  14149 non-null  float64       \n",
            " 32  rougher.calculation.floatbank11_sulfate_to_au_feed  14149 non-null  float64       \n",
            " 33  rougher.calculation.au_pb_ratio                     14149 non-null  float64       \n",
            " 34  rougher.input.feed_ag                               14149 non-null  float64       \n",
            " 35  rougher.input.feed_pb                               14149 non-null  float64       \n",
            " 36  rougher.input.feed_rate                             14149 non-null  float64       \n",
            " 37  rougher.input.feed_size                             14149 non-null  float64       \n",
            " 38  rougher.input.feed_sol                              14149 non-null  float64       \n",
            " 39  rougher.input.feed_au                               14149 non-null  float64       \n",
            " 40  rougher.input.floatbank10_sulfate                   14149 non-null  float64       \n",
            " 41  rougher.input.floatbank10_xanthate                  14149 non-null  float64       \n",
            " 42  rougher.input.floatbank11_sulfate                   14149 non-null  float64       \n",
            " 43  rougher.input.floatbank11_xanthate                  14149 non-null  float64       \n",
            " 44  rougher.output.concentrate_ag                       14149 non-null  float64       \n",
            " 45  rougher.output.concentrate_pb                       14149 non-null  float64       \n",
            " 46  rougher.output.concentrate_sol                      14149 non-null  float64       \n",
            " 47  rougher.output.concentrate_au                       14149 non-null  float64       \n",
            " 48  rougher.output.recovery                             14149 non-null  float64       \n",
            " 49  rougher.output.tail_ag                              14149 non-null  float64       \n",
            " 50  rougher.output.tail_pb                              14149 non-null  float64       \n",
            " 51  rougher.output.tail_sol                             14149 non-null  float64       \n",
            " 52  rougher.output.tail_au                              14149 non-null  float64       \n",
            " 53  rougher.state.floatbank10_a_air                     14149 non-null  float64       \n",
            " 54  rougher.state.floatbank10_a_level                   14149 non-null  float64       \n",
            " 55  rougher.state.floatbank10_b_air                     14149 non-null  float64       \n",
            " 56  rougher.state.floatbank10_b_level                   14149 non-null  float64       \n",
            " 57  rougher.state.floatbank10_c_air                     14149 non-null  float64       \n",
            " 58  rougher.state.floatbank10_c_level                   14149 non-null  float64       \n",
            " 59  rougher.state.floatbank10_d_air                     14149 non-null  float64       \n",
            " 60  rougher.state.floatbank10_d_level                   14149 non-null  float64       \n",
            " 61  rougher.state.floatbank10_e_air                     14149 non-null  float64       \n",
            " 62  rougher.state.floatbank10_e_level                   14149 non-null  float64       \n",
            " 63  rougher.state.floatbank10_f_air                     14149 non-null  float64       \n",
            " 64  rougher.state.floatbank10_f_level                   14149 non-null  float64       \n",
            " 65  secondary_cleaner.output.tail_ag                    14149 non-null  float64       \n",
            " 66  secondary_cleaner.output.tail_pb                    14149 non-null  float64       \n",
            " 67  secondary_cleaner.output.tail_sol                   14149 non-null  float64       \n",
            " 68  secondary_cleaner.output.tail_au                    14149 non-null  float64       \n",
            " 69  secondary_cleaner.state.floatbank2_a_air            14149 non-null  float64       \n",
            " 70  secondary_cleaner.state.floatbank2_a_level          14149 non-null  float64       \n",
            " 71  secondary_cleaner.state.floatbank2_b_air            14149 non-null  float64       \n",
            " 72  secondary_cleaner.state.floatbank2_b_level          14149 non-null  float64       \n",
            " 73  secondary_cleaner.state.floatbank3_a_air            14149 non-null  float64       \n",
            " 74  secondary_cleaner.state.floatbank3_a_level          14149 non-null  float64       \n",
            " 75  secondary_cleaner.state.floatbank3_b_air            14149 non-null  float64       \n",
            " 76  secondary_cleaner.state.floatbank3_b_level          14149 non-null  float64       \n",
            " 77  secondary_cleaner.state.floatbank4_a_air            14149 non-null  float64       \n",
            " 78  secondary_cleaner.state.floatbank4_a_level          14149 non-null  float64       \n",
            " 79  secondary_cleaner.state.floatbank4_b_air            14149 non-null  float64       \n",
            " 80  secondary_cleaner.state.floatbank4_b_level          14149 non-null  float64       \n",
            " 81  secondary_cleaner.state.floatbank5_a_air            14149 non-null  float64       \n",
            " 82  secondary_cleaner.state.floatbank5_a_level          14149 non-null  float64       \n",
            " 83  secondary_cleaner.state.floatbank5_b_air            14149 non-null  float64       \n",
            " 84  secondary_cleaner.state.floatbank5_b_level          14149 non-null  float64       \n",
            " 85  secondary_cleaner.state.floatbank6_a_air            14149 non-null  float64       \n",
            " 86  secondary_cleaner.state.floatbank6_a_level          14149 non-null  float64       \n",
            "dtypes: datetime64[ns](1), float64(86)\n",
            "memory usage: 9.4 MB\n"
          ]
        }
      ],
      "source": [
        "df_train.info()"
      ]
    },
    {
      "cell_type": "code",
      "execution_count": null,
      "metadata": {
        "id": "psmY3VkG8Stt",
        "outputId": "b062828f-d97c-4768-a0d4-48eddba62a53"
      },
      "outputs": [
        {
          "name": "stdout",
          "output_type": "stream",
          "text": [
            "<class 'pandas.core.frame.DataFrame'>\n",
            "RangeIndex: 5290 entries, 0 to 5289\n",
            "Data columns (total 53 columns):\n",
            " #   Column                                      Non-Null Count  Dtype         \n",
            "---  ------                                      --------------  -----         \n",
            " 0   date                                        5290 non-null   datetime64[ns]\n",
            " 1   primary_cleaner.input.sulfate               5290 non-null   float64       \n",
            " 2   primary_cleaner.input.depressant            5290 non-null   float64       \n",
            " 3   primary_cleaner.input.feed_size             5290 non-null   float64       \n",
            " 4   primary_cleaner.input.xanthate              5290 non-null   float64       \n",
            " 5   primary_cleaner.state.floatbank8_a_air      5290 non-null   float64       \n",
            " 6   primary_cleaner.state.floatbank8_a_level    5290 non-null   float64       \n",
            " 7   primary_cleaner.state.floatbank8_b_air      5290 non-null   float64       \n",
            " 8   primary_cleaner.state.floatbank8_b_level    5290 non-null   float64       \n",
            " 9   primary_cleaner.state.floatbank8_c_air      5290 non-null   float64       \n",
            " 10  primary_cleaner.state.floatbank8_c_level    5290 non-null   float64       \n",
            " 11  primary_cleaner.state.floatbank8_d_air      5290 non-null   float64       \n",
            " 12  primary_cleaner.state.floatbank8_d_level    5290 non-null   float64       \n",
            " 13  rougher.input.feed_ag                       5290 non-null   float64       \n",
            " 14  rougher.input.feed_pb                       5290 non-null   float64       \n",
            " 15  rougher.input.feed_rate                     5290 non-null   float64       \n",
            " 16  rougher.input.feed_size                     5290 non-null   float64       \n",
            " 17  rougher.input.feed_sol                      5290 non-null   float64       \n",
            " 18  rougher.input.feed_au                       5290 non-null   float64       \n",
            " 19  rougher.input.floatbank10_sulfate           5290 non-null   float64       \n",
            " 20  rougher.input.floatbank10_xanthate          5290 non-null   float64       \n",
            " 21  rougher.input.floatbank11_sulfate           5290 non-null   float64       \n",
            " 22  rougher.input.floatbank11_xanthate          5290 non-null   float64       \n",
            " 23  rougher.state.floatbank10_a_air             5290 non-null   float64       \n",
            " 24  rougher.state.floatbank10_a_level           5290 non-null   float64       \n",
            " 25  rougher.state.floatbank10_b_air             5290 non-null   float64       \n",
            " 26  rougher.state.floatbank10_b_level           5290 non-null   float64       \n",
            " 27  rougher.state.floatbank10_c_air             5290 non-null   float64       \n",
            " 28  rougher.state.floatbank10_c_level           5290 non-null   float64       \n",
            " 29  rougher.state.floatbank10_d_air             5290 non-null   float64       \n",
            " 30  rougher.state.floatbank10_d_level           5290 non-null   float64       \n",
            " 31  rougher.state.floatbank10_e_air             5290 non-null   float64       \n",
            " 32  rougher.state.floatbank10_e_level           5290 non-null   float64       \n",
            " 33  rougher.state.floatbank10_f_air             5290 non-null   float64       \n",
            " 34  rougher.state.floatbank10_f_level           5290 non-null   float64       \n",
            " 35  secondary_cleaner.state.floatbank2_a_air    5290 non-null   float64       \n",
            " 36  secondary_cleaner.state.floatbank2_a_level  5290 non-null   float64       \n",
            " 37  secondary_cleaner.state.floatbank2_b_air    5290 non-null   float64       \n",
            " 38  secondary_cleaner.state.floatbank2_b_level  5290 non-null   float64       \n",
            " 39  secondary_cleaner.state.floatbank3_a_air    5290 non-null   float64       \n",
            " 40  secondary_cleaner.state.floatbank3_a_level  5290 non-null   float64       \n",
            " 41  secondary_cleaner.state.floatbank3_b_air    5290 non-null   float64       \n",
            " 42  secondary_cleaner.state.floatbank3_b_level  5290 non-null   float64       \n",
            " 43  secondary_cleaner.state.floatbank4_a_air    5290 non-null   float64       \n",
            " 44  secondary_cleaner.state.floatbank4_a_level  5290 non-null   float64       \n",
            " 45  secondary_cleaner.state.floatbank4_b_air    5290 non-null   float64       \n",
            " 46  secondary_cleaner.state.floatbank4_b_level  5290 non-null   float64       \n",
            " 47  secondary_cleaner.state.floatbank5_a_air    5290 non-null   float64       \n",
            " 48  secondary_cleaner.state.floatbank5_a_level  5290 non-null   float64       \n",
            " 49  secondary_cleaner.state.floatbank5_b_air    5290 non-null   float64       \n",
            " 50  secondary_cleaner.state.floatbank5_b_level  5290 non-null   float64       \n",
            " 51  secondary_cleaner.state.floatbank6_a_air    5290 non-null   float64       \n",
            " 52  secondary_cleaner.state.floatbank6_a_level  5290 non-null   float64       \n",
            "dtypes: datetime64[ns](1), float64(52)\n",
            "memory usage: 2.1 MB\n"
          ]
        }
      ],
      "source": [
        "df_test.info()"
      ]
    },
    {
      "cell_type": "code",
      "execution_count": null,
      "metadata": {
        "id": "agw-1ATw8Stt",
        "outputId": "4335331e-b416-4702-b109-d7faf129497d"
      },
      "outputs": [
        {
          "name": "stdout",
          "output_type": "stream",
          "text": [
            "<class 'pandas.core.frame.DataFrame'>\n",
            "RangeIndex: 19439 entries, 0 to 19438\n",
            "Data columns (total 87 columns):\n",
            " #   Column                                              Non-Null Count  Dtype         \n",
            "---  ------                                              --------------  -----         \n",
            " 0   date                                                19439 non-null  datetime64[ns]\n",
            " 1   final.output.concentrate_ag                         19439 non-null  float64       \n",
            " 2   final.output.concentrate_pb                         19439 non-null  float64       \n",
            " 3   final.output.concentrate_sol                        19439 non-null  float64       \n",
            " 4   final.output.concentrate_au                         19439 non-null  float64       \n",
            " 5   final.output.recovery                               19439 non-null  float64       \n",
            " 6   final.output.tail_ag                                19439 non-null  float64       \n",
            " 7   final.output.tail_pb                                19439 non-null  float64       \n",
            " 8   final.output.tail_sol                               19439 non-null  float64       \n",
            " 9   final.output.tail_au                                19439 non-null  float64       \n",
            " 10  primary_cleaner.input.sulfate                       19439 non-null  float64       \n",
            " 11  primary_cleaner.input.depressant                    19439 non-null  float64       \n",
            " 12  primary_cleaner.input.feed_size                     19439 non-null  float64       \n",
            " 13  primary_cleaner.input.xanthate                      19439 non-null  float64       \n",
            " 14  primary_cleaner.output.concentrate_ag               19439 non-null  float64       \n",
            " 15  primary_cleaner.output.concentrate_pb               19439 non-null  float64       \n",
            " 16  primary_cleaner.output.concentrate_sol              19439 non-null  float64       \n",
            " 17  primary_cleaner.output.concentrate_au               19439 non-null  float64       \n",
            " 18  primary_cleaner.output.tail_ag                      19439 non-null  float64       \n",
            " 19  primary_cleaner.output.tail_pb                      19439 non-null  float64       \n",
            " 20  primary_cleaner.output.tail_sol                     19439 non-null  float64       \n",
            " 21  primary_cleaner.output.tail_au                      19439 non-null  float64       \n",
            " 22  primary_cleaner.state.floatbank8_a_air              19439 non-null  float64       \n",
            " 23  primary_cleaner.state.floatbank8_a_level            19439 non-null  float64       \n",
            " 24  primary_cleaner.state.floatbank8_b_air              19439 non-null  float64       \n",
            " 25  primary_cleaner.state.floatbank8_b_level            19439 non-null  float64       \n",
            " 26  primary_cleaner.state.floatbank8_c_air              19439 non-null  float64       \n",
            " 27  primary_cleaner.state.floatbank8_c_level            19439 non-null  float64       \n",
            " 28  primary_cleaner.state.floatbank8_d_air              19439 non-null  float64       \n",
            " 29  primary_cleaner.state.floatbank8_d_level            19439 non-null  float64       \n",
            " 30  rougher.calculation.sulfate_to_au_concentrate       19439 non-null  float64       \n",
            " 31  rougher.calculation.floatbank10_sulfate_to_au_feed  19439 non-null  float64       \n",
            " 32  rougher.calculation.floatbank11_sulfate_to_au_feed  19439 non-null  float64       \n",
            " 33  rougher.calculation.au_pb_ratio                     19439 non-null  float64       \n",
            " 34  rougher.input.feed_ag                               19439 non-null  float64       \n",
            " 35  rougher.input.feed_pb                               19439 non-null  float64       \n",
            " 36  rougher.input.feed_rate                             19439 non-null  float64       \n",
            " 37  rougher.input.feed_size                             19439 non-null  float64       \n",
            " 38  rougher.input.feed_sol                              19439 non-null  float64       \n",
            " 39  rougher.input.feed_au                               19439 non-null  float64       \n",
            " 40  rougher.input.floatbank10_sulfate                   19439 non-null  float64       \n",
            " 41  rougher.input.floatbank10_xanthate                  19439 non-null  float64       \n",
            " 42  rougher.input.floatbank11_sulfate                   19439 non-null  float64       \n",
            " 43  rougher.input.floatbank11_xanthate                  19439 non-null  float64       \n",
            " 44  rougher.output.concentrate_ag                       19439 non-null  float64       \n",
            " 45  rougher.output.concentrate_pb                       19439 non-null  float64       \n",
            " 46  rougher.output.concentrate_sol                      19439 non-null  float64       \n",
            " 47  rougher.output.concentrate_au                       19439 non-null  float64       \n",
            " 48  rougher.output.recovery                             19439 non-null  float64       \n",
            " 49  rougher.output.tail_ag                              19439 non-null  float64       \n",
            " 50  rougher.output.tail_pb                              19439 non-null  float64       \n",
            " 51  rougher.output.tail_sol                             19439 non-null  float64       \n",
            " 52  rougher.output.tail_au                              19439 non-null  float64       \n",
            " 53  rougher.state.floatbank10_a_air                     19439 non-null  float64       \n",
            " 54  rougher.state.floatbank10_a_level                   19439 non-null  float64       \n",
            " 55  rougher.state.floatbank10_b_air                     19439 non-null  float64       \n",
            " 56  rougher.state.floatbank10_b_level                   19439 non-null  float64       \n",
            " 57  rougher.state.floatbank10_c_air                     19439 non-null  float64       \n",
            " 58  rougher.state.floatbank10_c_level                   19439 non-null  float64       \n",
            " 59  rougher.state.floatbank10_d_air                     19439 non-null  float64       \n",
            " 60  rougher.state.floatbank10_d_level                   19439 non-null  float64       \n",
            " 61  rougher.state.floatbank10_e_air                     19439 non-null  float64       \n",
            " 62  rougher.state.floatbank10_e_level                   19439 non-null  float64       \n",
            " 63  rougher.state.floatbank10_f_air                     19439 non-null  float64       \n",
            " 64  rougher.state.floatbank10_f_level                   19439 non-null  float64       \n",
            " 65  secondary_cleaner.output.tail_ag                    19439 non-null  float64       \n",
            " 66  secondary_cleaner.output.tail_pb                    19439 non-null  float64       \n",
            " 67  secondary_cleaner.output.tail_sol                   19439 non-null  float64       \n",
            " 68  secondary_cleaner.output.tail_au                    19439 non-null  float64       \n",
            " 69  secondary_cleaner.state.floatbank2_a_air            19439 non-null  float64       \n",
            " 70  secondary_cleaner.state.floatbank2_a_level          19439 non-null  float64       \n",
            " 71  secondary_cleaner.state.floatbank2_b_air            19439 non-null  float64       \n",
            " 72  secondary_cleaner.state.floatbank2_b_level          19439 non-null  float64       \n",
            " 73  secondary_cleaner.state.floatbank3_a_air            19439 non-null  float64       \n",
            " 74  secondary_cleaner.state.floatbank3_a_level          19439 non-null  float64       \n",
            " 75  secondary_cleaner.state.floatbank3_b_air            19439 non-null  float64       \n",
            " 76  secondary_cleaner.state.floatbank3_b_level          19439 non-null  float64       \n",
            " 77  secondary_cleaner.state.floatbank4_a_air            19439 non-null  float64       \n",
            " 78  secondary_cleaner.state.floatbank4_a_level          19439 non-null  float64       \n",
            " 79  secondary_cleaner.state.floatbank4_b_air            19439 non-null  float64       \n",
            " 80  secondary_cleaner.state.floatbank4_b_level          19439 non-null  float64       \n",
            " 81  secondary_cleaner.state.floatbank5_a_air            19439 non-null  float64       \n",
            " 82  secondary_cleaner.state.floatbank5_a_level          19439 non-null  float64       \n",
            " 83  secondary_cleaner.state.floatbank5_b_air            19439 non-null  float64       \n",
            " 84  secondary_cleaner.state.floatbank5_b_level          19439 non-null  float64       \n",
            " 85  secondary_cleaner.state.floatbank6_a_air            19439 non-null  float64       \n",
            " 86  secondary_cleaner.state.floatbank6_a_level          19439 non-null  float64       \n",
            "dtypes: datetime64[ns](1), float64(86)\n",
            "memory usage: 12.9 MB\n"
          ]
        }
      ],
      "source": [
        "df_full.info()"
      ]
    },
    {
      "cell_type": "markdown",
      "metadata": {
        "id": "KHantj9E8Stu"
      },
      "source": [
        "Вывод: Мы прочитали данные из каждого датасета, вывели основную информацию, посчитали пропуски, заполнили их, в данных были неверные форматы столбца ДАТА, изменили его на формат даты и времени."
      ]
    },
    {
      "cell_type": "markdown",
      "metadata": {
        "id": "_DaKDSXa8Stu"
      },
      "source": [
        "### Расчитаем эффективность обогащения золота для признака  rougher.output.recovery\n",
        "\n",
        "C — доля золота в концентрате после флотации/очистки;\n",
        "\n",
        "\n",
        "F — доля золота в сырье/концентрате до флотации/очистки;\n",
        "\n",
        "\n",
        "T — доля золота в отвальных хвостах после флотации/очистки.\n",
        "\n",
        "Исходя из данных:\n",
        "\n",
        "с - rougher.output.concentrate_au\n",
        "\n",
        "f - rougher.input.feed_au\n",
        "\n",
        "t - rougher.output.tail_au"
      ]
    },
    {
      "cell_type": "code",
      "execution_count": null,
      "metadata": {
        "id": "P0qu9Jri8Stu"
      },
      "outputs": [],
      "source": [
        "c= df_train['rougher.output.concentrate_au']\n",
        "f = df_train['rougher.input.feed_au']\n",
        "t = df_train['rougher.output.tail_au']\n",
        "\n",
        "recovery = ((c*(f-t))/(f*(c-t)))*100"
      ]
    },
    {
      "cell_type": "markdown",
      "metadata": {
        "id": "eKycyCJr8Stu"
      },
      "source": [
        "### Найдем MAE между нашими расчётами и значением признака."
      ]
    },
    {
      "cell_type": "code",
      "execution_count": null,
      "metadata": {
        "id": "Ex6KvtSD8Stv",
        "outputId": "563af6f8-2203-459a-d48b-d93e8dd4d461"
      },
      "outputs": [
        {
          "name": "stdout",
          "output_type": "stream",
          "text": [
            "MAE =  9.73512347450521e-15\n"
          ]
        }
      ],
      "source": [
        "print('MAE = ', mean_absolute_error(df_train['rougher.output.recovery'], recovery))"
      ]
    },
    {
      "cell_type": "markdown",
      "metadata": {
        "id": "OgT_5pQj8Stv"
      },
      "source": [
        "MAE = 9,73 - средняя абсолютная ошика довольно таки низка, делаем вывод -расчеты эффективности обогащения золота верны"
      ]
    },
    {
      "cell_type": "markdown",
      "metadata": {
        "id": "PqPmFXHg8Stv"
      },
      "source": [
        "### Проанализируем признаки, недоступные в тестовой выборке."
      ]
    },
    {
      "cell_type": "code",
      "execution_count": null,
      "metadata": {
        "id": "7goCV3U98Stv",
        "outputId": "c2088d8e-8a82-41df-b8f0-64e7e302309f"
      },
      "outputs": [
        {
          "data": {
            "text/plain": [
              "{'final.output.concentrate_ag',\n",
              " 'final.output.concentrate_au',\n",
              " 'final.output.concentrate_pb',\n",
              " 'final.output.concentrate_sol',\n",
              " 'final.output.recovery',\n",
              " 'final.output.tail_ag',\n",
              " 'final.output.tail_au',\n",
              " 'final.output.tail_pb',\n",
              " 'final.output.tail_sol',\n",
              " 'primary_cleaner.output.concentrate_ag',\n",
              " 'primary_cleaner.output.concentrate_au',\n",
              " 'primary_cleaner.output.concentrate_pb',\n",
              " 'primary_cleaner.output.concentrate_sol',\n",
              " 'primary_cleaner.output.tail_ag',\n",
              " 'primary_cleaner.output.tail_au',\n",
              " 'primary_cleaner.output.tail_pb',\n",
              " 'primary_cleaner.output.tail_sol',\n",
              " 'rougher.calculation.au_pb_ratio',\n",
              " 'rougher.calculation.floatbank10_sulfate_to_au_feed',\n",
              " 'rougher.calculation.floatbank11_sulfate_to_au_feed',\n",
              " 'rougher.calculation.sulfate_to_au_concentrate',\n",
              " 'rougher.output.concentrate_ag',\n",
              " 'rougher.output.concentrate_au',\n",
              " 'rougher.output.concentrate_pb',\n",
              " 'rougher.output.concentrate_sol',\n",
              " 'rougher.output.recovery',\n",
              " 'rougher.output.tail_ag',\n",
              " 'rougher.output.tail_au',\n",
              " 'rougher.output.tail_pb',\n",
              " 'rougher.output.tail_sol',\n",
              " 'secondary_cleaner.output.tail_ag',\n",
              " 'secondary_cleaner.output.tail_au',\n",
              " 'secondary_cleaner.output.tail_pb',\n",
              " 'secondary_cleaner.output.tail_sol'}"
            ]
          },
          "execution_count": 30,
          "metadata": {},
          "output_type": "execute_result"
        }
      ],
      "source": [
        "miss = set(df_train.columns) - set(df_test.columns)\n",
        "miss"
      ]
    },
    {
      "cell_type": "code",
      "execution_count": null,
      "metadata": {
        "id": "AXn2jKyJ8Stv",
        "outputId": "afc7171a-934a-4ca5-acf4-00ce428ca1be"
      },
      "outputs": [
        {
          "name": "stdout",
          "output_type": "stream",
          "text": [
            "34\n"
          ]
        }
      ],
      "source": [
        "print(len(miss)) # считаем количество отсутствующих признаков\n"
      ]
    },
    {
      "cell_type": "markdown",
      "metadata": {
        "id": "lMT3vJ2C8Stz"
      },
      "source": [
        " В тестовой выборке отсутствуют целевые признаки 'rougher.output.recovery' и final.output.recovery, которые нам необходимы для итоговых вычислений. Так же отсутствуют значения типов этапа и расчетные характеристики, связано может бытьс тем, как в условии и написано, что некоторые параметры замеряются или расчитываются значительно позже"
      ]
    },
    {
      "cell_type": "markdown",
      "metadata": {
        "id": "qY2ldGVa8Stz"
      },
      "source": [
        "Добавим в тестовую выборку отсутстущие необходимые признаки 'rougher.output.recovery' и final.output.recovery. Добавлять будем из полной выборке по столбцу date, в условии написано, что  соседние по времени параметры часто похожи"
      ]
    },
    {
      "cell_type": "code",
      "execution_count": null,
      "metadata": {
        "id": "X2ekWaGu8Stz"
      },
      "outputs": [],
      "source": [
        "df_test = df_test.merge(df_full.loc[:, ['date','rougher.output.recovery', 'final.output.recovery']], on = 'date')"
      ]
    },
    {
      "cell_type": "code",
      "execution_count": null,
      "metadata": {
        "id": "_pomuW-o8Stz"
      },
      "outputs": [],
      "source": [
        "df_train = df_train.drop('date', axis =1)\n",
        "df_test = df_test.drop('date', axis =1)"
      ]
    },
    {
      "cell_type": "code",
      "execution_count": null,
      "metadata": {
        "id": "2FDThbaw8St0",
        "outputId": "387d9364-96d7-46ba-c310-deedc970daeb"
      },
      "outputs": [
        {
          "name": "stdout",
          "output_type": "stream",
          "text": [
            "(14149, 86)\n",
            "(5290, 54)\n"
          ]
        }
      ],
      "source": [
        "print(df_train.shape)\n",
        "print(df_test.shape)"
      ]
    },
    {
      "cell_type": "markdown",
      "metadata": {
        "id": "LgrrmusX8St0"
      },
      "source": [
        "### Вывод:\n",
        "Мы выгрузили данные из 3-х выборок, проверили на пропуски, заполнили методом ffil, заполнение происходит ближайшими значениями. Изменили формат данных времени с object на datetime, остальные столцы имеют допустимый формат данных.\n",
        "\n",
        "Посчитали эффективность обогащения золота и сравнили расчет со средней абсолютной ошибкой (МАЕ), который оказался довольно низким, что свидетельсвует о правильности наших расчетов.\n",
        "\n",
        "Добавили в тестовую выборку недостающие для расчетов признаки, 'rougher.output.recovery', 'final.output.recovery'.\n",
        "\n",
        "Удалили столбец дата из обучающей и тестовой выборок, т.к. он не информативен"
      ]
    },
    {
      "cell_type": "markdown",
      "metadata": {
        "id": "n6iwT3WK8St0"
      },
      "source": [
        "## Анализ данных"
      ]
    },
    {
      "cell_type": "markdown",
      "metadata": {
        "id": "47HHji6p8St1"
      },
      "source": [
        "### Посмотрим, как меняется концентрация металлов (Au, Ag, Pb) на различных этапах очистки."
      ]
    },
    {
      "cell_type": "markdown",
      "metadata": {
        "id": "d2DYoY-s8St1"
      },
      "source": [
        "Построим гистограммы для наглядности, напишем функцию для облегчения построения графиков."
      ]
    },
    {
      "cell_type": "code",
      "execution_count": null,
      "metadata": {
        "id": "yAfC9zpM8St1",
        "outputId": "bd6933f9-1a9b-4f37-8f4b-87253c0e8417"
      },
      "outputs": [
        {
          "data": {
            "image/png": "[encoded data removed]",
            "text/plain": [
              "<Figure size 1152x1368 with 3 Axes>"
            ]
          },
          "metadata": {
            "needs_background": "light"
          },
          "output_type": "display_data"
        }
      ],
      "source": [
        "posit = 0\n",
        "plt.figure(figsize = (16,19))\n",
        "plt.subplots_adjust(top = 0.95, wspace = .05, hspace = .2)\n",
        "plt.suptitle('График концентрации металлов на различных этапах очистки')\n",
        "for metal in ['au', 'ag', 'pb']:\n",
        "    posit += 1\n",
        "    plt.subplot(3, 1, posit)\n",
        "    plt.title(f'График концентрации металла {metal} на различных этапах очистки')\n",
        "    sns.histplot(df_train[f'rougher.input.feed_{metal}'], label = 'Сырье', color ='g')\n",
        "    sns.histplot(df_train[f'rougher.output.concentrate_{metal}'], label = 'Концентрация после флотации', color ='b')\n",
        "    sns.histplot(df_train[f'primary_cleaner.output.concentrate_{metal}'],\n",
        "                 label = 'Концентрация после первичной очистки', color ='y')\n",
        "    sns.histplot(df_train[f'final.output.concentrate_{metal}'], label = 'Финальная концентрация', color ='r')\n",
        "    plt.xlabel('Концентрация металла')\n",
        "    plt.ylabel('Кол-во наблюдений')\n",
        "    plt.legend()\n",
        "plt.show()\n",
        "\n"
      ]
    },
    {
      "cell_type": "markdown",
      "metadata": {
        "id": "06TyRegS8St1"
      },
      "source": [
        "Для золота на каждом этапе обработки концентрация металла увеличивается.\n",
        "\n",
        "Для серебра: концентрация увеличивается только после флотации, после первичной и финально обработки концентрация металла падает.\n",
        "\n",
        "Для свинца конентрация металла увеличивается до первичной обработки, после финальной обработки металла, концентрация снижается"
      ]
    },
    {
      "cell_type": "markdown",
      "metadata": {
        "id": "BHxdUtsH8St1"
      },
      "source": [
        "Присутствуют аномальные значения(выбросы) около нуля, ставим xlim от 1, чтобы выбросы не попали"
      ]
    },
    {
      "cell_type": "markdown",
      "metadata": {
        "id": "8sUux63R8St2"
      },
      "source": [
        "### Сравним распределения размеров гранул сырья на обучающей и тестовой выборках."
      ]
    },
    {
      "cell_type": "code",
      "execution_count": null,
      "metadata": {
        "id": "4kXxPqcH8St2",
        "outputId": "90a84313-0331-4a14-c2b0-a147666a699d"
      },
      "outputs": [
        {
          "data": {
            "image/png": "[encoded data removed]",
            "text/plain": [
              "<Figure size 1080x1800 with 2 Axes>"
            ]
          },
          "metadata": {
            "needs_background": "light"
          },
          "output_type": "display_data"
        }
      ],
      "source": [
        "position = 0\n",
        "plt.figure(figsize = (15,25))\n",
        "plt.subplots_adjust(top = 0.95, wspace = .3, hspace = .2)\n",
        "plt.suptitle('Распределение размеров гранул сырья на разных выборках')\n",
        "for stage in ['rougher', 'primary_cleaner']:\n",
        "    position +=1\n",
        "    plt.subplot(3, 1, position)\n",
        "    plt.title(f'Распределение гранул для этапа {stage}')\n",
        "    sns.kdeplot(df_train[f'{stage}.input.feed_size'], label = 'Обучающая выборка', color = 'g', alpha = 0.5)\n",
        "    sns.kdeplot(df_test[f'{stage}.input.feed_size'], label = 'Тестовая выборка', color = 'b', alpha = 0.5)\n",
        "    plt.xlabel('Размер гранул')\n",
        "    plt.ylabel('Кол-во наблюдений')\n",
        "    plt.legend()\n",
        "plt.show()\n"
      ]
    },
    {
      "cell_type": "markdown",
      "metadata": {
        "id": "vCceNhTr8St2"
      },
      "source": [
        "На этапе флотации размер гранул сырья больше, чем после первичной обработки. Распределение гранул для разных выборок практически не отличается, на графике очень интересное явление, обучающая выборка - \"тень\" тестовой."
      ]
    },
    {
      "cell_type": "markdown",
      "metadata": {
        "id": "D6S8Ho3j8St3"
      },
      "source": [
        "### Исследуем суммарную концентрацию всех веществ на разных стадиях: в сырье, в черновом и финальном концентратах."
      ]
    },
    {
      "cell_type": "code",
      "execution_count": null,
      "metadata": {
        "id": "oZMxPB6G8St3"
      },
      "outputs": [],
      "source": [
        "sum_concentrate_rougher_input = 0\n",
        "sum_concentrate_rougher_output = 0\n",
        "sum_concentrate_final = 0\n",
        "for metal in ['au', 'ag', 'pb', 'sol']:\n",
        "    sum_concentrate_rougher_input += df_train[f'rougher.input.feed_{metal}']\n",
        "    sum_concentrate_rougher_output += df_train[f'rougher.output.concentrate_{metal}']\n",
        "    sum_concentrate_final += df_train[f'final.output.concentrate_{metal}']\n",
        ""
      ]
    },
    {
      "cell_type": "code",
      "execution_count": null,
      "metadata": {
        "id": "Lkb85zbH8St3",
        "outputId": "2f424340-3ac6-4e74-c7eb-44c18c4e1a54"
      },
      "outputs": [
        {
          "data": {
            "image/png": "[encoded data removed]",
            "text/plain": [
              "<Figure size 1080x1080 with 1 Axes>"
            ]
          },
          "metadata": {
            "needs_background": "light"
          },
          "output_type": "display_data"
        }
      ],
      "source": [
        "plt.figure(figsize = (15,15))\n",
        "plt.title('Суммарная концентрация всех веществ на разных стадиях')\n",
        "sns.histplot(sum_concentrate_rougher_input, color = 'b', label = 'Сырье')\n",
        "sns.histplot(sum_concentrate_rougher_output, color = 'g', label = 'После флотации')\n",
        "sns.histplot(sum_concentrate_final, color = 'r', label = 'Финальный концентрат')\n",
        "plt.xlabel('Концентрация')\n",
        "plt.ylabel('Кол-во наблюдений')\n",
        "plt.legend()\n",
        "plt.show()"
      ]
    },
    {
      "cell_type": "markdown",
      "metadata": {
        "id": "ecehGrbs8St3"
      },
      "source": [
        "Суммарная концентрация вещестсв увеличивается к финальной обработке - естественно, для этого и проводят обработку.\n",
        "\n",
        "Во всех этапах обработки металлов присутствуют аномальные значения(около нуля), нам необходимо  удалить их в целевых признаках для дальнейшего беспроблемного обучения модели"
      ]
    },
    {
      "cell_type": "code",
      "execution_count": null,
      "metadata": {
        "id": "2Mi-ZXKi8St4"
      },
      "outputs": [],
      "source": [
        "df_train = df_train[(df_train['rougher.output.concentrate_ag'] != 0) &\n",
        "                    (df_train['rougher.output.concentrate_au'] != 0) &\n",
        "                    (df_train['rougher.output.concentrate_pb'] != 0) &\n",
        "                    (df_train['rougher.output.concentrate_sol'] != 0)]\n",
        "\n",
        "df_train = df_train[(df_train['final.output.concentrate_au'] != 0) &\n",
        "                    (df_train['final.output.concentrate_ag'] != 0) &\n",
        "                    (df_train['final.output.concentrate_pb'] != 0) &\n",
        "                    (df_train['final.output.concentrate_sol'] !=0)]\n",
        "\n",
        "df_full = df_full[(df_full['rougher.output.concentrate_ag'] != 0) &\n",
        "                    (df_full['rougher.output.concentrate_au'] != 0) &\n",
        "                    (df_full['rougher.output.concentrate_pb'] != 0) &\n",
        "                    (df_full['rougher.output.concentrate_sol'] != 0)]\n",
        "\n",
        "df_full = df_full[(df_full['final.output.concentrate_au'] != 0) &\n",
        "                    (df_full['final.output.concentrate_ag'] != 0) &\n",
        "                    (df_full['final.output.concentrate_pb'] != 0) &\n",
        "                    (df_full['final.output.concentrate_sol'] !=0)]"
      ]
    },
    {
      "cell_type": "markdown",
      "metadata": {
        "id": "-5-xvQKv8St4"
      },
      "source": [
        "###  Вывод"
      ]
    },
    {
      "cell_type": "markdown",
      "metadata": {
        "id": "6hO5uuk08St5"
      },
      "source": [
        "Мы проверили как меняется концентрация металлов на разных этапах обработки, выявили, доля какого металла сохраняетя больше остальных после обработки, посмотрели, как меняется размер гранул сырья после разных обработок, сравнили их на обучающей и тестовой выборках, распределения изменения гранул на выборках не отличается, значит наши расчеты верны, и модель должна будет хорошо обучиться. Исследовали как меняется суммарная концентрация разных металлов. Золото с каждым этапом обработки сохраняет свою долю лучше всех."
      ]
    },
    {
      "cell_type": "markdown",
      "metadata": {
        "id": "wm995d_a8St5"
      },
      "source": [
        "## Модель"
      ]
    },
    {
      "cell_type": "markdown",
      "metadata": {
        "id": "jRXkZmF58St5"
      },
      "source": [
        "### Удалим отсутствующие в тестовой выборке признаки из обучающей"
      ]
    },
    {
      "cell_type": "code",
      "execution_count": null,
      "metadata": {
        "id": "qpG4Xr-68St5",
        "outputId": "00b5dc6a-5806-4195-db7e-f153751df743"
      },
      "outputs": [
        {
          "data": {
            "text/plain": [
              "{'final.output.concentrate_ag',\n",
              " 'final.output.concentrate_au',\n",
              " 'final.output.concentrate_pb',\n",
              " 'final.output.concentrate_sol',\n",
              " 'final.output.tail_ag',\n",
              " 'final.output.tail_au',\n",
              " 'final.output.tail_pb',\n",
              " 'final.output.tail_sol',\n",
              " 'primary_cleaner.output.concentrate_ag',\n",
              " 'primary_cleaner.output.concentrate_au',\n",
              " 'primary_cleaner.output.concentrate_pb',\n",
              " 'primary_cleaner.output.concentrate_sol',\n",
              " 'primary_cleaner.output.tail_ag',\n",
              " 'primary_cleaner.output.tail_au',\n",
              " 'primary_cleaner.output.tail_pb',\n",
              " 'primary_cleaner.output.tail_sol',\n",
              " 'rougher.calculation.au_pb_ratio',\n",
              " 'rougher.calculation.floatbank10_sulfate_to_au_feed',\n",
              " 'rougher.calculation.floatbank11_sulfate_to_au_feed',\n",
              " 'rougher.calculation.sulfate_to_au_concentrate',\n",
              " 'rougher.output.concentrate_ag',\n",
              " 'rougher.output.concentrate_au',\n",
              " 'rougher.output.concentrate_pb',\n",
              " 'rougher.output.concentrate_sol',\n",
              " 'rougher.output.tail_ag',\n",
              " 'rougher.output.tail_au',\n",
              " 'rougher.output.tail_pb',\n",
              " 'rougher.output.tail_sol',\n",
              " 'secondary_cleaner.output.tail_ag',\n",
              " 'secondary_cleaner.output.tail_au',\n",
              " 'secondary_cleaner.output.tail_pb',\n",
              " 'secondary_cleaner.output.tail_sol'}"
            ]
          },
          "execution_count": 40,
          "metadata": {},
          "output_type": "execute_result"
        }
      ],
      "source": [
        "missed_test_columns = miss - set(['rougher.output.recovery', 'final.output.recovery'])\n",
        "missed_test_columns"
      ]
    },
    {
      "cell_type": "code",
      "execution_count": null,
      "metadata": {
        "id": "olLAGiXu8St5"
      },
      "outputs": [],
      "source": [
        "df_train = df_train.drop(missed_test_columns, axis = 1)"
      ]
    },
    {
      "cell_type": "code",
      "execution_count": null,
      "metadata": {
        "id": "1XTUXFyI8St6",
        "outputId": "72fe892b-b51a-4eb6-e07f-3a6f93cf967f"
      },
      "outputs": [
        {
          "name": "stdout",
          "output_type": "stream",
          "text": [
            "<class 'pandas.core.frame.DataFrame'>\n",
            "Int64Index: 13792 entries, 0 to 14148\n",
            "Data columns (total 54 columns):\n",
            " #   Column                                      Non-Null Count  Dtype  \n",
            "---  ------                                      --------------  -----  \n",
            " 0   final.output.recovery                       13792 non-null  float64\n",
            " 1   primary_cleaner.input.sulfate               13792 non-null  float64\n",
            " 2   primary_cleaner.input.depressant            13792 non-null  float64\n",
            " 3   primary_cleaner.input.feed_size             13792 non-null  float64\n",
            " 4   primary_cleaner.input.xanthate              13792 non-null  float64\n",
            " 5   primary_cleaner.state.floatbank8_a_air      13792 non-null  float64\n",
            " 6   primary_cleaner.state.floatbank8_a_level    13792 non-null  float64\n",
            " 7   primary_cleaner.state.floatbank8_b_air      13792 non-null  float64\n",
            " 8   primary_cleaner.state.floatbank8_b_level    13792 non-null  float64\n",
            " 9   primary_cleaner.state.floatbank8_c_air      13792 non-null  float64\n",
            " 10  primary_cleaner.state.floatbank8_c_level    13792 non-null  float64\n",
            " 11  primary_cleaner.state.floatbank8_d_air      13792 non-null  float64\n",
            " 12  primary_cleaner.state.floatbank8_d_level    13792 non-null  float64\n",
            " 13  rougher.input.feed_ag                       13792 non-null  float64\n",
            " 14  rougher.input.feed_pb                       13792 non-null  float64\n",
            " 15  rougher.input.feed_rate                     13792 non-null  float64\n",
            " 16  rougher.input.feed_size                     13792 non-null  float64\n",
            " 17  rougher.input.feed_sol                      13792 non-null  float64\n",
            " 18  rougher.input.feed_au                       13792 non-null  float64\n",
            " 19  rougher.input.floatbank10_sulfate           13792 non-null  float64\n",
            " 20  rougher.input.floatbank10_xanthate          13792 non-null  float64\n",
            " 21  rougher.input.floatbank11_sulfate           13792 non-null  float64\n",
            " 22  rougher.input.floatbank11_xanthate          13792 non-null  float64\n",
            " 23  rougher.output.recovery                     13792 non-null  float64\n",
            " 24  rougher.state.floatbank10_a_air             13792 non-null  float64\n",
            " 25  rougher.state.floatbank10_a_level           13792 non-null  float64\n",
            " 26  rougher.state.floatbank10_b_air             13792 non-null  float64\n",
            " 27  rougher.state.floatbank10_b_level           13792 non-null  float64\n",
            " 28  rougher.state.floatbank10_c_air             13792 non-null  float64\n",
            " 29  rougher.state.floatbank10_c_level           13792 non-null  float64\n",
            " 30  rougher.state.floatbank10_d_air             13792 non-null  float64\n",
            " 31  rougher.state.floatbank10_d_level           13792 non-null  float64\n",
            " 32  rougher.state.floatbank10_e_air             13792 non-null  float64\n",
            " 33  rougher.state.floatbank10_e_level           13792 non-null  float64\n",
            " 34  rougher.state.floatbank10_f_air             13792 non-null  float64\n",
            " 35  rougher.state.floatbank10_f_level           13792 non-null  float64\n",
            " 36  secondary_cleaner.state.floatbank2_a_air    13792 non-null  float64\n",
            " 37  secondary_cleaner.state.floatbank2_a_level  13792 non-null  float64\n",
            " 38  secondary_cleaner.state.floatbank2_b_air    13792 non-null  float64\n",
            " 39  secondary_cleaner.state.floatbank2_b_level  13792 non-null  float64\n",
            " 40  secondary_cleaner.state.floatbank3_a_air    13792 non-null  float64\n",
            " 41  secondary_cleaner.state.floatbank3_a_level  13792 non-null  float64\n",
            " 42  secondary_cleaner.state.floatbank3_b_air    13792 non-null  float64\n",
            " 43  secondary_cleaner.state.floatbank3_b_level  13792 non-null  float64\n",
            " 44  secondary_cleaner.state.floatbank4_a_air    13792 non-null  float64\n",
            " 45  secondary_cleaner.state.floatbank4_a_level  13792 non-null  float64\n",
            " 46  secondary_cleaner.state.floatbank4_b_air    13792 non-null  float64\n",
            " 47  secondary_cleaner.state.floatbank4_b_level  13792 non-null  float64\n",
            " 48  secondary_cleaner.state.floatbank5_a_air    13792 non-null  float64\n",
            " 49  secondary_cleaner.state.floatbank5_a_level  13792 non-null  float64\n",
            " 50  secondary_cleaner.state.floatbank5_b_air    13792 non-null  float64\n",
            " 51  secondary_cleaner.state.floatbank5_b_level  13792 non-null  float64\n",
            " 52  secondary_cleaner.state.floatbank6_a_air    13792 non-null  float64\n",
            " 53  secondary_cleaner.state.floatbank6_a_level  13792 non-null  float64\n",
            "dtypes: float64(54)\n",
            "memory usage: 5.8 MB\n"
          ]
        }
      ],
      "source": [
        "df_train.info()"
      ]
    },
    {
      "cell_type": "markdown",
      "metadata": {
        "id": "1va3VMd48St6"
      },
      "source": [
        "### Напишем функцию для вычисления итоговой sMAPE.\n",
        "\n",
        "final_Smape = 25 x Smape(rougher) + 75 x Smape(final)"
      ]
    },
    {
      "cell_type": "code",
      "execution_count": null,
      "metadata": {
        "id": "kHvf5BQ48St6"
      },
      "outputs": [],
      "source": [
        "def get_smape(target, predict):\n",
        "    smape = (1/len(target))*np.sum((np.abs(target - predict))/((np.abs(target)+ np.abs(predict))/2))*100\n",
        "    return smape"
      ]
    },
    {
      "cell_type": "code",
      "execution_count": null,
      "metadata": {
        "id": "AK_J-qCE8St6"
      },
      "outputs": [],
      "source": [
        "smape_score = make_scorer(get_smape, greater_is_better = False)"
      ]
    },
    {
      "cell_type": "code",
      "execution_count": null,
      "metadata": {
        "id": "mNSxS1rz8St6"
      },
      "outputs": [],
      "source": [
        "def get_final_smape(rougher, final):\n",
        "    final_smape = .25*rougher + .75*final\n",
        "    return final_smape"
      ]
    },
    {
      "cell_type": "markdown",
      "metadata": {
        "id": "-9CLBRQM8St7"
      },
      "source": [
        "### Построим и обучим разные модели и оценим их качество кросс-валидацией. Выберим лучшую модель и проверьте её на тестовой выборке."
      ]
    },
    {
      "cell_type": "markdown",
      "metadata": {
        "id": "coW9Dh_r8St7"
      },
      "source": [
        "#### Введем целевые признаки для будущих моделей\n"
      ]
    },
    {
      "cell_type": "code",
      "execution_count": null,
      "metadata": {
        "id": "OLPvNqwM8St8"
      },
      "outputs": [],
      "source": [
        "features_train = df_train.drop(['rougher.output.recovery', 'final.output.recovery'], axis =1)\n",
        "target_rough_train = df_train['rougher.output.recovery']\n",
        "target_final_train = df_train['final.output.recovery']"
      ]
    },
    {
      "cell_type": "markdown",
      "metadata": {
        "id": "SqwomrtE8St8"
      },
      "source": [
        "#### Линейная регрессия"
      ]
    },
    {
      "cell_type": "code",
      "execution_count": null,
      "metadata": {
        "id": "OcOPoj168St8",
        "outputId": "f65a6c09-2863-4342-cf8b-0ce544d10402"
      },
      "outputs": [
        {
          "name": "stdout",
          "output_type": "stream",
          "text": [
            "10.059261443482796\n",
            "CPU times: user 1.05 s, sys: 1.44 s, total: 2.49 s\n",
            "Wall time: 2.45 s\n"
          ]
        }
      ],
      "source": [
        "%%time\n",
        "\n",
        "model_lr_rougher = LinearRegression()\n",
        "smape_rougher_lr = cross_val_score(model_lr_rougher,\n",
        "                               features_train,\n",
        "                               target_rough_train,\n",
        "                                scoring = smape_score,\n",
        "                               cv=5)\n",
        "final_smape_rougher_lr = smape_rougher_lr.mean()\n",
        "\n",
        "model_lr_final = LinearRegression()\n",
        "smape_final_lr = cross_val_score(model_lr_final,\n",
        "                             features_train,\n",
        "                             target_final_train,\n",
        "                              scoring = smape_score,\n",
        "                             cv=5)\n",
        "final_smape_final_lr = smape_final_lr.mean()\n",
        "result_smape = get_final_smape(final_smape_rougher_lr, final_smape_final_lr)*(-1)\n",
        "print(result_smape)"
      ]
    },
    {
      "cell_type": "markdown",
      "metadata": {
        "id": "Oy6mecO38St8"
      },
      "source": [
        "#### Дерево решений"
      ]
    },
    {
      "cell_type": "code",
      "execution_count": null,
      "metadata": {
        "id": "620zCNOU8St9",
        "outputId": "30a8c5fe-a4cd-4b86-d869-2b5e7c736f1c"
      },
      "outputs": [
        {
          "name": "stdout",
          "output_type": "stream",
          "text": [
            "8.925785452030949 Лучшая глубина: 3\n",
            "CPU times: user 23.2 s, sys: 94.7 ms, total: 23.3 s\n",
            "Wall time: 23.4 s\n"
          ]
        }
      ],
      "source": [
        "%%time\n",
        "\n",
        "state = RandomState(12345)\n",
        "\n",
        "best_result_dt = 100\n",
        "best_depth_dt = 0\n",
        "for depth in range(1, 10, 1):\n",
        "    model_dt_rougher = DecisionTreeRegressor(max_depth = depth, random_state = state)\n",
        "    smape_rougher_dt = cross_val_score(model_dt_rougher,\n",
        "                                      features_train,\n",
        "                                      target_rough_train,\n",
        "                                      scoring = smape_score,\n",
        "                                      cv=5)\n",
        "    final_smape_rougher_dt = smape_rougher_dt.mean()\n",
        "\n",
        "    model_dt_final = DecisionTreeRegressor(max_depth = depth, random_state=state)\n",
        "    smape_final_dt = cross_val_score(model_dt_final,\n",
        "                                          features_train,\n",
        "                                          target_final_train,\n",
        "                                          scoring = smape_score,\n",
        "                                          cv=5)\n",
        "    final_smape_final_dt = smape_final_dt.mean()\n",
        "    result_smape_dt = get_final_smape(final_smape_rougher_dt, final_smape_final_dt)*(-1)\n",
        "\n",
        "    if result_smape_dt < best_result_dt:\n",
        "        best_result_dt = result_smape_dt\n",
        "        best_depth_dt = depth\n",
        "\n",
        "print(best_result_dt,f'Лучшая глубина: {best_depth_dt}')\n",
        ""
      ]
    },
    {
      "cell_type": "markdown",
      "metadata": {
        "id": "H773Xv5e8St9"
      },
      "source": [
        "<div class=\"alert alert-success\">\n",
        "<h2> Комментарий ревьюера <a class=\"tocSkip\"> </h2>\n",
        "\n",
        "<b>Все отлично!👍:</b> Для решающего дерева оптимизировали гиперпараметр глубины и оценили качество на кросс-валидации - отлично!\n",
        "</div>"
      ]
    },
    {
      "cell_type": "markdown",
      "metadata": {
        "id": "-GjFrlue8St9"
      },
      "source": [
        "#### Случайный лес"
      ]
    },
    {
      "cell_type": "code",
      "execution_count": null,
      "metadata": {
        "id": "QPR2Fb3H8St9",
        "outputId": "b12f6b83-77d3-46bd-8247-ea96c08faeca"
      },
      "outputs": [
        {
          "name": "stdout",
          "output_type": "stream",
          "text": [
            "[CV] START .....................................................................\n"
          ]
        },
        {
          "name": "stderr",
          "output_type": "stream",
          "text": [
            "[Parallel(n_jobs=-1)]: Using backend SequentialBackend with 1 concurrent workers.\n"
          ]
        },
        {
          "name": "stdout",
          "output_type": "stream",
          "text": [
            "[CV] END .............................. score: (test=-10.361) total time=   0.4s\n",
            "[CV] START .....................................................................\n"
          ]
        },
        {
          "name": "stderr",
          "output_type": "stream",
          "text": [
            "[Parallel(n_jobs=-1)]: Done   1 out of   1 | elapsed:    0.4s remaining:    0.0s\n"
          ]
        },
        {
          "name": "stdout",
          "output_type": "stream",
          "text": [
            "[CV] END ............................... score: (test=-7.155) total time=   0.4s\n",
            "[CV] START .....................................................................\n"
          ]
        },
        {
          "name": "stderr",
          "output_type": "stream",
          "text": [
            "[Parallel(n_jobs=-1)]: Done   2 out of   2 | elapsed:    0.8s remaining:    0.0s\n"
          ]
        },
        {
          "name": "stdout",
          "output_type": "stream",
          "text": [
            "[CV] END ............................... score: (test=-5.141) total time=   0.4s\n",
            "[CV] START .....................................................................\n"
          ]
        },
        {
          "name": "stderr",
          "output_type": "stream",
          "text": [
            "[Parallel(n_jobs=-1)]: Done   3 out of   3 | elapsed:    1.1s remaining:    0.0s\n"
          ]
        },
        {
          "name": "stdout",
          "output_type": "stream",
          "text": [
            "[CV] END ............................... score: (test=-6.857) total time=   0.4s\n",
            "[CV] START .....................................................................\n"
          ]
        },
        {
          "name": "stderr",
          "output_type": "stream",
          "text": [
            "[Parallel(n_jobs=-1)]: Done   4 out of   4 | elapsed:    1.5s remaining:    0.0s\n"
          ]
        },
        {
          "name": "stdout",
          "output_type": "stream",
          "text": [
            "[CV] END ............................... score: (test=-8.501) total time=   0.4s\n",
            "[CV] START .....................................................................\n"
          ]
        },
        {
          "name": "stderr",
          "output_type": "stream",
          "text": [
            "[Parallel(n_jobs=-1)]: Done   5 out of   5 | elapsed:    1.9s remaining:    0.0s\n",
            "[Parallel(n_jobs=-1)]: Done   5 out of   5 | elapsed:    1.9s finished\n",
            "[Parallel(n_jobs=-1)]: Using backend SequentialBackend with 1 concurrent workers.\n"
          ]
        },
        {
          "name": "stdout",
          "output_type": "stream",
          "text": [
            "[CV] END ............................... score: (test=-9.686) total time=   0.4s\n",
            "[CV] START .....................................................................\n"
          ]
        },
        {
          "name": "stderr",
          "output_type": "stream",
          "text": [
            "[Parallel(n_jobs=-1)]: Done   1 out of   1 | elapsed:    0.4s remaining:    0.0s\n"
          ]
        },
        {
          "name": "stdout",
          "output_type": "stream",
          "text": [
            "[CV] END ............................... score: (test=-8.056) total time=   0.4s\n",
            "[CV] START .....................................................................\n"
          ]
        },
        {
          "name": "stderr",
          "output_type": "stream",
          "text": [
            "[Parallel(n_jobs=-1)]: Done   2 out of   2 | elapsed:    0.8s remaining:    0.0s\n"
          ]
        },
        {
          "name": "stdout",
          "output_type": "stream",
          "text": [
            "[CV] END ............................... score: (test=-8.890) total time=   0.4s\n",
            "[CV] START .....................................................................\n"
          ]
        },
        {
          "name": "stderr",
          "output_type": "stream",
          "text": [
            "[Parallel(n_jobs=-1)]: Done   3 out of   3 | elapsed:    1.1s remaining:    0.0s\n"
          ]
        },
        {
          "name": "stdout",
          "output_type": "stream",
          "text": [
            "[CV] END .............................. score: (test=-10.801) total time=   0.4s\n",
            "[CV] START .....................................................................\n"
          ]
        },
        {
          "name": "stderr",
          "output_type": "stream",
          "text": [
            "[Parallel(n_jobs=-1)]: Done   4 out of   4 | elapsed:    1.5s remaining:    0.0s\n"
          ]
        },
        {
          "name": "stdout",
          "output_type": "stream",
          "text": [
            "[CV] END .............................. score: (test=-11.401) total time=   0.4s\n",
            "[CV] START .....................................................................\n"
          ]
        },
        {
          "name": "stderr",
          "output_type": "stream",
          "text": [
            "[Parallel(n_jobs=-1)]: Done   5 out of   5 | elapsed:    1.9s remaining:    0.0s\n",
            "[Parallel(n_jobs=-1)]: Done   5 out of   5 | elapsed:    1.9s finished\n",
            "[Parallel(n_jobs=-1)]: Using backend SequentialBackend with 1 concurrent workers.\n"
          ]
        },
        {
          "name": "stdout",
          "output_type": "stream",
          "text": [
            "[CV] END .............................. score: (test=-10.658) total time=   1.5s\n",
            "[CV] START .....................................................................\n"
          ]
        },
        {
          "name": "stderr",
          "output_type": "stream",
          "text": [
            "[Parallel(n_jobs=-1)]: Done   1 out of   1 | elapsed:    1.5s remaining:    0.0s\n"
          ]
        },
        {
          "name": "stdout",
          "output_type": "stream",
          "text": [
            "[CV] END ............................... score: (test=-7.334) total time=   1.5s\n",
            "[CV] START .....................................................................\n"
          ]
        },
        {
          "name": "stderr",
          "output_type": "stream",
          "text": [
            "[Parallel(n_jobs=-1)]: Done   2 out of   2 | elapsed:    2.9s remaining:    0.0s\n"
          ]
        },
        {
          "name": "stdout",
          "output_type": "stream",
          "text": [
            "[CV] END ............................... score: (test=-5.005) total time=   1.5s\n",
            "[CV] START .....................................................................\n"
          ]
        },
        {
          "name": "stderr",
          "output_type": "stream",
          "text": [
            "[Parallel(n_jobs=-1)]: Done   3 out of   3 | elapsed:    4.4s remaining:    0.0s\n"
          ]
        },
        {
          "name": "stdout",
          "output_type": "stream",
          "text": [
            "[CV] END ............................... score: (test=-6.752) total time=   1.5s\n",
            "[CV] START .....................................................................\n"
          ]
        },
        {
          "name": "stderr",
          "output_type": "stream",
          "text": [
            "[Parallel(n_jobs=-1)]: Done   4 out of   4 | elapsed:    5.9s remaining:    0.0s\n"
          ]
        },
        {
          "name": "stdout",
          "output_type": "stream",
          "text": [
            "[CV] END ............................... score: (test=-8.613) total time=   1.5s\n",
            "[CV] START .....................................................................\n"
          ]
        },
        {
          "name": "stderr",
          "output_type": "stream",
          "text": [
            "[Parallel(n_jobs=-1)]: Done   5 out of   5 | elapsed:    7.4s remaining:    0.0s\n",
            "[Parallel(n_jobs=-1)]: Done   5 out of   5 | elapsed:    7.4s finished\n",
            "[Parallel(n_jobs=-1)]: Using backend SequentialBackend with 1 concurrent workers.\n"
          ]
        },
        {
          "name": "stdout",
          "output_type": "stream",
          "text": [
            "[CV] END ............................... score: (test=-9.689) total time=   1.5s\n",
            "[CV] START .....................................................................\n"
          ]
        },
        {
          "name": "stderr",
          "output_type": "stream",
          "text": [
            "[Parallel(n_jobs=-1)]: Done   1 out of   1 | elapsed:    1.5s remaining:    0.0s\n"
          ]
        },
        {
          "name": "stdout",
          "output_type": "stream",
          "text": [
            "[CV] END ............................... score: (test=-8.050) total time=   1.4s\n",
            "[CV] START .....................................................................\n"
          ]
        },
        {
          "name": "stderr",
          "output_type": "stream",
          "text": [
            "[Parallel(n_jobs=-1)]: Done   2 out of   2 | elapsed:    2.9s remaining:    0.0s\n"
          ]
        },
        {
          "name": "stdout",
          "output_type": "stream",
          "text": [
            "[CV] END ............................... score: (test=-8.980) total time=   1.5s\n",
            "[CV] START .....................................................................\n"
          ]
        },
        {
          "name": "stderr",
          "output_type": "stream",
          "text": [
            "[Parallel(n_jobs=-1)]: Done   3 out of   3 | elapsed:    4.4s remaining:    0.0s\n"
          ]
        },
        {
          "name": "stdout",
          "output_type": "stream",
          "text": [
            "[CV] END .............................. score: (test=-10.613) total time=   1.5s\n",
            "[CV] START .....................................................................\n"
          ]
        },
        {
          "name": "stderr",
          "output_type": "stream",
          "text": [
            "[Parallel(n_jobs=-1)]: Done   4 out of   4 | elapsed:    5.9s remaining:    0.0s\n"
          ]
        },
        {
          "name": "stdout",
          "output_type": "stream",
          "text": [
            "[CV] END .............................. score: (test=-11.377) total time=   1.5s\n",
            "[CV] START .....................................................................\n"
          ]
        },
        {
          "name": "stderr",
          "output_type": "stream",
          "text": [
            "[Parallel(n_jobs=-1)]: Done   5 out of   5 | elapsed:    7.4s remaining:    0.0s\n",
            "[Parallel(n_jobs=-1)]: Done   5 out of   5 | elapsed:    7.4s finished\n",
            "[Parallel(n_jobs=-1)]: Using backend SequentialBackend with 1 concurrent workers.\n"
          ]
        },
        {
          "name": "stdout",
          "output_type": "stream",
          "text": [
            "[CV] END .............................. score: (test=-10.888) total time=   2.5s\n",
            "[CV] START .....................................................................\n"
          ]
        },
        {
          "name": "stderr",
          "output_type": "stream",
          "text": [
            "[Parallel(n_jobs=-1)]: Done   1 out of   1 | elapsed:    2.5s remaining:    0.0s\n"
          ]
        },
        {
          "name": "stdout",
          "output_type": "stream",
          "text": [
            "[CV] END ............................... score: (test=-7.335) total time=   2.5s\n",
            "[CV] START .....................................................................\n"
          ]
        },
        {
          "name": "stderr",
          "output_type": "stream",
          "text": [
            "[Parallel(n_jobs=-1)]: Done   2 out of   2 | elapsed:    5.0s remaining:    0.0s\n"
          ]
        },
        {
          "name": "stdout",
          "output_type": "stream",
          "text": [
            "[CV] END ............................... score: (test=-5.046) total time=   2.5s\n",
            "[CV] START .....................................................................\n"
          ]
        },
        {
          "name": "stderr",
          "output_type": "stream",
          "text": [
            "[Parallel(n_jobs=-1)]: Done   3 out of   3 | elapsed:    7.5s remaining:    0.0s\n"
          ]
        },
        {
          "name": "stdout",
          "output_type": "stream",
          "text": [
            "[CV] END ............................... score: (test=-6.809) total time=   2.5s\n",
            "[CV] START .....................................................................\n"
          ]
        },
        {
          "name": "stderr",
          "output_type": "stream",
          "text": [
            "[Parallel(n_jobs=-1)]: Done   4 out of   4 | elapsed:   10.1s remaining:    0.0s\n"
          ]
        },
        {
          "name": "stdout",
          "output_type": "stream",
          "text": [
            "[CV] END ............................... score: (test=-8.599) total time=   2.6s\n",
            "[CV] START .....................................................................\n"
          ]
        },
        {
          "name": "stderr",
          "output_type": "stream",
          "text": [
            "[Parallel(n_jobs=-1)]: Done   5 out of   5 | elapsed:   12.6s remaining:    0.0s\n",
            "[Parallel(n_jobs=-1)]: Done   5 out of   5 | elapsed:   12.6s finished\n",
            "[Parallel(n_jobs=-1)]: Using backend SequentialBackend with 1 concurrent workers.\n"
          ]
        },
        {
          "name": "stdout",
          "output_type": "stream",
          "text": [
            "[CV] END ............................... score: (test=-9.688) total time=   2.5s\n",
            "[CV] START .....................................................................\n"
          ]
        },
        {
          "name": "stderr",
          "output_type": "stream",
          "text": [
            "[Parallel(n_jobs=-1)]: Done   1 out of   1 | elapsed:    2.5s remaining:    0.0s\n"
          ]
        },
        {
          "name": "stdout",
          "output_type": "stream",
          "text": [
            "[CV] END ............................... score: (test=-8.052) total time=   2.5s\n",
            "[CV] START .....................................................................\n"
          ]
        },
        {
          "name": "stderr",
          "output_type": "stream",
          "text": [
            "[Parallel(n_jobs=-1)]: Done   2 out of   2 | elapsed:    5.0s remaining:    0.0s\n"
          ]
        },
        {
          "name": "stdout",
          "output_type": "stream",
          "text": [
            "[CV] END ............................... score: (test=-8.888) total time=   2.6s\n",
            "[CV] START .....................................................................\n"
          ]
        },
        {
          "name": "stderr",
          "output_type": "stream",
          "text": [
            "[Parallel(n_jobs=-1)]: Done   3 out of   3 | elapsed:    7.6s remaining:    0.0s\n"
          ]
        },
        {
          "name": "stdout",
          "output_type": "stream",
          "text": [
            "[CV] END .............................. score: (test=-10.586) total time=   2.5s\n",
            "[CV] START .....................................................................\n"
          ]
        },
        {
          "name": "stderr",
          "output_type": "stream",
          "text": [
            "[Parallel(n_jobs=-1)]: Done   4 out of   4 | elapsed:   10.2s remaining:    0.0s\n"
          ]
        },
        {
          "name": "stdout",
          "output_type": "stream",
          "text": [
            "[CV] END .............................. score: (test=-11.371) total time=   2.5s\n",
            "[CV] START .....................................................................\n"
          ]
        },
        {
          "name": "stderr",
          "output_type": "stream",
          "text": [
            "[Parallel(n_jobs=-1)]: Done   5 out of   5 | elapsed:   12.7s remaining:    0.0s\n",
            "[Parallel(n_jobs=-1)]: Done   5 out of   5 | elapsed:   12.7s finished\n",
            "[Parallel(n_jobs=-1)]: Using backend SequentialBackend with 1 concurrent workers.\n"
          ]
        },
        {
          "name": "stdout",
          "output_type": "stream",
          "text": [
            "[CV] END ............................... score: (test=-9.214) total time=   1.0s\n",
            "[CV] START .....................................................................\n"
          ]
        },
        {
          "name": "stderr",
          "output_type": "stream",
          "text": [
            "[Parallel(n_jobs=-1)]: Done   1 out of   1 | elapsed:    1.0s remaining:    0.0s\n"
          ]
        },
        {
          "name": "stdout",
          "output_type": "stream",
          "text": [
            "[CV] END ............................... score: (test=-6.247) total time=   1.0s\n",
            "[CV] START .....................................................................\n"
          ]
        },
        {
          "name": "stderr",
          "output_type": "stream",
          "text": [
            "[Parallel(n_jobs=-1)]: Done   2 out of   2 | elapsed:    2.0s remaining:    0.0s\n"
          ]
        },
        {
          "name": "stdout",
          "output_type": "stream",
          "text": [
            "[CV] END ............................... score: (test=-4.914) total time=   1.0s\n",
            "[CV] START .....................................................................\n"
          ]
        },
        {
          "name": "stderr",
          "output_type": "stream",
          "text": [
            "[Parallel(n_jobs=-1)]: Done   3 out of   3 | elapsed:    3.0s remaining:    0.0s\n"
          ]
        },
        {
          "name": "stdout",
          "output_type": "stream",
          "text": [
            "[CV] END ............................... score: (test=-5.606) total time=   1.0s\n",
            "[CV] START .....................................................................\n"
          ]
        },
        {
          "name": "stderr",
          "output_type": "stream",
          "text": [
            "[Parallel(n_jobs=-1)]: Done   4 out of   4 | elapsed:    4.1s remaining:    0.0s\n"
          ]
        },
        {
          "name": "stdout",
          "output_type": "stream",
          "text": [
            "[CV] END ............................... score: (test=-7.593) total time=   1.0s\n",
            "[CV] START .....................................................................\n"
          ]
        },
        {
          "name": "stderr",
          "output_type": "stream",
          "text": [
            "[Parallel(n_jobs=-1)]: Done   5 out of   5 | elapsed:    5.1s remaining:    0.0s\n",
            "[Parallel(n_jobs=-1)]: Done   5 out of   5 | elapsed:    5.1s finished\n",
            "[Parallel(n_jobs=-1)]: Using backend SequentialBackend with 1 concurrent workers.\n"
          ]
        },
        {
          "name": "stdout",
          "output_type": "stream",
          "text": [
            "[CV] END ............................... score: (test=-9.842) total time=   1.0s\n",
            "[CV] START .....................................................................\n"
          ]
        },
        {
          "name": "stderr",
          "output_type": "stream",
          "text": [
            "[Parallel(n_jobs=-1)]: Done   1 out of   1 | elapsed:    1.0s remaining:    0.0s\n"
          ]
        },
        {
          "name": "stdout",
          "output_type": "stream",
          "text": [
            "[CV] END ............................... score: (test=-7.832) total time=   1.0s\n",
            "[CV] START .....................................................................\n"
          ]
        },
        {
          "name": "stderr",
          "output_type": "stream",
          "text": [
            "[Parallel(n_jobs=-1)]: Done   2 out of   2 | elapsed:    2.0s remaining:    0.0s\n"
          ]
        },
        {
          "name": "stdout",
          "output_type": "stream",
          "text": [
            "[CV] END ............................... score: (test=-9.124) total time=   1.0s\n",
            "[CV] START .....................................................................\n"
          ]
        },
        {
          "name": "stderr",
          "output_type": "stream",
          "text": [
            "[Parallel(n_jobs=-1)]: Done   3 out of   3 | elapsed:    3.1s remaining:    0.0s\n"
          ]
        },
        {
          "name": "stdout",
          "output_type": "stream",
          "text": [
            "[CV] END ............................... score: (test=-9.253) total time=   1.0s\n",
            "[CV] START .....................................................................\n"
          ]
        },
        {
          "name": "stderr",
          "output_type": "stream",
          "text": [
            "[Parallel(n_jobs=-1)]: Done   4 out of   4 | elapsed:    4.1s remaining:    0.0s\n"
          ]
        },
        {
          "name": "stdout",
          "output_type": "stream",
          "text": [
            "[CV] END .............................. score: (test=-10.006) total time=   1.0s\n",
            "[CV] START .....................................................................\n"
          ]
        },
        {
          "name": "stderr",
          "output_type": "stream",
          "text": [
            "[Parallel(n_jobs=-1)]: Done   5 out of   5 | elapsed:    5.1s remaining:    0.0s\n",
            "[Parallel(n_jobs=-1)]: Done   5 out of   5 | elapsed:    5.1s finished\n",
            "[Parallel(n_jobs=-1)]: Using backend SequentialBackend with 1 concurrent workers.\n"
          ]
        },
        {
          "name": "stdout",
          "output_type": "stream",
          "text": [
            "[CV] END ............................... score: (test=-9.461) total time=   4.0s\n",
            "[CV] START .....................................................................\n"
          ]
        },
        {
          "name": "stderr",
          "output_type": "stream",
          "text": [
            "[Parallel(n_jobs=-1)]: Done   1 out of   1 | elapsed:    4.0s remaining:    0.0s\n"
          ]
        },
        {
          "name": "stdout",
          "output_type": "stream",
          "text": [
            "[CV] END ............................... score: (test=-6.079) total time=   4.0s\n",
            "[CV] START .....................................................................\n"
          ]
        },
        {
          "name": "stderr",
          "output_type": "stream",
          "text": [
            "[Parallel(n_jobs=-1)]: Done   2 out of   2 | elapsed:    8.0s remaining:    0.0s\n"
          ]
        },
        {
          "name": "stdout",
          "output_type": "stream",
          "text": [
            "[CV] END ............................... score: (test=-5.004) total time=   4.0s\n",
            "[CV] START .....................................................................\n"
          ]
        },
        {
          "name": "stderr",
          "output_type": "stream",
          "text": [
            "[Parallel(n_jobs=-1)]: Done   3 out of   3 | elapsed:   12.0s remaining:    0.0s\n"
          ]
        },
        {
          "name": "stdout",
          "output_type": "stream",
          "text": [
            "[CV] END ............................... score: (test=-5.533) total time=   4.0s\n",
            "[CV] START .....................................................................\n"
          ]
        },
        {
          "name": "stderr",
          "output_type": "stream",
          "text": [
            "[Parallel(n_jobs=-1)]: Done   4 out of   4 | elapsed:   16.1s remaining:    0.0s\n"
          ]
        },
        {
          "name": "stdout",
          "output_type": "stream",
          "text": [
            "[CV] END ............................... score: (test=-7.654) total time=   4.0s\n",
            "[CV] START .....................................................................\n"
          ]
        },
        {
          "name": "stderr",
          "output_type": "stream",
          "text": [
            "[Parallel(n_jobs=-1)]: Done   5 out of   5 | elapsed:   20.0s remaining:    0.0s\n",
            "[Parallel(n_jobs=-1)]: Done   5 out of   5 | elapsed:   20.0s finished\n",
            "[Parallel(n_jobs=-1)]: Using backend SequentialBackend with 1 concurrent workers.\n"
          ]
        },
        {
          "name": "stdout",
          "output_type": "stream",
          "text": [
            "[CV] END ............................... score: (test=-9.791) total time=   4.2s\n",
            "[CV] START .....................................................................\n"
          ]
        },
        {
          "name": "stderr",
          "output_type": "stream",
          "text": [
            "[Parallel(n_jobs=-1)]: Done   1 out of   1 | elapsed:    4.2s remaining:    0.0s\n"
          ]
        },
        {
          "name": "stdout",
          "output_type": "stream",
          "text": [
            "[CV] END ............................... score: (test=-7.929) total time=   4.0s\n",
            "[CV] START .....................................................................\n"
          ]
        },
        {
          "name": "stderr",
          "output_type": "stream",
          "text": [
            "[Parallel(n_jobs=-1)]: Done   2 out of   2 | elapsed:    8.2s remaining:    0.0s\n"
          ]
        },
        {
          "name": "stdout",
          "output_type": "stream",
          "text": [
            "[CV] END ............................... score: (test=-9.281) total time=   4.0s\n",
            "[CV] START .....................................................................\n"
          ]
        },
        {
          "name": "stderr",
          "output_type": "stream",
          "text": [
            "[Parallel(n_jobs=-1)]: Done   3 out of   3 | elapsed:   12.2s remaining:    0.0s\n"
          ]
        },
        {
          "name": "stdout",
          "output_type": "stream",
          "text": [
            "[CV] END ............................... score: (test=-9.118) total time=   4.1s\n",
            "[CV] START .....................................................................\n"
          ]
        },
        {
          "name": "stderr",
          "output_type": "stream",
          "text": [
            "[Parallel(n_jobs=-1)]: Done   4 out of   4 | elapsed:   16.3s remaining:    0.0s\n"
          ]
        },
        {
          "name": "stdout",
          "output_type": "stream",
          "text": [
            "[CV] END ............................... score: (test=-9.959) total time=   3.9s\n",
            "[CV] START .....................................................................\n"
          ]
        },
        {
          "name": "stderr",
          "output_type": "stream",
          "text": [
            "[Parallel(n_jobs=-1)]: Done   5 out of   5 | elapsed:   20.2s remaining:    0.0s\n",
            "[Parallel(n_jobs=-1)]: Done   5 out of   5 | elapsed:   20.2s finished\n",
            "[Parallel(n_jobs=-1)]: Using backend SequentialBackend with 1 concurrent workers.\n"
          ]
        },
        {
          "name": "stdout",
          "output_type": "stream",
          "text": [
            "[CV] END ............................... score: (test=-9.616) total time=   7.0s\n",
            "[CV] START .....................................................................\n"
          ]
        },
        {
          "name": "stderr",
          "output_type": "stream",
          "text": [
            "[Parallel(n_jobs=-1)]: Done   1 out of   1 | elapsed:    7.0s remaining:    0.0s\n"
          ]
        },
        {
          "name": "stdout",
          "output_type": "stream",
          "text": [
            "[CV] END ............................... score: (test=-6.113) total time=   7.0s\n",
            "[CV] START .....................................................................\n"
          ]
        },
        {
          "name": "stderr",
          "output_type": "stream",
          "text": [
            "[Parallel(n_jobs=-1)]: Done   2 out of   2 | elapsed:   14.0s remaining:    0.0s\n"
          ]
        },
        {
          "name": "stdout",
          "output_type": "stream",
          "text": [
            "[CV] END ............................... score: (test=-4.938) total time=   6.9s\n",
            "[CV] START .....................................................................\n"
          ]
        },
        {
          "name": "stderr",
          "output_type": "stream",
          "text": [
            "[Parallel(n_jobs=-1)]: Done   3 out of   3 | elapsed:   20.9s remaining:    0.0s\n"
          ]
        },
        {
          "name": "stdout",
          "output_type": "stream",
          "text": [
            "[CV] END ............................... score: (test=-5.544) total time=   6.9s\n",
            "[CV] START .....................................................................\n"
          ]
        },
        {
          "name": "stderr",
          "output_type": "stream",
          "text": [
            "[Parallel(n_jobs=-1)]: Done   4 out of   4 | elapsed:   27.8s remaining:    0.0s\n"
          ]
        },
        {
          "name": "stdout",
          "output_type": "stream",
          "text": [
            "[CV] END ............................... score: (test=-7.667) total time=   6.9s\n",
            "[CV] START .....................................................................\n"
          ]
        },
        {
          "name": "stderr",
          "output_type": "stream",
          "text": [
            "[Parallel(n_jobs=-1)]: Done   5 out of   5 | elapsed:   34.7s remaining:    0.0s\n",
            "[Parallel(n_jobs=-1)]: Done   5 out of   5 | elapsed:   34.7s finished\n",
            "[Parallel(n_jobs=-1)]: Using backend SequentialBackend with 1 concurrent workers.\n"
          ]
        },
        {
          "name": "stdout",
          "output_type": "stream",
          "text": [
            "[CV] END ............................... score: (test=-9.776) total time=   7.0s\n",
            "[CV] START .....................................................................\n"
          ]
        },
        {
          "name": "stderr",
          "output_type": "stream",
          "text": [
            "[Parallel(n_jobs=-1)]: Done   1 out of   1 | elapsed:    7.0s remaining:    0.0s\n"
          ]
        },
        {
          "name": "stdout",
          "output_type": "stream",
          "text": [
            "[CV] END ............................... score: (test=-7.881) total time=   7.0s\n",
            "[CV] START .....................................................................\n"
          ]
        },
        {
          "name": "stderr",
          "output_type": "stream",
          "text": [
            "[Parallel(n_jobs=-1)]: Done   2 out of   2 | elapsed:   14.0s remaining:    0.0s\n"
          ]
        },
        {
          "name": "stdout",
          "output_type": "stream",
          "text": [
            "[CV] END ............................... score: (test=-9.321) total time=   6.9s\n",
            "[CV] START .....................................................................\n"
          ]
        },
        {
          "name": "stderr",
          "output_type": "stream",
          "text": [
            "[Parallel(n_jobs=-1)]: Done   3 out of   3 | elapsed:   20.9s remaining:    0.0s\n"
          ]
        },
        {
          "name": "stdout",
          "output_type": "stream",
          "text": [
            "[CV] END ............................... score: (test=-9.105) total time=   7.0s\n",
            "[CV] START .....................................................................\n"
          ]
        },
        {
          "name": "stderr",
          "output_type": "stream",
          "text": [
            "[Parallel(n_jobs=-1)]: Done   4 out of   4 | elapsed:   28.0s remaining:    0.0s\n"
          ]
        },
        {
          "name": "stdout",
          "output_type": "stream",
          "text": [
            "[CV] END ............................... score: (test=-9.943) total time=   7.0s\n",
            "[CV] START .....................................................................\n"
          ]
        },
        {
          "name": "stderr",
          "output_type": "stream",
          "text": [
            "[Parallel(n_jobs=-1)]: Done   5 out of   5 | elapsed:   35.0s remaining:    0.0s\n",
            "[Parallel(n_jobs=-1)]: Done   5 out of   5 | elapsed:   35.0s finished\n",
            "[Parallel(n_jobs=-1)]: Using backend SequentialBackend with 1 concurrent workers.\n"
          ]
        },
        {
          "name": "stdout",
          "output_type": "stream",
          "text": [
            "[CV] END ............................... score: (test=-9.388) total time=   1.5s\n",
            "[CV] START .....................................................................\n"
          ]
        },
        {
          "name": "stderr",
          "output_type": "stream",
          "text": [
            "[Parallel(n_jobs=-1)]: Done   1 out of   1 | elapsed:    1.5s remaining:    0.0s\n"
          ]
        },
        {
          "name": "stdout",
          "output_type": "stream",
          "text": [
            "[CV] END ............................... score: (test=-6.205) total time=   1.6s\n",
            "[CV] START .....................................................................\n"
          ]
        },
        {
          "name": "stderr",
          "output_type": "stream",
          "text": [
            "[Parallel(n_jobs=-1)]: Done   2 out of   2 | elapsed:    3.1s remaining:    0.0s\n"
          ]
        },
        {
          "name": "stdout",
          "output_type": "stream",
          "text": [
            "[CV] END ............................... score: (test=-5.236) total time=   1.6s\n",
            "[CV] START .....................................................................\n"
          ]
        },
        {
          "name": "stderr",
          "output_type": "stream",
          "text": [
            "[Parallel(n_jobs=-1)]: Done   3 out of   3 | elapsed:    4.7s remaining:    0.0s\n"
          ]
        },
        {
          "name": "stdout",
          "output_type": "stream",
          "text": [
            "[CV] END ............................... score: (test=-4.901) total time=   1.5s\n",
            "[CV] START .....................................................................\n"
          ]
        },
        {
          "name": "stderr",
          "output_type": "stream",
          "text": [
            "[Parallel(n_jobs=-1)]: Done   4 out of   4 | elapsed:    6.2s remaining:    0.0s\n"
          ]
        },
        {
          "name": "stdout",
          "output_type": "stream",
          "text": [
            "[CV] END ............................... score: (test=-7.510) total time=   1.5s\n",
            "[CV] START .....................................................................\n"
          ]
        },
        {
          "name": "stderr",
          "output_type": "stream",
          "text": [
            "[Parallel(n_jobs=-1)]: Done   5 out of   5 | elapsed:    7.8s remaining:    0.0s\n",
            "[Parallel(n_jobs=-1)]: Done   5 out of   5 | elapsed:    7.8s finished\n",
            "[Parallel(n_jobs=-1)]: Using backend SequentialBackend with 1 concurrent workers.\n"
          ]
        },
        {
          "name": "stdout",
          "output_type": "stream",
          "text": [
            "[CV] END ............................... score: (test=-9.409) total time=   1.5s\n",
            "[CV] START .....................................................................\n"
          ]
        },
        {
          "name": "stderr",
          "output_type": "stream",
          "text": [
            "[Parallel(n_jobs=-1)]: Done   1 out of   1 | elapsed:    1.5s remaining:    0.0s\n"
          ]
        },
        {
          "name": "stdout",
          "output_type": "stream",
          "text": [
            "[CV] END ............................... score: (test=-8.845) total time=   1.5s\n",
            "[CV] START .....................................................................\n"
          ]
        },
        {
          "name": "stderr",
          "output_type": "stream",
          "text": [
            "[Parallel(n_jobs=-1)]: Done   2 out of   2 | elapsed:    3.1s remaining:    0.0s\n"
          ]
        },
        {
          "name": "stdout",
          "output_type": "stream",
          "text": [
            "[CV] END ............................... score: (test=-9.251) total time=   1.5s\n",
            "[CV] START .....................................................................\n"
          ]
        },
        {
          "name": "stderr",
          "output_type": "stream",
          "text": [
            "[Parallel(n_jobs=-1)]: Done   3 out of   3 | elapsed:    4.6s remaining:    0.0s\n"
          ]
        },
        {
          "name": "stdout",
          "output_type": "stream",
          "text": [
            "[CV] END ............................... score: (test=-8.619) total time=   1.6s\n",
            "[CV] START .....................................................................\n"
          ]
        },
        {
          "name": "stderr",
          "output_type": "stream",
          "text": [
            "[Parallel(n_jobs=-1)]: Done   4 out of   4 | elapsed:    6.2s remaining:    0.0s\n"
          ]
        },
        {
          "name": "stdout",
          "output_type": "stream",
          "text": [
            "[CV] END .............................. score: (test=-10.718) total time=   1.6s\n",
            "[CV] START .....................................................................\n"
          ]
        },
        {
          "name": "stderr",
          "output_type": "stream",
          "text": [
            "[Parallel(n_jobs=-1)]: Done   5 out of   5 | elapsed:    7.8s remaining:    0.0s\n",
            "[Parallel(n_jobs=-1)]: Done   5 out of   5 | elapsed:    7.8s finished\n",
            "[Parallel(n_jobs=-1)]: Using backend SequentialBackend with 1 concurrent workers.\n"
          ]
        },
        {
          "name": "stdout",
          "output_type": "stream",
          "text": [
            "[CV] END ............................... score: (test=-9.319) total time=   6.2s\n",
            "[CV] START .....................................................................\n"
          ]
        },
        {
          "name": "stderr",
          "output_type": "stream",
          "text": [
            "[Parallel(n_jobs=-1)]: Done   1 out of   1 | elapsed:    6.2s remaining:    0.0s\n"
          ]
        },
        {
          "name": "stdout",
          "output_type": "stream",
          "text": [
            "[CV] END ............................... score: (test=-6.782) total time=   6.3s\n",
            "[CV] START .....................................................................\n"
          ]
        },
        {
          "name": "stderr",
          "output_type": "stream",
          "text": [
            "[Parallel(n_jobs=-1)]: Done   2 out of   2 | elapsed:   12.5s remaining:    0.0s\n"
          ]
        },
        {
          "name": "stdout",
          "output_type": "stream",
          "text": [
            "[CV] END ............................... score: (test=-4.979) total time=   6.3s\n",
            "[CV] START .....................................................................\n"
          ]
        },
        {
          "name": "stderr",
          "output_type": "stream",
          "text": [
            "[Parallel(n_jobs=-1)]: Done   3 out of   3 | elapsed:   18.8s remaining:    0.0s\n"
          ]
        },
        {
          "name": "stdout",
          "output_type": "stream",
          "text": [
            "[CV] END ............................... score: (test=-4.950) total time=   6.2s\n",
            "[CV] START .....................................................................\n"
          ]
        },
        {
          "name": "stderr",
          "output_type": "stream",
          "text": [
            "[Parallel(n_jobs=-1)]: Done   4 out of   4 | elapsed:   25.0s remaining:    0.0s\n"
          ]
        },
        {
          "name": "stdout",
          "output_type": "stream",
          "text": [
            "[CV] END ............................... score: (test=-7.532) total time=   6.3s\n",
            "[CV] START .....................................................................\n"
          ]
        },
        {
          "name": "stderr",
          "output_type": "stream",
          "text": [
            "[Parallel(n_jobs=-1)]: Done   5 out of   5 | elapsed:   31.3s remaining:    0.0s\n",
            "[Parallel(n_jobs=-1)]: Done   5 out of   5 | elapsed:   31.3s finished\n",
            "[Parallel(n_jobs=-1)]: Using backend SequentialBackend with 1 concurrent workers.\n"
          ]
        },
        {
          "name": "stdout",
          "output_type": "stream",
          "text": [
            "[CV] END ............................... score: (test=-9.370) total time=   6.3s\n",
            "[CV] START .....................................................................\n"
          ]
        },
        {
          "name": "stderr",
          "output_type": "stream",
          "text": [
            "[Parallel(n_jobs=-1)]: Done   1 out of   1 | elapsed:    6.3s remaining:    0.0s\n"
          ]
        },
        {
          "name": "stdout",
          "output_type": "stream",
          "text": [
            "[CV] END ............................... score: (test=-9.653) total time=   6.3s\n",
            "[CV] START .....................................................................\n"
          ]
        },
        {
          "name": "stderr",
          "output_type": "stream",
          "text": [
            "[Parallel(n_jobs=-1)]: Done   2 out of   2 | elapsed:   12.6s remaining:    0.0s\n"
          ]
        },
        {
          "name": "stdout",
          "output_type": "stream",
          "text": [
            "[CV] END ............................... score: (test=-9.108) total time=   6.3s\n",
            "[CV] START .....................................................................\n"
          ]
        },
        {
          "name": "stderr",
          "output_type": "stream",
          "text": [
            "[Parallel(n_jobs=-1)]: Done   3 out of   3 | elapsed:   18.9s remaining:    0.0s\n"
          ]
        },
        {
          "name": "stdout",
          "output_type": "stream",
          "text": [
            "[CV] END ............................... score: (test=-8.605) total time=   6.4s\n",
            "[CV] START .....................................................................\n"
          ]
        },
        {
          "name": "stderr",
          "output_type": "stream",
          "text": [
            "[Parallel(n_jobs=-1)]: Done   4 out of   4 | elapsed:   25.3s remaining:    0.0s\n"
          ]
        },
        {
          "name": "stdout",
          "output_type": "stream",
          "text": [
            "[CV] END .............................. score: (test=-10.652) total time=   6.3s\n",
            "[CV] START .....................................................................\n"
          ]
        },
        {
          "name": "stderr",
          "output_type": "stream",
          "text": [
            "[Parallel(n_jobs=-1)]: Done   5 out of   5 | elapsed:   31.7s remaining:    0.0s\n",
            "[Parallel(n_jobs=-1)]: Done   5 out of   5 | elapsed:   31.7s finished\n",
            "[Parallel(n_jobs=-1)]: Using backend SequentialBackend with 1 concurrent workers.\n"
          ]
        },
        {
          "name": "stdout",
          "output_type": "stream",
          "text": [
            "[CV] END ............................... score: (test=-9.328) total time=  11.1s\n",
            "[CV] START .....................................................................\n"
          ]
        },
        {
          "name": "stderr",
          "output_type": "stream",
          "text": [
            "[Parallel(n_jobs=-1)]: Done   1 out of   1 | elapsed:   11.1s remaining:    0.0s\n"
          ]
        },
        {
          "name": "stdout",
          "output_type": "stream",
          "text": [
            "[CV] END ............................... score: (test=-6.926) total time=  11.1s\n",
            "[CV] START .....................................................................\n"
          ]
        },
        {
          "name": "stderr",
          "output_type": "stream",
          "text": [
            "[Parallel(n_jobs=-1)]: Done   2 out of   2 | elapsed:   22.1s remaining:    0.0s\n"
          ]
        },
        {
          "name": "stdout",
          "output_type": "stream",
          "text": [
            "[CV] END ............................... score: (test=-4.890) total time=  10.9s\n",
            "[CV] START .....................................................................\n"
          ]
        },
        {
          "name": "stderr",
          "output_type": "stream",
          "text": [
            "[Parallel(n_jobs=-1)]: Done   3 out of   3 | elapsed:   33.0s remaining:    0.0s\n"
          ]
        },
        {
          "name": "stdout",
          "output_type": "stream",
          "text": [
            "[CV] END ............................... score: (test=-4.942) total time=  10.8s\n",
            "[CV] START .....................................................................\n"
          ]
        },
        {
          "name": "stderr",
          "output_type": "stream",
          "text": [
            "[Parallel(n_jobs=-1)]: Done   4 out of   4 | elapsed:   43.8s remaining:    0.0s\n"
          ]
        },
        {
          "name": "stdout",
          "output_type": "stream",
          "text": [
            "[CV] END ............................... score: (test=-7.474) total time=  11.2s\n",
            "[CV] START .....................................................................\n"
          ]
        },
        {
          "name": "stderr",
          "output_type": "stream",
          "text": [
            "[Parallel(n_jobs=-1)]: Done   5 out of   5 | elapsed:   55.0s remaining:    0.0s\n",
            "[Parallel(n_jobs=-1)]: Done   5 out of   5 | elapsed:   55.0s finished\n",
            "[Parallel(n_jobs=-1)]: Using backend SequentialBackend with 1 concurrent workers.\n"
          ]
        },
        {
          "name": "stdout",
          "output_type": "stream",
          "text": [
            "[CV] END ............................... score: (test=-9.378) total time=  11.1s\n",
            "[CV] START .....................................................................\n"
          ]
        },
        {
          "name": "stderr",
          "output_type": "stream",
          "text": [
            "[Parallel(n_jobs=-1)]: Done   1 out of   1 | elapsed:   11.1s remaining:    0.0s\n"
          ]
        },
        {
          "name": "stdout",
          "output_type": "stream",
          "text": [
            "[CV] END ............................... score: (test=-9.936) total time=  12.2s\n",
            "[CV] START .....................................................................\n"
          ]
        },
        {
          "name": "stderr",
          "output_type": "stream",
          "text": [
            "[Parallel(n_jobs=-1)]: Done   2 out of   2 | elapsed:   23.3s remaining:    0.0s\n"
          ]
        },
        {
          "name": "stdout",
          "output_type": "stream",
          "text": [
            "[CV] END ............................... score: (test=-9.036) total time=  11.0s\n",
            "[CV] START .....................................................................\n"
          ]
        },
        {
          "name": "stderr",
          "output_type": "stream",
          "text": [
            "[Parallel(n_jobs=-1)]: Done   3 out of   3 | elapsed:   34.3s remaining:    0.0s\n"
          ]
        },
        {
          "name": "stdout",
          "output_type": "stream",
          "text": [
            "[CV] END ............................... score: (test=-8.542) total time=  11.0s\n",
            "[CV] START .....................................................................\n"
          ]
        },
        {
          "name": "stderr",
          "output_type": "stream",
          "text": [
            "[Parallel(n_jobs=-1)]: Done   4 out of   4 | elapsed:   45.3s remaining:    0.0s\n"
          ]
        },
        {
          "name": "stdout",
          "output_type": "stream",
          "text": [
            "[CV] END .............................. score: (test=-10.524) total time=  11.2s\n",
            "[CV] START .....................................................................\n"
          ]
        },
        {
          "name": "stderr",
          "output_type": "stream",
          "text": [
            "[Parallel(n_jobs=-1)]: Done   5 out of   5 | elapsed:   56.4s remaining:    0.0s\n",
            "[Parallel(n_jobs=-1)]: Done   5 out of   5 | elapsed:   56.5s finished\n",
            "[Parallel(n_jobs=-1)]: Using backend SequentialBackend with 1 concurrent workers.\n"
          ]
        },
        {
          "name": "stdout",
          "output_type": "stream",
          "text": [
            "[CV] END ............................... score: (test=-9.096) total time=   2.1s\n",
            "[CV] START .....................................................................\n"
          ]
        },
        {
          "name": "stderr",
          "output_type": "stream",
          "text": [
            "[Parallel(n_jobs=-1)]: Done   1 out of   1 | elapsed:    2.1s remaining:    0.0s\n"
          ]
        },
        {
          "name": "stdout",
          "output_type": "stream",
          "text": [
            "[CV] END ............................... score: (test=-6.703) total time=   2.2s\n",
            "[CV] START .....................................................................\n"
          ]
        },
        {
          "name": "stderr",
          "output_type": "stream",
          "text": [
            "[Parallel(n_jobs=-1)]: Done   2 out of   2 | elapsed:    4.2s remaining:    0.0s\n"
          ]
        },
        {
          "name": "stdout",
          "output_type": "stream",
          "text": [
            "[CV] END ............................... score: (test=-5.074) total time=   2.1s\n",
            "[CV] START .....................................................................\n"
          ]
        },
        {
          "name": "stderr",
          "output_type": "stream",
          "text": [
            "[Parallel(n_jobs=-1)]: Done   3 out of   3 | elapsed:    6.3s remaining:    0.0s\n"
          ]
        },
        {
          "name": "stdout",
          "output_type": "stream",
          "text": [
            "[CV] END ............................... score: (test=-5.275) total time=   2.1s\n",
            "[CV] START .....................................................................\n"
          ]
        },
        {
          "name": "stderr",
          "output_type": "stream",
          "text": [
            "[Parallel(n_jobs=-1)]: Done   4 out of   4 | elapsed:    8.4s remaining:    0.0s\n"
          ]
        },
        {
          "name": "stdout",
          "output_type": "stream",
          "text": [
            "[CV] END ............................... score: (test=-7.880) total time=   2.1s\n",
            "[CV] START .....................................................................\n"
          ]
        },
        {
          "name": "stderr",
          "output_type": "stream",
          "text": [
            "[Parallel(n_jobs=-1)]: Done   5 out of   5 | elapsed:   10.5s remaining:    0.0s\n",
            "[Parallel(n_jobs=-1)]: Done   5 out of   5 | elapsed:   10.5s finished\n",
            "[Parallel(n_jobs=-1)]: Using backend SequentialBackend with 1 concurrent workers.\n"
          ]
        },
        {
          "name": "stdout",
          "output_type": "stream",
          "text": [
            "[CV] END ............................... score: (test=-9.518) total time=   2.1s\n",
            "[CV] START .....................................................................\n"
          ]
        },
        {
          "name": "stderr",
          "output_type": "stream",
          "text": [
            "[Parallel(n_jobs=-1)]: Done   1 out of   1 | elapsed:    2.1s remaining:    0.0s\n"
          ]
        },
        {
          "name": "stdout",
          "output_type": "stream",
          "text": [
            "[CV] END ............................... score: (test=-9.182) total time=   2.2s\n",
            "[CV] START .....................................................................\n"
          ]
        },
        {
          "name": "stderr",
          "output_type": "stream",
          "text": [
            "[Parallel(n_jobs=-1)]: Done   2 out of   2 | elapsed:    4.3s remaining:    0.0s\n"
          ]
        },
        {
          "name": "stdout",
          "output_type": "stream",
          "text": [
            "[CV] END ............................... score: (test=-8.932) total time=   2.1s\n",
            "[CV] START .....................................................................\n"
          ]
        },
        {
          "name": "stderr",
          "output_type": "stream",
          "text": [
            "[Parallel(n_jobs=-1)]: Done   3 out of   3 | elapsed:    6.5s remaining:    0.0s\n"
          ]
        },
        {
          "name": "stdout",
          "output_type": "stream",
          "text": [
            "[CV] END ............................... score: (test=-8.969) total time=   2.1s\n",
            "[CV] START .....................................................................\n"
          ]
        },
        {
          "name": "stderr",
          "output_type": "stream",
          "text": [
            "[Parallel(n_jobs=-1)]: Done   4 out of   4 | elapsed:    8.6s remaining:    0.0s\n"
          ]
        },
        {
          "name": "stdout",
          "output_type": "stream",
          "text": [
            "[CV] END .............................. score: (test=-10.713) total time=   2.2s\n",
            "[CV] START .....................................................................\n"
          ]
        },
        {
          "name": "stderr",
          "output_type": "stream",
          "text": [
            "[Parallel(n_jobs=-1)]: Done   5 out of   5 | elapsed:   10.8s remaining:    0.0s\n",
            "[Parallel(n_jobs=-1)]: Done   5 out of   5 | elapsed:   10.8s finished\n",
            "[Parallel(n_jobs=-1)]: Using backend SequentialBackend with 1 concurrent workers.\n"
          ]
        },
        {
          "name": "stdout",
          "output_type": "stream",
          "text": [
            "[CV] END ............................... score: (test=-8.960) total time=   8.5s\n",
            "[CV] START .....................................................................\n"
          ]
        },
        {
          "name": "stderr",
          "output_type": "stream",
          "text": [
            "[Parallel(n_jobs=-1)]: Done   1 out of   1 | elapsed:    8.5s remaining:    0.0s\n"
          ]
        },
        {
          "name": "stdout",
          "output_type": "stream",
          "text": [
            "[CV] END ............................... score: (test=-7.396) total time=   8.3s\n",
            "[CV] START .....................................................................\n"
          ]
        },
        {
          "name": "stderr",
          "output_type": "stream",
          "text": [
            "[Parallel(n_jobs=-1)]: Done   2 out of   2 | elapsed:   16.8s remaining:    0.0s\n"
          ]
        },
        {
          "name": "stdout",
          "output_type": "stream",
          "text": [
            "[CV] END ............................... score: (test=-4.886) total time=   8.4s\n",
            "[CV] START .....................................................................\n"
          ]
        },
        {
          "name": "stderr",
          "output_type": "stream",
          "text": [
            "[Parallel(n_jobs=-1)]: Done   3 out of   3 | elapsed:   25.2s remaining:    0.0s\n"
          ]
        },
        {
          "name": "stdout",
          "output_type": "stream",
          "text": [
            "[CV] END ............................... score: (test=-5.368) total time=   8.3s\n",
            "[CV] START .....................................................................\n"
          ]
        },
        {
          "name": "stderr",
          "output_type": "stream",
          "text": [
            "[Parallel(n_jobs=-1)]: Done   4 out of   4 | elapsed:   33.5s remaining:    0.0s\n"
          ]
        },
        {
          "name": "stdout",
          "output_type": "stream",
          "text": [
            "[CV] END ............................... score: (test=-7.705) total time=   8.2s\n",
            "[CV] START .....................................................................\n"
          ]
        },
        {
          "name": "stderr",
          "output_type": "stream",
          "text": [
            "[Parallel(n_jobs=-1)]: Done   5 out of   5 | elapsed:   41.7s remaining:    0.0s\n",
            "[Parallel(n_jobs=-1)]: Done   5 out of   5 | elapsed:   41.7s finished\n",
            "[Parallel(n_jobs=-1)]: Using backend SequentialBackend with 1 concurrent workers.\n"
          ]
        },
        {
          "name": "stdout",
          "output_type": "stream",
          "text": [
            "[CV] END ............................... score: (test=-9.287) total time=   8.5s\n",
            "[CV] START .....................................................................\n"
          ]
        },
        {
          "name": "stderr",
          "output_type": "stream",
          "text": [
            "[Parallel(n_jobs=-1)]: Done   1 out of   1 | elapsed:    8.5s remaining:    0.0s\n"
          ]
        },
        {
          "name": "stdout",
          "output_type": "stream",
          "text": [
            "[CV] END .............................. score: (test=-10.331) total time=   8.5s\n",
            "[CV] START .....................................................................\n"
          ]
        },
        {
          "name": "stderr",
          "output_type": "stream",
          "text": [
            "[Parallel(n_jobs=-1)]: Done   2 out of   2 | elapsed:   17.0s remaining:    0.0s\n"
          ]
        },
        {
          "name": "stdout",
          "output_type": "stream",
          "text": [
            "[CV] END ............................... score: (test=-9.178) total time=   8.5s\n",
            "[CV] START .....................................................................\n"
          ]
        },
        {
          "name": "stderr",
          "output_type": "stream",
          "text": [
            "[Parallel(n_jobs=-1)]: Done   3 out of   3 | elapsed:   25.5s remaining:    0.0s\n"
          ]
        },
        {
          "name": "stdout",
          "output_type": "stream",
          "text": [
            "[CV] END ............................... score: (test=-8.816) total time=   8.5s\n",
            "[CV] START .....................................................................\n"
          ]
        },
        {
          "name": "stderr",
          "output_type": "stream",
          "text": [
            "[Parallel(n_jobs=-1)]: Done   4 out of   4 | elapsed:   33.9s remaining:    0.0s\n"
          ]
        },
        {
          "name": "stdout",
          "output_type": "stream",
          "text": [
            "[CV] END .............................. score: (test=-10.999) total time=   8.4s\n",
            "[CV] START .....................................................................\n"
          ]
        },
        {
          "name": "stderr",
          "output_type": "stream",
          "text": [
            "[Parallel(n_jobs=-1)]: Done   5 out of   5 | elapsed:   42.4s remaining:    0.0s\n",
            "[Parallel(n_jobs=-1)]: Done   5 out of   5 | elapsed:   42.4s finished\n",
            "[Parallel(n_jobs=-1)]: Using backend SequentialBackend with 1 concurrent workers.\n"
          ]
        },
        {
          "name": "stdout",
          "output_type": "stream",
          "text": [
            "[CV] END ............................... score: (test=-8.964) total time=  14.6s\n",
            "[CV] START .....................................................................\n"
          ]
        },
        {
          "name": "stderr",
          "output_type": "stream",
          "text": [
            "[Parallel(n_jobs=-1)]: Done   1 out of   1 | elapsed:   14.6s remaining:    0.0s\n"
          ]
        },
        {
          "name": "stdout",
          "output_type": "stream",
          "text": [
            "[CV] END ............................... score: (test=-7.517) total time=  14.6s\n",
            "[CV] START .....................................................................\n"
          ]
        },
        {
          "name": "stderr",
          "output_type": "stream",
          "text": [
            "[Parallel(n_jobs=-1)]: Done   2 out of   2 | elapsed:   29.2s remaining:    0.0s\n"
          ]
        },
        {
          "name": "stdout",
          "output_type": "stream",
          "text": [
            "[CV] END ............................... score: (test=-4.847) total time=  14.7s\n",
            "[CV] START .....................................................................\n"
          ]
        },
        {
          "name": "stderr",
          "output_type": "stream",
          "text": [
            "[Parallel(n_jobs=-1)]: Done   3 out of   3 | elapsed:   43.9s remaining:    0.0s\n"
          ]
        },
        {
          "name": "stdout",
          "output_type": "stream",
          "text": [
            "[CV] END ............................... score: (test=-5.486) total time=  14.6s\n",
            "[CV] START .....................................................................\n"
          ]
        },
        {
          "name": "stderr",
          "output_type": "stream",
          "text": [
            "[Parallel(n_jobs=-1)]: Done   4 out of   4 | elapsed:   58.5s remaining:    0.0s\n"
          ]
        },
        {
          "name": "stdout",
          "output_type": "stream",
          "text": [
            "[CV] END ............................... score: (test=-7.633) total time=  14.5s\n",
            "[CV] START .....................................................................\n"
          ]
        },
        {
          "name": "stderr",
          "output_type": "stream",
          "text": [
            "[Parallel(n_jobs=-1)]: Done   5 out of   5 | elapsed:  1.2min remaining:    0.0s\n",
            "[Parallel(n_jobs=-1)]: Done   5 out of   5 | elapsed:  1.2min finished\n",
            "[Parallel(n_jobs=-1)]: Using backend SequentialBackend with 1 concurrent workers.\n"
          ]
        },
        {
          "name": "stdout",
          "output_type": "stream",
          "text": [
            "[CV] END ............................... score: (test=-9.347) total time=  14.8s\n",
            "[CV] START .....................................................................\n"
          ]
        },
        {
          "name": "stderr",
          "output_type": "stream",
          "text": [
            "[Parallel(n_jobs=-1)]: Done   1 out of   1 | elapsed:   14.8s remaining:    0.0s\n"
          ]
        },
        {
          "name": "stdout",
          "output_type": "stream",
          "text": [
            "[CV] END .............................. score: (test=-10.366) total time=  15.1s\n",
            "[CV] START .....................................................................\n"
          ]
        },
        {
          "name": "stderr",
          "output_type": "stream",
          "text": [
            "[Parallel(n_jobs=-1)]: Done   2 out of   2 | elapsed:   29.9s remaining:    0.0s\n"
          ]
        },
        {
          "name": "stdout",
          "output_type": "stream",
          "text": [
            "[CV] END ............................... score: (test=-9.151) total time=  14.6s\n",
            "[CV] START .....................................................................\n"
          ]
        },
        {
          "name": "stderr",
          "output_type": "stream",
          "text": [
            "[Parallel(n_jobs=-1)]: Done   3 out of   3 | elapsed:   44.5s remaining:    0.0s\n"
          ]
        },
        {
          "name": "stdout",
          "output_type": "stream",
          "text": [
            "[CV] END ............................... score: (test=-8.759) total time=  15.0s\n",
            "[CV] START .....................................................................\n"
          ]
        },
        {
          "name": "stderr",
          "output_type": "stream",
          "text": [
            "[Parallel(n_jobs=-1)]: Done   4 out of   4 | elapsed:   59.5s remaining:    0.0s\n"
          ]
        },
        {
          "name": "stdout",
          "output_type": "stream",
          "text": [
            "[CV] END .............................. score: (test=-10.668) total time=  14.8s\n",
            "[CV] START .....................................................................\n"
          ]
        },
        {
          "name": "stderr",
          "output_type": "stream",
          "text": [
            "[Parallel(n_jobs=-1)]: Done   5 out of   5 | elapsed:  1.2min remaining:    0.0s\n",
            "[Parallel(n_jobs=-1)]: Done   5 out of   5 | elapsed:  1.2min finished\n",
            "[Parallel(n_jobs=-1)]: Using backend SequentialBackend with 1 concurrent workers.\n"
          ]
        },
        {
          "name": "stdout",
          "output_type": "stream",
          "text": [
            "[CV] END ............................... score: (test=-9.113) total time=   2.6s\n",
            "[CV] START .....................................................................\n"
          ]
        },
        {
          "name": "stderr",
          "output_type": "stream",
          "text": [
            "[Parallel(n_jobs=-1)]: Done   1 out of   1 | elapsed:    2.6s remaining:    0.0s\n"
          ]
        },
        {
          "name": "stdout",
          "output_type": "stream",
          "text": [
            "[CV] END ............................... score: (test=-7.394) total time=   2.6s\n",
            "[CV] START .....................................................................\n"
          ]
        },
        {
          "name": "stderr",
          "output_type": "stream",
          "text": [
            "[Parallel(n_jobs=-1)]: Done   2 out of   2 | elapsed:    5.2s remaining:    0.0s\n"
          ]
        },
        {
          "name": "stdout",
          "output_type": "stream",
          "text": [
            "[CV] END ............................... score: (test=-5.364) total time=   2.6s\n",
            "[CV] START .....................................................................\n"
          ]
        },
        {
          "name": "stderr",
          "output_type": "stream",
          "text": [
            "[Parallel(n_jobs=-1)]: Done   3 out of   3 | elapsed:    7.8s remaining:    0.0s\n"
          ]
        },
        {
          "name": "stdout",
          "output_type": "stream",
          "text": [
            "[CV] END ............................... score: (test=-5.358) total time=   2.7s\n",
            "[CV] START .....................................................................\n"
          ]
        },
        {
          "name": "stderr",
          "output_type": "stream",
          "text": [
            "[Parallel(n_jobs=-1)]: Done   4 out of   4 | elapsed:   10.4s remaining:    0.0s\n"
          ]
        },
        {
          "name": "stdout",
          "output_type": "stream",
          "text": [
            "[CV] END ............................... score: (test=-8.488) total time=   2.6s\n",
            "[CV] START .....................................................................\n"
          ]
        },
        {
          "name": "stderr",
          "output_type": "stream",
          "text": [
            "[Parallel(n_jobs=-1)]: Done   5 out of   5 | elapsed:   13.0s remaining:    0.0s\n",
            "[Parallel(n_jobs=-1)]: Done   5 out of   5 | elapsed:   13.0s finished\n",
            "[Parallel(n_jobs=-1)]: Using backend SequentialBackend with 1 concurrent workers.\n"
          ]
        },
        {
          "name": "stdout",
          "output_type": "stream",
          "text": [
            "[CV] END ............................... score: (test=-9.856) total time=   2.6s\n",
            "[CV] START .....................................................................\n"
          ]
        },
        {
          "name": "stderr",
          "output_type": "stream",
          "text": [
            "[Parallel(n_jobs=-1)]: Done   1 out of   1 | elapsed:    2.6s remaining:    0.0s\n"
          ]
        },
        {
          "name": "stdout",
          "output_type": "stream",
          "text": [
            "[CV] END ............................... score: (test=-9.595) total time=   2.6s\n",
            "[CV] START .....................................................................\n"
          ]
        },
        {
          "name": "stderr",
          "output_type": "stream",
          "text": [
            "[Parallel(n_jobs=-1)]: Done   2 out of   2 | elapsed:    5.1s remaining:    0.0s\n"
          ]
        },
        {
          "name": "stdout",
          "output_type": "stream",
          "text": [
            "[CV] END ............................... score: (test=-8.731) total time=   2.6s\n",
            "[CV] START .....................................................................\n"
          ]
        },
        {
          "name": "stderr",
          "output_type": "stream",
          "text": [
            "[Parallel(n_jobs=-1)]: Done   3 out of   3 | elapsed:    7.7s remaining:    0.0s\n"
          ]
        },
        {
          "name": "stdout",
          "output_type": "stream",
          "text": [
            "[CV] END ............................... score: (test=-9.243) total time=   2.6s\n",
            "[CV] START .....................................................................\n"
          ]
        },
        {
          "name": "stderr",
          "output_type": "stream",
          "text": [
            "[Parallel(n_jobs=-1)]: Done   4 out of   4 | elapsed:   10.3s remaining:    0.0s\n"
          ]
        },
        {
          "name": "stdout",
          "output_type": "stream",
          "text": [
            "[CV] END .............................. score: (test=-11.110) total time=   2.6s\n",
            "[CV] START .....................................................................\n"
          ]
        },
        {
          "name": "stderr",
          "output_type": "stream",
          "text": [
            "[Parallel(n_jobs=-1)]: Done   5 out of   5 | elapsed:   12.9s remaining:    0.0s\n",
            "[Parallel(n_jobs=-1)]: Done   5 out of   5 | elapsed:   12.9s finished\n",
            "[Parallel(n_jobs=-1)]: Using backend SequentialBackend with 1 concurrent workers.\n"
          ]
        },
        {
          "name": "stdout",
          "output_type": "stream",
          "text": [
            "[CV] END ............................... score: (test=-9.185) total time=  10.2s\n",
            "[CV] START .....................................................................\n"
          ]
        },
        {
          "name": "stderr",
          "output_type": "stream",
          "text": [
            "[Parallel(n_jobs=-1)]: Done   1 out of   1 | elapsed:   10.2s remaining:    0.0s\n"
          ]
        },
        {
          "name": "stdout",
          "output_type": "stream",
          "text": [
            "[CV] END ............................... score: (test=-7.271) total time=  10.3s\n",
            "[CV] START .....................................................................\n"
          ]
        },
        {
          "name": "stderr",
          "output_type": "stream",
          "text": [
            "[Parallel(n_jobs=-1)]: Done   2 out of   2 | elapsed:   20.6s remaining:    0.0s\n"
          ]
        },
        {
          "name": "stdout",
          "output_type": "stream",
          "text": [
            "[CV] END ............................... score: (test=-5.012) total time=  10.2s\n",
            "[CV] START .....................................................................\n"
          ]
        },
        {
          "name": "stderr",
          "output_type": "stream",
          "text": [
            "[Parallel(n_jobs=-1)]: Done   3 out of   3 | elapsed:   30.8s remaining:    0.0s\n"
          ]
        },
        {
          "name": "stdout",
          "output_type": "stream",
          "text": [
            "[CV] END ............................... score: (test=-5.760) total time=  10.2s\n",
            "[CV] START .....................................................................\n"
          ]
        },
        {
          "name": "stderr",
          "output_type": "stream",
          "text": [
            "[Parallel(n_jobs=-1)]: Done   4 out of   4 | elapsed:   41.1s remaining:    0.0s\n"
          ]
        },
        {
          "name": "stdout",
          "output_type": "stream",
          "text": [
            "[CV] END ............................... score: (test=-7.973) total time=  10.4s\n",
            "[CV] START .....................................................................\n"
          ]
        },
        {
          "name": "stderr",
          "output_type": "stream",
          "text": [
            "[Parallel(n_jobs=-1)]: Done   5 out of   5 | elapsed:   51.4s remaining:    0.0s\n",
            "[Parallel(n_jobs=-1)]: Done   5 out of   5 | elapsed:   51.4s finished\n",
            "[Parallel(n_jobs=-1)]: Using backend SequentialBackend with 1 concurrent workers.\n"
          ]
        },
        {
          "name": "stdout",
          "output_type": "stream",
          "text": [
            "[CV] END ............................... score: (test=-9.406) total time=  10.4s\n",
            "[CV] START .....................................................................\n"
          ]
        },
        {
          "name": "stderr",
          "output_type": "stream",
          "text": [
            "[Parallel(n_jobs=-1)]: Done   1 out of   1 | elapsed:   10.4s remaining:    0.0s\n"
          ]
        },
        {
          "name": "stdout",
          "output_type": "stream",
          "text": [
            "[CV] END .............................. score: (test=-10.453) total time=  10.5s\n",
            "[CV] START .....................................................................\n"
          ]
        },
        {
          "name": "stderr",
          "output_type": "stream",
          "text": [
            "[Parallel(n_jobs=-1)]: Done   2 out of   2 | elapsed:   21.0s remaining:    0.0s\n"
          ]
        },
        {
          "name": "stdout",
          "output_type": "stream",
          "text": [
            "[CV] END ............................... score: (test=-9.011) total time=  10.4s\n",
            "[CV] START .....................................................................\n"
          ]
        },
        {
          "name": "stderr",
          "output_type": "stream",
          "text": [
            "[Parallel(n_jobs=-1)]: Done   3 out of   3 | elapsed:   31.3s remaining:    0.0s\n"
          ]
        },
        {
          "name": "stdout",
          "output_type": "stream",
          "text": [
            "[CV] END ............................... score: (test=-9.017) total time=  10.5s\n",
            "[CV] START .....................................................................\n"
          ]
        },
        {
          "name": "stderr",
          "output_type": "stream",
          "text": [
            "[Parallel(n_jobs=-1)]: Done   4 out of   4 | elapsed:   41.8s remaining:    0.0s\n"
          ]
        },
        {
          "name": "stdout",
          "output_type": "stream",
          "text": [
            "[CV] END .............................. score: (test=-11.030) total time=  10.6s\n",
            "[CV] START .....................................................................\n"
          ]
        },
        {
          "name": "stderr",
          "output_type": "stream",
          "text": [
            "[Parallel(n_jobs=-1)]: Done   5 out of   5 | elapsed:   52.5s remaining:    0.0s\n",
            "[Parallel(n_jobs=-1)]: Done   5 out of   5 | elapsed:   52.5s finished\n",
            "[Parallel(n_jobs=-1)]: Using backend SequentialBackend with 1 concurrent workers.\n"
          ]
        },
        {
          "name": "stdout",
          "output_type": "stream",
          "text": [
            "[CV] END ............................... score: (test=-9.153) total time=  17.9s\n",
            "[CV] START .....................................................................\n"
          ]
        },
        {
          "name": "stderr",
          "output_type": "stream",
          "text": [
            "[Parallel(n_jobs=-1)]: Done   1 out of   1 | elapsed:   17.9s remaining:    0.0s\n"
          ]
        },
        {
          "name": "stdout",
          "output_type": "stream",
          "text": [
            "[CV] END ............................... score: (test=-7.536) total time=  18.7s\n",
            "[CV] START .....................................................................\n"
          ]
        },
        {
          "name": "stderr",
          "output_type": "stream",
          "text": [
            "[Parallel(n_jobs=-1)]: Done   2 out of   2 | elapsed:   36.5s remaining:    0.0s\n"
          ]
        },
        {
          "name": "stdout",
          "output_type": "stream",
          "text": [
            "[CV] END ............................... score: (test=-4.861) total time=  18.0s\n",
            "[CV] START .....................................................................\n"
          ]
        },
        {
          "name": "stderr",
          "output_type": "stream",
          "text": [
            "[Parallel(n_jobs=-1)]: Done   3 out of   3 | elapsed:   54.6s remaining:    0.0s\n"
          ]
        },
        {
          "name": "stdout",
          "output_type": "stream",
          "text": [
            "[CV] END ............................... score: (test=-5.859) total time=  18.5s\n",
            "[CV] START .....................................................................\n"
          ]
        },
        {
          "name": "stderr",
          "output_type": "stream",
          "text": [
            "[Parallel(n_jobs=-1)]: Done   4 out of   4 | elapsed:  1.2min remaining:    0.0s\n"
          ]
        },
        {
          "name": "stdout",
          "output_type": "stream",
          "text": [
            "[CV] END ............................... score: (test=-7.893) total time=  19.5s\n",
            "[CV] START .....................................................................\n"
          ]
        },
        {
          "name": "stderr",
          "output_type": "stream",
          "text": [
            "[Parallel(n_jobs=-1)]: Done   5 out of   5 | elapsed:  1.5min remaining:    0.0s\n",
            "[Parallel(n_jobs=-1)]: Done   5 out of   5 | elapsed:  1.5min finished\n",
            "[Parallel(n_jobs=-1)]: Using backend SequentialBackend with 1 concurrent workers.\n"
          ]
        },
        {
          "name": "stdout",
          "output_type": "stream",
          "text": [
            "[CV] END ............................... score: (test=-9.490) total time=  18.9s\n",
            "[CV] START .....................................................................\n"
          ]
        },
        {
          "name": "stderr",
          "output_type": "stream",
          "text": [
            "[Parallel(n_jobs=-1)]: Done   1 out of   1 | elapsed:   18.9s remaining:    0.0s\n"
          ]
        },
        {
          "name": "stdout",
          "output_type": "stream",
          "text": [
            "[CV] END .............................. score: (test=-10.672) total time=  19.0s\n",
            "[CV] START .....................................................................\n"
          ]
        },
        {
          "name": "stderr",
          "output_type": "stream",
          "text": [
            "[Parallel(n_jobs=-1)]: Done   2 out of   2 | elapsed:   37.9s remaining:    0.0s\n"
          ]
        },
        {
          "name": "stdout",
          "output_type": "stream",
          "text": [
            "[CV] END ............................... score: (test=-8.949) total time=  18.6s\n",
            "[CV] START .....................................................................\n"
          ]
        },
        {
          "name": "stderr",
          "output_type": "stream",
          "text": [
            "[Parallel(n_jobs=-1)]: Done   3 out of   3 | elapsed:   56.5s remaining:    0.0s\n"
          ]
        },
        {
          "name": "stdout",
          "output_type": "stream",
          "text": [
            "[CV] END ............................... score: (test=-8.945) total time=  18.7s\n",
            "[CV] START .....................................................................\n"
          ]
        },
        {
          "name": "stderr",
          "output_type": "stream",
          "text": [
            "[Parallel(n_jobs=-1)]: Done   4 out of   4 | elapsed:  1.3min remaining:    0.0s\n"
          ]
        },
        {
          "name": "stdout",
          "output_type": "stream",
          "text": [
            "[CV] END .............................. score: (test=-10.872) total time=  19.2s\n",
            "8.587017567406988\n",
            "Лучшая глубина 3\n",
            "Кол-во деревьев 10\n",
            "CPU times: user 15min 19s, sys: 1.71 s, total: 15min 21s\n",
            "Wall time: 15min 23s\n"
          ]
        },
        {
          "name": "stderr",
          "output_type": "stream",
          "text": [
            "[Parallel(n_jobs=-1)]: Done   5 out of   5 | elapsed:  1.6min remaining:    0.0s\n",
            "[Parallel(n_jobs=-1)]: Done   5 out of   5 | elapsed:  1.6min finished\n"
          ]
        }
      ],
      "source": [
        "%%time\n",
        "\n",
        "best_result_rf = 100\n",
        "best_depth_rf = 0\n",
        "best_est_rf = 0\n",
        "for dept in range(1, 10, 2):\n",
        "    for est in range (10, 100, 30):\n",
        "        model_rf_rougher = RandomForestRegressor(n_estimators = est,\n",
        "                                                max_depth = dept,\n",
        "                                                random_state = state)\n",
        "        smape_rougher_rf = cross_val_score(model_rf_rougher,\n",
        "                                          features_train,\n",
        "                                          target_rough_train,\n",
        "                                          scoring = smape_score,\n",
        "                                          cv=5,\n",
        "                                          n_jobs= -1,\n",
        "                                          verbose = 10)\n",
        "        final_smape_rougher_rf = smape_rougher_rf.mean()\n",
        "\n",
        "        model_rf_final = RandomForestRegressor(n_estimators = est,\n",
        "                                                max_depth = dept,\n",
        "                                                random_state = state)\n",
        "        smape_final_rf = cross_val_score(model_rf_final,\n",
        "                                        features_train,\n",
        "                                        target_final_train,\n",
        "                                        scoring = smape_score,\n",
        "                                        cv=5,\n",
        "                                        n_jobs=-1,\n",
        "                                        verbose=10)\n",
        "        final_smape_final_rf = smape_final_rf.mean()\n",
        "        result_smape_rf = get_final_smape(final_smape_rougher_rf, final_smape_final_rf)*(-1)\n",
        "\n",
        "        if result_smape_rf < best_result_rf:\n",
        "            best_result_rf = result_smape_rf\n",
        "            best_depth_rf = dept\n",
        "            best_est_rf = est\n",
        "\n",
        "print(best_result_rf)\n",
        "print(f'Лучшая глубина {best_depth_rf}')\n",
        "print(f'Кол-во деревьев {best_est_rf}')"
      ]
    },
    {
      "cell_type": "markdown",
      "metadata": {
        "id": "vkImJ1Fi8St9"
      },
      "source": [
        "<div class=\"alert alert-info\">\n",
        "<h2> Комментарий студента <a class=\"tocSkip\"> </h2>\n",
        "\n",
        "Применил n_jobs и verbose, интересные фичи спасибо, интересно наблюдать, как обучение происходит в реальном времени!) Попробовал параметр cv изменить на 3, и значение стали больше, оставил 5 как и было.\n",
        "</div>"
      ]
    },
    {
      "cell_type": "markdown",
      "metadata": {
        "id": "6UcTDnrP8St-"
      },
      "source": [
        "SMAPE для случайного леса составляет 8.58, при глубине 3 и 10 деревьях. Самый лучший показатель, на данной модели и будем проводить проверку на тестовой выборке"
      ]
    },
    {
      "cell_type": "code",
      "execution_count": null,
      "metadata": {
        "id": "PP-jV1qJ8St-"
      },
      "outputs": [],
      "source": [
        "features_test = df_test.drop(['rougher.output.recovery', 'final.output.recovery'], axis =1)\n",
        "target_rough_test = df_test['rougher.output.recovery']\n",
        "target_final_test = df_test['final.output.recovery']"
      ]
    },
    {
      "cell_type": "code",
      "execution_count": null,
      "metadata": {
        "id": "ylF9juwg8St-",
        "outputId": "530dc5ed-e640-4b0e-f614-e9d26fdac08c"
      },
      "outputs": [
        {
          "name": "stdout",
          "output_type": "stream",
          "text": [
            "Smape для тестовой выборки составляет:  8.100244376233212\n"
          ]
        }
      ],
      "source": [
        "model_test_rough = RandomForestRegressor(n_estimators = 10, max_depth = 3, random_state = state)\n",
        "model_test_rough.fit(features_test, target_rough_test)\n",
        "predictions_rough = model_test_rough.predict(features_test)\n",
        "\n",
        "model_test_final = RandomForestRegressor(n_estimators = 10, max_depth = 3, random_state = state)\n",
        "model_test_final.fit(features_test, target_final_test)\n",
        "predictions_final = model_test_final.predict(features_test)\n",
        "\n",
        "smape_rough_test = get_smape(target_rough_test, predictions_rough)\n",
        "smape_final_test = get_smape(target_final_test, predictions_final)\n",
        "final_smape_test = get_final_smape(smape_rough_test, smape_final_test)\n",
        "\n",
        "print('Smape для тестовой выборки составляет: ', final_smape_test)"
      ]
    },
    {
      "cell_type": "markdown",
      "metadata": {
        "id": "uo-HWja08St-"
      },
      "source": [
        "Для тествой выборки SMAPE даже чуть меньше, чем у обучающей, но не сильно"
      ]
    },
    {
      "cell_type": "markdown",
      "metadata": {
        "id": "Bje4PGEy8St_"
      },
      "source": [
        "#### Проверим модель на адекватность. Построим константную модель\n",
        "\n"
      ]
    },
    {
      "cell_type": "code",
      "execution_count": null,
      "metadata": {
        "id": "YISg7Q7F8St_",
        "outputId": "d4e38e13-cd86-4ee2-f7c7-14ecea808262"
      },
      "outputs": [
        {
          "name": "stdout",
          "output_type": "stream",
          "text": [
            "9.82146839182027\n"
          ]
        }
      ],
      "source": [
        "dummy_regr_rough = DummyRegressor(strategy = 'mean')\n",
        "dummy_regr_final = DummyRegressor(strategy = 'mean')\n",
        "\n",
        "dummy_regr_rough.fit(features_train, target_rough_train)\n",
        "dummy_regr_final.fit(features_train, target_final_train)\n",
        "\n",
        "dummy_pred_rough = dummy_regr_rough.predict(features_test)\n",
        "dummy_pred_final = dummy_regr_final.predict(features_test)\n",
        "\n",
        "dummy_smape_rough = get_smape(target_rough_test, dummy_pred_rough)\n",
        "dummy_smape_final = get_smape(target_final_test, dummy_pred_final)\n",
        "\n",
        "dummy_final_smape = get_final_smape(dummy_smape_rough, dummy_smape_final)\n",
        "\n",
        "print(dummy_final_smape)"
      ]
    },
    {
      "cell_type": "markdown",
      "metadata": {
        "id": "tbZqPC_b8St_"
      },
      "source": [
        "SMAPE константной модели больше чем на тестовой выборке, это означает хоршее качество модели."
      ]
    },
    {
      "cell_type": "markdown",
      "metadata": {
        "id": "MofU0O7g8SuA"
      },
      "source": [
        "## Общий вывод"
      ]
    },
    {
      "cell_type": "markdown",
      "metadata": {
        "id": "lQVT-REl8SuA"
      },
      "source": [
        "Мы проверили обработка данные 3-х выборок, заполнили пропуски, изменили типы данных столбца дата во временной формат. Посчитали эффективность обогащения металла и сравнили ее с MAE - которая оказалась невилика и свидетельствует о правильности расчетов.\n",
        "\n",
        "Обнаружили, что в тестовой выборке не хватало данных, которые есть в тренировочной выборке, а также нет целевых признаков, поэтому удалили недостающие данные из обучающей выборки и добавили в тестовую целевые признаки, для проверки наилучшей модели.\n",
        "\n",
        "Сделали визуализацию изменения концентрации металлов и размера гранул сырья на разных этапах обработки - практически у всех металлов, за исключением серебра, с каждым этапом обработки концентрация увеличивалась, а размеры гранул уменьшались. Распределение гранул на обучающей выборке и тестовой практически не отличаются, заметили интересный эффект, что тренировочная выборка подобна тени тестовой выборки. На каждом этапе обработки обнружили аномальные значения (выбросы) около нуля, от них пришлось избавиться, чтобы не мешали обучать модели.\n",
        "\n",
        "Построили 3 модели и обучили их на тренировочной выборке, в каждой модели указывали время обучения, дольше всех обучалась модель случайного леса, поэтому несколько раз приходилось подбирать подходящий шаг для каждого этапа обучения. Лучший показатель SMAPE оказался у модели случайного леса, по ней сделали проверку на тестовой выборке, она оказалась практически идентичной.\n",
        "\n",
        "Проверили модель на адекватность и сравнили ее с лучшей моделью, SMAPE константной модели оказалась выше лучшей модель (Случайного леса), что говорит о хорошем качестве модели."
      ]
    }
  ],
  "metadata": {
    "ExecuteTimeLog": [
      {
        "duration": 1129,
        "start_time": "2022-12-12T15:41:44.398Z"
      },
      {
        "duration": 9,
        "start_time": "2022-12-12T15:42:03.092Z"
      },
      {
        "duration": 71,
        "start_time": "2022-12-12T15:42:05.933Z"
      },
      {
        "duration": 17,
        "start_time": "2022-12-12T15:42:19.576Z"
      },
      {
        "duration": 9,
        "start_time": "2022-12-12T15:42:52.232Z"
      },
      {
        "duration": 10,
        "start_time": "2022-12-12T15:43:11.514Z"
      },
      {
        "duration": 8,
        "start_time": "2022-12-12T15:43:34.006Z"
      },
      {
        "duration": 382,
        "start_time": "2022-12-12T15:43:44.456Z"
      },
      {
        "duration": 4,
        "start_time": "2022-12-12T15:43:49.093Z"
      },
      {
        "duration": 2549,
        "start_time": "2022-12-12T15:46:21.748Z"
      },
      {
        "duration": 707,
        "start_time": "2022-12-12T15:46:50.623Z"
      },
      {
        "duration": 23,
        "start_time": "2022-12-12T15:47:06.966Z"
      },
      {
        "duration": 18,
        "start_time": "2022-12-12T15:47:34.379Z"
      },
      {
        "duration": 20,
        "start_time": "2022-12-12T15:47:46.611Z"
      },
      {
        "duration": 17,
        "start_time": "2022-12-12T15:48:10.793Z"
      },
      {
        "duration": 6,
        "start_time": "2022-12-12T15:49:20.893Z"
      },
      {
        "duration": 17,
        "start_time": "2022-12-12T15:49:32.035Z"
      },
      {
        "duration": 6,
        "start_time": "2022-12-12T15:49:35.040Z"
      },
      {
        "duration": 11,
        "start_time": "2022-12-12T15:49:47.159Z"
      },
      {
        "duration": 11,
        "start_time": "2022-12-12T15:50:01.892Z"
      },
      {
        "duration": 17,
        "start_time": "2022-12-12T15:50:35.719Z"
      },
      {
        "duration": 11,
        "start_time": "2022-12-12T15:51:07.554Z"
      },
      {
        "duration": 12,
        "start_time": "2022-12-12T15:51:14.953Z"
      },
      {
        "duration": 11,
        "start_time": "2022-12-12T15:51:35.817Z"
      },
      {
        "duration": 19,
        "start_time": "2022-12-12T15:51:48.375Z"
      },
      {
        "duration": 9,
        "start_time": "2022-12-12T15:52:56.601Z"
      },
      {
        "duration": 12,
        "start_time": "2022-12-12T15:53:14.998Z"
      },
      {
        "duration": 10,
        "start_time": "2022-12-12T15:53:21.609Z"
      },
      {
        "duration": 10,
        "start_time": "2022-12-12T15:53:31.387Z"
      },
      {
        "duration": 10,
        "start_time": "2022-12-12T15:53:58.559Z"
      },
      {
        "duration": 7,
        "start_time": "2022-12-12T15:54:56.467Z"
      },
      {
        "duration": 9,
        "start_time": "2022-12-12T15:55:45.288Z"
      },
      {
        "duration": 9,
        "start_time": "2022-12-12T15:55:56.891Z"
      },
      {
        "duration": 9,
        "start_time": "2022-12-12T15:56:01.210Z"
      },
      {
        "duration": 42,
        "start_time": "2022-12-12T15:56:14.683Z"
      },
      {
        "duration": 11,
        "start_time": "2022-12-12T15:56:18.330Z"
      },
      {
        "duration": 9,
        "start_time": "2022-12-12T15:56:28.977Z"
      },
      {
        "duration": 11,
        "start_time": "2022-12-12T15:56:35.394Z"
      },
      {
        "duration": 9,
        "start_time": "2022-12-12T15:56:49.778Z"
      },
      {
        "duration": 7,
        "start_time": "2022-12-12T15:56:57.412Z"
      },
      {
        "duration": 6,
        "start_time": "2022-12-12T15:57:33.214Z"
      },
      {
        "duration": 10,
        "start_time": "2022-12-12T16:04:58.240Z"
      },
      {
        "duration": 9,
        "start_time": "2022-12-12T16:05:20.216Z"
      },
      {
        "duration": 9,
        "start_time": "2022-12-12T16:05:26.011Z"
      },
      {
        "duration": 9,
        "start_time": "2022-12-12T16:05:31.182Z"
      },
      {
        "duration": 9,
        "start_time": "2022-12-12T16:05:38.541Z"
      },
      {
        "duration": 10,
        "start_time": "2022-12-12T16:05:44.531Z"
      },
      {
        "duration": 10,
        "start_time": "2022-12-12T16:05:50.753Z"
      },
      {
        "duration": 9,
        "start_time": "2022-12-12T16:05:53.182Z"
      },
      {
        "duration": 11,
        "start_time": "2022-12-12T16:05:56.329Z"
      },
      {
        "duration": 12,
        "start_time": "2022-12-12T16:05:59.264Z"
      },
      {
        "duration": 12,
        "start_time": "2022-12-12T16:06:02.459Z"
      },
      {
        "duration": 12,
        "start_time": "2022-12-12T16:06:04.990Z"
      },
      {
        "duration": 10,
        "start_time": "2022-12-12T16:06:54.764Z"
      },
      {
        "duration": 10,
        "start_time": "2022-12-12T16:07:08.526Z"
      },
      {
        "duration": 6,
        "start_time": "2022-12-12T16:09:13.476Z"
      },
      {
        "duration": 11,
        "start_time": "2022-12-12T16:10:44.142Z"
      },
      {
        "duration": 14,
        "start_time": "2022-12-12T16:10:50.317Z"
      },
      {
        "duration": 10,
        "start_time": "2022-12-12T16:10:54.603Z"
      },
      {
        "duration": 10,
        "start_time": "2022-12-12T16:10:59.537Z"
      },
      {
        "duration": 12,
        "start_time": "2022-12-12T16:13:16.161Z"
      },
      {
        "duration": 10,
        "start_time": "2022-12-12T16:13:22.286Z"
      },
      {
        "duration": 11,
        "start_time": "2022-12-12T16:13:29.654Z"
      },
      {
        "duration": 12,
        "start_time": "2022-12-12T16:13:38.545Z"
      },
      {
        "duration": 114,
        "start_time": "2022-12-12T16:14:18.048Z"
      },
      {
        "duration": 11,
        "start_time": "2022-12-12T16:14:41.572Z"
      },
      {
        "duration": 112,
        "start_time": "2022-12-12T16:14:51.886Z"
      },
      {
        "duration": 9,
        "start_time": "2022-12-12T16:16:56.047Z"
      },
      {
        "duration": 10,
        "start_time": "2022-12-12T16:18:44.925Z"
      },
      {
        "duration": 11,
        "start_time": "2022-12-12T16:18:47.834Z"
      },
      {
        "duration": 10,
        "start_time": "2022-12-12T16:18:56.886Z"
      },
      {
        "duration": 18,
        "start_time": "2022-12-12T16:19:23.075Z"
      },
      {
        "duration": 9,
        "start_time": "2022-12-12T16:20:19.425Z"
      },
      {
        "duration": 32,
        "start_time": "2022-12-12T16:20:28.412Z"
      },
      {
        "duration": 9,
        "start_time": "2022-12-12T16:20:35.071Z"
      },
      {
        "duration": 5,
        "start_time": "2022-12-12T16:21:39.199Z"
      },
      {
        "duration": 8,
        "start_time": "2022-12-12T16:21:58.821Z"
      },
      {
        "duration": 12,
        "start_time": "2022-12-12T16:22:13.658Z"
      },
      {
        "duration": 47,
        "start_time": "2022-12-12T16:23:58.443Z"
      },
      {
        "duration": 8,
        "start_time": "2022-12-12T16:24:46.648Z"
      },
      {
        "duration": 6,
        "start_time": "2022-12-12T16:27:22.673Z"
      },
      {
        "duration": 25,
        "start_time": "2022-12-12T16:27:50.457Z"
      },
      {
        "duration": 23,
        "start_time": "2022-12-12T16:29:02.035Z"
      },
      {
        "duration": 25,
        "start_time": "2022-12-12T16:30:04.458Z"
      },
      {
        "duration": 12,
        "start_time": "2022-12-12T16:32:49.916Z"
      },
      {
        "duration": 10,
        "start_time": "2022-12-12T16:32:56.315Z"
      },
      {
        "duration": 12,
        "start_time": "2022-12-12T16:33:11.548Z"
      },
      {
        "duration": 7,
        "start_time": "2022-12-12T16:33:59.716Z"
      },
      {
        "duration": 9,
        "start_time": "2022-12-12T16:34:29.008Z"
      },
      {
        "duration": 6,
        "start_time": "2022-12-12T16:34:41.624Z"
      },
      {
        "duration": 7,
        "start_time": "2022-12-12T16:34:53.529Z"
      },
      {
        "duration": 4,
        "start_time": "2022-12-12T16:38:15.446Z"
      },
      {
        "duration": 9,
        "start_time": "2022-12-12T16:38:21.276Z"
      },
      {
        "duration": 10,
        "start_time": "2022-12-12T16:40:54.351Z"
      },
      {
        "duration": 9,
        "start_time": "2022-12-12T16:40:57.320Z"
      },
      {
        "duration": 14,
        "start_time": "2022-12-12T16:41:15.513Z"
      },
      {
        "duration": 6,
        "start_time": "2022-12-12T16:41:29.542Z"
      },
      {
        "duration": 10,
        "start_time": "2022-12-12T16:41:45.488Z"
      },
      {
        "duration": 23,
        "start_time": "2022-12-12T16:42:20.103Z"
      },
      {
        "duration": 10,
        "start_time": "2022-12-12T16:42:31.149Z"
      },
      {
        "duration": 47,
        "start_time": "2022-12-12T16:46:54.739Z"
      },
      {
        "duration": 51,
        "start_time": "2022-12-12T16:47:07.301Z"
      },
      {
        "duration": 46,
        "start_time": "2022-12-12T16:49:29.237Z"
      },
      {
        "duration": 53,
        "start_time": "2022-12-12T16:49:36.484Z"
      },
      {
        "duration": 351,
        "start_time": "2022-12-12T16:49:46.826Z"
      },
      {
        "duration": 403,
        "start_time": "2022-12-12T16:50:10.497Z"
      },
      {
        "duration": 348,
        "start_time": "2022-12-12T16:51:45.830Z"
      },
      {
        "duration": 403,
        "start_time": "2022-12-12T16:52:02.239Z"
      },
      {
        "duration": 400,
        "start_time": "2022-12-12T16:53:26.946Z"
      },
      {
        "duration": 6,
        "start_time": "2022-12-12T16:57:44.240Z"
      },
      {
        "duration": 18,
        "start_time": "2022-12-12T16:59:27.231Z"
      },
      {
        "duration": 4,
        "start_time": "2022-12-12T17:05:14.399Z"
      },
      {
        "duration": 10,
        "start_time": "2022-12-12T17:05:18.909Z"
      },
      {
        "duration": 10,
        "start_time": "2022-12-12T17:05:24.499Z"
      },
      {
        "duration": 22,
        "start_time": "2022-12-12T17:05:34.259Z"
      },
      {
        "duration": 12,
        "start_time": "2022-12-12T17:06:03.939Z"
      },
      {
        "duration": 16,
        "start_time": "2022-12-12T17:06:26.341Z"
      },
      {
        "duration": 1508,
        "start_time": "2022-12-19T07:15:22.130Z"
      },
      {
        "duration": 2800,
        "start_time": "2022-12-19T07:15:23.641Z"
      },
      {
        "duration": 110,
        "start_time": "2022-12-19T07:15:26.442Z"
      },
      {
        "duration": 0,
        "start_time": "2022-12-19T07:15:26.554Z"
      },
      {
        "duration": 0,
        "start_time": "2022-12-19T07:15:26.555Z"
      },
      {
        "duration": 0,
        "start_time": "2022-12-19T07:15:26.556Z"
      },
      {
        "duration": 7,
        "start_time": "2022-12-19T07:15:27.520Z"
      },
      {
        "duration": 6,
        "start_time": "2022-12-19T07:15:28.142Z"
      },
      {
        "duration": 14,
        "start_time": "2022-12-19T07:15:28.653Z"
      },
      {
        "duration": 17,
        "start_time": "2022-12-19T07:15:31.315Z"
      },
      {
        "duration": 5,
        "start_time": "2022-12-19T07:15:34.676Z"
      },
      {
        "duration": 12,
        "start_time": "2022-12-19T07:15:37.372Z"
      },
      {
        "duration": 11,
        "start_time": "2022-12-19T07:15:40.491Z"
      },
      {
        "duration": 8,
        "start_time": "2022-12-19T07:15:43.261Z"
      },
      {
        "duration": 9,
        "start_time": "2022-12-19T07:15:45.550Z"
      },
      {
        "duration": 10,
        "start_time": "2022-12-19T07:15:47.858Z"
      },
      {
        "duration": 9,
        "start_time": "2022-12-19T07:15:50.834Z"
      },
      {
        "duration": 8,
        "start_time": "2022-12-19T07:15:52.637Z"
      },
      {
        "duration": 5,
        "start_time": "2022-12-19T07:15:54.722Z"
      },
      {
        "duration": 6,
        "start_time": "2022-12-19T07:15:55.028Z"
      },
      {
        "duration": 14,
        "start_time": "2022-12-19T07:15:55.562Z"
      },
      {
        "duration": 10,
        "start_time": "2022-12-19T07:15:56.209Z"
      },
      {
        "duration": 13,
        "start_time": "2022-12-19T07:15:59.510Z"
      },
      {
        "duration": 15,
        "start_time": "2022-12-19T07:15:59.927Z"
      },
      {
        "duration": 12,
        "start_time": "2022-12-19T07:16:02.558Z"
      },
      {
        "duration": 4,
        "start_time": "2022-12-19T07:23:57.888Z"
      },
      {
        "duration": 48,
        "start_time": "2022-12-19T07:38:44.129Z"
      },
      {
        "duration": 48,
        "start_time": "2022-12-19T07:38:51.104Z"
      },
      {
        "duration": 44,
        "start_time": "2022-12-19T07:39:07.473Z"
      },
      {
        "duration": 5,
        "start_time": "2022-12-19T07:39:10.455Z"
      },
      {
        "duration": 5,
        "start_time": "2022-12-19T07:40:34.072Z"
      },
      {
        "duration": 45,
        "start_time": "2022-12-19T07:43:13.600Z"
      },
      {
        "duration": 11,
        "start_time": "2022-12-19T07:43:21.775Z"
      },
      {
        "duration": 4,
        "start_time": "2022-12-19T07:43:33.188Z"
      },
      {
        "duration": 3,
        "start_time": "2022-12-19T07:50:02.058Z"
      },
      {
        "duration": 17,
        "start_time": "2022-12-19T07:51:19.526Z"
      },
      {
        "duration": 17,
        "start_time": "2022-12-19T07:51:37.953Z"
      },
      {
        "duration": 3,
        "start_time": "2022-12-19T07:51:50.731Z"
      },
      {
        "duration": 8,
        "start_time": "2022-12-19T07:52:17.089Z"
      },
      {
        "duration": 3,
        "start_time": "2022-12-19T07:52:23.358Z"
      },
      {
        "duration": 3,
        "start_time": "2022-12-19T07:52:24.868Z"
      },
      {
        "duration": 3,
        "start_time": "2022-12-19T07:52:34.005Z"
      },
      {
        "duration": 3,
        "start_time": "2022-12-19T07:52:50.166Z"
      },
      {
        "duration": 3,
        "start_time": "2022-12-19T07:53:24.184Z"
      },
      {
        "duration": 47,
        "start_time": "2022-12-19T07:53:51.206Z"
      },
      {
        "duration": 57,
        "start_time": "2022-12-19T07:53:55.046Z"
      },
      {
        "duration": 5,
        "start_time": "2022-12-19T07:54:04.590Z"
      },
      {
        "duration": 687,
        "start_time": "2022-12-19T08:22:08.840Z"
      },
      {
        "duration": 692,
        "start_time": "2022-12-19T08:23:13.692Z"
      },
      {
        "duration": 10,
        "start_time": "2022-12-19T08:24:09.899Z"
      },
      {
        "duration": 3,
        "start_time": "2022-12-19T08:31:54.406Z"
      },
      {
        "duration": 15,
        "start_time": "2022-12-19T09:00:23.778Z"
      },
      {
        "duration": 53,
        "start_time": "2022-12-19T09:01:11.821Z"
      },
      {
        "duration": 18,
        "start_time": "2022-12-19T09:01:30.104Z"
      },
      {
        "duration": 19,
        "start_time": "2022-12-19T09:02:35.620Z"
      },
      {
        "duration": 19,
        "start_time": "2022-12-19T09:03:49.181Z"
      },
      {
        "duration": 15,
        "start_time": "2022-12-19T09:04:06.229Z"
      },
      {
        "duration": 142,
        "start_time": "2022-12-19T09:05:05.714Z"
      },
      {
        "duration": 106,
        "start_time": "2022-12-19T09:05:38.440Z"
      },
      {
        "duration": 115,
        "start_time": "2022-12-19T09:08:58.058Z"
      },
      {
        "duration": 965,
        "start_time": "2022-12-19T09:09:36.309Z"
      },
      {
        "duration": 75,
        "start_time": "2022-12-19T09:10:04.897Z"
      },
      {
        "duration": 1107,
        "start_time": "2022-12-19T09:10:33.144Z"
      },
      {
        "duration": 1894,
        "start_time": "2022-12-19T09:11:44.892Z"
      },
      {
        "duration": 1964,
        "start_time": "2022-12-19T09:12:13.762Z"
      },
      {
        "duration": 1976,
        "start_time": "2022-12-19T09:12:20.229Z"
      },
      {
        "duration": 144,
        "start_time": "2022-12-19T09:13:10.881Z"
      },
      {
        "duration": 2147,
        "start_time": "2022-12-19T09:13:32.215Z"
      },
      {
        "duration": 2323,
        "start_time": "2022-12-19T09:14:15.359Z"
      },
      {
        "duration": 2739,
        "start_time": "2022-12-19T09:14:41.276Z"
      },
      {
        "duration": 17,
        "start_time": "2022-12-19T09:14:57.584Z"
      },
      {
        "duration": 2178,
        "start_time": "2022-12-19T09:15:04.224Z"
      },
      {
        "duration": 1870,
        "start_time": "2022-12-19T09:15:26.947Z"
      },
      {
        "duration": 1980,
        "start_time": "2022-12-19T09:16:36.845Z"
      },
      {
        "duration": 2833,
        "start_time": "2022-12-19T09:16:47.658Z"
      },
      {
        "duration": 2881,
        "start_time": "2022-12-19T09:17:06.073Z"
      },
      {
        "duration": 2944,
        "start_time": "2022-12-19T09:17:13.660Z"
      },
      {
        "duration": 2984,
        "start_time": "2022-12-19T09:17:24.128Z"
      },
      {
        "duration": 2832,
        "start_time": "2022-12-19T09:17:31.287Z"
      },
      {
        "duration": 2610,
        "start_time": "2022-12-19T09:17:41.572Z"
      },
      {
        "duration": 2835,
        "start_time": "2022-12-19T09:17:48.869Z"
      },
      {
        "duration": 2760,
        "start_time": "2022-12-19T09:17:57.692Z"
      },
      {
        "duration": 2846,
        "start_time": "2022-12-19T09:18:32.429Z"
      },
      {
        "duration": 2897,
        "start_time": "2022-12-19T09:18:40.591Z"
      },
      {
        "duration": 2699,
        "start_time": "2022-12-19T09:18:47.962Z"
      },
      {
        "duration": 2816,
        "start_time": "2022-12-19T09:18:56.419Z"
      },
      {
        "duration": 2875,
        "start_time": "2022-12-19T09:20:12.133Z"
      },
      {
        "duration": 2740,
        "start_time": "2022-12-19T09:20:22.246Z"
      },
      {
        "duration": 2893,
        "start_time": "2022-12-19T09:20:32.381Z"
      },
      {
        "duration": 2890,
        "start_time": "2022-12-19T09:21:22.265Z"
      },
      {
        "duration": 18,
        "start_time": "2022-12-19T10:16:34.197Z"
      },
      {
        "duration": 2890,
        "start_time": "2022-12-19T10:16:43.618Z"
      },
      {
        "duration": 762,
        "start_time": "2022-12-19T10:21:50.010Z"
      },
      {
        "duration": 9,
        "start_time": "2022-12-19T10:21:57.252Z"
      },
      {
        "duration": 24,
        "start_time": "2022-12-19T10:24:29.443Z"
      },
      {
        "duration": 793,
        "start_time": "2022-12-19T10:26:52.822Z"
      },
      {
        "duration": 51,
        "start_time": "2022-12-19T10:29:08.929Z"
      },
      {
        "duration": 1362,
        "start_time": "2022-12-19T10:29:27.796Z"
      },
      {
        "duration": 2576,
        "start_time": "2022-12-19T10:29:29.160Z"
      },
      {
        "duration": 23,
        "start_time": "2022-12-19T10:29:31.738Z"
      },
      {
        "duration": 35,
        "start_time": "2022-12-19T10:29:31.764Z"
      },
      {
        "duration": 24,
        "start_time": "2022-12-19T10:29:31.801Z"
      },
      {
        "duration": 17,
        "start_time": "2022-12-19T10:29:31.826Z"
      },
      {
        "duration": 5,
        "start_time": "2022-12-19T10:29:31.845Z"
      },
      {
        "duration": 10,
        "start_time": "2022-12-19T10:29:31.851Z"
      },
      {
        "duration": 39,
        "start_time": "2022-12-19T10:29:31.862Z"
      },
      {
        "duration": 18,
        "start_time": "2022-12-19T10:29:31.903Z"
      },
      {
        "duration": 7,
        "start_time": "2022-12-19T10:29:31.923Z"
      },
      {
        "duration": 22,
        "start_time": "2022-12-19T10:29:31.932Z"
      },
      {
        "duration": 16,
        "start_time": "2022-12-19T10:29:31.956Z"
      },
      {
        "duration": 24,
        "start_time": "2022-12-19T10:29:31.974Z"
      },
      {
        "duration": 8,
        "start_time": "2022-12-19T10:29:32.000Z"
      },
      {
        "duration": 13,
        "start_time": "2022-12-19T10:29:32.009Z"
      },
      {
        "duration": 16,
        "start_time": "2022-12-19T10:29:32.024Z"
      },
      {
        "duration": 13,
        "start_time": "2022-12-19T10:29:32.041Z"
      },
      {
        "duration": 8,
        "start_time": "2022-12-19T10:29:32.057Z"
      },
      {
        "duration": 6,
        "start_time": "2022-12-19T10:29:32.066Z"
      },
      {
        "duration": 29,
        "start_time": "2022-12-19T10:29:32.073Z"
      },
      {
        "duration": 22,
        "start_time": "2022-12-19T10:29:32.103Z"
      },
      {
        "duration": 10,
        "start_time": "2022-12-19T10:29:32.126Z"
      },
      {
        "duration": 12,
        "start_time": "2022-12-19T10:29:32.137Z"
      },
      {
        "duration": 18,
        "start_time": "2022-12-19T10:29:32.150Z"
      },
      {
        "duration": 32,
        "start_time": "2022-12-19T10:29:32.170Z"
      },
      {
        "duration": 35,
        "start_time": "2022-12-19T10:29:32.203Z"
      },
      {
        "duration": 9,
        "start_time": "2022-12-19T10:29:32.241Z"
      },
      {
        "duration": 12,
        "start_time": "2022-12-19T10:29:32.251Z"
      },
      {
        "duration": 8,
        "start_time": "2022-12-19T10:29:32.264Z"
      },
      {
        "duration": 15,
        "start_time": "2022-12-19T10:29:32.274Z"
      },
      {
        "duration": 21,
        "start_time": "2022-12-19T10:29:32.291Z"
      },
      {
        "duration": 3,
        "start_time": "2022-12-19T10:29:32.314Z"
      },
      {
        "duration": 45,
        "start_time": "2022-12-19T10:30:26.164Z"
      },
      {
        "duration": 1346,
        "start_time": "2022-12-19T10:30:36.326Z"
      },
      {
        "duration": 3,
        "start_time": "2022-12-19T10:30:40.944Z"
      },
      {
        "duration": 2541,
        "start_time": "2022-12-19T10:30:41.492Z"
      },
      {
        "duration": 23,
        "start_time": "2022-12-19T10:30:44.035Z"
      },
      {
        "duration": 20,
        "start_time": "2022-12-19T10:30:44.059Z"
      },
      {
        "duration": 26,
        "start_time": "2022-12-19T10:30:44.081Z"
      },
      {
        "duration": 18,
        "start_time": "2022-12-19T10:30:44.109Z"
      },
      {
        "duration": 5,
        "start_time": "2022-12-19T10:30:44.128Z"
      },
      {
        "duration": 7,
        "start_time": "2022-12-19T10:30:44.134Z"
      },
      {
        "duration": 12,
        "start_time": "2022-12-19T10:30:46.612Z"
      },
      {
        "duration": 16,
        "start_time": "2022-12-19T10:30:46.798Z"
      },
      {
        "duration": 5,
        "start_time": "2022-12-19T10:30:46.952Z"
      },
      {
        "duration": 11,
        "start_time": "2022-12-19T10:30:47.101Z"
      },
      {
        "duration": 10,
        "start_time": "2022-12-19T10:30:47.251Z"
      },
      {
        "duration": 6,
        "start_time": "2022-12-19T10:30:47.410Z"
      },
      {
        "duration": 9,
        "start_time": "2022-12-19T10:30:47.569Z"
      },
      {
        "duration": 9,
        "start_time": "2022-12-19T10:30:47.734Z"
      },
      {
        "duration": 11,
        "start_time": "2022-12-19T10:30:47.910Z"
      },
      {
        "duration": 11,
        "start_time": "2022-12-19T10:30:48.266Z"
      },
      {
        "duration": 8,
        "start_time": "2022-12-19T10:30:48.441Z"
      },
      {
        "duration": 5,
        "start_time": "2022-12-19T10:30:48.627Z"
      },
      {
        "duration": 8,
        "start_time": "2022-12-19T10:30:48.808Z"
      },
      {
        "duration": 14,
        "start_time": "2022-12-19T10:30:48.994Z"
      },
      {
        "duration": 10,
        "start_time": "2022-12-19T10:30:49.511Z"
      },
      {
        "duration": 13,
        "start_time": "2022-12-19T10:30:49.603Z"
      },
      {
        "duration": 16,
        "start_time": "2022-12-19T10:30:49.645Z"
      },
      {
        "duration": 13,
        "start_time": "2022-12-19T10:30:49.690Z"
      },
      {
        "duration": 16,
        "start_time": "2022-12-19T10:30:49.741Z"
      },
      {
        "duration": 5,
        "start_time": "2022-12-19T10:30:49.819Z"
      },
      {
        "duration": 4,
        "start_time": "2022-12-19T10:30:49.895Z"
      },
      {
        "duration": 6,
        "start_time": "2022-12-19T10:30:50.040Z"
      },
      {
        "duration": 4,
        "start_time": "2022-12-19T10:30:50.079Z"
      },
      {
        "duration": 11,
        "start_time": "2022-12-19T10:30:50.178Z"
      },
      {
        "duration": 3,
        "start_time": "2022-12-19T10:30:50.216Z"
      },
      {
        "duration": 49,
        "start_time": "2022-12-19T10:31:19.642Z"
      },
      {
        "duration": 1400,
        "start_time": "2022-12-19T10:31:31.076Z"
      },
      {
        "duration": 2609,
        "start_time": "2022-12-19T10:31:32.478Z"
      },
      {
        "duration": 23,
        "start_time": "2022-12-19T10:31:35.089Z"
      },
      {
        "duration": 18,
        "start_time": "2022-12-19T10:31:35.114Z"
      },
      {
        "duration": 23,
        "start_time": "2022-12-19T10:31:35.133Z"
      },
      {
        "duration": 18,
        "start_time": "2022-12-19T10:31:35.157Z"
      },
      {
        "duration": 5,
        "start_time": "2022-12-19T10:31:35.197Z"
      },
      {
        "duration": 11,
        "start_time": "2022-12-19T10:31:35.203Z"
      },
      {
        "duration": 15,
        "start_time": "2022-12-19T10:31:35.216Z"
      },
      {
        "duration": 19,
        "start_time": "2022-12-19T10:31:35.234Z"
      },
      {
        "duration": 5,
        "start_time": "2022-12-19T10:31:35.254Z"
      },
      {
        "duration": 14,
        "start_time": "2022-12-19T10:31:35.261Z"
      },
      {
        "duration": 27,
        "start_time": "2022-12-19T10:31:35.276Z"
      },
      {
        "duration": 9,
        "start_time": "2022-12-19T10:31:35.305Z"
      },
      {
        "duration": 37,
        "start_time": "2022-12-19T10:31:35.315Z"
      },
      {
        "duration": 10,
        "start_time": "2022-12-19T10:31:35.354Z"
      },
      {
        "duration": 22,
        "start_time": "2022-12-19T10:31:35.365Z"
      },
      {
        "duration": 10,
        "start_time": "2022-12-19T10:31:35.388Z"
      },
      {
        "duration": 13,
        "start_time": "2022-12-19T10:31:35.400Z"
      },
      {
        "duration": 7,
        "start_time": "2022-12-19T10:31:35.415Z"
      },
      {
        "duration": 19,
        "start_time": "2022-12-19T10:31:35.423Z"
      },
      {
        "duration": 46,
        "start_time": "2022-12-19T10:31:35.443Z"
      },
      {
        "duration": 10,
        "start_time": "2022-12-19T10:31:35.490Z"
      },
      {
        "duration": 12,
        "start_time": "2022-12-19T10:31:35.501Z"
      },
      {
        "duration": 53,
        "start_time": "2022-12-19T10:31:35.515Z"
      },
      {
        "duration": 12,
        "start_time": "2022-12-19T10:31:35.569Z"
      },
      {
        "duration": 19,
        "start_time": "2022-12-19T10:31:35.582Z"
      },
      {
        "duration": 17,
        "start_time": "2022-12-19T10:31:35.604Z"
      },
      {
        "duration": 29,
        "start_time": "2022-12-19T10:31:35.623Z"
      },
      {
        "duration": 21,
        "start_time": "2022-12-19T10:31:35.653Z"
      },
      {
        "duration": 30,
        "start_time": "2022-12-19T10:31:35.676Z"
      },
      {
        "duration": 26,
        "start_time": "2022-12-19T10:31:35.708Z"
      },
      {
        "duration": 7,
        "start_time": "2022-12-19T10:31:35.736Z"
      },
      {
        "duration": 49,
        "start_time": "2022-12-19T10:32:14.213Z"
      },
      {
        "duration": 1385,
        "start_time": "2022-12-19T10:32:24.336Z"
      },
      {
        "duration": 2561,
        "start_time": "2022-12-19T10:32:25.722Z"
      },
      {
        "duration": 25,
        "start_time": "2022-12-19T10:32:28.285Z"
      },
      {
        "duration": 23,
        "start_time": "2022-12-19T10:32:28.312Z"
      },
      {
        "duration": 20,
        "start_time": "2022-12-19T10:32:28.337Z"
      },
      {
        "duration": 39,
        "start_time": "2022-12-19T10:32:28.359Z"
      },
      {
        "duration": 5,
        "start_time": "2022-12-19T10:32:28.400Z"
      },
      {
        "duration": 11,
        "start_time": "2022-12-19T10:32:28.406Z"
      },
      {
        "duration": 16,
        "start_time": "2022-12-19T10:32:28.418Z"
      },
      {
        "duration": 17,
        "start_time": "2022-12-19T10:32:28.436Z"
      },
      {
        "duration": 4,
        "start_time": "2022-12-19T10:32:28.455Z"
      },
      {
        "duration": 21,
        "start_time": "2022-12-19T10:32:28.461Z"
      },
      {
        "duration": 13,
        "start_time": "2022-12-19T10:32:28.497Z"
      },
      {
        "duration": 39,
        "start_time": "2022-12-19T10:32:28.512Z"
      },
      {
        "duration": 23,
        "start_time": "2022-12-19T10:32:28.552Z"
      },
      {
        "duration": 29,
        "start_time": "2022-12-19T10:32:28.577Z"
      },
      {
        "duration": 52,
        "start_time": "2022-12-19T10:32:28.607Z"
      },
      {
        "duration": 26,
        "start_time": "2022-12-19T10:32:28.661Z"
      },
      {
        "duration": 14,
        "start_time": "2022-12-19T10:32:28.689Z"
      },
      {
        "duration": 9,
        "start_time": "2022-12-19T10:32:28.705Z"
      },
      {
        "duration": 22,
        "start_time": "2022-12-19T10:32:28.716Z"
      },
      {
        "duration": 30,
        "start_time": "2022-12-19T10:32:28.740Z"
      },
      {
        "duration": 11,
        "start_time": "2022-12-19T10:32:28.772Z"
      },
      {
        "duration": 12,
        "start_time": "2022-12-19T10:32:28.785Z"
      },
      {
        "duration": 27,
        "start_time": "2022-12-19T10:32:28.798Z"
      },
      {
        "duration": 27,
        "start_time": "2022-12-19T10:32:28.827Z"
      },
      {
        "duration": 20,
        "start_time": "2022-12-19T10:32:28.855Z"
      },
      {
        "duration": 4,
        "start_time": "2022-12-19T10:32:28.878Z"
      },
      {
        "duration": 26,
        "start_time": "2022-12-19T10:32:28.883Z"
      },
      {
        "duration": 23,
        "start_time": "2022-12-19T10:32:28.910Z"
      },
      {
        "duration": 25,
        "start_time": "2022-12-19T10:32:28.935Z"
      },
      {
        "duration": 24,
        "start_time": "2022-12-19T10:32:28.961Z"
      },
      {
        "duration": 33,
        "start_time": "2022-12-19T10:32:28.986Z"
      },
      {
        "duration": 2708,
        "start_time": "2022-12-19T10:32:30.822Z"
      },
      {
        "duration": 922,
        "start_time": "2022-12-19T10:42:15.602Z"
      },
      {
        "duration": 2252,
        "start_time": "2022-12-19T10:42:31.757Z"
      },
      {
        "duration": 2601,
        "start_time": "2022-12-19T10:42:43.672Z"
      },
      {
        "duration": 2746,
        "start_time": "2022-12-19T10:43:04.375Z"
      },
      {
        "duration": 49,
        "start_time": "2022-12-19T10:45:41.671Z"
      },
      {
        "duration": 2732,
        "start_time": "2022-12-19T10:45:45.910Z"
      },
      {
        "duration": 1463,
        "start_time": "2022-12-19T11:10:15.771Z"
      },
      {
        "duration": 1678,
        "start_time": "2022-12-19T11:10:23.635Z"
      },
      {
        "duration": 1839,
        "start_time": "2022-12-19T11:11:03.434Z"
      },
      {
        "duration": 1675,
        "start_time": "2022-12-19T11:11:21.622Z"
      },
      {
        "duration": 1710,
        "start_time": "2022-12-19T11:11:32.255Z"
      },
      {
        "duration": 1794,
        "start_time": "2022-12-19T11:11:54.091Z"
      },
      {
        "duration": 1681,
        "start_time": "2022-12-19T11:12:11.382Z"
      },
      {
        "duration": 1598,
        "start_time": "2022-12-19T11:12:31.362Z"
      },
      {
        "duration": 1572,
        "start_time": "2022-12-19T11:12:41.511Z"
      },
      {
        "duration": 1688,
        "start_time": "2022-12-19T11:12:59.392Z"
      },
      {
        "duration": 1560,
        "start_time": "2022-12-19T11:13:21.121Z"
      },
      {
        "duration": 146,
        "start_time": "2022-12-19T11:17:54.484Z"
      },
      {
        "duration": 190,
        "start_time": "2022-12-19T11:18:10.583Z"
      },
      {
        "duration": 383,
        "start_time": "2022-12-19T11:18:26.897Z"
      },
      {
        "duration": 559,
        "start_time": "2022-12-19T11:23:52.485Z"
      },
      {
        "duration": 490,
        "start_time": "2022-12-19T11:24:03.102Z"
      },
      {
        "duration": 531,
        "start_time": "2022-12-19T11:28:53.684Z"
      },
      {
        "duration": 10,
        "start_time": "2022-12-19T11:38:05.072Z"
      },
      {
        "duration": 53,
        "start_time": "2022-12-19T11:41:46.820Z"
      },
      {
        "duration": 10,
        "start_time": "2022-12-19T11:47:10.343Z"
      },
      {
        "duration": 10,
        "start_time": "2022-12-19T11:47:57.437Z"
      },
      {
        "duration": 9,
        "start_time": "2022-12-19T11:48:31.161Z"
      },
      {
        "duration": 10,
        "start_time": "2022-12-19T11:49:44.187Z"
      },
      {
        "duration": 10,
        "start_time": "2022-12-19T11:50:03.890Z"
      },
      {
        "duration": 8,
        "start_time": "2022-12-19T11:50:34.426Z"
      },
      {
        "duration": 1069,
        "start_time": "2022-12-19T11:58:26.913Z"
      },
      {
        "duration": 1043,
        "start_time": "2022-12-19T11:58:40.935Z"
      },
      {
        "duration": 49,
        "start_time": "2022-12-19T14:11:26.320Z"
      },
      {
        "duration": 1606,
        "start_time": "2022-12-19T14:11:32.210Z"
      },
      {
        "duration": 3119,
        "start_time": "2022-12-19T14:11:33.818Z"
      },
      {
        "duration": 27,
        "start_time": "2022-12-19T14:11:36.938Z"
      },
      {
        "duration": 22,
        "start_time": "2022-12-19T14:11:36.967Z"
      },
      {
        "duration": 41,
        "start_time": "2022-12-19T14:11:36.990Z"
      },
      {
        "duration": 31,
        "start_time": "2022-12-19T14:11:37.033Z"
      },
      {
        "duration": 12,
        "start_time": "2022-12-19T14:11:37.066Z"
      },
      {
        "duration": 19,
        "start_time": "2022-12-19T14:11:37.079Z"
      },
      {
        "duration": 36,
        "start_time": "2022-12-19T14:11:37.100Z"
      },
      {
        "duration": 31,
        "start_time": "2022-12-19T14:11:37.139Z"
      },
      {
        "duration": 12,
        "start_time": "2022-12-19T14:11:37.172Z"
      },
      {
        "duration": 31,
        "start_time": "2022-12-19T14:11:37.186Z"
      },
      {
        "duration": 9,
        "start_time": "2022-12-19T14:11:37.218Z"
      },
      {
        "duration": 29,
        "start_time": "2022-12-19T14:11:37.229Z"
      },
      {
        "duration": 28,
        "start_time": "2022-12-19T14:11:37.260Z"
      },
      {
        "duration": 23,
        "start_time": "2022-12-19T14:11:37.290Z"
      },
      {
        "duration": 26,
        "start_time": "2022-12-19T14:11:37.314Z"
      },
      {
        "duration": 19,
        "start_time": "2022-12-19T14:11:37.342Z"
      },
      {
        "duration": 29,
        "start_time": "2022-12-19T14:11:37.363Z"
      },
      {
        "duration": 11,
        "start_time": "2022-12-19T14:11:37.394Z"
      },
      {
        "duration": 37,
        "start_time": "2022-12-19T14:11:37.407Z"
      },
      {
        "duration": 25,
        "start_time": "2022-12-19T14:11:37.445Z"
      },
      {
        "duration": 26,
        "start_time": "2022-12-19T14:11:37.472Z"
      },
      {
        "duration": 14,
        "start_time": "2022-12-19T14:11:37.500Z"
      },
      {
        "duration": 44,
        "start_time": "2022-12-19T14:11:37.516Z"
      },
      {
        "duration": 27,
        "start_time": "2022-12-19T14:11:37.562Z"
      },
      {
        "duration": 30,
        "start_time": "2022-12-19T14:11:37.591Z"
      },
      {
        "duration": 17,
        "start_time": "2022-12-19T14:11:37.624Z"
      },
      {
        "duration": 14,
        "start_time": "2022-12-19T14:11:37.642Z"
      },
      {
        "duration": 32,
        "start_time": "2022-12-19T14:11:37.658Z"
      },
      {
        "duration": 24,
        "start_time": "2022-12-19T14:11:37.692Z"
      },
      {
        "duration": 32,
        "start_time": "2022-12-19T14:11:37.718Z"
      },
      {
        "duration": 33,
        "start_time": "2022-12-19T14:11:37.751Z"
      },
      {
        "duration": 21,
        "start_time": "2022-12-19T14:11:37.785Z"
      },
      {
        "duration": 3132,
        "start_time": "2022-12-19T14:11:37.808Z"
      },
      {
        "duration": 589,
        "start_time": "2022-12-19T14:11:40.942Z"
      },
      {
        "duration": 7,
        "start_time": "2022-12-19T14:11:41.533Z"
      },
      {
        "duration": 1339,
        "start_time": "2022-12-19T14:11:44.638Z"
      },
      {
        "duration": 4,
        "start_time": "2022-12-19T14:12:57.419Z"
      },
      {
        "duration": 687,
        "start_time": "2022-12-19T14:12:57.425Z"
      },
      {
        "duration": 21,
        "start_time": "2022-12-19T14:12:58.114Z"
      },
      {
        "duration": 64,
        "start_time": "2022-12-19T14:12:58.136Z"
      },
      {
        "duration": 23,
        "start_time": "2022-12-19T14:12:58.202Z"
      },
      {
        "duration": 26,
        "start_time": "2022-12-19T14:12:58.228Z"
      },
      {
        "duration": 22,
        "start_time": "2022-12-19T14:12:58.256Z"
      },
      {
        "duration": 9,
        "start_time": "2022-12-19T14:12:58.280Z"
      },
      {
        "duration": 38,
        "start_time": "2022-12-19T14:12:58.291Z"
      },
      {
        "duration": 24,
        "start_time": "2022-12-19T14:12:58.331Z"
      },
      {
        "duration": 27,
        "start_time": "2022-12-19T14:12:58.357Z"
      },
      {
        "duration": 22,
        "start_time": "2022-12-19T14:12:58.386Z"
      },
      {
        "duration": 13,
        "start_time": "2022-12-19T14:12:58.411Z"
      },
      {
        "duration": 10,
        "start_time": "2022-12-19T14:12:58.429Z"
      },
      {
        "duration": 41,
        "start_time": "2022-12-19T14:12:58.441Z"
      },
      {
        "duration": 14,
        "start_time": "2022-12-19T14:12:58.484Z"
      },
      {
        "duration": 26,
        "start_time": "2022-12-19T14:12:58.500Z"
      },
      {
        "duration": 10,
        "start_time": "2022-12-19T14:12:58.528Z"
      },
      {
        "duration": 10,
        "start_time": "2022-12-19T14:12:58.540Z"
      },
      {
        "duration": 27,
        "start_time": "2022-12-19T14:12:58.551Z"
      },
      {
        "duration": 7,
        "start_time": "2022-12-19T14:12:58.580Z"
      },
      {
        "duration": 16,
        "start_time": "2022-12-19T14:12:58.588Z"
      },
      {
        "duration": 10,
        "start_time": "2022-12-19T14:12:58.605Z"
      },
      {
        "duration": 14,
        "start_time": "2022-12-19T14:12:58.617Z"
      },
      {
        "duration": 53,
        "start_time": "2022-12-19T14:12:58.633Z"
      },
      {
        "duration": 15,
        "start_time": "2022-12-19T14:12:58.688Z"
      },
      {
        "duration": 18,
        "start_time": "2022-12-19T14:12:58.705Z"
      },
      {
        "duration": 7,
        "start_time": "2022-12-19T14:12:58.725Z"
      },
      {
        "duration": 5,
        "start_time": "2022-12-19T14:12:58.734Z"
      },
      {
        "duration": 44,
        "start_time": "2022-12-19T14:12:58.741Z"
      },
      {
        "duration": 11,
        "start_time": "2022-12-19T14:12:58.787Z"
      },
      {
        "duration": 12,
        "start_time": "2022-12-19T14:12:58.800Z"
      },
      {
        "duration": 11,
        "start_time": "2022-12-19T14:12:58.814Z"
      },
      {
        "duration": 4,
        "start_time": "2022-12-19T14:12:58.826Z"
      },
      {
        "duration": 3014,
        "start_time": "2022-12-19T14:12:58.832Z"
      },
      {
        "duration": 761,
        "start_time": "2022-12-19T14:13:01.848Z"
      },
      {
        "duration": 7,
        "start_time": "2022-12-19T14:13:02.611Z"
      },
      {
        "duration": 1089,
        "start_time": "2022-12-19T14:13:02.620Z"
      },
      {
        "duration": 1331,
        "start_time": "2022-12-19T14:57:06.649Z"
      },
      {
        "duration": 26,
        "start_time": "2022-12-19T15:11:16.206Z"
      },
      {
        "duration": 9,
        "start_time": "2022-12-19T15:11:44.543Z"
      },
      {
        "duration": 1085,
        "start_time": "2022-12-19T15:23:30.297Z"
      },
      {
        "duration": 942,
        "start_time": "2022-12-19T15:24:47.790Z"
      },
      {
        "duration": 3,
        "start_time": "2022-12-19T15:25:14.043Z"
      },
      {
        "duration": 5,
        "start_time": "2022-12-19T15:25:20.042Z"
      },
      {
        "duration": 6,
        "start_time": "2022-12-19T15:25:57.313Z"
      },
      {
        "duration": 15,
        "start_time": "2022-12-19T15:26:07.765Z"
      },
      {
        "duration": 14,
        "start_time": "2022-12-19T15:26:15.074Z"
      },
      {
        "duration": 18,
        "start_time": "2022-12-19T15:26:28.772Z"
      },
      {
        "duration": 5,
        "start_time": "2022-12-19T15:57:55.845Z"
      },
      {
        "duration": 10,
        "start_time": "2022-12-19T15:58:55.112Z"
      },
      {
        "duration": 11,
        "start_time": "2022-12-19T15:59:00.243Z"
      },
      {
        "duration": 11,
        "start_time": "2022-12-19T15:59:11.513Z"
      },
      {
        "duration": 5,
        "start_time": "2022-12-19T16:00:08.897Z"
      },
      {
        "duration": 3,
        "start_time": "2022-12-19T16:00:15.309Z"
      },
      {
        "duration": 7,
        "start_time": "2022-12-19T16:00:20.281Z"
      },
      {
        "duration": 4,
        "start_time": "2022-12-19T16:02:51.133Z"
      },
      {
        "duration": 14,
        "start_time": "2022-12-19T16:09:35.915Z"
      },
      {
        "duration": 7,
        "start_time": "2022-12-19T16:09:55.556Z"
      },
      {
        "duration": 4,
        "start_time": "2022-12-19T16:11:24.372Z"
      },
      {
        "duration": 6,
        "start_time": "2022-12-19T16:16:50.537Z"
      },
      {
        "duration": 4,
        "start_time": "2022-12-19T16:27:57.476Z"
      },
      {
        "duration": 2737,
        "start_time": "2022-12-19T16:28:08.550Z"
      },
      {
        "duration": 2786,
        "start_time": "2022-12-19T16:30:16.807Z"
      },
      {
        "duration": 3142,
        "start_time": "2022-12-19T16:30:31.137Z"
      },
      {
        "duration": 24626,
        "start_time": "2022-12-19T16:48:24.710Z"
      },
      {
        "duration": 34487,
        "start_time": "2022-12-19T16:50:36.755Z"
      },
      {
        "duration": 28,
        "start_time": "2022-12-19T17:01:51.948Z"
      },
      {
        "duration": 1028561,
        "start_time": "2022-12-19T17:05:28.734Z"
      },
      {
        "duration": 254718,
        "start_time": "2022-12-19T17:29:57.128Z"
      },
      {
        "duration": 861198,
        "start_time": "2022-12-19T17:50:57.357Z"
      },
      {
        "duration": 1079361,
        "start_time": "2022-12-19T18:06:04.817Z"
      },
      {
        "duration": 1717,
        "start_time": "2022-12-20T05:36:42.066Z"
      },
      {
        "duration": 4263,
        "start_time": "2022-12-20T05:36:43.785Z"
      },
      {
        "duration": 32,
        "start_time": "2022-12-20T05:36:48.050Z"
      },
      {
        "duration": 53,
        "start_time": "2022-12-20T05:36:48.085Z"
      },
      {
        "duration": 45,
        "start_time": "2022-12-20T05:36:48.143Z"
      },
      {
        "duration": 36,
        "start_time": "2022-12-20T05:36:48.191Z"
      },
      {
        "duration": 11,
        "start_time": "2022-12-20T05:36:48.231Z"
      },
      {
        "duration": 19,
        "start_time": "2022-12-20T05:36:48.244Z"
      },
      {
        "duration": 35,
        "start_time": "2022-12-20T05:36:48.265Z"
      },
      {
        "duration": 33,
        "start_time": "2022-12-20T05:36:48.304Z"
      },
      {
        "duration": 15,
        "start_time": "2022-12-20T05:36:48.339Z"
      },
      {
        "duration": 19,
        "start_time": "2022-12-20T05:36:48.362Z"
      },
      {
        "duration": 13,
        "start_time": "2022-12-20T05:36:48.384Z"
      },
      {
        "duration": 14,
        "start_time": "2022-12-20T05:36:48.414Z"
      },
      {
        "duration": 30,
        "start_time": "2022-12-20T05:36:48.434Z"
      },
      {
        "duration": 18,
        "start_time": "2022-12-20T05:36:48.467Z"
      },
      {
        "duration": 32,
        "start_time": "2022-12-20T05:36:48.487Z"
      },
      {
        "duration": 16,
        "start_time": "2022-12-20T05:36:48.521Z"
      },
      {
        "duration": 21,
        "start_time": "2022-12-20T05:36:48.540Z"
      },
      {
        "duration": 8,
        "start_time": "2022-12-20T05:36:48.563Z"
      },
      {
        "duration": 9,
        "start_time": "2022-12-20T05:36:48.575Z"
      },
      {
        "duration": 47,
        "start_time": "2022-12-20T05:36:48.586Z"
      },
      {
        "duration": 24,
        "start_time": "2022-12-20T05:36:48.635Z"
      },
      {
        "duration": 19,
        "start_time": "2022-12-20T05:36:48.662Z"
      },
      {
        "duration": 26,
        "start_time": "2022-12-20T05:36:48.684Z"
      },
      {
        "duration": 17,
        "start_time": "2022-12-20T05:36:48.712Z"
      },
      {
        "duration": 35,
        "start_time": "2022-12-20T05:36:48.731Z"
      },
      {
        "duration": 5,
        "start_time": "2022-12-20T05:36:48.771Z"
      },
      {
        "duration": 19,
        "start_time": "2022-12-20T05:36:48.778Z"
      },
      {
        "duration": 12,
        "start_time": "2022-12-20T05:36:48.799Z"
      },
      {
        "duration": 36,
        "start_time": "2022-12-20T05:36:48.815Z"
      },
      {
        "duration": 21,
        "start_time": "2022-12-20T05:36:48.853Z"
      },
      {
        "duration": 19,
        "start_time": "2022-12-20T05:36:48.876Z"
      },
      {
        "duration": 18,
        "start_time": "2022-12-20T05:36:48.899Z"
      },
      {
        "duration": 3971,
        "start_time": "2022-12-20T05:36:48.921Z"
      },
      {
        "duration": 757,
        "start_time": "2022-12-20T05:36:52.895Z"
      },
      {
        "duration": 10,
        "start_time": "2022-12-20T05:36:53.655Z"
      },
      {
        "duration": 1791,
        "start_time": "2022-12-20T05:36:53.667Z"
      },
      {
        "duration": 46,
        "start_time": "2022-12-20T05:36:55.460Z"
      },
      {
        "duration": 10,
        "start_time": "2022-12-20T05:36:55.524Z"
      },
      {
        "duration": 40,
        "start_time": "2022-12-20T05:36:55.539Z"
      },
      {
        "duration": 22,
        "start_time": "2022-12-20T05:36:55.581Z"
      },
      {
        "duration": 10,
        "start_time": "2022-12-20T05:36:55.605Z"
      },
      {
        "duration": 57,
        "start_time": "2022-12-20T05:36:55.617Z"
      },
      {
        "duration": 18,
        "start_time": "2022-12-20T05:36:55.676Z"
      },
      {
        "duration": 19,
        "start_time": "2022-12-20T05:36:55.697Z"
      },
      {
        "duration": 265,
        "start_time": "2022-12-20T05:36:55.718Z"
      },
      {
        "duration": 88,
        "start_time": "2022-12-20T05:36:55.985Z"
      },
      {
        "duration": 1011537,
        "start_time": "2022-12-20T05:36:58.836Z"
      },
      {
        "duration": 1847,
        "start_time": "2022-12-20T10:11:42.708Z"
      },
      {
        "duration": 4375,
        "start_time": "2022-12-20T10:11:44.562Z"
      },
      {
        "duration": 29,
        "start_time": "2022-12-20T10:11:48.939Z"
      },
      {
        "duration": 26,
        "start_time": "2022-12-20T10:11:48.971Z"
      },
      {
        "duration": 39,
        "start_time": "2022-12-20T10:11:48.999Z"
      },
      {
        "duration": 28,
        "start_time": "2022-12-20T10:11:49.040Z"
      },
      {
        "duration": 7,
        "start_time": "2022-12-20T10:11:49.070Z"
      },
      {
        "duration": 23,
        "start_time": "2022-12-20T10:11:49.080Z"
      },
      {
        "duration": 37,
        "start_time": "2022-12-20T10:11:49.107Z"
      },
      {
        "duration": 36,
        "start_time": "2022-12-20T10:11:49.149Z"
      },
      {
        "duration": 8,
        "start_time": "2022-12-20T10:11:49.188Z"
      },
      {
        "duration": 58,
        "start_time": "2022-12-20T10:11:49.199Z"
      },
      {
        "duration": 15,
        "start_time": "2022-12-20T10:11:49.260Z"
      },
      {
        "duration": 50,
        "start_time": "2022-12-20T10:11:49.277Z"
      },
      {
        "duration": 40,
        "start_time": "2022-12-20T10:11:49.333Z"
      },
      {
        "duration": 17,
        "start_time": "2022-12-20T10:11:49.376Z"
      },
      {
        "duration": 24,
        "start_time": "2022-12-20T10:11:49.396Z"
      },
      {
        "duration": 16,
        "start_time": "2022-12-20T10:11:49.429Z"
      },
      {
        "duration": 14,
        "start_time": "2022-12-20T10:11:49.447Z"
      },
      {
        "duration": 14,
        "start_time": "2022-12-20T10:11:49.463Z"
      },
      {
        "duration": 15,
        "start_time": "2022-12-20T10:11:49.479Z"
      },
      {
        "duration": 36,
        "start_time": "2022-12-20T10:11:49.496Z"
      },
      {
        "duration": 27,
        "start_time": "2022-12-20T10:11:49.536Z"
      },
      {
        "duration": 23,
        "start_time": "2022-12-20T10:11:49.565Z"
      },
      {
        "duration": 27,
        "start_time": "2022-12-20T10:11:49.590Z"
      },
      {
        "duration": 37,
        "start_time": "2022-12-20T10:11:49.619Z"
      },
      {
        "duration": 22,
        "start_time": "2022-12-20T10:11:49.658Z"
      },
      {
        "duration": 7,
        "start_time": "2022-12-20T10:11:49.686Z"
      },
      {
        "duration": 12,
        "start_time": "2022-12-20T10:11:49.695Z"
      },
      {
        "duration": 42,
        "start_time": "2022-12-20T10:11:49.709Z"
      },
      {
        "duration": 9,
        "start_time": "2022-12-20T10:11:49.754Z"
      },
      {
        "duration": 18,
        "start_time": "2022-12-20T10:11:49.766Z"
      },
      {
        "duration": 16,
        "start_time": "2022-12-20T10:11:49.787Z"
      },
      {
        "duration": 5,
        "start_time": "2022-12-20T10:11:49.806Z"
      },
      {
        "duration": 3601,
        "start_time": "2022-12-20T10:11:49.815Z"
      },
      {
        "duration": 665,
        "start_time": "2022-12-20T10:11:53.417Z"
      },
      {
        "duration": 8,
        "start_time": "2022-12-20T10:11:54.084Z"
      },
      {
        "duration": 1644,
        "start_time": "2022-12-20T10:11:54.094Z"
      },
      {
        "duration": 49,
        "start_time": "2022-12-20T10:11:55.740Z"
      },
      {
        "duration": 6,
        "start_time": "2022-12-20T10:11:55.792Z"
      },
      {
        "duration": 34,
        "start_time": "2022-12-20T10:11:55.812Z"
      },
      {
        "duration": 25,
        "start_time": "2022-12-20T10:11:55.849Z"
      },
      {
        "duration": 5,
        "start_time": "2022-12-20T10:11:55.876Z"
      },
      {
        "duration": 7,
        "start_time": "2022-12-20T10:11:55.883Z"
      },
      {
        "duration": 9,
        "start_time": "2022-12-20T10:11:55.893Z"
      },
      {
        "duration": 12,
        "start_time": "2022-12-20T10:11:55.904Z"
      },
      {
        "duration": 238,
        "start_time": "2022-12-20T10:11:55.918Z"
      },
      {
        "duration": 84,
        "start_time": "2022-12-20T10:11:56.158Z"
      },
      {
        "duration": 1118902,
        "start_time": "2022-12-20T10:11:56.245Z"
      },
      {
        "duration": 6,
        "start_time": "2022-12-20T10:30:35.150Z"
      },
      {
        "duration": 24,
        "start_time": "2022-12-20T10:30:35.158Z"
      },
      {
        "duration": 595,
        "start_time": "2022-12-20T10:32:32.012Z"
      },
      {
        "duration": 537,
        "start_time": "2022-12-20T10:34:11.132Z"
      },
      {
        "duration": 596,
        "start_time": "2022-12-20T10:35:42.093Z"
      },
      {
        "duration": 6,
        "start_time": "2022-12-20T10:35:53.046Z"
      },
      {
        "duration": 732,
        "start_time": "2022-12-20T10:35:55.751Z"
      },
      {
        "duration": 705,
        "start_time": "2022-12-20T10:46:53.132Z"
      },
      {
        "duration": 4,
        "start_time": "2022-12-20T10:47:03.058Z"
      },
      {
        "duration": 27108,
        "start_time": "2022-12-20T10:47:12.242Z"
      },
      {
        "duration": 5718,
        "start_time": "2022-12-20T10:47:47.044Z"
      },
      {
        "duration": 4592,
        "start_time": "2022-12-20T10:48:55.333Z"
      },
      {
        "duration": 555,
        "start_time": "2022-12-20T10:49:39.999Z"
      },
      {
        "duration": 537,
        "start_time": "2022-12-20T10:53:27.462Z"
      },
      {
        "duration": 1066,
        "start_time": "2022-12-20T10:54:32.698Z"
      },
      {
        "duration": 300,
        "start_time": "2022-12-21T10:44:20.923Z"
      },
      {
        "duration": 6,
        "start_time": "2022-12-21T10:44:23.880Z"
      },
      {
        "duration": 18,
        "start_time": "2022-12-21T10:44:26.105Z"
      },
      {
        "duration": 1540,
        "start_time": "2022-12-21T17:53:32.251Z"
      },
      {
        "duration": 1937,
        "start_time": "2022-12-21T17:54:00.261Z"
      },
      {
        "duration": 4,
        "start_time": "2022-12-21T17:54:51.122Z"
      },
      {
        "duration": 749,
        "start_time": "2022-12-21T17:54:51.146Z"
      },
      {
        "duration": 28,
        "start_time": "2022-12-21T17:54:51.897Z"
      },
      {
        "duration": 28,
        "start_time": "2022-12-21T17:54:51.927Z"
      },
      {
        "duration": 44,
        "start_time": "2022-12-21T17:54:51.957Z"
      },
      {
        "duration": 27,
        "start_time": "2022-12-21T17:54:52.004Z"
      },
      {
        "duration": 6,
        "start_time": "2022-12-21T17:54:52.033Z"
      },
      {
        "duration": 34,
        "start_time": "2022-12-21T17:54:52.040Z"
      },
      {
        "duration": 17,
        "start_time": "2022-12-21T17:54:52.076Z"
      },
      {
        "duration": 29,
        "start_time": "2022-12-21T17:54:52.095Z"
      },
      {
        "duration": 7,
        "start_time": "2022-12-21T17:54:52.125Z"
      },
      {
        "duration": 21,
        "start_time": "2022-12-21T17:54:52.134Z"
      },
      {
        "duration": 28,
        "start_time": "2022-12-21T17:54:52.157Z"
      },
      {
        "duration": 14,
        "start_time": "2022-12-21T17:54:52.187Z"
      },
      {
        "duration": 17,
        "start_time": "2022-12-21T17:54:52.204Z"
      },
      {
        "duration": 22,
        "start_time": "2022-12-21T17:54:52.223Z"
      },
      {
        "duration": 29,
        "start_time": "2022-12-21T17:54:52.247Z"
      },
      {
        "duration": 25,
        "start_time": "2022-12-21T17:54:52.278Z"
      },
      {
        "duration": 31,
        "start_time": "2022-12-21T17:54:52.305Z"
      },
      {
        "duration": 12,
        "start_time": "2022-12-21T17:54:52.337Z"
      },
      {
        "duration": 21,
        "start_time": "2022-12-21T17:54:52.351Z"
      },
      {
        "duration": 23,
        "start_time": "2022-12-21T17:54:52.374Z"
      },
      {
        "duration": 18,
        "start_time": "2022-12-21T17:54:52.399Z"
      },
      {
        "duration": 5,
        "start_time": "2022-12-21T18:00:15.642Z"
      },
      {
        "duration": 731,
        "start_time": "2022-12-21T18:00:15.705Z"
      },
      {
        "duration": 21,
        "start_time": "2022-12-21T18:00:16.438Z"
      },
      {
        "duration": 30,
        "start_time": "2022-12-21T18:00:16.460Z"
      },
      {
        "duration": 38,
        "start_time": "2022-12-21T18:00:16.491Z"
      },
      {
        "duration": 24,
        "start_time": "2022-12-21T18:00:16.531Z"
      },
      {
        "duration": 5,
        "start_time": "2022-12-21T18:00:16.557Z"
      },
      {
        "duration": 11,
        "start_time": "2022-12-21T18:00:16.564Z"
      },
      {
        "duration": 32,
        "start_time": "2022-12-21T18:00:16.576Z"
      },
      {
        "duration": 17,
        "start_time": "2022-12-21T18:00:16.610Z"
      },
      {
        "duration": 5,
        "start_time": "2022-12-21T18:00:16.908Z"
      },
      {
        "duration": 27,
        "start_time": "2022-12-21T18:00:16.915Z"
      },
      {
        "duration": 19,
        "start_time": "2022-12-21T18:00:16.943Z"
      },
      {
        "duration": 14,
        "start_time": "2022-12-21T18:00:16.964Z"
      },
      {
        "duration": 25,
        "start_time": "2022-12-21T18:00:16.980Z"
      },
      {
        "duration": 17,
        "start_time": "2022-12-21T18:00:17.006Z"
      },
      {
        "duration": 21,
        "start_time": "2022-12-21T18:00:17.025Z"
      },
      {
        "duration": 18,
        "start_time": "2022-12-21T18:00:17.048Z"
      },
      {
        "duration": 17,
        "start_time": "2022-12-21T18:00:17.068Z"
      },
      {
        "duration": 8,
        "start_time": "2022-12-21T18:00:17.086Z"
      },
      {
        "duration": 21,
        "start_time": "2022-12-21T18:00:17.096Z"
      },
      {
        "duration": 27,
        "start_time": "2022-12-21T18:00:17.119Z"
      },
      {
        "duration": 10,
        "start_time": "2022-12-21T18:00:17.147Z"
      },
      {
        "duration": 17,
        "start_time": "2022-12-21T18:00:17.158Z"
      },
      {
        "duration": 35,
        "start_time": "2022-12-21T18:00:17.177Z"
      },
      {
        "duration": 13,
        "start_time": "2022-12-21T18:00:17.215Z"
      },
      {
        "duration": 22,
        "start_time": "2022-12-21T18:00:17.230Z"
      },
      {
        "duration": 4,
        "start_time": "2022-12-21T18:00:17.254Z"
      },
      {
        "duration": 19,
        "start_time": "2022-12-21T18:00:17.259Z"
      },
      {
        "duration": 16,
        "start_time": "2022-12-21T18:00:17.279Z"
      },
      {
        "duration": 18,
        "start_time": "2022-12-21T18:00:17.297Z"
      },
      {
        "duration": 19,
        "start_time": "2022-12-21T18:00:17.316Z"
      },
      {
        "duration": 22,
        "start_time": "2022-12-21T18:00:17.337Z"
      },
      {
        "duration": 12,
        "start_time": "2022-12-21T18:00:17.362Z"
      },
      {
        "duration": 4,
        "start_time": "2022-12-21T18:01:23.937Z"
      },
      {
        "duration": 750,
        "start_time": "2022-12-21T18:01:23.943Z"
      },
      {
        "duration": 26,
        "start_time": "2022-12-21T18:01:24.695Z"
      },
      {
        "duration": 24,
        "start_time": "2022-12-21T18:01:24.722Z"
      },
      {
        "duration": 24,
        "start_time": "2022-12-21T18:01:24.749Z"
      },
      {
        "duration": 37,
        "start_time": "2022-12-21T18:01:24.775Z"
      },
      {
        "duration": 5,
        "start_time": "2022-12-21T18:01:24.814Z"
      },
      {
        "duration": 16,
        "start_time": "2022-12-21T18:01:24.821Z"
      },
      {
        "duration": 18,
        "start_time": "2022-12-21T18:01:24.839Z"
      },
      {
        "duration": 17,
        "start_time": "2022-12-21T18:01:24.858Z"
      },
      {
        "duration": 5,
        "start_time": "2022-12-21T18:01:24.878Z"
      },
      {
        "duration": 36,
        "start_time": "2022-12-21T18:01:24.884Z"
      },
      {
        "duration": 10,
        "start_time": "2022-12-21T18:01:24.921Z"
      },
      {
        "duration": 9,
        "start_time": "2022-12-21T18:01:24.933Z"
      },
      {
        "duration": 12,
        "start_time": "2022-12-21T18:01:24.943Z"
      },
      {
        "duration": 10,
        "start_time": "2022-12-21T18:01:24.956Z"
      },
      {
        "duration": 39,
        "start_time": "2022-12-21T18:01:24.967Z"
      },
      {
        "duration": 8,
        "start_time": "2022-12-21T18:01:25.008Z"
      },
      {
        "duration": 10,
        "start_time": "2022-12-21T18:01:25.018Z"
      },
      {
        "duration": 9,
        "start_time": "2022-12-21T18:01:25.029Z"
      },
      {
        "duration": 11,
        "start_time": "2022-12-21T18:01:25.039Z"
      },
      {
        "duration": 16,
        "start_time": "2022-12-21T18:01:25.051Z"
      },
      {
        "duration": 10,
        "start_time": "2022-12-21T18:01:25.069Z"
      },
      {
        "duration": 13,
        "start_time": "2022-12-21T18:01:25.105Z"
      },
      {
        "duration": 22,
        "start_time": "2022-12-21T18:01:25.120Z"
      },
      {
        "duration": 12,
        "start_time": "2022-12-21T18:01:25.143Z"
      },
      {
        "duration": 17,
        "start_time": "2022-12-21T18:01:25.156Z"
      },
      {
        "duration": 5,
        "start_time": "2022-12-21T18:01:25.175Z"
      },
      {
        "duration": 4,
        "start_time": "2022-12-21T18:01:25.207Z"
      },
      {
        "duration": 7,
        "start_time": "2022-12-21T18:01:25.212Z"
      },
      {
        "duration": 5,
        "start_time": "2022-12-21T18:01:25.221Z"
      },
      {
        "duration": 12,
        "start_time": "2022-12-21T18:01:25.228Z"
      },
      {
        "duration": 8,
        "start_time": "2022-12-21T18:01:25.242Z"
      },
      {
        "duration": 7,
        "start_time": "2022-12-21T18:01:25.251Z"
      },
      {
        "duration": 3029,
        "start_time": "2022-12-21T18:01:25.260Z"
      },
      {
        "duration": 465,
        "start_time": "2022-12-21T18:01:58.926Z"
      },
      {
        "duration": 966,
        "start_time": "2022-12-21T18:04:37.173Z"
      },
      {
        "duration": 877,
        "start_time": "2022-12-21T18:05:01.833Z"
      },
      {
        "duration": 5,
        "start_time": "2022-12-21T18:16:46.827Z"
      },
      {
        "duration": 759,
        "start_time": "2022-12-21T18:16:46.857Z"
      },
      {
        "duration": 21,
        "start_time": "2022-12-21T18:16:47.618Z"
      },
      {
        "duration": 37,
        "start_time": "2022-12-21T18:16:47.641Z"
      },
      {
        "duration": 43,
        "start_time": "2022-12-21T18:16:47.680Z"
      },
      {
        "duration": 22,
        "start_time": "2022-12-21T18:16:47.726Z"
      },
      {
        "duration": 6,
        "start_time": "2022-12-21T18:16:47.750Z"
      },
      {
        "duration": 9,
        "start_time": "2022-12-21T18:16:47.758Z"
      },
      {
        "duration": 40,
        "start_time": "2022-12-21T18:16:47.769Z"
      },
      {
        "duration": 23,
        "start_time": "2022-12-21T18:16:47.811Z"
      },
      {
        "duration": 23,
        "start_time": "2022-12-21T18:16:47.836Z"
      },
      {
        "duration": 26,
        "start_time": "2022-12-21T18:16:47.861Z"
      },
      {
        "duration": 31,
        "start_time": "2022-12-21T18:16:47.888Z"
      },
      {
        "duration": 13,
        "start_time": "2022-12-21T18:16:47.920Z"
      },
      {
        "duration": 28,
        "start_time": "2022-12-21T18:16:47.935Z"
      },
      {
        "duration": 25,
        "start_time": "2022-12-21T18:16:47.965Z"
      },
      {
        "duration": 30,
        "start_time": "2022-12-21T18:16:47.992Z"
      },
      {
        "duration": 30,
        "start_time": "2022-12-21T18:16:48.023Z"
      },
      {
        "duration": 16,
        "start_time": "2022-12-21T18:16:48.055Z"
      },
      {
        "duration": 26,
        "start_time": "2022-12-21T18:16:48.072Z"
      },
      {
        "duration": 28,
        "start_time": "2022-12-21T18:16:48.100Z"
      },
      {
        "duration": 33,
        "start_time": "2022-12-21T18:16:48.130Z"
      },
      {
        "duration": 38,
        "start_time": "2022-12-21T18:16:48.165Z"
      },
      {
        "duration": 73,
        "start_time": "2022-12-21T18:16:48.204Z"
      },
      {
        "duration": 43,
        "start_time": "2022-12-21T18:16:48.279Z"
      },
      {
        "duration": 12,
        "start_time": "2022-12-21T18:16:48.324Z"
      },
      {
        "duration": 37,
        "start_time": "2022-12-21T18:16:48.338Z"
      },
      {
        "duration": 26,
        "start_time": "2022-12-21T18:16:48.377Z"
      },
      {
        "duration": 41,
        "start_time": "2022-12-21T18:16:48.404Z"
      },
      {
        "duration": 51,
        "start_time": "2022-12-21T18:16:48.447Z"
      },
      {
        "duration": 26,
        "start_time": "2022-12-21T18:16:48.499Z"
      },
      {
        "duration": 35,
        "start_time": "2022-12-21T18:16:48.527Z"
      },
      {
        "duration": 15,
        "start_time": "2022-12-21T18:16:48.564Z"
      },
      {
        "duration": 21,
        "start_time": "2022-12-21T18:16:48.581Z"
      },
      {
        "duration": 3053,
        "start_time": "2022-12-21T18:16:48.603Z"
      },
      {
        "duration": 976,
        "start_time": "2022-12-21T18:16:51.658Z"
      },
      {
        "duration": 7,
        "start_time": "2022-12-21T18:16:52.636Z"
      },
      {
        "duration": 1275,
        "start_time": "2022-12-21T18:16:52.645Z"
      },
      {
        "duration": 25,
        "start_time": "2022-12-21T18:16:53.922Z"
      },
      {
        "duration": 25,
        "start_time": "2022-12-21T18:16:53.949Z"
      },
      {
        "duration": 29,
        "start_time": "2022-12-21T18:16:53.976Z"
      },
      {
        "duration": 34,
        "start_time": "2022-12-21T18:16:54.010Z"
      },
      {
        "duration": 5,
        "start_time": "2022-12-21T18:16:54.045Z"
      },
      {
        "duration": 42,
        "start_time": "2022-12-21T18:16:54.052Z"
      },
      {
        "duration": 21,
        "start_time": "2022-12-21T18:16:54.096Z"
      },
      {
        "duration": 26,
        "start_time": "2022-12-21T18:16:54.119Z"
      },
      {
        "duration": 3262,
        "start_time": "2022-12-21T18:16:54.147Z"
      },
      {
        "duration": 12039,
        "start_time": "2022-12-21T18:16:57.411Z"
      },
      {
        "duration": 1052,
        "start_time": "2022-12-21T18:17:34.654Z"
      },
      {
        "duration": 474404,
        "start_time": "2022-12-21T18:17:57.955Z"
      },
      {
        "duration": 947958,
        "start_time": "2022-12-21T18:27:57.498Z"
      },
      {
        "duration": 10,
        "start_time": "2022-12-21T18:49:56.320Z"
      },
      {
        "duration": 4,
        "start_time": "2022-12-21T18:50:03.007Z"
      },
      {
        "duration": 11,
        "start_time": "2022-12-21T18:50:06.777Z"
      },
      {
        "duration": 4,
        "start_time": "2022-12-21T18:50:16.788Z"
      },
      {
        "duration": 992,
        "start_time": "2022-12-21T18:50:19.502Z"
      },
      {
        "duration": 12,
        "start_time": "2022-12-21T18:50:25.205Z"
      },
      {
        "duration": 14,
        "start_time": "2022-12-21T18:50:31.373Z"
      },
      {
        "duration": 8,
        "start_time": "2022-12-21T18:50:39.655Z"
      },
      {
        "duration": 1423,
        "start_time": "2022-12-21T18:53:35.106Z"
      },
      {
        "duration": 709,
        "start_time": "2022-12-21T18:53:36.531Z"
      },
      {
        "duration": 23,
        "start_time": "2022-12-21T18:53:37.242Z"
      },
      {
        "duration": 58,
        "start_time": "2022-12-21T18:53:37.266Z"
      },
      {
        "duration": 69,
        "start_time": "2022-12-21T18:53:37.325Z"
      },
      {
        "duration": 90,
        "start_time": "2022-12-21T18:53:37.395Z"
      },
      {
        "duration": 39,
        "start_time": "2022-12-21T18:53:37.488Z"
      },
      {
        "duration": 48,
        "start_time": "2022-12-21T18:53:37.529Z"
      },
      {
        "duration": 73,
        "start_time": "2022-12-21T18:53:37.579Z"
      },
      {
        "duration": 54,
        "start_time": "2022-12-21T18:53:37.655Z"
      },
      {
        "duration": 22,
        "start_time": "2022-12-21T18:53:37.710Z"
      },
      {
        "duration": 63,
        "start_time": "2022-12-21T18:53:37.734Z"
      },
      {
        "duration": 62,
        "start_time": "2022-12-21T18:53:37.798Z"
      },
      {
        "duration": 46,
        "start_time": "2022-12-21T18:53:37.861Z"
      },
      {
        "duration": 57,
        "start_time": "2022-12-21T18:53:37.908Z"
      },
      {
        "duration": 51,
        "start_time": "2022-12-21T18:53:37.966Z"
      },
      {
        "duration": 64,
        "start_time": "2022-12-21T18:53:38.018Z"
      },
      {
        "duration": 60,
        "start_time": "2022-12-21T18:53:38.084Z"
      },
      {
        "duration": 88,
        "start_time": "2022-12-21T18:53:38.146Z"
      },
      {
        "duration": 67,
        "start_time": "2022-12-21T18:53:38.236Z"
      },
      {
        "duration": 37,
        "start_time": "2022-12-21T18:53:38.305Z"
      },
      {
        "duration": 39,
        "start_time": "2022-12-21T18:53:38.344Z"
      },
      {
        "duration": 9,
        "start_time": "2022-12-21T18:53:38.384Z"
      },
      {
        "duration": 40,
        "start_time": "2022-12-21T18:53:38.394Z"
      },
      {
        "duration": 54,
        "start_time": "2022-12-21T18:53:38.436Z"
      },
      {
        "duration": 30,
        "start_time": "2022-12-21T18:53:38.492Z"
      },
      {
        "duration": 74,
        "start_time": "2022-12-21T18:53:38.523Z"
      },
      {
        "duration": 22,
        "start_time": "2022-12-21T18:53:38.600Z"
      },
      {
        "duration": 39,
        "start_time": "2022-12-21T18:53:38.624Z"
      },
      {
        "duration": 29,
        "start_time": "2022-12-21T18:53:38.665Z"
      },
      {
        "duration": 35,
        "start_time": "2022-12-21T18:53:38.695Z"
      },
      {
        "duration": 17,
        "start_time": "2022-12-21T18:53:38.731Z"
      },
      {
        "duration": 16,
        "start_time": "2022-12-21T18:53:38.749Z"
      },
      {
        "duration": 13,
        "start_time": "2022-12-21T18:53:38.767Z"
      },
      {
        "duration": 2792,
        "start_time": "2022-12-21T18:53:38.781Z"
      },
      {
        "duration": 916,
        "start_time": "2022-12-21T18:53:41.575Z"
      },
      {
        "duration": 11,
        "start_time": "2022-12-21T18:53:42.493Z"
      },
      {
        "duration": 1192,
        "start_time": "2022-12-21T18:53:42.506Z"
      },
      {
        "duration": 31,
        "start_time": "2022-12-21T18:53:43.699Z"
      },
      {
        "duration": 3,
        "start_time": "2022-12-21T18:53:43.732Z"
      },
      {
        "duration": 21,
        "start_time": "2022-12-21T18:53:43.737Z"
      },
      {
        "duration": 26,
        "start_time": "2022-12-21T18:53:43.760Z"
      },
      {
        "duration": 3,
        "start_time": "2022-12-21T18:53:43.788Z"
      },
      {
        "duration": 13,
        "start_time": "2022-12-21T18:53:43.792Z"
      },
      {
        "duration": 12,
        "start_time": "2022-12-21T18:53:43.806Z"
      },
      {
        "duration": 19,
        "start_time": "2022-12-21T18:53:43.819Z"
      },
      {
        "duration": 2468,
        "start_time": "2022-12-21T18:53:43.840Z"
      },
      {
        "duration": 23417,
        "start_time": "2022-12-21T18:53:46.310Z"
      },
      {
        "duration": 923514,
        "start_time": "2022-12-21T18:54:09.729Z"
      },
      {
        "duration": 5,
        "start_time": "2022-12-21T19:09:33.245Z"
      },
      {
        "duration": 976,
        "start_time": "2022-12-21T19:09:33.251Z"
      },
      {
        "duration": 8,
        "start_time": "2022-12-21T19:09:34.228Z"
      }
    ],
    "kernelspec": {
      "display_name": "Python 3 (ipykernel)",
      "language": "python",
      "name": "python3"
    },
    "language_info": {
      "codemirror_mode": {
        "name": "ipython",
        "version": 3
      },
      "file_extension": ".py",
      "mimetype": "text/x-python",
      "name": "python",
      "nbconvert_exporter": "python",
      "pygments_lexer": "ipython3",
      "version": "3.9.5"
    },
    "toc": {
      "base_numbering": 1,
      "nav_menu": {},
      "number_sections": true,
      "sideBar": true,
      "skip_h1_title": true,
      "title_cell": "Содержание",
      "title_sidebar": "Contents",
      "toc_cell": true,
      "toc_position": {
        "height": "calc(100% - 180px)",
        "left": "10px",
        "top": "150px",
        "width": "302.188px"
      },
      "toc_section_display": true,
      "toc_window_display": true
    },
    "colab": {
      "provenance": []
    }
  },
  "nbformat": 4,
  "nbformat_minor": 0
}