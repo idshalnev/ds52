{
 "cells": [
  {
   "cell_type": "markdown",
   "metadata": {
    "toc": true
   },
   "source": [
    "<h1>Содержание<span class=\"tocSkip\"></span></h1>\n",
    "<div class=\"toc\"><ul class=\"toc-item\"><li><span><a href=\"#Подготовка-данных\" data-toc-modified-id=\"Подготовка-данных-1\"><span class=\"toc-item-num\">1&nbsp;&nbsp;</span>Подготовка данных</a></span></li><li><span><a href=\"#Исследование-задачи\" data-toc-modified-id=\"Исследование-задачи-2\"><span class=\"toc-item-num\">2&nbsp;&nbsp;</span>Исследование задачи</a></span><ul class=\"toc-item\"><li><span><a href=\"#Строим-модель-Логистическая-регрессия\" data-toc-modified-id=\"Строим-модель-Логистическая-регрессия-2.1\"><span class=\"toc-item-num\">2.1&nbsp;&nbsp;</span>Строим модель Логистическая регрессия</a></span></li><li><span><a href=\"#Строим-модель-дерева-решений\" data-toc-modified-id=\"Строим-модель-дерева-решений-2.2\"><span class=\"toc-item-num\">2.2&nbsp;&nbsp;</span>Строим модель дерева решений</a></span></li><li><span><a href=\"#Строим-модель-случайного-леса\" data-toc-modified-id=\"Строим-модель-случайного-леса-2.3\"><span class=\"toc-item-num\">2.3&nbsp;&nbsp;</span>Строим модель случайного леса</a></span></li></ul></li><li><span><a href=\"#Борьба-с-дисбалансом\" data-toc-modified-id=\"Борьба-с-дисбалансом-3\"><span class=\"toc-item-num\">3&nbsp;&nbsp;</span>Борьба с дисбалансом</a></span><ul class=\"toc-item\"><li><span><a href=\"#Используем-функцию-upsampling---увеличиваем-выборку\" data-toc-modified-id=\"Используем-функцию-upsampling---увеличиваем-выборку-3.1\"><span class=\"toc-item-num\">3.1&nbsp;&nbsp;</span>Используем функцию upsampling - увеличиваем выборку</a></span></li><li><span><a href=\"#Используем-взвешивание-классов\" data-toc-modified-id=\"Используем-взвешивание-классов-3.2\"><span class=\"toc-item-num\">3.2&nbsp;&nbsp;</span>Используем взвешивание классов</a></span></li></ul></li><li><span><a href=\"#Тестирование-модели\" data-toc-modified-id=\"Тестирование-модели-4\"><span class=\"toc-item-num\">4&nbsp;&nbsp;</span>Тестирование модели</a></span></li></ul></div>"
   ]
  },
  {
   "cell_type": "markdown",
   "metadata": {},
   "source": [
    "# Отток клиентов"
   ]
  },
  {
   "cell_type": "markdown",
   "metadata": {},
   "source": [
    "Из «Бета-Банка» стали уходить клиенты. Каждый месяц. Немного, но заметно. Банковские маркетологи посчитали: сохранять текущих клиентов дешевле, чем привлекать новых.\n",
    "\n",
    "Нам нужно спрогнозировать, уйдёт клиент из банка в ближайшее время или нет. Нам предоставлены исторические данные о поведении клиентов и расторжении договоров с банком. \n",
    "\n",
    "Необходимо построить модель с предельно большим значением *F1*-меры. Чтобы сдать проект успешно, нужно довести метрику до 0.59. Проверьте *F1*-меру на тестовой выборке самостоятельно.\n",
    "\n",
    "Дополнительно измерим *AUC-ROC*, сравним её значение с *F1*-мерой.\n",
    "\n",
    "Источник данных: [https://www.kaggle.com/barelydedicated/bank-customer-churn-modeling](https://www.kaggle.com/barelydedicated/bank-customer-churn-modeling)"
   ]
  },
  {
   "cell_type": "markdown",
   "metadata": {},
   "source": [
    "## Подготовка данных"
   ]
  },
  {
   "cell_type": "code",
   "execution_count": 1,
   "metadata": {},
   "outputs": [],
   "source": [
    "import pandas as pd\n",
    "from sklearn.model_selection import train_test_split\n",
    "from sklearn.linear_model import LinearRegression\n",
    "from sklearn.tree import DecisionTreeRegressor\n",
    "from sklearn.ensemble import RandomForestRegressor\n",
    "from sklearn.metrics import mean_absolute_error\n",
    "from sklearn.linear_model import LogisticRegression\n",
    "from sklearn.preprocessing import StandardScaler\n",
    "from sklearn.metrics import f1_score\n",
    "from sklearn.metrics import roc_auc_score\n",
    "from sklearn.tree import DecisionTreeClassifier\n",
    "from sklearn.ensemble import RandomForestClassifier\n",
    "from sklearn.metrics import roc_auc_score\n",
    "from sklearn.utils import shuffle\n",
    "from sklearn.metrics import roc_curve\n",
    "import matplotlib.pyplot as plt"
   ]
  },
  {
   "cell_type": "markdown",
   "metadata": {},
   "source": [
    "## Исследование задачи"
   ]
  },
  {
   "cell_type": "code",
   "execution_count": 2,
   "metadata": {},
   "outputs": [],
   "source": [
    "df = pd.read_csv('/datasets/Churn.csv')\n"
   ]
  },
  {
   "cell_type": "code",
   "execution_count": 3,
   "metadata": {},
   "outputs": [
    {
     "data": {
      "text/html": [
       "<div>\n",
       "<style scoped>\n",
       "    .dataframe tbody tr th:only-of-type {\n",
       "        vertical-align: middle;\n",
       "    }\n",
       "\n",
       "    .dataframe tbody tr th {\n",
       "        vertical-align: top;\n",
       "    }\n",
       "\n",
       "    .dataframe thead th {\n",
       "        text-align: right;\n",
       "    }\n",
       "</style>\n",
       "<table border=\"1\" class=\"dataframe\">\n",
       "  <thead>\n",
       "    <tr style=\"text-align: right;\">\n",
       "      <th></th>\n",
       "      <th>RowNumber</th>\n",
       "      <th>CustomerId</th>\n",
       "      <th>Surname</th>\n",
       "      <th>CreditScore</th>\n",
       "      <th>Geography</th>\n",
       "      <th>Gender</th>\n",
       "      <th>Age</th>\n",
       "      <th>Tenure</th>\n",
       "      <th>Balance</th>\n",
       "      <th>NumOfProducts</th>\n",
       "      <th>HasCrCard</th>\n",
       "      <th>IsActiveMember</th>\n",
       "      <th>EstimatedSalary</th>\n",
       "      <th>Exited</th>\n",
       "    </tr>\n",
       "  </thead>\n",
       "  <tbody>\n",
       "    <tr>\n",
       "      <th>0</th>\n",
       "      <td>1</td>\n",
       "      <td>15634602</td>\n",
       "      <td>Hargrave</td>\n",
       "      <td>619</td>\n",
       "      <td>France</td>\n",
       "      <td>Female</td>\n",
       "      <td>42</td>\n",
       "      <td>2.0</td>\n",
       "      <td>0.00</td>\n",
       "      <td>1</td>\n",
       "      <td>1</td>\n",
       "      <td>1</td>\n",
       "      <td>101348.88</td>\n",
       "      <td>1</td>\n",
       "    </tr>\n",
       "    <tr>\n",
       "      <th>1</th>\n",
       "      <td>2</td>\n",
       "      <td>15647311</td>\n",
       "      <td>Hill</td>\n",
       "      <td>608</td>\n",
       "      <td>Spain</td>\n",
       "      <td>Female</td>\n",
       "      <td>41</td>\n",
       "      <td>1.0</td>\n",
       "      <td>83807.86</td>\n",
       "      <td>1</td>\n",
       "      <td>0</td>\n",
       "      <td>1</td>\n",
       "      <td>112542.58</td>\n",
       "      <td>0</td>\n",
       "    </tr>\n",
       "    <tr>\n",
       "      <th>2</th>\n",
       "      <td>3</td>\n",
       "      <td>15619304</td>\n",
       "      <td>Onio</td>\n",
       "      <td>502</td>\n",
       "      <td>France</td>\n",
       "      <td>Female</td>\n",
       "      <td>42</td>\n",
       "      <td>8.0</td>\n",
       "      <td>159660.80</td>\n",
       "      <td>3</td>\n",
       "      <td>1</td>\n",
       "      <td>0</td>\n",
       "      <td>113931.57</td>\n",
       "      <td>1</td>\n",
       "    </tr>\n",
       "    <tr>\n",
       "      <th>3</th>\n",
       "      <td>4</td>\n",
       "      <td>15701354</td>\n",
       "      <td>Boni</td>\n",
       "      <td>699</td>\n",
       "      <td>France</td>\n",
       "      <td>Female</td>\n",
       "      <td>39</td>\n",
       "      <td>1.0</td>\n",
       "      <td>0.00</td>\n",
       "      <td>2</td>\n",
       "      <td>0</td>\n",
       "      <td>0</td>\n",
       "      <td>93826.63</td>\n",
       "      <td>0</td>\n",
       "    </tr>\n",
       "    <tr>\n",
       "      <th>4</th>\n",
       "      <td>5</td>\n",
       "      <td>15737888</td>\n",
       "      <td>Mitchell</td>\n",
       "      <td>850</td>\n",
       "      <td>Spain</td>\n",
       "      <td>Female</td>\n",
       "      <td>43</td>\n",
       "      <td>2.0</td>\n",
       "      <td>125510.82</td>\n",
       "      <td>1</td>\n",
       "      <td>1</td>\n",
       "      <td>1</td>\n",
       "      <td>79084.10</td>\n",
       "      <td>0</td>\n",
       "    </tr>\n",
       "    <tr>\n",
       "      <th>5</th>\n",
       "      <td>6</td>\n",
       "      <td>15574012</td>\n",
       "      <td>Chu</td>\n",
       "      <td>645</td>\n",
       "      <td>Spain</td>\n",
       "      <td>Male</td>\n",
       "      <td>44</td>\n",
       "      <td>8.0</td>\n",
       "      <td>113755.78</td>\n",
       "      <td>2</td>\n",
       "      <td>1</td>\n",
       "      <td>0</td>\n",
       "      <td>149756.71</td>\n",
       "      <td>1</td>\n",
       "    </tr>\n",
       "    <tr>\n",
       "      <th>6</th>\n",
       "      <td>7</td>\n",
       "      <td>15592531</td>\n",
       "      <td>Bartlett</td>\n",
       "      <td>822</td>\n",
       "      <td>France</td>\n",
       "      <td>Male</td>\n",
       "      <td>50</td>\n",
       "      <td>7.0</td>\n",
       "      <td>0.00</td>\n",
       "      <td>2</td>\n",
       "      <td>1</td>\n",
       "      <td>1</td>\n",
       "      <td>10062.80</td>\n",
       "      <td>0</td>\n",
       "    </tr>\n",
       "    <tr>\n",
       "      <th>7</th>\n",
       "      <td>8</td>\n",
       "      <td>15656148</td>\n",
       "      <td>Obinna</td>\n",
       "      <td>376</td>\n",
       "      <td>Germany</td>\n",
       "      <td>Female</td>\n",
       "      <td>29</td>\n",
       "      <td>4.0</td>\n",
       "      <td>115046.74</td>\n",
       "      <td>4</td>\n",
       "      <td>1</td>\n",
       "      <td>0</td>\n",
       "      <td>119346.88</td>\n",
       "      <td>1</td>\n",
       "    </tr>\n",
       "    <tr>\n",
       "      <th>8</th>\n",
       "      <td>9</td>\n",
       "      <td>15792365</td>\n",
       "      <td>He</td>\n",
       "      <td>501</td>\n",
       "      <td>France</td>\n",
       "      <td>Male</td>\n",
       "      <td>44</td>\n",
       "      <td>4.0</td>\n",
       "      <td>142051.07</td>\n",
       "      <td>2</td>\n",
       "      <td>0</td>\n",
       "      <td>1</td>\n",
       "      <td>74940.50</td>\n",
       "      <td>0</td>\n",
       "    </tr>\n",
       "    <tr>\n",
       "      <th>9</th>\n",
       "      <td>10</td>\n",
       "      <td>15592389</td>\n",
       "      <td>H?</td>\n",
       "      <td>684</td>\n",
       "      <td>France</td>\n",
       "      <td>Male</td>\n",
       "      <td>27</td>\n",
       "      <td>2.0</td>\n",
       "      <td>134603.88</td>\n",
       "      <td>1</td>\n",
       "      <td>1</td>\n",
       "      <td>1</td>\n",
       "      <td>71725.73</td>\n",
       "      <td>0</td>\n",
       "    </tr>\n",
       "  </tbody>\n",
       "</table>\n",
       "</div>"
      ],
      "text/plain": [
       "   RowNumber  CustomerId   Surname  CreditScore Geography  Gender  Age  \\\n",
       "0          1    15634602  Hargrave          619    France  Female   42   \n",
       "1          2    15647311      Hill          608     Spain  Female   41   \n",
       "2          3    15619304      Onio          502    France  Female   42   \n",
       "3          4    15701354      Boni          699    France  Female   39   \n",
       "4          5    15737888  Mitchell          850     Spain  Female   43   \n",
       "5          6    15574012       Chu          645     Spain    Male   44   \n",
       "6          7    15592531  Bartlett          822    France    Male   50   \n",
       "7          8    15656148    Obinna          376   Germany  Female   29   \n",
       "8          9    15792365        He          501    France    Male   44   \n",
       "9         10    15592389        H?          684    France    Male   27   \n",
       "\n",
       "   Tenure    Balance  NumOfProducts  HasCrCard  IsActiveMember  \\\n",
       "0     2.0       0.00              1          1               1   \n",
       "1     1.0   83807.86              1          0               1   \n",
       "2     8.0  159660.80              3          1               0   \n",
       "3     1.0       0.00              2          0               0   \n",
       "4     2.0  125510.82              1          1               1   \n",
       "5     8.0  113755.78              2          1               0   \n",
       "6     7.0       0.00              2          1               1   \n",
       "7     4.0  115046.74              4          1               0   \n",
       "8     4.0  142051.07              2          0               1   \n",
       "9     2.0  134603.88              1          1               1   \n",
       "\n",
       "   EstimatedSalary  Exited  \n",
       "0        101348.88       1  \n",
       "1        112542.58       0  \n",
       "2        113931.57       1  \n",
       "3         93826.63       0  \n",
       "4         79084.10       0  \n",
       "5        149756.71       1  \n",
       "6         10062.80       0  \n",
       "7        119346.88       1  \n",
       "8         74940.50       0  \n",
       "9         71725.73       0  "
      ]
     },
     "execution_count": 3,
     "metadata": {},
     "output_type": "execute_result"
    }
   ],
   "source": [
    "df.head(10)\n"
   ]
  },
  {
   "cell_type": "code",
   "execution_count": 4,
   "metadata": {},
   "outputs": [
    {
     "name": "stdout",
     "output_type": "stream",
     "text": [
      "<class 'pandas.core.frame.DataFrame'>\n",
      "RangeIndex: 10000 entries, 0 to 9999\n",
      "Data columns (total 14 columns):\n",
      " #   Column           Non-Null Count  Dtype  \n",
      "---  ------           --------------  -----  \n",
      " 0   RowNumber        10000 non-null  int64  \n",
      " 1   CustomerId       10000 non-null  int64  \n",
      " 2   Surname          10000 non-null  object \n",
      " 3   CreditScore      10000 non-null  int64  \n",
      " 4   Geography        10000 non-null  object \n",
      " 5   Gender           10000 non-null  object \n",
      " 6   Age              10000 non-null  int64  \n",
      " 7   Tenure           9091 non-null   float64\n",
      " 8   Balance          10000 non-null  float64\n",
      " 9   NumOfProducts    10000 non-null  int64  \n",
      " 10  HasCrCard        10000 non-null  int64  \n",
      " 11  IsActiveMember   10000 non-null  int64  \n",
      " 12  EstimatedSalary  10000 non-null  float64\n",
      " 13  Exited           10000 non-null  int64  \n",
      "dtypes: float64(3), int64(8), object(3)\n",
      "memory usage: 1.1+ MB\n"
     ]
    }
   ],
   "source": [
    "df.info()"
   ]
  },
  {
   "cell_type": "code",
   "execution_count": 5,
   "metadata": {},
   "outputs": [
    {
     "data": {
      "text/plain": [
       "RowNumber            int64\n",
       "CustomerId           int64\n",
       "Surname             object\n",
       "CreditScore          int64\n",
       "Geography           object\n",
       "Gender              object\n",
       "Age                  int64\n",
       "Tenure             float64\n",
       "Balance            float64\n",
       "NumOfProducts        int64\n",
       "HasCrCard            int64\n",
       "IsActiveMember       int64\n",
       "EstimatedSalary    float64\n",
       "Exited               int64\n",
       "dtype: object"
      ]
     },
     "execution_count": 5,
     "metadata": {},
     "output_type": "execute_result"
    }
   ],
   "source": [
    "df.dtypes"
   ]
  },
  {
   "cell_type": "code",
   "execution_count": 6,
   "metadata": {},
   "outputs": [
    {
     "data": {
      "text/plain": [
       "Male      5457\n",
       "Female    4543\n",
       "Name: Gender, dtype: int64"
      ]
     },
     "execution_count": 6,
     "metadata": {},
     "output_type": "execute_result"
    }
   ],
   "source": [
    "df['Gender'].value_counts()"
   ]
  },
  {
   "cell_type": "code",
   "execution_count": 7,
   "metadata": {},
   "outputs": [
    {
     "data": {
      "text/plain": [
       "France     5014\n",
       "Germany    2509\n",
       "Spain      2477\n",
       "Name: Geography, dtype: int64"
      ]
     },
     "execution_count": 7,
     "metadata": {},
     "output_type": "execute_result"
    }
   ],
   "source": [
    "df['Geography'].value_counts() #проверим, откуда клиенты банка"
   ]
  },
  {
   "cell_type": "code",
   "execution_count": 8,
   "metadata": {},
   "outputs": [
    {
     "data": {
      "text/plain": [
       "RowNumber            0\n",
       "CustomerId           0\n",
       "Surname              0\n",
       "CreditScore          0\n",
       "Geography            0\n",
       "Gender               0\n",
       "Age                  0\n",
       "Tenure             909\n",
       "Balance              0\n",
       "NumOfProducts        0\n",
       "HasCrCard            0\n",
       "IsActiveMember       0\n",
       "EstimatedSalary      0\n",
       "Exited               0\n",
       "dtype: int64"
      ]
     },
     "execution_count": 8,
     "metadata": {},
     "output_type": "execute_result"
    }
   ],
   "source": [
    "df.isna().sum() #проверяем на наличие пропусков в датасете"
   ]
  },
  {
   "cell_type": "code",
   "execution_count": 9,
   "metadata": {},
   "outputs": [],
   "source": [
    "df['Tenure'] = df['Tenure'].fillna(0) # заполняем пропуски нуляем, принимаем их за новых клиентов"
   ]
  },
  {
   "cell_type": "code",
   "execution_count": 10,
   "metadata": {},
   "outputs": [],
   "source": [
    "df.drop(columns = ['Surname', 'CustomerId', 'RowNumber'], axis = 1, inplace = True)# избавимся от столбцов фамилия и id клиента, \n",
    "#на дальнейший анализ они не повлияют, а создадут только лишние столбцы"
   ]
  },
  {
   "cell_type": "code",
   "execution_count": 17,
   "metadata": {},
   "outputs": [
    {
     "data": {
      "text/html": [
       "<div>\n",
       "<style scoped>\n",
       "    .dataframe tbody tr th:only-of-type {\n",
       "        vertical-align: middle;\n",
       "    }\n",
       "\n",
       "    .dataframe tbody tr th {\n",
       "        vertical-align: top;\n",
       "    }\n",
       "\n",
       "    .dataframe thead th {\n",
       "        text-align: right;\n",
       "    }\n",
       "</style>\n",
       "<table border=\"1\" class=\"dataframe\">\n",
       "  <thead>\n",
       "    <tr style=\"text-align: right;\">\n",
       "      <th></th>\n",
       "      <th>CreditScore</th>\n",
       "      <th>Age</th>\n",
       "      <th>Tenure</th>\n",
       "      <th>Balance</th>\n",
       "      <th>NumOfProducts</th>\n",
       "      <th>HasCrCard</th>\n",
       "      <th>IsActiveMember</th>\n",
       "      <th>EstimatedSalary</th>\n",
       "      <th>Exited</th>\n",
       "      <th>Geography_Germany</th>\n",
       "      <th>Geography_Spain</th>\n",
       "      <th>Gender_Male</th>\n",
       "    </tr>\n",
       "  </thead>\n",
       "  <tbody>\n",
       "    <tr>\n",
       "      <th>0</th>\n",
       "      <td>619</td>\n",
       "      <td>42</td>\n",
       "      <td>2.0</td>\n",
       "      <td>0.00</td>\n",
       "      <td>1</td>\n",
       "      <td>1</td>\n",
       "      <td>1</td>\n",
       "      <td>101348.88</td>\n",
       "      <td>1</td>\n",
       "      <td>0</td>\n",
       "      <td>0</td>\n",
       "      <td>0</td>\n",
       "    </tr>\n",
       "    <tr>\n",
       "      <th>1</th>\n",
       "      <td>608</td>\n",
       "      <td>41</td>\n",
       "      <td>1.0</td>\n",
       "      <td>83807.86</td>\n",
       "      <td>1</td>\n",
       "      <td>0</td>\n",
       "      <td>1</td>\n",
       "      <td>112542.58</td>\n",
       "      <td>0</td>\n",
       "      <td>0</td>\n",
       "      <td>1</td>\n",
       "      <td>0</td>\n",
       "    </tr>\n",
       "    <tr>\n",
       "      <th>2</th>\n",
       "      <td>502</td>\n",
       "      <td>42</td>\n",
       "      <td>8.0</td>\n",
       "      <td>159660.80</td>\n",
       "      <td>3</td>\n",
       "      <td>1</td>\n",
       "      <td>0</td>\n",
       "      <td>113931.57</td>\n",
       "      <td>1</td>\n",
       "      <td>0</td>\n",
       "      <td>0</td>\n",
       "      <td>0</td>\n",
       "    </tr>\n",
       "    <tr>\n",
       "      <th>3</th>\n",
       "      <td>699</td>\n",
       "      <td>39</td>\n",
       "      <td>1.0</td>\n",
       "      <td>0.00</td>\n",
       "      <td>2</td>\n",
       "      <td>0</td>\n",
       "      <td>0</td>\n",
       "      <td>93826.63</td>\n",
       "      <td>0</td>\n",
       "      <td>0</td>\n",
       "      <td>0</td>\n",
       "      <td>0</td>\n",
       "    </tr>\n",
       "    <tr>\n",
       "      <th>4</th>\n",
       "      <td>850</td>\n",
       "      <td>43</td>\n",
       "      <td>2.0</td>\n",
       "      <td>125510.82</td>\n",
       "      <td>1</td>\n",
       "      <td>1</td>\n",
       "      <td>1</td>\n",
       "      <td>79084.10</td>\n",
       "      <td>0</td>\n",
       "      <td>0</td>\n",
       "      <td>1</td>\n",
       "      <td>0</td>\n",
       "    </tr>\n",
       "  </tbody>\n",
       "</table>\n",
       "</div>"
      ],
      "text/plain": [
       "   CreditScore  Age  Tenure    Balance  NumOfProducts  HasCrCard  \\\n",
       "0          619   42     2.0       0.00              1          1   \n",
       "1          608   41     1.0   83807.86              1          0   \n",
       "2          502   42     8.0  159660.80              3          1   \n",
       "3          699   39     1.0       0.00              2          0   \n",
       "4          850   43     2.0  125510.82              1          1   \n",
       "\n",
       "   IsActiveMember  EstimatedSalary  Exited  Geography_Germany  \\\n",
       "0               1        101348.88       1                  0   \n",
       "1               1        112542.58       0                  0   \n",
       "2               0        113931.57       1                  0   \n",
       "3               0         93826.63       0                  0   \n",
       "4               1         79084.10       0                  0   \n",
       "\n",
       "   Geography_Spain  Gender_Male  \n",
       "0                0            0  \n",
       "1                1            0  \n",
       "2                0            0  \n",
       "3                0            0  \n",
       "4                1            0  "
      ]
     },
     "execution_count": 17,
     "metadata": {},
     "output_type": "execute_result"
    }
   ],
   "source": [
    "df_ohe = pd.get_dummies(df, drop_first = True)\n",
    "df_ohe.head() #избавимся от фиктивных признаков методом get_dummies и сохраняем полученный датафрейм в новую переменную"
   ]
  },
  {
   "cell_type": "code",
   "execution_count": 32,
   "metadata": {},
   "outputs": [
    {
     "data": {
      "text/plain": [
       "0    7963\n",
       "1    2037\n",
       "Name: Exited, dtype: int64"
      ]
     },
     "execution_count": 32,
     "metadata": {},
     "output_type": "execute_result"
    }
   ],
   "source": [
    "df_ohe['Exited'].value_counts() # посмотрим какое количесвто клиентов, кто не ушел из банка"
   ]
  },
  {
   "cell_type": "markdown",
   "metadata": {},
   "source": [
    "Клиентов, кто не ушел из банка в 4 раза больше, чем тех, кто ушел"
   ]
  },
  {
   "cell_type": "code",
   "execution_count": 18,
   "metadata": {},
   "outputs": [],
   "source": [
    "target = df_ohe['Exited']\n",
    "features = df_ohe.drop('Exited', axis =1) #определяем целевой признак\n"
   ]
  },
  {
   "cell_type": "code",
   "execution_count": 24,
   "metadata": {},
   "outputs": [],
   "source": [
    "features_train, features_test, target_train, target_test = train_test_split(features,\n",
    "                                                                              target,\n",
    "                                                                              test_size = 0.4,\n",
    "                                                                              random_state = 12345\n",
    "                                                                             )\n",
    "# разбиваем выборку на тестовую и тренировочную"
   ]
  },
  {
   "cell_type": "code",
   "execution_count": 25,
   "metadata": {},
   "outputs": [],
   "source": [
    "features_valid, features_test, target_valid, target_test = train_test_split(features_test,\n",
    "                                                                             target_test,\n",
    "                                                                             test_size = 0.5,\n",
    "                                                                             random_state = 12345)"
   ]
  },
  {
   "cell_type": "code",
   "execution_count": 26,
   "metadata": {},
   "outputs": [
    {
     "name": "stdout",
     "output_type": "stream",
     "text": [
      "(6000, 11)\n",
      "(2000, 11)\n",
      "(2000, 11)\n"
     ]
    }
   ],
   "source": [
    "print(features_train.shape)\n",
    "print(features_valid.shape)\n",
    "print(features_test.shape)"
   ]
  },
  {
   "cell_type": "code",
   "execution_count": 28,
   "metadata": {},
   "outputs": [],
   "source": [
    "numeric = ['CreditScore', 'Age', 'Tenure', 'Balance', 'NumOfProducts','HasCrCard', 'IsActiveMember', 'EstimatedSalary']\n",
    "scaler = StandardScaler()\n",
    "scaler.fit(features_train[numeric])\n",
    "features_train[numeric] = scaler.transform(features_train[numeric])\n",
    "features_valid[numeric] = scaler.transform(features_valid[numeric])\n",
    "features_test[numeric] = scaler.transform(features_test[numeric])\n",
    "\n",
    "\n",
    "pd.options.mode.chained_assignment = None  #Приводим к оному масштабу числовые признаки"
   ]
  },
  {
   "cell_type": "markdown",
   "metadata": {},
   "source": [
    "### Строим модель Логистическая регрессия"
   ]
  },
  {
   "cell_type": "code",
   "execution_count": 29,
   "metadata": {},
   "outputs": [
    {
     "name": "stdout",
     "output_type": "stream",
     "text": [
      "F1: 0.33389544688026984\n",
      "AUC-ROC: 0.7586832124559186\n"
     ]
    }
   ],
   "source": [
    "model_l = LogisticRegression(random_state = 12345, solver = 'liblinear')\n",
    "model_l.fit(features_train, target_train)\n",
    "predictions_l = model_l.predict(features_valid)\n",
    "\n",
    "probabilities_valid = model_l.predict_proba(features_valid)\n",
    "probabilities_one_valid = probabilities_valid[:, 1]\n",
    "\n",
    "print('F1:', f1_score(target_valid, predictions_l))\n",
    "print('AUC-ROC:', roc_auc_score(target_valid, probabilities_one_valid))"
   ]
  },
  {
   "cell_type": "markdown",
   "metadata": {},
   "source": [
    "F1 логистической регрессии с дисбалансом мало, нам нужно достичь показателя 0,59, продолжим строить модели"
   ]
  },
  {
   "cell_type": "markdown",
   "metadata": {},
   "source": [
    "### Строим модель дерева решений"
   ]
  },
  {
   "cell_type": "code",
   "execution_count": 30,
   "metadata": {
    "scrolled": true
   },
   "outputs": [
    {
     "name": "stdout",
     "output_type": "stream",
     "text": [
      "max_depth: 1 | F1: 0.0\n",
      "AUC-ROC 0.6925565119556736\n",
      "\n",
      "max_depth: 2 | F1: 0.5217391304347825\n",
      "AUC-ROC 0.7501814673449512\n",
      "\n",
      "max_depth: 3 | F1: 0.4234875444839857\n",
      "AUC-ROC 0.7973440741838507\n",
      "\n",
      "max_depth: 4 | F1: 0.5528700906344411\n",
      "AUC-ROC 0.813428129858032\n",
      "\n",
      "max_depth: 5 | F1: 0.5406249999999999\n",
      "AUC-ROC 0.8221680508592478\n",
      "\n",
      "max_depth: 6 | F1: 0.5696969696969697\n",
      "AUC-ROC 0.8164631712023421\n",
      "\n",
      "max_depth: 7 | F1: 0.5320813771517998\n",
      "AUC-ROC 0.8152322177124227\n",
      "\n",
      "max_depth: 8 | F1: 0.5449010654490106\n",
      "AUC-ROC 0.8105344818199964\n",
      "\n",
      "max_depth: 9 | F1: 0.5786516853932585\n",
      "AUC-ROC 0.7899719632952051\n",
      "\n",
      "max_depth: 10 | F1: 0.528995756718529\n",
      "AUC-ROC 0.7694328843024698\n",
      "\n"
     ]
    }
   ],
   "source": [
    "for depth in range (1, 11):\n",
    "    model_t = DecisionTreeClassifier(max_depth = depth, random_state = 12345)\n",
    "    model_t.fit(features_train, target_train)\n",
    "    predictions_t = model_t.predict(features_valid)\n",
    "    probabilities_t = model_t.predict_proba(features_valid)\n",
    "    probabilities_t_valid = probabilities_t[:, 1]\n",
    "    print('max_depth:', depth,  '|', 'F1:', f1_score(target_valid, predictions_t))\n",
    "    print('AUC-ROC', roc_auc_score(target_valid, probabilities_t_valid))\n",
    "    print()"
   ]
  },
  {
   "cell_type": "markdown",
   "metadata": {},
   "source": [
    "F1 для модели DT наилучшая 0,569 с глубиной 5, AUC_ROC также с этим показателем выше - 0,842"
   ]
  },
  {
   "cell_type": "markdown",
   "metadata": {},
   "source": [
    "### Строим модель случайного леса"
   ]
  },
  {
   "cell_type": "code",
   "execution_count": 44,
   "metadata": {
    "scrolled": true
   },
   "outputs": [
    {
     "name": "stdout",
     "output_type": "stream",
     "text": [
      "max_depth: 1 | F1: 0.0\n",
      "AUC-ROC 0.7966726118284938\n",
      "\n",
      "max_depth: 2 | F1: 0.12259194395796845\n",
      "AUC-ROC 0.8138260683455802\n",
      "\n",
      "max_depth: 3 | F1: 0.3062787136294028\n",
      "AUC-ROC 0.8251532662719079\n",
      "\n",
      "max_depth: 4 | F1: 0.33183856502242154\n",
      "AUC-ROC 0.8367839052579011\n",
      "\n",
      "max_depth: 5 | F1: 0.4560439560439561\n",
      "AUC-ROC 0.8474485743501938\n",
      "\n",
      "max_depth: 6 | F1: 0.4926764314247669\n",
      "AUC-ROC 0.8556866661910537\n",
      "\n",
      "max_depth: 7 | F1: 0.5358974358974359\n",
      "AUC-ROC 0.8623585646001284\n",
      "\n",
      "max_depth: 8 | F1: 0.544080604534005\n",
      "AUC-ROC 0.860698675417945\n",
      "\n",
      "max_depth: 9 | F1: 0.5340050377833753\n",
      "AUC-ROC 0.8620874652208034\n",
      "\n",
      "max_depth: 10 | F1: 0.5485854858548586\n",
      "AUC-ROC 0.8646310432569975\n",
      "\n",
      "max_depth: 11 | F1: 0.5530864197530865\n",
      "AUC-ROC 0.862779957670448\n",
      "\n",
      "max_depth: 12 | F1: 0.5693251533742332\n",
      "AUC-ROC 0.8565789160780957\n",
      "\n",
      "max_depth: 13 | F1: 0.5458996328029376\n",
      "AUC-ROC 0.8550502960690589\n",
      "\n",
      "max_depth: 14 | F1: 0.5555555555555556\n",
      "AUC-ROC 0.855406054552805\n",
      "\n"
     ]
    }
   ],
   "source": [
    "for max_depth in range(1, 15, 1):\n",
    "    model_r = RandomForestClassifier(n_estimators = 60, max_depth = max_depth, random_state = 12345)\n",
    "    model_r.fit(features_train, target_train)\n",
    "    predictions_r = model_r.predict(features_valid)\n",
    "    probabilities_r = model_r.predict_proba(features_valid)\n",
    "    probabilities_r_valid = probabilities_r[:, 1]\n",
    "    print('max_depth:', max_depth,'|', 'F1:', f1_score(target_valid, predictions_r))\n",
    "    print('AUC-ROC', roc_auc_score(target_valid, probabilities_r_valid))\n",
    "    print()"
   ]
  },
  {
   "cell_type": "markdown",
   "metadata": {},
   "source": [
    " Лучший показатель для модели случайный лес F1 = 0.5693251533742332 при глубине 12\n"
   ]
  },
  {
   "cell_type": "code",
   "execution_count": 61,
   "metadata": {
    "scrolled": true
   },
   "outputs": [
    {
     "name": "stdout",
     "output_type": "stream",
     "text": [
      "estim 1 | F1: 0.48510638297872344\n",
      "AUC-ROC 0.717056907089011\n",
      "\n",
      "estim 11 | F1: 0.5436893203883495\n",
      "AUC-ROC 0.8366036479512972\n",
      "\n",
      "estim 21 | F1: 0.5550122249388753\n",
      "AUC-ROC 0.8484088368885401\n",
      "\n",
      "estim 31 | F1: 0.5644171779141104\n",
      "AUC-ROC 0.8513509785736368\n",
      "\n",
      "estim 41 | F1: 0.5644171779141104\n",
      "AUC-ROC 0.8539987158450453\n",
      "\n",
      "estim 51 | F1: 0.5630354957160343\n",
      "AUC-ROC 0.8563030605693088\n",
      "\n",
      "estim 61 | F1: 0.5601965601965603\n",
      "AUC-ROC 0.8565827209816651\n",
      "\n",
      "estim 71 | F1: 0.5577395577395577\n",
      "AUC-ROC 0.8579667546550616\n",
      "\n",
      "estim 81 | F1: 0.5588235294117647\n",
      "AUC-ROC 0.8588285653135478\n",
      "\n"
     ]
    }
   ],
   "source": [
    "for estim in range(1, 90, 10):\n",
    "    model_r = RandomForestClassifier(n_estimators = estim, max_depth = 12, random_state = 12345)\n",
    "    model_r.fit(features_train, target_train)\n",
    "    predictions_r = model_r.predict(features_valid)\n",
    "    probabilities_r = model_r.predict_proba(features_valid)\n",
    "    probabilities_r_valid = probabilities_r[:, 1]\n",
    "    print('estim', estim,'|', 'F1:', f1_score(target_valid, predictions_r))\n",
    "    print('AUC-ROC', roc_auc_score(target_valid, probabilities_r_valid))\n",
    "    print()"
   ]
  },
  {
   "cell_type": "markdown",
   "metadata": {},
   "source": [
    "Наибольший показатель F1 у модели с 41 деревом"
   ]
  },
  {
   "cell_type": "markdown",
   "metadata": {},
   "source": [
    "Общий вывод: При построении модели с дисбалансом классов лучшей моделью оказалась модель случаного леса, показатель F1  у нее самый высокий"
   ]
  },
  {
   "cell_type": "markdown",
   "metadata": {},
   "source": [
    "## Борьба с дисбалансом"
   ]
  },
  {
   "cell_type": "markdown",
   "metadata": {},
   "source": [
    "### Используем функцию upsampling - увеличиваем выборку"
   ]
  },
  {
   "cell_type": "code",
   "execution_count": 33,
   "metadata": {},
   "outputs": [],
   "source": [
    "def upsample (features, target, repeat):\n",
    "    features_zeros = features[target == 0]\n",
    "    features_ones = features[target == 1]\n",
    "    target_zeros = target[target == 0]\n",
    "    target_ones = target[target == 1]\n",
    "    \n",
    "    features_upsampled = pd.concat([features_zeros] + [features_ones]*repeat)\n",
    "    target_upsampled = pd.concat([target_zeros] + [target_ones] * repeat)\n",
    "    \n",
    "    features_usampled, target_upsampled = shuffle(features_upsampled,\n",
    "                                                 target_upsampled, random_state = 12345)\n",
    "    return features_upsampled, target_upsampled\n",
    "    \n",
    "features_upsampled, target_upsampled = upsample(features, target, 4)\n",
    "    "
   ]
  },
  {
   "cell_type": "markdown",
   "metadata": {},
   "source": [
    "Проверим модели уже со сбалансированной метрикой"
   ]
  },
  {
   "cell_type": "markdown",
   "metadata": {},
   "source": [
    "Логистическая регрессия"
   ]
  },
  {
   "cell_type": "code",
   "execution_count": 34,
   "metadata": {},
   "outputs": [
    {
     "name": "stdout",
     "output_type": "stream",
     "text": [
      "F1: 0.3410620792819745\n",
      "AUC-ROC: 0.5954790435461139\n"
     ]
    }
   ],
   "source": [
    "model_l = LogisticRegression(random_state = 12345, solver = 'liblinear')\n",
    "model_l.fit(features_upsampled, target_upsampled)\n",
    "predictions_l = model_l.predict(features_valid)\n",
    "\n",
    "probabilities_valid = model_l.predict_proba(features_valid)\n",
    "probabilities_one_valid = probabilities_valid[:, 1]\n",
    "\n",
    "print('F1:', f1_score(target_valid, predictions_l))\n",
    "print('AUC-ROC:', roc_auc_score(target_valid, probabilities_one_valid))"
   ]
  },
  {
   "cell_type": "markdown",
   "metadata": {},
   "source": [
    "F1 логистической регрессии после увеличения выборки стало больше, а AUC-ROC -наоборот понизися"
   ]
  },
  {
   "cell_type": "markdown",
   "metadata": {},
   "source": [
    "Дерево решений"
   ]
  },
  {
   "cell_type": "code",
   "execution_count": 35,
   "metadata": {
    "scrolled": true
   },
   "outputs": [
    {
     "name": "stdout",
     "output_type": "stream",
     "text": [
      "max_depth: 1 | F1: 0.0\n",
      "AUC-ROC 0.5\n",
      "\n",
      "max_depth: 2 | F1: 0.0\n",
      "AUC-ROC 0.5\n",
      "\n",
      "max_depth: 3 | F1: 0.3457402812241522\n",
      "AUC-ROC 0.5\n",
      "\n",
      "max_depth: 4 | F1: 0.0\n",
      "AUC-ROC 0.5\n",
      "\n",
      "max_depth: 5 | F1: 0.0\n",
      "AUC-ROC 0.5\n",
      "\n",
      "max_depth: 6 | F1: 0.0\n",
      "AUC-ROC 0.5\n",
      "\n",
      "max_depth: 7 | F1: 0.3457402812241522\n",
      "AUC-ROC 0.5\n",
      "\n",
      "max_depth: 8 | F1: 0.3457402812241522\n",
      "AUC-ROC 0.5\n",
      "\n",
      "max_depth: 9 | F1: 0.3457402812241522\n",
      "AUC-ROC 0.5\n",
      "\n",
      "max_depth: 10 | F1: 0.3457402812241522\n",
      "AUC-ROC 0.5\n",
      "\n"
     ]
    }
   ],
   "source": [
    "for depth in range (1, 11):\n",
    "    model_t = DecisionTreeClassifier(max_depth = depth, random_state = 12345)\n",
    "    model_t.fit(features_upsampled, target_upsampled)\n",
    "    \n",
    "    predictions_t = model_t.predict(features_valid)\n",
    "    \n",
    "    probabilities_t = model_t.predict_proba(features_valid)\n",
    "    probabilities_t_valid = probabilities_t[:, 1]\n",
    "    \n",
    "    print('max_depth:', depth,  '|', 'F1:', f1_score(target_valid, predictions_t))\n",
    "    print('AUC-ROC', roc_auc_score(target_valid, probabilities_t_valid))\n",
    "    print()"
   ]
  },
  {
   "cell_type": "markdown",
   "metadata": {},
   "source": [
    "F1 макисмальная для глубин от 1-4 - понизилась, AUC-ROC также упала."
   ]
  },
  {
   "cell_type": "markdown",
   "metadata": {},
   "source": [
    "Случайный лес"
   ]
  },
  {
   "cell_type": "code",
   "execution_count": 36,
   "metadata": {
    "scrolled": true
   },
   "outputs": [
    {
     "name": "stdout",
     "output_type": "stream",
     "text": [
      "max_depth: 1 | F1: 0.0\n",
      "AUC-ROC 0.488637119750301\n",
      "\n",
      "max_depth: 2 | F1: 0.0\n",
      "AUC-ROC 0.39766905195410085\n",
      "\n",
      "max_depth: 3 | F1: 0.02358490566037736\n",
      "AUC-ROC 0.48317192821151833\n",
      "\n",
      "max_depth: 4 | F1: 0.05555555555555556\n",
      "AUC-ROC 0.48213000320592303\n",
      "\n",
      "max_depth: 5 | F1: 0.018058690744920995\n",
      "AUC-ROC 0.4534498454503112\n",
      "\n",
      "max_depth: 6 | F1: 0.018912529550827423\n",
      "AUC-ROC 0.42531333361561585\n",
      "\n",
      "max_depth: 7 | F1: 0.0047732696897374695\n",
      "AUC-ROC 0.47484560153400396\n",
      "\n",
      "max_depth: 8 | F1: 0.009523809523809525\n",
      "AUC-ROC 0.42951505876517515\n",
      "\n",
      "max_depth: 9 | F1: 0.0047732696897374695\n",
      "AUC-ROC 0.5129371094671514\n",
      "\n",
      "max_depth: 10 | F1: 0.18850574712643678\n",
      "AUC-ROC 0.44362716929088614\n",
      "\n",
      "max_depth: 11 | F1: 0.10677618069815195\n",
      "AUC-ROC 0.46336627973796113\n",
      "\n",
      "max_depth: 12 | F1: 0.13714285714285715\n",
      "AUC-ROC 0.406865665773444\n",
      "\n",
      "max_depth: 13 | F1: 0.018912529550827423\n",
      "AUC-ROC 0.4685766608798747\n",
      "\n",
      "max_depth: 14 | F1: 0.05393258426966293\n",
      "AUC-ROC 0.5158685632020518\n",
      "\n"
     ]
    }
   ],
   "source": [
    "for max_depth in range(1, 15, 1):\n",
    "    model_r = RandomForestClassifier(n_estimators = 60, max_depth = max_depth, random_state = 12345)\n",
    "    model_r.fit(features_upsampled, target_upsampled)\n",
    "    predictions_r = model_r.predict(features_valid)\n",
    "    probabilities_r = model_r.predict_proba(features_valid)\n",
    "    probabilities_r_valid = probabilities_r[:, 1]\n",
    "    print('max_depth:', max_depth,'|', 'F1:', f1_score(target_valid, predictions_r))\n",
    "    print('AUC-ROC', roc_auc_score(target_valid, probabilities_r_valid))\n",
    "    print()"
   ]
  },
  {
   "cell_type": "code",
   "execution_count": 60,
   "metadata": {},
   "outputs": [
    {
     "name": "stdout",
     "output_type": "stream",
     "text": [
      "estimate: 1 | F1: 0.2564962279966471\n",
      "AUC-ROC 0.5144919264702384\n",
      "\n",
      "estimate: 11 | F1: 0.003717472118959108\n",
      "AUC-ROC 0.5445330669900835\n",
      "\n",
      "estimate: 21 | F1: 0.1059190031152648\n",
      "AUC-ROC 0.5341366435994388\n",
      "\n",
      "estimate: 31 | F1: 0.2736842105263158\n",
      "AUC-ROC 0.5735445054814392\n",
      "\n",
      "estimate: 41 | F1: 0.246392896781354\n",
      "AUC-ROC 0.6133385650757415\n",
      "\n",
      "estimate: 51 | F1: 0.31421838177533384\n",
      "AUC-ROC 0.5925385841002592\n",
      "\n",
      "estimate: 61 | F1: 0.32791519434628974\n",
      "AUC-ROC 0.5926522555943973\n",
      "\n",
      "estimate: 71 | F1: 0.3543543543543543\n",
      "AUC-ROC 0.5961708401702694\n",
      "\n",
      "estimate: 81 | F1: 0.3524115755627009\n",
      "AUC-ROC 0.6082894580390478\n",
      "\n"
     ]
    }
   ],
   "source": [
    "for estim in range(1, 90, 10):\n",
    "    model_r = RandomForestClassifier(n_estimators = estim, max_depth = 12, random_state = 12345)\n",
    "    model_r.fit(features_upsampled, target_upsampled)\n",
    "    predictions_r = model_r.predict(features_valid)\n",
    "    probabilities_r = model_r.predict_proba(features_valid)\n",
    "    probabilities_r_valid = probabilities_r[:, 1]\n",
    "    print('estimate:', estim,'|', 'F1:', f1_score(target_valid, predictions_r))\n",
    "    print('AUC-ROC', roc_auc_score(target_valid, probabilities_r_valid))\n",
    "    print()"
   ]
  },
  {
   "cell_type": "markdown",
   "metadata": {},
   "source": [
    "F1 лучшая для глубины 11, AUC-ROC 0.5661"
   ]
  },
  {
   "cell_type": "markdown",
   "metadata": {},
   "source": [
    "После увеличения выборки лучшей моделью стала логистическая регрессия с показателем F1 0,49, у других моделей показатели упали"
   ]
  },
  {
   "cell_type": "markdown",
   "metadata": {},
   "source": [
    "### Используем взвешивание классов"
   ]
  },
  {
   "cell_type": "code",
   "execution_count": 63,
   "metadata": {},
   "outputs": [
    {
     "name": "stdout",
     "output_type": "stream",
     "text": [
      "F1: 0.5074024226110363\n",
      "AUC-ROC: 0.7633283393973984\n"
     ]
    }
   ],
   "source": [
    "model_l = LogisticRegression(random_state = 12345, solver = 'liblinear', class_weight = 'balanced')\n",
    "model_l.fit(features_train, target_train)\n",
    "predictions_l = model_l.predict(features_valid)\n",
    "\n",
    "probabilities_valid = model_l.predict_proba(features_valid)\n",
    "probabilities_one_valid = probabilities_valid[:, 1]\n",
    "\n",
    "print('F1:', f1_score(target_valid, predictions_l))\n",
    "print('AUC-ROC:', roc_auc_score(target_valid, probabilities_one_valid))"
   ]
  },
  {
   "cell_type": "markdown",
   "metadata": {},
   "source": [
    "F1 логистической регрессии  увеличилась до 0,50"
   ]
  },
  {
   "cell_type": "code",
   "execution_count": 64,
   "metadata": {},
   "outputs": [
    {
     "name": "stdout",
     "output_type": "stream",
     "text": [
      "max_depth: 1 | F1: 0.5070202808112324\n",
      "AUC-ROC 0.6963591828969584\n",
      "\n",
      "max_depth: 2 | F1: 0.5391566265060241\n",
      "AUC-ROC 0.7497091626834081\n",
      "\n",
      "max_depth: 3 | F1: 0.5391566265060241\n",
      "AUC-ROC 0.8031970702242516\n",
      "\n",
      "max_depth: 4 | F1: 0.5440414507772021\n",
      "AUC-ROC 0.8252835842191625\n",
      "\n",
      "max_depth: 5 | F1: 0.6001622060016222\n",
      "AUC-ROC 0.8444255784642458\n",
      "\n",
      "max_depth: 6 | F1: 0.5923295454545455\n",
      "AUC-ROC 0.83776128986231\n",
      "\n",
      "max_depth: 7 | F1: 0.5757785467128028\n",
      "AUC-ROC 0.8291769517966278\n",
      "\n",
      "max_depth: 8 | F1: 0.5849335302806499\n",
      "AUC-ROC 0.8189246391286772\n",
      "\n",
      "max_depth: 9 | F1: 0.5654761904761905\n",
      "AUC-ROC 0.7894214168509667\n",
      "\n",
      "max_depth: 10 | F1: 0.5529411764705882\n",
      "AUC-ROC 0.7706689496088083\n",
      "\n"
     ]
    }
   ],
   "source": [
    "for depth in range (1, 11):\n",
    "    model_t = DecisionTreeClassifier(max_depth = depth, random_state = 12345, class_weight = 'balanced')\n",
    "    model_t.fit(features_train, target_train)\n",
    "    \n",
    "    predictions_t = model_t.predict(features_valid)\n",
    "    \n",
    "    probabilities_t = model_t.predict_proba(features_valid)\n",
    "    probabilities_t_valid = probabilities_t[:, 1]\n",
    "    \n",
    "    print('max_depth:', depth,  '|', 'F1:', f1_score(target_valid, predictions_t))\n",
    "    print('AUC-ROC', roc_auc_score(target_valid, probabilities_t_valid))\n",
    "    print()"
   ]
  },
  {
   "cell_type": "markdown",
   "metadata": {},
   "source": [
    "Дя модели DT после балансировки классов F1 наивысшая для глубины 5 равна 0.6001622060016222"
   ]
  },
  {
   "cell_type": "code",
   "execution_count": 65,
   "metadata": {},
   "outputs": [
    {
     "name": "stdout",
     "output_type": "stream",
     "text": [
      "max_depth: 1 | F1: 0.565597667638484\n",
      "AUC-ROC 0.8089010962878409\n",
      "\n",
      "max_depth: 2 | F1: 0.5867269984917044\n",
      "AUC-ROC 0.8277467836674515\n",
      "\n",
      "max_depth: 3 | F1: 0.592814371257485\n",
      "AUC-ROC 0.8350517229078975\n",
      "\n",
      "max_depth: 4 | F1: 0.6040570999248686\n",
      "AUC-ROC 0.8454086704240089\n",
      "\n",
      "max_depth: 5 | F1: 0.6124620060790273\n",
      "AUC-ROC 0.8548648070200472\n",
      "\n",
      "max_depth: 6 | F1: 0.6287519747235386\n",
      "AUC-ROC 0.8611295807471878\n",
      "\n",
      "max_depth: 7 | F1: 0.6490066225165563\n",
      "AUC-ROC 0.8641306984376115\n",
      "\n",
      "max_depth: 8 | F1: 0.638655462184874\n",
      "AUC-ROC 0.8624565408670424\n",
      "\n",
      "max_depth: 9 | F1: 0.6464826357969723\n",
      "AUC-ROC 0.8645920429954104\n",
      "\n",
      "max_depth: 10 | F1: 0.6361940298507462\n",
      "AUC-ROC 0.859812132886257\n",
      "\n",
      "max_depth: 11 | F1: 0.6185770750988142\n",
      "AUC-ROC 0.8596627904211553\n",
      "\n",
      "max_depth: 12 | F1: 0.6233230134158927\n",
      "AUC-ROC 0.8606130650876316\n",
      "\n",
      "max_depth: 13 | F1: 0.6210640608034744\n",
      "AUC-ROC 0.8583234643647001\n",
      "\n",
      "max_depth: 14 | F1: 0.5812356979405034\n",
      "AUC-ROC 0.8566707093767092\n",
      "\n"
     ]
    }
   ],
   "source": [
    "for max_depth in range(1, 15, 1):\n",
    "    model_r = RandomForestClassifier(n_estimators = 60, max_depth = max_depth, random_state = 12345, \n",
    "                                     class_weight = 'balanced')\n",
    "    model_r.fit(features_train, target_train)\n",
    "    \n",
    "    predictions_r = model_r.predict(features_valid)\n",
    "    \n",
    "    probabilities_r = model_r.predict_proba(features_valid)\n",
    "    probabilities_r_valid = probabilities_r[:, 1]\n",
    "    \n",
    "    print('max_depth:', max_depth,'|', 'F1:', f1_score(target_valid, predictions_r))\n",
    "    print('AUC-ROC', roc_auc_score(target_valid, probabilities_r_valid))\n",
    "    print()"
   ]
  },
  {
   "cell_type": "code",
   "execution_count": 67,
   "metadata": {},
   "outputs": [
    {
     "name": "stdout",
     "output_type": "stream",
     "text": [
      "estimate: 1 | F1: 0.37677419354838704\n",
      "AUC-ROC 0.7508777436921834\n",
      "\n",
      "estimate: 11 | F1: 0.48010610079575605\n",
      "AUC-ROC 0.8576105205583696\n",
      "\n",
      "estimate: 21 | F1: 0.5045513654096229\n",
      "AUC-ROC 0.8564657201969038\n",
      "\n",
      "estimate: 31 | F1: 0.525096525096525\n",
      "AUC-ROC 0.8598097548215262\n",
      "\n",
      "estimate: 41 | F1: 0.5263157894736842\n",
      "AUC-ROC 0.8591819457325629\n",
      "\n",
      "estimate: 51 | F1: 0.5345268542199488\n",
      "AUC-ROC 0.8600794273620127\n",
      "\n",
      "estimate: 61 | F1: 0.534017971758665\n",
      "AUC-ROC 0.8626477372714085\n",
      "\n",
      "estimate: 71 | F1: 0.5307692307692307\n",
      "AUC-ROC 0.8620969774797269\n",
      "\n",
      "estimate: 81 | F1: 0.528735632183908\n",
      "AUC-ROC 0.86238329647333\n",
      "\n",
      "estimate: 91 | F1: 0.528735632183908\n",
      "AUC-ROC 0.8632156191291526\n",
      "\n"
     ]
    }
   ],
   "source": [
    "for estim in range(1, 100, 10):\n",
    "    model_r = RandomForestClassifier(n_estimators = estim, max_depth = 7, random_state = 12345)\n",
    "    model_r.fit(features_train, target_train)\n",
    "    \n",
    "    predictions_r = model_r.predict(features_valid)\n",
    "    \n",
    "    probabilities_r = model_r.predict_proba(features_valid)\n",
    "    probabilities_r_valid = probabilities_r[:, 1]\n",
    "    \n",
    "    print('estimate:', estim,'|', 'F1:', f1_score(target_valid, predictions_r))\n",
    "    print('AUC-ROC', roc_auc_score(target_valid, probabilities_r_valid))\n",
    "    print()"
   ]
  },
  {
   "cell_type": "markdown",
   "metadata": {},
   "source": [
    "Для случайного леса после балансировки F1 стала наивысшей у модели с глубиной 7 и равна 0.6490066225165563"
   ]
  },
  {
   "cell_type": "markdown",
   "metadata": {},
   "source": [
    "Вывод: увеличение выборки понизило показатели F1 и AUC_ROC у всех моделей кроме логистической регрессии самый высокий показатель F1 у модели случайного леса, с глубиной 7  количеством деревьев 51, после балансировки классов, он составляет 0.6490066225165563, данную модель будем проверять на тестовой выборке. "
   ]
  },
  {
   "cell_type": "markdown",
   "metadata": {},
   "source": [
    "## Тестирование модели"
   ]
  },
  {
   "cell_type": "code",
   "execution_count": 38,
   "metadata": {},
   "outputs": [
    {
     "name": "stdout",
     "output_type": "stream",
     "text": [
      "F1: 0.6058091286307055\n",
      "AUC-ROC 0.8546331649854364\n"
     ]
    }
   ],
   "source": [
    "model_test = RandomForestClassifier(n_estimators = 51, max_depth = 7, random_state = 12345,\n",
    "                                     class_weight = 'balanced')\n",
    "model_test.fit(features_train, target_train)\n",
    "\n",
    "predictions_test = model_test.predict(features_test)\n",
    "\n",
    "probabilities_test = model_test.predict_proba(features_test)\n",
    "probabilities_one_test = probabilities_test[:, 1]\n",
    "\n",
    "print('F1:', f1_score(target_test, predictions_test))\n",
    "print('AUC-ROC', roc_auc_score(target_test, probabilities_one_test))"
   ]
  },
  {
   "cell_type": "code",
   "execution_count": 40,
   "metadata": {},
   "outputs": [
    {
     "data": {
      "image/png": "[encoded data removed]",
      "text/plain": [
       "<Figure size 648x648 with 1 Axes>"
      ]
     },
     "metadata": {
      "needs_background": "light"
     },
     "output_type": "display_data"
    }
   ],
   "source": [
    "fpr, tpr, thresholds = roc_curve(target_test, probabilities_one_test)\n",
    "\n",
    "plt.figure(figsize = (9, 9))\n",
    "\n",
    "plt.plot([0, 1], [0, 1])\n",
    "plt.plot(fpr, tpr)\n",
    "plt.xlim([0.0, 1.0]) \n",
    "plt.ylim([0.0, 1.0])\n",
    "plt.xlabel('False Positive Rate') \n",
    "plt.ylabel('True Positive Rate')\n",
    "plt.legend(('Случайная модель', 'Случайный лес'), loc = 'lower right')\n",
    "\n",
    "plt.title('ROC-кривая')\n",
    "\n",
    "plt.show()"
   ]
  },
  {
   "cell_type": "markdown",
   "metadata": {},
   "source": [
    "Общий вывод: Мы провели исследование по поиску наилучшей модели, которая предскажет уход клиентов из банка, проверив 3 модели(Логистическая регрессия, дерево решений, случайный лес) приведя все числоые признаки к одному масштабу,  мы определили, что самой лучшей моделью для обучения является модель Слуайного леса, показатель F1 меры составил 0.6058091286307055, AUC-ROC так же является самым большим у этой модели и составляет 0,863569.. . Самой худшей моделью после исследования оказалась модель логистической регрессии. "
   ]
  }
 ],
 "metadata": {
  "ExecuteTimeLog": [
   {
    "duration": 1072,
    "start_time": "2022-11-24T18:50:08.864Z"
   },
   {
    "duration": 378,
    "start_time": "2022-11-24T18:50:09.938Z"
   },
   {
    "duration": 65,
    "start_time": "2022-11-24T18:50:15.040Z"
   },
   {
    "duration": 54,
    "start_time": "2022-11-24T18:50:26.828Z"
   },
   {
    "duration": 14,
    "start_time": "2022-11-24T18:50:28.096Z"
   },
   {
    "duration": 3,
    "start_time": "2022-11-24T18:53:35.038Z"
   },
   {
    "duration": 18,
    "start_time": "2022-11-24T18:53:49.083Z"
   },
   {
    "duration": 5,
    "start_time": "2022-11-24T18:59:19.266Z"
   },
   {
    "duration": 92,
    "start_time": "2022-11-24T19:00:36.603Z"
   },
   {
    "duration": 7,
    "start_time": "2022-11-24T19:00:54.245Z"
   },
   {
    "duration": 68,
    "start_time": "2022-11-24T19:03:44.845Z"
   },
   {
    "duration": 6,
    "start_time": "2022-11-24T19:03:51.496Z"
   },
   {
    "duration": 5,
    "start_time": "2022-11-24T19:13:38.527Z"
   },
   {
    "duration": 6,
    "start_time": "2022-11-24T19:13:47.754Z"
   },
   {
    "duration": 6,
    "start_time": "2022-11-24T19:14:25.740Z"
   },
   {
    "duration": 9,
    "start_time": "2022-11-24T19:16:47.108Z"
   },
   {
    "duration": 7,
    "start_time": "2022-11-24T19:16:54.196Z"
   },
   {
    "duration": 8,
    "start_time": "2022-11-24T19:16:56.239Z"
   },
   {
    "duration": 9,
    "start_time": "2022-11-24T19:17:22.628Z"
   },
   {
    "duration": 8,
    "start_time": "2022-11-24T19:17:39.912Z"
   },
   {
    "duration": 5,
    "start_time": "2022-11-24T19:17:48.845Z"
   },
   {
    "duration": 7,
    "start_time": "2022-11-24T19:17:51.509Z"
   },
   {
    "duration": 8,
    "start_time": "2022-11-24T19:17:53.659Z"
   },
   {
    "duration": 3,
    "start_time": "2022-11-24T19:18:27.736Z"
   },
   {
    "duration": 4,
    "start_time": "2022-11-24T19:20:32.579Z"
   },
   {
    "duration": 11,
    "start_time": "2022-11-24T19:21:51.805Z"
   },
   {
    "duration": 10,
    "start_time": "2022-11-24T19:21:54.369Z"
   },
   {
    "duration": 10,
    "start_time": "2022-11-24T19:22:01.023Z"
   },
   {
    "duration": 5,
    "start_time": "2022-11-24T19:22:29.070Z"
   },
   {
    "duration": 211,
    "start_time": "2022-11-24T19:31:23.063Z"
   },
   {
    "duration": 16,
    "start_time": "2022-11-24T19:34:59.517Z"
   },
   {
    "duration": 13,
    "start_time": "2022-11-24T19:36:56.716Z"
   },
   {
    "duration": 11,
    "start_time": "2022-11-24T19:37:17.323Z"
   },
   {
    "duration": 12,
    "start_time": "2022-11-24T19:37:32.828Z"
   },
   {
    "duration": 11,
    "start_time": "2022-11-24T19:38:17.309Z"
   },
   {
    "duration": 12,
    "start_time": "2022-11-24T19:38:33.786Z"
   },
   {
    "duration": 4,
    "start_time": "2022-11-24T19:38:44.730Z"
   },
   {
    "duration": 3,
    "start_time": "2022-11-24T19:38:45.618Z"
   },
   {
    "duration": 3,
    "start_time": "2022-11-24T19:38:46.678Z"
   },
   {
    "duration": 38,
    "start_time": "2022-11-24T19:38:47.701Z"
   },
   {
    "duration": 14,
    "start_time": "2022-11-24T19:38:48.671Z"
   },
   {
    "duration": 11,
    "start_time": "2022-11-24T19:38:49.010Z"
   },
   {
    "duration": 5,
    "start_time": "2022-11-24T19:38:49.803Z"
   },
   {
    "duration": 6,
    "start_time": "2022-11-24T19:38:50.475Z"
   },
   {
    "duration": 7,
    "start_time": "2022-11-24T19:38:51.730Z"
   },
   {
    "duration": 7,
    "start_time": "2022-11-24T19:38:53.168Z"
   },
   {
    "duration": 5,
    "start_time": "2022-11-24T19:38:57.009Z"
   },
   {
    "duration": 6,
    "start_time": "2022-11-24T19:38:57.315Z"
   },
   {
    "duration": 2,
    "start_time": "2022-11-24T19:38:57.785Z"
   },
   {
    "duration": 5,
    "start_time": "2022-11-24T19:39:01.917Z"
   },
   {
    "duration": 18,
    "start_time": "2022-11-24T19:39:05.631Z"
   },
   {
    "duration": 5,
    "start_time": "2022-11-24T19:40:53.250Z"
   },
   {
    "duration": 3,
    "start_time": "2022-11-24T19:43:52.840Z"
   },
   {
    "duration": 37,
    "start_time": "2022-11-24T19:43:53.324Z"
   },
   {
    "duration": 15,
    "start_time": "2022-11-24T19:43:53.506Z"
   },
   {
    "duration": 15,
    "start_time": "2022-11-24T19:43:53.686Z"
   },
   {
    "duration": 5,
    "start_time": "2022-11-24T19:43:54.192Z"
   },
   {
    "duration": 6,
    "start_time": "2022-11-24T19:43:54.600Z"
   },
   {
    "duration": 6,
    "start_time": "2022-11-24T19:43:55.257Z"
   },
   {
    "duration": 8,
    "start_time": "2022-11-24T19:43:56.835Z"
   },
   {
    "duration": 4,
    "start_time": "2022-11-24T19:43:59.102Z"
   },
   {
    "duration": 7,
    "start_time": "2022-11-24T19:44:02.923Z"
   },
   {
    "duration": 4,
    "start_time": "2022-11-24T19:44:03.321Z"
   },
   {
    "duration": 5,
    "start_time": "2022-11-24T19:44:04.791Z"
   },
   {
    "duration": 18,
    "start_time": "2022-11-24T19:44:06.223Z"
   },
   {
    "duration": 18,
    "start_time": "2022-11-24T19:44:51.639Z"
   },
   {
    "duration": 20,
    "start_time": "2022-11-24T19:46:18.971Z"
   },
   {
    "duration": 20,
    "start_time": "2022-11-24T19:48:24.331Z"
   },
   {
    "duration": 20,
    "start_time": "2022-11-24T19:54:27.559Z"
   },
   {
    "duration": 3,
    "start_time": "2022-11-24T19:56:38.117Z"
   },
   {
    "duration": 3,
    "start_time": "2022-11-24T19:57:22.861Z"
   },
   {
    "duration": 37,
    "start_time": "2022-11-24T19:57:23.505Z"
   },
   {
    "duration": 14,
    "start_time": "2022-11-24T19:57:23.953Z"
   },
   {
    "duration": 14,
    "start_time": "2022-11-24T19:57:24.639Z"
   },
   {
    "duration": 6,
    "start_time": "2022-11-24T19:57:28.678Z"
   },
   {
    "duration": 6,
    "start_time": "2022-11-24T19:57:31.014Z"
   },
   {
    "duration": 6,
    "start_time": "2022-11-24T19:57:35.511Z"
   },
   {
    "duration": 9,
    "start_time": "2022-11-24T19:57:37.815Z"
   },
   {
    "duration": 4,
    "start_time": "2022-11-24T19:57:41.163Z"
   },
   {
    "duration": 18,
    "start_time": "2022-11-24T19:57:44.447Z"
   },
   {
    "duration": 4,
    "start_time": "2022-11-24T19:57:49.919Z"
   },
   {
    "duration": 6,
    "start_time": "2022-11-24T19:57:52.285Z"
   },
   {
    "duration": 4,
    "start_time": "2022-11-24T19:57:54.267Z"
   },
   {
    "duration": 17,
    "start_time": "2022-11-24T19:58:03.612Z"
   },
   {
    "duration": 7,
    "start_time": "2022-11-24T19:58:42.674Z"
   },
   {
    "duration": 8,
    "start_time": "2022-11-24T19:58:46.374Z"
   },
   {
    "duration": 4,
    "start_time": "2022-11-24T19:58:48.483Z"
   },
   {
    "duration": 23,
    "start_time": "2022-11-24T19:58:52.109Z"
   },
   {
    "duration": 2,
    "start_time": "2022-11-24T19:59:50.738Z"
   },
   {
    "duration": 21,
    "start_time": "2022-11-24T20:00:07.343Z"
   },
   {
    "duration": 5,
    "start_time": "2022-11-24T20:01:19.087Z"
   },
   {
    "duration": 7,
    "start_time": "2022-11-24T20:01:22.089Z"
   },
   {
    "duration": 2,
    "start_time": "2022-11-24T20:01:25.849Z"
   },
   {
    "duration": 18,
    "start_time": "2022-11-24T20:01:27.883Z"
   },
   {
    "duration": 17,
    "start_time": "2022-11-24T20:02:32.344Z"
   },
   {
    "duration": 6,
    "start_time": "2022-11-24T20:03:02.270Z"
   },
   {
    "duration": 15,
    "start_time": "2022-11-24T20:03:30.425Z"
   },
   {
    "duration": 13,
    "start_time": "2022-11-24T20:03:34.412Z"
   },
   {
    "duration": 9,
    "start_time": "2022-11-24T20:03:43.759Z"
   },
   {
    "duration": 4,
    "start_time": "2022-11-24T20:07:08.198Z"
   },
   {
    "duration": 18,
    "start_time": "2022-11-24T20:07:11.497Z"
   },
   {
    "duration": 5,
    "start_time": "2022-11-24T20:07:31.388Z"
   },
   {
    "duration": 39,
    "start_time": "2022-11-24T20:07:31.753Z"
   },
   {
    "duration": 14,
    "start_time": "2022-11-24T20:07:31.914Z"
   },
   {
    "duration": 11,
    "start_time": "2022-11-24T20:07:32.073Z"
   },
   {
    "duration": 5,
    "start_time": "2022-11-24T20:07:32.849Z"
   },
   {
    "duration": 6,
    "start_time": "2022-11-24T20:07:34.848Z"
   },
   {
    "duration": 6,
    "start_time": "2022-11-24T20:07:35.232Z"
   },
   {
    "duration": 8,
    "start_time": "2022-11-24T20:07:35.951Z"
   },
   {
    "duration": 3,
    "start_time": "2022-11-24T20:07:38.926Z"
   },
   {
    "duration": 4,
    "start_time": "2022-11-24T20:07:40.760Z"
   },
   {
    "duration": 17,
    "start_time": "2022-11-24T20:07:41.874Z"
   },
   {
    "duration": 5,
    "start_time": "2022-11-24T20:07:43.433Z"
   },
   {
    "duration": 7,
    "start_time": "2022-11-24T20:07:45.144Z"
   },
   {
    "duration": 3,
    "start_time": "2022-11-24T20:07:45.914Z"
   },
   {
    "duration": 6,
    "start_time": "2022-11-24T20:07:47.150Z"
   },
   {
    "duration": 3,
    "start_time": "2022-11-24T20:07:50.466Z"
   },
   {
    "duration": 54,
    "start_time": "2022-11-24T20:07:52.762Z"
   },
   {
    "duration": 37,
    "start_time": "2022-11-24T20:08:11.226Z"
   },
   {
    "duration": 27,
    "start_time": "2022-11-24T20:24:45.427Z"
   },
   {
    "duration": 23,
    "start_time": "2022-11-24T20:25:05.001Z"
   },
   {
    "duration": 3,
    "start_time": "2022-11-24T20:36:31.315Z"
   },
   {
    "duration": 30,
    "start_time": "2022-11-24T20:36:59.665Z"
   },
   {
    "duration": 3,
    "start_time": "2022-11-24T20:45:14.542Z"
   },
   {
    "duration": 9,
    "start_time": "2022-11-24T20:52:11.228Z"
   },
   {
    "duration": 3,
    "start_time": "2022-11-24T20:52:51.748Z"
   },
   {
    "duration": 10,
    "start_time": "2022-11-24T20:52:58.943Z"
   },
   {
    "duration": 31,
    "start_time": "2022-11-24T20:53:09.110Z"
   },
   {
    "duration": 31,
    "start_time": "2022-11-24T20:54:12.628Z"
   },
   {
    "duration": 4,
    "start_time": "2022-11-24T21:00:39.945Z"
   },
   {
    "duration": 33,
    "start_time": "2022-11-24T21:00:46.341Z"
   },
   {
    "duration": 30,
    "start_time": "2022-11-24T21:01:13.439Z"
   },
   {
    "duration": 32,
    "start_time": "2022-11-24T21:03:52.217Z"
   },
   {
    "duration": 4,
    "start_time": "2022-11-24T21:13:27.098Z"
   },
   {
    "duration": 196,
    "start_time": "2022-11-24T21:13:37.322Z"
   },
   {
    "duration": 215,
    "start_time": "2022-11-24T21:14:34.438Z"
   },
   {
    "duration": 1130,
    "start_time": "2022-11-25T06:50:02.983Z"
   },
   {
    "duration": 110,
    "start_time": "2022-11-25T06:50:04.115Z"
   },
   {
    "duration": 74,
    "start_time": "2022-11-25T06:50:04.227Z"
   },
   {
    "duration": 13,
    "start_time": "2022-11-25T06:50:04.303Z"
   },
   {
    "duration": 14,
    "start_time": "2022-11-25T06:50:04.317Z"
   },
   {
    "duration": 5,
    "start_time": "2022-11-25T06:50:06.550Z"
   },
   {
    "duration": 8,
    "start_time": "2022-11-25T06:50:10.181Z"
   },
   {
    "duration": 3,
    "start_time": "2022-11-25T06:50:17.466Z"
   },
   {
    "duration": 4,
    "start_time": "2022-11-25T06:50:17.879Z"
   },
   {
    "duration": 18,
    "start_time": "2022-11-25T06:50:18.486Z"
   },
   {
    "duration": 5,
    "start_time": "2022-11-25T06:50:19.164Z"
   },
   {
    "duration": 6,
    "start_time": "2022-11-25T06:50:21.242Z"
   },
   {
    "duration": 3,
    "start_time": "2022-11-25T06:50:22.196Z"
   },
   {
    "duration": 26,
    "start_time": "2022-11-25T06:50:23.233Z"
   },
   {
    "duration": 109,
    "start_time": "2022-11-25T06:50:27.088Z"
   },
   {
    "duration": 105,
    "start_time": "2022-11-25T06:50:36.794Z"
   },
   {
    "duration": 22,
    "start_time": "2022-11-25T06:51:15.433Z"
   },
   {
    "duration": 196,
    "start_time": "2022-11-25T06:51:31.202Z"
   },
   {
    "duration": 1105,
    "start_time": "2022-11-25T08:28:12.675Z"
   },
   {
    "duration": 91,
    "start_time": "2022-11-25T08:28:14.438Z"
   },
   {
    "duration": 20,
    "start_time": "2022-11-25T08:28:15.145Z"
   },
   {
    "duration": 16,
    "start_time": "2022-11-25T08:28:15.924Z"
   },
   {
    "duration": 5,
    "start_time": "2022-11-25T08:28:16.447Z"
   },
   {
    "duration": 6,
    "start_time": "2022-11-25T08:28:16.752Z"
   },
   {
    "duration": 6,
    "start_time": "2022-11-25T08:28:16.946Z"
   },
   {
    "duration": 8,
    "start_time": "2022-11-25T08:28:17.129Z"
   },
   {
    "duration": 3,
    "start_time": "2022-11-25T08:28:17.292Z"
   },
   {
    "duration": 4,
    "start_time": "2022-11-25T08:28:17.474Z"
   },
   {
    "duration": 19,
    "start_time": "2022-11-25T08:28:17.649Z"
   },
   {
    "duration": 6,
    "start_time": "2022-11-25T08:28:17.838Z"
   },
   {
    "duration": 6,
    "start_time": "2022-11-25T08:28:18.451Z"
   },
   {
    "duration": 8,
    "start_time": "2022-11-25T08:28:19.004Z"
   },
   {
    "duration": 26,
    "start_time": "2022-11-25T08:28:19.642Z"
   },
   {
    "duration": 110,
    "start_time": "2022-11-25T08:28:32.086Z"
   },
   {
    "duration": 43,
    "start_time": "2022-11-25T08:31:04.274Z"
   },
   {
    "duration": 3,
    "start_time": "2022-11-25T08:33:31.230Z"
   },
   {
    "duration": 3,
    "start_time": "2022-11-25T08:33:31.986Z"
   },
   {
    "duration": 43,
    "start_time": "2022-11-25T08:33:32.605Z"
   },
   {
    "duration": 25,
    "start_time": "2022-11-25T08:33:32.794Z"
   },
   {
    "duration": 11,
    "start_time": "2022-11-25T08:33:32.950Z"
   },
   {
    "duration": 6,
    "start_time": "2022-11-25T08:33:33.470Z"
   },
   {
    "duration": 6,
    "start_time": "2022-11-25T08:33:33.823Z"
   },
   {
    "duration": 6,
    "start_time": "2022-11-25T08:33:34.253Z"
   },
   {
    "duration": 8,
    "start_time": "2022-11-25T08:33:36.136Z"
   },
   {
    "duration": 5,
    "start_time": "2022-11-25T08:33:36.699Z"
   },
   {
    "duration": 5,
    "start_time": "2022-11-25T08:33:37.135Z"
   },
   {
    "duration": 22,
    "start_time": "2022-11-25T08:33:38.803Z"
   },
   {
    "duration": 7,
    "start_time": "2022-11-25T08:33:41.109Z"
   },
   {
    "duration": 5,
    "start_time": "2022-11-25T08:33:41.650Z"
   },
   {
    "duration": 4,
    "start_time": "2022-11-25T08:33:42.269Z"
   },
   {
    "duration": 25,
    "start_time": "2022-11-25T08:33:44.313Z"
   },
   {
    "duration": 25,
    "start_time": "2022-11-25T08:33:49.838Z"
   },
   {
    "duration": 22,
    "start_time": "2022-11-25T08:33:57.151Z"
   },
   {
    "duration": 212,
    "start_time": "2022-11-25T08:34:04.476Z"
   },
   {
    "duration": 4,
    "start_time": "2022-11-25T08:38:20.362Z"
   },
   {
    "duration": 40,
    "start_time": "2022-11-25T08:40:28.163Z"
   },
   {
    "duration": 15,
    "start_time": "2022-11-25T08:40:29.830Z"
   },
   {
    "duration": 17,
    "start_time": "2022-11-25T08:40:32.211Z"
   },
   {
    "duration": 5,
    "start_time": "2022-11-25T08:40:34.989Z"
   },
   {
    "duration": 12,
    "start_time": "2022-11-25T08:40:38.003Z"
   },
   {
    "duration": 7,
    "start_time": "2022-11-25T08:40:39.954Z"
   },
   {
    "duration": 7,
    "start_time": "2022-11-25T08:40:42.228Z"
   },
   {
    "duration": 7,
    "start_time": "2022-11-25T08:40:45.018Z"
   },
   {
    "duration": 5,
    "start_time": "2022-11-25T08:40:48.821Z"
   },
   {
    "duration": 30,
    "start_time": "2022-11-25T08:41:01.098Z"
   },
   {
    "duration": 11,
    "start_time": "2022-11-25T08:41:07.111Z"
   },
   {
    "duration": 6,
    "start_time": "2022-11-25T08:41:09.262Z"
   },
   {
    "duration": 3,
    "start_time": "2022-11-25T08:41:10.959Z"
   },
   {
    "duration": 29,
    "start_time": "2022-11-25T08:42:09.396Z"
   },
   {
    "duration": 32,
    "start_time": "2022-11-25T08:42:16.457Z"
   },
   {
    "duration": 23,
    "start_time": "2022-11-25T08:42:22.456Z"
   },
   {
    "duration": 216,
    "start_time": "2022-11-25T08:45:23.046Z"
   },
   {
    "duration": 269,
    "start_time": "2022-11-25T08:45:46.123Z"
   },
   {
    "duration": 261,
    "start_time": "2022-11-25T08:45:59.522Z"
   },
   {
    "duration": 245,
    "start_time": "2022-11-25T08:46:06.775Z"
   },
   {
    "duration": 306,
    "start_time": "2022-11-25T08:46:15.973Z"
   },
   {
    "duration": 255,
    "start_time": "2022-11-25T08:46:22.435Z"
   },
   {
    "duration": 263,
    "start_time": "2022-11-25T08:46:27.612Z"
   },
   {
    "duration": 276,
    "start_time": "2022-11-25T08:46:35.292Z"
   },
   {
    "duration": 10,
    "start_time": "2022-11-25T08:46:46.979Z"
   },
   {
    "duration": 3,
    "start_time": "2022-11-25T08:48:12.246Z"
   },
   {
    "duration": 5549,
    "start_time": "2022-11-25T08:48:58.610Z"
   },
   {
    "duration": 5442,
    "start_time": "2022-11-25T08:49:21.615Z"
   },
   {
    "duration": 8665,
    "start_time": "2022-11-25T08:49:41.770Z"
   },
   {
    "duration": 7403,
    "start_time": "2022-11-25T08:50:00.460Z"
   },
   {
    "duration": 6204,
    "start_time": "2022-11-25T08:50:12.116Z"
   },
   {
    "duration": 4925,
    "start_time": "2022-11-25T08:50:23.134Z"
   },
   {
    "duration": 5321,
    "start_time": "2022-11-25T08:50:32.247Z"
   },
   {
    "duration": 5526,
    "start_time": "2022-11-25T08:50:53.947Z"
   },
   {
    "duration": 5399,
    "start_time": "2022-11-25T08:51:01.925Z"
   },
   {
    "duration": 4615,
    "start_time": "2022-11-25T08:51:25.169Z"
   },
   {
    "duration": 6136,
    "start_time": "2022-11-25T08:51:44.415Z"
   },
   {
    "duration": 1060,
    "start_time": "2022-11-25T16:02:51.794Z"
   },
   {
    "duration": 178,
    "start_time": "2022-11-25T16:02:52.931Z"
   },
   {
    "duration": 28,
    "start_time": "2022-11-25T16:02:54.090Z"
   },
   {
    "duration": 12,
    "start_time": "2022-11-25T16:02:56.614Z"
   },
   {
    "duration": 5,
    "start_time": "2022-11-25T16:02:59.197Z"
   },
   {
    "duration": 6,
    "start_time": "2022-11-25T16:03:01.238Z"
   },
   {
    "duration": 4,
    "start_time": "2022-11-25T16:03:03.847Z"
   },
   {
    "duration": 9,
    "start_time": "2022-11-25T16:03:07.539Z"
   },
   {
    "duration": 5,
    "start_time": "2022-11-25T16:03:10.015Z"
   },
   {
    "duration": 25,
    "start_time": "2022-11-25T16:03:12.975Z"
   },
   {
    "duration": 5,
    "start_time": "2022-11-25T16:03:16.497Z"
   },
   {
    "duration": 10,
    "start_time": "2022-11-25T16:03:18.475Z"
   },
   {
    "duration": 3,
    "start_time": "2022-11-25T16:03:20.157Z"
   },
   {
    "duration": 68,
    "start_time": "2022-11-25T16:03:54.731Z"
   },
   {
    "duration": 34,
    "start_time": "2022-11-25T16:04:02.887Z"
   },
   {
    "duration": 30,
    "start_time": "2022-11-25T16:04:06.300Z"
   },
   {
    "duration": 236,
    "start_time": "2022-11-25T16:04:17.779Z"
   },
   {
    "duration": 6,
    "start_time": "2022-11-25T16:07:51.184Z"
   },
   {
    "duration": 41,
    "start_time": "2022-11-25T16:12:19.531Z"
   },
   {
    "duration": 282,
    "start_time": "2022-11-25T16:15:30.273Z"
   },
   {
    "duration": 262,
    "start_time": "2022-11-25T16:16:24.802Z"
   },
   {
    "duration": 264,
    "start_time": "2022-11-25T16:16:40.424Z"
   },
   {
    "duration": 6657,
    "start_time": "2022-11-25T16:18:12.390Z"
   },
   {
    "duration": 4913,
    "start_time": "2022-11-25T16:19:07.754Z"
   },
   {
    "duration": 4,
    "start_time": "2022-11-25T16:33:07.640Z"
   },
   {
    "duration": 4,
    "start_time": "2022-11-25T16:49:46.410Z"
   },
   {
    "duration": 4,
    "start_time": "2022-11-25T16:49:47.844Z"
   },
   {
    "duration": 39,
    "start_time": "2022-11-25T16:49:48.370Z"
   },
   {
    "duration": 14,
    "start_time": "2022-11-25T16:49:48.537Z"
   },
   {
    "duration": 11,
    "start_time": "2022-11-25T16:49:48.674Z"
   },
   {
    "duration": 4,
    "start_time": "2022-11-25T16:49:48.839Z"
   },
   {
    "duration": 8,
    "start_time": "2022-11-25T16:49:49.016Z"
   },
   {
    "duration": 6,
    "start_time": "2022-11-25T16:49:49.196Z"
   },
   {
    "duration": 7,
    "start_time": "2022-11-25T16:49:49.375Z"
   },
   {
    "duration": 3,
    "start_time": "2022-11-25T16:49:49.921Z"
   },
   {
    "duration": 32,
    "start_time": "2022-11-25T16:49:49.925Z"
   },
   {
    "duration": 28,
    "start_time": "2022-11-25T16:49:49.959Z"
   },
   {
    "duration": 4,
    "start_time": "2022-11-25T16:49:50.099Z"
   },
   {
    "duration": 6,
    "start_time": "2022-11-25T16:49:50.293Z"
   },
   {
    "duration": 2,
    "start_time": "2022-11-25T16:49:50.474Z"
   },
   {
    "duration": 26,
    "start_time": "2022-11-25T16:49:50.652Z"
   },
   {
    "duration": 39,
    "start_time": "2022-11-25T16:49:52.868Z"
   },
   {
    "duration": 256,
    "start_time": "2022-11-25T16:49:56.234Z"
   },
   {
    "duration": 5114,
    "start_time": "2022-11-25T16:50:02.553Z"
   },
   {
    "duration": 3,
    "start_time": "2022-11-25T16:50:11.705Z"
   },
   {
    "duration": 96,
    "start_time": "2022-11-25T17:01:39.750Z"
   },
   {
    "duration": 4,
    "start_time": "2022-11-25T17:01:48.445Z"
   },
   {
    "duration": 11,
    "start_time": "2022-11-25T17:01:51.705Z"
   },
   {
    "duration": 71,
    "start_time": "2022-11-25T17:03:02.823Z"
   },
   {
    "duration": 4,
    "start_time": "2022-11-25T17:03:38.330Z"
   },
   {
    "duration": 26,
    "start_time": "2022-11-25T17:03:47.802Z"
   },
   {
    "duration": 17,
    "start_time": "2022-11-25T17:03:55.520Z"
   },
   {
    "duration": 10,
    "start_time": "2022-11-25T17:04:59.589Z"
   },
   {
    "duration": 18,
    "start_time": "2022-11-25T17:05:09.456Z"
   },
   {
    "duration": 190,
    "start_time": "2022-11-25T17:05:12.604Z"
   },
   {
    "duration": 614,
    "start_time": "2022-11-25T17:08:48.782Z"
   },
   {
    "duration": 13259,
    "start_time": "2022-11-25T17:12:43.756Z"
   },
   {
    "duration": 6293,
    "start_time": "2022-11-25T17:15:51.593Z"
   },
   {
    "duration": 7496,
    "start_time": "2022-11-25T17:16:14.393Z"
   },
   {
    "duration": 8287,
    "start_time": "2022-11-25T17:16:43.777Z"
   },
   {
    "duration": 3073,
    "start_time": "2022-11-25T17:18:20.883Z"
   },
   {
    "duration": 73,
    "start_time": "2022-11-25T17:19:24.569Z"
   },
   {
    "duration": 41,
    "start_time": "2022-11-25T17:35:20.440Z"
   },
   {
    "duration": 263,
    "start_time": "2022-11-25T17:36:58.514Z"
   },
   {
    "duration": 4901,
    "start_time": "2022-11-25T17:40:05.371Z"
   },
   {
    "duration": 2295,
    "start_time": "2022-11-25T17:52:13.374Z"
   },
   {
    "duration": 2978,
    "start_time": "2022-11-25T17:52:42.578Z"
   },
   {
    "duration": 303,
    "start_time": "2022-11-25T18:00:25.171Z"
   },
   {
    "duration": 324,
    "start_time": "2022-11-25T18:00:49.040Z"
   },
   {
    "duration": 8,
    "start_time": "2022-11-25T18:12:36.119Z"
   },
   {
    "duration": 4,
    "start_time": "2022-11-25T18:12:53.470Z"
   },
   {
    "duration": 10,
    "start_time": "2022-11-25T18:12:59.583Z"
   },
   {
    "duration": 349,
    "start_time": "2022-11-25T18:13:18.412Z"
   },
   {
    "duration": 109,
    "start_time": "2022-11-25T18:13:24.870Z"
   },
   {
    "duration": 100,
    "start_time": "2022-11-25T18:14:55.496Z"
   },
   {
    "duration": 99,
    "start_time": "2022-11-25T18:15:10.800Z"
   },
   {
    "duration": 24,
    "start_time": "2022-11-25T18:15:49.097Z"
   },
   {
    "duration": 188,
    "start_time": "2022-11-25T18:16:05.587Z"
   },
   {
    "duration": 146,
    "start_time": "2022-11-25T18:17:12.362Z"
   },
   {
    "duration": 152,
    "start_time": "2022-11-25T18:17:25.477Z"
   },
   {
    "duration": 142,
    "start_time": "2022-11-25T18:17:54.591Z"
   },
   {
    "duration": 1477,
    "start_time": "2022-11-27T12:46:09.330Z"
   },
   {
    "duration": 79,
    "start_time": "2022-11-27T12:46:14.949Z"
   },
   {
    "duration": 19,
    "start_time": "2022-11-27T12:46:17.341Z"
   },
   {
    "duration": 14,
    "start_time": "2022-11-27T12:46:20.137Z"
   },
   {
    "duration": 5,
    "start_time": "2022-11-27T12:46:22.523Z"
   },
   {
    "duration": 6,
    "start_time": "2022-11-27T12:46:24.638Z"
   },
   {
    "duration": 6,
    "start_time": "2022-11-27T12:46:27.518Z"
   },
   {
    "duration": 7,
    "start_time": "2022-11-27T12:46:29.841Z"
   },
   {
    "duration": 4,
    "start_time": "2022-11-27T12:46:32.719Z"
   },
   {
    "duration": 4,
    "start_time": "2022-11-27T12:46:35.497Z"
   },
   {
    "duration": 49,
    "start_time": "2022-11-27T12:50:14.620Z"
   },
   {
    "duration": 49,
    "start_time": "2022-11-27T12:50:24.330Z"
   },
   {
    "duration": 92,
    "start_time": "2022-11-27T12:51:13.896Z"
   },
   {
    "duration": 110,
    "start_time": "2022-11-27T12:51:31.011Z"
   },
   {
    "duration": 10,
    "start_time": "2022-11-27T12:51:37.872Z"
   },
   {
    "duration": 9,
    "start_time": "2022-11-27T12:51:42.068Z"
   },
   {
    "duration": 21,
    "start_time": "2022-11-27T12:51:51.712Z"
   },
   {
    "duration": 6,
    "start_time": "2022-11-27T12:52:00.364Z"
   },
   {
    "duration": 7,
    "start_time": "2022-11-27T12:52:05.520Z"
   },
   {
    "duration": 6,
    "start_time": "2022-11-27T12:52:08.176Z"
   },
   {
    "duration": 4,
    "start_time": "2022-11-27T12:52:21.897Z"
   },
   {
    "duration": 19,
    "start_time": "2022-11-27T12:54:08.495Z"
   },
   {
    "duration": 12,
    "start_time": "2022-11-27T12:54:38.686Z"
   },
   {
    "duration": 7,
    "start_time": "2022-11-27T12:54:42.340Z"
   },
   {
    "duration": 6,
    "start_time": "2022-11-27T12:54:44.480Z"
   },
   {
    "duration": 3,
    "start_time": "2022-11-27T12:54:46.922Z"
   },
   {
    "duration": 33,
    "start_time": "2022-11-27T12:56:16.597Z"
   },
   {
    "duration": 28,
    "start_time": "2022-11-27T12:56:27.514Z"
   },
   {
    "duration": 64,
    "start_time": "2022-11-27T12:56:34.334Z"
   },
   {
    "duration": 215,
    "start_time": "2022-11-27T12:56:46.518Z"
   },
   {
    "duration": 5,
    "start_time": "2022-11-27T13:03:11.771Z"
   },
   {
    "duration": 5,
    "start_time": "2022-11-27T13:03:51.071Z"
   },
   {
    "duration": 18,
    "start_time": "2022-11-27T13:05:06.647Z"
   },
   {
    "duration": 102,
    "start_time": "2022-11-27T13:06:03.901Z"
   },
   {
    "duration": 388,
    "start_time": "2022-11-27T13:06:06.719Z"
   },
   {
    "duration": 8571,
    "start_time": "2022-11-27T13:06:14.890Z"
   },
   {
    "duration": 254,
    "start_time": "2022-11-27T13:09:11.811Z"
   },
   {
    "duration": 271,
    "start_time": "2022-11-27T13:09:37.008Z"
   },
   {
    "duration": 11,
    "start_time": "2022-11-27T13:09:51.236Z"
   },
   {
    "duration": 176,
    "start_time": "2022-11-27T13:10:09.600Z"
   }
  ],
  "kernelspec": {
   "display_name": "Python 3 (ipykernel)",
   "language": "python",
   "name": "python3"
  },
  "language_info": {
   "codemirror_mode": {
    "name": "ipython",
    "version": 3
   },
   "file_extension": ".py",
   "mimetype": "text/x-python",
   "name": "python",
   "nbconvert_exporter": "python",
   "pygments_lexer": "ipython3",
   "version": "3.9.12"
  },
  "toc": {
   "base_numbering": 1,
   "nav_menu": {},
   "number_sections": true,
   "sideBar": true,
   "skip_h1_title": true,
   "title_cell": "Содержание",
   "title_sidebar": "Contents",
   "toc_cell": true,
   "toc_position": {
    "height": "calc(100% - 180px)",
    "left": "10px",
    "top": "150px",
    "width": "165px"
   },
   "toc_section_display": true,
   "toc_window_display": true
  }
 },
 "nbformat": 4,
 "nbformat_minor": 2
}
