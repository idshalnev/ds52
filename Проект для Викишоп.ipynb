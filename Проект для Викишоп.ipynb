{
  "cells": [
    {
      "cell_type": "markdown",
      "metadata": {
        "toc": true,
        "id": "OVr-4pojR5Lk"
      },
      "source": [
        "<h1>Содержание<span class=\"tocSkip\"></span></h1>\n",
        "<div class=\"toc\"><ul class=\"toc-item\"><li><span><a href=\"#Подготовка\" data-toc-modified-id=\"Подготовка-1\"><span class=\"toc-item-num\">1&nbsp;&nbsp;</span>Подготовка</a></span></li><li><span><a href=\"#Обучение\" data-toc-modified-id=\"Обучение-2\"><span class=\"toc-item-num\">2&nbsp;&nbsp;</span>Обучение</a></span></li><li><span><a href=\"#Выводы\" data-toc-modified-id=\"Выводы-3\"><span class=\"toc-item-num\">3&nbsp;&nbsp;</span>Выводы</a></span></li><li><span><a href=\"#Чек-лист-проверки\" data-toc-modified-id=\"Чек-лист-проверки-4\"><span class=\"toc-item-num\">4&nbsp;&nbsp;</span>Чек-лист проверки</a></span></li></ul></div>"
      ]
    },
    {
      "cell_type": "markdown",
      "metadata": {
        "id": "xdR3aEITR5Lk"
      },
      "source": [
        "# Проект для «Викишоп»"
      ]
    },
    {
      "cell_type": "markdown",
      "metadata": {
        "id": "Kvu41zqQR5Ll"
      },
      "source": [
        "Интернет-магазин «Викишоп» запускает новый сервис. Теперь пользователи могут редактировать и дополнять описания товаров, как в вики-сообществах. То есть клиенты предлагают свои правки и комментируют изменения других. Магазину нужен инструмент, который будет искать токсичные комментарии и отправлять их на модерацию.\n",
        "\n",
        "Обучите модель классифицировать комментарии на позитивные и негативные. В вашем распоряжении набор данных с разметкой о токсичности правок.\n",
        "\n",
        "Постройте модель со значением метрики качества *F1* не меньше 0.75.\n",
        "\n",
        "**Инструкция по выполнению проекта**\n",
        "\n",
        "1. Загрузите и подготовьте данные.\n",
        "2. Обучите разные модели.\n",
        "3. Сделайте выводы.\n",
        "\n",
        "Для выполнения проекта применять *BERT* необязательно, но вы можете попробовать.\n",
        "\n",
        "**Описание данных**\n",
        "\n",
        "Данные находятся в файле `toxic_comments.csv`. Столбец *text* в нём содержит текст комментария, а *toxic* — целевой признак."
      ]
    },
    {
      "cell_type": "markdown",
      "metadata": {
        "id": "-4sbiUcER5Lm"
      },
      "source": [
        "## Подготовка"
      ]
    },
    {
      "cell_type": "code",
      "execution_count": null,
      "metadata": {
        "id": "2NirCt_gR5Lm"
      },
      "outputs": [],
      "source": [
        "import pandas as pd\n",
        "import numpy as np\n",
        "from sklearn.linear_model import LogisticRegression\n",
        "from lightgbm import LGBMClassifier\n",
        "from sklearn.model_selection import train_test_split\n",
        "from sklearn.metrics import f1_score\n",
        "from sklearn.feature_extraction.text import TfidfVectorizer\n",
        "import nltk\n",
        "from nltk.corpus import stopwords as nltk_stopwords\n",
        "from tqdm import tqdm\n",
        "from sklearn.model_selection import GridSearchCV\n",
        "import re\n",
        "import spacy\n",
        "nlp = spacy.load(\"en_core_web_sm\")\n",
        "from sklearn.pipeline import Pipeline\n",
        "CV=3\n",
        "import matplotlib.pyplot as plt"
      ]
    },
    {
      "cell_type": "code",
      "execution_count": null,
      "metadata": {
        "id": "xcq_lS8GR5Lo",
        "outputId": "10d26b21-d6f8-4f3c-b06e-24cfa74e38ea"
      },
      "outputs": [
        {
          "data": {
            "text/html": [
              "<div>\n",
              "<style scoped>\n",
              "    .dataframe tbody tr th:only-of-type {\n",
              "        vertical-align: middle;\n",
              "    }\n",
              "\n",
              "    .dataframe tbody tr th {\n",
              "        vertical-align: top;\n",
              "    }\n",
              "\n",
              "    .dataframe thead th {\n",
              "        text-align: right;\n",
              "    }\n",
              "</style>\n",
              "<table border=\"1\" class=\"dataframe\">\n",
              "  <thead>\n",
              "    <tr style=\"text-align: right;\">\n",
              "      <th></th>\n",
              "      <th>text</th>\n",
              "      <th>toxic</th>\n",
              "    </tr>\n",
              "  </thead>\n",
              "  <tbody>\n",
              "    <tr>\n",
              "      <th>96243</th>\n",
              "      <td>, which has an August 15, 2006, updated date</td>\n",
              "      <td>0</td>\n",
              "    </tr>\n",
              "  </tbody>\n",
              "</table>\n",
              "</div>"
            ],
            "text/plain": [
              "                                               text  toxic\n",
              "96243  , which has an August 15, 2006, updated date      0"
            ]
          },
          "execution_count": 3,
          "metadata": {},
          "output_type": "execute_result"
        }
      ],
      "source": [
        "data = pd.read_csv('/datasets/toxic_comments.csv', index_col=0)\n",
        "data.sample()"
      ]
    },
    {
      "cell_type": "code",
      "execution_count": null,
      "metadata": {
        "id": "cFHi-QD4R5Lp",
        "outputId": "5c2399d6-e100-4158-ef5a-922dbedfb65e"
      },
      "outputs": [
        {
          "name": "stdout",
          "output_type": "stream",
          "text": [
            "<class 'pandas.core.frame.DataFrame'>\n",
            "Int64Index: 159292 entries, 0 to 159450\n",
            "Data columns (total 2 columns):\n",
            " #   Column  Non-Null Count   Dtype \n",
            "---  ------  --------------   ----- \n",
            " 0   text    159292 non-null  object\n",
            " 1   toxic   159292 non-null  int64 \n",
            "dtypes: int64(1), object(1)\n",
            "memory usage: 3.6+ MB\n"
          ]
        }
      ],
      "source": [
        "data.info()"
      ]
    },
    {
      "cell_type": "code",
      "execution_count": null,
      "metadata": {
        "id": "gf7-rv_FR5Lp",
        "outputId": "667066e4-d4d2-469f-fcac-1d052d6ae949"
      },
      "outputs": [
        {
          "data": {
            "text/plain": [
              "text     0\n",
              "toxic    0\n",
              "dtype: int64"
            ]
          },
          "execution_count": 5,
          "metadata": {},
          "output_type": "execute_result"
        }
      ],
      "source": [
        "data.isna().sum()"
      ]
    },
    {
      "cell_type": "code",
      "execution_count": null,
      "metadata": {
        "id": "SBZ8ZfghR5Lp",
        "outputId": "57ced5ec-5145-4869-a866-0d5f3f8f2b9e"
      },
      "outputs": [
        {
          "data": {
            "text/plain": [
              "0"
            ]
          },
          "execution_count": 6,
          "metadata": {},
          "output_type": "execute_result"
        }
      ],
      "source": [
        "data.duplicated().sum()"
      ]
    },
    {
      "cell_type": "code",
      "execution_count": null,
      "metadata": {
        "id": "Ol0DUXDxR5Lq",
        "outputId": "faacb8f2-a5d5-46b6-b239-a6704fcbfc93"
      },
      "outputs": [
        {
          "data": {
            "text/plain": [
              "0    0.9\n",
              "1    0.1\n",
              "Name: toxic, dtype: float64"
            ]
          },
          "execution_count": 7,
          "metadata": {},
          "output_type": "execute_result"
        }
      ],
      "source": [
        "(data['toxic'].value_counts()/data['toxic'].shape).round(2)"
      ]
    },
    {
      "cell_type": "code",
      "execution_count": null,
      "metadata": {
        "id": "PgIrdbygR5Lq",
        "outputId": "7abab9a6-7215-41e5-af4a-3fbcd17cd021"
      },
      "outputs": [
        {
          "name": "stderr",
          "output_type": "stream",
          "text": [
            "100%|██████████| 159292/159292 [46:21<00:00, 57.27it/s] \n"
          ]
        }
      ],
      "source": [
        "tqdm.pandas()\n",
        "def clear_text(text):\n",
        "    clean = nlp(\" \".join(re.sub(r'[^a-zA-Z]', ' ', text).lower().split()))\n",
        "    lemm_text = \" \".join([w.lemma_ for w in clean])\n",
        "    return lemm_text\n",
        "\n",
        "\n",
        "data['lemmatized'] = data['text'].progress_apply(clear_text)"
      ]
    },
    {
      "cell_type": "code",
      "execution_count": null,
      "metadata": {
        "scrolled": true,
        "id": "ueBrA6xOR5Lr",
        "outputId": "de10e8ad-3d02-47f8-f23a-40b395f74046"
      },
      "outputs": [
        {
          "data": {
            "text/html": [
              "<div>\n",
              "<style scoped>\n",
              "    .dataframe tbody tr th:only-of-type {\n",
              "        vertical-align: middle;\n",
              "    }\n",
              "\n",
              "    .dataframe tbody tr th {\n",
              "        vertical-align: top;\n",
              "    }\n",
              "\n",
              "    .dataframe thead th {\n",
              "        text-align: right;\n",
              "    }\n",
              "</style>\n",
              "<table border=\"1\" class=\"dataframe\">\n",
              "  <thead>\n",
              "    <tr style=\"text-align: right;\">\n",
              "      <th></th>\n",
              "      <th>text</th>\n",
              "      <th>toxic</th>\n",
              "      <th>lemmatized</th>\n",
              "    </tr>\n",
              "  </thead>\n",
              "  <tbody>\n",
              "    <tr>\n",
              "      <th>0</th>\n",
              "      <td>Explanation\\nWhy the edits made under my usern...</td>\n",
              "      <td>0</td>\n",
              "      <td>explanation why the edit make under my usernam...</td>\n",
              "    </tr>\n",
              "    <tr>\n",
              "      <th>1</th>\n",
              "      <td>D'aww! He matches this background colour I'm s...</td>\n",
              "      <td>0</td>\n",
              "      <td>d aww he match this background colour I m seem...</td>\n",
              "    </tr>\n",
              "    <tr>\n",
              "      <th>2</th>\n",
              "      <td>Hey man, I'm really not trying to edit war. It...</td>\n",
              "      <td>0</td>\n",
              "      <td>hey man I m really not try to edit war it s ju...</td>\n",
              "    </tr>\n",
              "    <tr>\n",
              "      <th>3</th>\n",
              "      <td>\"\\nMore\\nI can't make any real suggestions on ...</td>\n",
              "      <td>0</td>\n",
              "      <td>more I can t make any real suggestion on impro...</td>\n",
              "    </tr>\n",
              "    <tr>\n",
              "      <th>4</th>\n",
              "      <td>You, sir, are my hero. Any chance you remember...</td>\n",
              "      <td>0</td>\n",
              "      <td>you sir be my hero any chance you remember wha...</td>\n",
              "    </tr>\n",
              "    <tr>\n",
              "      <th>5</th>\n",
              "      <td>\"\\n\\nCongratulations from me as well, use the ...</td>\n",
              "      <td>0</td>\n",
              "      <td>congratulation from I as well use the tool wel...</td>\n",
              "    </tr>\n",
              "    <tr>\n",
              "      <th>6</th>\n",
              "      <td>COCKSUCKER BEFORE YOU PISS AROUND ON MY WORK</td>\n",
              "      <td>1</td>\n",
              "      <td>cocksucker before you piss around on my work</td>\n",
              "    </tr>\n",
              "    <tr>\n",
              "      <th>7</th>\n",
              "      <td>Your vandalism to the Matt Shirvington article...</td>\n",
              "      <td>0</td>\n",
              "      <td>your vandalism to the matt shirvington article...</td>\n",
              "    </tr>\n",
              "    <tr>\n",
              "      <th>8</th>\n",
              "      <td>Sorry if the word 'nonsense' was offensive to ...</td>\n",
              "      <td>0</td>\n",
              "      <td>sorry if the word nonsense be offensive to you...</td>\n",
              "    </tr>\n",
              "    <tr>\n",
              "      <th>9</th>\n",
              "      <td>alignment on this subject and which are contra...</td>\n",
              "      <td>0</td>\n",
              "      <td>alignment on this subject and which be contrar...</td>\n",
              "    </tr>\n",
              "  </tbody>\n",
              "</table>\n",
              "</div>"
            ],
            "text/plain": [
              "                                                text  toxic  \\\n",
              "0  Explanation\\nWhy the edits made under my usern...      0   \n",
              "1  D'aww! He matches this background colour I'm s...      0   \n",
              "2  Hey man, I'm really not trying to edit war. It...      0   \n",
              "3  \"\\nMore\\nI can't make any real suggestions on ...      0   \n",
              "4  You, sir, are my hero. Any chance you remember...      0   \n",
              "5  \"\\n\\nCongratulations from me as well, use the ...      0   \n",
              "6       COCKSUCKER BEFORE YOU PISS AROUND ON MY WORK      1   \n",
              "7  Your vandalism to the Matt Shirvington article...      0   \n",
              "8  Sorry if the word 'nonsense' was offensive to ...      0   \n",
              "9  alignment on this subject and which are contra...      0   \n",
              "\n",
              "                                          lemmatized  \n",
              "0  explanation why the edit make under my usernam...  \n",
              "1  d aww he match this background colour I m seem...  \n",
              "2  hey man I m really not try to edit war it s ju...  \n",
              "3  more I can t make any real suggestion on impro...  \n",
              "4  you sir be my hero any chance you remember wha...  \n",
              "5  congratulation from I as well use the tool wel...  \n",
              "6       cocksucker before you piss around on my work  \n",
              "7  your vandalism to the matt shirvington article...  \n",
              "8  sorry if the word nonsense be offensive to you...  \n",
              "9  alignment on this subject and which be contrar...  "
            ]
          },
          "execution_count": 10,
          "metadata": {},
          "output_type": "execute_result"
        }
      ],
      "source": [
        "data.head(10)"
      ]
    },
    {
      "cell_type": "code",
      "execution_count": null,
      "metadata": {
        "id": "ndDBU9xpR5Lr",
        "outputId": "c8bf5adc-7df7-4364-c157-307863b2dacb"
      },
      "outputs": [
        {
          "data": {
            "image/png": "[encoded data removed]",
            "text/plain": [
              "<Figure size 432x288 with 1 Axes>"
            ]
          },
          "metadata": {
            "needs_background": "light"
          },
          "output_type": "display_data"
        }
      ],
      "source": [
        "toxic_comment = data['toxic'].value_counts(normalize=(0,1))\n",
        "toxic_comment.plot(kind = 'bar', grid = True)\n",
        "plt.show()"
      ]
    },
    {
      "cell_type": "markdown",
      "metadata": {
        "id": "abGNW9vER5Lr"
      },
      "source": [
        "**Мини вывод**\n",
        "\n",
        "Мы считали данные, проверили на дубликаты, пропуски - их не оказалось. В столбце toxic токсичных ответов всего лишь 10%. Обработали текс с помощью регулярных выражений, лемматизировали, привели  к одному регистру."
      ]
    },
    {
      "cell_type": "code",
      "execution_count": null,
      "metadata": {
        "id": "pDXQYVZSR5Lr"
      },
      "outputs": [],
      "source": [
        "features = data.drop(['toxic'], axis =1)\n",
        "target = data['toxic']"
      ]
    },
    {
      "cell_type": "markdown",
      "metadata": {
        "id": "LE5CI7pjR5Ls"
      },
      "source": [
        "Определяем целевой признак."
      ]
    },
    {
      "cell_type": "code",
      "execution_count": null,
      "metadata": {
        "id": "tCtsKNAOR5Ls"
      },
      "outputs": [],
      "source": [
        "features_train, features_test, target_train, target_test = train_test_split(features,\n",
        "                                                                              target,\n",
        "                                                                              test_size = 0.3,\n",
        "                                                                              random_state = 12345,\n",
        "                                                                              stratify = target)\n",
        "\n"
      ]
    },
    {
      "cell_type": "code",
      "execution_count": null,
      "metadata": {
        "id": "k13dHL13R5Ls",
        "outputId": "e5ddcd2e-673d-469a-f6a8-57a286d1b9cc"
      },
      "outputs": [
        {
          "name": "stdout",
          "output_type": "stream",
          "text": [
            "(111504, 2)\n",
            "(47788, 2)\n"
          ]
        }
      ],
      "source": [
        "print(features_train.shape)\n",
        "print(features_test.shape)"
      ]
    },
    {
      "cell_type": "markdown",
      "metadata": {
        "id": "uRJK9YruR5Ls"
      },
      "source": [
        "Делим выборку на обучающую и тестовую"
      ]
    },
    {
      "cell_type": "markdown",
      "metadata": {
        "id": "Ne2i1CLSR5Ls"
      },
      "source": [
        "<div class=\"alert alert-block alert-warning\">\n",
        "<b>Комментарий студента:</b> stratify добавил\n",
        "</div>"
      ]
    },
    {
      "cell_type": "markdown",
      "metadata": {
        "id": "9DtKIJ3BR5Lt"
      },
      "source": [
        "## Обучение"
      ]
    },
    {
      "cell_type": "code",
      "execution_count": null,
      "metadata": {
        "scrolled": true,
        "id": "sLvdzGGgR5Lt",
        "outputId": "5473d176-3312-4855-a474-7091ef1fa9bb"
      },
      "outputs": [
        {
          "name": "stderr",
          "output_type": "stream",
          "text": [
            "[nltk_data] Downloading package stopwords to /home/jovyan/nltk_data...\n",
            "[nltk_data]   Package stopwords is already up-to-date!\n"
          ]
        }
      ],
      "source": [
        "nltk.download('stopwords')\n",
        "stopwords = set(nltk_stopwords.words('english'))"
      ]
    },
    {
      "cell_type": "markdown",
      "metadata": {
        "id": "P0GaF2LcR5Lt"
      },
      "source": [
        "Создадим кросс-валидационную модель для подбора параметров моделей"
      ]
    },
    {
      "cell_type": "code",
      "execution_count": null,
      "metadata": {
        "id": "S7kRwugqR5L2"
      },
      "outputs": [],
      "source": [
        "CV = 3"
      ]
    },
    {
      "cell_type": "markdown",
      "metadata": {
        "id": "dq2FkNTyR5L3"
      },
      "source": [
        "**LogisticRegresion**"
      ]
    },
    {
      "cell_type": "code",
      "execution_count": null,
      "metadata": {
        "id": "HU-mR3XkR5L3",
        "outputId": "b8a0ac49-3ef4-4aac-efd0-04027943523e"
      },
      "outputs": [
        {
          "name": "stdout",
          "output_type": "stream",
          "text": [
            "{'clf__C': 10, 'clf__class_weight': 'balanced'}\n",
            "0.7766804633912371\n",
            "CPU times: user 3min 8s, sys: 2min 53s, total: 6min 2s\n",
            "Wall time: 6min 2s\n"
          ]
        }
      ],
      "source": [
        "%%time\n",
        "\n",
        "lr_pipe = Pipeline([('tfidf', TfidfVectorizer(ngram_range=(1,3), min_df=3, max_df=0.9, use_idf=1,\n",
        "               smooth_idf=1, sublinear_tf=1, stop_words = stopwords)),\n",
        "              ('clf', LogisticRegression(random_state = 42, max_iter = 2000))])\n",
        "\n",
        "lr_params = {'clf__C' :[10], 'clf__class_weight': ['balanced']}\n",
        "\n",
        "lr_grid = GridSearchCV(lr_pipe, lr_params, cv=CV, scoring = 'f1', n_jobs= -1, refit = False)\n",
        "lr_grid.fit(features_train['lemmatized'], target_train)\n",
        "\n",
        "print(lr_grid.best_params_)\n",
        "print(lr_grid.best_score_)"
      ]
    },
    {
      "cell_type": "markdown",
      "metadata": {
        "id": "ii0O9HPAR5L4"
      },
      "source": [
        "**LGBM**"
      ]
    },
    {
      "cell_type": "code",
      "execution_count": null,
      "metadata": {
        "scrolled": true,
        "id": "3jj5J2YJR5L4",
        "outputId": "76e7180d-16c6-48dc-d14f-2f37a93228d0"
      },
      "outputs": [
        {
          "name": "stderr",
          "output_type": "stream",
          "text": [
            "[LightGBM] [Fatal] Check failed: (learning_rate) > (0.0) at /__w/1/s/python-package/compile/src/io/config_auto.cpp, line 331 .\n",
            "\n",
            "/opt/conda/lib/python3.9/site-packages/sklearn/model_selection/_validation.py:610: FitFailedWarning: Estimator fit failed. The score on this train-test partition for these parameters will be set to nan. Details: \n",
            "Traceback (most recent call last):\n",
            "  File \"/opt/conda/lib/python3.9/site-packages/sklearn/model_selection/_validation.py\", line 593, in _fit_and_score\n",
            "    estimator.fit(X_train, y_train, **fit_params)\n",
            "  File \"/opt/conda/lib/python3.9/site-packages/sklearn/pipeline.py\", line 346, in fit\n",
            "    self._final_estimator.fit(Xt, y, **fit_params_last_step)\n",
            "  File \"/opt/conda/lib/python3.9/site-packages/lightgbm/sklearn.py\", line 967, in fit\n",
            "    super().fit(X, _y, sample_weight=sample_weight, init_score=init_score, eval_set=valid_sets,\n",
            "  File \"/opt/conda/lib/python3.9/site-packages/lightgbm/sklearn.py\", line 748, in fit\n",
            "    self._Booster = train(\n",
            "  File \"/opt/conda/lib/python3.9/site-packages/lightgbm/engine.py\", line 271, in train\n",
            "    booster = Booster(params=params, train_set=train_set)\n",
            "  File \"/opt/conda/lib/python3.9/site-packages/lightgbm/basic.py\", line 2605, in __init__\n",
            "    train_set.construct()\n",
            "  File \"/opt/conda/lib/python3.9/site-packages/lightgbm/basic.py\", line 1815, in construct\n",
            "    self._lazy_init(self.data, label=self.label,\n",
            "  File \"/opt/conda/lib/python3.9/site-packages/lightgbm/basic.py\", line 1534, in _lazy_init\n",
            "    self.__init_from_csr(data, params_str, ref_dataset)\n",
            "  File \"/opt/conda/lib/python3.9/site-packages/lightgbm/basic.py\", line 1728, in __init_from_csr\n",
            "    _safe_call(_LIB.LGBM_DatasetCreateFromCSR(\n",
            "  File \"/opt/conda/lib/python3.9/site-packages/lightgbm/basic.py\", line 125, in _safe_call\n",
            "    raise LightGBMError(_LIB.LGBM_GetLastError().decode('utf-8'))\n",
            "lightgbm.basic.LightGBMError: Check failed: (learning_rate) > (0.0) at /__w/1/s/python-package/compile/src/io/config_auto.cpp, line 331 .\n",
            "\n",
            "\n",
            "  warnings.warn(\"Estimator fit failed. The score on this train-test\"\n",
            "[LightGBM] [Fatal] Check failed: (learning_rate) > (0.0) at /__w/1/s/python-package/compile/src/io/config_auto.cpp, line 331 .\n",
            "\n",
            "/opt/conda/lib/python3.9/site-packages/sklearn/model_selection/_validation.py:610: FitFailedWarning: Estimator fit failed. The score on this train-test partition for these parameters will be set to nan. Details: \n",
            "Traceback (most recent call last):\n",
            "  File \"/opt/conda/lib/python3.9/site-packages/sklearn/model_selection/_validation.py\", line 593, in _fit_and_score\n",
            "    estimator.fit(X_train, y_train, **fit_params)\n",
            "  File \"/opt/conda/lib/python3.9/site-packages/sklearn/pipeline.py\", line 346, in fit\n",
            "    self._final_estimator.fit(Xt, y, **fit_params_last_step)\n",
            "  File \"/opt/conda/lib/python3.9/site-packages/lightgbm/sklearn.py\", line 967, in fit\n",
            "    super().fit(X, _y, sample_weight=sample_weight, init_score=init_score, eval_set=valid_sets,\n",
            "  File \"/opt/conda/lib/python3.9/site-packages/lightgbm/sklearn.py\", line 748, in fit\n",
            "    self._Booster = train(\n",
            "  File \"/opt/conda/lib/python3.9/site-packages/lightgbm/engine.py\", line 271, in train\n",
            "    booster = Booster(params=params, train_set=train_set)\n",
            "  File \"/opt/conda/lib/python3.9/site-packages/lightgbm/basic.py\", line 2605, in __init__\n",
            "    train_set.construct()\n",
            "  File \"/opt/conda/lib/python3.9/site-packages/lightgbm/basic.py\", line 1815, in construct\n",
            "    self._lazy_init(self.data, label=self.label,\n",
            "  File \"/opt/conda/lib/python3.9/site-packages/lightgbm/basic.py\", line 1534, in _lazy_init\n",
            "    self.__init_from_csr(data, params_str, ref_dataset)\n",
            "  File \"/opt/conda/lib/python3.9/site-packages/lightgbm/basic.py\", line 1728, in __init_from_csr\n",
            "    _safe_call(_LIB.LGBM_DatasetCreateFromCSR(\n",
            "  File \"/opt/conda/lib/python3.9/site-packages/lightgbm/basic.py\", line 125, in _safe_call\n",
            "    raise LightGBMError(_LIB.LGBM_GetLastError().decode('utf-8'))\n",
            "lightgbm.basic.LightGBMError: Check failed: (learning_rate) > (0.0) at /__w/1/s/python-package/compile/src/io/config_auto.cpp, line 331 .\n",
            "\n",
            "\n",
            "  warnings.warn(\"Estimator fit failed. The score on this train-test\"\n",
            "[LightGBM] [Fatal] Check failed: (learning_rate) > (0.0) at /__w/1/s/python-package/compile/src/io/config_auto.cpp, line 331 .\n",
            "\n",
            "/opt/conda/lib/python3.9/site-packages/sklearn/model_selection/_validation.py:610: FitFailedWarning: Estimator fit failed. The score on this train-test partition for these parameters will be set to nan. Details: \n",
            "Traceback (most recent call last):\n",
            "  File \"/opt/conda/lib/python3.9/site-packages/sklearn/model_selection/_validation.py\", line 593, in _fit_and_score\n",
            "    estimator.fit(X_train, y_train, **fit_params)\n",
            "  File \"/opt/conda/lib/python3.9/site-packages/sklearn/pipeline.py\", line 346, in fit\n",
            "    self._final_estimator.fit(Xt, y, **fit_params_last_step)\n",
            "  File \"/opt/conda/lib/python3.9/site-packages/lightgbm/sklearn.py\", line 967, in fit\n",
            "    super().fit(X, _y, sample_weight=sample_weight, init_score=init_score, eval_set=valid_sets,\n",
            "  File \"/opt/conda/lib/python3.9/site-packages/lightgbm/sklearn.py\", line 748, in fit\n",
            "    self._Booster = train(\n",
            "  File \"/opt/conda/lib/python3.9/site-packages/lightgbm/engine.py\", line 271, in train\n",
            "    booster = Booster(params=params, train_set=train_set)\n",
            "  File \"/opt/conda/lib/python3.9/site-packages/lightgbm/basic.py\", line 2605, in __init__\n",
            "    train_set.construct()\n",
            "  File \"/opt/conda/lib/python3.9/site-packages/lightgbm/basic.py\", line 1815, in construct\n",
            "    self._lazy_init(self.data, label=self.label,\n",
            "  File \"/opt/conda/lib/python3.9/site-packages/lightgbm/basic.py\", line 1534, in _lazy_init\n",
            "    self.__init_from_csr(data, params_str, ref_dataset)\n",
            "  File \"/opt/conda/lib/python3.9/site-packages/lightgbm/basic.py\", line 1728, in __init_from_csr\n",
            "    _safe_call(_LIB.LGBM_DatasetCreateFromCSR(\n",
            "  File \"/opt/conda/lib/python3.9/site-packages/lightgbm/basic.py\", line 125, in _safe_call\n",
            "    raise LightGBMError(_LIB.LGBM_GetLastError().decode('utf-8'))\n",
            "lightgbm.basic.LightGBMError: Check failed: (learning_rate) > (0.0) at /__w/1/s/python-package/compile/src/io/config_auto.cpp, line 331 .\n",
            "\n",
            "\n",
            "  warnings.warn(\"Estimator fit failed. The score on this train-test\"\n"
          ]
        },
        {
          "name": "stdout",
          "output_type": "stream",
          "text": [
            "{'clf__learning_rate': 25, 'clf__max_depth': -1, 'clf__n_estimators': 180}\n",
            "0.7098010363634852\n",
            "CPU times: user 25min 33s, sys: 16.8 s, total: 25min 50s\n",
            "Wall time: 26min 1s\n"
          ]
        },
        {
          "name": "stderr",
          "output_type": "stream",
          "text": [
            "/opt/conda/lib/python3.9/site-packages/sklearn/model_selection/_search.py:918: UserWarning: One or more of the test scores are non-finite: [       nan 0.70980104]\n",
            "  warnings.warn(\n"
          ]
        }
      ],
      "source": [
        "%%time\n",
        "\n",
        "lgbm_pipe = Pipeline([('tfidf', TfidfVectorizer(ngram_range=(1,3), min_df=3, max_df=0.9, use_idf=1,\n",
        "               smooth_idf=1, sublinear_tf=1, stop_words = stopwords)),\n",
        "              ('clf', LGBMClassifier(random_state = 42))])\n",
        "\n",
        "lgbm_params = {'clf__n_estimators': [180],\n",
        "              'clf__learning_rate' : [0,25],\n",
        "              'clf__max_depth': [-1]}\n",
        "\n",
        "lgbm_grid = GridSearchCV(lgbm_pipe, lgbm_params, cv=CV, scoring = 'f1', n_jobs = -1, refit = False)\n",
        "lgbm_grid.fit(features_train['lemmatized'], target_train)\n",
        "\n",
        "print(lgbm_grid.best_params_)\n",
        "print(lgbm_grid.best_score_)"
      ]
    },
    {
      "cell_type": "code",
      "execution_count": null,
      "metadata": {
        "id": "xzXJ-RBCR5L4"
      },
      "outputs": [],
      "source": [
        "count_tf_idf = TfidfVectorizer(ngram_range=(1,3), min_df=3, max_df=0.9, use_idf=1,\n",
        "               smooth_idf=1, sublinear_tf=1, stop_words = stopwords)\n",
        "\n",
        "tf_idf_train = count_tf_idf.fit_transform(features_train['lemmatized'])\n",
        "tf_idf_test = count_tf_idf.transform(features_test['lemmatized'])\n"
      ]
    },
    {
      "cell_type": "code",
      "execution_count": null,
      "metadata": {
        "id": "pI29vQIER5L5",
        "outputId": "77b70e2f-f47a-493b-fe34-08219f6ca72f"
      },
      "outputs": [
        {
          "ename": "AttributeError",
          "evalue": "'GridSearchCV' object has no attribute 'best_estimator_'",
          "output_type": "error",
          "traceback": [
            "\u001b[0;31m---------------------------------------------------------------------------\u001b[0m",
            "\u001b[0;31mAttributeError\u001b[0m                            Traceback (most recent call last)",
            "\u001b[0;32m/tmp/ipykernel_64/2376878262.py\u001b[0m in \u001b[0;36m<module>\u001b[0;34m\u001b[0m\n\u001b[0;32m----> 1\u001b[0;31m \u001b[0mlr_grid\u001b[0m\u001b[0;34m.\u001b[0m\u001b[0mbest_estimator_\u001b[0m\u001b[0;34m.\u001b[0m\u001b[0mpredict\u001b[0m\u001b[0;34m(\u001b[0m\u001b[0mfeatures_test\u001b[0m\u001b[0;34m[\u001b[0m\u001b[0;34m'lemmatized'\u001b[0m\u001b[0;34m]\u001b[0m\u001b[0;34m)\u001b[0m\u001b[0;34m\u001b[0m\u001b[0;34m\u001b[0m\u001b[0m\n\u001b[0m",
            "\u001b[0;31mAttributeError\u001b[0m: 'GridSearchCV' object has no attribute 'best_estimator_'"
          ]
        }
      ],
      "source": [
        "lr_grid.best_estimator_.predict(features_test['lemmatized'])"
      ]
    },
    {
      "cell_type": "code",
      "execution_count": null,
      "metadata": {
        "id": "NWaEcAm0R5L5",
        "outputId": "d0889458-ef0a-40ea-a667-f0d03d7f01b5"
      },
      "outputs": [
        {
          "name": "stdout",
          "output_type": "stream",
          "text": [
            "F1_score: 0.7899799599198396\n"
          ]
        },
        {
          "name": "stderr",
          "output_type": "stream",
          "text": [
            "/opt/conda/lib/python3.9/site-packages/sklearn/linear_model/_logistic.py:763: ConvergenceWarning: lbfgs failed to converge (status=1):\n",
            "STOP: TOTAL NO. of ITERATIONS REACHED LIMIT.\n",
            "\n",
            "Increase the number of iterations (max_iter) or scale the data as shown in:\n",
            "    https://scikit-learn.org/stable/modules/preprocessing.html\n",
            "Please also refer to the documentation for alternative solver options:\n",
            "    https://scikit-learn.org/stable/modules/linear_model.html#logistic-regression\n",
            "  n_iter_i = _check_optimize_result(\n"
          ]
        }
      ],
      "source": [
        "logreg = LogisticRegression(C=10, class_weight = 'balanced', random_state = 42)\n",
        "logreg.fit(tf_idf_train, target_train)\n",
        "prediction_lr = logreg.predict(tf_idf_test)\n",
        "print('F1_score:', f1_score(target_test, prediction_lr))"
      ]
    },
    {
      "cell_type": "code",
      "execution_count": null,
      "metadata": {
        "id": "UoBEX1NLR5L5",
        "outputId": "6b0e2970-ddd9-4f29-825a-4da565ed755b"
      },
      "outputs": [
        {
          "ename": "AttributeError",
          "evalue": "'GridSearchCV' object has no attribute 'best_estimator_'",
          "output_type": "error",
          "traceback": [
            "\u001b[0;31m---------------------------------------------------------------------------\u001b[0m",
            "\u001b[0;31mAttributeError\u001b[0m                            Traceback (most recent call last)",
            "\u001b[0;32m/tmp/ipykernel_64/3443398596.py\u001b[0m in \u001b[0;36m<module>\u001b[0;34m\u001b[0m\n\u001b[0;32m----> 1\u001b[0;31m \u001b[0mlgbm_pred\u001b[0m \u001b[0;34m=\u001b[0m \u001b[0mlgbm_grid\u001b[0m\u001b[0;34m.\u001b[0m\u001b[0mbest_estimator_\u001b[0m\u001b[0;34m.\u001b[0m\u001b[0mpredict\u001b[0m\u001b[0;34m(\u001b[0m\u001b[0mfeatures_test\u001b[0m\u001b[0;34m[\u001b[0m\u001b[0;34m'lemmatized'\u001b[0m\u001b[0;34m]\u001b[0m\u001b[0;34m)\u001b[0m\u001b[0;34m\u001b[0m\u001b[0;34m\u001b[0m\u001b[0m\n\u001b[0m\u001b[1;32m      2\u001b[0m \u001b[0mprint\u001b[0m\u001b[0;34m(\u001b[0m\u001b[0;34m'f1_score_lgbm'\u001b[0m\u001b[0;34m,\u001b[0m \u001b[0mf1_score\u001b[0m\u001b[0;34m(\u001b[0m\u001b[0mlgbm_pred\u001b[0m\u001b[0;34m,\u001b[0m \u001b[0mtarget_test\u001b[0m\u001b[0;34m)\u001b[0m\u001b[0;34m)\u001b[0m\u001b[0;34m\u001b[0m\u001b[0;34m\u001b[0m\u001b[0m\n",
            "\u001b[0;31mAttributeError\u001b[0m: 'GridSearchCV' object has no attribute 'best_estimator_'"
          ]
        }
      ],
      "source": [
        "lgbm_pred = lgbm_grid.best_estimator_.predict(features_test['lemmatized'])\n",
        "print('f1_score_lgbm', f1_score(lgbm_pred, target_test))"
      ]
    },
    {
      "cell_type": "markdown",
      "metadata": {
        "id": "ZjWQi13XR5L7"
      },
      "source": [
        "## Выводы"
      ]
    },
    {
      "cell_type": "markdown",
      "metadata": {
        "id": "GzqWsVZqR5L7"
      },
      "source": [
        "Мы обработали входные данные, сделали лемматизацию твитови обработали с помощью регулярных выражений. Выполнили обучение моеделей Логистическую регрессию и LGBM на обучающей выборке и кроссвалидации, лучшей себя показала модель логистической регрессии, сделали на ней тестирование, результат метрики F1 на тестовой выборке 0,78, что выполнет условие задачи."
      ]
    }
  ],
  "metadata": {
    "ExecuteTimeLog": [
      {
        "duration": 136,
        "start_time": "2023-02-15T17:55:05.791Z"
      },
      {
        "duration": 30,
        "start_time": "2023-02-15T17:55:12.273Z"
      },
      {
        "duration": 3609,
        "start_time": "2023-02-15T17:55:36.628Z"
      },
      {
        "duration": 165,
        "start_time": "2023-02-15T18:02:20.327Z"
      },
      {
        "duration": 939,
        "start_time": "2023-02-15T18:02:28.779Z"
      },
      {
        "duration": 34,
        "start_time": "2023-02-15T18:04:00.676Z"
      },
      {
        "duration": 28,
        "start_time": "2023-02-15T18:04:13.746Z"
      },
      {
        "duration": 230,
        "start_time": "2023-02-15T18:04:34.824Z"
      },
      {
        "duration": 206,
        "start_time": "2023-02-15T18:04:38.862Z"
      },
      {
        "duration": 214,
        "start_time": "2023-02-15T18:04:44.183Z"
      },
      {
        "duration": 8,
        "start_time": "2023-02-15T18:05:14.380Z"
      },
      {
        "duration": 12,
        "start_time": "2023-02-15T18:05:43.548Z"
      },
      {
        "duration": 33,
        "start_time": "2023-02-15T18:06:02.794Z"
      },
      {
        "duration": 7,
        "start_time": "2023-02-15T18:06:11.465Z"
      },
      {
        "duration": 10,
        "start_time": "2023-02-15T18:06:16.974Z"
      },
      {
        "duration": 8,
        "start_time": "2023-02-15T18:06:22.281Z"
      },
      {
        "duration": 9,
        "start_time": "2023-02-15T18:08:08.426Z"
      },
      {
        "duration": 4,
        "start_time": "2023-02-15T18:09:30.186Z"
      },
      {
        "duration": 6,
        "start_time": "2023-02-15T18:16:07.554Z"
      },
      {
        "duration": 2644,
        "start_time": "2023-02-15T18:17:12.596Z"
      },
      {
        "duration": 4,
        "start_time": "2023-02-15T18:34:41.501Z"
      },
      {
        "duration": 1380,
        "start_time": "2023-02-15T18:35:18.222Z"
      },
      {
        "duration": 11,
        "start_time": "2023-02-15T18:36:11.613Z"
      },
      {
        "duration": 16,
        "start_time": "2023-02-15T18:36:15.305Z"
      },
      {
        "duration": 1194,
        "start_time": "2023-02-15T18:36:17.391Z"
      },
      {
        "duration": 45,
        "start_time": "2023-02-15T18:36:46.594Z"
      },
      {
        "duration": 1235,
        "start_time": "2023-02-15T18:36:48.801Z"
      },
      {
        "duration": 17,
        "start_time": "2023-02-15T18:43:52.321Z"
      },
      {
        "duration": 30556,
        "start_time": "2023-02-15T18:43:54.552Z"
      },
      {
        "duration": 4,
        "start_time": "2023-02-15T18:45:09.166Z"
      },
      {
        "duration": 112172,
        "start_time": "2023-02-15T18:45:13.306Z"
      },
      {
        "duration": 15,
        "start_time": "2023-02-15T18:47:07.705Z"
      },
      {
        "duration": 16,
        "start_time": "2023-02-15T18:47:27.919Z"
      },
      {
        "duration": 82916,
        "start_time": "2023-02-15T18:47:30.774Z"
      },
      {
        "duration": 15,
        "start_time": "2023-02-15T18:49:03.317Z"
      },
      {
        "duration": 5,
        "start_time": "2023-02-15T19:11:32.605Z"
      },
      {
        "duration": 13,
        "start_time": "2023-02-15T19:11:38.645Z"
      },
      {
        "duration": 32,
        "start_time": "2023-02-15T19:11:47.242Z"
      },
      {
        "duration": 11,
        "start_time": "2023-02-15T19:11:49.386Z"
      },
      {
        "duration": 52,
        "start_time": "2023-02-15T19:12:09.555Z"
      },
      {
        "duration": 63,
        "start_time": "2023-02-15T19:13:33.159Z"
      },
      {
        "duration": 53,
        "start_time": "2023-02-15T19:13:55.521Z"
      },
      {
        "duration": 14,
        "start_time": "2023-02-15T19:14:11.954Z"
      },
      {
        "duration": 54,
        "start_time": "2023-02-15T19:14:32.847Z"
      },
      {
        "duration": 15,
        "start_time": "2023-02-15T19:14:35.581Z"
      },
      {
        "duration": 16,
        "start_time": "2023-02-15T19:15:47.233Z"
      },
      {
        "duration": 10,
        "start_time": "2023-02-15T19:16:06.631Z"
      },
      {
        "duration": 80,
        "start_time": "2023-02-15T19:16:17.978Z"
      },
      {
        "duration": 13,
        "start_time": "2023-02-15T19:16:20.061Z"
      },
      {
        "duration": 18,
        "start_time": "2023-02-15T19:16:45.324Z"
      },
      {
        "duration": 84,
        "start_time": "2023-02-15T19:16:47.652Z"
      },
      {
        "duration": 15,
        "start_time": "2023-02-15T19:16:49.570Z"
      },
      {
        "duration": 1851,
        "start_time": "2023-02-16T19:06:28.509Z"
      },
      {
        "duration": 2593,
        "start_time": "2023-02-16T19:06:30.363Z"
      },
      {
        "duration": 32,
        "start_time": "2023-02-16T19:06:32.957Z"
      },
      {
        "duration": 29,
        "start_time": "2023-02-16T19:06:32.990Z"
      },
      {
        "duration": 264,
        "start_time": "2023-02-16T19:06:33.022Z"
      },
      {
        "duration": 8,
        "start_time": "2023-02-16T19:06:33.287Z"
      },
      {
        "duration": 2031,
        "start_time": "2023-02-16T19:06:33.296Z"
      },
      {
        "duration": 6,
        "start_time": "2023-02-16T19:06:35.329Z"
      },
      {
        "duration": 84714,
        "start_time": "2023-02-16T19:06:35.337Z"
      },
      {
        "duration": 15,
        "start_time": "2023-02-16T19:08:00.053Z"
      },
      {
        "duration": 40,
        "start_time": "2023-02-16T19:08:00.070Z"
      },
      {
        "duration": 61,
        "start_time": "2023-02-16T19:08:00.111Z"
      },
      {
        "duration": 4,
        "start_time": "2023-02-16T19:08:00.175Z"
      },
      {
        "duration": 80,
        "start_time": "2023-02-16T19:13:46.845Z"
      },
      {
        "duration": 4,
        "start_time": "2023-02-16T19:13:49.191Z"
      },
      {
        "duration": 49,
        "start_time": "2023-02-16T19:15:01.537Z"
      },
      {
        "duration": 3,
        "start_time": "2023-02-16T19:15:03.454Z"
      },
      {
        "duration": 228,
        "start_time": "2023-02-16T19:16:35.704Z"
      },
      {
        "duration": 187,
        "start_time": "2023-02-16T19:34:35.459Z"
      },
      {
        "duration": 58,
        "start_time": "2023-02-16T19:35:32.092Z"
      },
      {
        "duration": 1910,
        "start_time": "2023-02-16T19:35:40.555Z"
      },
      {
        "duration": 2686,
        "start_time": "2023-02-16T19:35:42.467Z"
      },
      {
        "duration": 36,
        "start_time": "2023-02-16T19:35:45.155Z"
      },
      {
        "duration": 54,
        "start_time": "2023-02-16T19:35:45.194Z"
      },
      {
        "duration": 253,
        "start_time": "2023-02-16T19:35:45.250Z"
      },
      {
        "duration": 11,
        "start_time": "2023-02-16T19:35:45.504Z"
      },
      {
        "duration": 1997,
        "start_time": "2023-02-16T19:35:45.517Z"
      },
      {
        "duration": 7,
        "start_time": "2023-02-16T19:35:47.515Z"
      },
      {
        "duration": 93109,
        "start_time": "2023-02-16T19:35:47.524Z"
      },
      {
        "duration": 12,
        "start_time": "2023-02-16T19:37:20.636Z"
      },
      {
        "duration": 57,
        "start_time": "2023-02-16T19:37:20.650Z"
      },
      {
        "duration": 43,
        "start_time": "2023-02-16T19:37:20.712Z"
      },
      {
        "duration": 12,
        "start_time": "2023-02-16T19:37:20.756Z"
      },
      {
        "duration": 253,
        "start_time": "2023-02-16T19:37:20.771Z"
      },
      {
        "duration": 3,
        "start_time": "2023-02-16T19:37:21.026Z"
      },
      {
        "duration": 80,
        "start_time": "2023-02-16T19:37:37.587Z"
      },
      {
        "duration": 8,
        "start_time": "2023-02-16T19:46:23.404Z"
      },
      {
        "duration": 1973,
        "start_time": "2023-02-16T19:46:30.383Z"
      },
      {
        "duration": 2683,
        "start_time": "2023-02-16T19:46:32.358Z"
      },
      {
        "duration": 45,
        "start_time": "2023-02-16T19:46:35.043Z"
      },
      {
        "duration": 65,
        "start_time": "2023-02-16T19:46:35.091Z"
      },
      {
        "duration": 271,
        "start_time": "2023-02-16T19:46:35.158Z"
      },
      {
        "duration": 8,
        "start_time": "2023-02-16T19:46:35.430Z"
      },
      {
        "duration": 2186,
        "start_time": "2023-02-16T19:46:35.440Z"
      },
      {
        "duration": 9,
        "start_time": "2023-02-16T19:46:37.628Z"
      },
      {
        "duration": 93770,
        "start_time": "2023-02-16T19:46:37.639Z"
      },
      {
        "duration": 12,
        "start_time": "2023-02-16T19:48:11.413Z"
      },
      {
        "duration": 59,
        "start_time": "2023-02-16T19:48:11.427Z"
      },
      {
        "duration": 50,
        "start_time": "2023-02-16T19:48:11.488Z"
      },
      {
        "duration": 4,
        "start_time": "2023-02-16T19:48:11.541Z"
      },
      {
        "duration": 160,
        "start_time": "2023-02-16T19:48:11.568Z"
      },
      {
        "duration": 3,
        "start_time": "2023-02-16T19:48:11.730Z"
      },
      {
        "duration": 1910,
        "start_time": "2023-02-16T19:53:26.361Z"
      },
      {
        "duration": 2642,
        "start_time": "2023-02-16T19:53:39.306Z"
      },
      {
        "duration": 33,
        "start_time": "2023-02-16T19:53:41.950Z"
      },
      {
        "duration": 34,
        "start_time": "2023-02-16T19:53:41.985Z"
      },
      {
        "duration": 297,
        "start_time": "2023-02-16T19:53:42.021Z"
      },
      {
        "duration": 8,
        "start_time": "2023-02-16T19:53:42.320Z"
      },
      {
        "duration": 2146,
        "start_time": "2023-02-16T19:53:42.330Z"
      },
      {
        "duration": 12,
        "start_time": "2023-02-16T19:53:44.478Z"
      },
      {
        "duration": 90345,
        "start_time": "2023-02-16T19:53:44.492Z"
      },
      {
        "duration": 10,
        "start_time": "2023-02-16T19:55:14.840Z"
      },
      {
        "duration": 55,
        "start_time": "2023-02-16T19:55:14.853Z"
      },
      {
        "duration": 61,
        "start_time": "2023-02-16T19:55:14.910Z"
      },
      {
        "duration": 4,
        "start_time": "2023-02-16T19:55:14.973Z"
      },
      {
        "duration": 252,
        "start_time": "2023-02-16T19:55:14.979Z"
      },
      {
        "duration": 4,
        "start_time": "2023-02-16T19:55:15.233Z"
      },
      {
        "duration": 2050,
        "start_time": "2023-02-16T20:00:44.596Z"
      },
      {
        "duration": 2802,
        "start_time": "2023-02-16T20:00:46.648Z"
      },
      {
        "duration": 38,
        "start_time": "2023-02-16T20:00:49.452Z"
      },
      {
        "duration": 39,
        "start_time": "2023-02-16T20:00:49.492Z"
      },
      {
        "duration": 257,
        "start_time": "2023-02-16T20:00:49.533Z"
      },
      {
        "duration": 9,
        "start_time": "2023-02-16T20:00:49.791Z"
      },
      {
        "duration": 2016,
        "start_time": "2023-02-16T20:00:49.802Z"
      },
      {
        "duration": 20,
        "start_time": "2023-02-16T20:00:51.819Z"
      },
      {
        "duration": 93733,
        "start_time": "2023-02-16T20:00:51.843Z"
      },
      {
        "duration": 15,
        "start_time": "2023-02-16T20:02:25.579Z"
      },
      {
        "duration": 48,
        "start_time": "2023-02-16T20:02:25.596Z"
      },
      {
        "duration": 11,
        "start_time": "2023-02-16T20:30:40.294Z"
      },
      {
        "duration": 1864,
        "start_time": "2023-02-16T20:30:48.115Z"
      },
      {
        "duration": 2619,
        "start_time": "2023-02-16T20:30:49.984Z"
      },
      {
        "duration": 32,
        "start_time": "2023-02-16T20:30:52.605Z"
      },
      {
        "duration": 28,
        "start_time": "2023-02-16T20:30:52.640Z"
      },
      {
        "duration": 261,
        "start_time": "2023-02-16T20:30:52.670Z"
      },
      {
        "duration": 10,
        "start_time": "2023-02-16T20:30:52.933Z"
      },
      {
        "duration": 3,
        "start_time": "2023-02-16T20:30:52.944Z"
      },
      {
        "duration": 81483,
        "start_time": "2023-02-16T20:30:52.949Z"
      },
      {
        "duration": 9,
        "start_time": "2023-02-16T20:32:14.434Z"
      },
      {
        "duration": 52,
        "start_time": "2023-02-16T20:32:14.445Z"
      },
      {
        "duration": 37,
        "start_time": "2023-02-16T20:32:14.499Z"
      },
      {
        "duration": 3,
        "start_time": "2023-02-16T20:32:14.538Z"
      },
      {
        "duration": 148,
        "start_time": "2023-02-16T20:32:14.543Z"
      },
      {
        "duration": 28,
        "start_time": "2023-02-16T20:41:52.438Z"
      },
      {
        "duration": 170,
        "start_time": "2023-02-16T20:42:11.103Z"
      },
      {
        "duration": 98,
        "start_time": "2023-02-16T20:43:49.112Z"
      },
      {
        "duration": 134,
        "start_time": "2023-02-16T20:44:42.397Z"
      },
      {
        "duration": 101,
        "start_time": "2023-02-16T20:45:26.066Z"
      },
      {
        "duration": 136,
        "start_time": "2023-02-16T20:45:48.851Z"
      },
      {
        "duration": 78,
        "start_time": "2023-02-16T20:49:19.093Z"
      },
      {
        "duration": 4340,
        "start_time": "2023-02-17T19:23:18.588Z"
      },
      {
        "duration": 2220,
        "start_time": "2023-02-17T19:23:30.485Z"
      },
      {
        "duration": 30,
        "start_time": "2023-02-17T19:23:36.350Z"
      },
      {
        "duration": 27,
        "start_time": "2023-02-17T19:23:38.805Z"
      },
      {
        "duration": 211,
        "start_time": "2023-02-17T19:23:40.465Z"
      },
      {
        "duration": 9,
        "start_time": "2023-02-17T19:23:45.864Z"
      },
      {
        "duration": 3,
        "start_time": "2023-02-17T19:28:04.244Z"
      },
      {
        "duration": 0,
        "start_time": "2023-02-17T20:02:20.172Z"
      },
      {
        "duration": 200595,
        "start_time": "2023-02-17T20:02:22.739Z"
      },
      {
        "duration": 1143053,
        "start_time": "2023-02-17T20:06:15.613Z"
      },
      {
        "duration": 2357240,
        "start_time": "2023-02-17T20:25:45.478Z"
      },
      {
        "duration": 15,
        "start_time": "2023-02-17T21:05:23.500Z"
      },
      {
        "duration": 45,
        "start_time": "2023-02-18T05:49:07.264Z"
      },
      {
        "duration": 4484,
        "start_time": "2023-02-18T05:49:18.142Z"
      },
      {
        "duration": 2346,
        "start_time": "2023-02-18T05:49:22.628Z"
      },
      {
        "duration": 30,
        "start_time": "2023-02-18T05:49:24.975Z"
      },
      {
        "duration": 29,
        "start_time": "2023-02-18T05:49:25.008Z"
      },
      {
        "duration": 229,
        "start_time": "2023-02-18T05:49:25.039Z"
      },
      {
        "duration": 8,
        "start_time": "2023-02-18T05:49:25.269Z"
      },
      {
        "duration": 2215242,
        "start_time": "2023-02-18T05:49:29.816Z"
      },
      {
        "duration": 8,
        "start_time": "2023-02-18T06:26:32.312Z"
      },
      {
        "duration": 29,
        "start_time": "2023-02-18T06:27:23.580Z"
      },
      {
        "duration": 38,
        "start_time": "2023-02-18T06:27:25.376Z"
      },
      {
        "duration": 3,
        "start_time": "2023-02-18T06:27:27.537Z"
      },
      {
        "duration": 131,
        "start_time": "2023-02-18T06:27:32.340Z"
      },
      {
        "duration": 2,
        "start_time": "2023-02-18T06:27:35.092Z"
      },
      {
        "duration": 386,
        "start_time": "2023-02-18T06:27:36.948Z"
      },
      {
        "duration": 250677,
        "start_time": "2023-02-18T06:36:05.593Z"
      },
      {
        "duration": 33,
        "start_time": "2023-02-18T07:05:17.851Z"
      },
      {
        "duration": 926,
        "start_time": "2023-02-18T07:05:28.153Z"
      },
      {
        "duration": 301327,
        "start_time": "2023-02-18T07:05:37.265Z"
      },
      {
        "duration": 464017,
        "start_time": "2023-02-18T07:10:46.467Z"
      },
      {
        "duration": 386140,
        "start_time": "2023-02-18T07:18:50.301Z"
      },
      {
        "duration": 24041,
        "start_time": "2023-02-18T07:43:49.566Z"
      },
      {
        "duration": 69814,
        "start_time": "2023-02-18T07:53:23.560Z"
      },
      {
        "duration": 70972,
        "start_time": "2023-02-18T08:13:12.630Z"
      },
      {
        "duration": 10,
        "start_time": "2023-02-18T13:34:47.108Z"
      },
      {
        "duration": 8512,
        "start_time": "2023-02-19T13:32:23.372Z"
      },
      {
        "duration": 2573,
        "start_time": "2023-02-19T13:33:26.770Z"
      },
      {
        "duration": 984,
        "start_time": "2023-02-19T13:34:19.562Z"
      },
      {
        "duration": 895,
        "start_time": "2023-02-19T13:34:35.014Z"
      },
      {
        "duration": 911,
        "start_time": "2023-02-19T13:37:14.917Z"
      },
      {
        "duration": 64,
        "start_time": "2023-02-19T13:37:34.846Z"
      },
      {
        "duration": 31,
        "start_time": "2023-02-19T13:37:35.436Z"
      },
      {
        "duration": 239,
        "start_time": "2023-02-19T13:37:37.707Z"
      },
      {
        "duration": 9,
        "start_time": "2023-02-19T13:37:39.718Z"
      },
      {
        "duration": 55,
        "start_time": "2023-02-19T13:47:12.137Z"
      },
      {
        "duration": 8052,
        "start_time": "2023-02-19T13:47:16.825Z"
      },
      {
        "duration": 2483,
        "start_time": "2023-02-19T13:47:24.879Z"
      },
      {
        "duration": 34,
        "start_time": "2023-02-19T13:47:27.364Z"
      },
      {
        "duration": 41,
        "start_time": "2023-02-19T13:47:27.401Z"
      },
      {
        "duration": 256,
        "start_time": "2023-02-19T13:47:27.444Z"
      },
      {
        "duration": 8,
        "start_time": "2023-02-19T13:47:27.702Z"
      },
      {
        "duration": 187,
        "start_time": "2023-02-19T14:05:57.921Z"
      },
      {
        "duration": 2781529,
        "start_time": "2023-02-19T14:06:34.330Z"
      },
      {
        "duration": 9,
        "start_time": "2023-02-19T17:12:57.148Z"
      },
      {
        "duration": 32,
        "start_time": "2023-02-19T17:13:05.891Z"
      },
      {
        "duration": 54,
        "start_time": "2023-02-19T17:13:08.763Z"
      },
      {
        "duration": 68,
        "start_time": "2023-02-19T17:13:14.255Z"
      },
      {
        "duration": 3,
        "start_time": "2023-02-19T17:13:17.212Z"
      },
      {
        "duration": 204,
        "start_time": "2023-02-19T17:26:37.600Z"
      },
      {
        "duration": 374,
        "start_time": "2023-02-19T17:41:53.623Z"
      },
      {
        "duration": 362372,
        "start_time": "2023-02-19T17:42:07.049Z"
      },
      {
        "duration": 74,
        "start_time": "2023-02-19T17:54:03.834Z"
      },
      {
        "duration": 1561647,
        "start_time": "2023-02-19T17:54:10.189Z"
      },
      {
        "duration": 27,
        "start_time": "2023-02-19T18:37:18.076Z"
      },
      {
        "duration": 28776,
        "start_time": "2023-02-19T18:38:46.756Z"
      },
      {
        "duration": 29,
        "start_time": "2023-02-19T18:42:47.135Z"
      },
      {
        "duration": 28,
        "start_time": "2023-02-19T18:48:47.857Z"
      }
    ],
    "kernelspec": {
      "display_name": "Python 3 (ipykernel)",
      "language": "python",
      "name": "python3"
    },
    "language_info": {
      "codemirror_mode": {
        "name": "ipython",
        "version": 3
      },
      "file_extension": ".py",
      "mimetype": "text/x-python",
      "name": "python",
      "nbconvert_exporter": "python",
      "pygments_lexer": "ipython3",
      "version": "3.9.5"
    },
    "toc": {
      "base_numbering": 1,
      "nav_menu": {},
      "number_sections": true,
      "sideBar": true,
      "skip_h1_title": true,
      "title_cell": "Содержание",
      "title_sidebar": "Contents",
      "toc_cell": true,
      "toc_position": {
        "height": "calc(100% - 180px)",
        "left": "10px",
        "top": "150px",
        "width": "302.391px"
      },
      "toc_section_display": true,
      "toc_window_display": false
    },
    "colab": {
      "provenance": []
    }
  },
  "nbformat": 4,
  "nbformat_minor": 0
}