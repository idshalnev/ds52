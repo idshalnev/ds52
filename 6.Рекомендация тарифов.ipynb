{
 "cells": [
  {
   "cell_type": "markdown",
   "metadata": {},
   "source": [
    "# Рекомендация тарифов"
   ]
  },
  {
   "cell_type": "markdown",
   "metadata": {},
   "source": [
    "В вашем распоряжении данные о поведении клиентов, которые уже перешли на эти тарифы (из проекта курса «Статистический анализ данных»). Нужно построить модель для задачи классификации, которая выберет подходящий тариф. Предобработка данных не понадобится — вы её уже сделали.\n",
    "\n",
    "Постройте модель с максимально большим значением *accuracy*. Чтобы сдать проект успешно, нужно довести долю правильных ответов по крайней мере до 0.75. Проверьте *accuracy* на тестовой выборке самостоятельно."
   ]
  },
  {
   "cell_type": "markdown",
   "metadata": {},
   "source": [
    "## Откройте и изучите файл"
   ]
  },
  {
   "cell_type": "code",
   "execution_count": 106,
   "metadata": {},
   "outputs": [],
   "source": [
    "import pandas as pd\n",
    "from sklearn.tree import DecisionTreeClassifier\n",
    "from sklearn.ensemble import RandomForestClassifier\n",
    "from joblib import dump\n",
    "from sklearn.linear_model import LogisticRegression\n",
    "from sklearn.metrics import accuracy_score\n",
    "from sklearn.model_selection import train_test_split\n",
    "from sklearn.dummy import DummyClassifier"
   ]
  },
  {
   "cell_type": "code",
   "execution_count": 2,
   "metadata": {},
   "outputs": [],
   "source": [
    "df = pd.read_csv('/datasets/users_behavior.csv')"
   ]
  },
  {
   "cell_type": "code",
   "execution_count": 3,
   "metadata": {},
   "outputs": [
    {
     "data": {
      "text/html": [
       "<div>\n",
       "<style scoped>\n",
       "    .dataframe tbody tr th:only-of-type {\n",
       "        vertical-align: middle;\n",
       "    }\n",
       "\n",
       "    .dataframe tbody tr th {\n",
       "        vertical-align: top;\n",
       "    }\n",
       "\n",
       "    .dataframe thead th {\n",
       "        text-align: right;\n",
       "    }\n",
       "</style>\n",
       "<table border=\"1\" class=\"dataframe\">\n",
       "  <thead>\n",
       "    <tr style=\"text-align: right;\">\n",
       "      <th></th>\n",
       "      <th>calls</th>\n",
       "      <th>minutes</th>\n",
       "      <th>messages</th>\n",
       "      <th>mb_used</th>\n",
       "      <th>is_ultra</th>\n",
       "    </tr>\n",
       "  </thead>\n",
       "  <tbody>\n",
       "    <tr>\n",
       "      <th>0</th>\n",
       "      <td>40.0</td>\n",
       "      <td>311.90</td>\n",
       "      <td>83.0</td>\n",
       "      <td>19915.42</td>\n",
       "      <td>0</td>\n",
       "    </tr>\n",
       "    <tr>\n",
       "      <th>1</th>\n",
       "      <td>85.0</td>\n",
       "      <td>516.75</td>\n",
       "      <td>56.0</td>\n",
       "      <td>22696.96</td>\n",
       "      <td>0</td>\n",
       "    </tr>\n",
       "    <tr>\n",
       "      <th>2</th>\n",
       "      <td>77.0</td>\n",
       "      <td>467.66</td>\n",
       "      <td>86.0</td>\n",
       "      <td>21060.45</td>\n",
       "      <td>0</td>\n",
       "    </tr>\n",
       "  </tbody>\n",
       "</table>\n",
       "</div>"
      ],
      "text/plain": [
       "   calls  minutes  messages   mb_used  is_ultra\n",
       "0   40.0   311.90      83.0  19915.42         0\n",
       "1   85.0   516.75      56.0  22696.96         0\n",
       "2   77.0   467.66      86.0  21060.45         0"
      ]
     },
     "execution_count": 3,
     "metadata": {},
     "output_type": "execute_result"
    }
   ],
   "source": [
    "df.head(3)"
   ]
  },
  {
   "cell_type": "code",
   "execution_count": 4,
   "metadata": {},
   "outputs": [
    {
     "name": "stdout",
     "output_type": "stream",
     "text": [
      "<class 'pandas.core.frame.DataFrame'>\n",
      "RangeIndex: 3214 entries, 0 to 3213\n",
      "Data columns (total 5 columns):\n",
      " #   Column    Non-Null Count  Dtype  \n",
      "---  ------    --------------  -----  \n",
      " 0   calls     3214 non-null   float64\n",
      " 1   minutes   3214 non-null   float64\n",
      " 2   messages  3214 non-null   float64\n",
      " 3   mb_used   3214 non-null   float64\n",
      " 4   is_ultra  3214 non-null   int64  \n",
      "dtypes: float64(4), int64(1)\n",
      "memory usage: 125.7 KB\n"
     ]
    }
   ],
   "source": [
    "df.info()"
   ]
  },
  {
   "cell_type": "code",
   "execution_count": 5,
   "metadata": {},
   "outputs": [
    {
     "data": {
      "text/html": [
       "<div>\n",
       "<style scoped>\n",
       "    .dataframe tbody tr th:only-of-type {\n",
       "        vertical-align: middle;\n",
       "    }\n",
       "\n",
       "    .dataframe tbody tr th {\n",
       "        vertical-align: top;\n",
       "    }\n",
       "\n",
       "    .dataframe thead th {\n",
       "        text-align: right;\n",
       "    }\n",
       "</style>\n",
       "<table border=\"1\" class=\"dataframe\">\n",
       "  <thead>\n",
       "    <tr style=\"text-align: right;\">\n",
       "      <th></th>\n",
       "      <th>calls</th>\n",
       "      <th>minutes</th>\n",
       "      <th>messages</th>\n",
       "      <th>mb_used</th>\n",
       "      <th>is_ultra</th>\n",
       "    </tr>\n",
       "  </thead>\n",
       "  <tbody>\n",
       "    <tr>\n",
       "      <th>count</th>\n",
       "      <td>3214.000000</td>\n",
       "      <td>3214.000000</td>\n",
       "      <td>3214.000000</td>\n",
       "      <td>3214.000000</td>\n",
       "      <td>3214.000000</td>\n",
       "    </tr>\n",
       "    <tr>\n",
       "      <th>mean</th>\n",
       "      <td>63.038892</td>\n",
       "      <td>438.208787</td>\n",
       "      <td>38.281269</td>\n",
       "      <td>17207.673836</td>\n",
       "      <td>0.306472</td>\n",
       "    </tr>\n",
       "    <tr>\n",
       "      <th>std</th>\n",
       "      <td>33.236368</td>\n",
       "      <td>234.569872</td>\n",
       "      <td>36.148326</td>\n",
       "      <td>7570.968246</td>\n",
       "      <td>0.461100</td>\n",
       "    </tr>\n",
       "    <tr>\n",
       "      <th>min</th>\n",
       "      <td>0.000000</td>\n",
       "      <td>0.000000</td>\n",
       "      <td>0.000000</td>\n",
       "      <td>0.000000</td>\n",
       "      <td>0.000000</td>\n",
       "    </tr>\n",
       "    <tr>\n",
       "      <th>25%</th>\n",
       "      <td>40.000000</td>\n",
       "      <td>274.575000</td>\n",
       "      <td>9.000000</td>\n",
       "      <td>12491.902500</td>\n",
       "      <td>0.000000</td>\n",
       "    </tr>\n",
       "    <tr>\n",
       "      <th>50%</th>\n",
       "      <td>62.000000</td>\n",
       "      <td>430.600000</td>\n",
       "      <td>30.000000</td>\n",
       "      <td>16943.235000</td>\n",
       "      <td>0.000000</td>\n",
       "    </tr>\n",
       "    <tr>\n",
       "      <th>75%</th>\n",
       "      <td>82.000000</td>\n",
       "      <td>571.927500</td>\n",
       "      <td>57.000000</td>\n",
       "      <td>21424.700000</td>\n",
       "      <td>1.000000</td>\n",
       "    </tr>\n",
       "    <tr>\n",
       "      <th>max</th>\n",
       "      <td>244.000000</td>\n",
       "      <td>1632.060000</td>\n",
       "      <td>224.000000</td>\n",
       "      <td>49745.730000</td>\n",
       "      <td>1.000000</td>\n",
       "    </tr>\n",
       "  </tbody>\n",
       "</table>\n",
       "</div>"
      ],
      "text/plain": [
       "             calls      minutes     messages       mb_used     is_ultra\n",
       "count  3214.000000  3214.000000  3214.000000   3214.000000  3214.000000\n",
       "mean     63.038892   438.208787    38.281269  17207.673836     0.306472\n",
       "std      33.236368   234.569872    36.148326   7570.968246     0.461100\n",
       "min       0.000000     0.000000     0.000000      0.000000     0.000000\n",
       "25%      40.000000   274.575000     9.000000  12491.902500     0.000000\n",
       "50%      62.000000   430.600000    30.000000  16943.235000     0.000000\n",
       "75%      82.000000   571.927500    57.000000  21424.700000     1.000000\n",
       "max     244.000000  1632.060000   224.000000  49745.730000     1.000000"
      ]
     },
     "execution_count": 5,
     "metadata": {},
     "output_type": "execute_result"
    }
   ],
   "source": [
    "df.describe()"
   ]
  },
  {
   "cell_type": "code",
   "execution_count": 6,
   "metadata": {},
   "outputs": [],
   "source": [
    "df['calls'] = df['calls'].astype(int)"
   ]
  },
  {
   "cell_type": "code",
   "execution_count": 7,
   "metadata": {},
   "outputs": [],
   "source": [
    "df['messages'] = df['messages'].astype(int)"
   ]
  },
  {
   "cell_type": "code",
   "execution_count": 8,
   "metadata": {},
   "outputs": [
    {
     "name": "stdout",
     "output_type": "stream",
     "text": [
      "<class 'pandas.core.frame.DataFrame'>\n",
      "RangeIndex: 3214 entries, 0 to 3213\n",
      "Data columns (total 5 columns):\n",
      " #   Column    Non-Null Count  Dtype  \n",
      "---  ------    --------------  -----  \n",
      " 0   calls     3214 non-null   int64  \n",
      " 1   minutes   3214 non-null   float64\n",
      " 2   messages  3214 non-null   int64  \n",
      " 3   mb_used   3214 non-null   float64\n",
      " 4   is_ultra  3214 non-null   int64  \n",
      "dtypes: float64(2), int64(3)\n",
      "memory usage: 125.7 KB\n"
     ]
    }
   ],
   "source": [
    "df.info()"
   ]
  },
  {
   "cell_type": "markdown",
   "metadata": {},
   "source": [
    "Открываем, изучаем датасет, смотрим общее число строк данных, чтобы примерно оценить пропорции разделения на выборки. Приводим значения столбцов calls and mssages к целочисленному типу(уже на автомате делается)"
   ]
  },
  {
   "cell_type": "markdown",
   "metadata": {},
   "source": [
    "## Разбейте данные на выборки"
   ]
  },
  {
   "cell_type": "markdown",
   "metadata": {},
   "source": [
    "Тестовая выборка не спрятана, значит будем делить в соотнношении 3:1:1, т.е. 60% данных отдаем обучающей выборке, 20% валидационной, 20% тестовой"
   ]
  },
  {
   "cell_type": "code",
   "execution_count": 9,
   "metadata": {},
   "outputs": [],
   "source": [
    "features = df.drop(['is_ultra'], axis =1)\n",
    "target = df['is_ultra']"
   ]
  },
  {
   "cell_type": "markdown",
   "metadata": {},
   "source": [
    "Обучающая и тестовая выборки"
   ]
  },
  {
   "cell_type": "code",
   "execution_count": 10,
   "metadata": {},
   "outputs": [],
   "source": [
    "features_train, features_test, target_train, target_test = train_test_split(features,\n",
    "                                                                              target, \n",
    "                                                                              test_size=0.4, \n",
    "                                                                              random_state = 12345)"
   ]
  },
  {
   "cell_type": "markdown",
   "metadata": {},
   "source": [
    "Валидационная выборка"
   ]
  },
  {
   "cell_type": "code",
   "execution_count": 11,
   "metadata": {},
   "outputs": [],
   "source": [
    "features_valid, features_test, target_valid, target_test = train_test_split(features_test,\n",
    "                                                                          target_test,\n",
    "                                                                          test_size = 0.5,\n",
    "                                                                          random_state = 12345)"
   ]
  },
  {
   "cell_type": "code",
   "execution_count": 12,
   "metadata": {},
   "outputs": [
    {
     "name": "stdout",
     "output_type": "stream",
     "text": [
      "(1928, 4)\n",
      "(1928,)\n"
     ]
    }
   ],
   "source": [
    "print(features_train.shape)\n",
    "print(target_train.shape)"
   ]
  },
  {
   "cell_type": "code",
   "execution_count": 13,
   "metadata": {},
   "outputs": [
    {
     "name": "stdout",
     "output_type": "stream",
     "text": [
      "(643, 4)\n",
      "(643,)\n"
     ]
    }
   ],
   "source": [
    "print(features_valid.shape)\n",
    "print(target_valid.shape)"
   ]
  },
  {
   "cell_type": "code",
   "execution_count": 14,
   "metadata": {},
   "outputs": [
    {
     "name": "stdout",
     "output_type": "stream",
     "text": [
      "(643, 4)\n",
      "(643,)\n"
     ]
    }
   ],
   "source": [
    "print(features_test.shape)\n",
    "print(target_test.shape)"
   ]
  },
  {
   "cell_type": "markdown",
   "metadata": {},
   "source": [
    "## Исследуйте модели"
   ]
  },
  {
   "cell_type": "markdown",
   "metadata": {},
   "source": [
    "Выполним исследование модели решающего дерева. Создадим цикл для проверки с глубиной от 1 до 5"
   ]
  },
  {
   "cell_type": "code",
   "execution_count": 15,
   "metadata": {},
   "outputs": [
    {
     "name": "stdout",
     "output_type": "stream",
     "text": [
      "best_depth =  3 : Accuracy лчшей модели  0.7853810264385692\n"
     ]
    }
   ],
   "source": [
    "best_model_t = None\n",
    "best_result_t = 0\n",
    "best_depth_t = 0\n",
    "for depth in range(1, 6):\n",
    "    model_t = DecisionTreeClassifier(random_state = 12345, max_depth = depth)\n",
    "    model_t.fit(features_train, target_train)\n",
    "    predictions_valid_t = model_t.predict(features_valid)\n",
    "    result_t = accuracy_score(target_valid, predictions_valid_t)\n",
    "    if result_t > best_result_t:\n",
    "        best_model_t = model_t\n",
    "        best_depth_t  = depth\n",
    "        best_result_t = result_t\n",
    "    \n",
    "print('best_depth = ', best_depth_t, ':', 'Accuracy лчшей модели ', best_result_t)\n",
    "    \n",
    "    "
   ]
  },
  {
   "cell_type": "markdown",
   "metadata": {},
   "source": [
    "Для решающего дерева лучшая модель с глубиной ветвей 3 и точностью правильных ответов 0,7853"
   ]
  },
  {
   "cell_type": "markdown",
   "metadata": {},
   "source": [
    "Случайный Лес "
   ]
  },
  {
   "cell_type": "code",
   "execution_count": 16,
   "metadata": {},
   "outputs": [
    {
     "name": "stdout",
     "output_type": "stream",
     "text": [
      "best_est : 12 : best_depth : 6 Accuracy лучшей модели : 0.8040435458786936\n"
     ]
    }
   ],
   "source": [
    "best_model_f = None\n",
    "best_result_f = 0\n",
    "best_est_f = 0\n",
    "best_depth_f = 0\n",
    "for est in range(1, 15):\n",
    "    for depth in range(1,11):\n",
    "        \n",
    "        model_f = RandomForestClassifier(random_state = 12345, n_estimators = est, max_depth = depth, criterion='gini')\n",
    "        model_f.fit(features_train, target_train)\n",
    "        predictions_valid_f = model_f.predict(features_valid)\n",
    "        result_f = accuracy_score(target_valid, predictions_valid_f)\n",
    "        if best_result_f < result_f:\n",
    "            best_model_f = model_f\n",
    "            best_est_f = est\n",
    "            best_result_f = result_f\n",
    "            best_depth_f = depth\n",
    "        \n",
    "print('best_est :', best_est_f, ':'\n",
    "      ,'best_depth :', best_depth_f,\n",
    "      'Accuracy лучшей модели :', best_result_f)        "
   ]
  },
  {
   "cell_type": "markdown",
   "metadata": {},
   "source": [
    "Для модели случайный лес лучшая точность правильных ответов 0.8040435458786936, с количеством деревьев 12 и глубиной 6"
   ]
  },
  {
   "cell_type": "markdown",
   "metadata": {},
   "source": [
    "Логистическая регрессия"
   ]
  },
  {
   "cell_type": "code",
   "execution_count": 17,
   "metadata": {},
   "outputs": [
    {
     "name": "stdout",
     "output_type": "stream",
     "text": [
      "0.7107309486780715\n"
     ]
    }
   ],
   "source": [
    "model_l = LogisticRegression(random_state = 12345, solver='lbfgs', max_iter = 1000)\n",
    "model_l.fit(features_train, target_train)\n",
    "predictions_valid_l = model_l.predict(features_valid)\n",
    "\n",
    "print(accuracy_score(target_valid, predictions_valid_l))"
   ]
  },
  {
   "cell_type": "markdown",
   "metadata": {},
   "source": [
    "Accuracy логистической регрессии равна 0.7107309486780715, что ниже, чем у дерева решений и слуайного леса."
   ]
  },
  {
   "cell_type": "markdown",
   "metadata": {},
   "source": [
    "Вывод:\n",
    "    Исследование на валидационной выборке показало, что наилучший результат по проверке на Accuracy дает модель случайного леса со следующими параметрами:\n",
    "    максимальная глубина 6\n",
    "    количество деревьев 12\n",
    "    "
   ]
  },
  {
   "cell_type": "markdown",
   "metadata": {},
   "source": [
    "## Проверьте модель на тестовой выборке"
   ]
  },
  {
   "cell_type": "markdown",
   "metadata": {},
   "source": [
    "Т.к. модель Случайного леса показала лучший результат ее и будем поверять на тестовой выборке."
   ]
  },
  {
   "cell_type": "code",
   "execution_count": 18,
   "metadata": {},
   "outputs": [
    {
     "name": "stdout",
     "output_type": "stream",
     "text": [
      "0.7947122861586314\n"
     ]
    }
   ],
   "source": [
    "model_test = RandomForestClassifier(random_state = 12345, n_estimators = 12, max_depth = 6)\n",
    "model_test.fit(features_train, target_train)\n",
    "predictions_test = model_test.predict(features_test)\n",
    "\n",
    "print(accuracy_score(target_test, predictions_test))"
   ]
  },
  {
   "cell_type": "markdown",
   "metadata": {},
   "source": [
    "Accuracy модели случайный лес на тестовой выборке получилось 0.7947122861586314 - близко к правде"
   ]
  },
  {
   "cell_type": "markdown",
   "metadata": {},
   "source": [
    "## (бонус) Проверьте модели на адекватность"
   ]
  },
  {
   "cell_type": "code",
   "execution_count": 19,
   "metadata": {},
   "outputs": [
    {
     "name": "stdout",
     "output_type": "stream",
     "text": [
      "0.693528313627878\n"
     ]
    }
   ],
   "source": [
    "model_1 = DummyClassifier(strategy = 'most_frequent')\n",
    "model_1.fit(features, target)\n",
    "predictions_1 = model_1.predict(features)\n",
    "\n",
    "print(accuracy_score(target, predictions_1))"
   ]
  },
  {
   "cell_type": "markdown",
   "metadata": {},
   "source": [
    "Сравниваемая модель показала результат на Accuracy 0.693528313627878, и этого следует, что все исследуемые модели адекватны."
   ]
  },
  {
   "cell_type": "markdown",
   "metadata": {},
   "source": [
    "Общий вывод, мы изчили датасет с данными по использованию тарифом мобильного оператора. Затем разбили данные на  выборки, тренировочную, валидационную, на которой ищем наилучшие результаты и тестовую, для проверки вышеперечисленных выборок. Самой удачной моделью с наилучшим показателем оказалась модель случайного леса RF, показатель Accuracy составил 0,8, а у моделей DT и LR - 0.78 и 0,71 соответственно. Тестовая выборка показала наилучший результат 0,79, что очень близко к модели RF. Модель RF проверили на адекватность, сравнили с рандомной моделью, в итоге получили что показатель Accuracy 0.69 ниже, чем у RF (0.8), отсюда сделали вывод, что наша модель прошла проверку на адекваность.  Для рекомендации новых тарифом автоматизированно выгоднее использовать модель Случайного леса."
   ]
  }
 ],
 "metadata": {
  "ExecuteTimeLog": [
   {
    "duration": 1368,
    "start_time": "2022-11-08T17:45:40.558Z"
   },
   {
    "duration": 61,
    "start_time": "2022-11-08T17:45:51.430Z"
   },
   {
    "duration": 20,
    "start_time": "2022-11-08T17:49:03.239Z"
   },
   {
    "duration": 112,
    "start_time": "2022-11-08T17:56:25.882Z"
   },
   {
    "duration": 15,
    "start_time": "2022-11-08T17:56:31.731Z"
   },
   {
    "duration": 26,
    "start_time": "2022-11-08T17:57:12.467Z"
   },
   {
    "duration": 1139,
    "start_time": "2022-11-11T08:16:09.616Z"
   },
   {
    "duration": 67,
    "start_time": "2022-11-11T08:16:13.453Z"
   },
   {
    "duration": 18,
    "start_time": "2022-11-11T08:16:18.207Z"
   },
   {
    "duration": 4,
    "start_time": "2022-11-11T08:18:50.996Z"
   },
   {
    "duration": 103,
    "start_time": "2022-11-11T08:19:21.854Z"
   },
   {
    "duration": 4,
    "start_time": "2022-11-11T08:19:26.326Z"
   },
   {
    "duration": 12,
    "start_time": "2022-11-11T08:19:34.450Z"
   },
   {
    "duration": 10,
    "start_time": "2022-11-11T08:41:28.862Z"
   },
   {
    "duration": 5,
    "start_time": "2022-11-11T08:41:34.779Z"
   },
   {
    "duration": 6,
    "start_time": "2022-11-11T08:41:36.906Z"
   },
   {
    "duration": 7,
    "start_time": "2022-11-11T08:47:33.990Z"
   },
   {
    "duration": 6,
    "start_time": "2022-11-11T08:47:46.056Z"
   },
   {
    "duration": 10,
    "start_time": "2022-11-11T08:48:26.418Z"
   },
   {
    "duration": 9,
    "start_time": "2022-11-11T08:48:40.385Z"
   },
   {
    "duration": 3,
    "start_time": "2022-11-11T08:48:49.596Z"
   },
   {
    "duration": 10,
    "start_time": "2022-11-11T08:49:15.544Z"
   },
   {
    "duration": 6,
    "start_time": "2022-11-11T08:49:19.821Z"
   },
   {
    "duration": 4,
    "start_time": "2022-11-11T08:49:24.993Z"
   },
   {
    "duration": 4,
    "start_time": "2022-11-11T08:49:36.764Z"
   },
   {
    "duration": 4,
    "start_time": "2022-11-11T08:49:45.712Z"
   },
   {
    "duration": 9,
    "start_time": "2022-11-11T08:50:33.971Z"
   },
   {
    "duration": 5,
    "start_time": "2022-11-11T08:50:46.420Z"
   },
   {
    "duration": 3,
    "start_time": "2022-11-11T08:50:49.288Z"
   },
   {
    "duration": 7,
    "start_time": "2022-11-11T08:51:28.189Z"
   },
   {
    "duration": 4,
    "start_time": "2022-11-11T08:51:30.215Z"
   },
   {
    "duration": 4,
    "start_time": "2022-11-11T08:51:32.538Z"
   },
   {
    "duration": 3,
    "start_time": "2022-11-11T08:52:42.574Z"
   },
   {
    "duration": 4,
    "start_time": "2022-11-11T08:53:04.573Z"
   },
   {
    "duration": 3,
    "start_time": "2022-11-11T08:53:07.143Z"
   },
   {
    "duration": 3,
    "start_time": "2022-11-11T08:53:09.191Z"
   },
   {
    "duration": 3,
    "start_time": "2022-11-11T08:53:10.234Z"
   },
   {
    "duration": 5,
    "start_time": "2022-11-11T08:53:58.668Z"
   },
   {
    "duration": 3,
    "start_time": "2022-11-11T08:54:00.718Z"
   },
   {
    "duration": 3,
    "start_time": "2022-11-11T08:54:02.239Z"
   },
   {
    "duration": 4,
    "start_time": "2022-11-11T08:54:04.724Z"
   },
   {
    "duration": 3,
    "start_time": "2022-11-11T08:58:25.019Z"
   },
   {
    "duration": 3,
    "start_time": "2022-11-11T08:58:26.086Z"
   },
   {
    "duration": 26,
    "start_time": "2022-11-11T08:58:26.543Z"
   },
   {
    "duration": 9,
    "start_time": "2022-11-11T08:58:26.953Z"
   },
   {
    "duration": 10,
    "start_time": "2022-11-11T08:58:27.994Z"
   },
   {
    "duration": 26,
    "start_time": "2022-11-11T08:58:30.478Z"
   },
   {
    "duration": 4,
    "start_time": "2022-11-11T08:58:33.120Z"
   },
   {
    "duration": 4,
    "start_time": "2022-11-11T08:58:33.475Z"
   },
   {
    "duration": 13,
    "start_time": "2022-11-11T08:58:34.124Z"
   },
   {
    "duration": 5,
    "start_time": "2022-11-11T08:58:39.462Z"
   },
   {
    "duration": 7,
    "start_time": "2022-11-11T08:58:44.179Z"
   },
   {
    "duration": 5,
    "start_time": "2022-11-11T08:58:45.116Z"
   },
   {
    "duration": 3,
    "start_time": "2022-11-11T08:58:46.931Z"
   },
   {
    "duration": 3,
    "start_time": "2022-11-11T08:58:47.390Z"
   },
   {
    "duration": 4,
    "start_time": "2022-11-11T08:58:48.188Z"
   },
   {
    "duration": 5,
    "start_time": "2022-11-11T08:58:58.966Z"
   },
   {
    "duration": 4,
    "start_time": "2022-11-11T08:58:59.371Z"
   },
   {
    "duration": 4,
    "start_time": "2022-11-11T08:59:00.056Z"
   },
   {
    "duration": 3,
    "start_time": "2022-11-11T08:59:00.812Z"
   },
   {
    "duration": 6,
    "start_time": "2022-11-11T09:00:04.826Z"
   },
   {
    "duration": 4,
    "start_time": "2022-11-11T09:00:07.834Z"
   },
   {
    "duration": 3,
    "start_time": "2022-11-11T09:00:09.940Z"
   },
   {
    "duration": 6,
    "start_time": "2022-11-11T09:03:13.449Z"
   },
   {
    "duration": 4,
    "start_time": "2022-11-11T09:03:21.575Z"
   },
   {
    "duration": 5,
    "start_time": "2022-11-11T09:03:39.994Z"
   },
   {
    "duration": 3,
    "start_time": "2022-11-11T09:03:42.723Z"
   },
   {
    "duration": 3,
    "start_time": "2022-11-11T09:03:45.242Z"
   },
   {
    "duration": 21,
    "start_time": "2022-11-11T09:16:16.252Z"
   },
   {
    "duration": 36,
    "start_time": "2022-11-11T09:16:26.278Z"
   },
   {
    "duration": 84,
    "start_time": "2022-11-11T09:16:42.365Z"
   },
   {
    "duration": 79,
    "start_time": "2022-11-11T09:31:02.976Z"
   },
   {
    "duration": 84,
    "start_time": "2022-11-11T09:31:23.771Z"
   },
   {
    "duration": 77,
    "start_time": "2022-11-11T09:36:51.159Z"
   },
   {
    "duration": 74,
    "start_time": "2022-11-11T09:37:21.921Z"
   },
   {
    "duration": 79,
    "start_time": "2022-11-11T09:38:01.605Z"
   },
   {
    "duration": 16,
    "start_time": "2022-11-11T09:40:57.319Z"
   },
   {
    "duration": 66,
    "start_time": "2022-11-11T09:41:17.354Z"
   },
   {
    "duration": 17,
    "start_time": "2022-11-11T09:41:38.292Z"
   },
   {
    "duration": 72,
    "start_time": "2022-11-11T09:42:19.609Z"
   },
   {
    "duration": 73,
    "start_time": "2022-11-11T09:44:19.128Z"
   },
   {
    "duration": 78,
    "start_time": "2022-11-11T09:44:50.584Z"
   },
   {
    "duration": 61,
    "start_time": "2022-11-11T09:46:11.159Z"
   },
   {
    "duration": 34,
    "start_time": "2022-11-11T09:48:56.943Z"
   },
   {
    "duration": 33,
    "start_time": "2022-11-11T09:53:36.860Z"
   },
   {
    "duration": 38,
    "start_time": "2022-11-11T09:53:44.204Z"
   },
   {
    "duration": 31,
    "start_time": "2022-11-11T09:53:49.736Z"
   },
   {
    "duration": 33,
    "start_time": "2022-11-11T09:54:10.321Z"
   },
   {
    "duration": 11,
    "start_time": "2022-11-11T10:12:06.631Z"
   },
   {
    "duration": 287,
    "start_time": "2022-11-11T10:12:13.620Z"
   },
   {
    "duration": 275,
    "start_time": "2022-11-11T10:13:00.619Z"
   },
   {
    "duration": 8653,
    "start_time": "2022-11-11T10:19:58.656Z"
   },
   {
    "duration": 6370,
    "start_time": "2022-11-11T10:20:30.486Z"
   },
   {
    "duration": 8607,
    "start_time": "2022-11-11T10:20:56.024Z"
   },
   {
    "duration": 5482,
    "start_time": "2022-11-11T10:21:33.638Z"
   },
   {
    "duration": 2117,
    "start_time": "2022-11-11T10:21:47.577Z"
   },
   {
    "duration": 1565,
    "start_time": "2022-11-11T10:22:13.205Z"
   },
   {
    "duration": 5500,
    "start_time": "2022-11-11T10:22:22.383Z"
   },
   {
    "duration": 3223,
    "start_time": "2022-11-11T10:22:32.423Z"
   },
   {
    "duration": 3,
    "start_time": "2022-11-11T10:25:13.807Z"
   },
   {
    "duration": 27,
    "start_time": "2022-11-11T10:30:09.466Z"
   },
   {
    "duration": 26,
    "start_time": "2022-11-11T10:31:18.594Z"
   },
   {
    "duration": 3165,
    "start_time": "2022-11-11T10:39:44.846Z"
   },
   {
    "duration": 52,
    "start_time": "2022-11-11T11:09:19.251Z"
   },
   {
    "duration": 3,
    "start_time": "2022-11-11T11:18:07.202Z"
   },
   {
    "duration": 10,
    "start_time": "2022-11-11T11:25:02.626Z"
   },
   {
    "duration": 6,
    "start_time": "2022-11-11T11:25:11.322Z"
   },
   {
    "duration": 12,
    "start_time": "2022-11-11T11:29:21.752Z"
   },
   {
    "duration": 12,
    "start_time": "2022-11-11T11:29:37.381Z"
   },
   {
    "duration": 6,
    "start_time": "2022-11-11T11:29:48.943Z"
   },
   {
    "duration": 6,
    "start_time": "2022-11-11T11:29:59.133Z"
   },
   {
    "duration": 1570,
    "start_time": "2022-11-11T11:37:04.955Z"
   },
   {
    "duration": 28,
    "start_time": "2022-11-11T11:37:06.527Z"
   },
   {
    "duration": 14,
    "start_time": "2022-11-11T11:37:06.557Z"
   },
   {
    "duration": 11,
    "start_time": "2022-11-11T11:37:06.573Z"
   },
   {
    "duration": 23,
    "start_time": "2022-11-11T11:37:06.586Z"
   },
   {
    "duration": 3,
    "start_time": "2022-11-11T11:37:06.610Z"
   },
   {
    "duration": 6,
    "start_time": "2022-11-11T11:37:06.614Z"
   },
   {
    "duration": 33,
    "start_time": "2022-11-11T11:37:06.621Z"
   },
   {
    "duration": 4,
    "start_time": "2022-11-11T11:37:06.655Z"
   },
   {
    "duration": 11,
    "start_time": "2022-11-11T11:37:06.661Z"
   },
   {
    "duration": 11,
    "start_time": "2022-11-11T11:37:06.673Z"
   },
   {
    "duration": 14,
    "start_time": "2022-11-11T11:37:06.685Z"
   },
   {
    "duration": 6,
    "start_time": "2022-11-11T11:37:06.700Z"
   },
   {
    "duration": 4,
    "start_time": "2022-11-11T11:37:06.708Z"
   },
   {
    "duration": 40,
    "start_time": "2022-11-11T11:37:06.714Z"
   },
   {
    "duration": 2798,
    "start_time": "2022-11-11T11:37:06.756Z"
   },
   {
    "duration": 25,
    "start_time": "2022-11-11T11:37:09.556Z"
   },
   {
    "duration": 44,
    "start_time": "2022-11-11T11:37:09.583Z"
   },
   {
    "duration": 18,
    "start_time": "2022-11-11T11:37:09.630Z"
   },
   {
    "duration": 4,
    "start_time": "2022-11-11T11:43:49.857Z"
   }
  ],
  "celltoolbar": "Отсутствует",
  "kernelspec": {
   "display_name": "Python 3 (ipykernel)",
   "language": "python",
   "name": "python3"
  },
  "language_info": {
   "codemirror_mode": {
    "name": "ipython",
    "version": 3
   },
   "file_extension": ".py",
   "mimetype": "text/x-python",
   "name": "python",
   "nbconvert_exporter": "python",
   "pygments_lexer": "ipython3",
   "version": "3.9.12"
  },
  "toc": {
   "base_numbering": 1,
   "nav_menu": {
    "height": "140px",
    "width": "435px"
   },
   "number_sections": true,
   "sideBar": true,
   "skip_h1_title": true,
   "title_cell": "Table of Contents",
   "title_sidebar": "Contents",
   "toc_cell": false,
   "toc_position": {},
   "toc_section_display": true,
   "toc_window_display": false
  }
 },
 "nbformat": 4,
 "nbformat_minor": 2
}
