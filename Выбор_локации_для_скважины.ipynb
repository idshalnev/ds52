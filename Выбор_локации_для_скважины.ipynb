{
  "cells": [
    {
      "cell_type": "markdown",
      "metadata": {
        "id": "nFOY6CJY_-Ur"
      },
      "source": [
        "# Выбор локации для скважины"
      ]
    },
    {
      "cell_type": "markdown",
      "metadata": {
        "id": "g8lqLRFO_-Us"
      },
      "source": [
        "Допустим, вы работаете в добывающей компании «ГлавРосГосНефть». Нужно решить, где бурить новую скважину.\n",
        "\n",
        "Вам предоставлены пробы нефти в трёх регионах: в каждом 10 000 месторождений, где измерили качество нефти и объём её запасов. Постройте модель машинного обучения, которая поможет определить регион, где добыча принесёт наибольшую прибыль. Проанализируйте возможную прибыль и риски техникой *Bootstrap.*\n",
        "\n",
        "Шаги для выбора локации:\n",
        "\n",
        "- В избранном регионе ищут месторождения, для каждого определяют значения признаков;\n",
        "- Строят модель и оценивают объём запасов;\n",
        "- Выбирают месторождения с самым высокими оценками значений. Количество месторождений зависит от бюджета компании и стоимости разработки одной скважины;\n",
        "- Прибыль равна суммарной прибыли отобранных месторождений."
      ]
    },
    {
      "cell_type": "markdown",
      "metadata": {
        "id": "VeRSVGgI_-Ut"
      },
      "source": [
        "id — уникальный идентификатор скважины;\n",
        "f0, f1, f2 — три признака точек (неважно, что они означают, но сами признаки значимы);\n",
        "product — объём запасов в скважине (тыс. баррелей)."
      ]
    },
    {
      "cell_type": "markdown",
      "metadata": {
        "id": "9NVcp14S_-Ut"
      },
      "source": [
        "## Загрузка и подготовка данных"
      ]
    },
    {
      "cell_type": "code",
      "execution_count": null,
      "metadata": {
        "id": "bn-U_YVj_-Ut"
      },
      "outputs": [],
      "source": [
        "import pandas as pd\n",
        "import pandas_profiling\n",
        "from sklearn.model_selection import train_test_split\n",
        "from sklearn.linear_model import LinearRegression\n",
        "from scipy import stats as st\n",
        "import numpy as np\n",
        "from sklearn.metrics import mean_squared_error\n",
        " "
      ]
    },
    {
      "cell_type": "code",
      "execution_count": null,
      "metadata": {
        "id": "gap4b9d5_-Uv"
      },
      "outputs": [],
      "source": [
        "reg_one = pd.read_csv('/datasets/geo_data_0.csv')\n",
        "reg_two = pd.read_csv('/datasets/geo_data_1.csv')\n",
        "reg_three = pd.read_csv('/datasets/geo_data_2.csv') #выгружаем данные"
      ]
    },
    {
      "cell_type": "code",
      "execution_count": null,
      "metadata": {
        "id": "JTo_iV8C_-Uw",
        "outputId": "1082084e-d792-444c-e0fd-05eeaac0167d"
      },
      "outputs": [
        {
          "data": {
            "text/html": [
              "<div>\n",
              "<style scoped>\n",
              "    .dataframe tbody tr th:only-of-type {\n",
              "        vertical-align: middle;\n",
              "    }\n",
              "\n",
              "    .dataframe tbody tr th {\n",
              "        vertical-align: top;\n",
              "    }\n",
              "\n",
              "    .dataframe thead th {\n",
              "        text-align: right;\n",
              "    }\n",
              "</style>\n",
              "<table border=\"1\" class=\"dataframe\">\n",
              "  <thead>\n",
              "    <tr style=\"text-align: right;\">\n",
              "      <th></th>\n",
              "      <th>id</th>\n",
              "      <th>f0</th>\n",
              "      <th>f1</th>\n",
              "      <th>f2</th>\n",
              "      <th>product</th>\n",
              "    </tr>\n",
              "  </thead>\n",
              "  <tbody>\n",
              "    <tr>\n",
              "      <th>0</th>\n",
              "      <td>txEyH</td>\n",
              "      <td>0.705745</td>\n",
              "      <td>-0.497823</td>\n",
              "      <td>1.221170</td>\n",
              "      <td>105.280062</td>\n",
              "    </tr>\n",
              "    <tr>\n",
              "      <th>1</th>\n",
              "      <td>2acmU</td>\n",
              "      <td>1.334711</td>\n",
              "      <td>-0.340164</td>\n",
              "      <td>4.365080</td>\n",
              "      <td>73.037750</td>\n",
              "    </tr>\n",
              "    <tr>\n",
              "      <th>2</th>\n",
              "      <td>409Wp</td>\n",
              "      <td>1.022732</td>\n",
              "      <td>0.151990</td>\n",
              "      <td>1.419926</td>\n",
              "      <td>85.265647</td>\n",
              "    </tr>\n",
              "    <tr>\n",
              "      <th>3</th>\n",
              "      <td>iJLyR</td>\n",
              "      <td>-0.032172</td>\n",
              "      <td>0.139033</td>\n",
              "      <td>2.978566</td>\n",
              "      <td>168.620776</td>\n",
              "    </tr>\n",
              "    <tr>\n",
              "      <th>4</th>\n",
              "      <td>Xdl7t</td>\n",
              "      <td>1.988431</td>\n",
              "      <td>0.155413</td>\n",
              "      <td>4.751769</td>\n",
              "      <td>154.036647</td>\n",
              "    </tr>\n",
              "  </tbody>\n",
              "</table>\n",
              "</div>"
            ],
            "text/plain": [
              "      id        f0        f1        f2     product\n",
              "0  txEyH  0.705745 -0.497823  1.221170  105.280062\n",
              "1  2acmU  1.334711 -0.340164  4.365080   73.037750\n",
              "2  409Wp  1.022732  0.151990  1.419926   85.265647\n",
              "3  iJLyR -0.032172  0.139033  2.978566  168.620776\n",
              "4  Xdl7t  1.988431  0.155413  4.751769  154.036647"
            ]
          },
          "execution_count": 5,
          "metadata": {},
          "output_type": "execute_result"
        }
      ],
      "source": [
        "reg_one.head()"
      ]
    },
    {
      "cell_type": "code",
      "execution_count": null,
      "metadata": {
        "id": "kctiyV9k_-Uw",
        "outputId": "27854071-2b6b-4444-85f1-335ed7342553"
      },
      "outputs": [
        {
          "data": {
            "text/html": [
              "<div>\n",
              "<style scoped>\n",
              "    .dataframe tbody tr th:only-of-type {\n",
              "        vertical-align: middle;\n",
              "    }\n",
              "\n",
              "    .dataframe tbody tr th {\n",
              "        vertical-align: top;\n",
              "    }\n",
              "\n",
              "    .dataframe thead th {\n",
              "        text-align: right;\n",
              "    }\n",
              "</style>\n",
              "<table border=\"1\" class=\"dataframe\">\n",
              "  <thead>\n",
              "    <tr style=\"text-align: right;\">\n",
              "      <th></th>\n",
              "      <th>id</th>\n",
              "      <th>f0</th>\n",
              "      <th>f1</th>\n",
              "      <th>f2</th>\n",
              "      <th>product</th>\n",
              "    </tr>\n",
              "  </thead>\n",
              "  <tbody>\n",
              "    <tr>\n",
              "      <th>0</th>\n",
              "      <td>kBEdx</td>\n",
              "      <td>-15.001348</td>\n",
              "      <td>-8.276000</td>\n",
              "      <td>-0.005876</td>\n",
              "      <td>3.179103</td>\n",
              "    </tr>\n",
              "    <tr>\n",
              "      <th>1</th>\n",
              "      <td>62mP7</td>\n",
              "      <td>14.272088</td>\n",
              "      <td>-3.475083</td>\n",
              "      <td>0.999183</td>\n",
              "      <td>26.953261</td>\n",
              "    </tr>\n",
              "    <tr>\n",
              "      <th>2</th>\n",
              "      <td>vyE1P</td>\n",
              "      <td>6.263187</td>\n",
              "      <td>-5.948386</td>\n",
              "      <td>5.001160</td>\n",
              "      <td>134.766305</td>\n",
              "    </tr>\n",
              "    <tr>\n",
              "      <th>3</th>\n",
              "      <td>KcrkZ</td>\n",
              "      <td>-13.081196</td>\n",
              "      <td>-11.506057</td>\n",
              "      <td>4.999415</td>\n",
              "      <td>137.945408</td>\n",
              "    </tr>\n",
              "    <tr>\n",
              "      <th>4</th>\n",
              "      <td>AHL4O</td>\n",
              "      <td>12.702195</td>\n",
              "      <td>-8.147433</td>\n",
              "      <td>5.004363</td>\n",
              "      <td>134.766305</td>\n",
              "    </tr>\n",
              "  </tbody>\n",
              "</table>\n",
              "</div>"
            ],
            "text/plain": [
              "      id         f0         f1        f2     product\n",
              "0  kBEdx -15.001348  -8.276000 -0.005876    3.179103\n",
              "1  62mP7  14.272088  -3.475083  0.999183   26.953261\n",
              "2  vyE1P   6.263187  -5.948386  5.001160  134.766305\n",
              "3  KcrkZ -13.081196 -11.506057  4.999415  137.945408\n",
              "4  AHL4O  12.702195  -8.147433  5.004363  134.766305"
            ]
          },
          "execution_count": 6,
          "metadata": {},
          "output_type": "execute_result"
        }
      ],
      "source": [
        "reg_two.head()"
      ]
    },
    {
      "cell_type": "code",
      "execution_count": null,
      "metadata": {
        "id": "PR4DX3z3_-Ux",
        "outputId": "63ceacb2-1052-4c3d-b1ef-326a9e261026"
      },
      "outputs": [
        {
          "data": {
            "text/html": [
              "<div>\n",
              "<style scoped>\n",
              "    .dataframe tbody tr th:only-of-type {\n",
              "        vertical-align: middle;\n",
              "    }\n",
              "\n",
              "    .dataframe tbody tr th {\n",
              "        vertical-align: top;\n",
              "    }\n",
              "\n",
              "    .dataframe thead th {\n",
              "        text-align: right;\n",
              "    }\n",
              "</style>\n",
              "<table border=\"1\" class=\"dataframe\">\n",
              "  <thead>\n",
              "    <tr style=\"text-align: right;\">\n",
              "      <th></th>\n",
              "      <th>id</th>\n",
              "      <th>f0</th>\n",
              "      <th>f1</th>\n",
              "      <th>f2</th>\n",
              "      <th>product</th>\n",
              "    </tr>\n",
              "  </thead>\n",
              "  <tbody>\n",
              "    <tr>\n",
              "      <th>0</th>\n",
              "      <td>fwXo0</td>\n",
              "      <td>-1.146987</td>\n",
              "      <td>0.963328</td>\n",
              "      <td>-0.828965</td>\n",
              "      <td>27.758673</td>\n",
              "    </tr>\n",
              "    <tr>\n",
              "      <th>1</th>\n",
              "      <td>WJtFt</td>\n",
              "      <td>0.262778</td>\n",
              "      <td>0.269839</td>\n",
              "      <td>-2.530187</td>\n",
              "      <td>56.069697</td>\n",
              "    </tr>\n",
              "    <tr>\n",
              "      <th>2</th>\n",
              "      <td>ovLUW</td>\n",
              "      <td>0.194587</td>\n",
              "      <td>0.289035</td>\n",
              "      <td>-5.586433</td>\n",
              "      <td>62.871910</td>\n",
              "    </tr>\n",
              "    <tr>\n",
              "      <th>3</th>\n",
              "      <td>q6cA6</td>\n",
              "      <td>2.236060</td>\n",
              "      <td>-0.553760</td>\n",
              "      <td>0.930038</td>\n",
              "      <td>114.572842</td>\n",
              "    </tr>\n",
              "    <tr>\n",
              "      <th>4</th>\n",
              "      <td>WPMUX</td>\n",
              "      <td>-0.515993</td>\n",
              "      <td>1.716266</td>\n",
              "      <td>5.899011</td>\n",
              "      <td>149.600746</td>\n",
              "    </tr>\n",
              "  </tbody>\n",
              "</table>\n",
              "</div>"
            ],
            "text/plain": [
              "      id        f0        f1        f2     product\n",
              "0  fwXo0 -1.146987  0.963328 -0.828965   27.758673\n",
              "1  WJtFt  0.262778  0.269839 -2.530187   56.069697\n",
              "2  ovLUW  0.194587  0.289035 -5.586433   62.871910\n",
              "3  q6cA6  2.236060 -0.553760  0.930038  114.572842\n",
              "4  WPMUX -0.515993  1.716266  5.899011  149.600746"
            ]
          },
          "execution_count": 7,
          "metadata": {},
          "output_type": "execute_result"
        }
      ],
      "source": [
        "reg_three.head()"
      ]
    },
    {
      "cell_type": "code",
      "execution_count": null,
      "metadata": {
        "id": "9oJKjUdk_-Ux",
        "outputId": "8c845308-3433-42d6-b039-152289d602d5"
      },
      "outputs": [
        {
          "name": "stdout",
          "output_type": "stream",
          "text": [
            "<class 'pandas.core.frame.DataFrame'>\n",
            "RangeIndex: 100000 entries, 0 to 99999\n",
            "Data columns (total 5 columns):\n",
            " #   Column   Non-Null Count   Dtype  \n",
            "---  ------   --------------   -----  \n",
            " 0   id       100000 non-null  object \n",
            " 1   f0       100000 non-null  float64\n",
            " 2   f1       100000 non-null  float64\n",
            " 3   f2       100000 non-null  float64\n",
            " 4   product  100000 non-null  float64\n",
            "dtypes: float64(4), object(1)\n",
            "memory usage: 3.8+ MB\n"
          ]
        }
      ],
      "source": [
        "reg_one.info()"
      ]
    },
    {
      "cell_type": "code",
      "execution_count": null,
      "metadata": {
        "id": "42sXWxTJ_-Ux",
        "outputId": "5f2f028d-62d1-4b39-f0a2-790e1e5fce58"
      },
      "outputs": [
        {
          "data": {
            "text/plain": [
              "id         0\n",
              "f0         0\n",
              "f1         0\n",
              "f2         0\n",
              "product    0\n",
              "dtype: int64"
            ]
          },
          "execution_count": 9,
          "metadata": {},
          "output_type": "execute_result"
        }
      ],
      "source": [
        "reg_one.isna().sum() #смотрим кол-во пропусков в каждом датасете"
      ]
    },
    {
      "cell_type": "code",
      "execution_count": null,
      "metadata": {
        "id": "XRXzhBuh_-Uy",
        "outputId": "1c75f99d-57b8-49d8-df9b-35d829760940"
      },
      "outputs": [
        {
          "name": "stdout",
          "output_type": "stream",
          "text": [
            "<class 'pandas.core.frame.DataFrame'>\n",
            "RangeIndex: 100000 entries, 0 to 99999\n",
            "Data columns (total 5 columns):\n",
            " #   Column   Non-Null Count   Dtype  \n",
            "---  ------   --------------   -----  \n",
            " 0   id       100000 non-null  object \n",
            " 1   f0       100000 non-null  float64\n",
            " 2   f1       100000 non-null  float64\n",
            " 3   f2       100000 non-null  float64\n",
            " 4   product  100000 non-null  float64\n",
            "dtypes: float64(4), object(1)\n",
            "memory usage: 3.8+ MB\n"
          ]
        }
      ],
      "source": [
        "reg_two.info()"
      ]
    },
    {
      "cell_type": "code",
      "execution_count": null,
      "metadata": {
        "id": "OCdIQPHX_-Uy",
        "outputId": "5dd649de-0a87-4feb-a4c6-f4fcd73c2806"
      },
      "outputs": [
        {
          "data": {
            "text/plain": [
              "id         0\n",
              "f0         0\n",
              "f1         0\n",
              "f2         0\n",
              "product    0\n",
              "dtype: int64"
            ]
          },
          "execution_count": 11,
          "metadata": {},
          "output_type": "execute_result"
        }
      ],
      "source": [
        "reg_two.isna().sum()"
      ]
    },
    {
      "cell_type": "code",
      "execution_count": null,
      "metadata": {
        "id": "9pSHNlql_-Uy",
        "outputId": "87d54ba5-3438-4747-ddeb-5c767dd8c109"
      },
      "outputs": [
        {
          "name": "stdout",
          "output_type": "stream",
          "text": [
            "<class 'pandas.core.frame.DataFrame'>\n",
            "RangeIndex: 100000 entries, 0 to 99999\n",
            "Data columns (total 5 columns):\n",
            " #   Column   Non-Null Count   Dtype  \n",
            "---  ------   --------------   -----  \n",
            " 0   id       100000 non-null  object \n",
            " 1   f0       100000 non-null  float64\n",
            " 2   f1       100000 non-null  float64\n",
            " 3   f2       100000 non-null  float64\n",
            " 4   product  100000 non-null  float64\n",
            "dtypes: float64(4), object(1)\n",
            "memory usage: 3.8+ MB\n"
          ]
        }
      ],
      "source": [
        "reg_three.info()"
      ]
    },
    {
      "cell_type": "code",
      "execution_count": null,
      "metadata": {
        "id": "qdPymFtY_-Uz",
        "outputId": "abeda54c-2551-4197-a47d-696ff0195765"
      },
      "outputs": [
        {
          "data": {
            "text/plain": [
              "id         0\n",
              "f0         0\n",
              "f1         0\n",
              "f2         0\n",
              "product    0\n",
              "dtype: int64"
            ]
          },
          "execution_count": 13,
          "metadata": {},
          "output_type": "execute_result"
        }
      ],
      "source": [
        "reg_three.isna().sum()"
      ]
    },
    {
      "cell_type": "code",
      "execution_count": null,
      "metadata": {
        "id": "oVwPtGUV_-Uz",
        "outputId": "b4711e98-9a15-43ec-b1ca-d849810014a6"
      },
      "outputs": [
        {
          "data": {
            "text/plain": [
              "10"
            ]
          },
          "execution_count": 14,
          "metadata": {},
          "output_type": "execute_result"
        }
      ],
      "source": [
        "reg_one['id'].duplicated().sum()"
      ]
    },
    {
      "cell_type": "code",
      "execution_count": null,
      "metadata": {
        "id": "WGbqmdZ5_-Uz",
        "outputId": "994514e5-f7dc-47ce-811d-fbba9e01611e"
      },
      "outputs": [
        {
          "data": {
            "text/plain": [
              "0        txEyH\n",
              "1        2acmU\n",
              "2        409Wp\n",
              "3        iJLyR\n",
              "4        Xdl7t\n",
              "         ...  \n",
              "99995    DLsed\n",
              "99996    QKivN\n",
              "99997    3rnvd\n",
              "99998    7kl59\n",
              "99999    1CWhH\n",
              "Name: id, Length: 99990, dtype: object"
            ]
          },
          "execution_count": 15,
          "metadata": {},
          "output_type": "execute_result"
        }
      ],
      "source": [
        "reg_one['id'].drop_duplicates()"
      ]
    },
    {
      "cell_type": "code",
      "execution_count": null,
      "metadata": {
        "id": "YmZNBpPf_-U0",
        "outputId": "a4296b4f-7279-4fdb-874f-df6f6f76bf4d"
      },
      "outputs": [
        {
          "data": {
            "text/plain": [
              "4"
            ]
          },
          "execution_count": 16,
          "metadata": {},
          "output_type": "execute_result"
        }
      ],
      "source": [
        "reg_two['id'].duplicated().sum()"
      ]
    },
    {
      "cell_type": "code",
      "execution_count": null,
      "metadata": {
        "id": "UHb9PJfS_-U0",
        "outputId": "936fd750-f766-480d-ef4b-1f2cf4c5e28a"
      },
      "outputs": [
        {
          "data": {
            "text/plain": [
              "0        kBEdx\n",
              "1        62mP7\n",
              "2        vyE1P\n",
              "3        KcrkZ\n",
              "4        AHL4O\n",
              "         ...  \n",
              "99995    QywKC\n",
              "99996    ptvty\n",
              "99997    09gWa\n",
              "99998    rqwUm\n",
              "99999    relB0\n",
              "Name: id, Length: 99996, dtype: object"
            ]
          },
          "execution_count": 17,
          "metadata": {},
          "output_type": "execute_result"
        }
      ],
      "source": [
        "reg_two['id'].drop_duplicates()"
      ]
    },
    {
      "cell_type": "code",
      "execution_count": null,
      "metadata": {
        "id": "cRItZ_ei_-U0",
        "outputId": "77070853-dda2-41d1-e31a-a84650ae8946"
      },
      "outputs": [
        {
          "data": {
            "text/plain": [
              "4"
            ]
          },
          "execution_count": 18,
          "metadata": {},
          "output_type": "execute_result"
        }
      ],
      "source": [
        "reg_three['id'].duplicated().sum()"
      ]
    },
    {
      "cell_type": "code",
      "execution_count": null,
      "metadata": {
        "id": "Go9Wtl9T_-U1",
        "outputId": "aeae9005-429a-4265-8322-95ac27c6c801"
      },
      "outputs": [
        {
          "data": {
            "text/plain": [
              "0        fwXo0\n",
              "1        WJtFt\n",
              "2        ovLUW\n",
              "3        q6cA6\n",
              "4        WPMUX\n",
              "         ...  \n",
              "99995    4GxBu\n",
              "99996    YKFjq\n",
              "99997    tKPY3\n",
              "99998    nmxp2\n",
              "99999    V9kWn\n",
              "Name: id, Length: 99996, dtype: object"
            ]
          },
          "execution_count": 19,
          "metadata": {},
          "output_type": "execute_result"
        }
      ],
      "source": [
        "reg_three['id'].drop_duplicates()"
      ]
    },
    {
      "cell_type": "code",
      "execution_count": null,
      "metadata": {
        "id": "enBMK0Hj_-U1"
      },
      "outputs": [],
      "source": [
        "reg_one.drop(columns=['id'], axis =1, inplace= True)"
      ]
    },
    {
      "cell_type": "code",
      "execution_count": null,
      "metadata": {
        "id": "5HzsTovu_-U1"
      },
      "outputs": [],
      "source": [
        "reg_two.drop(columns=['id'], axis =1, inplace= True)"
      ]
    },
    {
      "cell_type": "code",
      "execution_count": null,
      "metadata": {
        "id": "H9Mtygbk_-U1"
      },
      "outputs": [],
      "source": [
        "reg_three.drop(columns=['id'], axis =1, inplace= True)"
      ]
    },
    {
      "cell_type": "code",
      "execution_count": null,
      "metadata": {
        "id": "KxgFRcTZ_-U1",
        "outputId": "5a9bd844-1b43-40ef-c1a6-fc3a27279947"
      },
      "outputs": [
        {
          "name": "stdout",
          "output_type": "stream",
          "text": [
            "<class 'pandas.core.frame.DataFrame'>\n",
            "RangeIndex: 100000 entries, 0 to 99999\n",
            "Data columns (total 4 columns):\n",
            " #   Column   Non-Null Count   Dtype  \n",
            "---  ------   --------------   -----  \n",
            " 0   f0       100000 non-null  float64\n",
            " 1   f1       100000 non-null  float64\n",
            " 2   f2       100000 non-null  float64\n",
            " 3   product  100000 non-null  float64\n",
            "dtypes: float64(4)\n",
            "memory usage: 3.1 MB\n"
          ]
        }
      ],
      "source": [
        "reg_one.info()"
      ]
    },
    {
      "cell_type": "markdown",
      "metadata": {
        "id": "AXXoeMpx_-U2"
      },
      "source": [
        "Сделали выгрузку данных, пропусков в данных нет. Избавились от дубликатов в колонке id  и удалили ее  в каждом датасете, т.к. для обучения модели не понадобится."
      ]
    },
    {
      "cell_type": "markdown",
      "metadata": {
        "id": "Qf5GvAIP_-U3"
      },
      "source": [
        "### Определим целевой признак"
      ]
    },
    {
      "cell_type": "code",
      "execution_count": null,
      "metadata": {
        "id": "USC9jny2_-U3"
      },
      "outputs": [],
      "source": [
        "reg_one_features = reg_one.drop(['product'], axis = 1)\n",
        "reg_one_target = reg_one['product']\n",
        "reg_two_features = reg_two.drop(['product'], axis = 1)\n",
        "reg_two_target = reg_two['product']\n",
        "reg_three_features = reg_three.drop(['product'], axis = 1)\n",
        "reg_three_target = reg_three['product']"
      ]
    },
    {
      "cell_type": "markdown",
      "metadata": {
        "id": "Gx0es_x7_-U3"
      },
      "source": [
        "## Обучение и проверка модели"
      ]
    },
    {
      "cell_type": "markdown",
      "metadata": {
        "id": "GXF2epe__-U3"
      },
      "source": [
        "### Разделим выборки на обучающую и валидационную"
      ]
    },
    {
      "cell_type": "code",
      "execution_count": null,
      "metadata": {
        "id": "0mL8cJH4_-U3"
      },
      "outputs": [],
      "source": [
        "one_features_train, one_features_valid, one_target_train, one_target_valid = train_test_split(reg_one_features,\n",
        "                                                                                             reg_one_target,\n",
        "                                                                                             test_size = 0.25,\n",
        "                                                                                             random_state = 12345)\n",
        "\n",
        "two_features_train, two_features_valid, two_target_train, two_target_valid = train_test_split(reg_two_features,\n",
        "                                                                                             reg_two_target,\n",
        "                                                                                             test_size = 0.25,\n",
        "                                                                                             random_state = 12345)\n",
        "\n",
        "three_features_train, three_features_valid, three_target_train, three_target_valid = train_test_split(reg_three_features,\n",
        "                                                                                                     reg_three_target,\n",
        "                                                                                                     test_size = 0.25,\n",
        "                                                                                                     random_state = 12345)"
      ]
    },
    {
      "cell_type": "code",
      "execution_count": null,
      "metadata": {
        "id": "aF2qyrOo_-U4"
      },
      "outputs": [],
      "source": [
        "model = LinearRegression()"
      ]
    },
    {
      "cell_type": "markdown",
      "metadata": {
        "id": "jcPVQU00_-U4"
      },
      "source": [
        "### Обучаем модель на данных 1-го региона"
      ]
    },
    {
      "cell_type": "code",
      "execution_count": null,
      "metadata": {
        "id": "CIEy73zl_-U4",
        "outputId": "66fb1212-ed1b-4570-9076-d7c59a9c287a"
      },
      "outputs": [
        {
          "name": "stdout",
          "output_type": "stream",
          "text": [
            "Средний запас предсказанного сырья: 92.59256778438035, RMSE = 37.5794217150813\n"
          ]
        }
      ],
      "source": [
        "model.fit(one_features_train, one_target_train)\n",
        "predictions_one = model.predict(one_features_valid)\n",
        "mse_one = mean_squared_error(one_target_valid, predictions_one)\n",
        "rmse_one = mse_one**0.5\n",
        "one_mean = predictions_one.mean()\n",
        "print(f'Средний запас предсказанного сырья: {one_mean}, RMSE = {rmse_one}')"
      ]
    },
    {
      "cell_type": "markdown",
      "metadata": {
        "id": "Ffs4oH7c_-U4"
      },
      "source": [
        "### Обучаем модель на данных 2-го региона"
      ]
    },
    {
      "cell_type": "code",
      "execution_count": null,
      "metadata": {
        "id": "vdt2VlFc_-U4"
      },
      "outputs": [],
      "source": [
        "model = LinearRegression()"
      ]
    },
    {
      "cell_type": "code",
      "execution_count": null,
      "metadata": {
        "id": "HVdRgq73_-U5",
        "outputId": "8e26eb60-c307-4af6-8397-e3e8681e1aa1"
      },
      "outputs": [
        {
          "name": "stdout",
          "output_type": "stream",
          "text": [
            "Средний запас предсказанного сырья: 68.728546895446, RMSE = 0.893099286775617\n"
          ]
        }
      ],
      "source": [
        "model.fit(two_features_train, two_target_train)\n",
        "predictions_two = model.predict(two_features_valid)\n",
        "mse_two = mean_squared_error(two_target_valid, predictions_two)\n",
        "rmse_two = mse_two**0.5\n",
        "two_mean = predictions_two.mean()\n",
        "print(f'Средний запас предсказанного сырья: {two_mean}, RMSE = {rmse_two}')"
      ]
    },
    {
      "cell_type": "markdown",
      "metadata": {
        "id": "3Ozs7V2F_-U5"
      },
      "source": [
        "### Обучаем модель на данных 3-го региона"
      ]
    },
    {
      "cell_type": "code",
      "execution_count": null,
      "metadata": {
        "id": "1yf9wqCR_-U5",
        "outputId": "096ff066-f797-4b27-a47b-3edfc31dd81e"
      },
      "outputs": [
        {
          "name": "stdout",
          "output_type": "stream",
          "text": [
            "Средний запас предсказанного сырья: 94.96504596800489, RMSE = 40.02970873393434\n"
          ]
        }
      ],
      "source": [
        "model.fit(three_features_train, three_target_train)\n",
        "predictions_three = model.predict(three_features_valid)\n",
        "mse_three = mean_squared_error(three_target_valid, predictions_three)\n",
        "rmse_three = mse_three**0.5\n",
        "three_mean = predictions_three.mean()\n",
        "print(f'Средний запас предсказанного сырья: {three_mean}, RMSE = {rmse_three}')"
      ]
    },
    {
      "cell_type": "markdown",
      "metadata": {
        "id": "zKqaq99s_-U6"
      },
      "source": [
        "Мы обучили модель на данных трех регионов:\n",
        "\n",
        "Регион 1: Средний запас предсказанного сырья: 92.59256778438035, RMSE = 37.5794217150813\n",
        "\n",
        "Регион 2: Средний запас предсказанного сырья: 68.728546895446, RMSE = 0.893099286775617\n",
        "\n",
        "Регион 3: Средний запас предсказанного сырья: 94.96504596800489, RMSE = 40.02970873393434\n",
        "\n",
        "Средний запас предсказанного сырья больше всего у 1-го и 3-го региона, среднеквадратичная ошибка у 1-го региона меньше"
      ]
    },
    {
      "cell_type": "markdown",
      "metadata": {
        "id": "H_OlT4Am_-U6"
      },
      "source": [
        "## Подготовка к расчёту прибыли"
      ]
    },
    {
      "cell_type": "markdown",
      "metadata": {
        "id": "WZVKIcF6_-U6"
      },
      "source": [
        "### Определяем необходимые для расчета константы"
      ]
    },
    {
      "cell_type": "code",
      "execution_count": null,
      "metadata": {
        "id": "Bj2kU0Yy_-U6"
      },
      "outputs": [],
      "source": [
        "reg_budget = 10000000000 #Бюджет на разработку скважин в каждом регионе\n",
        "one_barel_income = 450 #доход с одного барелля\n",
        "income_per_unit = 450000   # доход с каждой единицы продукта\n",
        "mines = 200 # количество наилучших шахт для разработки"
      ]
    },
    {
      "cell_type": "markdown",
      "metadata": {
        "id": "nn7RMogP_-U7"
      },
      "source": [
        "### Считаем достаточный объем сырья для разработки"
      ]
    },
    {
      "cell_type": "code",
      "execution_count": null,
      "metadata": {
        "id": "1m8vH1Ay_-U8",
        "outputId": "3ca58092-ad96-4556-9026-b292480430f7"
      },
      "outputs": [
        {
          "name": "stdout",
          "output_type": "stream",
          "text": [
            "111.11\n"
          ]
        }
      ],
      "source": [
        "reg_develop = reg_budget/income_per_unit\n",
        "volume = reg_develop/mines\n",
        "print(round(volume, 2))"
      ]
    },
    {
      "cell_type": "markdown",
      "metadata": {
        "id": "_MCKIASZ_-U8"
      },
      "source": [
        "### Сравниваем достаточный объем добычи со средним объемом предсказанного сырья"
      ]
    },
    {
      "cell_type": "code",
      "execution_count": null,
      "metadata": {
        "id": "MbLApIz1_-U8",
        "outputId": "4057073d-22c1-405e-9d14-0d4a34364283"
      },
      "outputs": [
        {
          "name": "stdout",
          "output_type": "stream",
          "text": [
            "Средний предсказанный объем в регионе 1 меньше достаточного объема на 18.52\n",
            "Средний предсказанный объем в регионе 2 меньше достаточного объема на 42.38\n",
            "Средний предсказанный объем в регионе 3 меньше достаточного объема на 16.15\n"
          ]
        }
      ],
      "source": [
        "mean_pred_volume = [one_mean, two_mean, three_mean]\n",
        "regions = [1,2,3]\n",
        "def volume_comp(mean_pred_volume):\n",
        "    for i in range(len(mean_pred_volume)):\n",
        "        if mean_pred_volume[i] < volume:\n",
        "            print('Средний предсказанный объем в регионе', regions[i], 'меньше достаточного объема на'\n",
        "                  , round(volume - mean_pred_volume[i],2 ))\n",
        "        else:\n",
        "            print('Средний предсказанный объем в регионе', regions[i], 'больше достаточного объема на',\n",
        "                  round(mean_pred_volume[i] - volume,2))\n",
        "volume_comp(mean_pred_volume)            \n",
        "    "
      ]
    },
    {
      "cell_type": "markdown",
      "metadata": {
        "id": "XgdQ7n2P_-U9"
      },
      "source": [
        "Мы расчитали достаточный объем сырья для разработки.\n",
        "Сравнили  средние предсказанные запасы сырья в каждом регионе с достаточным объем добычи сырья для разработки, во всех трех регионах запасы меньше, чем нужно для безубыточной разработки. Меньше всего разница с достаточным объемом у 3-го региона, самая большая у 2-го региона"
      ]
    },
    {
      "cell_type": "markdown",
      "metadata": {
        "id": "QKBQnHOW_-U9"
      },
      "source": [
        "## Напишите функцию для расчёта прибыли по выбранным скважинам и предсказаниям модели:"
      ]
    },
    {
      "cell_type": "markdown",
      "metadata": {
        "id": "OQBoHDxj_-U9"
      },
      "source": [
        "### Напишем функцию, которая выбирает скважины с максимальными значениями предсказаний и просуммируем целевые значения по этим предсказания"
      ]
    },
    {
      "cell_type": "code",
      "execution_count": null,
      "metadata": {
        "id": "MP_Kg_t2_-U-"
      },
      "outputs": [],
      "source": [
        "def revenue(target,predictions):\n",
        "    target = pd.Series(target).reset_index(drop = True)\n",
        "    predictions = pd.Series(predictions).reset_index(drop = True)\n",
        "    max_predictions = predictions.sort_values(ascending = False)[:mines].index\n",
        "    selected = target[max_predictions]\n",
        "    revenue = selected.sum()*income_per_unit - reg_budget\n",
        "    return(revenue)\n"
      ]
    },
    {
      "cell_type": "markdown",
      "metadata": {
        "id": "3soC764i_-U-"
      },
      "source": [
        "### Считаем прибыль для полученного объема сырья"
      ]
    },
    {
      "cell_type": "code",
      "execution_count": null,
      "metadata": {
        "id": "D5zaIRQc_-U_",
        "outputId": "ce5e6fd3-1763-4240-ad83-b833b4e50dd9"
      },
      "outputs": [
        {
          "name": "stdout",
          "output_type": "stream",
          "text": [
            "3320826043.1398506\n",
            "2415086696.681511\n",
            "2710349963.5998325\n"
          ]
        }
      ],
      "source": [
        "print(revenue(one_target_valid, predictions_one))   \n",
        "print(revenue(two_target_valid, predictions_two))\n",
        "print(revenue(three_target_valid, predictions_three))"
      ]
    },
    {
      "cell_type": "markdown",
      "metadata": {
        "id": "_Uogi6zX_-U_"
      },
      "source": [
        "##  Посчитайте риски и прибыль для каждого региона:"
      ]
    },
    {
      "cell_type": "code",
      "execution_count": null,
      "metadata": {
        "id": "J3nq5DX8_-U_"
      },
      "outputs": [],
      "source": [
        "def boot(target,probabilities):\n",
        "    state = np.random.RandomState(12345)\n",
        "    values = []\n",
        "    for i in range(1000):\n",
        "        target_subsample = target.sample(n= 500, random_state=state, replace = True)\n",
        "        probs_subsample = probabilities[target_subsample.index]\n",
        "        values.append(revenue(target_subsample, probs_subsample))\n",
        "    \n",
        "    values = pd.Series(values)\n",
        "    mean_values = values.mean()\n",
        "    lower= values.quantile(0.025)\n",
        "    upper = values.quantile(0.975)\n",
        "    confidence_interval = st.t.interval(0.95, len(values)-1, loc=values.mean(), scale = values.sem())\n",
        "    risk = (values < 0).mean()\n",
        "    return round(mean_values,2), confidence_interval, round(risk*100, 2)"
      ]
    },
    {
      "cell_type": "code",
      "execution_count": null,
      "metadata": {
        "id": "qUuoEnlC_-VB",
        "outputId": "8314bf4f-ac06-42d3-e615-298bdd684792"
      },
      "outputs": [
        {
          "name": "stdout",
          "output_type": "stream",
          "text": [
            "Регион №1\n",
            "Средняя прибыль в регионе : 396164984.8\n",
            "Доверительный интервал в регионе: (379620315.1479725, 412709654.45676965)\n",
            "Риск убытков 6.9 %\n"
          ]
        }
      ],
      "source": [
        "one_mean_values, one_interval, one_risk = boot(one_target_valid.reset_index(drop=True), predictions_one)\n",
        "print('Регион №1')\n",
        "print('Средняя прибыль в регионе :', one_mean_values)\n",
        "print('Доверительный интервал в регионе:', one_interval)\n",
        "print('Риск убытков', one_risk,'%')"
      ]
    },
    {
      "cell_type": "code",
      "execution_count": null,
      "metadata": {
        "id": "Hzniwbgc_-VB",
        "outputId": "a05a2b29-5001-4656-8f44-7a980d004b66"
      },
      "outputs": [
        {
          "name": "stdout",
          "output_type": "stream",
          "text": [
            "Регион №2\n",
            "Средняя прибыль в регионе : 456045105.79\n",
            "Доверительный интервал в регионе: (443147248.66390055, 468942962.909421)\n",
            "Риск убытков 1.5\n"
          ]
        }
      ],
      "source": [
        "two_mean_values, two_interval, two_risk = boot(two_target_valid.reset_index(drop=True), predictions_two)\n",
        "print('Регион №2')\n",
        "print('Средняя прибыль в регионе :', two_mean_values)\n",
        "print('Доверительный интервал в регионе:', two_interval)\n",
        "print('Риск убытков', two_risk)"
      ]
    },
    {
      "cell_type": "code",
      "execution_count": null,
      "metadata": {
        "id": "Y_sgDSWk_-VC",
        "outputId": "1c70891a-0c95-49b3-e0de-a6a2b379207c"
      },
      "outputs": [
        {
          "name": "stdout",
          "output_type": "stream",
          "text": [
            "Регион №1\n",
            "Средняя прибыль в регионе : 404403866.57\n",
            "Доверительный интервал в регионе: (387445797.4712804, 421361935.6654332)\n",
            "Риск убытков 7.6 %\n"
          ]
        }
      ],
      "source": [
        "three_mean_values, three_interval, three_risk = boot(three_target_valid.reset_index(drop=True), predictions_three)\n",
        "print('Регион №3')\n",
        "print('Средняя прибыль в регионе :', three_mean_values)\n",
        "print('Доверительный интервал в регионе:', three_interval)\n",
        "print('Риск убытков', three_risk,'%')"
      ]
    },
    {
      "cell_type": "markdown",
      "metadata": {
        "id": "rEpYssFv_-VC"
      },
      "source": [
        "Исходя из результатов самым рентабельным регионом оказался регион №2, средняя выручка составляет 456045105.79 млн.руб, риск убытков меньше всего - 1,5%. "
      ]
    },
    {
      "cell_type": "markdown",
      "metadata": {
        "id": "B9Yf_FGs_-VC"
      },
      "source": [
        "### Общий вывод"
      ]
    },
    {
      "cell_type": "markdown",
      "metadata": {
        "id": "Ts0led5m_-VC"
      },
      "source": [
        "Общий вывод: Мы проанализировали данные по добыче нефти по трем регионам. Построили и обучили модель линейной регрессии, сделали предсказания на валидационной выборке, и получили средний предсказанный объем по добыче. Затем сравнили объем добычи нефти для безубыточной разработки и сравнили его со средним предсказанным объемом, преимущество оказалось у региона №3. Далее мы посчитали прибыль и риск убытков на выбранных скважинах по каждому региону и получили, что самым перспективным регионом является третий регион со средней выручкой в 456045105.79 млн.руб и 1.5% риском убытков. Нефтяной компании следует обратить свое внимание на данный регион и инвестировать в него."
      ]
    }
  ],
  "metadata": {
    "ExecuteTimeLog": [
      {
        "duration": 48,
        "start_time": "2022-12-06T15:53:51.371Z"
      },
      {
        "duration": 992,
        "start_time": "2022-12-06T15:54:19.306Z"
      },
      {
        "duration": 614,
        "start_time": "2022-12-06T15:55:37.647Z"
      },
      {
        "duration": 17,
        "start_time": "2022-12-06T15:55:47.217Z"
      },
      {
        "duration": 16,
        "start_time": "2022-12-06T15:55:55.573Z"
      },
      {
        "duration": 8,
        "start_time": "2022-12-06T15:56:51.303Z"
      },
      {
        "duration": 9,
        "start_time": "2022-12-06T15:56:57.207Z"
      },
      {
        "duration": 9,
        "start_time": "2022-12-06T15:57:12.668Z"
      },
      {
        "duration": 15,
        "start_time": "2022-12-06T15:57:35.919Z"
      },
      {
        "duration": 10,
        "start_time": "2022-12-06T15:57:51.258Z"
      },
      {
        "duration": 15,
        "start_time": "2022-12-06T15:57:59.482Z"
      },
      {
        "duration": 10,
        "start_time": "2022-12-06T15:58:19.329Z"
      },
      {
        "duration": 17,
        "start_time": "2022-12-06T15:58:28.853Z"
      },
      {
        "duration": 12,
        "start_time": "2022-12-06T15:58:41.507Z"
      },
      {
        "duration": 42,
        "start_time": "2022-12-06T16:00:53.843Z"
      },
      {
        "duration": 17,
        "start_time": "2022-12-06T16:01:08.501Z"
      },
      {
        "duration": 53,
        "start_time": "2022-12-06T16:01:29.062Z"
      },
      {
        "duration": 14,
        "start_time": "2022-12-06T16:02:01.352Z"
      },
      {
        "duration": 10,
        "start_time": "2022-12-06T16:02:19.009Z"
      },
      {
        "duration": 93,
        "start_time": "2022-12-06T16:03:32.400Z"
      },
      {
        "duration": 16,
        "start_time": "2022-12-06T16:03:50.788Z"
      },
      {
        "duration": 18,
        "start_time": "2022-12-06T16:05:29.288Z"
      },
      {
        "duration": 17,
        "start_time": "2022-12-06T16:05:59.598Z"
      },
      {
        "duration": 16,
        "start_time": "2022-12-06T16:06:22.519Z"
      },
      {
        "duration": 17,
        "start_time": "2022-12-06T16:06:51.247Z"
      },
      {
        "duration": 18,
        "start_time": "2022-12-06T16:07:11.104Z"
      },
      {
        "duration": 7,
        "start_time": "2022-12-06T16:08:31.081Z"
      },
      {
        "duration": 12,
        "start_time": "2022-12-06T16:08:37.034Z"
      },
      {
        "duration": 8,
        "start_time": "2022-12-06T16:08:48.230Z"
      },
      {
        "duration": 8,
        "start_time": "2022-12-06T16:08:56.436Z"
      },
      {
        "duration": 8,
        "start_time": "2022-12-06T16:08:59.135Z"
      },
      {
        "duration": 8,
        "start_time": "2022-12-06T16:09:09.112Z"
      },
      {
        "duration": 6,
        "start_time": "2022-12-06T16:11:11.168Z"
      },
      {
        "duration": 6,
        "start_time": "2022-12-06T16:11:33.569Z"
      },
      {
        "duration": 9,
        "start_time": "2022-12-06T16:11:49.559Z"
      },
      {
        "duration": 10,
        "start_time": "2022-12-06T16:11:52.782Z"
      },
      {
        "duration": 8,
        "start_time": "2022-12-06T16:12:22.796Z"
      },
      {
        "duration": 8,
        "start_time": "2022-12-06T16:13:41.872Z"
      },
      {
        "duration": 12,
        "start_time": "2022-12-06T16:35:25.380Z"
      },
      {
        "duration": 12,
        "start_time": "2022-12-06T16:35:42.257Z"
      },
      {
        "duration": 37,
        "start_time": "2022-12-06T16:35:45.764Z"
      },
      {
        "duration": 4,
        "start_time": "2022-12-06T16:36:56.553Z"
      },
      {
        "duration": 2,
        "start_time": "2022-12-06T16:38:12.230Z"
      },
      {
        "duration": 10,
        "start_time": "2022-12-06T16:49:32.609Z"
      },
      {
        "duration": 2,
        "start_time": "2022-12-06T16:49:37.998Z"
      },
      {
        "duration": 9,
        "start_time": "2022-12-06T16:49:39.905Z"
      },
      {
        "duration": 35,
        "start_time": "2022-12-06T16:55:32.003Z"
      },
      {
        "duration": 2,
        "start_time": "2022-12-06T16:55:34.214Z"
      },
      {
        "duration": 8,
        "start_time": "2022-12-06T16:55:37.768Z"
      },
      {
        "duration": 9,
        "start_time": "2022-12-06T16:56:33.902Z"
      },
      {
        "duration": 2,
        "start_time": "2022-12-06T16:57:29.219Z"
      },
      {
        "duration": 8,
        "start_time": "2022-12-06T16:57:31.007Z"
      },
      {
        "duration": 3,
        "start_time": "2022-12-06T16:57:54.551Z"
      },
      {
        "duration": 14,
        "start_time": "2022-12-06T16:57:59.778Z"
      },
      {
        "duration": 29,
        "start_time": "2022-12-06T16:59:40.921Z"
      },
      {
        "duration": 34,
        "start_time": "2022-12-06T17:00:59.531Z"
      },
      {
        "duration": 7,
        "start_time": "2022-12-06T17:01:30.234Z"
      },
      {
        "duration": 13,
        "start_time": "2022-12-06T17:01:32.197Z"
      },
      {
        "duration": 3,
        "start_time": "2022-12-06T17:01:53.443Z"
      },
      {
        "duration": 344,
        "start_time": "2022-12-06T17:01:53.793Z"
      },
      {
        "duration": 9,
        "start_time": "2022-12-06T17:01:54.138Z"
      },
      {
        "duration": 9,
        "start_time": "2022-12-06T17:01:54.232Z"
      },
      {
        "duration": 9,
        "start_time": "2022-12-06T17:01:54.421Z"
      },
      {
        "duration": 13,
        "start_time": "2022-12-06T17:01:54.601Z"
      },
      {
        "duration": 10,
        "start_time": "2022-12-06T17:01:54.779Z"
      },
      {
        "duration": 16,
        "start_time": "2022-12-06T17:01:54.953Z"
      },
      {
        "duration": 14,
        "start_time": "2022-12-06T17:01:55.161Z"
      },
      {
        "duration": 19,
        "start_time": "2022-12-06T17:01:55.391Z"
      },
      {
        "duration": 14,
        "start_time": "2022-12-06T17:01:55.543Z"
      },
      {
        "duration": 16,
        "start_time": "2022-12-06T17:01:55.691Z"
      },
      {
        "duration": 18,
        "start_time": "2022-12-06T17:01:55.872Z"
      },
      {
        "duration": 15,
        "start_time": "2022-12-06T17:01:56.084Z"
      },
      {
        "duration": 14,
        "start_time": "2022-12-06T17:01:57.749Z"
      },
      {
        "duration": 17,
        "start_time": "2022-12-06T17:01:58.932Z"
      },
      {
        "duration": 16,
        "start_time": "2022-12-06T17:01:59.652Z"
      },
      {
        "duration": 5,
        "start_time": "2022-12-06T17:02:02.219Z"
      },
      {
        "duration": 5,
        "start_time": "2022-12-06T17:02:02.772Z"
      },
      {
        "duration": 6,
        "start_time": "2022-12-06T17:02:03.532Z"
      },
      {
        "duration": 10,
        "start_time": "2022-12-06T17:02:04.818Z"
      },
      {
        "duration": 12,
        "start_time": "2022-12-06T17:02:07.242Z"
      },
      {
        "duration": 27,
        "start_time": "2022-12-06T17:02:11.785Z"
      },
      {
        "duration": 3,
        "start_time": "2022-12-06T17:02:12.586Z"
      },
      {
        "duration": 14,
        "start_time": "2022-12-06T17:02:37.847Z"
      },
      {
        "duration": 8,
        "start_time": "2022-12-06T17:03:19.865Z"
      },
      {
        "duration": 2,
        "start_time": "2022-12-06T17:03:59.096Z"
      },
      {
        "duration": 19,
        "start_time": "2022-12-06T17:04:01.361Z"
      },
      {
        "duration": 3,
        "start_time": "2022-12-06T17:04:45.234Z"
      },
      {
        "duration": 13,
        "start_time": "2022-12-06T17:08:31.318Z"
      },
      {
        "duration": 4,
        "start_time": "2022-12-06T17:56:35.303Z"
      },
      {
        "duration": 4,
        "start_time": "2022-12-06T17:58:57.573Z"
      },
      {
        "duration": 50,
        "start_time": "2022-12-07T17:41:37.845Z"
      },
      {
        "duration": 6,
        "start_time": "2022-12-07T17:41:50.628Z"
      },
      {
        "duration": 1098,
        "start_time": "2022-12-07T17:42:00.771Z"
      },
      {
        "duration": 2527,
        "start_time": "2022-12-07T17:42:01.873Z"
      },
      {
        "duration": 17,
        "start_time": "2022-12-07T17:42:04.402Z"
      },
      {
        "duration": 8,
        "start_time": "2022-12-07T17:42:04.421Z"
      },
      {
        "duration": 12,
        "start_time": "2022-12-07T17:42:04.431Z"
      },
      {
        "duration": 21,
        "start_time": "2022-12-07T17:42:04.444Z"
      },
      {
        "duration": 11,
        "start_time": "2022-12-07T17:42:04.468Z"
      },
      {
        "duration": 41,
        "start_time": "2022-12-07T17:42:04.481Z"
      },
      {
        "duration": 10,
        "start_time": "2022-12-07T17:42:04.523Z"
      },
      {
        "duration": 15,
        "start_time": "2022-12-07T17:42:04.536Z"
      },
      {
        "duration": 8,
        "start_time": "2022-12-07T17:42:04.553Z"
      },
      {
        "duration": 60,
        "start_time": "2022-12-07T17:42:04.563Z"
      },
      {
        "duration": 20,
        "start_time": "2022-12-07T17:42:04.624Z"
      },
      {
        "duration": 19,
        "start_time": "2022-12-07T17:42:04.646Z"
      },
      {
        "duration": 46,
        "start_time": "2022-12-07T17:42:04.667Z"
      },
      {
        "duration": 18,
        "start_time": "2022-12-07T17:42:04.715Z"
      },
      {
        "duration": 25,
        "start_time": "2022-12-07T17:42:04.734Z"
      },
      {
        "duration": 7,
        "start_time": "2022-12-07T17:42:04.761Z"
      },
      {
        "duration": 9,
        "start_time": "2022-12-07T17:42:04.770Z"
      },
      {
        "duration": 35,
        "start_time": "2022-12-07T17:42:04.781Z"
      },
      {
        "duration": 10,
        "start_time": "2022-12-07T17:42:06.784Z"
      },
      {
        "duration": 11,
        "start_time": "2022-12-07T17:42:09.974Z"
      },
      {
        "duration": 34,
        "start_time": "2022-12-07T17:42:10.432Z"
      },
      {
        "duration": 2,
        "start_time": "2022-12-07T17:42:10.591Z"
      },
      {
        "duration": 24,
        "start_time": "2022-12-07T17:42:10.915Z"
      },
      {
        "duration": 3,
        "start_time": "2022-12-07T17:42:11.303Z"
      },
      {
        "duration": 21,
        "start_time": "2022-12-07T17:42:11.468Z"
      },
      {
        "duration": 67,
        "start_time": "2022-12-07T17:42:11.873Z"
      },
      {
        "duration": 3,
        "start_time": "2022-12-07T17:42:13.782Z"
      },
      {
        "duration": 3,
        "start_time": "2022-12-07T17:42:16.373Z"
      },
      {
        "duration": 9,
        "start_time": "2022-12-07T17:42:17.952Z"
      },
      {
        "duration": 9,
        "start_time": "2022-12-07T17:42:29.412Z"
      },
      {
        "duration": 11,
        "start_time": "2022-12-07T17:43:41.487Z"
      },
      {
        "duration": 2,
        "start_time": "2022-12-07T17:43:43.998Z"
      },
      {
        "duration": 23,
        "start_time": "2022-12-07T17:43:45.803Z"
      },
      {
        "duration": 16,
        "start_time": "2022-12-07T17:43:59.098Z"
      },
      {
        "duration": 18,
        "start_time": "2022-12-07T17:44:04.569Z"
      },
      {
        "duration": 9,
        "start_time": "2022-12-07T17:44:14.432Z"
      },
      {
        "duration": 9,
        "start_time": "2022-12-07T17:44:32.930Z"
      },
      {
        "duration": 3,
        "start_time": "2022-12-07T17:44:38.884Z"
      },
      {
        "duration": 9,
        "start_time": "2022-12-07T17:44:40.886Z"
      },
      {
        "duration": 9,
        "start_time": "2022-12-07T17:44:55.225Z"
      },
      {
        "duration": 44,
        "start_time": "2022-12-07T17:49:42.834Z"
      },
      {
        "duration": 3,
        "start_time": "2022-12-07T18:00:06.704Z"
      },
      {
        "duration": 5,
        "start_time": "2022-12-07T18:01:16.416Z"
      },
      {
        "duration": 11,
        "start_time": "2022-12-07T18:01:32.880Z"
      },
      {
        "duration": 15,
        "start_time": "2022-12-07T18:01:51.200Z"
      },
      {
        "duration": 5,
        "start_time": "2022-12-07T18:02:11.231Z"
      },
      {
        "duration": 15,
        "start_time": "2022-12-07T18:03:39.792Z"
      },
      {
        "duration": 7,
        "start_time": "2022-12-07T18:03:54.750Z"
      },
      {
        "duration": 6,
        "start_time": "2022-12-07T18:04:13.779Z"
      },
      {
        "duration": 7,
        "start_time": "2022-12-07T18:04:24.084Z"
      },
      {
        "duration": 3,
        "start_time": "2022-12-07T18:05:50.567Z"
      },
      {
        "duration": 6,
        "start_time": "2022-12-07T18:05:53.321Z"
      },
      {
        "duration": 5,
        "start_time": "2022-12-07T18:19:45.299Z"
      },
      {
        "duration": 20,
        "start_time": "2022-12-07T18:46:38.511Z"
      },
      {
        "duration": 17,
        "start_time": "2022-12-07T18:46:53.244Z"
      },
      {
        "duration": 16,
        "start_time": "2022-12-07T18:46:59.942Z"
      },
      {
        "duration": 17,
        "start_time": "2022-12-07T18:48:07.047Z"
      },
      {
        "duration": 3,
        "start_time": "2022-12-07T18:48:09.501Z"
      },
      {
        "duration": 3,
        "start_time": "2022-12-07T18:52:18.004Z"
      },
      {
        "duration": 5,
        "start_time": "2022-12-07T19:26:07.684Z"
      },
      {
        "duration": 9,
        "start_time": "2022-12-07T19:31:14.528Z"
      },
      {
        "duration": 12,
        "start_time": "2022-12-07T19:31:27.276Z"
      },
      {
        "duration": 5,
        "start_time": "2022-12-07T19:31:57.142Z"
      },
      {
        "duration": 13,
        "start_time": "2022-12-07T19:32:02.258Z"
      },
      {
        "duration": 4,
        "start_time": "2022-12-07T19:32:38.227Z"
      },
      {
        "duration": 747,
        "start_time": "2022-12-07T19:32:40.373Z"
      },
      {
        "duration": 5,
        "start_time": "2022-12-07T19:34:19.703Z"
      },
      {
        "duration": 6514,
        "start_time": "2022-12-07T19:34:22.068Z"
      },
      {
        "duration": 5,
        "start_time": "2022-12-07T19:34:49.045Z"
      },
      {
        "duration": 6182,
        "start_time": "2022-12-07T19:34:52.598Z"
      },
      {
        "duration": 6,
        "start_time": "2022-12-07T19:35:34.743Z"
      },
      {
        "duration": 4504,
        "start_time": "2022-12-07T19:35:39.324Z"
      },
      {
        "duration": 4,
        "start_time": "2022-12-07T19:37:01.486Z"
      },
      {
        "duration": 4423,
        "start_time": "2022-12-07T19:37:04.813Z"
      },
      {
        "duration": 5,
        "start_time": "2022-12-07T19:37:45.371Z"
      },
      {
        "duration": 9,
        "start_time": "2022-12-07T19:37:47.292Z"
      },
      {
        "duration": 8,
        "start_time": "2022-12-07T19:46:14.426Z"
      },
      {
        "duration": 4,
        "start_time": "2022-12-07T19:46:43.807Z"
      },
      {
        "duration": 10,
        "start_time": "2022-12-07T19:46:46.366Z"
      },
      {
        "duration": 10,
        "start_time": "2022-12-07T19:48:28.451Z"
      },
      {
        "duration": 5,
        "start_time": "2022-12-07T19:49:21.022Z"
      },
      {
        "duration": 957,
        "start_time": "2022-12-07T19:49:22.779Z"
      },
      {
        "duration": 931,
        "start_time": "2022-12-07T19:49:49.468Z"
      },
      {
        "duration": 950,
        "start_time": "2022-12-07T19:49:53.117Z"
      },
      {
        "duration": 975,
        "start_time": "2022-12-07T19:50:43.993Z"
      },
      {
        "duration": 969,
        "start_time": "2022-12-07T19:50:51.949Z"
      },
      {
        "duration": 1184,
        "start_time": "2022-12-10T16:57:05.457Z"
      },
      {
        "duration": 10,
        "start_time": "2022-12-10T16:57:32.884Z"
      },
      {
        "duration": 9,
        "start_time": "2022-12-10T17:00:21.612Z"
      },
      {
        "duration": 8,
        "start_time": "2022-12-10T17:01:29.530Z"
      }
    ],
    "kernelspec": {
      "display_name": "Python 3 (ipykernel)",
      "language": "python",
      "name": "python3"
    },
    "language_info": {
      "codemirror_mode": {
        "name": "ipython",
        "version": 3
      },
      "file_extension": ".py",
      "mimetype": "text/x-python",
      "name": "python",
      "nbconvert_exporter": "python",
      "pygments_lexer": "ipython3",
      "version": "3.9.5"
    },
    "toc": {
      "base_numbering": 1,
      "nav_menu": {},
      "number_sections": true,
      "sideBar": true,
      "skip_h1_title": true,
      "title_cell": "Table of Contents",
      "title_sidebar": "Contents",
      "toc_cell": false,
      "toc_position": {},
      "toc_section_display": true,
      "toc_window_display": false
    },
    "colab": {
      "provenance": []
    }
  },
  "nbformat": 4,
  "nbformat_minor": 0
}