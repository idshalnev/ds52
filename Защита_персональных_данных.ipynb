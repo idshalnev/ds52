{
  "cells": [
    {
      "cell_type": "markdown",
      "metadata": {
        "toc": true,
        "id": "It2TItqLyKSW"
      },
      "source": [
        "<h1>Содержание<span class=\"tocSkip\"></span></h1>\n",
        "<div class=\"toc\"><ul class=\"toc-item\"><li><span><a href=\"#Загрузка-данных\" data-toc-modified-id=\"Загрузка-данных-1\"><span class=\"toc-item-num\">1&nbsp;&nbsp;</span>Загрузка данных</a></span></li><li><span><a href=\"#Умножение-матриц\" data-toc-modified-id=\"Умножение-матриц-2\"><span class=\"toc-item-num\">2&nbsp;&nbsp;</span>Умножение матриц</a></span></li><li><span><a href=\"#Алгоритм-преобразования\" data-toc-modified-id=\"Алгоритм-преобразования-3\"><span class=\"toc-item-num\">3&nbsp;&nbsp;</span>Алгоритм преобразования</a></span></li><li><span><a href=\"#Проверка-алгоритма\" data-toc-modified-id=\"Проверка-алгоритма-4\"><span class=\"toc-item-num\">4&nbsp;&nbsp;</span>Проверка алгоритма</a></span></li><li><span><a href=\"#Чек-лист-проверки\" data-toc-modified-id=\"Чек-лист-проверки-5\"><span class=\"toc-item-num\">5&nbsp;&nbsp;</span>Чек-лист проверки</a></span></li></ul></div>"
      ]
    },
    {
      "cell_type": "markdown",
      "metadata": {
        "id": "tW242uY_yKSX"
      },
      "source": [
        "# Защита персональных данных клиентов"
      ]
    },
    {
      "cell_type": "markdown",
      "metadata": {
        "id": "Wlj--t9hyKSY"
      },
      "source": [
        "Нам нужно защитить данные клиентов страховой компании «Хоть потоп». Разработаем такой метод преобразования данных, чтобы по ним было сложно восстановить персональную информацию. Обоснуйем корректность его работы.\n",
        "\n",
        "Нужно защитить данные, чтобы при преобразовании качество моделей машинного обучения не ухудшилось. Подбирать наилучшую модель не требуется.\n",
        "\n",
        "Признаки: пол, возраст и зарплата застрахованного, количество членов его семьи.\n",
        "\n",
        "\n",
        "Целевой признак: количество страховых выплат клиенту за последние 5 лет."
      ]
    },
    {
      "cell_type": "markdown",
      "metadata": {
        "id": "2_Q_wdebyKSZ"
      },
      "source": [
        "## Загрузка данных"
      ]
    },
    {
      "cell_type": "code",
      "execution_count": null,
      "metadata": {
        "id": "CCyH4ygUyKSZ"
      },
      "outputs": [],
      "source": [
        "import pandas as pd\n",
        "import numpy as np\n",
        "from sklearn.linear_model import LinearRegression\n",
        "from sklearn.metrics import r2_score\n",
        "import matplotlib.pyplot as plt\n",
        "import seaborn as sns"
      ]
    },
    {
      "cell_type": "code",
      "execution_count": null,
      "metadata": {
        "id": "mW-ybZwvyKSb"
      },
      "outputs": [],
      "source": [
        "data = pd.read_csv('/datasets/insurance.csv')"
      ]
    },
    {
      "cell_type": "code",
      "execution_count": null,
      "metadata": {
        "id": "cb-5Tmr0yKSb",
        "outputId": "ef416db0-bec4-497a-d0cc-f13a07b6742c"
      },
      "outputs": [
        {
          "data": {
            "text/html": [
              "<div>\n",
              "<style scoped>\n",
              "    .dataframe tbody tr th:only-of-type {\n",
              "        vertical-align: middle;\n",
              "    }\n",
              "\n",
              "    .dataframe tbody tr th {\n",
              "        vertical-align: top;\n",
              "    }\n",
              "\n",
              "    .dataframe thead th {\n",
              "        text-align: right;\n",
              "    }\n",
              "</style>\n",
              "<table border=\"1\" class=\"dataframe\">\n",
              "  <thead>\n",
              "    <tr style=\"text-align: right;\">\n",
              "      <th></th>\n",
              "      <th>Пол</th>\n",
              "      <th>Возраст</th>\n",
              "      <th>Зарплата</th>\n",
              "      <th>Члены семьи</th>\n",
              "      <th>Страховые выплаты</th>\n",
              "    </tr>\n",
              "  </thead>\n",
              "  <tbody>\n",
              "    <tr>\n",
              "      <th>0</th>\n",
              "      <td>1</td>\n",
              "      <td>41.0</td>\n",
              "      <td>49600.0</td>\n",
              "      <td>1</td>\n",
              "      <td>0</td>\n",
              "    </tr>\n",
              "    <tr>\n",
              "      <th>1</th>\n",
              "      <td>0</td>\n",
              "      <td>46.0</td>\n",
              "      <td>38000.0</td>\n",
              "      <td>1</td>\n",
              "      <td>1</td>\n",
              "    </tr>\n",
              "    <tr>\n",
              "      <th>2</th>\n",
              "      <td>0</td>\n",
              "      <td>29.0</td>\n",
              "      <td>21000.0</td>\n",
              "      <td>0</td>\n",
              "      <td>0</td>\n",
              "    </tr>\n",
              "    <tr>\n",
              "      <th>3</th>\n",
              "      <td>0</td>\n",
              "      <td>21.0</td>\n",
              "      <td>41700.0</td>\n",
              "      <td>2</td>\n",
              "      <td>0</td>\n",
              "    </tr>\n",
              "    <tr>\n",
              "      <th>4</th>\n",
              "      <td>1</td>\n",
              "      <td>28.0</td>\n",
              "      <td>26100.0</td>\n",
              "      <td>0</td>\n",
              "      <td>0</td>\n",
              "    </tr>\n",
              "  </tbody>\n",
              "</table>\n",
              "</div>"
            ],
            "text/plain": [
              "   Пол  Возраст  Зарплата  Члены семьи  Страховые выплаты\n",
              "0    1     41.0   49600.0            1                  0\n",
              "1    0     46.0   38000.0            1                  1\n",
              "2    0     29.0   21000.0            0                  0\n",
              "3    0     21.0   41700.0            2                  0\n",
              "4    1     28.0   26100.0            0                  0"
            ]
          },
          "execution_count": 3,
          "metadata": {},
          "output_type": "execute_result"
        }
      ],
      "source": [
        "data.head()"
      ]
    },
    {
      "cell_type": "code",
      "execution_count": null,
      "metadata": {
        "id": "DUQkeODzyKSc",
        "outputId": "aa1161b5-e6c2-4980-b9bd-a1c7b1559f6e"
      },
      "outputs": [
        {
          "name": "stdout",
          "output_type": "stream",
          "text": [
            "<class 'pandas.core.frame.DataFrame'>\n",
            "RangeIndex: 5000 entries, 0 to 4999\n",
            "Data columns (total 5 columns):\n",
            " #   Column             Non-Null Count  Dtype  \n",
            "---  ------             --------------  -----  \n",
            " 0   Пол                5000 non-null   int64  \n",
            " 1   Возраст            5000 non-null   float64\n",
            " 2   Зарплата           5000 non-null   float64\n",
            " 3   Члены семьи        5000 non-null   int64  \n",
            " 4   Страховые выплаты  5000 non-null   int64  \n",
            "dtypes: float64(2), int64(3)\n",
            "memory usage: 195.4 KB\n"
          ]
        }
      ],
      "source": [
        "data.info() # выведем основную информацию по данным"
      ]
    },
    {
      "cell_type": "code",
      "execution_count": null,
      "metadata": {
        "id": "ycaZ95W6yKSc",
        "outputId": "85718638-f8ec-455b-9e5a-c52ee4b09cfb"
      },
      "outputs": [
        {
          "data": {
            "text/html": [
              "<div>\n",
              "<style scoped>\n",
              "    .dataframe tbody tr th:only-of-type {\n",
              "        vertical-align: middle;\n",
              "    }\n",
              "\n",
              "    .dataframe tbody tr th {\n",
              "        vertical-align: top;\n",
              "    }\n",
              "\n",
              "    .dataframe thead th {\n",
              "        text-align: right;\n",
              "    }\n",
              "</style>\n",
              "<table border=\"1\" class=\"dataframe\">\n",
              "  <thead>\n",
              "    <tr style=\"text-align: right;\">\n",
              "      <th></th>\n",
              "      <th>Пол</th>\n",
              "      <th>Возраст</th>\n",
              "      <th>Зарплата</th>\n",
              "      <th>Члены семьи</th>\n",
              "      <th>Страховые выплаты</th>\n",
              "    </tr>\n",
              "  </thead>\n",
              "  <tbody>\n",
              "    <tr>\n",
              "      <th>count</th>\n",
              "      <td>5000.000000</td>\n",
              "      <td>5000.000000</td>\n",
              "      <td>5000.000000</td>\n",
              "      <td>5000.000000</td>\n",
              "      <td>5000.000000</td>\n",
              "    </tr>\n",
              "    <tr>\n",
              "      <th>mean</th>\n",
              "      <td>0.499000</td>\n",
              "      <td>30.952800</td>\n",
              "      <td>39916.360000</td>\n",
              "      <td>1.194200</td>\n",
              "      <td>0.148000</td>\n",
              "    </tr>\n",
              "    <tr>\n",
              "      <th>std</th>\n",
              "      <td>0.500049</td>\n",
              "      <td>8.440807</td>\n",
              "      <td>9900.083569</td>\n",
              "      <td>1.091387</td>\n",
              "      <td>0.463183</td>\n",
              "    </tr>\n",
              "    <tr>\n",
              "      <th>min</th>\n",
              "      <td>0.000000</td>\n",
              "      <td>18.000000</td>\n",
              "      <td>5300.000000</td>\n",
              "      <td>0.000000</td>\n",
              "      <td>0.000000</td>\n",
              "    </tr>\n",
              "    <tr>\n",
              "      <th>25%</th>\n",
              "      <td>0.000000</td>\n",
              "      <td>24.000000</td>\n",
              "      <td>33300.000000</td>\n",
              "      <td>0.000000</td>\n",
              "      <td>0.000000</td>\n",
              "    </tr>\n",
              "    <tr>\n",
              "      <th>50%</th>\n",
              "      <td>0.000000</td>\n",
              "      <td>30.000000</td>\n",
              "      <td>40200.000000</td>\n",
              "      <td>1.000000</td>\n",
              "      <td>0.000000</td>\n",
              "    </tr>\n",
              "    <tr>\n",
              "      <th>75%</th>\n",
              "      <td>1.000000</td>\n",
              "      <td>37.000000</td>\n",
              "      <td>46600.000000</td>\n",
              "      <td>2.000000</td>\n",
              "      <td>0.000000</td>\n",
              "    </tr>\n",
              "    <tr>\n",
              "      <th>max</th>\n",
              "      <td>1.000000</td>\n",
              "      <td>65.000000</td>\n",
              "      <td>79000.000000</td>\n",
              "      <td>6.000000</td>\n",
              "      <td>5.000000</td>\n",
              "    </tr>\n",
              "  </tbody>\n",
              "</table>\n",
              "</div>"
            ],
            "text/plain": [
              "               Пол      Возраст      Зарплата  Члены семьи  Страховые выплаты\n",
              "count  5000.000000  5000.000000   5000.000000  5000.000000        5000.000000\n",
              "mean      0.499000    30.952800  39916.360000     1.194200           0.148000\n",
              "std       0.500049     8.440807   9900.083569     1.091387           0.463183\n",
              "min       0.000000    18.000000   5300.000000     0.000000           0.000000\n",
              "25%       0.000000    24.000000  33300.000000     0.000000           0.000000\n",
              "50%       0.000000    30.000000  40200.000000     1.000000           0.000000\n",
              "75%       1.000000    37.000000  46600.000000     2.000000           0.000000\n",
              "max       1.000000    65.000000  79000.000000     6.000000           5.000000"
            ]
          },
          "execution_count": 5,
          "metadata": {},
          "output_type": "execute_result"
        }
      ],
      "source": [
        "data.describe()"
      ]
    },
    {
      "cell_type": "code",
      "execution_count": null,
      "metadata": {
        "id": "kH3_gEzMyKSd",
        "outputId": "9d2c3539-d0f5-4e39-92b8-7128077b278f"
      },
      "outputs": [
        {
          "data": {
            "text/plain": [
              "Пол                  0\n",
              "Возраст              0\n",
              "Зарплата             0\n",
              "Члены семьи          0\n",
              "Страховые выплаты    0\n",
              "dtype: int64"
            ]
          },
          "execution_count": 6,
          "metadata": {},
          "output_type": "execute_result"
        }
      ],
      "source": [
        "data.isna().sum()  # проверяем на пропуски"
      ]
    },
    {
      "cell_type": "code",
      "execution_count": null,
      "metadata": {
        "id": "M2lPd3X-yKSd",
        "outputId": "1c767c41-3edc-4ef4-fe32-a22f303b33a7"
      },
      "outputs": [
        {
          "data": {
            "text/plain": [
              "153"
            ]
          },
          "execution_count": 7,
          "metadata": {},
          "output_type": "execute_result"
        }
      ],
      "source": [
        "data.duplicated().sum() # проверяем на дубликаты"
      ]
    },
    {
      "cell_type": "code",
      "execution_count": null,
      "metadata": {
        "id": "_vykDDp7yKSd"
      },
      "outputs": [],
      "source": [
        "data.drop_duplicates(inplace = True) # избавляемся от них"
      ]
    },
    {
      "cell_type": "code",
      "execution_count": null,
      "metadata": {
        "id": "FzGQoR0gyKSd",
        "outputId": "36afa659-9868-4836-a483-10519b3bd807"
      },
      "outputs": [
        {
          "data": {
            "text/plain": [
              "0"
            ]
          },
          "execution_count": 9,
          "metadata": {},
          "output_type": "execute_result"
        }
      ],
      "source": [
        "data.duplicated().sum() # проверяем, не осталось ли дубликатв после удаления"
      ]
    },
    {
      "cell_type": "code",
      "execution_count": null,
      "metadata": {
        "scrolled": false,
        "id": "vd_9fhz9yKSe",
        "outputId": "e8ab0c49-468a-4182-f828-b6412b612eff"
      },
      "outputs": [
        {
          "data": {
            "image/png": "[encoded data removed]",
            "text/plain": [
              "<Figure size 648x648 with 1 Axes>"
            ]
          },
          "metadata": {
            "needs_background": "light"
          },
          "output_type": "display_data"
        },
        {
          "data": {
            "image/png": "[encoded data removed]",
            "text/plain": [
              "<Figure size 648x648 with 1 Axes>"
            ]
          },
          "metadata": {
            "needs_background": "light"
          },
          "output_type": "display_data"
        },
        {
          "data": {
            "image/png": "[encoded data removed]",
            "text/plain": [
              "<Figure size 648x648 with 1 Axes>"
            ]
          },
          "metadata": {
            "needs_background": "light"
          },
          "output_type": "display_data"
        },
        {
          "data": {
            "image/png": "[encoded data removed]",
            "text/plain": [
              "<Figure size 648x648 with 1 Axes>"
            ]
          },
          "metadata": {
            "needs_background": "light"
          },
          "output_type": "display_data"
        },
        {
          "data": {
            "image/png": "[encoded data removed]",
            "text/plain": [
              "<Figure size 648x648 with 1 Axes>"
            ]
          },
          "metadata": {
            "needs_background": "light"
          },
          "output_type": "display_data"
        }
      ],
      "source": [
        "columns = ['Пол','Возраст','Зарплата', 'Члены семьи', 'Страховые выплаты']\n",
        "for col in columns:\n",
        "    plt.figure(figsize=(9, 9))\n",
        "    plt.title(f'Диаграмма распределения {col}')\n",
        "    data[col].hist(bins=30)\n",
        "\n",
        "\n",
        "plt.show()"
      ]
    },
    {
      "cell_type": "markdown",
      "metadata": {
        "id": "OBoP4QMMyKSe"
      },
      "source": [
        "\n"
      ]
    },
    {
      "cell_type": "code",
      "execution_count": null,
      "metadata": {
        "id": "7PT0IfzqyKSe"
      },
      "outputs": [],
      "source": []
    },
    {
      "cell_type": "markdown",
      "metadata": {
        "id": "uJzRbEvlyKSe"
      },
      "source": [
        "**Мини вывод:**\n",
        "\n",
        "В результате обработки данных мы получили основные сведения, проверили, что в табилце отсутствуют пропуски, но есть дубликаты, о которых мы избавились. Типы данных в таблице изменений не требуют. Из графиков видно, что гендерное распределение примерно одинаково (мужчин и женщин), основная масса клиентов в возрасте от 20 до 40 лет, у кого до 3-х членов семьи, с ЗП от 30-50 тр, и на графике распределения страховых выплат, чаще всего у страховой компании преобладают клиенты, у кого не было страховых выплат(идеальные клиенты)."
      ]
    },
    {
      "cell_type": "markdown",
      "metadata": {
        "id": "eiX3ltX-yKSf"
      },
      "source": [
        "![image.png](attachment:image.png)"
      ]
    },
    {
      "cell_type": "markdown",
      "metadata": {
        "id": "-QmslKa8yKSf"
      },
      "source": [
        "![image.png](attachment:image.png)"
      ]
    },
    {
      "cell_type": "markdown",
      "metadata": {
        "id": "K23az-d2yKSf"
      },
      "source": [
        "## Умножение матриц\n",
        "\n",
        "\n",
        "**Ответьте на вопрос и обоснуйте решение.\n",
        " Признаки умножают на обратимую матрицу. Изменится ли качество линейной регрессии? (Её можно обучить заново.)\n",
        " a. Изменится. Приведите примеры матриц.\n",
        " b. Не изменится. Укажите, как связаны параметры линейной регрессии в исходной задаче и в преобразованной.**"
      ]
    },
    {
      "cell_type": "markdown",
      "metadata": {
        "id": "cm00n1WOyKSf"
      },
      "source": [
        "В этом задании вы можете записывать формулы в *Jupyter Notebook.*\n",
        "\n",
        "Чтобы записать формулу внутри текста, окружите её символами доллара \\\\$; если снаружи —  двойными символами \\\\$\\\\$. Эти формулы записываются на языке вёрстки *LaTeX.*\n",
        "\n",
        "Для примера мы записали формулы линейной регрессии. Можете их скопировать и отредактировать, чтобы решить задачу.\n",
        "\n",
        "Работать в *LaTeX* необязательно."
      ]
    },
    {
      "cell_type": "markdown",
      "metadata": {
        "id": "an2Tv4gOyKSf"
      },
      "source": [
        "Обозначения:\n",
        "\n",
        "- $X$ — матрица признаков (нулевой столбец состоит из единиц)\n",
        "\n",
        "- $y$ — вектор целевого признака\n",
        "\n",
        "- $P$ — матрица, на которую умножаются признаки\n",
        "\n",
        "- $w$ — вектор весов линейной регрессии (нулевой элемент равен сдвигу)"
      ]
    },
    {
      "cell_type": "markdown",
      "metadata": {
        "id": "njZNAdVqyKSg"
      },
      "source": [
        "Предсказания:\n",
        "\n",
        "$$\n",
        "a = Xw\n",
        "$$\n",
        "\n",
        "Задача обучения:\n",
        "\n",
        "$$\n",
        "w = \\arg\\min_w MSE(Xw, y)\n",
        "$$\n",
        "\n",
        "Формула обучения:\n",
        "\n",
        "$$\n",
        "w = (X^T X)^{-1} X^T y\n",
        "$$"
      ]
    },
    {
      "cell_type": "markdown",
      "metadata": {
        "id": "Z6VxxGLLyKSg"
      },
      "source": [
        "**Ответ:** не изменится\n",
        "\n",
        "**Обоснование:** Для обоснования ответа нам понадобится матрица для домноженных признаков, т.е. обратимая матрица . Исходная матрица будет размером 5000х4, матрица для домножения, по законам линейной алгебры, должна быть квадратная, и, в данном случае, она будет 4х4. Новая матрица примет вид Х*Р. Формула предсказаний будет выглядить так:\n",
        "\n",
        "$$\n",
        "a' = XPw'\n",
        "$$\n",
        "\n",
        "\n",
        " формула обучения:\n",
        "\n",
        "$$\n",
        "w' = ((XP)^T XP)^{-1} XP^T y\n",
        "$$\n",
        "\n",
        "\n",
        "задача обучения\n",
        "\n",
        "$$\n",
        "w = \\arg\\min_w MSE(XPw, y)\n",
        "$$\n",
        "\n",
        "\n",
        "Нам понадобятся следующие формулы для обоснования:\n",
        "\n",
        "$$\n",
        "(AB)^T=B^T*A^T\n",
        "$$\n",
        "\n",
        "$$\n",
        "(AB)^{-1}=B^{-1} * A^{-1}\n",
        "$$\n",
        "\n",
        "$$\n",
        "AA^{-1} = E\n",
        "$$\n",
        "\n",
        "$$\n",
        "AE=EA=A\n",
        "$$\n",
        "\n",
        "Раскроем скобки в формуле предсказания:\n",
        "\n",
        "$$\n",
        "a'=XP(P^TX^TXP)^{-1}P^TX^Ty\n",
        "$$\n",
        "\n",
        "$$\n",
        "a' = XPP^{-1}(P^TX^TX)^{-1}P^TX^Ty\n",
        "$$\n",
        "\n",
        "Выделим из полученного уравнения множители $$P^T и X^TX$$\n",
        "\n",
        "$$\n",
        "a' = XPP^{-1}(X^TX)^{-1}(P^T)^{-1}P^TX^Ty\n",
        "$$\n",
        "\n",
        "Произведения $$PP^{-1} и (P^T)^{-1}P^T$$ дают единичные матрицы, соответственно их можно исключить из уравнения, и получаем следующий вид:\n",
        "\n",
        "$$\n",
        "a' = X(X^TX)^{-1}X^Ty\n",
        "$$\n",
        "\n",
        "$$\n",
        "(X^TX)^{-1}X^Ty=w\n",
        "$$\n",
        "\n",
        "следовательно\n",
        "$$\n",
        "a' = Xw\n",
        "$$\n",
        "\n",
        "Мы получили ту же формулу предсказания, что и первоначальная, следовательно делаем вывод, что умножение признаков на обратимую матрицу не изменяют предсказания."
      ]
    },
    {
      "cell_type": "markdown",
      "metadata": {
        "id": "8kceWi_oyKSg"
      },
      "source": [
        "$$\n",
        "a = Xw = XEw = XPP^{-1}w = (XP)P^{-1}w = (XP)w'\n",
        "$$\n",
        "\n",
        "$$\n",
        "w' = ((XP)^T XP)^{-1} (XP)^T y\n",
        "$$\n",
        "$$\n",
        "w' = (P^T (X^T X) P)^{-1} (XP)^T y\n",
        "$$\n",
        "**$$\n",
        "w' = (XP^T XP)^{-1} XP^T y\n",
        "$$**"
      ]
    },
    {
      "cell_type": "code",
      "execution_count": null,
      "metadata": {
        "id": "QVBZVrWRyKSh"
      },
      "outputs": [],
      "source": []
    },
    {
      "cell_type": "markdown",
      "metadata": {
        "id": "wVlA-u--yKSh"
      },
      "source": [
        "## Алгоритм преобразования"
      ]
    },
    {
      "cell_type": "markdown",
      "metadata": {
        "id": "GsMnYB17yKSh"
      },
      "source": [
        "**Алгоритм**\n",
        "\n",
        "В качестве алгоритма преобразования возьмем умножение обучающих признаков первоначальной матрицы и умножим их на обратимую матрицу размером 4х4.  Используя модель линейной регрессии обучим ее и посчитаем метрику r2. Затем умножим обуающие признаки на обратимую матрицу, обучим на ней модель линейной регрессии и сравним метрики r2, которые должны будут быть одинаковыми."
      ]
    },
    {
      "cell_type": "markdown",
      "metadata": {
        "id": "nXrU9RcyyKSi"
      },
      "source": [
        "**Обоснование**\n",
        "\n",
        "Из п.2 видим, что умножение обучащих признаков на обратимую матрицу не повлияло на предсказания модели, предполагаем, что и метрики r2 будут одинаковыми, т.к. предсказания тоже одинаковые."
      ]
    },
    {
      "cell_type": "markdown",
      "metadata": {
        "id": "euiQHx6WyKSl"
      },
      "source": [
        "## Проверка алгоритма"
      ]
    },
    {
      "cell_type": "code",
      "execution_count": null,
      "metadata": {
        "id": "JsuZ67agyKSm",
        "outputId": "01fd9998-bb81-411e-d0d4-a43bf322c8df"
      },
      "outputs": [
        {
          "name": "stdout",
          "output_type": "stream",
          "text": [
            "(4847, 4)\n",
            "(4847,)\n"
          ]
        }
      ],
      "source": [
        "features = data.drop(['Страховые выплаты'], axis =1)  #создаем признаки для модели линейной регрессии\n",
        "target = data['Страховые выплаты']\n",
        "print(features.shape)\n",
        "print(target.shape)"
      ]
    },
    {
      "cell_type": "code",
      "execution_count": null,
      "metadata": {
        "id": "iP7BFqOEyKSm",
        "outputId": "7fe72d0b-a0ae-4246-ffa4-74401c538787"
      },
      "outputs": [
        {
          "name": "stdout",
          "output_type": "stream",
          "text": [
            "R2 для модели до преобразования 0.4302010044852066\n"
          ]
        }
      ],
      "source": [
        "model = LinearRegression() #обучаем модель линейной регрессии до преобразования\n",
        "model.fit(features,target)\n",
        "predictions = model.predict(features)\n",
        "r2 = r2_score(target, predictions)\n",
        "print('R2 для модели до преобразования', r2)"
      ]
    },
    {
      "cell_type": "code",
      "execution_count": null,
      "metadata": {
        "id": "qk-gyQbVyKSn",
        "outputId": "08a2eae0-abe7-4b45-f6f0-15aea5e52901"
      },
      "outputs": [
        {
          "name": "stdout",
          "output_type": "stream",
          "text": [
            "[[ 1.79682083 -0.64970606 -1.17342263  0.51722414]\n",
            " [ 0.26369261 -0.20243947  0.16215178  0.07840577]\n",
            " [ 0.56976638 -0.74742663  1.50286172 -1.20132928]\n",
            " [ 0.33069931 -0.73597352 -1.37625879 -0.43617695]]\n"
          ]
        }
      ],
      "source": [
        "# создадим обратную матрицу размером 4х4\n",
        "\n",
        "P = np.random.normal(size=(4, 4))\n",
        "Pinv = np.linalg.inv(P)\n",
        "print(P)\n"
      ]
    },
    {
      "cell_type": "markdown",
      "metadata": {
        "id": "0JRP7wTRyKSn"
      },
      "source": [
        "Матрица обратима, можно двигаться дальше"
      ]
    },
    {
      "cell_type": "code",
      "execution_count": null,
      "metadata": {
        "id": "fNvsIkXjyKSn"
      },
      "outputs": [],
      "source": []
    },
    {
      "cell_type": "code",
      "execution_count": null,
      "metadata": {
        "id": "5NQLaRvbyKSo"
      },
      "outputs": [],
      "source": [
        "features_p = features @ P\n",
        "# умножаем признаки на обратную матрицу"
      ]
    },
    {
      "cell_type": "code",
      "execution_count": null,
      "metadata": {
        "id": "_WZxXgUiyKSo",
        "outputId": "5c3e7431-cace-4d35-c339-488fea318822"
      },
      "outputs": [
        {
          "name": "stdout",
          "output_type": "stream",
          "text": [
            "R2 для преобразованной модели 0.4302010044851936\n"
          ]
        }
      ],
      "source": [
        "model_p = LinearRegression()   #строим модель линейной регрессии и обуаем ее на новых признаках\n",
        "model_p.fit(features_p, target)\n",
        "predictions_p = model_p.predict(features_p)\n",
        "r2_p = r2_score(target, predictions_p)\n",
        "print(f'R2 для преобразованной модели {r2_p}')"
      ]
    },
    {
      "cell_type": "markdown",
      "metadata": {
        "id": "FuCs5j1pyKSp"
      },
      "source": [
        "**Вывод**\n",
        "\n",
        "Метрика R2 для модели обученной на первоначальных признаках и преобразованных ничем не отличается, и равна 0.4302010044852066, алгоритм преобразования подтвердился. Предсказания модели не меняются при умножении на обратимую матрицу."
      ]
    },
    {
      "cell_type": "code",
      "execution_count": null,
      "metadata": {
        "id": "WI91e88vyKSq"
      },
      "outputs": [],
      "source": []
    }
  ],
  "metadata": {
    "ExecuteTimeLog": [
      {
        "duration": 385,
        "start_time": "2023-01-08T13:14:56.085Z"
      },
      {
        "duration": 79,
        "start_time": "2023-01-08T13:15:26.399Z"
      },
      {
        "duration": 14,
        "start_time": "2023-01-08T13:15:31.802Z"
      },
      {
        "duration": 399,
        "start_time": "2023-01-12T16:18:24.184Z"
      },
      {
        "duration": 121,
        "start_time": "2023-01-12T16:18:26.407Z"
      },
      {
        "duration": 17,
        "start_time": "2023-01-12T16:18:27.122Z"
      },
      {
        "duration": 58,
        "start_time": "2023-01-12T16:18:36.354Z"
      },
      {
        "duration": 10,
        "start_time": "2023-01-12T16:18:43.352Z"
      },
      {
        "duration": 13,
        "start_time": "2023-01-12T16:18:56.954Z"
      },
      {
        "duration": 7,
        "start_time": "2023-01-12T16:19:04.740Z"
      },
      {
        "duration": 9,
        "start_time": "2023-01-12T16:19:18.506Z"
      },
      {
        "duration": 7,
        "start_time": "2023-01-12T16:19:26.082Z"
      },
      {
        "duration": 25,
        "start_time": "2023-01-12T16:20:51.783Z"
      },
      {
        "duration": 6,
        "start_time": "2023-01-12T16:21:17.245Z"
      },
      {
        "duration": 5,
        "start_time": "2023-01-12T16:21:21.862Z"
      },
      {
        "duration": 10,
        "start_time": "2023-01-12T16:21:31.238Z"
      },
      {
        "duration": 8,
        "start_time": "2023-01-12T16:21:38.105Z"
      },
      {
        "duration": 9,
        "start_time": "2023-01-12T16:21:43.022Z"
      },
      {
        "duration": 7,
        "start_time": "2023-01-12T16:21:46.356Z"
      },
      {
        "duration": 1130,
        "start_time": "2023-01-12T16:25:10.773Z"
      },
      {
        "duration": 7,
        "start_time": "2023-01-12T16:26:00.163Z"
      },
      {
        "duration": 47,
        "start_time": "2023-01-12T16:27:20.322Z"
      },
      {
        "duration": 9,
        "start_time": "2023-01-12T16:27:32.090Z"
      },
      {
        "duration": 8,
        "start_time": "2023-01-12T16:27:39.697Z"
      },
      {
        "duration": 5,
        "start_time": "2023-01-12T16:27:46.924Z"
      },
      {
        "duration": 10,
        "start_time": "2023-01-12T16:28:04.702Z"
      },
      {
        "duration": 3,
        "start_time": "2023-01-12T16:28:55.728Z"
      },
      {
        "duration": 37,
        "start_time": "2023-01-12T16:28:55.733Z"
      },
      {
        "duration": 11,
        "start_time": "2023-01-12T16:28:55.772Z"
      },
      {
        "duration": 14,
        "start_time": "2023-01-12T16:28:55.786Z"
      },
      {
        "duration": 28,
        "start_time": "2023-01-12T16:28:55.802Z"
      },
      {
        "duration": 5,
        "start_time": "2023-01-12T16:28:55.832Z"
      },
      {
        "duration": 12,
        "start_time": "2023-01-12T16:28:55.839Z"
      },
      {
        "duration": 6,
        "start_time": "2023-01-12T16:28:55.853Z"
      },
      {
        "duration": 6,
        "start_time": "2023-01-12T16:28:57.721Z"
      },
      {
        "duration": 4,
        "start_time": "2023-01-12T18:57:06.473Z"
      },
      {
        "duration": 5,
        "start_time": "2023-01-12T18:57:16.050Z"
      },
      {
        "duration": 5,
        "start_time": "2023-01-12T18:58:10.547Z"
      },
      {
        "duration": 129,
        "start_time": "2023-01-12T18:59:59.350Z"
      },
      {
        "duration": 3,
        "start_time": "2023-01-12T19:00:28.816Z"
      },
      {
        "duration": 12,
        "start_time": "2023-01-12T19:00:34.854Z"
      },
      {
        "duration": 10,
        "start_time": "2023-01-12T19:36:42.585Z"
      },
      {
        "duration": 10,
        "start_time": "2023-01-12T19:36:49.798Z"
      },
      {
        "duration": 80,
        "start_time": "2023-01-12T19:36:54.839Z"
      },
      {
        "duration": 4,
        "start_time": "2023-01-12T19:37:48.037Z"
      },
      {
        "duration": 4,
        "start_time": "2023-01-12T19:37:50.866Z"
      },
      {
        "duration": 46,
        "start_time": "2023-01-12T19:37:52.845Z"
      },
      {
        "duration": 3,
        "start_time": "2023-01-12T19:41:25.872Z"
      },
      {
        "duration": 49,
        "start_time": "2023-01-12T19:41:25.877Z"
      },
      {
        "duration": 10,
        "start_time": "2023-01-12T19:41:25.929Z"
      },
      {
        "duration": 17,
        "start_time": "2023-01-12T19:41:25.941Z"
      },
      {
        "duration": 33,
        "start_time": "2023-01-12T19:41:25.961Z"
      },
      {
        "duration": 8,
        "start_time": "2023-01-12T19:41:25.995Z"
      },
      {
        "duration": 11,
        "start_time": "2023-01-12T19:41:26.005Z"
      },
      {
        "duration": 6,
        "start_time": "2023-01-12T19:41:26.018Z"
      },
      {
        "duration": 7,
        "start_time": "2023-01-12T19:41:26.027Z"
      },
      {
        "duration": 6,
        "start_time": "2023-01-12T19:41:26.036Z"
      },
      {
        "duration": 27,
        "start_time": "2023-01-12T19:41:26.079Z"
      },
      {
        "duration": 121,
        "start_time": "2023-01-12T19:41:26.181Z"
      },
      {
        "duration": 8,
        "start_time": "2023-01-12T19:41:26.304Z"
      },
      {
        "duration": 12,
        "start_time": "2023-01-12T19:41:26.314Z"
      },
      {
        "duration": 3,
        "start_time": "2023-01-12T19:41:57.131Z"
      },
      {
        "duration": 1059,
        "start_time": "2023-01-12T19:42:54.330Z"
      },
      {
        "duration": 29,
        "start_time": "2023-01-12T19:42:55.392Z"
      },
      {
        "duration": 16,
        "start_time": "2023-01-12T19:42:55.423Z"
      },
      {
        "duration": 13,
        "start_time": "2023-01-12T19:42:55.441Z"
      },
      {
        "duration": 24,
        "start_time": "2023-01-12T19:42:55.456Z"
      },
      {
        "duration": 13,
        "start_time": "2023-01-12T19:42:55.482Z"
      },
      {
        "duration": 11,
        "start_time": "2023-01-12T19:42:55.497Z"
      },
      {
        "duration": 22,
        "start_time": "2023-01-12T19:42:55.509Z"
      },
      {
        "duration": 16,
        "start_time": "2023-01-12T19:42:55.533Z"
      },
      {
        "duration": 12,
        "start_time": "2023-01-12T19:42:55.551Z"
      },
      {
        "duration": 35,
        "start_time": "2023-01-12T19:42:55.565Z"
      },
      {
        "duration": 82,
        "start_time": "2023-01-12T19:42:55.602Z"
      },
      {
        "duration": 113,
        "start_time": "2023-01-12T19:42:55.686Z"
      },
      {
        "duration": 14,
        "start_time": "2023-01-12T19:42:55.803Z"
      },
      {
        "duration": 2271,
        "start_time": "2023-01-12T20:20:00.097Z"
      },
      {
        "duration": 242,
        "start_time": "2023-01-12T20:20:02.375Z"
      },
      {
        "duration": 20,
        "start_time": "2023-01-12T20:20:31.360Z"
      },
      {
        "duration": 18,
        "start_time": "2023-01-12T20:20:31.661Z"
      },
      {
        "duration": 38,
        "start_time": "2023-01-12T20:20:31.821Z"
      },
      {
        "duration": 5,
        "start_time": "2023-01-12T20:20:32.581Z"
      },
      {
        "duration": 6,
        "start_time": "2023-01-12T20:20:33.001Z"
      },
      {
        "duration": 6,
        "start_time": "2023-01-12T20:20:35.185Z"
      },
      {
        "duration": 16,
        "start_time": "2023-01-12T20:20:35.370Z"
      },
      {
        "duration": 4,
        "start_time": "2023-01-12T20:30:51.388Z"
      },
      {
        "duration": 29,
        "start_time": "2023-01-12T20:30:52.198Z"
      },
      {
        "duration": 2063,
        "start_time": "2023-01-12T20:52:05.954Z"
      },
      {
        "duration": 112,
        "start_time": "2023-01-12T20:52:10.856Z"
      },
      {
        "duration": 13,
        "start_time": "2023-01-12T20:52:13.361Z"
      },
      {
        "duration": 14,
        "start_time": "2023-01-12T20:52:15.594Z"
      },
      {
        "duration": 38,
        "start_time": "2023-01-12T20:52:18.608Z"
      },
      {
        "duration": 8,
        "start_time": "2023-01-12T20:52:19.354Z"
      },
      {
        "duration": 5,
        "start_time": "2023-01-12T20:52:21.702Z"
      },
      {
        "duration": 4,
        "start_time": "2023-01-12T20:52:22.262Z"
      },
      {
        "duration": 6,
        "start_time": "2023-01-12T20:52:23.166Z"
      },
      {
        "duration": 764,
        "start_time": "2023-01-12T20:55:48.160Z"
      },
      {
        "duration": 1677,
        "start_time": "2023-01-12T20:57:13.498Z"
      },
      {
        "duration": 91,
        "start_time": "2023-01-12T20:58:24.052Z"
      },
      {
        "duration": 14,
        "start_time": "2023-01-12T20:58:57.908Z"
      },
      {
        "duration": 21,
        "start_time": "2023-01-12T20:59:51.159Z"
      },
      {
        "duration": 16,
        "start_time": "2023-01-12T21:00:59.800Z"
      },
      {
        "duration": 17,
        "start_time": "2023-01-12T21:01:06.247Z"
      },
      {
        "duration": 12,
        "start_time": "2023-01-12T21:01:14.959Z"
      },
      {
        "duration": 17,
        "start_time": "2023-01-12T21:01:25.926Z"
      },
      {
        "duration": 72,
        "start_time": "2023-01-12T21:01:34.767Z"
      },
      {
        "duration": 89,
        "start_time": "2023-01-12T21:01:38.589Z"
      },
      {
        "duration": 23,
        "start_time": "2023-01-12T21:01:42.825Z"
      },
      {
        "duration": 12,
        "start_time": "2023-01-12T21:01:48.693Z"
      },
      {
        "duration": 1323,
        "start_time": "2023-01-12T21:02:27.837Z"
      },
      {
        "duration": 1757,
        "start_time": "2023-01-12T21:04:15.342Z"
      },
      {
        "duration": 32,
        "start_time": "2023-01-12T21:04:17.102Z"
      },
      {
        "duration": 54,
        "start_time": "2023-01-12T21:04:17.139Z"
      },
      {
        "duration": 11,
        "start_time": "2023-01-12T21:04:17.194Z"
      },
      {
        "duration": 27,
        "start_time": "2023-01-12T21:04:17.207Z"
      },
      {
        "duration": 6,
        "start_time": "2023-01-12T21:04:17.236Z"
      },
      {
        "duration": 53,
        "start_time": "2023-01-12T21:04:17.244Z"
      },
      {
        "duration": 6,
        "start_time": "2023-01-12T21:04:17.300Z"
      },
      {
        "duration": 13,
        "start_time": "2023-01-12T21:04:17.307Z"
      },
      {
        "duration": 1323,
        "start_time": "2023-01-12T21:04:17.322Z"
      },
      {
        "duration": 6,
        "start_time": "2023-01-12T21:04:18.651Z"
      },
      {
        "duration": 70,
        "start_time": "2023-01-12T21:04:18.658Z"
      },
      {
        "duration": 121,
        "start_time": "2023-01-12T21:04:18.738Z"
      },
      {
        "duration": 25,
        "start_time": "2023-01-12T21:04:18.867Z"
      },
      {
        "duration": 14,
        "start_time": "2023-01-12T21:04:18.893Z"
      },
      {
        "duration": 22,
        "start_time": "2023-01-12T21:04:27.868Z"
      },
      {
        "duration": 137,
        "start_time": "2023-01-12T21:05:00.266Z"
      },
      {
        "duration": 1210,
        "start_time": "2023-01-12T21:05:06.096Z"
      },
      {
        "duration": 1329,
        "start_time": "2023-01-12T21:05:25.158Z"
      },
      {
        "duration": 199,
        "start_time": "2023-01-12T21:05:40.800Z"
      },
      {
        "duration": 186,
        "start_time": "2023-01-12T21:05:50.157Z"
      },
      {
        "duration": 765,
        "start_time": "2023-01-12T21:07:27.350Z"
      },
      {
        "duration": 764,
        "start_time": "2023-01-12T21:08:12.823Z"
      },
      {
        "duration": 267,
        "start_time": "2023-01-12T21:08:42.876Z"
      },
      {
        "duration": 732,
        "start_time": "2023-01-12T21:09:00.565Z"
      },
      {
        "duration": 82,
        "start_time": "2023-01-12T21:09:50.138Z"
      },
      {
        "duration": 10,
        "start_time": "2023-01-12T21:09:56.556Z"
      },
      {
        "duration": 88,
        "start_time": "2023-01-12T21:10:23.910Z"
      },
      {
        "duration": 14,
        "start_time": "2023-01-12T21:10:28.748Z"
      },
      {
        "duration": 9,
        "start_time": "2023-01-12T21:10:38.115Z"
      },
      {
        "duration": 134,
        "start_time": "2023-01-12T21:10:50.017Z"
      },
      {
        "duration": 72,
        "start_time": "2023-01-12T21:10:53.653Z"
      },
      {
        "duration": 11,
        "start_time": "2023-01-12T21:11:05.997Z"
      },
      {
        "duration": 10,
        "start_time": "2023-01-12T21:11:20.991Z"
      },
      {
        "duration": 448,
        "start_time": "2023-01-12T21:13:26.075Z"
      },
      {
        "duration": 118,
        "start_time": "2023-01-12T21:15:06.660Z"
      },
      {
        "duration": 121,
        "start_time": "2023-01-12T21:15:17.082Z"
      },
      {
        "duration": 1605,
        "start_time": "2023-01-12T21:16:48.558Z"
      },
      {
        "duration": 103,
        "start_time": "2023-01-12T21:19:06.781Z"
      },
      {
        "duration": 106,
        "start_time": "2023-01-12T21:19:27.048Z"
      },
      {
        "duration": 95,
        "start_time": "2023-01-12T21:19:30.905Z"
      },
      {
        "duration": 90,
        "start_time": "2023-01-12T21:19:33.565Z"
      },
      {
        "duration": 11,
        "start_time": "2023-01-12T21:22:04.903Z"
      },
      {
        "duration": 14,
        "start_time": "2023-01-12T21:22:15.762Z"
      },
      {
        "duration": 1555,
        "start_time": "2023-01-12T21:25:00.707Z"
      },
      {
        "duration": 34,
        "start_time": "2023-01-12T21:25:02.264Z"
      },
      {
        "duration": 12,
        "start_time": "2023-01-12T21:25:02.300Z"
      },
      {
        "duration": 15,
        "start_time": "2023-01-12T21:25:02.313Z"
      },
      {
        "duration": 63,
        "start_time": "2023-01-12T21:25:02.330Z"
      },
      {
        "duration": 7,
        "start_time": "2023-01-12T21:25:02.394Z"
      },
      {
        "duration": 10,
        "start_time": "2023-01-12T21:25:02.403Z"
      },
      {
        "duration": 7,
        "start_time": "2023-01-12T21:25:02.414Z"
      },
      {
        "duration": 29,
        "start_time": "2023-01-12T21:25:02.422Z"
      },
      {
        "duration": 915,
        "start_time": "2023-01-12T21:25:02.453Z"
      },
      {
        "duration": 9,
        "start_time": "2023-01-12T21:25:03.370Z"
      },
      {
        "duration": 18,
        "start_time": "2023-01-12T21:25:03.381Z"
      },
      {
        "duration": 129,
        "start_time": "2023-01-12T21:25:03.434Z"
      },
      {
        "duration": 10,
        "start_time": "2023-01-12T21:25:03.564Z"
      },
      {
        "duration": 22,
        "start_time": "2023-01-12T21:25:03.576Z"
      },
      {
        "duration": 1153,
        "start_time": "2023-01-12T21:28:25.070Z"
      },
      {
        "duration": 8,
        "start_time": "2023-01-12T21:56:33.866Z"
      },
      {
        "duration": 1698,
        "start_time": "2023-01-12T21:57:25.566Z"
      },
      {
        "duration": 39,
        "start_time": "2023-01-12T21:57:27.266Z"
      },
      {
        "duration": 16,
        "start_time": "2023-01-12T21:57:27.307Z"
      },
      {
        "duration": 24,
        "start_time": "2023-01-12T21:57:27.325Z"
      },
      {
        "duration": 54,
        "start_time": "2023-01-12T21:57:27.352Z"
      },
      {
        "duration": 8,
        "start_time": "2023-01-12T21:57:27.407Z"
      },
      {
        "duration": 67,
        "start_time": "2023-01-12T21:57:27.416Z"
      },
      {
        "duration": 10,
        "start_time": "2023-01-12T21:57:27.485Z"
      },
      {
        "duration": 11,
        "start_time": "2023-01-12T21:57:27.497Z"
      },
      {
        "duration": 1061,
        "start_time": "2023-01-12T21:57:27.510Z"
      },
      {
        "duration": 9,
        "start_time": "2023-01-12T21:57:28.572Z"
      },
      {
        "duration": 84,
        "start_time": "2023-01-12T21:57:28.583Z"
      },
      {
        "duration": 95,
        "start_time": "2023-01-12T21:57:28.673Z"
      },
      {
        "duration": 64,
        "start_time": "2023-01-12T21:57:28.771Z"
      },
      {
        "duration": 131,
        "start_time": "2023-01-12T21:57:28.841Z"
      },
      {
        "duration": 53,
        "start_time": "2023-01-13T19:41:12.874Z"
      },
      {
        "duration": 1555,
        "start_time": "2023-01-13T19:41:24.297Z"
      },
      {
        "duration": 113,
        "start_time": "2023-01-13T19:41:25.854Z"
      },
      {
        "duration": 15,
        "start_time": "2023-01-13T19:41:25.969Z"
      },
      {
        "duration": 35,
        "start_time": "2023-01-13T19:41:25.989Z"
      },
      {
        "duration": 26,
        "start_time": "2023-01-13T19:41:26.026Z"
      },
      {
        "duration": 5,
        "start_time": "2023-01-13T19:41:26.054Z"
      },
      {
        "duration": 12,
        "start_time": "2023-01-13T19:41:26.061Z"
      },
      {
        "duration": 12,
        "start_time": "2023-01-13T19:41:26.074Z"
      },
      {
        "duration": 10,
        "start_time": "2023-01-13T19:41:26.087Z"
      },
      {
        "duration": 288,
        "start_time": "2023-01-13T19:41:26.100Z"
      },
      {
        "duration": 0,
        "start_time": "2023-01-13T19:41:26.389Z"
      },
      {
        "duration": 0,
        "start_time": "2023-01-13T19:41:26.391Z"
      },
      {
        "duration": 0,
        "start_time": "2023-01-13T19:41:26.397Z"
      },
      {
        "duration": 0,
        "start_time": "2023-01-13T19:41:26.398Z"
      },
      {
        "duration": 0,
        "start_time": "2023-01-13T19:41:26.399Z"
      },
      {
        "duration": 1033,
        "start_time": "2023-01-13T19:42:01.683Z"
      },
      {
        "duration": 1372,
        "start_time": "2023-01-13T19:57:01.241Z"
      },
      {
        "duration": 31,
        "start_time": "2023-01-13T19:57:02.615Z"
      },
      {
        "duration": 14,
        "start_time": "2023-01-13T19:57:02.647Z"
      },
      {
        "duration": 15,
        "start_time": "2023-01-13T19:57:02.663Z"
      },
      {
        "duration": 25,
        "start_time": "2023-01-13T19:57:02.680Z"
      },
      {
        "duration": 7,
        "start_time": "2023-01-13T19:57:02.707Z"
      },
      {
        "duration": 12,
        "start_time": "2023-01-13T19:57:02.715Z"
      },
      {
        "duration": 8,
        "start_time": "2023-01-13T19:57:02.729Z"
      },
      {
        "duration": 11,
        "start_time": "2023-01-13T19:57:02.739Z"
      },
      {
        "duration": 930,
        "start_time": "2023-01-13T19:57:02.751Z"
      },
      {
        "duration": 5,
        "start_time": "2023-01-13T19:57:03.683Z"
      },
      {
        "duration": 100,
        "start_time": "2023-01-13T19:57:03.697Z"
      },
      {
        "duration": 104,
        "start_time": "2023-01-13T19:57:03.798Z"
      },
      {
        "duration": 92,
        "start_time": "2023-01-13T19:57:03.905Z"
      },
      {
        "duration": 97,
        "start_time": "2023-01-13T19:57:03.999Z"
      }
    ],
    "kernelspec": {
      "display_name": "Python 3 (ipykernel)",
      "language": "python",
      "name": "python3"
    },
    "language_info": {
      "codemirror_mode": {
        "name": "ipython",
        "version": 3
      },
      "file_extension": ".py",
      "mimetype": "text/x-python",
      "name": "python",
      "nbconvert_exporter": "python",
      "pygments_lexer": "ipython3",
      "version": "3.9.5"
    },
    "toc": {
      "base_numbering": 1,
      "nav_menu": {},
      "number_sections": true,
      "sideBar": true,
      "skip_h1_title": true,
      "title_cell": "Содержание",
      "title_sidebar": "Contents",
      "toc_cell": true,
      "toc_position": {},
      "toc_section_display": true,
      "toc_window_display": true
    },
    "colab": {
      "provenance": []
    }
  },
  "nbformat": 4,
  "nbformat_minor": 0
}