{
 "cells": [
  {
   "cell_type": "code",
   "execution_count": 1,
   "metadata": {
    "deletable": false
   },
   "outputs": [],
   "source": [
    "import pandas as pd"
   ]
  },
  {
   "cell_type": "markdown",
   "metadata": {
    "deletable": false,
    "editable": false
   },
   "source": [
    "### Откройте файл с данными и изучите общую информацию"
   ]
  },
  {
   "cell_type": "markdown",
   "metadata": {
    "deletable": false,
    "editable": false,
    "tags": [
     "start_task"
    ]
   },
   "source": [
    "**Задание 1.** Откройте файл `/datasets/calls.csv`, сохраните датафрейм в переменную `calls`."
   ]
  },
  {
   "cell_type": "code",
   "execution_count": 61,
   "metadata": {
    "deletable": false
   },
   "outputs": [],
   "source": [
    "import pandas as pd\n",
    "calls = pd.read_csv('/datasets/calls.csv')"
   ]
  },
  {
   "cell_type": "markdown",
   "metadata": {
    "deletable": false,
    "editable": false,
    "tags": [
     "start_task"
    ]
   },
   "source": [
    "**Задание 2.** Выведите первые 5 строк датафрейма `calls`."
   ]
  },
  {
   "cell_type": "code",
   "execution_count": 62,
   "metadata": {
    "deletable": false
   },
   "outputs": [
    {
     "data": {
      "text/html": [
       "<div>\n",
       "<style scoped>\n",
       "    .dataframe tbody tr th:only-of-type {\n",
       "        vertical-align: middle;\n",
       "    }\n",
       "\n",
       "    .dataframe tbody tr th {\n",
       "        vertical-align: top;\n",
       "    }\n",
       "\n",
       "    .dataframe thead th {\n",
       "        text-align: right;\n",
       "    }\n",
       "</style>\n",
       "<table border=\"1\" class=\"dataframe\">\n",
       "  <thead>\n",
       "    <tr style=\"text-align: right;\">\n",
       "      <th></th>\n",
       "      <th>id</th>\n",
       "      <th>call_date</th>\n",
       "      <th>duration</th>\n",
       "      <th>user_id</th>\n",
       "    </tr>\n",
       "  </thead>\n",
       "  <tbody>\n",
       "    <tr>\n",
       "      <th>0</th>\n",
       "      <td>1000_0</td>\n",
       "      <td>2018-07-25</td>\n",
       "      <td>0.00</td>\n",
       "      <td>1000</td>\n",
       "    </tr>\n",
       "    <tr>\n",
       "      <th>1</th>\n",
       "      <td>1000_1</td>\n",
       "      <td>2018-08-17</td>\n",
       "      <td>0.00</td>\n",
       "      <td>1000</td>\n",
       "    </tr>\n",
       "    <tr>\n",
       "      <th>2</th>\n",
       "      <td>1000_2</td>\n",
       "      <td>2018-06-11</td>\n",
       "      <td>2.85</td>\n",
       "      <td>1000</td>\n",
       "    </tr>\n",
       "    <tr>\n",
       "      <th>3</th>\n",
       "      <td>1000_3</td>\n",
       "      <td>2018-09-21</td>\n",
       "      <td>13.80</td>\n",
       "      <td>1000</td>\n",
       "    </tr>\n",
       "    <tr>\n",
       "      <th>4</th>\n",
       "      <td>1000_4</td>\n",
       "      <td>2018-12-15</td>\n",
       "      <td>5.18</td>\n",
       "      <td>1000</td>\n",
       "    </tr>\n",
       "  </tbody>\n",
       "</table>\n",
       "</div>"
      ],
      "text/plain": [
       "       id   call_date  duration  user_id\n",
       "0  1000_0  2018-07-25      0.00     1000\n",
       "1  1000_1  2018-08-17      0.00     1000\n",
       "2  1000_2  2018-06-11      2.85     1000\n",
       "3  1000_3  2018-09-21     13.80     1000\n",
       "4  1000_4  2018-12-15      5.18     1000"
      ]
     },
     "execution_count": 62,
     "metadata": {},
     "output_type": "execute_result"
    }
   ],
   "source": [
    "calls.head(5)"
   ]
  },
  {
   "cell_type": "markdown",
   "metadata": {
    "deletable": false,
    "editable": false,
    "tags": [
     "start_task"
    ]
   },
   "source": [
    "**Задание 3.** Выведите основную информацию для датафрейма `calls` с помощью метода `info()`."
   ]
  },
  {
   "cell_type": "code",
   "execution_count": 104,
   "metadata": {
    "deletable": false
   },
   "outputs": [
    {
     "name": "stdout",
     "output_type": "stream",
     "text": [
      "<class 'pandas.core.frame.DataFrame'>\n",
      "RangeIndex: 202607 entries, 0 to 202606\n",
      "Data columns (total 5 columns):\n",
      " #   Column     Non-Null Count   Dtype         \n",
      "---  ------     --------------   -----         \n",
      " 0   id         202607 non-null  object        \n",
      " 1   call_date  202607 non-null  datetime64[ns]\n",
      " 2   duration   202607 non-null  int64         \n",
      " 3   user_id    202607 non-null  int64         \n",
      " 4   month      202607 non-null  int64         \n",
      "dtypes: datetime64[ns](1), int64(3), object(1)\n",
      "memory usage: 7.7+ MB\n"
     ]
    }
   ],
   "source": [
    "calls.info()"
   ]
  },
  {
   "cell_type": "markdown",
   "metadata": {
    "deletable": false,
    "editable": false,
    "tags": [
     "start_task"
    ]
   },
   "source": [
    "**Задание 4.** С помощью метода `hist()` выведите гистограмму для столбца с продолжительностью звонков. Подумайте о том, как распределены данные."
   ]
  },
  {
   "cell_type": "code",
   "execution_count": 105,
   "metadata": {
    "deletable": false
   },
   "outputs": [
    {
     "data": {
      "text/plain": [
       "<AxesSubplot:>"
      ]
     },
     "execution_count": 105,
     "metadata": {},
     "output_type": "execute_result"
    },
    {
     "data": {
      "image/png": "[encoded data removed]",
      "text/plain": [
       "<Figure size 432x288 with 1 Axes>"
      ]
     },
     "metadata": {
      "needs_background": "light"
     },
     "output_type": "display_data"
    }
   ],
   "source": [
    "calls['duration'].hist(bins=30, range=(0, 30))"
   ]
  },
  {
   "cell_type": "markdown",
   "metadata": {
    "deletable": false,
    "editable": false,
    "tags": [
     "start_task"
    ]
   },
   "source": [
    "**Задание 5.** Откройте файл `/datasets/internet.csv`, сохраните датафрейм в переменную `sessions`."
   ]
  },
  {
   "cell_type": "code",
   "execution_count": 106,
   "metadata": {
    "deletable": false
   },
   "outputs": [],
   "source": [
    "sessions = pd.read_csv('/datasets/internet.csv')"
   ]
  },
  {
   "cell_type": "markdown",
   "metadata": {
    "deletable": false,
    "editable": false,
    "tags": [
     "start_task"
    ]
   },
   "source": [
    "**Задание 6.** Выведите первые 5 строк датафрейма `sessions`."
   ]
  },
  {
   "cell_type": "code",
   "execution_count": 107,
   "metadata": {
    "deletable": false
   },
   "outputs": [
    {
     "data": {
      "text/html": [
       "<div>\n",
       "<style scoped>\n",
       "    .dataframe tbody tr th:only-of-type {\n",
       "        vertical-align: middle;\n",
       "    }\n",
       "\n",
       "    .dataframe tbody tr th {\n",
       "        vertical-align: top;\n",
       "    }\n",
       "\n",
       "    .dataframe thead th {\n",
       "        text-align: right;\n",
       "    }\n",
       "</style>\n",
       "<table border=\"1\" class=\"dataframe\">\n",
       "  <thead>\n",
       "    <tr style=\"text-align: right;\">\n",
       "      <th></th>\n",
       "      <th>Unnamed: 0</th>\n",
       "      <th>id</th>\n",
       "      <th>mb_used</th>\n",
       "      <th>session_date</th>\n",
       "      <th>user_id</th>\n",
       "    </tr>\n",
       "  </thead>\n",
       "  <tbody>\n",
       "    <tr>\n",
       "      <th>0</th>\n",
       "      <td>0</td>\n",
       "      <td>1000_0</td>\n",
       "      <td>112.95</td>\n",
       "      <td>2018-11-25</td>\n",
       "      <td>1000</td>\n",
       "    </tr>\n",
       "    <tr>\n",
       "      <th>1</th>\n",
       "      <td>1</td>\n",
       "      <td>1000_1</td>\n",
       "      <td>1052.81</td>\n",
       "      <td>2018-09-07</td>\n",
       "      <td>1000</td>\n",
       "    </tr>\n",
       "    <tr>\n",
       "      <th>2</th>\n",
       "      <td>2</td>\n",
       "      <td>1000_2</td>\n",
       "      <td>1197.26</td>\n",
       "      <td>2018-06-25</td>\n",
       "      <td>1000</td>\n",
       "    </tr>\n",
       "    <tr>\n",
       "      <th>3</th>\n",
       "      <td>3</td>\n",
       "      <td>1000_3</td>\n",
       "      <td>550.27</td>\n",
       "      <td>2018-08-22</td>\n",
       "      <td>1000</td>\n",
       "    </tr>\n",
       "    <tr>\n",
       "      <th>4</th>\n",
       "      <td>4</td>\n",
       "      <td>1000_4</td>\n",
       "      <td>302.56</td>\n",
       "      <td>2018-09-24</td>\n",
       "      <td>1000</td>\n",
       "    </tr>\n",
       "  </tbody>\n",
       "</table>\n",
       "</div>"
      ],
      "text/plain": [
       "   Unnamed: 0      id  mb_used session_date  user_id\n",
       "0           0  1000_0   112.95   2018-11-25     1000\n",
       "1           1  1000_1  1052.81   2018-09-07     1000\n",
       "2           2  1000_2  1197.26   2018-06-25     1000\n",
       "3           3  1000_3   550.27   2018-08-22     1000\n",
       "4           4  1000_4   302.56   2018-09-24     1000"
      ]
     },
     "execution_count": 107,
     "metadata": {},
     "output_type": "execute_result"
    }
   ],
   "source": [
    "sessions.head(5)"
   ]
  },
  {
   "cell_type": "markdown",
   "metadata": {
    "deletable": false,
    "editable": false,
    "tags": [
     "start_task"
    ]
   },
   "source": [
    "**Задание 7.** Выведите основную информацию для датафрейма sessions с помощью метода `info()`. "
   ]
  },
  {
   "cell_type": "code",
   "execution_count": 108,
   "metadata": {
    "deletable": false
   },
   "outputs": [
    {
     "name": "stdout",
     "output_type": "stream",
     "text": [
      "<class 'pandas.core.frame.DataFrame'>\n",
      "RangeIndex: 149396 entries, 0 to 149395\n",
      "Data columns (total 5 columns):\n",
      " #   Column        Non-Null Count   Dtype  \n",
      "---  ------        --------------   -----  \n",
      " 0   Unnamed: 0    149396 non-null  int64  \n",
      " 1   id            149396 non-null  object \n",
      " 2   mb_used       149396 non-null  float64\n",
      " 3   session_date  149396 non-null  object \n",
      " 4   user_id       149396 non-null  int64  \n",
      "dtypes: float64(1), int64(2), object(2)\n",
      "memory usage: 5.7+ MB\n"
     ]
    }
   ],
   "source": [
    "sessions.info()"
   ]
  },
  {
   "cell_type": "markdown",
   "metadata": {
    "deletable": false,
    "editable": false,
    "tags": [
     "start_task"
    ]
   },
   "source": [
    "**Задание 8.** С помощью метода `hist()` выведите гистограмму для столбца с количеством потраченных мегабайт."
   ]
  },
  {
   "cell_type": "code",
   "execution_count": 109,
   "metadata": {
    "deletable": false
   },
   "outputs": [
    {
     "data": {
      "text/plain": [
       "<AxesSubplot:>"
      ]
     },
     "execution_count": 109,
     "metadata": {},
     "output_type": "execute_result"
    },
    {
     "data": {
      "image/png": "[encoded data removed]",
      "text/plain": [
       "<Figure size 432x288 with 1 Axes>"
      ]
     },
     "metadata": {
      "needs_background": "light"
     },
     "output_type": "display_data"
    }
   ],
   "source": [
    "sessions['mb_used'].hist(bins=30, range=(5, 1500))"
   ]
  },
  {
   "cell_type": "markdown",
   "metadata": {
    "deletable": false,
    "editable": false,
    "tags": [
     "start_task"
    ]
   },
   "source": [
    "**Задание 9.** Откройте файл `/datasets/messages.csv`, сохраните датафрейм в переменную `messages`."
   ]
  },
  {
   "cell_type": "code",
   "execution_count": 110,
   "metadata": {
    "deletable": false
   },
   "outputs": [],
   "source": [
    "messages = pd.read_csv('/datasets/messages.csv')"
   ]
  },
  {
   "cell_type": "markdown",
   "metadata": {
    "deletable": false,
    "editable": false,
    "tags": [
     "start_task"
    ]
   },
   "source": [
    "**Задание 10.** Выведите первые 5 строк датафрейма `messages`."
   ]
  },
  {
   "cell_type": "code",
   "execution_count": 111,
   "metadata": {
    "deletable": false
   },
   "outputs": [
    {
     "data": {
      "text/html": [
       "<div>\n",
       "<style scoped>\n",
       "    .dataframe tbody tr th:only-of-type {\n",
       "        vertical-align: middle;\n",
       "    }\n",
       "\n",
       "    .dataframe tbody tr th {\n",
       "        vertical-align: top;\n",
       "    }\n",
       "\n",
       "    .dataframe thead th {\n",
       "        text-align: right;\n",
       "    }\n",
       "</style>\n",
       "<table border=\"1\" class=\"dataframe\">\n",
       "  <thead>\n",
       "    <tr style=\"text-align: right;\">\n",
       "      <th></th>\n",
       "      <th>id</th>\n",
       "      <th>message_date</th>\n",
       "      <th>user_id</th>\n",
       "    </tr>\n",
       "  </thead>\n",
       "  <tbody>\n",
       "    <tr>\n",
       "      <th>0</th>\n",
       "      <td>1000_0</td>\n",
       "      <td>2018-06-27</td>\n",
       "      <td>1000</td>\n",
       "    </tr>\n",
       "    <tr>\n",
       "      <th>1</th>\n",
       "      <td>1000_1</td>\n",
       "      <td>2018-10-08</td>\n",
       "      <td>1000</td>\n",
       "    </tr>\n",
       "    <tr>\n",
       "      <th>2</th>\n",
       "      <td>1000_2</td>\n",
       "      <td>2018-08-04</td>\n",
       "      <td>1000</td>\n",
       "    </tr>\n",
       "    <tr>\n",
       "      <th>3</th>\n",
       "      <td>1000_3</td>\n",
       "      <td>2018-06-16</td>\n",
       "      <td>1000</td>\n",
       "    </tr>\n",
       "    <tr>\n",
       "      <th>4</th>\n",
       "      <td>1000_4</td>\n",
       "      <td>2018-12-05</td>\n",
       "      <td>1000</td>\n",
       "    </tr>\n",
       "  </tbody>\n",
       "</table>\n",
       "</div>"
      ],
      "text/plain": [
       "       id message_date  user_id\n",
       "0  1000_0   2018-06-27     1000\n",
       "1  1000_1   2018-10-08     1000\n",
       "2  1000_2   2018-08-04     1000\n",
       "3  1000_3   2018-06-16     1000\n",
       "4  1000_4   2018-12-05     1000"
      ]
     },
     "execution_count": 111,
     "metadata": {},
     "output_type": "execute_result"
    }
   ],
   "source": [
    "messages.head(5)"
   ]
  },
  {
   "cell_type": "markdown",
   "metadata": {
    "deletable": false,
    "editable": false,
    "tags": [
     "start_task"
    ]
   },
   "source": [
    "**Задание 11.** Выведите основную информацию для датафрейма `messages` с помощью метода `info()`. "
   ]
  },
  {
   "cell_type": "code",
   "execution_count": 112,
   "metadata": {
    "deletable": false
   },
   "outputs": [
    {
     "name": "stdout",
     "output_type": "stream",
     "text": [
      "<class 'pandas.core.frame.DataFrame'>\n",
      "RangeIndex: 123036 entries, 0 to 123035\n",
      "Data columns (total 3 columns):\n",
      " #   Column        Non-Null Count   Dtype \n",
      "---  ------        --------------   ----- \n",
      " 0   id            123036 non-null  object\n",
      " 1   message_date  123036 non-null  object\n",
      " 2   user_id       123036 non-null  int64 \n",
      "dtypes: int64(1), object(2)\n",
      "memory usage: 2.8+ MB\n"
     ]
    }
   ],
   "source": [
    "messages.info()"
   ]
  },
  {
   "cell_type": "markdown",
   "metadata": {
    "deletable": false,
    "editable": false,
    "tags": [
     "start_task"
    ]
   },
   "source": [
    "**Задание 12.** Откройте файл `/datasets/tariffs.csv`, сохраните датафрейм в переменную `tariffs`."
   ]
  },
  {
   "cell_type": "code",
   "execution_count": 113,
   "metadata": {
    "deletable": false
   },
   "outputs": [],
   "source": [
    "tariffs = pd.read_csv('/datasets/tariffs.csv')"
   ]
  },
  {
   "cell_type": "markdown",
   "metadata": {
    "deletable": false,
    "editable": false,
    "tags": [
     "start_task"
    ]
   },
   "source": [
    "**Задание 13.** Выведите весь датафрейм `tariffs`."
   ]
  },
  {
   "cell_type": "code",
   "execution_count": 114,
   "metadata": {
    "deletable": false
   },
   "outputs": [
    {
     "name": "stdout",
     "output_type": "stream",
     "text": [
      "   messages_included  mb_per_month_included  minutes_included  \\\n",
      "0                 50                  15360               500   \n",
      "1               1000                  30720              3000   \n",
      "\n",
      "   rub_monthly_fee  rub_per_gb  rub_per_message  rub_per_minute tariff_name  \n",
      "0              550         200                3               3       smart  \n",
      "1             1950         150                1               1       ultra  \n"
     ]
    }
   ],
   "source": [
    "print(tariffs)"
   ]
  },
  {
   "cell_type": "markdown",
   "metadata": {
    "deletable": false,
    "editable": false,
    "tags": [
     "start_task"
    ]
   },
   "source": [
    "**Задание 14.** Выведите основную информацию для датафрейма `tariffs` с помощью метода `info()`."
   ]
  },
  {
   "cell_type": "code",
   "execution_count": 115,
   "metadata": {
    "deletable": false
   },
   "outputs": [
    {
     "name": "stdout",
     "output_type": "stream",
     "text": [
      "<class 'pandas.core.frame.DataFrame'>\n",
      "RangeIndex: 2 entries, 0 to 1\n",
      "Data columns (total 8 columns):\n",
      " #   Column                 Non-Null Count  Dtype \n",
      "---  ------                 --------------  ----- \n",
      " 0   messages_included      2 non-null      int64 \n",
      " 1   mb_per_month_included  2 non-null      int64 \n",
      " 2   minutes_included       2 non-null      int64 \n",
      " 3   rub_monthly_fee        2 non-null      int64 \n",
      " 4   rub_per_gb             2 non-null      int64 \n",
      " 5   rub_per_message        2 non-null      int64 \n",
      " 6   rub_per_minute         2 non-null      int64 \n",
      " 7   tariff_name            2 non-null      object\n",
      "dtypes: int64(7), object(1)\n",
      "memory usage: 256.0+ bytes\n"
     ]
    }
   ],
   "source": [
    "tariffs.info()"
   ]
  },
  {
   "cell_type": "markdown",
   "metadata": {
    "deletable": false,
    "editable": false,
    "tags": [
     "start_task"
    ]
   },
   "source": [
    "**Задание 15.** Откройте файл `/datasets/users.csv`, сохраните датафрейм в переменную `users`."
   ]
  },
  {
   "cell_type": "code",
   "execution_count": 116,
   "metadata": {
    "deletable": false
   },
   "outputs": [],
   "source": [
    "users = pd.read_csv('/datasets/users.csv')"
   ]
  },
  {
   "cell_type": "markdown",
   "metadata": {
    "deletable": false,
    "editable": false,
    "tags": [
     "start_task"
    ]
   },
   "source": [
    "**Задание 16.** Выведите первые 5 строк датафрейма `users`."
   ]
  },
  {
   "cell_type": "code",
   "execution_count": 117,
   "metadata": {
    "deletable": false
   },
   "outputs": [
    {
     "data": {
      "text/html": [
       "<div>\n",
       "<style scoped>\n",
       "    .dataframe tbody tr th:only-of-type {\n",
       "        vertical-align: middle;\n",
       "    }\n",
       "\n",
       "    .dataframe tbody tr th {\n",
       "        vertical-align: top;\n",
       "    }\n",
       "\n",
       "    .dataframe thead th {\n",
       "        text-align: right;\n",
       "    }\n",
       "</style>\n",
       "<table border=\"1\" class=\"dataframe\">\n",
       "  <thead>\n",
       "    <tr style=\"text-align: right;\">\n",
       "      <th></th>\n",
       "      <th>user_id</th>\n",
       "      <th>age</th>\n",
       "      <th>churn_date</th>\n",
       "      <th>city</th>\n",
       "      <th>first_name</th>\n",
       "      <th>last_name</th>\n",
       "      <th>reg_date</th>\n",
       "      <th>tariff</th>\n",
       "    </tr>\n",
       "  </thead>\n",
       "  <tbody>\n",
       "    <tr>\n",
       "      <th>0</th>\n",
       "      <td>1000</td>\n",
       "      <td>52</td>\n",
       "      <td>NaN</td>\n",
       "      <td>Краснодар</td>\n",
       "      <td>Рафаил</td>\n",
       "      <td>Верещагин</td>\n",
       "      <td>2018-05-25</td>\n",
       "      <td>ultra</td>\n",
       "    </tr>\n",
       "    <tr>\n",
       "      <th>1</th>\n",
       "      <td>1001</td>\n",
       "      <td>41</td>\n",
       "      <td>NaN</td>\n",
       "      <td>Москва</td>\n",
       "      <td>Иван</td>\n",
       "      <td>Ежов</td>\n",
       "      <td>2018-11-01</td>\n",
       "      <td>smart</td>\n",
       "    </tr>\n",
       "    <tr>\n",
       "      <th>2</th>\n",
       "      <td>1002</td>\n",
       "      <td>59</td>\n",
       "      <td>NaN</td>\n",
       "      <td>Стерлитамак</td>\n",
       "      <td>Евгений</td>\n",
       "      <td>Абрамович</td>\n",
       "      <td>2018-06-17</td>\n",
       "      <td>smart</td>\n",
       "    </tr>\n",
       "    <tr>\n",
       "      <th>3</th>\n",
       "      <td>1003</td>\n",
       "      <td>23</td>\n",
       "      <td>NaN</td>\n",
       "      <td>Москва</td>\n",
       "      <td>Белла</td>\n",
       "      <td>Белякова</td>\n",
       "      <td>2018-08-17</td>\n",
       "      <td>ultra</td>\n",
       "    </tr>\n",
       "    <tr>\n",
       "      <th>4</th>\n",
       "      <td>1004</td>\n",
       "      <td>68</td>\n",
       "      <td>NaN</td>\n",
       "      <td>Новокузнецк</td>\n",
       "      <td>Татьяна</td>\n",
       "      <td>Авдеенко</td>\n",
       "      <td>2018-05-14</td>\n",
       "      <td>ultra</td>\n",
       "    </tr>\n",
       "  </tbody>\n",
       "</table>\n",
       "</div>"
      ],
      "text/plain": [
       "   user_id  age churn_date         city first_name  last_name    reg_date  \\\n",
       "0     1000   52        NaN    Краснодар     Рафаил  Верещагин  2018-05-25   \n",
       "1     1001   41        NaN       Москва       Иван       Ежов  2018-11-01   \n",
       "2     1002   59        NaN  Стерлитамак    Евгений  Абрамович  2018-06-17   \n",
       "3     1003   23        NaN       Москва      Белла   Белякова  2018-08-17   \n",
       "4     1004   68        NaN  Новокузнецк    Татьяна   Авдеенко  2018-05-14   \n",
       "\n",
       "  tariff  \n",
       "0  ultra  \n",
       "1  smart  \n",
       "2  smart  \n",
       "3  ultra  \n",
       "4  ultra  "
      ]
     },
     "execution_count": 117,
     "metadata": {},
     "output_type": "execute_result"
    }
   ],
   "source": [
    "users.head(5)"
   ]
  },
  {
   "cell_type": "markdown",
   "metadata": {
    "deletable": false,
    "editable": false,
    "tags": [
     "start_task"
    ]
   },
   "source": [
    "**Задание 17.** Выведите основную информацию для датафрейма `users` с помощью метода `info()`."
   ]
  },
  {
   "cell_type": "code",
   "execution_count": 118,
   "metadata": {
    "deletable": false
   },
   "outputs": [
    {
     "name": "stdout",
     "output_type": "stream",
     "text": [
      "<class 'pandas.core.frame.DataFrame'>\n",
      "RangeIndex: 500 entries, 0 to 499\n",
      "Data columns (total 8 columns):\n",
      " #   Column      Non-Null Count  Dtype \n",
      "---  ------      --------------  ----- \n",
      " 0   user_id     500 non-null    int64 \n",
      " 1   age         500 non-null    int64 \n",
      " 2   churn_date  38 non-null     object\n",
      " 3   city        500 non-null    object\n",
      " 4   first_name  500 non-null    object\n",
      " 5   last_name   500 non-null    object\n",
      " 6   reg_date    500 non-null    object\n",
      " 7   tariff      500 non-null    object\n",
      "dtypes: int64(2), object(6)\n",
      "memory usage: 31.4+ KB\n"
     ]
    }
   ],
   "source": [
    "users.info()"
   ]
  },
  {
   "cell_type": "markdown",
   "metadata": {
    "deletable": false,
    "editable": false
   },
   "source": [
    "### Подготовьте данные"
   ]
  },
  {
   "cell_type": "markdown",
   "metadata": {
    "deletable": false,
    "editable": false,
    "tags": [
     "start_task"
    ]
   },
   "source": [
    "**Задание 18.**  Приведите столбцы\n",
    "\n",
    "- `reg_date` из таблицы `users`\n",
    "- `churn_date` из таблицы `users`\n",
    "- `call_date` из таблицы `calls`\n",
    "- `message_date` из таблицы `messages`\n",
    "- `session_date` из таблицы `sessions`\n",
    "\n",
    "к новому типу с помощью метода `to_datetime()`."
   ]
  },
  {
   "cell_type": "code",
   "execution_count": 119,
   "metadata": {
    "deletable": false
   },
   "outputs": [],
   "source": [
    "users['reg_date'] = pd.to_datetime(users['reg_date'], format = '%Y-%m-%d')  # обработка столбца reg_date\n",
    "users['churn_date'] = pd.to_datetime(users['churn_date'], format = '%Y-%m-%d')  # обработка столбца churn_date\n",
    "\n",
    "calls['call_date'] = pd.to_datetime(calls['call_date'], format = '%Y-%m-%d')\n",
    "\n",
    "messages['message_date'] = pd.to_datetime(messages['message_date'], format = '%Y-%m-%d')  # обработка столбца call_date\n",
    "sessions['session_date'] = pd.to_datetime(sessions['session_date'], format = '%Y-%m-%d')\n",
    "# обработка столбца message_date\n",
    "# обработка столбца session_date"
   ]
  },
  {
   "cell_type": "markdown",
   "metadata": {
    "deletable": false,
    "editable": false,
    "tags": [
     "start_task"
    ]
   },
   "source": [
    "**Задание 19.** В данных вы найдёте звонки с нулевой продолжительностью. Это не ошибка: нулями обозначены пропущенные звонки, поэтому их не нужно удалять.\n",
    "\n",
    "Однако в столбце `duration` датафрейма `calls` значения дробные. Округлите значения столбца `duration` вверх с помощью метода `numpy.ceil()` и приведите столбец `duration` к типу `int`."
   ]
  },
  {
   "cell_type": "code",
   "execution_count": 128,
   "metadata": {
    "deletable": false
   },
   "outputs": [],
   "source": [
    "import numpy as np\n",
    "\n",
    "calls['duration'] = np.ceil(calls['duration'])\n",
    "calls['duration'] = calls['duration'].astype('int') \n",
    "# округление значений столбца duration с помощью np.ceil() и приведение типа к int"
   ]
  },
  {
   "cell_type": "markdown",
   "metadata": {
    "deletable": false,
    "editable": false,
    "tags": [
     "start_task"
    ]
   },
   "source": [
    "**Задание 20.** Удалите столбец `Unnamed: 0` из датафрейма `sessions`. Столбец с таким названием возникает, когда данные сохраняют с указанием индекса (`df.to_csv(..., index=column)`). Он сейчас не понадобится."
   ]
  },
  {
   "cell_type": "code",
   "execution_count": 103,
   "metadata": {
    "deletable": false
   },
   "outputs": [],
   "source": [
    "del sessions['Unnamed: 0']"
   ]
  },
  {
   "cell_type": "markdown",
   "metadata": {
    "deletable": false,
    "editable": false,
    "tags": [
     "start_task"
    ]
   },
   "source": [
    "**Задание 21.** Создайте столбец `month` в датафрейме `calls` с номером месяца из столбца `call_date`."
   ]
  },
  {
   "cell_type": "code",
   "execution_count": 99,
   "metadata": {
    "deletable": false
   },
   "outputs": [],
   "source": [
    "calls['month'] = pd.DatetimeIndex(calls['call_date']).month"
   ]
  },
  {
   "cell_type": "markdown",
   "metadata": {
    "deletable": false,
    "editable": false,
    "tags": [
     "start_task"
    ]
   },
   "source": [
    "**Задание 22.** Создайте столбец `month` в датафрейме `messages` с номером месяца из столбца `message_date`."
   ]
  },
  {
   "cell_type": "code",
   "execution_count": 141,
   "metadata": {
    "deletable": false
   },
   "outputs": [],
   "source": [
    "messages['month'] = pd.DatetimeIndex(messages['message_date']).month"
   ]
  },
  {
   "cell_type": "markdown",
   "metadata": {
    "deletable": false,
    "editable": false,
    "tags": [
     "start_task"
    ]
   },
   "source": [
    "**Задание 23.** Создайте столбец `month` в датафрейме `sessions` с номером месяца из столбца `session_date`."
   ]
  },
  {
   "cell_type": "code",
   "execution_count": 144,
   "metadata": {
    "deletable": false
   },
   "outputs": [],
   "source": [
    "sessions['month'] = pd.DatetimeIndex(sessions['session_date']).month"
   ]
  },
  {
   "cell_type": "markdown",
   "metadata": {
    "deletable": false,
    "editable": false,
    "tags": [
     "start_task"
    ]
   },
   "source": [
    "**Задание 24.** Посчитайте количество сделанных звонков разговора для каждого пользователя по месяцам."
   ]
  },
  {
   "cell_type": "code",
   "execution_count": 136,
   "metadata": {
    "deletable": false
   },
   "outputs": [
    {
     "name": "stdout",
     "output_type": "stream",
     "text": [
      "               calls\n",
      "user_id month       \n",
      "1000    5         22\n",
      "        6         43\n",
      "        7         47\n",
      "        8         52\n",
      "        9         58\n",
      "        10        57\n",
      "        11        43\n",
      "        12        46\n",
      "1001    11        59\n",
      "        12        63\n",
      "1002    6         15\n",
      "        7         26\n",
      "        8         42\n",
      "        9         36\n",
      "        10        33\n",
      "        11        32\n",
      "        12        33\n",
      "1003    8         55\n",
      "        9        134\n",
      "        10       108\n",
      "        11       115\n",
      "        12       108\n",
      "1004    5          9\n",
      "        6         31\n",
      "        7         22\n",
      "        8         19\n",
      "        9         26\n",
      "        10        29\n",
      "        11        19\n",
      "        12        21\n"
     ]
    }
   ],
   "source": [
    "calls_per_month = calls.groupby(['user_id','month']).agg(calls=('duration', 'count'))\n",
    "print(calls_per_month.head(30))\n",
    "\n",
    "# подсчёт количества звонков для каждого пользователя по месяцам"
   ]
  },
  {
   "cell_type": "code",
   "execution_count": 2,
   "metadata": {
    "deletable": false
   },
   "outputs": [],
   "source": [
    "# вывод 30 первых строк на экран"
   ]
  },
  {
   "cell_type": "markdown",
   "metadata": {
    "deletable": false,
    "editable": false,
    "tags": [
     "start_task"
    ]
   },
   "source": [
    "**Задание 25.** Посчитайте количество израсходованных минут разговора для каждого пользователя по месяцам и сохраните в переменную `minutes_per_month`. Вам понадобится\n",
    "\n",
    "- сгруппировать датафрейм с информацией о звонках по двум столбцам — с идентификаторами пользователей и номерами месяцев;\n",
    "- после группировки выбрать столбец `duration`\n",
    "- затем применить метод для подсчёта суммы.\n",
    "\n",
    "Выведите первые 30 строчек `minutes_per_month`."
   ]
  },
  {
   "cell_type": "code",
   "execution_count": 138,
   "metadata": {
    "deletable": false
   },
   "outputs": [
    {
     "name": "stdout",
     "output_type": "stream",
     "text": [
      "               minutes\n",
      "user_id month         \n",
      "1000    5            0\n",
      "        6            0\n",
      "        7            0\n",
      "        8            0\n",
      "        9            0\n",
      "        10           0\n",
      "        11           0\n",
      "        12           0\n",
      "1001    11           0\n",
      "        12           0\n",
      "1002    6            0\n",
      "        7            0\n",
      "        8            0\n",
      "        9            0\n",
      "        10           0\n",
      "        11           0\n",
      "        12           0\n",
      "1003    8            0\n",
      "        9            0\n",
      "        10           0\n",
      "        11           0\n",
      "        12           0\n",
      "1004    5            0\n",
      "        6            0\n",
      "        7            0\n",
      "        8            0\n",
      "        9            0\n",
      "        10           0\n",
      "        11           0\n",
      "        12           0\n"
     ]
    }
   ],
   "source": [
    "minutes_per_month = calls.groupby(['user_id','month']).agg(minutes=('duration', 'sum'))\n",
    "print(minutes_per_month.head(30))    # подсчёт израсходованных минут для каждого пользователя по месяцам"
   ]
  },
  {
   "cell_type": "code",
   "execution_count": 4,
   "metadata": {
    "deletable": false
   },
   "outputs": [],
   "source": [
    "# вывод первых 30 строк на экран"
   ]
  },
  {
   "cell_type": "markdown",
   "metadata": {
    "deletable": false,
    "editable": false,
    "tags": [
     "start_task"
    ]
   },
   "source": [
    "**Задание 26.** Посчитайте количество отправленных сообщений по месяцам для каждого пользователя и сохраните в переменную `messages_per_month`. Вам понадобится\n",
    "\n",
    "- сгруппировать датафрейм с информацией о сообщениях по двум столбцам — с идентификаторами пользователей и номерами месяцев;\n",
    "- после группировки выбрать столбец `message_date`;\n",
    "- затем применить метод для подсчёта количества.\n",
    "\n",
    "Выведите первые 30 строчек `messages_per_month`."
   ]
  },
  {
   "cell_type": "code",
   "execution_count": 142,
   "metadata": {
    "deletable": false
   },
   "outputs": [
    {
     "name": "stdout",
     "output_type": "stream",
     "text": [
      "               messages\n",
      "user_id month          \n",
      "1000    5            22\n",
      "        6            60\n",
      "        7            75\n",
      "        8            81\n",
      "        9            57\n",
      "        10           73\n",
      "        11           58\n",
      "        12           70\n",
      "1002    6             4\n",
      "        7            11\n",
      "        8            13\n",
      "        9             4\n",
      "        10           10\n",
      "        11           16\n",
      "        12           12\n",
      "1003    8            37\n",
      "        9            91\n",
      "        10           83\n",
      "        11           94\n",
      "        12           75\n",
      "1004    5            95\n",
      "        6           134\n",
      "        7           181\n",
      "        8           151\n",
      "        9           146\n",
      "        10          165\n",
      "        11          158\n",
      "        12          162\n",
      "1005    1             7\n",
      "        2            38\n"
     ]
    }
   ],
   "source": [
    "messages_per_month = messages.groupby(['user_id','month']).agg(messages=('message_date', 'count'))\n",
    "print(messages_per_month.head(30))# подсчёт количества отправленных сообщений для каждого пользователя по месяцам"
   ]
  },
  {
   "cell_type": "code",
   "execution_count": 6,
   "metadata": {
    "deletable": false
   },
   "outputs": [],
   "source": [
    "# вывод первых 30 строк на экран"
   ]
  },
  {
   "cell_type": "markdown",
   "metadata": {
    "deletable": false,
    "editable": false,
    "tags": [
     "start_task"
    ]
   },
   "source": [
    "**Задание 27.** Посчитайте количество потраченных мегабайт по месяцам для каждого пользователя и сохраните в переменную `sessions_per_month`. Вам понадобится\n",
    "\n",
    "- сгруппировать датафрейм с информацией о сообщениях по двум столбцам — с идентификаторами пользователей и номерами месяцев;\n",
    "- затем применить метод для подсчёта суммы: `.agg({'mb_used': 'sum'})`"
   ]
  },
  {
   "cell_type": "code",
   "execution_count": 148,
   "metadata": {
    "deletable": false
   },
   "outputs": [
    {
     "name": "stdout",
     "output_type": "stream",
     "text": [
      "                mb_used\n",
      "user_id month          \n",
      "1000    5       2253.49\n",
      "        6      23233.77\n",
      "        7      14003.64\n",
      "        8      14055.93\n",
      "        9      14568.91\n",
      "        10     14702.49\n",
      "        11     14756.47\n",
      "        12      9817.61\n",
      "1001    11     18429.34\n",
      "        12     14036.66\n",
      "1002    6      10856.82\n",
      "        7      17580.10\n",
      "        8      20319.26\n",
      "        9      16691.08\n",
      "        10     13888.25\n",
      "        11     18587.28\n",
      "        12     18113.73\n",
      "1003    8       8565.21\n",
      "        9      12468.87\n",
      "        10     14768.14\n",
      "        11     11356.89\n",
      "        12     10121.53\n",
      "1004    5      13403.98\n",
      "        6      17600.02\n",
      "        7      22229.58\n",
      "        8      28584.37\n",
      "        9      15109.03\n",
      "        10     18475.44\n",
      "        11     15616.02\n",
      "        12     18021.04\n"
     ]
    }
   ],
   "source": [
    "sessions_per_month = sessions.groupby(['user_id','month']).agg({'mb_used': 'sum'})\n",
    "print(sessions_per_month.head(30))   # подсчёт потраченных мегабайт для каждого пользователя по месяцам"
   ]
  },
  {
   "cell_type": "code",
   "execution_count": 8,
   "metadata": {
    "deletable": false
   },
   "outputs": [],
   "source": [
    "# вывод первых 30 строк на экран"
   ]
  },
  {
   "cell_type": "markdown",
   "metadata": {
    "deletable": false,
    "editable": false
   },
   "source": [
    "### Анализ данных и подсчёт выручки"
   ]
  },
  {
   "cell_type": "markdown",
   "metadata": {
    "deletable": false,
    "editable": false
   },
   "source": [
    "Объединяем все посчитанные выше значения в один датафрейм `user_behavior`.\n",
    "Для каждой пары \"пользователь - месяц\" будут доступны информация о тарифе, количестве звонков, сообщений и потраченных мегабайтах."
   ]
  },
  {
   "cell_type": "code",
   "execution_count": 149,
   "metadata": {
    "deletable": false
   },
   "outputs": [
    {
     "data": {
      "text/plain": [
       "7.6"
      ]
     },
     "execution_count": 149,
     "metadata": {},
     "output_type": "execute_result"
    }
   ],
   "source": [
    "users['churn_date'].count() / users['churn_date'].shape[0] * 100"
   ]
  },
  {
   "cell_type": "markdown",
   "metadata": {
    "deletable": false,
    "editable": false
   },
   "source": [
    "Расторгли договор 7.6% клиентов из датасета"
   ]
  },
  {
   "cell_type": "code",
   "execution_count": 151,
   "metadata": {
    "deletable": false
   },
   "outputs": [
    {
     "data": {
      "text/html": [
       "<div>\n",
       "<style scoped>\n",
       "    .dataframe tbody tr th:only-of-type {\n",
       "        vertical-align: middle;\n",
       "    }\n",
       "\n",
       "    .dataframe tbody tr th {\n",
       "        vertical-align: top;\n",
       "    }\n",
       "\n",
       "    .dataframe thead th {\n",
       "        text-align: right;\n",
       "    }\n",
       "</style>\n",
       "<table border=\"1\" class=\"dataframe\">\n",
       "  <thead>\n",
       "    <tr style=\"text-align: right;\">\n",
       "      <th></th>\n",
       "      <th>user_id</th>\n",
       "      <th>month</th>\n",
       "      <th>calls</th>\n",
       "      <th>messages</th>\n",
       "      <th>mb_used</th>\n",
       "      <th>minutes</th>\n",
       "      <th>age</th>\n",
       "      <th>churn_date</th>\n",
       "      <th>city</th>\n",
       "      <th>first_name</th>\n",
       "      <th>last_name</th>\n",
       "      <th>reg_date</th>\n",
       "      <th>tariff</th>\n",
       "    </tr>\n",
       "  </thead>\n",
       "  <tbody>\n",
       "    <tr>\n",
       "      <th>0</th>\n",
       "      <td>1000</td>\n",
       "      <td>5</td>\n",
       "      <td>22.0</td>\n",
       "      <td>22.0</td>\n",
       "      <td>2253.49</td>\n",
       "      <td>0.0</td>\n",
       "      <td>52</td>\n",
       "      <td>NaT</td>\n",
       "      <td>Краснодар</td>\n",
       "      <td>Рафаил</td>\n",
       "      <td>Верещагин</td>\n",
       "      <td>2018-05-25</td>\n",
       "      <td>ultra</td>\n",
       "    </tr>\n",
       "    <tr>\n",
       "      <th>1</th>\n",
       "      <td>1000</td>\n",
       "      <td>6</td>\n",
       "      <td>43.0</td>\n",
       "      <td>60.0</td>\n",
       "      <td>23233.77</td>\n",
       "      <td>0.0</td>\n",
       "      <td>52</td>\n",
       "      <td>NaT</td>\n",
       "      <td>Краснодар</td>\n",
       "      <td>Рафаил</td>\n",
       "      <td>Верещагин</td>\n",
       "      <td>2018-05-25</td>\n",
       "      <td>ultra</td>\n",
       "    </tr>\n",
       "    <tr>\n",
       "      <th>2</th>\n",
       "      <td>1000</td>\n",
       "      <td>7</td>\n",
       "      <td>47.0</td>\n",
       "      <td>75.0</td>\n",
       "      <td>14003.64</td>\n",
       "      <td>0.0</td>\n",
       "      <td>52</td>\n",
       "      <td>NaT</td>\n",
       "      <td>Краснодар</td>\n",
       "      <td>Рафаил</td>\n",
       "      <td>Верещагин</td>\n",
       "      <td>2018-05-25</td>\n",
       "      <td>ultra</td>\n",
       "    </tr>\n",
       "    <tr>\n",
       "      <th>3</th>\n",
       "      <td>1000</td>\n",
       "      <td>8</td>\n",
       "      <td>52.0</td>\n",
       "      <td>81.0</td>\n",
       "      <td>14055.93</td>\n",
       "      <td>0.0</td>\n",
       "      <td>52</td>\n",
       "      <td>NaT</td>\n",
       "      <td>Краснодар</td>\n",
       "      <td>Рафаил</td>\n",
       "      <td>Верещагин</td>\n",
       "      <td>2018-05-25</td>\n",
       "      <td>ultra</td>\n",
       "    </tr>\n",
       "    <tr>\n",
       "      <th>4</th>\n",
       "      <td>1000</td>\n",
       "      <td>9</td>\n",
       "      <td>58.0</td>\n",
       "      <td>57.0</td>\n",
       "      <td>14568.91</td>\n",
       "      <td>0.0</td>\n",
       "      <td>52</td>\n",
       "      <td>NaT</td>\n",
       "      <td>Краснодар</td>\n",
       "      <td>Рафаил</td>\n",
       "      <td>Верещагин</td>\n",
       "      <td>2018-05-25</td>\n",
       "      <td>ultra</td>\n",
       "    </tr>\n",
       "  </tbody>\n",
       "</table>\n",
       "</div>"
      ],
      "text/plain": [
       "   user_id  month  calls  messages   mb_used  minutes  age churn_date  \\\n",
       "0     1000      5   22.0      22.0   2253.49      0.0   52        NaT   \n",
       "1     1000      6   43.0      60.0  23233.77      0.0   52        NaT   \n",
       "2     1000      7   47.0      75.0  14003.64      0.0   52        NaT   \n",
       "3     1000      8   52.0      81.0  14055.93      0.0   52        NaT   \n",
       "4     1000      9   58.0      57.0  14568.91      0.0   52        NaT   \n",
       "\n",
       "        city first_name  last_name   reg_date tariff  \n",
       "0  Краснодар     Рафаил  Верещагин 2018-05-25  ultra  \n",
       "1  Краснодар     Рафаил  Верещагин 2018-05-25  ultra  \n",
       "2  Краснодар     Рафаил  Верещагин 2018-05-25  ultra  \n",
       "3  Краснодар     Рафаил  Верещагин 2018-05-25  ultra  \n",
       "4  Краснодар     Рафаил  Верещагин 2018-05-25  ultra  "
      ]
     },
     "execution_count": 151,
     "metadata": {},
     "output_type": "execute_result"
    }
   ],
   "source": [
    "user_behavior = calls_per_month\\\n",
    "    .merge(messages_per_month, left_index=True, right_index=True, how='outer')\\\n",
    "    .merge(sessions_per_month, left_index=True, right_index=True, how='outer')\\\n",
    "    .merge(minutes_per_month, left_index=True, right_index=True, how='outer')\\\n",
    "    .reset_index()\\\n",
    "    .merge(users, how='left', left_on='user_id', right_on='user_id')\\\n",
    "\n",
    "user_behavior.head()"
   ]
  },
  {
   "cell_type": "markdown",
   "metadata": {
    "deletable": false,
    "editable": false
   },
   "source": [
    "Проверим пропуски в таблице `user_behavior` после объединения:"
   ]
  },
  {
   "cell_type": "code",
   "execution_count": 152,
   "metadata": {
    "deletable": false
   },
   "outputs": [
    {
     "data": {
      "text/plain": [
       "user_id          0\n",
       "month            0\n",
       "calls           40\n",
       "messages       497\n",
       "mb_used         11\n",
       "minutes         40\n",
       "age              0\n",
       "churn_date    3027\n",
       "city             0\n",
       "first_name       0\n",
       "last_name        0\n",
       "reg_date         0\n",
       "tariff           0\n",
       "dtype: int64"
      ]
     },
     "execution_count": 152,
     "metadata": {},
     "output_type": "execute_result"
    }
   ],
   "source": [
    "user_behavior.isna().sum()"
   ]
  },
  {
   "cell_type": "markdown",
   "metadata": {
    "deletable": false,
    "editable": false
   },
   "source": [
    "Заполним образовавшиеся пропуски в данных:"
   ]
  },
  {
   "cell_type": "code",
   "execution_count": 153,
   "metadata": {
    "deletable": false
   },
   "outputs": [],
   "source": [
    "user_behavior['calls'] = user_behavior['calls'].fillna(0)\n",
    "user_behavior['minutes'] = user_behavior['minutes'].fillna(0)\n",
    "user_behavior['messages'] = user_behavior['messages'].fillna(0)\n",
    "user_behavior['mb_used'] = user_behavior['mb_used'].fillna(0)"
   ]
  },
  {
   "cell_type": "markdown",
   "metadata": {
    "deletable": false,
    "editable": false
   },
   "source": [
    "Присоединяем информацию о тарифах"
   ]
  },
  {
   "cell_type": "code",
   "execution_count": 154,
   "metadata": {
    "deletable": false
   },
   "outputs": [],
   "source": [
    "# переименование столбца tariff_name на более простое tariff\n",
    "\n",
    "tariffs = tariffs.rename(\n",
    "    columns={\n",
    "        'tariff_name': 'tariff'\n",
    "    }\n",
    ")"
   ]
  },
  {
   "cell_type": "code",
   "execution_count": 155,
   "metadata": {
    "deletable": false
   },
   "outputs": [],
   "source": [
    "user_behavior = user_behavior.merge(tariffs, on='tariff')"
   ]
  },
  {
   "cell_type": "markdown",
   "metadata": {
    "deletable": false,
    "editable": false
   },
   "source": [
    "Считаем количество минут разговора, сообщений и мегабайт, превышающих включенные в тариф\n"
   ]
  },
  {
   "cell_type": "code",
   "execution_count": 156,
   "metadata": {
    "deletable": false
   },
   "outputs": [],
   "source": [
    "user_behavior['paid_minutes'] = user_behavior['minutes'] - user_behavior['minutes_included']\n",
    "user_behavior['paid_messages'] = user_behavior['messages'] - user_behavior['messages_included']\n",
    "user_behavior['paid_mb'] = user_behavior['mb_used'] - user_behavior['mb_per_month_included']\n",
    "\n",
    "for col in ['paid_messages', 'paid_minutes', 'paid_mb']:\n",
    "    user_behavior.loc[user_behavior[col] < 0, col] = 0"
   ]
  },
  {
   "cell_type": "markdown",
   "metadata": {
    "deletable": false,
    "editable": false
   },
   "source": [
    "Переводим превышающие тариф мегабайты в гигабайты и сохраняем в столбец `paid_gb`"
   ]
  },
  {
   "cell_type": "code",
   "execution_count": 157,
   "metadata": {
    "deletable": false
   },
   "outputs": [],
   "source": [
    "user_behavior['paid_gb'] = np.ceil(user_behavior['paid_mb'] / 1024).astype(int)"
   ]
  },
  {
   "cell_type": "markdown",
   "metadata": {
    "deletable": false,
    "editable": false
   },
   "source": [
    "Считаем выручку за минуты разговора, сообщения и интернет"
   ]
  },
  {
   "cell_type": "code",
   "execution_count": 158,
   "metadata": {
    "deletable": false
   },
   "outputs": [],
   "source": [
    "user_behavior['cost_minutes'] = user_behavior['paid_minutes'] * user_behavior['rub_per_minute']\n",
    "user_behavior['cost_messages'] = user_behavior['paid_messages'] * user_behavior['rub_per_message']\n",
    "user_behavior['cost_gb'] = user_behavior['paid_gb'] * user_behavior['rub_per_gb']"
   ]
  },
  {
   "cell_type": "markdown",
   "metadata": {
    "deletable": false,
    "editable": false
   },
   "source": [
    "Считаем помесячную выручку с каждого пользователя, она будет храниться в столбец `total_cost`"
   ]
  },
  {
   "cell_type": "code",
   "execution_count": 159,
   "metadata": {
    "deletable": false
   },
   "outputs": [],
   "source": [
    "user_behavior['total_cost'] = \\\n",
    "      user_behavior['rub_monthly_fee']\\\n",
    "    + user_behavior['cost_minutes']\\\n",
    "    + user_behavior['cost_messages']\\\n",
    "    + user_behavior['cost_gb']"
   ]
  },
  {
   "cell_type": "markdown",
   "metadata": {
    "deletable": false,
    "editable": false
   },
   "source": [
    "Датафрейм `stats_df` для каждой пары \"месяц-тариф\" будет хранить основные характеристики"
   ]
  },
  {
   "cell_type": "code",
   "execution_count": 160,
   "metadata": {
    "deletable": false
   },
   "outputs": [
    {
     "data": {
      "text/html": [
       "<div>\n",
       "<style scoped>\n",
       "    .dataframe tbody tr th:only-of-type {\n",
       "        vertical-align: middle;\n",
       "    }\n",
       "\n",
       "    .dataframe tbody tr th {\n",
       "        vertical-align: top;\n",
       "    }\n",
       "\n",
       "    .dataframe thead th {\n",
       "        text-align: right;\n",
       "    }\n",
       "</style>\n",
       "<table border=\"1\" class=\"dataframe\">\n",
       "  <thead>\n",
       "    <tr style=\"text-align: right;\">\n",
       "      <th></th>\n",
       "      <th>month</th>\n",
       "      <th>tariff</th>\n",
       "      <th>calls_mean</th>\n",
       "      <th>sessions_mean</th>\n",
       "      <th>messages_mean</th>\n",
       "      <th>minutes_mean</th>\n",
       "      <th>calls_std</th>\n",
       "      <th>sessions_std</th>\n",
       "      <th>messages_std</th>\n",
       "      <th>minutes_std</th>\n",
       "      <th>calls_median</th>\n",
       "      <th>sessions_median</th>\n",
       "      <th>messages_median</th>\n",
       "      <th>minutes_median</th>\n",
       "    </tr>\n",
       "  </thead>\n",
       "  <tbody>\n",
       "    <tr>\n",
       "      <th>0</th>\n",
       "      <td>1</td>\n",
       "      <td>smart</td>\n",
       "      <td>27.68</td>\n",
       "      <td>8513.72</td>\n",
       "      <td>18.24</td>\n",
       "      <td>0.0</td>\n",
       "      <td>20.81</td>\n",
       "      <td>6444.68</td>\n",
       "      <td>16.20</td>\n",
       "      <td>0.0</td>\n",
       "      <td>20.5</td>\n",
       "      <td>7096.18</td>\n",
       "      <td>15.0</td>\n",
       "      <td>0.0</td>\n",
       "    </tr>\n",
       "    <tr>\n",
       "      <th>1</th>\n",
       "      <td>1</td>\n",
       "      <td>ultra</td>\n",
       "      <td>59.44</td>\n",
       "      <td>13140.68</td>\n",
       "      <td>33.78</td>\n",
       "      <td>0.0</td>\n",
       "      <td>41.64</td>\n",
       "      <td>6865.35</td>\n",
       "      <td>30.67</td>\n",
       "      <td>0.0</td>\n",
       "      <td>51.0</td>\n",
       "      <td>14791.37</td>\n",
       "      <td>32.0</td>\n",
       "      <td>0.0</td>\n",
       "    </tr>\n",
       "    <tr>\n",
       "      <th>2</th>\n",
       "      <td>2</td>\n",
       "      <td>smart</td>\n",
       "      <td>40.19</td>\n",
       "      <td>11597.05</td>\n",
       "      <td>24.09</td>\n",
       "      <td>0.0</td>\n",
       "      <td>25.39</td>\n",
       "      <td>6247.35</td>\n",
       "      <td>21.75</td>\n",
       "      <td>0.0</td>\n",
       "      <td>38.5</td>\n",
       "      <td>12553.71</td>\n",
       "      <td>20.0</td>\n",
       "      <td>0.0</td>\n",
       "    </tr>\n",
       "    <tr>\n",
       "      <th>3</th>\n",
       "      <td>2</td>\n",
       "      <td>ultra</td>\n",
       "      <td>41.54</td>\n",
       "      <td>11775.94</td>\n",
       "      <td>21.96</td>\n",
       "      <td>0.0</td>\n",
       "      <td>40.97</td>\n",
       "      <td>10644.64</td>\n",
       "      <td>26.77</td>\n",
       "      <td>0.0</td>\n",
       "      <td>25.0</td>\n",
       "      <td>7327.12</td>\n",
       "      <td>5.5</td>\n",
       "      <td>0.0</td>\n",
       "    </tr>\n",
       "    <tr>\n",
       "      <th>4</th>\n",
       "      <td>3</td>\n",
       "      <td>smart</td>\n",
       "      <td>54.32</td>\n",
       "      <td>15104.16</td>\n",
       "      <td>31.86</td>\n",
       "      <td>0.0</td>\n",
       "      <td>25.54</td>\n",
       "      <td>5828.24</td>\n",
       "      <td>26.80</td>\n",
       "      <td>0.0</td>\n",
       "      <td>59.0</td>\n",
       "      <td>15670.25</td>\n",
       "      <td>23.0</td>\n",
       "      <td>0.0</td>\n",
       "    </tr>\n",
       "    <tr>\n",
       "      <th>5</th>\n",
       "      <td>3</td>\n",
       "      <td>ultra</td>\n",
       "      <td>67.68</td>\n",
       "      <td>17535.55</td>\n",
       "      <td>32.30</td>\n",
       "      <td>0.0</td>\n",
       "      <td>44.84</td>\n",
       "      <td>10951.79</td>\n",
       "      <td>41.62</td>\n",
       "      <td>0.0</td>\n",
       "      <td>57.0</td>\n",
       "      <td>17495.18</td>\n",
       "      <td>20.0</td>\n",
       "      <td>0.0</td>\n",
       "    </tr>\n",
       "    <tr>\n",
       "      <th>6</th>\n",
       "      <td>4</td>\n",
       "      <td>smart</td>\n",
       "      <td>51.31</td>\n",
       "      <td>13462.18</td>\n",
       "      <td>30.74</td>\n",
       "      <td>0.0</td>\n",
       "      <td>25.70</td>\n",
       "      <td>5698.25</td>\n",
       "      <td>24.54</td>\n",
       "      <td>0.0</td>\n",
       "      <td>52.0</td>\n",
       "      <td>14087.65</td>\n",
       "      <td>28.0</td>\n",
       "      <td>0.0</td>\n",
       "    </tr>\n",
       "    <tr>\n",
       "      <th>7</th>\n",
       "      <td>4</td>\n",
       "      <td>ultra</td>\n",
       "      <td>64.09</td>\n",
       "      <td>16828.13</td>\n",
       "      <td>31.56</td>\n",
       "      <td>0.0</td>\n",
       "      <td>36.27</td>\n",
       "      <td>9718.65</td>\n",
       "      <td>37.51</td>\n",
       "      <td>0.0</td>\n",
       "      <td>61.0</td>\n",
       "      <td>16645.78</td>\n",
       "      <td>17.0</td>\n",
       "      <td>0.0</td>\n",
       "    </tr>\n",
       "    <tr>\n",
       "      <th>8</th>\n",
       "      <td>5</td>\n",
       "      <td>smart</td>\n",
       "      <td>55.24</td>\n",
       "      <td>15805.18</td>\n",
       "      <td>33.77</td>\n",
       "      <td>0.0</td>\n",
       "      <td>25.38</td>\n",
       "      <td>5978.23</td>\n",
       "      <td>27.04</td>\n",
       "      <td>0.0</td>\n",
       "      <td>59.0</td>\n",
       "      <td>16323.94</td>\n",
       "      <td>30.0</td>\n",
       "      <td>0.0</td>\n",
       "    </tr>\n",
       "    <tr>\n",
       "      <th>9</th>\n",
       "      <td>5</td>\n",
       "      <td>ultra</td>\n",
       "      <td>72.51</td>\n",
       "      <td>19363.15</td>\n",
       "      <td>37.85</td>\n",
       "      <td>0.0</td>\n",
       "      <td>41.08</td>\n",
       "      <td>10046.11</td>\n",
       "      <td>40.31</td>\n",
       "      <td>0.0</td>\n",
       "      <td>75.0</td>\n",
       "      <td>18696.43</td>\n",
       "      <td>25.0</td>\n",
       "      <td>0.0</td>\n",
       "    </tr>\n",
       "  </tbody>\n",
       "</table>\n",
       "</div>"
      ],
      "text/plain": [
       "   month tariff  calls_mean  sessions_mean  messages_mean  minutes_mean  \\\n",
       "0      1  smart       27.68        8513.72          18.24           0.0   \n",
       "1      1  ultra       59.44       13140.68          33.78           0.0   \n",
       "2      2  smart       40.19       11597.05          24.09           0.0   \n",
       "3      2  ultra       41.54       11775.94          21.96           0.0   \n",
       "4      3  smart       54.32       15104.16          31.86           0.0   \n",
       "5      3  ultra       67.68       17535.55          32.30           0.0   \n",
       "6      4  smart       51.31       13462.18          30.74           0.0   \n",
       "7      4  ultra       64.09       16828.13          31.56           0.0   \n",
       "8      5  smart       55.24       15805.18          33.77           0.0   \n",
       "9      5  ultra       72.51       19363.15          37.85           0.0   \n",
       "\n",
       "   calls_std  sessions_std  messages_std  minutes_std  calls_median  \\\n",
       "0      20.81       6444.68         16.20          0.0          20.5   \n",
       "1      41.64       6865.35         30.67          0.0          51.0   \n",
       "2      25.39       6247.35         21.75          0.0          38.5   \n",
       "3      40.97      10644.64         26.77          0.0          25.0   \n",
       "4      25.54       5828.24         26.80          0.0          59.0   \n",
       "5      44.84      10951.79         41.62          0.0          57.0   \n",
       "6      25.70       5698.25         24.54          0.0          52.0   \n",
       "7      36.27       9718.65         37.51          0.0          61.0   \n",
       "8      25.38       5978.23         27.04          0.0          59.0   \n",
       "9      41.08      10046.11         40.31          0.0          75.0   \n",
       "\n",
       "   sessions_median  messages_median  minutes_median  \n",
       "0          7096.18             15.0             0.0  \n",
       "1         14791.37             32.0             0.0  \n",
       "2         12553.71             20.0             0.0  \n",
       "3          7327.12              5.5             0.0  \n",
       "4         15670.25             23.0             0.0  \n",
       "5         17495.18             20.0             0.0  \n",
       "6         14087.65             28.0             0.0  \n",
       "7         16645.78             17.0             0.0  \n",
       "8         16323.94             30.0             0.0  \n",
       "9         18696.43             25.0             0.0  "
      ]
     },
     "execution_count": 160,
     "metadata": {},
     "output_type": "execute_result"
    }
   ],
   "source": [
    "# сохранение статистических метрик для каждой пары месяц-тариф\n",
    "# в одной таблице stats_df (среднее значение, стандартное отклонение, медиана)\n",
    "\n",
    "stats_df = user_behavior.pivot_table(\n",
    "            index=['month', 'tariff'],\\\n",
    "            values=['calls', 'minutes', 'messages', 'mb_used'],\\\n",
    "            aggfunc=['mean', 'std', 'median']\\\n",
    ").round(2).reset_index()\n",
    "\n",
    "stats_df.columns=['month', 'tariff', 'calls_mean', 'sessions_mean', 'messages_mean', 'minutes_mean',\n",
    "                                     'calls_std',  'sessions_std', 'messages_std', 'minutes_std', \n",
    "                                     'calls_median', 'sessions_median', 'messages_median',  'minutes_median']\n",
    "\n",
    "stats_df.head(10)"
   ]
  },
  {
   "cell_type": "markdown",
   "metadata": {
    "deletable": false,
    "editable": false
   },
   "source": [
    "Распределение среднего количества звонков по видам тарифов и месяцам"
   ]
  },
  {
   "cell_type": "code",
   "execution_count": 161,
   "metadata": {
    "deletable": false
   },
   "outputs": [
    {
     "data": {
      "image/png": "[encoded data removed]",
      "text/plain": [
       "<Figure size 432x288 with 1 Axes>"
      ]
     },
     "metadata": {
      "needs_background": "light"
     },
     "output_type": "display_data"
    }
   ],
   "source": [
    "import seaborn as sns\n",
    "\n",
    "ax = sns.barplot(x='month',\n",
    "            y='calls_mean',\n",
    "            hue=\"tariff\",\n",
    "            data=stats_df,\n",
    "            palette=['lightblue', 'blue'])\n",
    "\n",
    "ax.set_title('Распределение количества звонков по видам тарифов и месяцам')\n",
    "ax.set(xlabel='Номер месяца', ylabel='Среднее количество звонков');"
   ]
  },
  {
   "cell_type": "code",
   "execution_count": 170,
   "metadata": {
    "deletable": false
   },
   "outputs": [
    {
     "data": {
      "image/png": "[encoded data removed]",
      "text/plain": [
       "<Figure size 432x288 with 1 Axes>"
      ]
     },
     "metadata": {
      "needs_background": "light"
     },
     "output_type": "display_data"
    }
   ],
   "source": [
    "import matplotlib.pyplot as plt\n",
    "\n",
    "user_behavior.groupby('tariff')['calls'].plot(kind='hist', bins=35, alpha=0.5)\n",
    "plt.legend(['Smart', 'Ultra'])\n",
    "plt.xlabel('Количество звонков')\n",
    "plt.ylabel('Количество клиентов')\n",
    "plt.show()"
   ]
  },
  {
   "cell_type": "markdown",
   "metadata": {
    "deletable": false,
    "editable": false
   },
   "source": [
    "Распределение средней продолжительности звонков по видам тарифов и месяцам"
   ]
  },
  {
   "cell_type": "code",
   "execution_count": 171,
   "metadata": {
    "deletable": false
   },
   "outputs": [
    {
     "data": {
      "image/png": "[encoded data removed]",
      "text/plain": [
       "<Figure size 432x288 with 1 Axes>"
      ]
     },
     "metadata": {
      "needs_background": "light"
     },
     "output_type": "display_data"
    }
   ],
   "source": [
    "ax = sns.barplot(x='month',\n",
    "            y='minutes_mean',\n",
    "            hue=\"tariff\",\n",
    "            data=stats_df,\n",
    "            palette=['lightblue', 'blue'])\n",
    "\n",
    "ax.set_title('Распределение продолжительности звонков по видам тарифов и месяцам')\n",
    "ax.set(xlabel='Номер месяца', ylabel='Средняя продолжительность звонков');"
   ]
  },
  {
   "cell_type": "code",
   "execution_count": 164,
   "metadata": {
    "deletable": false
   },
   "outputs": [
    {
     "data": {
      "image/png": "[encoded data removed]",
      "text/plain": [
       "<Figure size 432x288 with 1 Axes>"
      ]
     },
     "metadata": {
      "needs_background": "light"
     },
     "output_type": "display_data"
    }
   ],
   "source": [
    "user_behavior[user_behavior['tariff'] =='smart']['minutes'].hist(bins=35, alpha=0.5, color='green')\n",
    "user_behavior[user_behavior['tariff'] =='ultra']['minutes'].hist(bins=35, alpha=0.5, color='blue');"
   ]
  },
  {
   "cell_type": "markdown",
   "metadata": {
    "deletable": false,
    "editable": false
   },
   "source": [
    "Средняя длительность разговоров у абонентов тарифа Ultra больше, чем у абонентов тарифа Smart. В течение года пользователи обоих тарифов увеличивают среднюю продолжительность своих разговоров. Рост средней длительности разговоров у абонентов тарифа Smart равномерный в течение года. Пользователи тарифа Ultra не проявляют подобной линейной стабильности. Стоит отметить, что феврале у абонентов обоих тарифных планов наблюдались самые низкие показатели."
   ]
  },
  {
   "cell_type": "markdown",
   "metadata": {
    "deletable": false,
    "editable": false
   },
   "source": [
    "Распределение среднего количества сообщений по видам тарифов и месяцам"
   ]
  },
  {
   "cell_type": "code",
   "execution_count": 165,
   "metadata": {
    "deletable": false
   },
   "outputs": [
    {
     "data": {
      "image/png": "[encoded data removed]",
      "text/plain": [
       "<Figure size 432x288 with 1 Axes>"
      ]
     },
     "metadata": {
      "needs_background": "light"
     },
     "output_type": "display_data"
    }
   ],
   "source": [
    "ax = sns.barplot(x='month',\n",
    "            y='messages_mean',\n",
    "            hue=\"tariff\",\n",
    "            data=stats_df,\n",
    "            palette=['lightblue', 'blue']\n",
    ")\n",
    "\n",
    "ax.set_title('Распределение количества сообщений по видам тарифов и месяцам')\n",
    "ax.set(xlabel='Номер месяца', ylabel='Среднее количество сообщений');"
   ]
  },
  {
   "cell_type": "code",
   "execution_count": 166,
   "metadata": {
    "deletable": false
   },
   "outputs": [
    {
     "data": {
      "image/png": "[encoded data removed]",
      "text/plain": [
       "<Figure size 432x288 with 1 Axes>"
      ]
     },
     "metadata": {
      "needs_background": "light"
     },
     "output_type": "display_data"
    }
   ],
   "source": [
    "user_behavior[user_behavior['tariff'] =='smart']['messages'].hist(bins=35, alpha=0.5, color='green')\n",
    "user_behavior[user_behavior['tariff'] =='ultra']['messages'].hist(bins=35, alpha=0.5, color='blue');"
   ]
  },
  {
   "cell_type": "markdown",
   "metadata": {},
   "source": [
    "В среднем количество сообщений пользователи тарифа Ultra отправляют больше - почти на 20 сообщений больше, чем пользователи тарифа Smart. Количество сообщений в течение года на обоих тарифак растет. Динамика по отправке сообщений схожа с тенденциями по длительности разговоров: в феврале отмечено наименьшее количество сообщений за год и пользователи тарифа Ultra также проявляют нелинейную положительную динамику."
   ]
  },
  {
   "cell_type": "code",
   "execution_count": 167,
   "metadata": {
    "deletable": false
   },
   "outputs": [
    {
     "data": {
      "image/png": "[encoded data removed]",
      "text/plain": [
       "<Figure size 432x288 with 1 Axes>"
      ]
     },
     "metadata": {
      "needs_background": "light"
     },
     "output_type": "display_data"
    }
   ],
   "source": [
    "ax = sns.barplot(x='month',\n",
    "            y='sessions_mean',\n",
    "            hue=\"tariff\",\n",
    "            data=stats_df,\n",
    "            palette=['lightblue', 'blue']\n",
    ")\n",
    "\n",
    "ax.set_title('Распределение количества потраченного трафика (Мб) по видам тарифов и месяцам')\n",
    "ax.set(xlabel='Номер месяца', ylabel='Среднее количество мегабайт');"
   ]
  },
  {
   "cell_type": "markdown",
   "metadata": {
    "deletable": false,
    "editable": false
   },
   "source": [
    "Сравнение потраченных мегабайт среди пользователей тарифов Smart и Ultra"
   ]
  },
  {
   "cell_type": "code",
   "execution_count": 168,
   "metadata": {
    "deletable": false
   },
   "outputs": [
    {
     "data": {
      "image/png": "[encoded data removed]",
      "text/plain": [
       "<Figure size 432x288 with 1 Axes>"
      ]
     },
     "metadata": {
      "needs_background": "light"
     },
     "output_type": "display_data"
    }
   ],
   "source": [
    "user_behavior[user_behavior['tariff'] =='smart']['mb_used'].hist(bins=35, alpha=0.5, color='green')\n",
    "user_behavior[user_behavior['tariff'] =='ultra']['mb_used'].hist(bins=35, alpha=0.5, color='blue');"
   ]
  },
  {
   "cell_type": "markdown",
   "metadata": {
    "deletable": false,
    "editable": false
   },
   "source": [
    "Меньше всего пользователи использовали интернет в январе, феврале и апреле. Чаще всего абоненты тарифа Smart тратят 15-17 Гб, а абоненты тарифного плана Ultra - 19-21 ГБ."
   ]
  },
  {
   "cell_type": "markdown",
   "metadata": {
    "deletable": false,
    "editable": false
   },
   "source": [
    "### Проверка гипотез"
   ]
  },
  {
   "cell_type": "markdown",
   "metadata": {
    "deletable": false,
    "editable": false,
    "tags": [
     "start_task"
    ]
   },
   "source": [
    "**Задание 28.** Проверка гипотезы: средняя выручка пользователей тарифов «Ультра» и «Смарт» различаются;\n",
    "\n",
    "```\n",
    "H_0: Выручка (total_cost) пользователей \"Ультра\" = выручка (total_cost) пользователей \"Смарт\"`\n",
    "H_a: Выручка (total_cost) пользователей \"Ультра\" ≠ выручка (total_cost) пользователей \"Смарт\"`\n",
    "alpha = 0.05\n",
    "```"
   ]
  },
  {
   "cell_type": "code",
   "execution_count": 174,
   "metadata": {
    "deletable": false
   },
   "outputs": [],
   "source": [
    "from scipy import stats as st"
   ]
  },
  {
   "cell_type": "code",
   "execution_count": 181,
   "metadata": {
    "deletable": false
   },
   "outputs": [
    {
     "name": "stdout",
     "output_type": "stream",
     "text": [
      "0.0\n",
      "Отвергаем нулевую гипотезу\n"
     ]
    }
   ],
   "source": [
    "smart = user_behavior.query('tariff==\"smart\"')\n",
    "ultra = user_behavior.query('tariff==\"ultra\"')\n",
    "\n",
    " # задайте значение уровня значимости \n",
    "\n",
    "results = st.ttest_ind(ultra.total_cost, smart.total_cost, equal_var=False) # вызов метода для проверки гипотезы\n",
    "\n",
    "alpha = 0.05\n",
    "\n",
    "print( results.pvalue)\n",
    "\n",
    "if results.pvalue < alpha:\n",
    "    print('Отвергаем нулевую гипотезу')\n",
    "else:\n",
    "    print('Не получилось отвергнуть нулевую гипотезу ')\n",
    "\n",
    "# вывод значения p-value на экран \n",
    "# условный оператор с выводом строки с ответом"
   ]
  },
  {
   "cell_type": "markdown",
   "metadata": {
    "deletable": false,
    "editable": false,
    "tags": [
     "start_task"
    ]
   },
   "source": [
    "**Задание 29.** Проверка гипотезы: пользователи из Москвы приносят больше выручки, чем пользователи из других городов;\n",
    "\n",
    "```\n",
    "H_0: Выручка (total_cost) пользователей из Москвы = выручка (total_cost) пользователей не из Москвы`\n",
    "H_1: Выручка (total_cost) пользователей из Москвы ≠ выручка (total_cost) пользователей не из Москвы`\n",
    "alpha = 0.05\n",
    "```"
   ]
  },
  {
   "cell_type": "code",
   "execution_count": 183,
   "metadata": {
    "deletable": false
   },
   "outputs": [
    {
     "name": "stdout",
     "output_type": "stream",
     "text": [
      "0.2843727016644021\n",
      "Не получилось отвергнуть нулевую гипотезу \n"
     ]
    }
   ],
   "source": [
    "moscow = user_behavior.query('city==\"Москва\"')\n",
    "nmoscow = user_behavior.query('city!=\"Москва\"')\n",
    "\n",
    "\n",
    "results = st.ttest_ind(moscow.total_cost, nmoscow.total_cost, equal_var=False)\n",
    "\n",
    "alpha = .05\n",
    "\n",
    "print(results.pvalue)\n",
    "\n",
    "if results.pvalue < alpha:\n",
    "    print('Отвергаем нулевую гипотезу')\n",
    "else:\n",
    "    print('Не получилось отвергнуть нулевую гипотезу ')"
   ]
  }
 ],
 "metadata": {
  "ExecuteTimeLog": [
   {
    "duration": 51,
    "start_time": "2022-10-11T06:33:24.675Z"
   },
   {
    "duration": 992,
    "start_time": "2022-10-11T06:33:28.506Z"
   },
   {
    "duration": 15,
    "start_time": "2022-10-11T06:33:31.140Z"
   },
   {
    "duration": 27,
    "start_time": "2022-10-11T06:33:36.011Z"
   },
   {
    "duration": 602,
    "start_time": "2022-10-11T06:34:13.399Z"
   },
   {
    "duration": 155,
    "start_time": "2022-10-11T06:34:22.315Z"
   },
   {
    "duration": 170,
    "start_time": "2022-10-11T06:34:27.171Z"
   },
   {
    "duration": 172,
    "start_time": "2022-10-11T06:34:48.772Z"
   },
   {
    "duration": 694,
    "start_time": "2022-10-11T06:35:44.414Z"
   },
   {
    "duration": 12,
    "start_time": "2022-10-11T06:37:55.495Z"
   },
   {
    "duration": 49,
    "start_time": "2022-10-11T06:38:27.246Z"
   },
   {
    "duration": 25,
    "start_time": "2022-10-11T06:38:30.774Z"
   },
   {
    "duration": 220,
    "start_time": "2022-10-11T06:39:05.897Z"
   },
   {
    "duration": 178,
    "start_time": "2022-10-11T06:39:15.421Z"
   },
   {
    "duration": 70,
    "start_time": "2022-10-11T06:39:48.011Z"
   },
   {
    "duration": 244,
    "start_time": "2022-10-11T06:39:54.253Z"
   },
   {
    "duration": 181,
    "start_time": "2022-10-11T06:40:25.320Z"
   },
   {
    "duration": 9,
    "start_time": "2022-10-11T06:40:42.584Z"
   },
   {
    "duration": 22,
    "start_time": "2022-10-11T06:40:49.221Z"
   },
   {
    "duration": 62,
    "start_time": "2022-10-11T06:42:10.587Z"
   },
   {
    "duration": 9,
    "start_time": "2022-10-11T06:42:19.174Z"
   },
   {
    "duration": 11,
    "start_time": "2022-10-11T06:42:25.225Z"
   },
   {
    "duration": 13,
    "start_time": "2022-10-11T06:42:36.817Z"
   },
   {
    "duration": 9,
    "start_time": "2022-10-11T06:42:47.938Z"
   },
   {
    "duration": 15,
    "start_time": "2022-10-11T06:43:01.931Z"
   },
   {
    "duration": 106,
    "start_time": "2022-10-11T06:46:47.925Z"
   },
   {
    "duration": 10,
    "start_time": "2022-10-11T06:46:55.631Z"
   },
   {
    "duration": 14,
    "start_time": "2022-10-11T06:47:04.088Z"
   },
   {
    "duration": 1629,
    "start_time": "2022-10-11T07:09:55.012Z"
   },
   {
    "duration": 859,
    "start_time": "2022-10-11T07:10:19.189Z"
   },
   {
    "duration": 781,
    "start_time": "2022-10-11T07:11:34.725Z"
   },
   {
    "duration": 850,
    "start_time": "2022-10-11T07:16:04.311Z"
   },
   {
    "duration": 838,
    "start_time": "2022-10-11T07:16:12.316Z"
   },
   {
    "duration": 126,
    "start_time": "2022-10-11T07:16:45.402Z"
   },
   {
    "duration": 13,
    "start_time": "2022-10-11T07:21:05.379Z"
   },
   {
    "duration": 9,
    "start_time": "2022-10-11T07:23:17.978Z"
   },
   {
    "duration": 31,
    "start_time": "2022-10-11T07:23:37.487Z"
   },
   {
    "duration": 196,
    "start_time": "2022-10-11T07:58:33.318Z"
   },
   {
    "duration": 11,
    "start_time": "2022-10-11T07:58:33.775Z"
   },
   {
    "duration": 37,
    "start_time": "2022-10-11T07:58:34.118Z"
   },
   {
    "duration": 237,
    "start_time": "2022-10-11T07:58:34.433Z"
   },
   {
    "duration": 186,
    "start_time": "2022-10-11T07:58:34.772Z"
   },
   {
    "duration": 11,
    "start_time": "2022-10-11T07:58:35.077Z"
   },
   {
    "duration": 36,
    "start_time": "2022-10-11T07:58:35.377Z"
   },
   {
    "duration": 212,
    "start_time": "2022-10-11T07:58:35.704Z"
   },
   {
    "duration": 139,
    "start_time": "2022-10-11T07:58:36.023Z"
   },
   {
    "duration": 8,
    "start_time": "2022-10-11T07:58:36.370Z"
   },
   {
    "duration": 33,
    "start_time": "2022-10-11T07:58:36.706Z"
   },
   {
    "duration": 26,
    "start_time": "2022-10-11T07:58:37.042Z"
   },
   {
    "duration": 13,
    "start_time": "2022-10-11T07:58:37.388Z"
   },
   {
    "duration": 13,
    "start_time": "2022-10-11T07:58:37.737Z"
   },
   {
    "duration": 52,
    "start_time": "2022-10-11T07:58:38.112Z"
   },
   {
    "duration": 14,
    "start_time": "2022-10-11T07:58:38.453Z"
   },
   {
    "duration": 14,
    "start_time": "2022-10-11T07:58:38.820Z"
   },
   {
    "duration": 106,
    "start_time": "2022-10-11T07:58:39.387Z"
   },
   {
    "duration": 8,
    "start_time": "2022-10-11T07:59:51.973Z"
   },
   {
    "duration": 11,
    "start_time": "2022-10-11T08:01:09.769Z"
   },
   {
    "duration": 9,
    "start_time": "2022-10-11T08:01:17.172Z"
   },
   {
    "duration": 24,
    "start_time": "2022-10-11T08:01:50.216Z"
   },
   {
    "duration": 21,
    "start_time": "2022-10-11T08:02:39.786Z"
   },
   {
    "duration": 14,
    "start_time": "2022-10-11T08:08:02.172Z"
   },
   {
    "duration": 12,
    "start_time": "2022-10-11T08:08:13.855Z"
   },
   {
    "duration": 7,
    "start_time": "2022-10-11T08:09:09.116Z"
   },
   {
    "duration": 21,
    "start_time": "2022-10-11T08:09:39.397Z"
   },
   {
    "duration": 9,
    "start_time": "2022-10-11T08:09:48.532Z"
   },
   {
    "duration": 7,
    "start_time": "2022-10-11T08:09:53.507Z"
   },
   {
    "duration": 133,
    "start_time": "2022-10-11T08:11:47.445Z"
   },
   {
    "duration": 11,
    "start_time": "2022-10-11T08:11:56.753Z"
   },
   {
    "duration": 501,
    "start_time": "2022-10-11T08:12:29.549Z"
   },
   {
    "duration": 144,
    "start_time": "2022-10-11T08:12:43.322Z"
   },
   {
    "duration": 11,
    "start_time": "2022-10-11T08:12:54.631Z"
   },
   {
    "duration": 574,
    "start_time": "2022-10-11T08:12:59.724Z"
   },
   {
    "duration": 10,
    "start_time": "2022-10-11T08:13:11.435Z"
   },
   {
    "duration": 109,
    "start_time": "2022-10-11T08:16:04.434Z"
   },
   {
    "duration": 33,
    "start_time": "2022-10-11T08:16:10.154Z"
   },
   {
    "duration": 32,
    "start_time": "2022-10-11T08:18:55.744Z"
   },
   {
    "duration": 18,
    "start_time": "2022-10-11T08:18:57.644Z"
   },
   {
    "duration": 22,
    "start_time": "2022-10-11T08:18:59.530Z"
   },
   {
    "duration": 1776,
    "start_time": "2022-10-11T08:27:55.917Z"
   },
   {
    "duration": 4,
    "start_time": "2022-10-11T08:28:40.462Z"
   },
   {
    "duration": 37,
    "start_time": "2022-10-11T08:38:26.815Z"
   },
   {
    "duration": 228,
    "start_time": "2022-10-11T08:38:27.618Z"
   },
   {
    "duration": 205,
    "start_time": "2022-10-11T08:38:27.970Z"
   },
   {
    "duration": 36,
    "start_time": "2022-10-11T08:38:28.312Z"
   },
   {
    "duration": 33,
    "start_time": "2022-10-11T08:38:28.668Z"
   },
   {
    "duration": 223,
    "start_time": "2022-10-11T08:38:29.026Z"
   },
   {
    "duration": 149,
    "start_time": "2022-10-11T08:38:29.453Z"
   },
   {
    "duration": 9,
    "start_time": "2022-10-11T08:38:29.981Z"
   },
   {
    "duration": 38,
    "start_time": "2022-10-11T08:38:30.332Z"
   },
   {
    "duration": 54,
    "start_time": "2022-10-11T08:38:30.670Z"
   },
   {
    "duration": 11,
    "start_time": "2022-10-11T08:38:31.321Z"
   },
   {
    "duration": 39,
    "start_time": "2022-10-11T08:38:32.288Z"
   },
   {
    "duration": 73,
    "start_time": "2022-10-11T08:38:33.182Z"
   },
   {
    "duration": 11,
    "start_time": "2022-10-11T08:38:35.964Z"
   },
   {
    "duration": 14,
    "start_time": "2022-10-11T08:38:36.940Z"
   },
   {
    "duration": 99,
    "start_time": "2022-10-11T08:38:40.926Z"
   },
   {
    "duration": 8,
    "start_time": "2022-10-11T08:38:49.468Z"
   },
   {
    "duration": 12,
    "start_time": "2022-10-11T08:39:22.243Z"
   },
   {
    "duration": 15,
    "start_time": "2022-10-11T08:43:30.516Z"
   },
   {
    "duration": 466,
    "start_time": "2022-10-11T08:43:49.279Z"
   },
   {
    "duration": 830,
    "start_time": "2022-10-11T08:43:59.812Z"
   },
   {
    "duration": 9,
    "start_time": "2022-10-11T08:44:06.834Z"
   },
   {
    "duration": 466,
    "start_time": "2022-10-11T08:44:24.390Z"
   },
   {
    "duration": 756,
    "start_time": "2022-10-11T08:44:44.238Z"
   },
   {
    "duration": 11,
    "start_time": "2022-10-11T08:50:39.722Z"
   },
   {
    "duration": 15,
    "start_time": "2022-10-11T08:54:47.437Z"
   },
   {
    "duration": 50,
    "start_time": "2022-10-11T08:58:13.514Z"
   },
   {
    "duration": 46,
    "start_time": "2022-10-11T08:58:24.592Z"
   },
   {
    "duration": 14,
    "start_time": "2022-10-11T09:02:34.328Z"
   },
   {
    "duration": 23,
    "start_time": "2022-10-11T09:03:01.180Z"
   },
   {
    "duration": 14,
    "start_time": "2022-10-11T09:05:24.420Z"
   },
   {
    "duration": 15,
    "start_time": "2022-10-11T09:07:05.234Z"
   },
   {
    "duration": 35,
    "start_time": "2022-10-11T09:07:14.615Z"
   },
   {
    "duration": 26,
    "start_time": "2022-10-11T09:08:57.619Z"
   },
   {
    "duration": 26,
    "start_time": "2022-10-11T09:09:21.757Z"
   },
   {
    "duration": 19,
    "start_time": "2022-10-11T09:10:40.562Z"
   },
   {
    "duration": 12,
    "start_time": "2022-10-11T09:10:56.167Z"
   },
   {
    "duration": 21,
    "start_time": "2022-10-11T09:12:53.616Z"
   },
   {
    "duration": 18,
    "start_time": "2022-10-11T09:12:59.560Z"
   },
   {
    "duration": 15,
    "start_time": "2022-10-11T09:14:26.305Z"
   },
   {
    "duration": 18,
    "start_time": "2022-10-11T09:14:36.248Z"
   },
   {
    "duration": 36,
    "start_time": "2022-10-11T09:14:41.535Z"
   },
   {
    "duration": 21,
    "start_time": "2022-10-11T09:15:16.736Z"
   },
   {
    "duration": 30,
    "start_time": "2022-10-11T09:16:12.509Z"
   },
   {
    "duration": 20,
    "start_time": "2022-10-11T09:17:00.446Z"
   },
   {
    "duration": 5,
    "start_time": "2022-10-11T09:19:22.739Z"
   },
   {
    "duration": 42,
    "start_time": "2022-10-11T09:19:39.712Z"
   },
   {
    "duration": 36,
    "start_time": "2022-10-11T09:20:41.415Z"
   },
   {
    "duration": 9,
    "start_time": "2022-10-11T09:20:55.546Z"
   },
   {
    "duration": 6,
    "start_time": "2022-10-11T09:20:58.380Z"
   },
   {
    "duration": 4,
    "start_time": "2022-10-11T09:21:21.166Z"
   },
   {
    "duration": 9,
    "start_time": "2022-10-11T09:21:55.052Z"
   },
   {
    "duration": 10,
    "start_time": "2022-10-11T09:24:00.264Z"
   },
   {
    "duration": 8,
    "start_time": "2022-10-11T09:24:24.813Z"
   },
   {
    "duration": 6,
    "start_time": "2022-10-11T09:24:44.118Z"
   },
   {
    "duration": 5,
    "start_time": "2022-10-11T09:25:04.636Z"
   },
   {
    "duration": 69,
    "start_time": "2022-10-11T09:25:39.866Z"
   },
   {
    "duration": 980,
    "start_time": "2022-10-11T09:25:40.180Z"
   },
   {
    "duration": 329,
    "start_time": "2022-10-11T09:25:41.162Z"
   },
   {
    "duration": 338,
    "start_time": "2022-10-11T09:25:41.497Z"
   },
   {
    "duration": 305,
    "start_time": "2022-10-11T09:25:41.839Z"
   },
   {
    "duration": 332,
    "start_time": "2022-10-11T09:25:42.146Z"
   },
   {
    "duration": 354,
    "start_time": "2022-10-11T09:25:42.480Z"
   },
   {
    "duration": 390,
    "start_time": "2022-10-11T09:25:42.836Z"
   },
   {
    "duration": 262,
    "start_time": "2022-10-11T09:25:43.367Z"
   },
   {
    "duration": 329,
    "start_time": "2022-10-11T09:27:51.534Z"
   },
   {
    "duration": 322,
    "start_time": "2022-10-11T09:27:55.125Z"
   },
   {
    "duration": 313,
    "start_time": "2022-10-11T09:27:58.433Z"
   },
   {
    "duration": 103,
    "start_time": "2022-10-11T09:42:41.883Z"
   },
   {
    "duration": 187,
    "start_time": "2022-10-11T09:42:48.223Z"
   },
   {
    "duration": 3,
    "start_time": "2022-10-11T09:42:55.732Z"
   },
   {
    "duration": 42,
    "start_time": "2022-10-11T09:42:57.815Z"
   },
   {
    "duration": 14,
    "start_time": "2022-10-11T09:44:15.355Z"
   },
   {
    "duration": 12,
    "start_time": "2022-10-11T09:46:24.955Z"
   },
   {
    "duration": 12,
    "start_time": "2022-10-11T09:47:25.760Z"
   },
   {
    "duration": 14,
    "start_time": "2022-10-11T09:48:19.316Z"
   },
   {
    "duration": 13,
    "start_time": "2022-10-11T09:49:56.635Z"
   },
   {
    "duration": 12,
    "start_time": "2022-10-11T09:51:11.156Z"
   },
   {
    "duration": 18,
    "start_time": "2022-10-11T09:55:29.508Z"
   },
   {
    "duration": 30,
    "start_time": "2022-10-11T09:55:51.802Z"
   }
  ],
  "kernelspec": {
   "display_name": "Python 3 (ipykernel)",
   "language": "python",
   "name": "python3"
  },
  "language_info": {
   "codemirror_mode": {
    "name": "ipython",
    "version": 3
   },
   "file_extension": ".py",
   "mimetype": "text/x-python",
   "name": "python",
   "nbconvert_exporter": "python",
   "pygments_lexer": "ipython3",
   "version": "3.9.5"
  },
  "toc": {
   "base_numbering": 1,
   "nav_menu": {},
   "number_sections": true,
   "sideBar": true,
   "skip_h1_title": true,
   "title_cell": "Table of Contents",
   "title_sidebar": "Contents",
   "toc_cell": false,
   "toc_position": {},
   "toc_section_display": true,
   "toc_window_display": false
  }
 },
 "nbformat": 4,
 "nbformat_minor": 2
}
