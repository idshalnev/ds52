{
 "cells": [
  {
   "cell_type": "code",
   "execution_count": null,
   "metadata": {},
   "outputs": [],
   "source": []
  },
  {
   "cell_type": "markdown",
   "metadata": {},
   "source": [
    "     Описание проекта\n",
    "\n",
    "Вы работаете в интернет-магазине «Стримчик», который продаёт по всему миру компьютерные игры. Из открытых источников доступны исторические данные о продажах игр, оценки пользователей и экспертов, жанры и платформы (например, Xbox или PlayStation). Вам нужно выявить определяющие успешность игры закономерности. Это позволит сделать ставку на потенциально популярный продукт и спланировать рекламные кампании.\n",
    "Перед вами данные до 2016 года. Представим, что сейчас декабрь 2016 г., и вы планируете кампанию на 2017-й. Нужно отработать принцип работы с данными. Неважно, прогнозируете ли вы продажи на 2017 год по данным 2016-го или же 2027-й — по данным 2026 года.\n",
    "В наборе данных попадается аббревиатура ESRB (Entertainment Software Rating Board) — это ассоциация, определяющая возрастной рейтинг компьютерных игр. ESRB оценивает игровой контент и присваивает ему подходящую возрастную категорию, например, «Для взрослых», «Для детей младшего возраста» или «Для подростков»."
   ]
  },
  {
   "cell_type": "code",
   "execution_count": 1,
   "metadata": {},
   "outputs": [],
   "source": [
    "import pandas as pd\n",
    "import matplotlib.pyplot as plt\n",
    "import seaborn as sns\n",
    "from scipy import stats as st"
   ]
  },
  {
   "cell_type": "code",
   "execution_count": 2,
   "metadata": {},
   "outputs": [
    {
     "data": {
      "text/html": [
       "<div>\n",
       "<style scoped>\n",
       "    .dataframe tbody tr th:only-of-type {\n",
       "        vertical-align: middle;\n",
       "    }\n",
       "\n",
       "    .dataframe tbody tr th {\n",
       "        vertical-align: top;\n",
       "    }\n",
       "\n",
       "    .dataframe thead th {\n",
       "        text-align: right;\n",
       "    }\n",
       "</style>\n",
       "<table border=\"1\" class=\"dataframe\">\n",
       "  <thead>\n",
       "    <tr style=\"text-align: right;\">\n",
       "      <th></th>\n",
       "      <th>Name</th>\n",
       "      <th>Platform</th>\n",
       "      <th>Year_of_Release</th>\n",
       "      <th>Genre</th>\n",
       "      <th>NA_sales</th>\n",
       "      <th>EU_sales</th>\n",
       "      <th>JP_sales</th>\n",
       "      <th>Other_sales</th>\n",
       "      <th>Critic_Score</th>\n",
       "      <th>User_Score</th>\n",
       "      <th>Rating</th>\n",
       "    </tr>\n",
       "  </thead>\n",
       "  <tbody>\n",
       "    <tr>\n",
       "      <th>0</th>\n",
       "      <td>Wii Sports</td>\n",
       "      <td>Wii</td>\n",
       "      <td>2006.0</td>\n",
       "      <td>Sports</td>\n",
       "      <td>41.36</td>\n",
       "      <td>28.96</td>\n",
       "      <td>3.77</td>\n",
       "      <td>8.45</td>\n",
       "      <td>76.0</td>\n",
       "      <td>8</td>\n",
       "      <td>E</td>\n",
       "    </tr>\n",
       "    <tr>\n",
       "      <th>1</th>\n",
       "      <td>Super Mario Bros.</td>\n",
       "      <td>NES</td>\n",
       "      <td>1985.0</td>\n",
       "      <td>Platform</td>\n",
       "      <td>29.08</td>\n",
       "      <td>3.58</td>\n",
       "      <td>6.81</td>\n",
       "      <td>0.77</td>\n",
       "      <td>NaN</td>\n",
       "      <td>NaN</td>\n",
       "      <td>NaN</td>\n",
       "    </tr>\n",
       "    <tr>\n",
       "      <th>2</th>\n",
       "      <td>Mario Kart Wii</td>\n",
       "      <td>Wii</td>\n",
       "      <td>2008.0</td>\n",
       "      <td>Racing</td>\n",
       "      <td>15.68</td>\n",
       "      <td>12.76</td>\n",
       "      <td>3.79</td>\n",
       "      <td>3.29</td>\n",
       "      <td>82.0</td>\n",
       "      <td>8.3</td>\n",
       "      <td>E</td>\n",
       "    </tr>\n",
       "    <tr>\n",
       "      <th>3</th>\n",
       "      <td>Wii Sports Resort</td>\n",
       "      <td>Wii</td>\n",
       "      <td>2009.0</td>\n",
       "      <td>Sports</td>\n",
       "      <td>15.61</td>\n",
       "      <td>10.93</td>\n",
       "      <td>3.28</td>\n",
       "      <td>2.95</td>\n",
       "      <td>80.0</td>\n",
       "      <td>8</td>\n",
       "      <td>E</td>\n",
       "    </tr>\n",
       "    <tr>\n",
       "      <th>4</th>\n",
       "      <td>Pokemon Red/Pokemon Blue</td>\n",
       "      <td>GB</td>\n",
       "      <td>1996.0</td>\n",
       "      <td>Role-Playing</td>\n",
       "      <td>11.27</td>\n",
       "      <td>8.89</td>\n",
       "      <td>10.22</td>\n",
       "      <td>1.00</td>\n",
       "      <td>NaN</td>\n",
       "      <td>NaN</td>\n",
       "      <td>NaN</td>\n",
       "    </tr>\n",
       "    <tr>\n",
       "      <th>5</th>\n",
       "      <td>Tetris</td>\n",
       "      <td>GB</td>\n",
       "      <td>1989.0</td>\n",
       "      <td>Puzzle</td>\n",
       "      <td>23.20</td>\n",
       "      <td>2.26</td>\n",
       "      <td>4.22</td>\n",
       "      <td>0.58</td>\n",
       "      <td>NaN</td>\n",
       "      <td>NaN</td>\n",
       "      <td>NaN</td>\n",
       "    </tr>\n",
       "    <tr>\n",
       "      <th>6</th>\n",
       "      <td>New Super Mario Bros.</td>\n",
       "      <td>DS</td>\n",
       "      <td>2006.0</td>\n",
       "      <td>Platform</td>\n",
       "      <td>11.28</td>\n",
       "      <td>9.14</td>\n",
       "      <td>6.50</td>\n",
       "      <td>2.88</td>\n",
       "      <td>89.0</td>\n",
       "      <td>8.5</td>\n",
       "      <td>E</td>\n",
       "    </tr>\n",
       "    <tr>\n",
       "      <th>7</th>\n",
       "      <td>Wii Play</td>\n",
       "      <td>Wii</td>\n",
       "      <td>2006.0</td>\n",
       "      <td>Misc</td>\n",
       "      <td>13.96</td>\n",
       "      <td>9.18</td>\n",
       "      <td>2.93</td>\n",
       "      <td>2.84</td>\n",
       "      <td>58.0</td>\n",
       "      <td>6.6</td>\n",
       "      <td>E</td>\n",
       "    </tr>\n",
       "    <tr>\n",
       "      <th>8</th>\n",
       "      <td>New Super Mario Bros. Wii</td>\n",
       "      <td>Wii</td>\n",
       "      <td>2009.0</td>\n",
       "      <td>Platform</td>\n",
       "      <td>14.44</td>\n",
       "      <td>6.94</td>\n",
       "      <td>4.70</td>\n",
       "      <td>2.24</td>\n",
       "      <td>87.0</td>\n",
       "      <td>8.4</td>\n",
       "      <td>E</td>\n",
       "    </tr>\n",
       "    <tr>\n",
       "      <th>9</th>\n",
       "      <td>Duck Hunt</td>\n",
       "      <td>NES</td>\n",
       "      <td>1984.0</td>\n",
       "      <td>Shooter</td>\n",
       "      <td>26.93</td>\n",
       "      <td>0.63</td>\n",
       "      <td>0.28</td>\n",
       "      <td>0.47</td>\n",
       "      <td>NaN</td>\n",
       "      <td>NaN</td>\n",
       "      <td>NaN</td>\n",
       "    </tr>\n",
       "  </tbody>\n",
       "</table>\n",
       "</div>"
      ],
      "text/plain": [
       "                        Name Platform  Year_of_Release         Genre  \\\n",
       "0                 Wii Sports      Wii           2006.0        Sports   \n",
       "1          Super Mario Bros.      NES           1985.0      Platform   \n",
       "2             Mario Kart Wii      Wii           2008.0        Racing   \n",
       "3          Wii Sports Resort      Wii           2009.0        Sports   \n",
       "4   Pokemon Red/Pokemon Blue       GB           1996.0  Role-Playing   \n",
       "5                     Tetris       GB           1989.0        Puzzle   \n",
       "6      New Super Mario Bros.       DS           2006.0      Platform   \n",
       "7                   Wii Play      Wii           2006.0          Misc   \n",
       "8  New Super Mario Bros. Wii      Wii           2009.0      Platform   \n",
       "9                  Duck Hunt      NES           1984.0       Shooter   \n",
       "\n",
       "   NA_sales  EU_sales  JP_sales  Other_sales  Critic_Score User_Score Rating  \n",
       "0     41.36     28.96      3.77         8.45          76.0          8      E  \n",
       "1     29.08      3.58      6.81         0.77           NaN        NaN    NaN  \n",
       "2     15.68     12.76      3.79         3.29          82.0        8.3      E  \n",
       "3     15.61     10.93      3.28         2.95          80.0          8      E  \n",
       "4     11.27      8.89     10.22         1.00           NaN        NaN    NaN  \n",
       "5     23.20      2.26      4.22         0.58           NaN        NaN    NaN  \n",
       "6     11.28      9.14      6.50         2.88          89.0        8.5      E  \n",
       "7     13.96      9.18      2.93         2.84          58.0        6.6      E  \n",
       "8     14.44      6.94      4.70         2.24          87.0        8.4      E  \n",
       "9     26.93      0.63      0.28         0.47           NaN        NaN    NaN  "
      ]
     },
     "metadata": {},
     "output_type": "display_data"
    }
   ],
   "source": [
    "\n",
    "data = pd.read_csv('/datasets/games.csv')\n",
    "display(data.head(10))"
   ]
  },
  {
   "cell_type": "markdown",
   "metadata": {},
   "source": [
    "Прочитаем и выведем на экран первые 10 строк датасета"
   ]
  },
  {
   "cell_type": "markdown",
   "metadata": {},
   "source": [
    "                                  Шаг 2. Подготовьте данные"
   ]
  },
  {
   "cell_type": "code",
   "execution_count": 3,
   "metadata": {},
   "outputs": [
    {
     "name": "stdout",
     "output_type": "stream",
     "text": [
      "<class 'pandas.core.frame.DataFrame'>\n",
      "RangeIndex: 16715 entries, 0 to 16714\n",
      "Data columns (total 11 columns):\n",
      " #   Column           Non-Null Count  Dtype  \n",
      "---  ------           --------------  -----  \n",
      " 0   Name             16713 non-null  object \n",
      " 1   Platform         16715 non-null  object \n",
      " 2   Year_of_Release  16446 non-null  float64\n",
      " 3   Genre            16713 non-null  object \n",
      " 4   NA_sales         16715 non-null  float64\n",
      " 5   EU_sales         16715 non-null  float64\n",
      " 6   JP_sales         16715 non-null  float64\n",
      " 7   Other_sales      16715 non-null  float64\n",
      " 8   Critic_Score     8137 non-null   float64\n",
      " 9   User_Score       10014 non-null  object \n",
      " 10  Rating           9949 non-null   object \n",
      "dtypes: float64(6), object(5)\n",
      "memory usage: 1.4+ MB\n"
     ]
    }
   ],
   "source": [
    "data.info()"
   ]
  },
  {
   "cell_type": "markdown",
   "metadata": {},
   "source": [
    "Выведем общую информацию"
   ]
  },
  {
   "cell_type": "code",
   "execution_count": 4,
   "metadata": {},
   "outputs": [
    {
     "data": {
      "text/html": [
       "<div>\n",
       "<style scoped>\n",
       "    .dataframe tbody tr th:only-of-type {\n",
       "        vertical-align: middle;\n",
       "    }\n",
       "\n",
       "    .dataframe tbody tr th {\n",
       "        vertical-align: top;\n",
       "    }\n",
       "\n",
       "    .dataframe thead th {\n",
       "        text-align: right;\n",
       "    }\n",
       "</style>\n",
       "<table border=\"1\" class=\"dataframe\">\n",
       "  <thead>\n",
       "    <tr style=\"text-align: right;\">\n",
       "      <th></th>\n",
       "      <th>Year_of_Release</th>\n",
       "      <th>NA_sales</th>\n",
       "      <th>EU_sales</th>\n",
       "      <th>JP_sales</th>\n",
       "      <th>Other_sales</th>\n",
       "      <th>Critic_Score</th>\n",
       "    </tr>\n",
       "  </thead>\n",
       "  <tbody>\n",
       "    <tr>\n",
       "      <th>count</th>\n",
       "      <td>16446.000000</td>\n",
       "      <td>16715.000000</td>\n",
       "      <td>16715.000000</td>\n",
       "      <td>16715.000000</td>\n",
       "      <td>16715.000000</td>\n",
       "      <td>8137.000000</td>\n",
       "    </tr>\n",
       "    <tr>\n",
       "      <th>mean</th>\n",
       "      <td>2006.484616</td>\n",
       "      <td>0.263377</td>\n",
       "      <td>0.145060</td>\n",
       "      <td>0.077617</td>\n",
       "      <td>0.047342</td>\n",
       "      <td>68.967679</td>\n",
       "    </tr>\n",
       "    <tr>\n",
       "      <th>std</th>\n",
       "      <td>5.877050</td>\n",
       "      <td>0.813604</td>\n",
       "      <td>0.503339</td>\n",
       "      <td>0.308853</td>\n",
       "      <td>0.186731</td>\n",
       "      <td>13.938165</td>\n",
       "    </tr>\n",
       "    <tr>\n",
       "      <th>min</th>\n",
       "      <td>1980.000000</td>\n",
       "      <td>0.000000</td>\n",
       "      <td>0.000000</td>\n",
       "      <td>0.000000</td>\n",
       "      <td>0.000000</td>\n",
       "      <td>13.000000</td>\n",
       "    </tr>\n",
       "    <tr>\n",
       "      <th>25%</th>\n",
       "      <td>2003.000000</td>\n",
       "      <td>0.000000</td>\n",
       "      <td>0.000000</td>\n",
       "      <td>0.000000</td>\n",
       "      <td>0.000000</td>\n",
       "      <td>60.000000</td>\n",
       "    </tr>\n",
       "    <tr>\n",
       "      <th>50%</th>\n",
       "      <td>2007.000000</td>\n",
       "      <td>0.080000</td>\n",
       "      <td>0.020000</td>\n",
       "      <td>0.000000</td>\n",
       "      <td>0.010000</td>\n",
       "      <td>71.000000</td>\n",
       "    </tr>\n",
       "    <tr>\n",
       "      <th>75%</th>\n",
       "      <td>2010.000000</td>\n",
       "      <td>0.240000</td>\n",
       "      <td>0.110000</td>\n",
       "      <td>0.040000</td>\n",
       "      <td>0.030000</td>\n",
       "      <td>79.000000</td>\n",
       "    </tr>\n",
       "    <tr>\n",
       "      <th>max</th>\n",
       "      <td>2016.000000</td>\n",
       "      <td>41.360000</td>\n",
       "      <td>28.960000</td>\n",
       "      <td>10.220000</td>\n",
       "      <td>10.570000</td>\n",
       "      <td>98.000000</td>\n",
       "    </tr>\n",
       "  </tbody>\n",
       "</table>\n",
       "</div>"
      ],
      "text/plain": [
       "       Year_of_Release      NA_sales      EU_sales      JP_sales  \\\n",
       "count     16446.000000  16715.000000  16715.000000  16715.000000   \n",
       "mean       2006.484616      0.263377      0.145060      0.077617   \n",
       "std           5.877050      0.813604      0.503339      0.308853   \n",
       "min        1980.000000      0.000000      0.000000      0.000000   \n",
       "25%        2003.000000      0.000000      0.000000      0.000000   \n",
       "50%        2007.000000      0.080000      0.020000      0.000000   \n",
       "75%        2010.000000      0.240000      0.110000      0.040000   \n",
       "max        2016.000000     41.360000     28.960000     10.220000   \n",
       "\n",
       "        Other_sales  Critic_Score  \n",
       "count  16715.000000   8137.000000  \n",
       "mean       0.047342     68.967679  \n",
       "std        0.186731     13.938165  \n",
       "min        0.000000     13.000000  \n",
       "25%        0.000000     60.000000  \n",
       "50%        0.010000     71.000000  \n",
       "75%        0.030000     79.000000  \n",
       "max       10.570000     98.000000  "
      ]
     },
     "execution_count": 4,
     "metadata": {},
     "output_type": "execute_result"
    }
   ],
   "source": [
    "data.describe()"
   ]
  },
  {
   "cell_type": "code",
   "execution_count": 5,
   "metadata": {},
   "outputs": [
    {
     "data": {
      "text/plain": [
       "Platform              0\n",
       "NA_sales              0\n",
       "EU_sales              0\n",
       "JP_sales              0\n",
       "Other_sales           0\n",
       "Name                  2\n",
       "Genre                 2\n",
       "Year_of_Release     269\n",
       "User_Score         6701\n",
       "Rating             6766\n",
       "Critic_Score       8578\n",
       "dtype: int64"
      ]
     },
     "execution_count": 5,
     "metadata": {},
     "output_type": "execute_result"
    }
   ],
   "source": [
    "data.isna().sum().sort_values()"
   ]
  },
  {
   "cell_type": "markdown",
   "metadata": {},
   "source": [
    "Считаем количество пропусков"
   ]
  },
  {
   "cell_type": "code",
   "execution_count": 6,
   "metadata": {},
   "outputs": [
    {
     "data": {
      "text/html": [
       "<div>\n",
       "<style scoped>\n",
       "    .dataframe tbody tr th:only-of-type {\n",
       "        vertical-align: middle;\n",
       "    }\n",
       "\n",
       "    .dataframe tbody tr th {\n",
       "        vertical-align: top;\n",
       "    }\n",
       "\n",
       "    .dataframe thead th {\n",
       "        text-align: right;\n",
       "    }\n",
       "</style>\n",
       "<table border=\"1\" class=\"dataframe\">\n",
       "  <thead>\n",
       "    <tr style=\"text-align: right;\">\n",
       "      <th></th>\n",
       "      <th>0</th>\n",
       "    </tr>\n",
       "  </thead>\n",
       "  <tbody>\n",
       "    <tr>\n",
       "      <th>Name</th>\n",
       "      <td>0.0</td>\n",
       "    </tr>\n",
       "    <tr>\n",
       "      <th>Platform</th>\n",
       "      <td>0.0</td>\n",
       "    </tr>\n",
       "    <tr>\n",
       "      <th>Genre</th>\n",
       "      <td>0.0</td>\n",
       "    </tr>\n",
       "    <tr>\n",
       "      <th>NA_sales</th>\n",
       "      <td>0.0</td>\n",
       "    </tr>\n",
       "    <tr>\n",
       "      <th>EU_sales</th>\n",
       "      <td>0.0</td>\n",
       "    </tr>\n",
       "    <tr>\n",
       "      <th>JP_sales</th>\n",
       "      <td>0.0</td>\n",
       "    </tr>\n",
       "    <tr>\n",
       "      <th>Other_sales</th>\n",
       "      <td>0.0</td>\n",
       "    </tr>\n",
       "    <tr>\n",
       "      <th>Year_of_Release</th>\n",
       "      <td>2.0</td>\n",
       "    </tr>\n",
       "    <tr>\n",
       "      <th>User_Score</th>\n",
       "      <td>40.0</td>\n",
       "    </tr>\n",
       "    <tr>\n",
       "      <th>Rating</th>\n",
       "      <td>40.0</td>\n",
       "    </tr>\n",
       "    <tr>\n",
       "      <th>Critic_Score</th>\n",
       "      <td>51.0</td>\n",
       "    </tr>\n",
       "  </tbody>\n",
       "</table>\n",
       "</div>"
      ],
      "text/plain": [
       "                    0\n",
       "Name              0.0\n",
       "Platform          0.0\n",
       "Genre             0.0\n",
       "NA_sales          0.0\n",
       "EU_sales          0.0\n",
       "JP_sales          0.0\n",
       "Other_sales       0.0\n",
       "Year_of_Release   2.0\n",
       "User_Score       40.0\n",
       "Rating           40.0\n",
       "Critic_Score     51.0"
      ]
     },
     "execution_count": 6,
     "metadata": {},
     "output_type": "execute_result"
    }
   ],
   "source": [
    "pd.DataFrame(round(data.isna().mean()*100,).sort_values())"
   ]
  },
  {
   "cell_type": "markdown",
   "metadata": {},
   "source": [
    "Проверяем количество пропусков в % соотношении"
   ]
  },
  {
   "cell_type": "code",
   "execution_count": 7,
   "metadata": {},
   "outputs": [
    {
     "data": {
      "text/plain": [
       "0"
      ]
     },
     "execution_count": 7,
     "metadata": {},
     "output_type": "execute_result"
    }
   ],
   "source": [
    "data.duplicated().sum()"
   ]
  },
  {
   "cell_type": "markdown",
   "metadata": {},
   "source": [
    "Дубликатов нет, отлично"
   ]
  },
  {
   "cell_type": "markdown",
   "metadata": {},
   "source": [
    "\n",
    "\n",
    "\n",
    "<div style=\"background: #B0E0E6; padding: 5px; border: 1px solid SteelBlue; border-radius: 5px;\">\n",
    "    <font color='4682B4'>Проанализировав информацию по датасету, видим, что есть недочеты в данных, а именно, пропуски в user_score, critic_score, rating, year_of_release, name. Исходя из знания, что пропуски, которых меньше 10% можно удалить, удаляем пропуски в name и year_of_release. Природы этих пропусков мы определить никак не сможем точно, только предположить, что игра могла быть не выпущена, а был только предрелиз, и на его основе были сделаны оценки критиков, а пользователькие оценки - это могли быть часть людей, кому дали потестить бета-версию. Также, названия столбцов имеют разный регитср, правильнее привести к нижнем регистру, так удобней ориентироваться и код дальше будет проще писать, дабы во избежание ошибок в написании. Очень интересно, что количесто пропусков в rating чуть больше, чем в user score. Удалить пропуски в этих столбцах нельзя, они нам важны для дальнейшего анализа, поэтому пропуски в них где то будем оставлять, а где то будем делать заглушки. Вернемся к тому в дальнейших шагах.<u><b></b></u></font>\n",
    "    <br />\n",
    "    <font color='4682B4'></font>\n",
    "</div>"
   ]
  },
  {
   "cell_type": "code",
   "execution_count": 8,
   "metadata": {},
   "outputs": [],
   "source": [
    "data.columns = data.columns.str.lower()"
   ]
  },
  {
   "cell_type": "code",
   "execution_count": 9,
   "metadata": {},
   "outputs": [
    {
     "data": {
      "text/plain": [
       "Index(['name', 'platform', 'year_of_release', 'genre', 'na_sales', 'eu_sales',\n",
       "       'jp_sales', 'other_sales', 'critic_score', 'user_score', 'rating'],\n",
       "      dtype='object')"
      ]
     },
     "execution_count": 9,
     "metadata": {},
     "output_type": "execute_result"
    }
   ],
   "source": [
    "data.columns"
   ]
  },
  {
   "cell_type": "markdown",
   "metadata": {},
   "source": [
    "Приводим названия столбцов к нижнему регистру"
   ]
  },
  {
   "cell_type": "markdown",
   "metadata": {},
   "source": [
    "\n",
    "\n",
    "\n",
    "<div style=\"background: #B0E0E6; padding: 5px; border: 1px solid SteelBlue; border-radius: 5px;\">\n",
    "    <font color='4682B4'>\n",
    "        1.Касаемо удаления и оставления пропусков вроде написано ниже, или я что то не очень понял?\n",
    "        2.Касаемо tbd ниже тоже есть комментарий, или же нужно сразу все в одном месте написать, а потом каждый пункт отделно рассматривать?\n",
    "        3.Касаемо связи между пропусками в рейтинге и комиссией ESRB, согласно информации из открытых источников, отсутствие рейтинга могло произойти , т.к. для каждого региона своя ассоциация, которая делает рейтинг для игр, и вполне вероятно, что игра была выпущена под свой регион и имела рейтинг не ESRB, а PEGI или CERO<u><b></b></u></font>\n",
    "    <br />\n",
    "    <font color='4682B4'></font>\n",
    "</div>"
   ]
  },
  {
   "cell_type": "code",
   "execution_count": 10,
   "metadata": {},
   "outputs": [],
   "source": [
    "data= data.dropna(subset=['year_of_release'])"
   ]
  },
  {
   "cell_type": "code",
   "execution_count": 11,
   "metadata": {},
   "outputs": [
    {
     "data": {
      "text/plain": [
       "0"
      ]
     },
     "execution_count": 11,
     "metadata": {},
     "output_type": "execute_result"
    }
   ],
   "source": [
    "data['year_of_release'].isna().sum()"
   ]
  },
  {
   "cell_type": "code",
   "execution_count": 12,
   "metadata": {},
   "outputs": [],
   "source": [
    "data['year_of_release'] = data['year_of_release'].astype('int')"
   ]
  },
  {
   "cell_type": "code",
   "execution_count": 13,
   "metadata": {},
   "outputs": [
    {
     "name": "stdout",
     "output_type": "stream",
     "text": [
      "<class 'pandas.core.frame.DataFrame'>\n",
      "Int64Index: 16446 entries, 0 to 16714\n",
      "Data columns (total 11 columns):\n",
      " #   Column           Non-Null Count  Dtype  \n",
      "---  ------           --------------  -----  \n",
      " 0   name             16444 non-null  object \n",
      " 1   platform         16446 non-null  object \n",
      " 2   year_of_release  16446 non-null  int64  \n",
      " 3   genre            16444 non-null  object \n",
      " 4   na_sales         16446 non-null  float64\n",
      " 5   eu_sales         16446 non-null  float64\n",
      " 6   jp_sales         16446 non-null  float64\n",
      " 7   other_sales      16446 non-null  float64\n",
      " 8   critic_score     7983 non-null   float64\n",
      " 9   user_score       9839 non-null   object \n",
      " 10  rating           9768 non-null   object \n",
      "dtypes: float64(5), int64(1), object(5)\n",
      "memory usage: 1.5+ MB\n"
     ]
    }
   ],
   "source": [
    "data.info()"
   ]
  },
  {
   "cell_type": "markdown",
   "metadata": {},
   "source": [
    "Удаляем пропуски в столбце год релиза и приводим к целочисленному значению. Пропуски удаляем, т.к. их количество крайне мало, всего 2%."
   ]
  },
  {
   "cell_type": "code",
   "execution_count": 14,
   "metadata": {},
   "outputs": [],
   "source": [
    "data= data.dropna(subset=['name'])"
   ]
  },
  {
   "cell_type": "code",
   "execution_count": 15,
   "metadata": {},
   "outputs": [],
   "source": [
    "data= data.dropna(subset=['genre'])"
   ]
  },
  {
   "cell_type": "markdown",
   "metadata": {},
   "source": [
    "Пропуски в столбцах имя и жанр удаляем по тем же причинам, их мы никак не восстановим, это нужно запрашивать информацию у тех кто создавал датасет."
   ]
  },
  {
   "cell_type": "code",
   "execution_count": 16,
   "metadata": {},
   "outputs": [
    {
     "data": {
      "text/plain": [
       "name                  0\n",
       "platform              0\n",
       "year_of_release       0\n",
       "genre                 0\n",
       "na_sales              0\n",
       "eu_sales              0\n",
       "jp_sales              0\n",
       "other_sales           0\n",
       "user_score         6605\n",
       "rating             6676\n",
       "critic_score       8461\n",
       "dtype: int64"
      ]
     },
     "execution_count": 16,
     "metadata": {},
     "output_type": "execute_result"
    }
   ],
   "source": [
    "data.isna().sum().sort_values()"
   ]
  },
  {
   "cell_type": "code",
   "execution_count": 17,
   "metadata": {},
   "outputs": [
    {
     "data": {
      "text/plain": [
       "NaN    6605\n",
       "tbd    2376\n",
       "7.8     322\n",
       "8       285\n",
       "8.2     276\n",
       "       ... \n",
       "0.3       2\n",
       "0.7       2\n",
       "2.3       2\n",
       "0         1\n",
       "9.7       1\n",
       "Name: user_score, Length: 97, dtype: int64"
      ]
     },
     "execution_count": 17,
     "metadata": {},
     "output_type": "execute_result"
    }
   ],
   "source": [
    "data['user_score'].value_counts(dropna=False)"
   ]
  },
  {
   "cell_type": "code",
   "execution_count": 18,
   "metadata": {},
   "outputs": [],
   "source": [
    "data['user_score'] = pd.to_numeric(data['user_score'], errors = 'coerce')"
   ]
  },
  {
   "cell_type": "code",
   "execution_count": 19,
   "metadata": {},
   "outputs": [
    {
     "data": {
      "text/plain": [
       "array([8. , nan, 8.3, 8.5, 6.6, 8.4, 8.6, 7.7, 6.3, 7.4, 8.2, 9. , 7.9,\n",
       "       8.1, 8.7, 7.1, 3.4, 5.3, 4.8, 3.2, 8.9, 6.4, 7.8, 7.5, 2.6, 7.2,\n",
       "       9.2, 7. , 7.3, 4.3, 7.6, 5.7, 5. , 9.1, 6.5, 8.8, 6.9, 9.4, 6.8,\n",
       "       6.1, 6.7, 5.4, 4. , 4.9, 4.5, 9.3, 6.2, 4.2, 6. , 3.7, 4.1, 5.8,\n",
       "       5.6, 5.5, 4.4, 4.6, 5.9, 3.9, 3.1, 2.9, 5.2, 3.3, 4.7, 5.1, 3.5,\n",
       "       2.5, 1.9, 3. , 2.7, 2.2, 2. , 9.5, 2.1, 3.6, 2.8, 1.8, 3.8, 0. ,\n",
       "       1.6, 9.6, 2.4, 1.7, 1.1, 0.3, 1.5, 0.7, 1.2, 2.3, 0.5, 1.3, 0.2,\n",
       "       0.6, 1.4, 0.9, 1. , 9.7])"
      ]
     },
     "execution_count": 19,
     "metadata": {},
     "output_type": "execute_result"
    }
   ],
   "source": [
    "data['user_score'].unique()"
   ]
  },
  {
   "cell_type": "code",
   "execution_count": 20,
   "metadata": {},
   "outputs": [
    {
     "data": {
      "text/plain": [
       "8981"
      ]
     },
     "execution_count": 20,
     "metadata": {},
     "output_type": "execute_result"
    }
   ],
   "source": [
    "data['user_score'].isna().sum()"
   ]
  },
  {
   "cell_type": "code",
   "execution_count": 21,
   "metadata": {},
   "outputs": [
    {
     "name": "stdout",
     "output_type": "stream",
     "text": [
      "<class 'pandas.core.frame.DataFrame'>\n",
      "Int64Index: 16444 entries, 0 to 16714\n",
      "Data columns (total 11 columns):\n",
      " #   Column           Non-Null Count  Dtype  \n",
      "---  ------           --------------  -----  \n",
      " 0   name             16444 non-null  object \n",
      " 1   platform         16444 non-null  object \n",
      " 2   year_of_release  16444 non-null  int64  \n",
      " 3   genre            16444 non-null  object \n",
      " 4   na_sales         16444 non-null  float64\n",
      " 5   eu_sales         16444 non-null  float64\n",
      " 6   jp_sales         16444 non-null  float64\n",
      " 7   other_sales      16444 non-null  float64\n",
      " 8   critic_score     7983 non-null   float64\n",
      " 9   user_score       7463 non-null   float64\n",
      " 10  rating           9768 non-null   object \n",
      "dtypes: float64(6), int64(1), object(4)\n",
      "memory usage: 1.5+ MB\n"
     ]
    }
   ],
   "source": [
    "data.info()"
   ]
  },
  {
   "cell_type": "markdown",
   "metadata": {},
   "source": [
    "Изменили тип данных в столбце user_score, название tbd (to be determined - ожидает релиза) автоматически перевелось в пропуски  "
   ]
  },
  {
   "cell_type": "markdown",
   "metadata": {},
   "source": [
    "Пропуски в данных user score, rating, critic score могли появиться по разным причинам, кто-то не оценил игру, релиз игры не состоялся (tbd), пропусков много, медианным или средним значением их не заполнить, т.к. это разные игры и сделать оцену по жанру либо по платформе будет неправильно."
   ]
  },
  {
   "cell_type": "code",
   "execution_count": 22,
   "metadata": {},
   "outputs": [
    {
     "data": {
      "text/plain": [
       "array(['E', nan, 'M', 'T', 'E10+', 'K-A', 'AO', 'EC', 'RP'], dtype=object)"
      ]
     },
     "execution_count": 22,
     "metadata": {},
     "output_type": "execute_result"
    }
   ],
   "source": [
    "data['rating'].unique()"
   ]
  },
  {
   "cell_type": "code",
   "execution_count": 23,
   "metadata": {},
   "outputs": [],
   "source": [
    "data['rating'] = data['rating'].replace('K-A', 'E')"
   ]
  },
  {
   "cell_type": "code",
   "execution_count": 24,
   "metadata": {},
   "outputs": [
    {
     "data": {
      "text/plain": [
       "array(['E', nan, 'M', 'T', 'E10+', 'AO', 'EC', 'RP'], dtype=object)"
      ]
     },
     "execution_count": 24,
     "metadata": {},
     "output_type": "execute_result"
    }
   ],
   "source": [
    "data['rating'].unique()"
   ]
  },
  {
   "cell_type": "markdown",
   "metadata": {},
   "source": [
    "Рейтинг К-А тоже самое что и Е, потому сделаем замену."
   ]
  },
  {
   "cell_type": "code",
   "execution_count": 25,
   "metadata": {},
   "outputs": [],
   "source": [
    "data['rating'] = data['rating'].fillna(-1)"
   ]
  },
  {
   "cell_type": "code",
   "execution_count": 26,
   "metadata": {},
   "outputs": [
    {
     "data": {
      "text/plain": [
       "array(['E', -1, 'M', 'T', 'E10+', 'AO', 'EC', 'RP'], dtype=object)"
      ]
     },
     "execution_count": 26,
     "metadata": {},
     "output_type": "execute_result"
    }
   ],
   "source": [
    "data['rating'].unique()"
   ]
  },
  {
   "cell_type": "markdown",
   "metadata": {},
   "source": [
    "\n",
    "\n",
    "\n",
    "<div style=\"background: #B0E0E6; padding: 5px; border: 1px solid SteelBlue; border-radius: 5px;\">\n",
    "    <font color='4682B4'>Заполняем пропуски в рейтинге заглушкой, чтобы избежать некорректных выводов в дальнейшем анализе<u><b></b></u></font>\n",
    "    <br />\n",
    "    <font color='4682B4'></font>\n",
    "</div>"
   ]
  },
  {
   "cell_type": "code",
   "execution_count": 27,
   "metadata": {},
   "outputs": [],
   "source": [
    "data['sales'] = data['na_sales'] + data['eu_sales'] + data['jp_sales'] + data['other_sales']"
   ]
  },
  {
   "cell_type": "code",
   "execution_count": 28,
   "metadata": {},
   "outputs": [
    {
     "data": {
      "text/html": [
       "<div>\n",
       "<style scoped>\n",
       "    .dataframe tbody tr th:only-of-type {\n",
       "        vertical-align: middle;\n",
       "    }\n",
       "\n",
       "    .dataframe tbody tr th {\n",
       "        vertical-align: top;\n",
       "    }\n",
       "\n",
       "    .dataframe thead th {\n",
       "        text-align: right;\n",
       "    }\n",
       "</style>\n",
       "<table border=\"1\" class=\"dataframe\">\n",
       "  <thead>\n",
       "    <tr style=\"text-align: right;\">\n",
       "      <th></th>\n",
       "      <th>name</th>\n",
       "      <th>platform</th>\n",
       "      <th>year_of_release</th>\n",
       "      <th>genre</th>\n",
       "      <th>na_sales</th>\n",
       "      <th>eu_sales</th>\n",
       "      <th>jp_sales</th>\n",
       "      <th>other_sales</th>\n",
       "      <th>critic_score</th>\n",
       "      <th>user_score</th>\n",
       "      <th>rating</th>\n",
       "      <th>sales</th>\n",
       "    </tr>\n",
       "  </thead>\n",
       "  <tbody>\n",
       "    <tr>\n",
       "      <th>0</th>\n",
       "      <td>Wii Sports</td>\n",
       "      <td>Wii</td>\n",
       "      <td>2006</td>\n",
       "      <td>Sports</td>\n",
       "      <td>41.36</td>\n",
       "      <td>28.96</td>\n",
       "      <td>3.77</td>\n",
       "      <td>8.45</td>\n",
       "      <td>76.0</td>\n",
       "      <td>8.0</td>\n",
       "      <td>E</td>\n",
       "      <td>82.54</td>\n",
       "    </tr>\n",
       "    <tr>\n",
       "      <th>1</th>\n",
       "      <td>Super Mario Bros.</td>\n",
       "      <td>NES</td>\n",
       "      <td>1985</td>\n",
       "      <td>Platform</td>\n",
       "      <td>29.08</td>\n",
       "      <td>3.58</td>\n",
       "      <td>6.81</td>\n",
       "      <td>0.77</td>\n",
       "      <td>NaN</td>\n",
       "      <td>NaN</td>\n",
       "      <td>-1</td>\n",
       "      <td>40.24</td>\n",
       "    </tr>\n",
       "    <tr>\n",
       "      <th>2</th>\n",
       "      <td>Mario Kart Wii</td>\n",
       "      <td>Wii</td>\n",
       "      <td>2008</td>\n",
       "      <td>Racing</td>\n",
       "      <td>15.68</td>\n",
       "      <td>12.76</td>\n",
       "      <td>3.79</td>\n",
       "      <td>3.29</td>\n",
       "      <td>82.0</td>\n",
       "      <td>8.3</td>\n",
       "      <td>E</td>\n",
       "      <td>35.52</td>\n",
       "    </tr>\n",
       "    <tr>\n",
       "      <th>3</th>\n",
       "      <td>Wii Sports Resort</td>\n",
       "      <td>Wii</td>\n",
       "      <td>2009</td>\n",
       "      <td>Sports</td>\n",
       "      <td>15.61</td>\n",
       "      <td>10.93</td>\n",
       "      <td>3.28</td>\n",
       "      <td>2.95</td>\n",
       "      <td>80.0</td>\n",
       "      <td>8.0</td>\n",
       "      <td>E</td>\n",
       "      <td>32.77</td>\n",
       "    </tr>\n",
       "    <tr>\n",
       "      <th>4</th>\n",
       "      <td>Pokemon Red/Pokemon Blue</td>\n",
       "      <td>GB</td>\n",
       "      <td>1996</td>\n",
       "      <td>Role-Playing</td>\n",
       "      <td>11.27</td>\n",
       "      <td>8.89</td>\n",
       "      <td>10.22</td>\n",
       "      <td>1.00</td>\n",
       "      <td>NaN</td>\n",
       "      <td>NaN</td>\n",
       "      <td>-1</td>\n",
       "      <td>31.38</td>\n",
       "    </tr>\n",
       "    <tr>\n",
       "      <th>5</th>\n",
       "      <td>Tetris</td>\n",
       "      <td>GB</td>\n",
       "      <td>1989</td>\n",
       "      <td>Puzzle</td>\n",
       "      <td>23.20</td>\n",
       "      <td>2.26</td>\n",
       "      <td>4.22</td>\n",
       "      <td>0.58</td>\n",
       "      <td>NaN</td>\n",
       "      <td>NaN</td>\n",
       "      <td>-1</td>\n",
       "      <td>30.26</td>\n",
       "    </tr>\n",
       "    <tr>\n",
       "      <th>6</th>\n",
       "      <td>New Super Mario Bros.</td>\n",
       "      <td>DS</td>\n",
       "      <td>2006</td>\n",
       "      <td>Platform</td>\n",
       "      <td>11.28</td>\n",
       "      <td>9.14</td>\n",
       "      <td>6.50</td>\n",
       "      <td>2.88</td>\n",
       "      <td>89.0</td>\n",
       "      <td>8.5</td>\n",
       "      <td>E</td>\n",
       "      <td>29.80</td>\n",
       "    </tr>\n",
       "    <tr>\n",
       "      <th>7</th>\n",
       "      <td>Wii Play</td>\n",
       "      <td>Wii</td>\n",
       "      <td>2006</td>\n",
       "      <td>Misc</td>\n",
       "      <td>13.96</td>\n",
       "      <td>9.18</td>\n",
       "      <td>2.93</td>\n",
       "      <td>2.84</td>\n",
       "      <td>58.0</td>\n",
       "      <td>6.6</td>\n",
       "      <td>E</td>\n",
       "      <td>28.91</td>\n",
       "    </tr>\n",
       "    <tr>\n",
       "      <th>8</th>\n",
       "      <td>New Super Mario Bros. Wii</td>\n",
       "      <td>Wii</td>\n",
       "      <td>2009</td>\n",
       "      <td>Platform</td>\n",
       "      <td>14.44</td>\n",
       "      <td>6.94</td>\n",
       "      <td>4.70</td>\n",
       "      <td>2.24</td>\n",
       "      <td>87.0</td>\n",
       "      <td>8.4</td>\n",
       "      <td>E</td>\n",
       "      <td>28.32</td>\n",
       "    </tr>\n",
       "    <tr>\n",
       "      <th>9</th>\n",
       "      <td>Duck Hunt</td>\n",
       "      <td>NES</td>\n",
       "      <td>1984</td>\n",
       "      <td>Shooter</td>\n",
       "      <td>26.93</td>\n",
       "      <td>0.63</td>\n",
       "      <td>0.28</td>\n",
       "      <td>0.47</td>\n",
       "      <td>NaN</td>\n",
       "      <td>NaN</td>\n",
       "      <td>-1</td>\n",
       "      <td>28.31</td>\n",
       "    </tr>\n",
       "  </tbody>\n",
       "</table>\n",
       "</div>"
      ],
      "text/plain": [
       "                        name platform  year_of_release         genre  \\\n",
       "0                 Wii Sports      Wii             2006        Sports   \n",
       "1          Super Mario Bros.      NES             1985      Platform   \n",
       "2             Mario Kart Wii      Wii             2008        Racing   \n",
       "3          Wii Sports Resort      Wii             2009        Sports   \n",
       "4   Pokemon Red/Pokemon Blue       GB             1996  Role-Playing   \n",
       "5                     Tetris       GB             1989        Puzzle   \n",
       "6      New Super Mario Bros.       DS             2006      Platform   \n",
       "7                   Wii Play      Wii             2006          Misc   \n",
       "8  New Super Mario Bros. Wii      Wii             2009      Platform   \n",
       "9                  Duck Hunt      NES             1984       Shooter   \n",
       "\n",
       "   na_sales  eu_sales  jp_sales  other_sales  critic_score  user_score rating  \\\n",
       "0     41.36     28.96      3.77         8.45          76.0         8.0      E   \n",
       "1     29.08      3.58      6.81         0.77           NaN         NaN     -1   \n",
       "2     15.68     12.76      3.79         3.29          82.0         8.3      E   \n",
       "3     15.61     10.93      3.28         2.95          80.0         8.0      E   \n",
       "4     11.27      8.89     10.22         1.00           NaN         NaN     -1   \n",
       "5     23.20      2.26      4.22         0.58           NaN         NaN     -1   \n",
       "6     11.28      9.14      6.50         2.88          89.0         8.5      E   \n",
       "7     13.96      9.18      2.93         2.84          58.0         6.6      E   \n",
       "8     14.44      6.94      4.70         2.24          87.0         8.4      E   \n",
       "9     26.93      0.63      0.28         0.47           NaN         NaN     -1   \n",
       "\n",
       "   sales  \n",
       "0  82.54  \n",
       "1  40.24  \n",
       "2  35.52  \n",
       "3  32.77  \n",
       "4  31.38  \n",
       "5  30.26  \n",
       "6  29.80  \n",
       "7  28.91  \n",
       "8  28.32  \n",
       "9  28.31  "
      ]
     },
     "execution_count": 28,
     "metadata": {},
     "output_type": "execute_result"
    }
   ],
   "source": [
    "data.head(10)"
   ]
  },
  {
   "cell_type": "markdown",
   "metadata": {},
   "source": [
    "Добавляем столбец с общими продажами игры по всем регионам."
   ]
  },
  {
   "cell_type": "markdown",
   "metadata": {},
   "source": [
    "<div style=\"background: #B0E0E6; padding: 5px; border: 1px solid SteelBlue; border-radius: 5px;\">\n",
    "    <font color='4682B4'>\n",
    "        В данном шаге, мы просмотрели основные параметры датасета, определили недочеты, все воможные исправили, привели к рабочему виду, определили количество пропусков, в столбцах, где пропусков менее 10% мы их удалили, т.к. в первую очередь природа их появления нам точно не ясна, их крайне мало, они могут и не понадобится средь общей массы данных для выполнения проекта, какие то пропуски заполнить медианным или средним значением будет крайне неправильно, т.к. повлечет за собой неправильные выводы. Также добавили новый столбец с суммарными продажами по каждому региону, чтобы в дальнейшем, воможно, посчитать долю продаж в каждом приведенном регионе. Столкнулись с таким параметром как \"tbd\" - что пришлось переименовать в nan, т.к. это самый настоящий пропуск. По оставшимся пропускам будем работать в процессе исследования.<u><b></b></u></font>\n",
    "    <br />\n",
    "    <font color='4682B4'></font>\n",
    "</div>"
   ]
  },
  {
   "cell_type": "markdown",
   "metadata": {},
   "source": [
    "                         Шаг 3. Проводим исследовательский анализ данных"
   ]
  },
  {
   "cell_type": "code",
   "execution_count": 29,
   "metadata": {},
   "outputs": [
    {
     "data": {
      "text/html": [
       "<div>\n",
       "<style scoped>\n",
       "    .dataframe tbody tr th:only-of-type {\n",
       "        vertical-align: middle;\n",
       "    }\n",
       "\n",
       "    .dataframe tbody tr th {\n",
       "        vertical-align: top;\n",
       "    }\n",
       "\n",
       "    .dataframe thead th {\n",
       "        text-align: right;\n",
       "    }\n",
       "</style>\n",
       "<table border=\"1\" class=\"dataframe\">\n",
       "  <thead>\n",
       "    <tr style=\"text-align: right;\">\n",
       "      <th></th>\n",
       "      <th>name</th>\n",
       "    </tr>\n",
       "    <tr>\n",
       "      <th>year_of_release</th>\n",
       "      <th></th>\n",
       "    </tr>\n",
       "  </thead>\n",
       "  <tbody>\n",
       "    <tr>\n",
       "      <th>1980</th>\n",
       "      <td>9</td>\n",
       "    </tr>\n",
       "    <tr>\n",
       "      <th>1981</th>\n",
       "      <td>46</td>\n",
       "    </tr>\n",
       "    <tr>\n",
       "      <th>1982</th>\n",
       "      <td>36</td>\n",
       "    </tr>\n",
       "    <tr>\n",
       "      <th>1983</th>\n",
       "      <td>17</td>\n",
       "    </tr>\n",
       "    <tr>\n",
       "      <th>1984</th>\n",
       "      <td>14</td>\n",
       "    </tr>\n",
       "    <tr>\n",
       "      <th>1985</th>\n",
       "      <td>14</td>\n",
       "    </tr>\n",
       "    <tr>\n",
       "      <th>1986</th>\n",
       "      <td>21</td>\n",
       "    </tr>\n",
       "    <tr>\n",
       "      <th>1987</th>\n",
       "      <td>16</td>\n",
       "    </tr>\n",
       "    <tr>\n",
       "      <th>1988</th>\n",
       "      <td>15</td>\n",
       "    </tr>\n",
       "    <tr>\n",
       "      <th>1989</th>\n",
       "      <td>17</td>\n",
       "    </tr>\n",
       "    <tr>\n",
       "      <th>1990</th>\n",
       "      <td>16</td>\n",
       "    </tr>\n",
       "    <tr>\n",
       "      <th>1991</th>\n",
       "      <td>41</td>\n",
       "    </tr>\n",
       "    <tr>\n",
       "      <th>1992</th>\n",
       "      <td>43</td>\n",
       "    </tr>\n",
       "    <tr>\n",
       "      <th>1993</th>\n",
       "      <td>60</td>\n",
       "    </tr>\n",
       "    <tr>\n",
       "      <th>1994</th>\n",
       "      <td>121</td>\n",
       "    </tr>\n",
       "    <tr>\n",
       "      <th>1995</th>\n",
       "      <td>219</td>\n",
       "    </tr>\n",
       "    <tr>\n",
       "      <th>1996</th>\n",
       "      <td>263</td>\n",
       "    </tr>\n",
       "    <tr>\n",
       "      <th>1997</th>\n",
       "      <td>289</td>\n",
       "    </tr>\n",
       "    <tr>\n",
       "      <th>1998</th>\n",
       "      <td>379</td>\n",
       "    </tr>\n",
       "    <tr>\n",
       "      <th>1999</th>\n",
       "      <td>338</td>\n",
       "    </tr>\n",
       "    <tr>\n",
       "      <th>2000</th>\n",
       "      <td>350</td>\n",
       "    </tr>\n",
       "    <tr>\n",
       "      <th>2001</th>\n",
       "      <td>482</td>\n",
       "    </tr>\n",
       "    <tr>\n",
       "      <th>2002</th>\n",
       "      <td>829</td>\n",
       "    </tr>\n",
       "    <tr>\n",
       "      <th>2003</th>\n",
       "      <td>775</td>\n",
       "    </tr>\n",
       "    <tr>\n",
       "      <th>2004</th>\n",
       "      <td>762</td>\n",
       "    </tr>\n",
       "    <tr>\n",
       "      <th>2005</th>\n",
       "      <td>939</td>\n",
       "    </tr>\n",
       "    <tr>\n",
       "      <th>2006</th>\n",
       "      <td>1006</td>\n",
       "    </tr>\n",
       "    <tr>\n",
       "      <th>2007</th>\n",
       "      <td>1197</td>\n",
       "    </tr>\n",
       "    <tr>\n",
       "      <th>2008</th>\n",
       "      <td>1427</td>\n",
       "    </tr>\n",
       "    <tr>\n",
       "      <th>2009</th>\n",
       "      <td>1426</td>\n",
       "    </tr>\n",
       "    <tr>\n",
       "      <th>2010</th>\n",
       "      <td>1255</td>\n",
       "    </tr>\n",
       "    <tr>\n",
       "      <th>2011</th>\n",
       "      <td>1136</td>\n",
       "    </tr>\n",
       "    <tr>\n",
       "      <th>2012</th>\n",
       "      <td>653</td>\n",
       "    </tr>\n",
       "    <tr>\n",
       "      <th>2013</th>\n",
       "      <td>544</td>\n",
       "    </tr>\n",
       "    <tr>\n",
       "      <th>2014</th>\n",
       "      <td>581</td>\n",
       "    </tr>\n",
       "    <tr>\n",
       "      <th>2015</th>\n",
       "      <td>606</td>\n",
       "    </tr>\n",
       "    <tr>\n",
       "      <th>2016</th>\n",
       "      <td>502</td>\n",
       "    </tr>\n",
       "  </tbody>\n",
       "</table>\n",
       "</div>"
      ],
      "text/plain": [
       "                 name\n",
       "year_of_release      \n",
       "1980                9\n",
       "1981               46\n",
       "1982               36\n",
       "1983               17\n",
       "1984               14\n",
       "1985               14\n",
       "1986               21\n",
       "1987               16\n",
       "1988               15\n",
       "1989               17\n",
       "1990               16\n",
       "1991               41\n",
       "1992               43\n",
       "1993               60\n",
       "1994              121\n",
       "1995              219\n",
       "1996              263\n",
       "1997              289\n",
       "1998              379\n",
       "1999              338\n",
       "2000              350\n",
       "2001              482\n",
       "2002              829\n",
       "2003              775\n",
       "2004              762\n",
       "2005              939\n",
       "2006             1006\n",
       "2007             1197\n",
       "2008             1427\n",
       "2009             1426\n",
       "2010             1255\n",
       "2011             1136\n",
       "2012              653\n",
       "2013              544\n",
       "2014              581\n",
       "2015              606\n",
       "2016              502"
      ]
     },
     "metadata": {},
     "output_type": "display_data"
    }
   ],
   "source": [
    "games = data.pivot_table(index = 'year_of_release', values = 'name', aggfunc = 'count')\n",
    "display(games)\n"
   ]
  },
  {
   "cell_type": "code",
   "execution_count": 30,
   "metadata": {},
   "outputs": [
    {
     "data": {
      "image/png": "[encoded data removed]",
      "text/plain": [
       "<Figure size 648x648 with 1 Axes>"
      ]
     },
     "metadata": {
      "needs_background": "light"
     },
     "output_type": "display_data"
    }
   ],
   "source": [
    "plt.title('Кол-во выпущенных игр за каждый год')\n",
    "plt.ylabel('Кол-во проданных игр, шт')\n",
    "plt.xlabel('Год')\n",
    "data['year_of_release'].hist(figsize=(9, 9), bins = 50, range=(1995, 2016))\n",
    "plt.show()\n"
   ]
  },
  {
   "cell_type": "markdown",
   "metadata": {},
   "source": [
    "Отбрасываем года до 1995, т.к. в те периоды было выпущено мало игр, т.к. цифровая сфера только начинала развиваться. Все мы помним игры супер марио на приставках и Counter Strike, они были выпущены примерно в середине 90-х, с этого периода и начнем рассматривать данные. До 2008 года количество игр росло, в 2008 году произошел кризис, на рынке остались только самые \"сильные\" платформы, и стали они делать упор не количество произведенных игр, а на их качество, с каждым годом улучшая этот показатель. "
   ]
  },
  {
   "cell_type": "markdown",
   "metadata": {},
   "source": [
    "   Посмотрите, как менялись продажи по платформам. Выберите платформы с наибольшими суммарными продажами и постройте распределение по годам. За какой характерный срок появляются новые и исчезают старые платформы?"
   ]
  },
  {
   "cell_type": "code",
   "execution_count": 31,
   "metadata": {},
   "outputs": [
    {
     "data": {
      "text/html": [
       "<div>\n",
       "<style scoped>\n",
       "    .dataframe tbody tr th:only-of-type {\n",
       "        vertical-align: middle;\n",
       "    }\n",
       "\n",
       "    .dataframe tbody tr th {\n",
       "        vertical-align: top;\n",
       "    }\n",
       "\n",
       "    .dataframe thead th {\n",
       "        text-align: right;\n",
       "    }\n",
       "</style>\n",
       "<table border=\"1\" class=\"dataframe\">\n",
       "  <thead>\n",
       "    <tr style=\"text-align: right;\">\n",
       "      <th>year_of_release</th>\n",
       "      <th>1980</th>\n",
       "      <th>1981</th>\n",
       "      <th>1982</th>\n",
       "      <th>1983</th>\n",
       "      <th>1984</th>\n",
       "      <th>1985</th>\n",
       "      <th>1986</th>\n",
       "      <th>1987</th>\n",
       "      <th>1988</th>\n",
       "      <th>1989</th>\n",
       "      <th>...</th>\n",
       "      <th>2007</th>\n",
       "      <th>2008</th>\n",
       "      <th>2009</th>\n",
       "      <th>2010</th>\n",
       "      <th>2011</th>\n",
       "      <th>2012</th>\n",
       "      <th>2013</th>\n",
       "      <th>2014</th>\n",
       "      <th>2015</th>\n",
       "      <th>2016</th>\n",
       "    </tr>\n",
       "    <tr>\n",
       "      <th>platform</th>\n",
       "      <th></th>\n",
       "      <th></th>\n",
       "      <th></th>\n",
       "      <th></th>\n",
       "      <th></th>\n",
       "      <th></th>\n",
       "      <th></th>\n",
       "      <th></th>\n",
       "      <th></th>\n",
       "      <th></th>\n",
       "      <th></th>\n",
       "      <th></th>\n",
       "      <th></th>\n",
       "      <th></th>\n",
       "      <th></th>\n",
       "      <th></th>\n",
       "      <th></th>\n",
       "      <th></th>\n",
       "      <th></th>\n",
       "      <th></th>\n",
       "      <th></th>\n",
       "    </tr>\n",
       "  </thead>\n",
       "  <tbody>\n",
       "    <tr>\n",
       "      <th>2600</th>\n",
       "      <td>9.0</td>\n",
       "      <td>46.0</td>\n",
       "      <td>36.0</td>\n",
       "      <td>11.0</td>\n",
       "      <td>1.0</td>\n",
       "      <td>1.0</td>\n",
       "      <td>2.0</td>\n",
       "      <td>6.0</td>\n",
       "      <td>2.0</td>\n",
       "      <td>2.0</td>\n",
       "      <td>...</td>\n",
       "      <td>NaN</td>\n",
       "      <td>NaN</td>\n",
       "      <td>NaN</td>\n",
       "      <td>NaN</td>\n",
       "      <td>NaN</td>\n",
       "      <td>NaN</td>\n",
       "      <td>NaN</td>\n",
       "      <td>NaN</td>\n",
       "      <td>NaN</td>\n",
       "      <td>NaN</td>\n",
       "    </tr>\n",
       "    <tr>\n",
       "      <th>3DO</th>\n",
       "      <td>NaN</td>\n",
       "      <td>NaN</td>\n",
       "      <td>NaN</td>\n",
       "      <td>NaN</td>\n",
       "      <td>NaN</td>\n",
       "      <td>NaN</td>\n",
       "      <td>NaN</td>\n",
       "      <td>NaN</td>\n",
       "      <td>NaN</td>\n",
       "      <td>NaN</td>\n",
       "      <td>...</td>\n",
       "      <td>NaN</td>\n",
       "      <td>NaN</td>\n",
       "      <td>NaN</td>\n",
       "      <td>NaN</td>\n",
       "      <td>NaN</td>\n",
       "      <td>NaN</td>\n",
       "      <td>NaN</td>\n",
       "      <td>NaN</td>\n",
       "      <td>NaN</td>\n",
       "      <td>NaN</td>\n",
       "    </tr>\n",
       "    <tr>\n",
       "      <th>3DS</th>\n",
       "      <td>NaN</td>\n",
       "      <td>NaN</td>\n",
       "      <td>NaN</td>\n",
       "      <td>NaN</td>\n",
       "      <td>NaN</td>\n",
       "      <td>NaN</td>\n",
       "      <td>NaN</td>\n",
       "      <td>NaN</td>\n",
       "      <td>NaN</td>\n",
       "      <td>NaN</td>\n",
       "      <td>...</td>\n",
       "      <td>NaN</td>\n",
       "      <td>NaN</td>\n",
       "      <td>NaN</td>\n",
       "      <td>NaN</td>\n",
       "      <td>116.0</td>\n",
       "      <td>93.0</td>\n",
       "      <td>91.0</td>\n",
       "      <td>80.0</td>\n",
       "      <td>86.0</td>\n",
       "      <td>46.0</td>\n",
       "    </tr>\n",
       "    <tr>\n",
       "      <th>DC</th>\n",
       "      <td>NaN</td>\n",
       "      <td>NaN</td>\n",
       "      <td>NaN</td>\n",
       "      <td>NaN</td>\n",
       "      <td>NaN</td>\n",
       "      <td>NaN</td>\n",
       "      <td>NaN</td>\n",
       "      <td>NaN</td>\n",
       "      <td>NaN</td>\n",
       "      <td>NaN</td>\n",
       "      <td>...</td>\n",
       "      <td>1.0</td>\n",
       "      <td>1.0</td>\n",
       "      <td>NaN</td>\n",
       "      <td>NaN</td>\n",
       "      <td>NaN</td>\n",
       "      <td>NaN</td>\n",
       "      <td>NaN</td>\n",
       "      <td>NaN</td>\n",
       "      <td>NaN</td>\n",
       "      <td>NaN</td>\n",
       "    </tr>\n",
       "    <tr>\n",
       "      <th>DS</th>\n",
       "      <td>NaN</td>\n",
       "      <td>NaN</td>\n",
       "      <td>NaN</td>\n",
       "      <td>NaN</td>\n",
       "      <td>NaN</td>\n",
       "      <td>1.0</td>\n",
       "      <td>NaN</td>\n",
       "      <td>NaN</td>\n",
       "      <td>NaN</td>\n",
       "      <td>NaN</td>\n",
       "      <td>...</td>\n",
       "      <td>376.0</td>\n",
       "      <td>492.0</td>\n",
       "      <td>403.0</td>\n",
       "      <td>323.0</td>\n",
       "      <td>153.0</td>\n",
       "      <td>23.0</td>\n",
       "      <td>8.0</td>\n",
       "      <td>NaN</td>\n",
       "      <td>NaN</td>\n",
       "      <td>NaN</td>\n",
       "    </tr>\n",
       "    <tr>\n",
       "      <th>GB</th>\n",
       "      <td>NaN</td>\n",
       "      <td>NaN</td>\n",
       "      <td>NaN</td>\n",
       "      <td>NaN</td>\n",
       "      <td>NaN</td>\n",
       "      <td>NaN</td>\n",
       "      <td>NaN</td>\n",
       "      <td>NaN</td>\n",
       "      <td>1.0</td>\n",
       "      <td>10.0</td>\n",
       "      <td>...</td>\n",
       "      <td>NaN</td>\n",
       "      <td>NaN</td>\n",
       "      <td>NaN</td>\n",
       "      <td>NaN</td>\n",
       "      <td>NaN</td>\n",
       "      <td>NaN</td>\n",
       "      <td>NaN</td>\n",
       "      <td>NaN</td>\n",
       "      <td>NaN</td>\n",
       "      <td>NaN</td>\n",
       "    </tr>\n",
       "    <tr>\n",
       "      <th>GBA</th>\n",
       "      <td>NaN</td>\n",
       "      <td>NaN</td>\n",
       "      <td>NaN</td>\n",
       "      <td>NaN</td>\n",
       "      <td>NaN</td>\n",
       "      <td>NaN</td>\n",
       "      <td>NaN</td>\n",
       "      <td>NaN</td>\n",
       "      <td>NaN</td>\n",
       "      <td>NaN</td>\n",
       "      <td>...</td>\n",
       "      <td>6.0</td>\n",
       "      <td>NaN</td>\n",
       "      <td>NaN</td>\n",
       "      <td>NaN</td>\n",
       "      <td>NaN</td>\n",
       "      <td>NaN</td>\n",
       "      <td>NaN</td>\n",
       "      <td>NaN</td>\n",
       "      <td>NaN</td>\n",
       "      <td>NaN</td>\n",
       "    </tr>\n",
       "    <tr>\n",
       "      <th>GC</th>\n",
       "      <td>NaN</td>\n",
       "      <td>NaN</td>\n",
       "      <td>NaN</td>\n",
       "      <td>NaN</td>\n",
       "      <td>NaN</td>\n",
       "      <td>NaN</td>\n",
       "      <td>NaN</td>\n",
       "      <td>NaN</td>\n",
       "      <td>NaN</td>\n",
       "      <td>NaN</td>\n",
       "      <td>...</td>\n",
       "      <td>4.0</td>\n",
       "      <td>NaN</td>\n",
       "      <td>NaN</td>\n",
       "      <td>NaN</td>\n",
       "      <td>NaN</td>\n",
       "      <td>NaN</td>\n",
       "      <td>NaN</td>\n",
       "      <td>NaN</td>\n",
       "      <td>NaN</td>\n",
       "      <td>NaN</td>\n",
       "    </tr>\n",
       "    <tr>\n",
       "      <th>GEN</th>\n",
       "      <td>NaN</td>\n",
       "      <td>NaN</td>\n",
       "      <td>NaN</td>\n",
       "      <td>NaN</td>\n",
       "      <td>NaN</td>\n",
       "      <td>NaN</td>\n",
       "      <td>NaN</td>\n",
       "      <td>NaN</td>\n",
       "      <td>NaN</td>\n",
       "      <td>NaN</td>\n",
       "      <td>...</td>\n",
       "      <td>NaN</td>\n",
       "      <td>NaN</td>\n",
       "      <td>NaN</td>\n",
       "      <td>NaN</td>\n",
       "      <td>NaN</td>\n",
       "      <td>NaN</td>\n",
       "      <td>NaN</td>\n",
       "      <td>NaN</td>\n",
       "      <td>NaN</td>\n",
       "      <td>NaN</td>\n",
       "    </tr>\n",
       "    <tr>\n",
       "      <th>GG</th>\n",
       "      <td>NaN</td>\n",
       "      <td>NaN</td>\n",
       "      <td>NaN</td>\n",
       "      <td>NaN</td>\n",
       "      <td>NaN</td>\n",
       "      <td>NaN</td>\n",
       "      <td>NaN</td>\n",
       "      <td>NaN</td>\n",
       "      <td>NaN</td>\n",
       "      <td>NaN</td>\n",
       "      <td>...</td>\n",
       "      <td>NaN</td>\n",
       "      <td>NaN</td>\n",
       "      <td>NaN</td>\n",
       "      <td>NaN</td>\n",
       "      <td>NaN</td>\n",
       "      <td>NaN</td>\n",
       "      <td>NaN</td>\n",
       "      <td>NaN</td>\n",
       "      <td>NaN</td>\n",
       "      <td>NaN</td>\n",
       "    </tr>\n",
       "    <tr>\n",
       "      <th>N64</th>\n",
       "      <td>NaN</td>\n",
       "      <td>NaN</td>\n",
       "      <td>NaN</td>\n",
       "      <td>NaN</td>\n",
       "      <td>NaN</td>\n",
       "      <td>NaN</td>\n",
       "      <td>NaN</td>\n",
       "      <td>NaN</td>\n",
       "      <td>NaN</td>\n",
       "      <td>NaN</td>\n",
       "      <td>...</td>\n",
       "      <td>NaN</td>\n",
       "      <td>NaN</td>\n",
       "      <td>NaN</td>\n",
       "      <td>NaN</td>\n",
       "      <td>NaN</td>\n",
       "      <td>NaN</td>\n",
       "      <td>NaN</td>\n",
       "      <td>NaN</td>\n",
       "      <td>NaN</td>\n",
       "      <td>NaN</td>\n",
       "    </tr>\n",
       "    <tr>\n",
       "      <th>NES</th>\n",
       "      <td>NaN</td>\n",
       "      <td>NaN</td>\n",
       "      <td>NaN</td>\n",
       "      <td>6.0</td>\n",
       "      <td>13.0</td>\n",
       "      <td>11.0</td>\n",
       "      <td>19.0</td>\n",
       "      <td>10.0</td>\n",
       "      <td>11.0</td>\n",
       "      <td>5.0</td>\n",
       "      <td>...</td>\n",
       "      <td>NaN</td>\n",
       "      <td>NaN</td>\n",
       "      <td>NaN</td>\n",
       "      <td>NaN</td>\n",
       "      <td>NaN</td>\n",
       "      <td>NaN</td>\n",
       "      <td>NaN</td>\n",
       "      <td>NaN</td>\n",
       "      <td>NaN</td>\n",
       "      <td>NaN</td>\n",
       "    </tr>\n",
       "    <tr>\n",
       "      <th>NG</th>\n",
       "      <td>NaN</td>\n",
       "      <td>NaN</td>\n",
       "      <td>NaN</td>\n",
       "      <td>NaN</td>\n",
       "      <td>NaN</td>\n",
       "      <td>NaN</td>\n",
       "      <td>NaN</td>\n",
       "      <td>NaN</td>\n",
       "      <td>NaN</td>\n",
       "      <td>NaN</td>\n",
       "      <td>...</td>\n",
       "      <td>NaN</td>\n",
       "      <td>NaN</td>\n",
       "      <td>NaN</td>\n",
       "      <td>NaN</td>\n",
       "      <td>NaN</td>\n",
       "      <td>NaN</td>\n",
       "      <td>NaN</td>\n",
       "      <td>NaN</td>\n",
       "      <td>NaN</td>\n",
       "      <td>NaN</td>\n",
       "    </tr>\n",
       "    <tr>\n",
       "      <th>PC</th>\n",
       "      <td>NaN</td>\n",
       "      <td>NaN</td>\n",
       "      <td>NaN</td>\n",
       "      <td>NaN</td>\n",
       "      <td>NaN</td>\n",
       "      <td>1.0</td>\n",
       "      <td>NaN</td>\n",
       "      <td>NaN</td>\n",
       "      <td>1.0</td>\n",
       "      <td>NaN</td>\n",
       "      <td>...</td>\n",
       "      <td>62.0</td>\n",
       "      <td>76.0</td>\n",
       "      <td>107.0</td>\n",
       "      <td>90.0</td>\n",
       "      <td>139.0</td>\n",
       "      <td>61.0</td>\n",
       "      <td>38.0</td>\n",
       "      <td>47.0</td>\n",
       "      <td>50.0</td>\n",
       "      <td>54.0</td>\n",
       "    </tr>\n",
       "    <tr>\n",
       "      <th>PCFX</th>\n",
       "      <td>NaN</td>\n",
       "      <td>NaN</td>\n",
       "      <td>NaN</td>\n",
       "      <td>NaN</td>\n",
       "      <td>NaN</td>\n",
       "      <td>NaN</td>\n",
       "      <td>NaN</td>\n",
       "      <td>NaN</td>\n",
       "      <td>NaN</td>\n",
       "      <td>NaN</td>\n",
       "      <td>...</td>\n",
       "      <td>NaN</td>\n",
       "      <td>NaN</td>\n",
       "      <td>NaN</td>\n",
       "      <td>NaN</td>\n",
       "      <td>NaN</td>\n",
       "      <td>NaN</td>\n",
       "      <td>NaN</td>\n",
       "      <td>NaN</td>\n",
       "      <td>NaN</td>\n",
       "      <td>NaN</td>\n",
       "    </tr>\n",
       "    <tr>\n",
       "      <th>PS</th>\n",
       "      <td>NaN</td>\n",
       "      <td>NaN</td>\n",
       "      <td>NaN</td>\n",
       "      <td>NaN</td>\n",
       "      <td>NaN</td>\n",
       "      <td>NaN</td>\n",
       "      <td>NaN</td>\n",
       "      <td>NaN</td>\n",
       "      <td>NaN</td>\n",
       "      <td>NaN</td>\n",
       "      <td>...</td>\n",
       "      <td>NaN</td>\n",
       "      <td>NaN</td>\n",
       "      <td>NaN</td>\n",
       "      <td>NaN</td>\n",
       "      <td>NaN</td>\n",
       "      <td>NaN</td>\n",
       "      <td>NaN</td>\n",
       "      <td>NaN</td>\n",
       "      <td>NaN</td>\n",
       "      <td>NaN</td>\n",
       "    </tr>\n",
       "    <tr>\n",
       "      <th>PS2</th>\n",
       "      <td>NaN</td>\n",
       "      <td>NaN</td>\n",
       "      <td>NaN</td>\n",
       "      <td>NaN</td>\n",
       "      <td>NaN</td>\n",
       "      <td>NaN</td>\n",
       "      <td>NaN</td>\n",
       "      <td>NaN</td>\n",
       "      <td>NaN</td>\n",
       "      <td>NaN</td>\n",
       "      <td>...</td>\n",
       "      <td>214.0</td>\n",
       "      <td>191.0</td>\n",
       "      <td>96.0</td>\n",
       "      <td>38.0</td>\n",
       "      <td>7.0</td>\n",
       "      <td>NaN</td>\n",
       "      <td>NaN</td>\n",
       "      <td>NaN</td>\n",
       "      <td>NaN</td>\n",
       "      <td>NaN</td>\n",
       "    </tr>\n",
       "    <tr>\n",
       "      <th>PS3</th>\n",
       "      <td>NaN</td>\n",
       "      <td>NaN</td>\n",
       "      <td>NaN</td>\n",
       "      <td>NaN</td>\n",
       "      <td>NaN</td>\n",
       "      <td>NaN</td>\n",
       "      <td>NaN</td>\n",
       "      <td>NaN</td>\n",
       "      <td>NaN</td>\n",
       "      <td>NaN</td>\n",
       "      <td>...</td>\n",
       "      <td>90.0</td>\n",
       "      <td>138.0</td>\n",
       "      <td>162.0</td>\n",
       "      <td>181.0</td>\n",
       "      <td>215.0</td>\n",
       "      <td>148.0</td>\n",
       "      <td>126.0</td>\n",
       "      <td>108.0</td>\n",
       "      <td>73.0</td>\n",
       "      <td>38.0</td>\n",
       "    </tr>\n",
       "    <tr>\n",
       "      <th>PS4</th>\n",
       "      <td>NaN</td>\n",
       "      <td>NaN</td>\n",
       "      <td>NaN</td>\n",
       "      <td>NaN</td>\n",
       "      <td>NaN</td>\n",
       "      <td>NaN</td>\n",
       "      <td>NaN</td>\n",
       "      <td>NaN</td>\n",
       "      <td>NaN</td>\n",
       "      <td>NaN</td>\n",
       "      <td>...</td>\n",
       "      <td>NaN</td>\n",
       "      <td>NaN</td>\n",
       "      <td>NaN</td>\n",
       "      <td>NaN</td>\n",
       "      <td>NaN</td>\n",
       "      <td>NaN</td>\n",
       "      <td>16.0</td>\n",
       "      <td>75.0</td>\n",
       "      <td>137.0</td>\n",
       "      <td>164.0</td>\n",
       "    </tr>\n",
       "    <tr>\n",
       "      <th>PSP</th>\n",
       "      <td>NaN</td>\n",
       "      <td>NaN</td>\n",
       "      <td>NaN</td>\n",
       "      <td>NaN</td>\n",
       "      <td>NaN</td>\n",
       "      <td>NaN</td>\n",
       "      <td>NaN</td>\n",
       "      <td>NaN</td>\n",
       "      <td>NaN</td>\n",
       "      <td>NaN</td>\n",
       "      <td>...</td>\n",
       "      <td>133.0</td>\n",
       "      <td>100.0</td>\n",
       "      <td>161.0</td>\n",
       "      <td>188.0</td>\n",
       "      <td>139.0</td>\n",
       "      <td>106.0</td>\n",
       "      <td>54.0</td>\n",
       "      <td>10.0</td>\n",
       "      <td>3.0</td>\n",
       "      <td>NaN</td>\n",
       "    </tr>\n",
       "    <tr>\n",
       "      <th>PSV</th>\n",
       "      <td>NaN</td>\n",
       "      <td>NaN</td>\n",
       "      <td>NaN</td>\n",
       "      <td>NaN</td>\n",
       "      <td>NaN</td>\n",
       "      <td>NaN</td>\n",
       "      <td>NaN</td>\n",
       "      <td>NaN</td>\n",
       "      <td>NaN</td>\n",
       "      <td>NaN</td>\n",
       "      <td>...</td>\n",
       "      <td>NaN</td>\n",
       "      <td>NaN</td>\n",
       "      <td>NaN</td>\n",
       "      <td>NaN</td>\n",
       "      <td>18.0</td>\n",
       "      <td>53.0</td>\n",
       "      <td>63.0</td>\n",
       "      <td>100.0</td>\n",
       "      <td>110.0</td>\n",
       "      <td>85.0</td>\n",
       "    </tr>\n",
       "    <tr>\n",
       "      <th>SAT</th>\n",
       "      <td>NaN</td>\n",
       "      <td>NaN</td>\n",
       "      <td>NaN</td>\n",
       "      <td>NaN</td>\n",
       "      <td>NaN</td>\n",
       "      <td>NaN</td>\n",
       "      <td>NaN</td>\n",
       "      <td>NaN</td>\n",
       "      <td>NaN</td>\n",
       "      <td>NaN</td>\n",
       "      <td>...</td>\n",
       "      <td>NaN</td>\n",
       "      <td>NaN</td>\n",
       "      <td>NaN</td>\n",
       "      <td>NaN</td>\n",
       "      <td>NaN</td>\n",
       "      <td>NaN</td>\n",
       "      <td>NaN</td>\n",
       "      <td>NaN</td>\n",
       "      <td>NaN</td>\n",
       "      <td>NaN</td>\n",
       "    </tr>\n",
       "    <tr>\n",
       "      <th>SCD</th>\n",
       "      <td>NaN</td>\n",
       "      <td>NaN</td>\n",
       "      <td>NaN</td>\n",
       "      <td>NaN</td>\n",
       "      <td>NaN</td>\n",
       "      <td>NaN</td>\n",
       "      <td>NaN</td>\n",
       "      <td>NaN</td>\n",
       "      <td>NaN</td>\n",
       "      <td>NaN</td>\n",
       "      <td>...</td>\n",
       "      <td>NaN</td>\n",
       "      <td>NaN</td>\n",
       "      <td>NaN</td>\n",
       "      <td>NaN</td>\n",
       "      <td>NaN</td>\n",
       "      <td>NaN</td>\n",
       "      <td>NaN</td>\n",
       "      <td>NaN</td>\n",
       "      <td>NaN</td>\n",
       "      <td>NaN</td>\n",
       "    </tr>\n",
       "    <tr>\n",
       "      <th>SNES</th>\n",
       "      <td>NaN</td>\n",
       "      <td>NaN</td>\n",
       "      <td>NaN</td>\n",
       "      <td>NaN</td>\n",
       "      <td>NaN</td>\n",
       "      <td>NaN</td>\n",
       "      <td>NaN</td>\n",
       "      <td>NaN</td>\n",
       "      <td>NaN</td>\n",
       "      <td>NaN</td>\n",
       "      <td>...</td>\n",
       "      <td>NaN</td>\n",
       "      <td>NaN</td>\n",
       "      <td>NaN</td>\n",
       "      <td>NaN</td>\n",
       "      <td>NaN</td>\n",
       "      <td>NaN</td>\n",
       "      <td>NaN</td>\n",
       "      <td>NaN</td>\n",
       "      <td>NaN</td>\n",
       "      <td>NaN</td>\n",
       "    </tr>\n",
       "    <tr>\n",
       "      <th>TG16</th>\n",
       "      <td>NaN</td>\n",
       "      <td>NaN</td>\n",
       "      <td>NaN</td>\n",
       "      <td>NaN</td>\n",
       "      <td>NaN</td>\n",
       "      <td>NaN</td>\n",
       "      <td>NaN</td>\n",
       "      <td>NaN</td>\n",
       "      <td>NaN</td>\n",
       "      <td>NaN</td>\n",
       "      <td>...</td>\n",
       "      <td>NaN</td>\n",
       "      <td>NaN</td>\n",
       "      <td>NaN</td>\n",
       "      <td>NaN</td>\n",
       "      <td>NaN</td>\n",
       "      <td>NaN</td>\n",
       "      <td>NaN</td>\n",
       "      <td>NaN</td>\n",
       "      <td>NaN</td>\n",
       "      <td>NaN</td>\n",
       "    </tr>\n",
       "    <tr>\n",
       "      <th>WS</th>\n",
       "      <td>NaN</td>\n",
       "      <td>NaN</td>\n",
       "      <td>NaN</td>\n",
       "      <td>NaN</td>\n",
       "      <td>NaN</td>\n",
       "      <td>NaN</td>\n",
       "      <td>NaN</td>\n",
       "      <td>NaN</td>\n",
       "      <td>NaN</td>\n",
       "      <td>NaN</td>\n",
       "      <td>...</td>\n",
       "      <td>NaN</td>\n",
       "      <td>NaN</td>\n",
       "      <td>NaN</td>\n",
       "      <td>NaN</td>\n",
       "      <td>NaN</td>\n",
       "      <td>NaN</td>\n",
       "      <td>NaN</td>\n",
       "      <td>NaN</td>\n",
       "      <td>NaN</td>\n",
       "      <td>NaN</td>\n",
       "    </tr>\n",
       "    <tr>\n",
       "      <th>Wii</th>\n",
       "      <td>NaN</td>\n",
       "      <td>NaN</td>\n",
       "      <td>NaN</td>\n",
       "      <td>NaN</td>\n",
       "      <td>NaN</td>\n",
       "      <td>NaN</td>\n",
       "      <td>NaN</td>\n",
       "      <td>NaN</td>\n",
       "      <td>NaN</td>\n",
       "      <td>NaN</td>\n",
       "      <td>...</td>\n",
       "      <td>185.0</td>\n",
       "      <td>282.0</td>\n",
       "      <td>325.0</td>\n",
       "      <td>253.0</td>\n",
       "      <td>143.0</td>\n",
       "      <td>31.0</td>\n",
       "      <td>12.0</td>\n",
       "      <td>6.0</td>\n",
       "      <td>4.0</td>\n",
       "      <td>1.0</td>\n",
       "    </tr>\n",
       "    <tr>\n",
       "      <th>WiiU</th>\n",
       "      <td>NaN</td>\n",
       "      <td>NaN</td>\n",
       "      <td>NaN</td>\n",
       "      <td>NaN</td>\n",
       "      <td>NaN</td>\n",
       "      <td>NaN</td>\n",
       "      <td>NaN</td>\n",
       "      <td>NaN</td>\n",
       "      <td>NaN</td>\n",
       "      <td>NaN</td>\n",
       "      <td>...</td>\n",
       "      <td>NaN</td>\n",
       "      <td>NaN</td>\n",
       "      <td>NaN</td>\n",
       "      <td>NaN</td>\n",
       "      <td>NaN</td>\n",
       "      <td>32.0</td>\n",
       "      <td>42.0</td>\n",
       "      <td>31.0</td>\n",
       "      <td>28.0</td>\n",
       "      <td>14.0</td>\n",
       "    </tr>\n",
       "    <tr>\n",
       "      <th>X360</th>\n",
       "      <td>NaN</td>\n",
       "      <td>NaN</td>\n",
       "      <td>NaN</td>\n",
       "      <td>NaN</td>\n",
       "      <td>NaN</td>\n",
       "      <td>NaN</td>\n",
       "      <td>NaN</td>\n",
       "      <td>NaN</td>\n",
       "      <td>NaN</td>\n",
       "      <td>NaN</td>\n",
       "      <td>...</td>\n",
       "      <td>123.0</td>\n",
       "      <td>146.0</td>\n",
       "      <td>172.0</td>\n",
       "      <td>182.0</td>\n",
       "      <td>206.0</td>\n",
       "      <td>106.0</td>\n",
       "      <td>75.0</td>\n",
       "      <td>63.0</td>\n",
       "      <td>35.0</td>\n",
       "      <td>13.0</td>\n",
       "    </tr>\n",
       "    <tr>\n",
       "      <th>XB</th>\n",
       "      <td>NaN</td>\n",
       "      <td>NaN</td>\n",
       "      <td>NaN</td>\n",
       "      <td>NaN</td>\n",
       "      <td>NaN</td>\n",
       "      <td>NaN</td>\n",
       "      <td>NaN</td>\n",
       "      <td>NaN</td>\n",
       "      <td>NaN</td>\n",
       "      <td>NaN</td>\n",
       "      <td>...</td>\n",
       "      <td>3.0</td>\n",
       "      <td>1.0</td>\n",
       "      <td>NaN</td>\n",
       "      <td>NaN</td>\n",
       "      <td>NaN</td>\n",
       "      <td>NaN</td>\n",
       "      <td>NaN</td>\n",
       "      <td>NaN</td>\n",
       "      <td>NaN</td>\n",
       "      <td>NaN</td>\n",
       "    </tr>\n",
       "    <tr>\n",
       "      <th>XOne</th>\n",
       "      <td>NaN</td>\n",
       "      <td>NaN</td>\n",
       "      <td>NaN</td>\n",
       "      <td>NaN</td>\n",
       "      <td>NaN</td>\n",
       "      <td>NaN</td>\n",
       "      <td>NaN</td>\n",
       "      <td>NaN</td>\n",
       "      <td>NaN</td>\n",
       "      <td>NaN</td>\n",
       "      <td>...</td>\n",
       "      <td>NaN</td>\n",
       "      <td>NaN</td>\n",
       "      <td>NaN</td>\n",
       "      <td>NaN</td>\n",
       "      <td>NaN</td>\n",
       "      <td>NaN</td>\n",
       "      <td>19.0</td>\n",
       "      <td>61.0</td>\n",
       "      <td>80.0</td>\n",
       "      <td>87.0</td>\n",
       "    </tr>\n",
       "  </tbody>\n",
       "</table>\n",
       "<p>31 rows × 37 columns</p>\n",
       "</div>"
      ],
      "text/plain": [
       "year_of_release  1980  1981  1982  1983  1984  1985  1986  1987  1988  1989  \\\n",
       "platform                                                                      \n",
       "2600              9.0  46.0  36.0  11.0   1.0   1.0   2.0   6.0   2.0   2.0   \n",
       "3DO               NaN   NaN   NaN   NaN   NaN   NaN   NaN   NaN   NaN   NaN   \n",
       "3DS               NaN   NaN   NaN   NaN   NaN   NaN   NaN   NaN   NaN   NaN   \n",
       "DC                NaN   NaN   NaN   NaN   NaN   NaN   NaN   NaN   NaN   NaN   \n",
       "DS                NaN   NaN   NaN   NaN   NaN   1.0   NaN   NaN   NaN   NaN   \n",
       "GB                NaN   NaN   NaN   NaN   NaN   NaN   NaN   NaN   1.0  10.0   \n",
       "GBA               NaN   NaN   NaN   NaN   NaN   NaN   NaN   NaN   NaN   NaN   \n",
       "GC                NaN   NaN   NaN   NaN   NaN   NaN   NaN   NaN   NaN   NaN   \n",
       "GEN               NaN   NaN   NaN   NaN   NaN   NaN   NaN   NaN   NaN   NaN   \n",
       "GG                NaN   NaN   NaN   NaN   NaN   NaN   NaN   NaN   NaN   NaN   \n",
       "N64               NaN   NaN   NaN   NaN   NaN   NaN   NaN   NaN   NaN   NaN   \n",
       "NES               NaN   NaN   NaN   6.0  13.0  11.0  19.0  10.0  11.0   5.0   \n",
       "NG                NaN   NaN   NaN   NaN   NaN   NaN   NaN   NaN   NaN   NaN   \n",
       "PC                NaN   NaN   NaN   NaN   NaN   1.0   NaN   NaN   1.0   NaN   \n",
       "PCFX              NaN   NaN   NaN   NaN   NaN   NaN   NaN   NaN   NaN   NaN   \n",
       "PS                NaN   NaN   NaN   NaN   NaN   NaN   NaN   NaN   NaN   NaN   \n",
       "PS2               NaN   NaN   NaN   NaN   NaN   NaN   NaN   NaN   NaN   NaN   \n",
       "PS3               NaN   NaN   NaN   NaN   NaN   NaN   NaN   NaN   NaN   NaN   \n",
       "PS4               NaN   NaN   NaN   NaN   NaN   NaN   NaN   NaN   NaN   NaN   \n",
       "PSP               NaN   NaN   NaN   NaN   NaN   NaN   NaN   NaN   NaN   NaN   \n",
       "PSV               NaN   NaN   NaN   NaN   NaN   NaN   NaN   NaN   NaN   NaN   \n",
       "SAT               NaN   NaN   NaN   NaN   NaN   NaN   NaN   NaN   NaN   NaN   \n",
       "SCD               NaN   NaN   NaN   NaN   NaN   NaN   NaN   NaN   NaN   NaN   \n",
       "SNES              NaN   NaN   NaN   NaN   NaN   NaN   NaN   NaN   NaN   NaN   \n",
       "TG16              NaN   NaN   NaN   NaN   NaN   NaN   NaN   NaN   NaN   NaN   \n",
       "WS                NaN   NaN   NaN   NaN   NaN   NaN   NaN   NaN   NaN   NaN   \n",
       "Wii               NaN   NaN   NaN   NaN   NaN   NaN   NaN   NaN   NaN   NaN   \n",
       "WiiU              NaN   NaN   NaN   NaN   NaN   NaN   NaN   NaN   NaN   NaN   \n",
       "X360              NaN   NaN   NaN   NaN   NaN   NaN   NaN   NaN   NaN   NaN   \n",
       "XB                NaN   NaN   NaN   NaN   NaN   NaN   NaN   NaN   NaN   NaN   \n",
       "XOne              NaN   NaN   NaN   NaN   NaN   NaN   NaN   NaN   NaN   NaN   \n",
       "\n",
       "year_of_release  ...   2007   2008   2009   2010   2011   2012   2013   2014  \\\n",
       "platform         ...                                                           \n",
       "2600             ...    NaN    NaN    NaN    NaN    NaN    NaN    NaN    NaN   \n",
       "3DO              ...    NaN    NaN    NaN    NaN    NaN    NaN    NaN    NaN   \n",
       "3DS              ...    NaN    NaN    NaN    NaN  116.0   93.0   91.0   80.0   \n",
       "DC               ...    1.0    1.0    NaN    NaN    NaN    NaN    NaN    NaN   \n",
       "DS               ...  376.0  492.0  403.0  323.0  153.0   23.0    8.0    NaN   \n",
       "GB               ...    NaN    NaN    NaN    NaN    NaN    NaN    NaN    NaN   \n",
       "GBA              ...    6.0    NaN    NaN    NaN    NaN    NaN    NaN    NaN   \n",
       "GC               ...    4.0    NaN    NaN    NaN    NaN    NaN    NaN    NaN   \n",
       "GEN              ...    NaN    NaN    NaN    NaN    NaN    NaN    NaN    NaN   \n",
       "GG               ...    NaN    NaN    NaN    NaN    NaN    NaN    NaN    NaN   \n",
       "N64              ...    NaN    NaN    NaN    NaN    NaN    NaN    NaN    NaN   \n",
       "NES              ...    NaN    NaN    NaN    NaN    NaN    NaN    NaN    NaN   \n",
       "NG               ...    NaN    NaN    NaN    NaN    NaN    NaN    NaN    NaN   \n",
       "PC               ...   62.0   76.0  107.0   90.0  139.0   61.0   38.0   47.0   \n",
       "PCFX             ...    NaN    NaN    NaN    NaN    NaN    NaN    NaN    NaN   \n",
       "PS               ...    NaN    NaN    NaN    NaN    NaN    NaN    NaN    NaN   \n",
       "PS2              ...  214.0  191.0   96.0   38.0    7.0    NaN    NaN    NaN   \n",
       "PS3              ...   90.0  138.0  162.0  181.0  215.0  148.0  126.0  108.0   \n",
       "PS4              ...    NaN    NaN    NaN    NaN    NaN    NaN   16.0   75.0   \n",
       "PSP              ...  133.0  100.0  161.0  188.0  139.0  106.0   54.0   10.0   \n",
       "PSV              ...    NaN    NaN    NaN    NaN   18.0   53.0   63.0  100.0   \n",
       "SAT              ...    NaN    NaN    NaN    NaN    NaN    NaN    NaN    NaN   \n",
       "SCD              ...    NaN    NaN    NaN    NaN    NaN    NaN    NaN    NaN   \n",
       "SNES             ...    NaN    NaN    NaN    NaN    NaN    NaN    NaN    NaN   \n",
       "TG16             ...    NaN    NaN    NaN    NaN    NaN    NaN    NaN    NaN   \n",
       "WS               ...    NaN    NaN    NaN    NaN    NaN    NaN    NaN    NaN   \n",
       "Wii              ...  185.0  282.0  325.0  253.0  143.0   31.0   12.0    6.0   \n",
       "WiiU             ...    NaN    NaN    NaN    NaN    NaN   32.0   42.0   31.0   \n",
       "X360             ...  123.0  146.0  172.0  182.0  206.0  106.0   75.0   63.0   \n",
       "XB               ...    3.0    1.0    NaN    NaN    NaN    NaN    NaN    NaN   \n",
       "XOne             ...    NaN    NaN    NaN    NaN    NaN    NaN   19.0   61.0   \n",
       "\n",
       "year_of_release   2015   2016  \n",
       "platform                       \n",
       "2600               NaN    NaN  \n",
       "3DO                NaN    NaN  \n",
       "3DS               86.0   46.0  \n",
       "DC                 NaN    NaN  \n",
       "DS                 NaN    NaN  \n",
       "GB                 NaN    NaN  \n",
       "GBA                NaN    NaN  \n",
       "GC                 NaN    NaN  \n",
       "GEN                NaN    NaN  \n",
       "GG                 NaN    NaN  \n",
       "N64                NaN    NaN  \n",
       "NES                NaN    NaN  \n",
       "NG                 NaN    NaN  \n",
       "PC                50.0   54.0  \n",
       "PCFX               NaN    NaN  \n",
       "PS                 NaN    NaN  \n",
       "PS2                NaN    NaN  \n",
       "PS3               73.0   38.0  \n",
       "PS4              137.0  164.0  \n",
       "PSP                3.0    NaN  \n",
       "PSV              110.0   85.0  \n",
       "SAT                NaN    NaN  \n",
       "SCD                NaN    NaN  \n",
       "SNES               NaN    NaN  \n",
       "TG16               NaN    NaN  \n",
       "WS                 NaN    NaN  \n",
       "Wii                4.0    1.0  \n",
       "WiiU              28.0   14.0  \n",
       "X360              35.0   13.0  \n",
       "XB                 NaN    NaN  \n",
       "XOne              80.0   87.0  \n",
       "\n",
       "[31 rows x 37 columns]"
      ]
     },
     "metadata": {},
     "output_type": "display_data"
    }
   ],
   "source": [
    "plat = data.pivot_table(index = 'platform',columns = 'year_of_release',values = 'sales', aggfunc='count')\n",
    "display(plat)"
   ]
  },
  {
   "cell_type": "code",
   "execution_count": 32,
   "metadata": {},
   "outputs": [
    {
     "data": {
      "image/png": "[encoded data removed]",
      "text/plain": [
       "<Figure size 720x720 with 2 Axes>"
      ]
     },
     "metadata": {
      "needs_background": "light"
     },
     "output_type": "display_data"
    }
   ],
   "source": [
    "plt.figure(figsize=(10, 10))\n",
    "sns.heatmap(plat)\n",
    "plt.show()"
   ]
  },
  {
   "cell_type": "markdown",
   "metadata": {},
   "source": [
    "По тепловой карте видно, как одна плаформа сменяла другую, процесс не стоит на месте. Примерно за 5 лет полностью меняется платформа(новая сменяет старую). При выходе новой PS старая все меньше и меньше продавалась, PC платформа до сих пор остается так или иначе актуальной, в наши дни наравне с остальными актуальными приставками"
   ]
  },
  {
   "cell_type": "code",
   "execution_count": 33,
   "metadata": {},
   "outputs": [],
   "source": [
    "plat1 = data.pivot_table(index='platform', values='sales', aggfunc='sum').sort_values(by='sales', ascending=False)\n"
   ]
  },
  {
   "cell_type": "code",
   "execution_count": 34,
   "metadata": {},
   "outputs": [
    {
     "data": {
      "image/png": "[encoded data removed]",
      "text/plain": [
       "<Figure size 720x720 with 1 Axes>"
      ]
     },
     "metadata": {
      "needs_background": "light"
     },
     "output_type": "display_data"
    }
   ],
   "source": [
    "plat1.plot(kind='bar',figsize=(10, 10))\n",
    "plt.title('Суммарные продажи по платформам')\n",
    "plt.ylabel('Выручка')\n",
    "plt.show()"
   ]
  },
  {
   "cell_type": "markdown",
   "metadata": {},
   "source": [
    "Из графика мы видим, что самая большая выручка у 6 платформ: PS2, X360, PS3, Wii,DS, PS."
   ]
  },
  {
   "cell_type": "code",
   "execution_count": 35,
   "metadata": {},
   "outputs": [
    {
     "name": "stdout",
     "output_type": "stream",
     "text": [
      "['PS2', 'X360', 'PS3', 'Wii', 'DS', 'PS']\n"
     ]
    }
   ],
   "source": [
    "top_list = plat1.index[:6].tolist()\n",
    "print(top_list)"
   ]
  },
  {
   "cell_type": "code",
   "execution_count": 36,
   "metadata": {},
   "outputs": [],
   "source": [
    "top_plat=plat.query('platform in @top_list')"
   ]
  },
  {
   "cell_type": "code",
   "execution_count": 37,
   "metadata": {},
   "outputs": [
    {
     "data": {
      "image/png": "[encoded data removed]",
      "text/plain": [
       "<Figure size 720x720 with 2 Axes>"
      ]
     },
     "metadata": {
      "needs_background": "light"
     },
     "output_type": "display_data"
    }
   ],
   "source": [
    "plt.figure(figsize=(10, 10))\n",
    "sns.heatmap(top_plat)\n",
    "plt.show()"
   ]
  },
  {
   "cell_type": "markdown",
   "metadata": {},
   "source": [
    "Распределение по годам 6 самых продаваемых платформ. Средний срок использования приставок около 10 лет. На пике продаж одной платформы (в среднем 5 лет, половина от срока использования) появляется новая."
   ]
  },
  {
   "cell_type": "markdown",
   "metadata": {},
   "source": [
    "               Возьмите данные за соответствующий актуальный период. Актуальный период определите самостоятельно в результате исследования предыдущих вопросов. Основной фактор — эти данные помогут построить прогноз на 2017 год."
   ]
  },
  {
   "cell_type": "code",
   "execution_count": 38,
   "metadata": {},
   "outputs": [],
   "source": [
    "actual_list = data.query('year_of_release > 2012')"
   ]
  },
  {
   "cell_type": "markdown",
   "metadata": {},
   "source": [
    "Делаем срез платформ за актуальный период - в пределах 4 лет."
   ]
  },
  {
   "cell_type": "code",
   "execution_count": 39,
   "metadata": {},
   "outputs": [
    {
     "data": {
      "image/png": "[encoded data removed]",
      "text/plain": [
       "<Figure size 432x288 with 1 Axes>"
      ]
     },
     "metadata": {
      "needs_background": "light"
     },
     "output_type": "display_data"
    }
   ],
   "source": [
    "tsale= actual_list.pivot_table(index='platform', values='sales', aggfunc=('sum')).sort_values(by='sales',ascending=False)\n",
    "tsale.plot(\n",
    "    kind='bar', title='Продажи по разным платформам с 2012 года',\n",
    "    ylabel='Объем продаж'\n",
    ")\n",
    "plt.show()"
   ]
  },
  {
   "cell_type": "code",
   "execution_count": 40,
   "metadata": {},
   "outputs": [
    {
     "name": "stdout",
     "output_type": "stream",
     "text": [
      "['PS4', 'PS3', 'XOne', '3DS', 'X360']\n"
     ]
    }
   ],
   "source": [
    "list_platform = tsale.index[:5].tolist()\n",
    "print(list_platform)"
   ]
  },
  {
   "cell_type": "code",
   "execution_count": 41,
   "metadata": {},
   "outputs": [
    {
     "data": {
      "text/html": [
       "<div>\n",
       "<style scoped>\n",
       "    .dataframe tbody tr th:only-of-type {\n",
       "        vertical-align: middle;\n",
       "    }\n",
       "\n",
       "    .dataframe tbody tr th {\n",
       "        vertical-align: top;\n",
       "    }\n",
       "\n",
       "    .dataframe thead th {\n",
       "        text-align: right;\n",
       "    }\n",
       "</style>\n",
       "<table border=\"1\" class=\"dataframe\">\n",
       "  <thead>\n",
       "    <tr style=\"text-align: right;\">\n",
       "      <th>year_of_release</th>\n",
       "      <th>2013</th>\n",
       "      <th>2014</th>\n",
       "      <th>2015</th>\n",
       "      <th>2016</th>\n",
       "    </tr>\n",
       "    <tr>\n",
       "      <th>platform</th>\n",
       "      <th></th>\n",
       "      <th></th>\n",
       "      <th></th>\n",
       "      <th></th>\n",
       "    </tr>\n",
       "  </thead>\n",
       "  <tbody>\n",
       "    <tr>\n",
       "      <th>3DS</th>\n",
       "      <td>91.0</td>\n",
       "      <td>80.0</td>\n",
       "      <td>86.0</td>\n",
       "      <td>46.0</td>\n",
       "    </tr>\n",
       "    <tr>\n",
       "      <th>DS</th>\n",
       "      <td>8.0</td>\n",
       "      <td>NaN</td>\n",
       "      <td>NaN</td>\n",
       "      <td>NaN</td>\n",
       "    </tr>\n",
       "    <tr>\n",
       "      <th>PC</th>\n",
       "      <td>38.0</td>\n",
       "      <td>47.0</td>\n",
       "      <td>50.0</td>\n",
       "      <td>54.0</td>\n",
       "    </tr>\n",
       "    <tr>\n",
       "      <th>PS3</th>\n",
       "      <td>126.0</td>\n",
       "      <td>108.0</td>\n",
       "      <td>73.0</td>\n",
       "      <td>38.0</td>\n",
       "    </tr>\n",
       "    <tr>\n",
       "      <th>PS4</th>\n",
       "      <td>16.0</td>\n",
       "      <td>75.0</td>\n",
       "      <td>137.0</td>\n",
       "      <td>164.0</td>\n",
       "    </tr>\n",
       "    <tr>\n",
       "      <th>PSP</th>\n",
       "      <td>54.0</td>\n",
       "      <td>10.0</td>\n",
       "      <td>3.0</td>\n",
       "      <td>NaN</td>\n",
       "    </tr>\n",
       "    <tr>\n",
       "      <th>PSV</th>\n",
       "      <td>63.0</td>\n",
       "      <td>100.0</td>\n",
       "      <td>110.0</td>\n",
       "      <td>85.0</td>\n",
       "    </tr>\n",
       "    <tr>\n",
       "      <th>Wii</th>\n",
       "      <td>12.0</td>\n",
       "      <td>6.0</td>\n",
       "      <td>4.0</td>\n",
       "      <td>1.0</td>\n",
       "    </tr>\n",
       "    <tr>\n",
       "      <th>WiiU</th>\n",
       "      <td>42.0</td>\n",
       "      <td>31.0</td>\n",
       "      <td>28.0</td>\n",
       "      <td>14.0</td>\n",
       "    </tr>\n",
       "    <tr>\n",
       "      <th>X360</th>\n",
       "      <td>75.0</td>\n",
       "      <td>63.0</td>\n",
       "      <td>35.0</td>\n",
       "      <td>13.0</td>\n",
       "    </tr>\n",
       "    <tr>\n",
       "      <th>XOne</th>\n",
       "      <td>19.0</td>\n",
       "      <td>61.0</td>\n",
       "      <td>80.0</td>\n",
       "      <td>87.0</td>\n",
       "    </tr>\n",
       "  </tbody>\n",
       "</table>\n",
       "</div>"
      ],
      "text/plain": [
       "year_of_release   2013   2014   2015   2016\n",
       "platform                                   \n",
       "3DS               91.0   80.0   86.0   46.0\n",
       "DS                 8.0    NaN    NaN    NaN\n",
       "PC                38.0   47.0   50.0   54.0\n",
       "PS3              126.0  108.0   73.0   38.0\n",
       "PS4               16.0   75.0  137.0  164.0\n",
       "PSP               54.0   10.0    3.0    NaN\n",
       "PSV               63.0  100.0  110.0   85.0\n",
       "Wii               12.0    6.0    4.0    1.0\n",
       "WiiU              42.0   31.0   28.0   14.0\n",
       "X360              75.0   63.0   35.0   13.0\n",
       "XOne              19.0   61.0   80.0   87.0"
      ]
     },
     "metadata": {},
     "output_type": "display_data"
    }
   ],
   "source": [
    "plat2 = actual_list.pivot_table(index = 'platform',columns = 'year_of_release',values = 'sales', aggfunc='count')\n",
    "display(plat2)"
   ]
  },
  {
   "cell_type": "code",
   "execution_count": 42,
   "metadata": {},
   "outputs": [],
   "source": [
    "top_platform=plat2.query('platform in @list_platform')"
   ]
  },
  {
   "cell_type": "code",
   "execution_count": 43,
   "metadata": {},
   "outputs": [
    {
     "data": {
      "image/png": "[encoded data removed]",
      "text/plain": [
       "<Figure size 648x648 with 2 Axes>"
      ]
     },
     "metadata": {
      "needs_background": "light"
     },
     "output_type": "display_data"
    }
   ],
   "source": [
    "plt.figure(figsize=(9, 9))\n",
    "sns.heatmap(top_platform)\n",
    "plt.show()"
   ]
  },
  {
   "cell_type": "markdown",
   "metadata": {},
   "source": [
    "Актуальной платформой, исходя и графика, является PS4, через пару лет, можно предположить будет выход новой платформы, продажи PS3, X360, 3DS с каждым годом снижаются."
   ]
  },
  {
   "cell_type": "markdown",
   "metadata": {},
   "source": [
    "           Постройте график «ящик с усами» по глобальным продажам игр в разбивке по платформам. Опишите результат."
   ]
  },
  {
   "cell_type": "code",
   "execution_count": 44,
   "metadata": {},
   "outputs": [],
   "source": [
    "actual_list1 = data.query('platform in @list_platform and year_of_release > 2012')"
   ]
  },
  {
   "cell_type": "code",
   "execution_count": 45,
   "metadata": {},
   "outputs": [
    {
     "data": {
      "text/html": [
       "<div>\n",
       "<style scoped>\n",
       "    .dataframe tbody tr th:only-of-type {\n",
       "        vertical-align: middle;\n",
       "    }\n",
       "\n",
       "    .dataframe tbody tr th {\n",
       "        vertical-align: top;\n",
       "    }\n",
       "\n",
       "    .dataframe thead th {\n",
       "        text-align: right;\n",
       "    }\n",
       "</style>\n",
       "<table border=\"1\" class=\"dataframe\">\n",
       "  <thead>\n",
       "    <tr style=\"text-align: right;\">\n",
       "      <th></th>\n",
       "      <th>name</th>\n",
       "      <th>platform</th>\n",
       "      <th>year_of_release</th>\n",
       "      <th>genre</th>\n",
       "      <th>na_sales</th>\n",
       "      <th>eu_sales</th>\n",
       "      <th>jp_sales</th>\n",
       "      <th>other_sales</th>\n",
       "      <th>critic_score</th>\n",
       "      <th>user_score</th>\n",
       "      <th>rating</th>\n",
       "      <th>sales</th>\n",
       "    </tr>\n",
       "  </thead>\n",
       "  <tbody>\n",
       "    <tr>\n",
       "      <th>13110</th>\n",
       "      <td>Utawarerumono: Futari no Hakuoro</td>\n",
       "      <td>PS4</td>\n",
       "      <td>2016</td>\n",
       "      <td>Misc</td>\n",
       "      <td>0.00</td>\n",
       "      <td>0.00</td>\n",
       "      <td>0.05</td>\n",
       "      <td>0.00</td>\n",
       "      <td>NaN</td>\n",
       "      <td>NaN</td>\n",
       "      <td>-1</td>\n",
       "      <td>0.05</td>\n",
       "    </tr>\n",
       "    <tr>\n",
       "      <th>5166</th>\n",
       "      <td>NHL 15</td>\n",
       "      <td>PS3</td>\n",
       "      <td>2014</td>\n",
       "      <td>Sports</td>\n",
       "      <td>0.21</td>\n",
       "      <td>0.09</td>\n",
       "      <td>0.00</td>\n",
       "      <td>0.06</td>\n",
       "      <td>NaN</td>\n",
       "      <td>1.6</td>\n",
       "      <td>E10+</td>\n",
       "      <td>0.36</td>\n",
       "    </tr>\n",
       "    <tr>\n",
       "      <th>14304</th>\n",
       "      <td>Dragon's Dogma Online</td>\n",
       "      <td>PS3</td>\n",
       "      <td>2015</td>\n",
       "      <td>Role-Playing</td>\n",
       "      <td>0.00</td>\n",
       "      <td>0.00</td>\n",
       "      <td>0.03</td>\n",
       "      <td>0.00</td>\n",
       "      <td>NaN</td>\n",
       "      <td>NaN</td>\n",
       "      <td>-1</td>\n",
       "      <td>0.03</td>\n",
       "    </tr>\n",
       "    <tr>\n",
       "      <th>12766</th>\n",
       "      <td>Rugby World Cup 2015</td>\n",
       "      <td>PS3</td>\n",
       "      <td>2015</td>\n",
       "      <td>Sports</td>\n",
       "      <td>0.00</td>\n",
       "      <td>0.05</td>\n",
       "      <td>0.00</td>\n",
       "      <td>0.01</td>\n",
       "      <td>NaN</td>\n",
       "      <td>NaN</td>\n",
       "      <td>E</td>\n",
       "      <td>0.06</td>\n",
       "    </tr>\n",
       "    <tr>\n",
       "      <th>8030</th>\n",
       "      <td>Metal Gear Solid V: The Phantom Pain</td>\n",
       "      <td>X360</td>\n",
       "      <td>2015</td>\n",
       "      <td>Action</td>\n",
       "      <td>0.12</td>\n",
       "      <td>0.04</td>\n",
       "      <td>0.00</td>\n",
       "      <td>0.02</td>\n",
       "      <td>NaN</td>\n",
       "      <td>7.2</td>\n",
       "      <td>M</td>\n",
       "      <td>0.18</td>\n",
       "    </tr>\n",
       "    <tr>\n",
       "      <th>10862</th>\n",
       "      <td>Disney Planes Fire &amp; Rescue</td>\n",
       "      <td>3DS</td>\n",
       "      <td>2014</td>\n",
       "      <td>Action</td>\n",
       "      <td>0.01</td>\n",
       "      <td>0.08</td>\n",
       "      <td>0.00</td>\n",
       "      <td>0.01</td>\n",
       "      <td>NaN</td>\n",
       "      <td>NaN</td>\n",
       "      <td>-1</td>\n",
       "      <td>0.10</td>\n",
       "    </tr>\n",
       "    <tr>\n",
       "      <th>2611</th>\n",
       "      <td>Forza Horizon 2</td>\n",
       "      <td>X360</td>\n",
       "      <td>2014</td>\n",
       "      <td>Racing</td>\n",
       "      <td>0.35</td>\n",
       "      <td>0.37</td>\n",
       "      <td>0.00</td>\n",
       "      <td>0.06</td>\n",
       "      <td>NaN</td>\n",
       "      <td>5.1</td>\n",
       "      <td>E10+</td>\n",
       "      <td>0.78</td>\n",
       "    </tr>\n",
       "    <tr>\n",
       "      <th>14845</th>\n",
       "      <td>Nekketsu Kouha Kunio-Kun SP: Rantou Kyousoukyoku</td>\n",
       "      <td>3DS</td>\n",
       "      <td>2013</td>\n",
       "      <td>Fighting</td>\n",
       "      <td>0.00</td>\n",
       "      <td>0.00</td>\n",
       "      <td>0.03</td>\n",
       "      <td>0.00</td>\n",
       "      <td>NaN</td>\n",
       "      <td>NaN</td>\n",
       "      <td>-1</td>\n",
       "      <td>0.03</td>\n",
       "    </tr>\n",
       "    <tr>\n",
       "      <th>11665</th>\n",
       "      <td>Adventure Time: Finn &amp; Jake Investigations</td>\n",
       "      <td>X360</td>\n",
       "      <td>2015</td>\n",
       "      <td>Action</td>\n",
       "      <td>0.03</td>\n",
       "      <td>0.05</td>\n",
       "      <td>0.00</td>\n",
       "      <td>0.01</td>\n",
       "      <td>NaN</td>\n",
       "      <td>NaN</td>\n",
       "      <td>-1</td>\n",
       "      <td>0.09</td>\n",
       "    </tr>\n",
       "    <tr>\n",
       "      <th>5926</th>\n",
       "      <td>Lego Star Wars: The Force Awakens</td>\n",
       "      <td>XOne</td>\n",
       "      <td>2016</td>\n",
       "      <td>Action</td>\n",
       "      <td>0.14</td>\n",
       "      <td>0.13</td>\n",
       "      <td>0.00</td>\n",
       "      <td>0.02</td>\n",
       "      <td>76.0</td>\n",
       "      <td>7.0</td>\n",
       "      <td>E10+</td>\n",
       "      <td>0.29</td>\n",
       "    </tr>\n",
       "  </tbody>\n",
       "</table>\n",
       "</div>"
      ],
      "text/plain": [
       "                                                   name platform  \\\n",
       "13110                  Utawarerumono: Futari no Hakuoro      PS4   \n",
       "5166                                             NHL 15      PS3   \n",
       "14304                             Dragon's Dogma Online      PS3   \n",
       "12766                              Rugby World Cup 2015      PS3   \n",
       "8030               Metal Gear Solid V: The Phantom Pain     X360   \n",
       "10862                       Disney Planes Fire & Rescue      3DS   \n",
       "2611                                    Forza Horizon 2     X360   \n",
       "14845  Nekketsu Kouha Kunio-Kun SP: Rantou Kyousoukyoku      3DS   \n",
       "11665        Adventure Time: Finn & Jake Investigations     X360   \n",
       "5926                  Lego Star Wars: The Force Awakens     XOne   \n",
       "\n",
       "       year_of_release         genre  na_sales  eu_sales  jp_sales  \\\n",
       "13110             2016          Misc      0.00      0.00      0.05   \n",
       "5166              2014        Sports      0.21      0.09      0.00   \n",
       "14304             2015  Role-Playing      0.00      0.00      0.03   \n",
       "12766             2015        Sports      0.00      0.05      0.00   \n",
       "8030              2015        Action      0.12      0.04      0.00   \n",
       "10862             2014        Action      0.01      0.08      0.00   \n",
       "2611              2014        Racing      0.35      0.37      0.00   \n",
       "14845             2013      Fighting      0.00      0.00      0.03   \n",
       "11665             2015        Action      0.03      0.05      0.00   \n",
       "5926              2016        Action      0.14      0.13      0.00   \n",
       "\n",
       "       other_sales  critic_score  user_score rating  sales  \n",
       "13110         0.00           NaN         NaN     -1   0.05  \n",
       "5166          0.06           NaN         1.6   E10+   0.36  \n",
       "14304         0.00           NaN         NaN     -1   0.03  \n",
       "12766         0.01           NaN         NaN      E   0.06  \n",
       "8030          0.02           NaN         7.2      M   0.18  \n",
       "10862         0.01           NaN         NaN     -1   0.10  \n",
       "2611          0.06           NaN         5.1   E10+   0.78  \n",
       "14845         0.00           NaN         NaN     -1   0.03  \n",
       "11665         0.01           NaN         NaN     -1   0.09  \n",
       "5926          0.02          76.0         7.0   E10+   0.29  "
      ]
     },
     "execution_count": 45,
     "metadata": {},
     "output_type": "execute_result"
    }
   ],
   "source": [
    "actual_list1.sample(10)"
   ]
  },
  {
   "cell_type": "code",
   "execution_count": 46,
   "metadata": {},
   "outputs": [
    {
     "data": {
      "image/png": "[encoded data removed]",
      "text/plain": [
       "<Figure size 720x720 with 1 Axes>"
      ]
     },
     "metadata": {
      "needs_background": "light"
     },
     "output_type": "display_data"
    }
   ],
   "source": [
    "plt.figure(figsize=(10, 10))\n",
    "plt.ylim(0, 2)\n",
    "sns.boxplot(x='platform', y='sales', data=actual_list1)\n",
    "plt.show()"
   ]
  },
  {
   "cell_type": "code",
   "execution_count": 47,
   "metadata": {},
   "outputs": [
    {
     "data": {
      "image/png": "[encoded data removed]",
      "text/plain": [
       "<Figure size 720x720 with 1 Axes>"
      ]
     },
     "metadata": {
      "needs_background": "light"
     },
     "output_type": "display_data"
    }
   ],
   "source": [
    "plt.figure(figsize=(10, 10))\n",
    "plt.ylim(0, 0.85)\n",
    "sns.boxplot(x='platform', y='sales', data=actual_list1)\n",
    "plt.show()"
   ]
  },
  {
   "cell_type": "markdown",
   "metadata": {},
   "source": [
    "Глобальные продажи по 5 топовым платформам. Лидирует по продажам Х360, у 3DS самы низкие продажи, 3 квартиль лежит у нее ниже всех остальных игр. У всех платформ распределение скошено вправо, и медиана (второй квартиль ниже среднего)"
   ]
  },
  {
   "cell_type": "markdown",
   "metadata": {},
   "source": [
    "         Посмотрите, как влияют на продажи внутри одной популярной платформы отзывы пользователей и критиков. Постройте диаграмму рассеяния и посчитайте корреляцию между отзывами и продажами. Сформулируйте выводы."
   ]
  },
  {
   "cell_type": "code",
   "execution_count": 48,
   "metadata": {},
   "outputs": [
    {
     "data": {
      "image/png": "[encoded data removed]",
      "text/plain": [
       "<Figure size 720x360 with 1 Axes>"
      ]
     },
     "metadata": {
      "needs_background": "light"
     },
     "output_type": "display_data"
    }
   ],
   "source": [
    "actual_list.query('platform==\"PS4\" and sales < 2').sort_values(\n",
    "    by='critic_score',\n",
    "    ascending=True\n",
    ").plot(\n",
    "    kind='scatter',\n",
    "    \n",
    "    x='critic_score',\n",
    "    y='sales',figsize=(10,5),title='Диаграмма рассеяния зависимости продаж платформы  PS4 от отзывов критиков'\n",
    ")\n",
    "plt.show()\n"
   ]
  },
  {
   "cell_type": "code",
   "execution_count": 49,
   "metadata": {},
   "outputs": [
    {
     "name": "stdout",
     "output_type": "stream",
     "text": [
      "0.40656790206178095\n"
     ]
    }
   ],
   "source": [
    "data_ps4 = actual_list[actual_list['platform'] == 'PS4']\n",
    "data_ps4_cor = data_ps4['critic_score'].corr(actual_list['sales'])\n",
    "print(data_ps4_cor)"
   ]
  },
  {
   "cell_type": "code",
   "execution_count": 50,
   "metadata": {},
   "outputs": [
    {
     "data": {
      "image/png": "[encoded data removed]",
      "text/plain": [
       "<Figure size 720x360 with 1 Axes>"
      ]
     },
     "metadata": {
      "needs_background": "light"
     },
     "output_type": "display_data"
    }
   ],
   "source": [
    "actual_list.query('platform==\"PS4\" and sales < 2').sort_values(\n",
    "    by='user_score',\n",
    "    ascending=True\n",
    ").plot(\n",
    "    kind='scatter',\n",
    "    \n",
    "    x='critic_score',\n",
    "    y='sales',figsize=(10,5),title='Диаграмма рассеяния зависимости продаж платформы  PS4 от отзывов пользователей'\n",
    ")\n",
    "plt.show()"
   ]
  },
  {
   "cell_type": "code",
   "execution_count": 51,
   "metadata": {},
   "outputs": [
    {
     "name": "stdout",
     "output_type": "stream",
     "text": [
      "-0.031957110204556376\n"
     ]
    }
   ],
   "source": [
    "\n",
    "data1_ps4_cor = data_ps4['user_score'].corr(actual_list['sales'])\n",
    "print(data1_ps4_cor)"
   ]
  },
  {
   "cell_type": "markdown",
   "metadata": {},
   "source": [
    "Зависимость продаж от отзывов критиков положительная, но не сильная. Зависимость продаж от отзывов игроков слабая и отрицательная. \n",
    "\n",
    "Оценки критиков демонстрируют прямую, но не очень сильную корреляцию с продажами. Оценки игроков корреляцию с продажами не имеют. "
   ]
  },
  {
   "cell_type": "markdown",
   "metadata": {},
   "source": [
    "       Соотнесите выводы с продажами игр на других платформах."
   ]
  },
  {
   "cell_type": "code",
   "execution_count": 52,
   "metadata": {},
   "outputs": [
    {
     "name": "stdout",
     "output_type": "stream",
     "text": [
      "0.3342853393371919\n",
      "0.0023944027357566925\n"
     ]
    }
   ],
   "source": [
    "data_ps3 = actual_list[actual_list['platform'] == 'PS3']\n",
    "data_ps3_cor = data_ps3['critic_score'].corr(actual_list['sales'])\n",
    "data1_ps3_cor = data_ps3['user_score'].corr(actual_list['sales'])\n",
    "\n",
    "\n",
    "print(data_ps3_cor)\n",
    "print(data1_ps3_cor)"
   ]
  },
  {
   "cell_type": "code",
   "execution_count": 53,
   "metadata": {},
   "outputs": [
    {
     "name": "stdout",
     "output_type": "stream",
     "text": [
      "0.4169983280084017\n",
      "-0.06892505328279414\n"
     ]
    }
   ],
   "source": [
    "data_xone = actual_list[actual_list['platform'] == 'XOne']\n",
    "data_xone_cor = data_xone['critic_score'].corr(actual_list['sales'])\n",
    "data1_xone_cor = data_xone['user_score'].corr(actual_list['sales'])\n",
    "\n",
    "\n",
    "print(data_xone_cor)\n",
    "print(data1_xone_cor)"
   ]
  },
  {
   "cell_type": "markdown",
   "metadata": {},
   "source": [
    "<div style=\"background: #B0E0E6; padding: 5px; border: 1px solid SteelBlue; border-radius: 5px;\">\n",
    "    <font color='4682B4'>По двум другим платформам ситуация аналогичная платформе PS4, оценка критиков имеет положительную и средне_слабую корреляцию с продажами, а оценка пользователей корреляции с продажами не имеет.<u><b></b></u></font>\n",
    "    <br />\n",
    "    <font color='4682B4'></font>\n",
    "</div>"
   ]
  },
  {
   "cell_type": "markdown",
   "metadata": {},
   "source": [
    "     Посмотрите на общее распределение игр по жанрам. Что можно сказать о самых прибыльных жанрах? Выделяются ли жанры с высокими и низкими продажами?"
   ]
  },
  {
   "cell_type": "code",
   "execution_count": 54,
   "metadata": {},
   "outputs": [
    {
     "data": {
      "image/png": "[encoded data removed]",
      "text/plain": [
       "<Figure size 1080x648 with 1 Axes>"
      ]
     },
     "metadata": {
      "needs_background": "light"
     },
     "output_type": "display_data"
    }
   ],
   "source": [
    "genre_list = actual_list.pivot_table(\n",
    "    index = 'genre', \n",
    "    values = 'sales', \n",
    "    aggfunc='count').sort_values(\n",
    "    by= 'sales',\n",
    "    ascending=False\n",
    ")\n",
    "genre_list.plot(kind='bar',\n",
    "                grid= True, \n",
    "                figsize = (15, 9), \n",
    "                title = 'Распределение жанров от кол-ва продаж'\n",
    "               )\n",
    "plt.show()"
   ]
  },
  {
   "cell_type": "markdown",
   "metadata": {},
   "source": [
    "Самым популярным жанром является Экшн, меньше всего продаж у игр в жанре пазл и стратегия. Продажи жанра экшн в 6 раз больше, чем пазл."
   ]
  },
  {
   "cell_type": "code",
   "execution_count": 55,
   "metadata": {},
   "outputs": [
    {
     "data": {
      "image/png": "[encoded data removed]",
      "text/plain": [
       "<Figure size 1080x648 with 1 Axes>"
      ]
     },
     "metadata": {
      "needs_background": "light"
     },
     "output_type": "display_data"
    }
   ],
   "source": [
    "genre_list1 = actual_list.pivot_table(\n",
    "    index = 'genre', \n",
    "    values = 'sales', \n",
    "    aggfunc='median').sort_values(\n",
    "    by= 'sales',\n",
    "    ascending=False\n",
    ")\n",
    "\n",
    "genre_list1.plot(\n",
    "    kind='bar', \n",
    "    grid= True,\n",
    "    figsize = (15, 9), \n",
    "    title = 'Распределение жанров от медианных продаж'\n",
    ")\n",
    "plt.show()"
   ]
  },
  {
   "cell_type": "markdown",
   "metadata": {},
   "source": [
    "Больше всего выручка также у жанра shooter, потом у sport, меньше всего у adventure."
   ]
  },
  {
   "cell_type": "markdown",
   "metadata": {},
   "source": [
    "     Шаг 4. Составьте портрет пользователя каждого региона"
   ]
  },
  {
   "cell_type": "markdown",
   "metadata": {},
   "source": [
    "           Определите для пользователя каждого региона (NA, EU, JP):\n",
    "          Самые популярные платформы (топ-5). Опишите различия в долях продаж."
   ]
  },
  {
   "cell_type": "code",
   "execution_count": 56,
   "metadata": {},
   "outputs": [
    {
     "data": {
      "text/html": [
       "<div>\n",
       "<style scoped>\n",
       "    .dataframe tbody tr th:only-of-type {\n",
       "        vertical-align: middle;\n",
       "    }\n",
       "\n",
       "    .dataframe tbody tr th {\n",
       "        vertical-align: top;\n",
       "    }\n",
       "\n",
       "    .dataframe thead th {\n",
       "        text-align: right;\n",
       "    }\n",
       "</style>\n",
       "<table border=\"1\" class=\"dataframe\">\n",
       "  <thead>\n",
       "    <tr style=\"text-align: right;\">\n",
       "      <th></th>\n",
       "      <th>na_sales</th>\n",
       "      <th>sales</th>\n",
       "    </tr>\n",
       "    <tr>\n",
       "      <th>platform</th>\n",
       "      <th></th>\n",
       "      <th></th>\n",
       "    </tr>\n",
       "  </thead>\n",
       "  <tbody>\n",
       "    <tr>\n",
       "      <th>PS4</th>\n",
       "      <td>108.74</td>\n",
       "      <td>314.14</td>\n",
       "    </tr>\n",
       "    <tr>\n",
       "      <th>XOne</th>\n",
       "      <td>93.12</td>\n",
       "      <td>159.32</td>\n",
       "    </tr>\n",
       "    <tr>\n",
       "      <th>X360</th>\n",
       "      <td>81.66</td>\n",
       "      <td>136.80</td>\n",
       "    </tr>\n",
       "    <tr>\n",
       "      <th>PS3</th>\n",
       "      <td>63.50</td>\n",
       "      <td>181.43</td>\n",
       "    </tr>\n",
       "    <tr>\n",
       "      <th>3DS</th>\n",
       "      <td>38.20</td>\n",
       "      <td>143.25</td>\n",
       "    </tr>\n",
       "  </tbody>\n",
       "</table>\n",
       "</div>"
      ],
      "text/plain": [
       "          na_sales   sales\n",
       "platform                  \n",
       "PS4         108.74  314.14\n",
       "XOne         93.12  159.32\n",
       "X360         81.66  136.80\n",
       "PS3          63.50  181.43\n",
       "3DS          38.20  143.25"
      ]
     },
     "metadata": {},
     "output_type": "display_data"
    }
   ],
   "source": [
    "top_platforms_na = actual_list.pivot_table(\n",
    "    index='platform', \n",
    "    values = ['na_sales','sales'], \n",
    "    aggfunc='sum').sort_values(\n",
    "    by='na_sales',\n",
    "    ascending=False\n",
    ")\n",
    "display(top_platforms_na.head(5))"
   ]
  },
  {
   "cell_type": "markdown",
   "metadata": {},
   "source": [
    "Для северной америки самой популярной платформой является Х360, потом PS3."
   ]
  },
  {
   "cell_type": "code",
   "execution_count": 57,
   "metadata": {},
   "outputs": [
    {
     "name": "stdout",
     "output_type": "stream",
     "text": [
      "platform\n",
      "PS4     0.346151\n",
      "XOne    0.584484\n",
      "X360    0.596930\n",
      "PS3     0.349997\n",
      "3DS     0.266667\n",
      "WiiU    0.451957\n",
      "PC      0.281765\n",
      "Wii     0.480234\n",
      "PSV     0.152774\n",
      "DS      0.370130\n",
      "PSP     0.000000\n",
      "Name: %sales, dtype: float64\n"
     ]
    }
   ],
   "source": [
    "top_platforms_na['%sales'] = top_platforms_na['na_sales']/top_platforms_na['sales']\n",
    "print(top_platforms_na['%sales'])"
   ]
  },
  {
   "cell_type": "markdown",
   "metadata": {},
   "source": [
    "Считаем долю продаж ТОП-5 платформ в СА."
   ]
  },
  {
   "cell_type": "code",
   "execution_count": 58,
   "metadata": {},
   "outputs": [
    {
     "data": {
      "text/html": [
       "<div>\n",
       "<style scoped>\n",
       "    .dataframe tbody tr th:only-of-type {\n",
       "        vertical-align: middle;\n",
       "    }\n",
       "\n",
       "    .dataframe tbody tr th {\n",
       "        vertical-align: top;\n",
       "    }\n",
       "\n",
       "    .dataframe thead th {\n",
       "        text-align: right;\n",
       "    }\n",
       "</style>\n",
       "<table border=\"1\" class=\"dataframe\">\n",
       "  <thead>\n",
       "    <tr style=\"text-align: right;\">\n",
       "      <th></th>\n",
       "      <th>eu_sales</th>\n",
       "      <th>sales</th>\n",
       "    </tr>\n",
       "    <tr>\n",
       "      <th>platform</th>\n",
       "      <th></th>\n",
       "      <th></th>\n",
       "    </tr>\n",
       "  </thead>\n",
       "  <tbody>\n",
       "    <tr>\n",
       "      <th>PS4</th>\n",
       "      <td>141.09</td>\n",
       "      <td>314.14</td>\n",
       "    </tr>\n",
       "    <tr>\n",
       "      <th>PS3</th>\n",
       "      <td>67.81</td>\n",
       "      <td>181.43</td>\n",
       "    </tr>\n",
       "    <tr>\n",
       "      <th>XOne</th>\n",
       "      <td>51.59</td>\n",
       "      <td>159.32</td>\n",
       "    </tr>\n",
       "    <tr>\n",
       "      <th>X360</th>\n",
       "      <td>42.52</td>\n",
       "      <td>136.80</td>\n",
       "    </tr>\n",
       "    <tr>\n",
       "      <th>3DS</th>\n",
       "      <td>30.96</td>\n",
       "      <td>143.25</td>\n",
       "    </tr>\n",
       "  </tbody>\n",
       "</table>\n",
       "</div>"
      ],
      "text/plain": [
       "          eu_sales   sales\n",
       "platform                  \n",
       "PS4         141.09  314.14\n",
       "PS3          67.81  181.43\n",
       "XOne         51.59  159.32\n",
       "X360         42.52  136.80\n",
       "3DS          30.96  143.25"
      ]
     },
     "metadata": {},
     "output_type": "display_data"
    }
   ],
   "source": [
    "top_platforms_eu = actual_list.pivot_table(\n",
    "    index='platform',\n",
    "    values = ['eu_sales','sales'],\n",
    "    aggfunc='sum').sort_values(\n",
    "    by='eu_sales',\n",
    "    ascending=False\n",
    ")\n",
    "display(top_platforms_eu.head(5))"
   ]
  },
  {
   "cell_type": "markdown",
   "metadata": {},
   "source": [
    "Для Европы самой популярной платформой является PS3"
   ]
  },
  {
   "cell_type": "code",
   "execution_count": 59,
   "metadata": {},
   "outputs": [
    {
     "name": "stdout",
     "output_type": "stream",
     "text": [
      "platform\n",
      "PS4     0.449131\n",
      "PS3     0.373753\n",
      "XOne    0.323814\n",
      "X360    0.310819\n",
      "3DS     0.216126\n",
      "PC      0.643165\n",
      "WiiU    0.307133\n",
      "PSV     0.184905\n",
      "Wii     0.434114\n",
      "DS      0.551948\n",
      "PSP     0.048571\n",
      "Name: %sales, dtype: float64\n"
     ]
    }
   ],
   "source": [
    "top_platforms_eu['%sales'] = top_platforms_eu['eu_sales']/top_platforms_eu['sales']\n",
    "print(top_platforms_eu['%sales'])"
   ]
  },
  {
   "cell_type": "markdown",
   "metadata": {},
   "source": [
    "Доля продаж для Европы"
   ]
  },
  {
   "cell_type": "code",
   "execution_count": 60,
   "metadata": {},
   "outputs": [
    {
     "data": {
      "text/html": [
       "<div>\n",
       "<style scoped>\n",
       "    .dataframe tbody tr th:only-of-type {\n",
       "        vertical-align: middle;\n",
       "    }\n",
       "\n",
       "    .dataframe tbody tr th {\n",
       "        vertical-align: top;\n",
       "    }\n",
       "\n",
       "    .dataframe thead th {\n",
       "        text-align: right;\n",
       "    }\n",
       "</style>\n",
       "<table border=\"1\" class=\"dataframe\">\n",
       "  <thead>\n",
       "    <tr style=\"text-align: right;\">\n",
       "      <th></th>\n",
       "      <th>jp_sales</th>\n",
       "      <th>sales</th>\n",
       "    </tr>\n",
       "    <tr>\n",
       "      <th>platform</th>\n",
       "      <th></th>\n",
       "      <th></th>\n",
       "    </tr>\n",
       "  </thead>\n",
       "  <tbody>\n",
       "    <tr>\n",
       "      <th>3DS</th>\n",
       "      <td>67.81</td>\n",
       "      <td>143.25</td>\n",
       "    </tr>\n",
       "    <tr>\n",
       "      <th>PS3</th>\n",
       "      <td>23.35</td>\n",
       "      <td>181.43</td>\n",
       "    </tr>\n",
       "    <tr>\n",
       "      <th>PSV</th>\n",
       "      <td>18.59</td>\n",
       "      <td>32.99</td>\n",
       "    </tr>\n",
       "    <tr>\n",
       "      <th>PS4</th>\n",
       "      <td>15.96</td>\n",
       "      <td>314.14</td>\n",
       "    </tr>\n",
       "    <tr>\n",
       "      <th>WiiU</th>\n",
       "      <td>10.88</td>\n",
       "      <td>64.63</td>\n",
       "    </tr>\n",
       "  </tbody>\n",
       "</table>\n",
       "</div>"
      ],
      "text/plain": [
       "          jp_sales   sales\n",
       "platform                  \n",
       "3DS          67.81  143.25\n",
       "PS3          23.35  181.43\n",
       "PSV          18.59   32.99\n",
       "PS4          15.96  314.14\n",
       "WiiU         10.88   64.63"
      ]
     },
     "metadata": {},
     "output_type": "display_data"
    }
   ],
   "source": [
    "top_platforms_jp = actual_list.pivot_table(\n",
    "    index='platform',\n",
    "    values = ['jp_sales','sales'], \n",
    "    aggfunc='sum').sort_values(\n",
    "    by='jp_sales',\n",
    "    ascending=False\n",
    ")\n",
    "display(top_platforms_jp.head(5))"
   ]
  },
  {
   "cell_type": "markdown",
   "metadata": {},
   "source": [
    "Для Японии самой популярной платформой явялется 3DS"
   ]
  },
  {
   "cell_type": "code",
   "execution_count": 61,
   "metadata": {},
   "outputs": [
    {
     "name": "stdout",
     "output_type": "stream",
     "text": [
      "platform\n",
      "3DS     0.473368\n",
      "PS3     0.128700\n",
      "PSV     0.563504\n",
      "PS4     0.050805\n",
      "WiiU    0.168343\n",
      "PSP     0.940000\n",
      "X360    0.003728\n",
      "XOne    0.002134\n",
      "Wii     0.003660\n",
      "DS      0.000000\n",
      "PC      0.000000\n",
      "Name: %sales, dtype: float64\n"
     ]
    }
   ],
   "source": [
    "top_platforms_jp['%sales'] = top_platforms_jp['jp_sales']/top_platforms_jp['sales']\n",
    "print(top_platforms_jp['%sales'])"
   ]
  },
  {
   "cell_type": "markdown",
   "metadata": {},
   "source": [
    "Доля продаж для Японии"
   ]
  },
  {
   "cell_type": "code",
   "execution_count": 62,
   "metadata": {},
   "outputs": [
    {
     "data": {
      "image/png": "[encoded data removed]",
      "text/plain": [
       "<Figure size 432x288 with 1 Axes>"
      ]
     },
     "metadata": {},
     "output_type": "display_data"
    }
   ],
   "source": [
    "top_platforms_na.plot(kind='pie', y='%sales')\n",
    "plt.legend(bbox_to_anchor=(1, 0.6))\n",
    "plt.show()"
   ]
  },
  {
   "cell_type": "markdown",
   "metadata": {},
   "source": [
    "Платформа X360 самая распространенная платформа в СА. 60% продаж приходится на этот регион."
   ]
  },
  {
   "cell_type": "code",
   "execution_count": 63,
   "metadata": {},
   "outputs": [
    {
     "data": {
      "image/png": "[encoded data removed]",
      "text/plain": [
       "<Figure size 432x288 with 1 Axes>"
      ]
     },
     "metadata": {
      "needs_background": "light"
     },
     "output_type": "display_data"
    }
   ],
   "source": [
    "top_platforms_eu.plot(kind='bar', y='%sales')\n",
    "plt.show()"
   ]
  },
  {
   "cell_type": "markdown",
   "metadata": {},
   "source": [
    "В Европе доля продаж PS4 больше всего, 44%."
   ]
  },
  {
   "cell_type": "code",
   "execution_count": 64,
   "metadata": {},
   "outputs": [
    {
     "data": {
      "image/png": "[encoded data removed]",
      "text/plain": [
       "<Figure size 432x288 with 1 Axes>"
      ]
     },
     "metadata": {
      "needs_background": "light"
     },
     "output_type": "display_data"
    }
   ],
   "source": [
    "top_platforms_jp.plot(kind='bar', y='%sales')\n",
    "plt.show()"
   ]
  },
  {
   "cell_type": "markdown",
   "metadata": {},
   "source": [
    "В японии монополист по доле продаж платформа 3DS.\n",
    "\n",
    "\n",
    "В каждом рассмотреном регионе в ТОП-5 входят PS3,PS4, XOne, X360"
   ]
  },
  {
   "cell_type": "markdown",
   "metadata": {},
   "source": [
    "      Самые популярные жанры (топ-5). Поясните разницу."
   ]
  },
  {
   "cell_type": "code",
   "execution_count": 65,
   "metadata": {},
   "outputs": [
    {
     "data": {
      "text/html": [
       "<div>\n",
       "<style scoped>\n",
       "    .dataframe tbody tr th:only-of-type {\n",
       "        vertical-align: middle;\n",
       "    }\n",
       "\n",
       "    .dataframe tbody tr th {\n",
       "        vertical-align: top;\n",
       "    }\n",
       "\n",
       "    .dataframe thead th {\n",
       "        text-align: right;\n",
       "    }\n",
       "</style>\n",
       "<table border=\"1\" class=\"dataframe\">\n",
       "  <thead>\n",
       "    <tr style=\"text-align: right;\">\n",
       "      <th></th>\n",
       "      <th>na_sales</th>\n",
       "    </tr>\n",
       "    <tr>\n",
       "      <th>genre</th>\n",
       "      <th></th>\n",
       "    </tr>\n",
       "  </thead>\n",
       "  <tbody>\n",
       "    <tr>\n",
       "      <th>Action</th>\n",
       "      <td>126.05</td>\n",
       "    </tr>\n",
       "    <tr>\n",
       "      <th>Shooter</th>\n",
       "      <td>109.74</td>\n",
       "    </tr>\n",
       "    <tr>\n",
       "      <th>Sports</th>\n",
       "      <td>65.27</td>\n",
       "    </tr>\n",
       "    <tr>\n",
       "      <th>Role-Playing</th>\n",
       "      <td>46.40</td>\n",
       "    </tr>\n",
       "    <tr>\n",
       "      <th>Misc</th>\n",
       "      <td>27.49</td>\n",
       "    </tr>\n",
       "  </tbody>\n",
       "</table>\n",
       "</div>"
      ],
      "text/plain": [
       "              na_sales\n",
       "genre                 \n",
       "Action          126.05\n",
       "Shooter         109.74\n",
       "Sports           65.27\n",
       "Role-Playing     46.40\n",
       "Misc             27.49"
      ]
     },
     "metadata": {},
     "output_type": "display_data"
    }
   ],
   "source": [
    "top_genre_na = actual_list.pivot_table(index='genre', values = 'na_sales', aggfunc='sum').sort_values(by='na_sales',ascending=False)\n",
    "display(top_genre_na.head(5))"
   ]
  },
  {
   "cell_type": "code",
   "execution_count": 66,
   "metadata": {},
   "outputs": [
    {
     "data": {
      "image/png": "[encoded data removed]",
      "text/plain": [
       "<Figure size 1080x720 with 1 Axes>"
      ]
     },
     "metadata": {
      "needs_background": "light"
     },
     "output_type": "display_data"
    }
   ],
   "source": [
    "top_genre_na.plot(kind='bar', y='na_sales', figsize=(15,10), grid=True)\n",
    "plt.show()"
   ]
  },
  {
   "cell_type": "code",
   "execution_count": 67,
   "metadata": {},
   "outputs": [
    {
     "name": "stdout",
     "output_type": "stream",
     "text": [
      "              eu_sales\n",
      "genre                 \n",
      "Action          118.13\n",
      "Shooter          87.86\n",
      "Sports           60.52\n",
      "Role-Playing     36.97\n",
      "Racing           20.19\n"
     ]
    }
   ],
   "source": [
    "top_genre_eu = actual_list.pivot_table(index= 'genre', values='eu_sales', aggfunc='sum').sort_values(\n",
    "    by='eu_sales',\n",
    "    ascending=False\n",
    "\n",
    ")\n",
    "print(top_genre_eu.head(5))"
   ]
  },
  {
   "cell_type": "code",
   "execution_count": 68,
   "metadata": {},
   "outputs": [
    {
     "data": {
      "image/png": "[encoded data removed]",
      "text/plain": [
       "<Figure size 1080x720 with 1 Axes>"
      ]
     },
     "metadata": {
      "needs_background": "light"
     },
     "output_type": "display_data"
    }
   ],
   "source": [
    "top_genre_eu.plot(kind='bar', y='eu_sales', figsize=(15,10), grid=True)\n",
    "plt.show()"
   ]
  },
  {
   "cell_type": "markdown",
   "metadata": {},
   "source": [
    "В СА как и в Европе самым популярным жанром является Экшн, потом спортивный и шутер."
   ]
  },
  {
   "cell_type": "code",
   "execution_count": 69,
   "metadata": {},
   "outputs": [
    {
     "name": "stdout",
     "output_type": "stream",
     "text": [
      "              jp_sales\n",
      "genre                 \n",
      "Role-Playing     51.04\n",
      "Action           40.49\n",
      "Misc              9.20\n",
      "Fighting          7.65\n",
      "Shooter           6.61\n"
     ]
    }
   ],
   "source": [
    "top_genre_jp = actual_list.pivot_table(index= 'genre', values='jp_sales', aggfunc='sum').sort_values(\n",
    "    by='jp_sales',\n",
    "    ascending=False\n",
    "\n",
    ")\n",
    "print(top_genre_jp.head(5))"
   ]
  },
  {
   "cell_type": "code",
   "execution_count": 70,
   "metadata": {},
   "outputs": [
    {
     "data": {
      "image/png": "[encoded data removed]",
      "text/plain": [
       "<Figure size 1080x720 with 1 Axes>"
      ]
     },
     "metadata": {
      "needs_background": "light"
     },
     "output_type": "display_data"
    }
   ],
   "source": [
    "top_genre_jp.plot(kind='bar', y='jp_sales', figsize=(15,10), grid=True)\n",
    "plt.show()"
   ]
  },
  {
   "cell_type": "markdown",
   "metadata": {},
   "source": [
    "Самым популярным жанром в Японии является Role_playing.\n",
    "\n",
    "\n",
    "Разница в популярности жанров может зависеть от спроса игр разлиных возрастных категорий, например, кто в основном играет в платформеные игры в разных регионах, дети, подростки или взрослые, соотвественно каждому препочтителен свой жанр, это мы сможем проверить в следующем пункте. "
   ]
  },
  {
   "cell_type": "markdown",
   "metadata": {},
   "source": [
    "      Влияет ли рейтинг ESRB на продажи в отдельном регионе?"
   ]
  },
  {
   "cell_type": "code",
   "execution_count": 71,
   "metadata": {},
   "outputs": [
    {
     "data": {
      "text/html": [
       "<div>\n",
       "<style scoped>\n",
       "    .dataframe tbody tr th:only-of-type {\n",
       "        vertical-align: middle;\n",
       "    }\n",
       "\n",
       "    .dataframe tbody tr th {\n",
       "        vertical-align: top;\n",
       "    }\n",
       "\n",
       "    .dataframe thead th {\n",
       "        text-align: right;\n",
       "    }\n",
       "</style>\n",
       "<table border=\"1\" class=\"dataframe\">\n",
       "  <thead>\n",
       "    <tr style=\"text-align: right;\">\n",
       "      <th></th>\n",
       "      <th>na_sales</th>\n",
       "    </tr>\n",
       "    <tr>\n",
       "      <th>rating</th>\n",
       "      <th></th>\n",
       "    </tr>\n",
       "  </thead>\n",
       "  <tbody>\n",
       "    <tr>\n",
       "      <th>M</th>\n",
       "      <td>165.21</td>\n",
       "    </tr>\n",
       "    <tr>\n",
       "      <th>-1</th>\n",
       "      <td>89.42</td>\n",
       "    </tr>\n",
       "    <tr>\n",
       "      <th>E</th>\n",
       "      <td>79.05</td>\n",
       "    </tr>\n",
       "    <tr>\n",
       "      <th>E10+</th>\n",
       "      <td>54.24</td>\n",
       "    </tr>\n",
       "    <tr>\n",
       "      <th>T</th>\n",
       "      <td>49.79</td>\n",
       "    </tr>\n",
       "  </tbody>\n",
       "</table>\n",
       "</div>"
      ],
      "text/plain": [
       "        na_sales\n",
       "rating          \n",
       "M         165.21\n",
       "-1         89.42\n",
       "E          79.05\n",
       "E10+       54.24\n",
       "T          49.79"
      ]
     },
     "metadata": {},
     "output_type": "display_data"
    }
   ],
   "source": [
    "na_sales_esrb = actual_list.pivot_table(index='rating', values='na_sales', aggfunc='sum').sort_values(\n",
    "    by='na_sales',\n",
    "    ascending=False\n",
    ")\n",
    "display(na_sales_esrb)"
   ]
  },
  {
   "cell_type": "code",
   "execution_count": 72,
   "metadata": {},
   "outputs": [
    {
     "data": {
      "image/png": "[encoded data removed]",
      "text/plain": [
       "<Figure size 432x288 with 1 Axes>"
      ]
     },
     "metadata": {
      "needs_background": "light"
     },
     "output_type": "display_data"
    }
   ],
   "source": [
    "na_sales_esrb.plot(kind='bar', y='na_sales')\n",
    "plt.show()"
   ]
  },
  {
   "cell_type": "markdown",
   "metadata": {},
   "source": [
    "В СА лидируют продажи игр категории M"
   ]
  },
  {
   "cell_type": "code",
   "execution_count": 73,
   "metadata": {},
   "outputs": [
    {
     "data": {
      "text/html": [
       "<div>\n",
       "<style scoped>\n",
       "    .dataframe tbody tr th:only-of-type {\n",
       "        vertical-align: middle;\n",
       "    }\n",
       "\n",
       "    .dataframe tbody tr th {\n",
       "        vertical-align: top;\n",
       "    }\n",
       "\n",
       "    .dataframe thead th {\n",
       "        text-align: right;\n",
       "    }\n",
       "</style>\n",
       "<table border=\"1\" class=\"dataframe\">\n",
       "  <thead>\n",
       "    <tr style=\"text-align: right;\">\n",
       "      <th></th>\n",
       "      <th>eu_sales</th>\n",
       "    </tr>\n",
       "    <tr>\n",
       "      <th>rating</th>\n",
       "      <th></th>\n",
       "    </tr>\n",
       "  </thead>\n",
       "  <tbody>\n",
       "    <tr>\n",
       "      <th>M</th>\n",
       "      <td>145.32</td>\n",
       "    </tr>\n",
       "    <tr>\n",
       "      <th>E</th>\n",
       "      <td>83.36</td>\n",
       "    </tr>\n",
       "    <tr>\n",
       "      <th>-1</th>\n",
       "      <td>78.91</td>\n",
       "    </tr>\n",
       "    <tr>\n",
       "      <th>E10+</th>\n",
       "      <td>42.69</td>\n",
       "    </tr>\n",
       "    <tr>\n",
       "      <th>T</th>\n",
       "      <td>41.95</td>\n",
       "    </tr>\n",
       "  </tbody>\n",
       "</table>\n",
       "</div>"
      ],
      "text/plain": [
       "        eu_sales\n",
       "rating          \n",
       "M         145.32\n",
       "E          83.36\n",
       "-1         78.91\n",
       "E10+       42.69\n",
       "T          41.95"
      ]
     },
     "metadata": {},
     "output_type": "display_data"
    }
   ],
   "source": [
    "eu_sales_esrb = actual_list.pivot_table(index='rating', values='eu_sales', aggfunc='sum').sort_values(\n",
    "    by='eu_sales',\n",
    "    ascending=False\n",
    ")\n",
    "display(eu_sales_esrb)"
   ]
  },
  {
   "cell_type": "code",
   "execution_count": 74,
   "metadata": {},
   "outputs": [
    {
     "data": {
      "image/png": "[encoded data removed]",
      "text/plain": [
       "<Figure size 720x720 with 1 Axes>"
      ]
     },
     "metadata": {
      "needs_background": "light"
     },
     "output_type": "display_data"
    }
   ],
   "source": [
    "eu_sales_esrb.plot(kind='bar', y='eu_sales', title=('Зависимость продаж в Европе от рейтинга'), figsize=(10, 10))\n",
    "plt.ylabel('Объем продаж')\n",
    "plt.show()"
   ]
  },
  {
   "cell_type": "markdown",
   "metadata": {},
   "source": [
    "В Европе ситуация такая же, как и в СА"
   ]
  },
  {
   "cell_type": "code",
   "execution_count": 75,
   "metadata": {},
   "outputs": [
    {
     "data": {
      "text/html": [
       "<div>\n",
       "<style scoped>\n",
       "    .dataframe tbody tr th:only-of-type {\n",
       "        vertical-align: middle;\n",
       "    }\n",
       "\n",
       "    .dataframe tbody tr th {\n",
       "        vertical-align: top;\n",
       "    }\n",
       "\n",
       "    .dataframe thead th {\n",
       "        text-align: right;\n",
       "    }\n",
       "</style>\n",
       "<table border=\"1\" class=\"dataframe\">\n",
       "  <thead>\n",
       "    <tr style=\"text-align: right;\">\n",
       "      <th></th>\n",
       "      <th>jp_sales</th>\n",
       "    </tr>\n",
       "    <tr>\n",
       "      <th>rating</th>\n",
       "      <th></th>\n",
       "    </tr>\n",
       "  </thead>\n",
       "  <tbody>\n",
       "    <tr>\n",
       "      <th>-1</th>\n",
       "      <td>85.05</td>\n",
       "    </tr>\n",
       "    <tr>\n",
       "      <th>T</th>\n",
       "      <td>20.59</td>\n",
       "    </tr>\n",
       "    <tr>\n",
       "      <th>E</th>\n",
       "      <td>15.14</td>\n",
       "    </tr>\n",
       "    <tr>\n",
       "      <th>M</th>\n",
       "      <td>14.11</td>\n",
       "    </tr>\n",
       "    <tr>\n",
       "      <th>E10+</th>\n",
       "      <td>5.89</td>\n",
       "    </tr>\n",
       "  </tbody>\n",
       "</table>\n",
       "</div>"
      ],
      "text/plain": [
       "        jp_sales\n",
       "rating          \n",
       "-1         85.05\n",
       "T          20.59\n",
       "E          15.14\n",
       "M          14.11\n",
       "E10+        5.89"
      ]
     },
     "metadata": {},
     "output_type": "display_data"
    }
   ],
   "source": [
    "jp_sales_esrb = actual_list.pivot_table(index='rating', values='jp_sales', aggfunc='sum').sort_values(\n",
    "    by='jp_sales',\n",
    "    ascending=False\n",
    ")\n",
    "display(jp_sales_esrb)"
   ]
  },
  {
   "cell_type": "code",
   "execution_count": 76,
   "metadata": {},
   "outputs": [
    {
     "data": {
      "image/png": "[encoded data removed]",
      "text/plain": [
       "<Figure size 432x288 with 1 Axes>"
      ]
     },
     "metadata": {
      "needs_background": "light"
     },
     "output_type": "display_data"
    }
   ],
   "source": [
    "jp_sales_esrb.plot(kind='bar', y='jp_sales')\n",
    "plt.show()"
   ]
  },
  {
   "cell_type": "markdown",
   "metadata": {},
   "source": [
    "В Японии чаще продаются игры категории без рейтинга ESRB, т.к. для Японии существует свой рейтинг CERO.\n",
    "\n",
    "Категория игр прямо влияет на продажи игр, т.к. когда выпускается игра, необходимо учитывать возрастные ограничения, и какой на них спрос в разных регионах.\n",
    "\n",
    "Изначальные пропуски  в рейтингах, это рейтинги других регионов, поэтому, для СА (-1) это может быть игра с  европейским или японским рейтингом, точно также как и для соответствующих стран отсутствие рейтинга у игр. В данном материале использован только рейтинг ESRB, если бы учитывались игры с другими рейтингами, пропусков скорее всего не было бы.\n",
    "\n",
    "Во всех регионах игры категории Е10+ не очень популярны.\n",
    "\n",
    "\n",
    "Делая выводы, можно сказать, что для Европы и СА главным является пользователь, отдавший предпочтение играм категории для взрослых. А для Японии исходя из рейтинга ESRB является пользователь, выбравший категории подростков.\n"
   ]
  },
  {
   "cell_type": "markdown",
   "metadata": {},
   "source": [
    "                Шаг 5. Проверьте гипотезы\n",
    "   \n",
    "   \n",
    "   \n",
    "Средние пользовательские рейтинги платформ Xbox One и PC одинаковые;"
   ]
  },
  {
   "cell_type": "markdown",
   "metadata": {},
   "source": [
    "Нулевая гипотеза: Средние пользовательские рейтинги платформ Xbox One и PC одинаковые\n",
    "\n",
    "Альтернативная гипотеза: Средние пользовательские рейтинги платформ Xbox One и PC не равны\n",
    "\n",
    "    "
   ]
  },
  {
   "cell_type": "code",
   "execution_count": null,
   "metadata": {},
   "outputs": [],
   "source": []
  },
  {
   "cell_type": "code",
   "execution_count": 77,
   "metadata": {},
   "outputs": [],
   "source": [
    "xbox_one_data = actual_list.query('platform == \"XOne\"')\n",
    "pc_data = actual_list.query('platform == \"PC\"')"
   ]
  },
  {
   "cell_type": "code",
   "execution_count": 78,
   "metadata": {},
   "outputs": [
    {
     "name": "stdout",
     "output_type": "stream",
     "text": [
      "Средние пользовательские рейтинги Xbox One: 6.521428571428572\n",
      "Средние пользовательские рейтинги PC: 6.269677419354839\n"
     ]
    }
   ],
   "source": [
    "xone_score_means = xbox_one_data['user_score'].mean()\n",
    "pc_score_means = pc_data['user_score'].mean()\n",
    "\n",
    "print('Средние пользовательские рейтинги Xbox One:',xone_score_means)\n",
    "print('Средние пользовательские рейтинги PC:',pc_score_means)"
   ]
  },
  {
   "cell_type": "code",
   "execution_count": 79,
   "metadata": {},
   "outputs": [
    {
     "name": "stdout",
     "output_type": "stream",
     "text": [
      "0.1475959401343032\n",
      "Нулевую гипотезу отвергнуть не получилось\n"
     ]
    }
   ],
   "source": [
    "results = st.ttest_ind(xbox_one_data['user_score'],pc_data['user_score'], equal_var=False, nan_policy='omit' )\n",
    "\n",
    "alpha= 0.05\n",
    "\n",
    "print(results.pvalue)\n",
    "\n",
    "if results.pvalue < alpha:\n",
    "    print('Отвергаем нулевую гипотезу')\n",
    "else:\n",
    "    print('Нулевую гипотезу отвергнуть не получилось')\n",
    "        "
   ]
  },
  {
   "cell_type": "markdown",
   "metadata": {},
   "source": [
    "    Нулевая гипотеза: Средние пользовательские рейтинги жанров Action (англ. «действие», экшен-игры) и Sports (англ. «спортивные соревнования») разные.\n",
    "     \n",
    "    Альтернативная гипотеза: Средние пользовательские рейтинги жанров Action (англ. «действие», экшен-игры) и Sports (англ. «спортивные соревнования») одинаковые."
   ]
  },
  {
   "cell_type": "code",
   "execution_count": 80,
   "metadata": {},
   "outputs": [],
   "source": [
    "action_data = actual_list.query('genre==\"Action\"')\n",
    "sports_data = actual_list.query('genre==\"Sports\"')"
   ]
  },
  {
   "cell_type": "code",
   "execution_count": 81,
   "metadata": {},
   "outputs": [
    {
     "name": "stdout",
     "output_type": "stream",
     "text": [
      "Средние пользовательские рейтинги жанра Action: 6.837532133676093\n",
      "Средние пользовательские рейтинги жанра Sports: 5.238124999999999\n"
     ]
    }
   ],
   "source": [
    "action_score_means = action_data['user_score'].mean()\n",
    "sports_score_means = sports_data['user_score'].mean()\n",
    "\n",
    "print('Средние пользовательские рейтинги жанра Action:', action_score_means)\n",
    "print('Средние пользовательские рейтинги жанра Sports:', sports_score_means)"
   ]
  },
  {
   "cell_type": "code",
   "execution_count": 83,
   "metadata": {},
   "outputs": [
    {
     "name": "stdout",
     "output_type": "stream",
     "text": [
      "1.4460039700703482e-20\n",
      "Отвергаем нулевую гипотезу\n"
     ]
    }
   ],
   "source": [
    "results = st.ttest_ind(action_data['user_score'],sports_data['user_score'], equal_var=False,  nan_policy='omit')\n",
    "\n",
    "alpha = 0.05\n",
    "\n",
    "print(results.pvalue)\n",
    "\n",
    "if results.pvalue < alpha:\n",
    "    print('Отвергаем нулевую гипотезу')\n",
    "else:\n",
    "    print('Не удалось отвергнуть нулевую гипотезу')"
   ]
  },
  {
   "cell_type": "markdown",
   "metadata": {},
   "source": [
    "Формулирование нулевой гипотезы происходило  путем приравнивания  двух совокупностей, со общепринятой статистической значимостью 5%. Альтернативная гипотеза же наоборрот, что две совокупности не равны."
   ]
  },
  {
   "cell_type": "markdown",
   "metadata": {},
   "source": [
    "    Общий вывод:\n",
    "    \n",
    "        Проработав начальный датасет и приведя его к рабочему виду,  заполнив пропуски где это возможно, мы получили следующие отобрали самые популярные на данный момент платформы, и начали их анализировать. Что мы при этом выявили: средний срок службы платформы примерно 10 лет. Самые высокие продажи платформ приходятся на середину его срока службы, примерно через это же время на рынке появляется новая платформа, которая сменяет старую, поэтому при выпуске новой платформы, нужно начинать приступать к разработке новой. Самым популярным жанром в СА и Европе является shooter и sport, в Японии же это Role_playing. Акцент нужно делать на них, т.к. они являются еще и самыми прибыльными. Что касается рейтингов игр, то нужно учитывать при разработке внутренний рейтинг для каждого региона, как оказалось, он может быть свой, не для всех стран показателем является ESRB. Основным потребителем в СА и Европе являются взрослые люди старше 17 лет, а вот в Японии это подростки."
   ]
  },
  {
   "cell_type": "code",
   "execution_count": null,
   "metadata": {},
   "outputs": [],
   "source": []
  }
 ],
 "metadata": {
  "ExecuteTimeLog": [
   {
    "duration": 519,
    "start_time": "2022-10-19T14:30:53.597Z"
   },
   {
    "duration": 86,
    "start_time": "2022-10-19T14:30:59.660Z"
   },
   {
    "duration": 13,
    "start_time": "2022-10-19T14:31:23.989Z"
   },
   {
    "duration": 25,
    "start_time": "2022-10-19T14:31:36.985Z"
   },
   {
    "duration": 10,
    "start_time": "2022-10-19T14:31:54.183Z"
   },
   {
    "duration": 8,
    "start_time": "2022-10-19T14:38:31.064Z"
   },
   {
    "duration": 13,
    "start_time": "2022-10-19T14:40:34.090Z"
   },
   {
    "duration": 14,
    "start_time": "2022-10-19T14:40:51.044Z"
   },
   {
    "duration": 12,
    "start_time": "2022-10-19T14:40:55.769Z"
   },
   {
    "duration": 12,
    "start_time": "2022-10-19T14:41:05.811Z"
   },
   {
    "duration": 16,
    "start_time": "2022-10-19T14:42:14.009Z"
   },
   {
    "duration": 14,
    "start_time": "2022-10-19T14:42:23.025Z"
   },
   {
    "duration": 8,
    "start_time": "2022-10-19T14:47:50.905Z"
   },
   {
    "duration": 9,
    "start_time": "2022-10-19T14:51:02.903Z"
   },
   {
    "duration": 7,
    "start_time": "2022-10-19T14:59:21.524Z"
   },
   {
    "duration": 9,
    "start_time": "2022-10-19T14:59:31.220Z"
   },
   {
    "duration": 6,
    "start_time": "2022-10-19T15:04:32.882Z"
   },
   {
    "duration": 6,
    "start_time": "2022-10-19T15:04:39.357Z"
   },
   {
    "duration": 0,
    "start_time": "2022-10-19T15:04:54.584Z"
   },
   {
    "duration": 6,
    "start_time": "2022-10-19T15:05:15.298Z"
   },
   {
    "duration": 0,
    "start_time": "2022-10-19T15:05:15.307Z"
   },
   {
    "duration": 16,
    "start_time": "2022-10-19T15:05:50.816Z"
   },
   {
    "duration": 4,
    "start_time": "2022-10-19T15:06:32.399Z"
   },
   {
    "duration": 49,
    "start_time": "2022-10-19T15:23:10.325Z"
   },
   {
    "duration": 17,
    "start_time": "2022-10-19T15:23:14.417Z"
   },
   {
    "duration": 27,
    "start_time": "2022-10-19T15:23:17.129Z"
   },
   {
    "duration": 9,
    "start_time": "2022-10-19T15:23:26.529Z"
   },
   {
    "duration": 16,
    "start_time": "2022-10-19T15:23:29.914Z"
   },
   {
    "duration": 21,
    "start_time": "2022-10-19T15:23:34.317Z"
   },
   {
    "duration": 5,
    "start_time": "2022-10-19T15:23:37.137Z"
   },
   {
    "duration": 15,
    "start_time": "2022-10-19T15:23:44.209Z"
   },
   {
    "duration": 4,
    "start_time": "2022-10-19T15:23:50.992Z"
   },
   {
    "duration": 8,
    "start_time": "2022-10-19T15:23:52.876Z"
   },
   {
    "duration": 8,
    "start_time": "2022-10-19T15:24:02.279Z"
   },
   {
    "duration": 7,
    "start_time": "2022-10-19T15:24:15.261Z"
   },
   {
    "duration": 6,
    "start_time": "2022-10-19T15:24:31.580Z"
   },
   {
    "duration": 53,
    "start_time": "2022-10-19T15:36:31.625Z"
   },
   {
    "duration": 422,
    "start_time": "2022-10-19T15:36:41.748Z"
   },
   {
    "duration": 13,
    "start_time": "2022-10-19T15:36:42.172Z"
   },
   {
    "duration": 61,
    "start_time": "2022-10-19T15:36:42.186Z"
   },
   {
    "duration": 22,
    "start_time": "2022-10-19T15:36:42.248Z"
   },
   {
    "duration": 15,
    "start_time": "2022-10-19T15:36:46.335Z"
   },
   {
    "duration": 19,
    "start_time": "2022-10-19T15:36:52.618Z"
   },
   {
    "duration": 4,
    "start_time": "2022-10-19T15:36:52.639Z"
   },
   {
    "duration": 15,
    "start_time": "2022-10-19T15:36:54.920Z"
   },
   {
    "duration": 37,
    "start_time": "2022-10-19T15:39:37.611Z"
   },
   {
    "duration": 12,
    "start_time": "2022-10-19T15:39:59.687Z"
   },
   {
    "duration": 7,
    "start_time": "2022-10-19T15:41:23.228Z"
   },
   {
    "duration": 5,
    "start_time": "2022-10-19T15:42:20.516Z"
   },
   {
    "duration": 5,
    "start_time": "2022-10-19T15:42:34.874Z"
   },
   {
    "duration": 8,
    "start_time": "2022-10-19T15:42:57.201Z"
   },
   {
    "duration": 51,
    "start_time": "2022-10-19T15:50:56.201Z"
   },
   {
    "duration": 13,
    "start_time": "2022-10-19T15:50:59.186Z"
   },
   {
    "duration": 39,
    "start_time": "2022-10-19T15:51:02.034Z"
   },
   {
    "duration": 10,
    "start_time": "2022-10-19T15:51:04.639Z"
   },
   {
    "duration": 12,
    "start_time": "2022-10-19T15:51:08.076Z"
   },
   {
    "duration": 16,
    "start_time": "2022-10-19T15:51:10.466Z"
   },
   {
    "duration": 3,
    "start_time": "2022-10-19T15:51:13.225Z"
   },
   {
    "duration": 15,
    "start_time": "2022-10-19T15:51:14.880Z"
   },
   {
    "duration": 6,
    "start_time": "2022-10-19T15:52:00.182Z"
   },
   {
    "duration": 5,
    "start_time": "2022-10-19T15:52:24.796Z"
   },
   {
    "duration": 4,
    "start_time": "2022-10-19T15:53:01.003Z"
   },
   {
    "duration": 7,
    "start_time": "2022-10-19T15:53:16.130Z"
   },
   {
    "duration": 735,
    "start_time": "2022-10-19T15:53:32.821Z"
   },
   {
    "duration": 51,
    "start_time": "2022-10-19T15:53:40.128Z"
   },
   {
    "duration": 13,
    "start_time": "2022-10-19T15:53:40.682Z"
   },
   {
    "duration": 27,
    "start_time": "2022-10-19T15:53:40.982Z"
   },
   {
    "duration": 9,
    "start_time": "2022-10-19T15:53:41.147Z"
   },
   {
    "duration": 17,
    "start_time": "2022-10-19T15:53:41.898Z"
   },
   {
    "duration": 22,
    "start_time": "2022-10-19T15:53:43.547Z"
   },
   {
    "duration": 4,
    "start_time": "2022-10-19T15:53:44.957Z"
   },
   {
    "duration": 18,
    "start_time": "2022-10-19T15:53:45.378Z"
   },
   {
    "duration": 7,
    "start_time": "2022-10-19T15:54:11.344Z"
   },
   {
    "duration": 4,
    "start_time": "2022-10-19T15:54:15.784Z"
   },
   {
    "duration": 6,
    "start_time": "2022-10-19T15:54:23.117Z"
   },
   {
    "duration": 5,
    "start_time": "2022-10-19T15:54:24.751Z"
   },
   {
    "duration": 4,
    "start_time": "2022-10-19T15:54:28.099Z"
   },
   {
    "duration": 15,
    "start_time": "2022-10-19T15:54:30.797Z"
   },
   {
    "duration": 11,
    "start_time": "2022-10-19T16:06:22.772Z"
   },
   {
    "duration": 9,
    "start_time": "2022-10-19T16:06:32.622Z"
   },
   {
    "duration": 5,
    "start_time": "2022-10-19T16:16:34.120Z"
   },
   {
    "duration": 11,
    "start_time": "2022-10-19T16:16:50.552Z"
   },
   {
    "duration": 12,
    "start_time": "2022-10-19T16:17:04.232Z"
   },
   {
    "duration": 51,
    "start_time": "2022-10-19T16:18:00.212Z"
   },
   {
    "duration": 37,
    "start_time": "2022-10-19T16:25:13.740Z"
   },
   {
    "duration": 13,
    "start_time": "2022-10-19T16:25:59.645Z"
   },
   {
    "duration": 7,
    "start_time": "2022-10-19T16:26:36.872Z"
   },
   {
    "duration": 10,
    "start_time": "2022-10-19T16:26:51.261Z"
   },
   {
    "duration": 7,
    "start_time": "2022-10-19T16:26:56.371Z"
   },
   {
    "duration": 15,
    "start_time": "2022-10-19T16:27:15.998Z"
   },
   {
    "duration": 200,
    "start_time": "2022-10-19T16:28:04.257Z"
   },
   {
    "duration": 5,
    "start_time": "2022-10-19T16:28:25.921Z"
   },
   {
    "duration": 4,
    "start_time": "2022-10-19T16:28:39.659Z"
   },
   {
    "duration": 5,
    "start_time": "2022-10-19T16:28:40.430Z"
   },
   {
    "duration": 8,
    "start_time": "2022-10-19T16:29:10.200Z"
   },
   {
    "duration": 11,
    "start_time": "2022-10-19T16:29:12.307Z"
   },
   {
    "duration": 25,
    "start_time": "2022-10-19T16:29:21.306Z"
   },
   {
    "duration": 61,
    "start_time": "2022-10-19T16:40:03.885Z"
   },
   {
    "duration": 13,
    "start_time": "2022-10-19T16:40:08.222Z"
   },
   {
    "duration": 27,
    "start_time": "2022-10-19T16:40:10.627Z"
   },
   {
    "duration": 10,
    "start_time": "2022-10-19T16:40:13.276Z"
   },
   {
    "duration": 12,
    "start_time": "2022-10-19T16:40:19.073Z"
   },
   {
    "duration": 16,
    "start_time": "2022-10-19T16:40:21.084Z"
   },
   {
    "duration": 3,
    "start_time": "2022-10-19T16:40:24.443Z"
   },
   {
    "duration": 4,
    "start_time": "2022-10-19T16:40:26.363Z"
   },
   {
    "duration": 6,
    "start_time": "2022-10-19T16:40:31.381Z"
   },
   {
    "duration": 5,
    "start_time": "2022-10-19T16:40:35.483Z"
   },
   {
    "duration": 4,
    "start_time": "2022-10-19T16:40:38.070Z"
   },
   {
    "duration": 18,
    "start_time": "2022-10-19T16:40:39.233Z"
   },
   {
    "duration": 10,
    "start_time": "2022-10-19T16:40:42.697Z"
   },
   {
    "duration": 7,
    "start_time": "2022-10-19T16:40:44.127Z"
   },
   {
    "duration": 5,
    "start_time": "2022-10-19T16:40:46.471Z"
   },
   {
    "duration": 8,
    "start_time": "2022-10-19T16:41:28.108Z"
   },
   {
    "duration": 5,
    "start_time": "2022-10-19T16:42:02.152Z"
   },
   {
    "duration": 64,
    "start_time": "2022-10-19T16:42:42.694Z"
   },
   {
    "duration": 12,
    "start_time": "2022-10-19T16:42:46.357Z"
   },
   {
    "duration": 21,
    "start_time": "2022-10-19T16:43:15.266Z"
   },
   {
    "duration": 22,
    "start_time": "2022-10-19T16:43:34.568Z"
   },
   {
    "duration": 10,
    "start_time": "2022-10-19T16:43:54.131Z"
   },
   {
    "duration": 9,
    "start_time": "2022-10-19T16:44:15.504Z"
   },
   {
    "duration": 10,
    "start_time": "2022-10-19T16:44:23.178Z"
   },
   {
    "duration": 18,
    "start_time": "2022-10-19T16:44:28.041Z"
   },
   {
    "duration": 3,
    "start_time": "2022-10-19T16:45:45.136Z"
   },
   {
    "duration": 6,
    "start_time": "2022-10-19T16:45:51.931Z"
   },
   {
    "duration": 7,
    "start_time": "2022-10-19T16:46:00.432Z"
   },
   {
    "duration": 16,
    "start_time": "2022-10-19T16:46:09.209Z"
   },
   {
    "duration": 17,
    "start_time": "2022-10-19T16:46:19.406Z"
   },
   {
    "duration": 5,
    "start_time": "2022-10-19T16:46:23.201Z"
   },
   {
    "duration": 17,
    "start_time": "2022-10-19T16:46:32.530Z"
   },
   {
    "duration": 5,
    "start_time": "2022-10-19T16:48:17.686Z"
   },
   {
    "duration": 58,
    "start_time": "2022-10-19T16:48:59.076Z"
   },
   {
    "duration": 14,
    "start_time": "2022-10-19T16:49:01.777Z"
   },
   {
    "duration": 26,
    "start_time": "2022-10-19T16:49:05.852Z"
   },
   {
    "duration": 9,
    "start_time": "2022-10-19T16:49:08.451Z"
   },
   {
    "duration": 12,
    "start_time": "2022-10-19T16:49:27.339Z"
   },
   {
    "duration": 14,
    "start_time": "2022-10-19T16:49:29.774Z"
   },
   {
    "duration": 2,
    "start_time": "2022-10-19T16:49:34.942Z"
   },
   {
    "duration": 3,
    "start_time": "2022-10-19T16:49:43.362Z"
   },
   {
    "duration": 6,
    "start_time": "2022-10-19T16:49:52.090Z"
   },
   {
    "duration": 5,
    "start_time": "2022-10-19T16:49:52.733Z"
   },
   {
    "duration": 4,
    "start_time": "2022-10-19T16:49:56.126Z"
   },
   {
    "duration": 20,
    "start_time": "2022-10-19T16:50:00.677Z"
   },
   {
    "duration": 7,
    "start_time": "2022-10-19T16:50:04.587Z"
   },
   {
    "duration": 6,
    "start_time": "2022-10-19T16:50:06.585Z"
   },
   {
    "duration": 11,
    "start_time": "2022-10-19T16:50:37.888Z"
   },
   {
    "duration": 5,
    "start_time": "2022-10-19T16:51:10.894Z"
   },
   {
    "duration": 10,
    "start_time": "2022-10-19T16:51:46.025Z"
   },
   {
    "duration": 8,
    "start_time": "2022-10-19T17:01:08.024Z"
   },
   {
    "duration": 5,
    "start_time": "2022-10-19T17:01:09.222Z"
   },
   {
    "duration": 132,
    "start_time": "2022-10-19T17:01:11.772Z"
   },
   {
    "duration": 4,
    "start_time": "2022-10-19T17:01:16.141Z"
   },
   {
    "duration": 14,
    "start_time": "2022-10-19T17:01:26.480Z"
   },
   {
    "duration": 5,
    "start_time": "2022-10-19T17:15:23.480Z"
   },
   {
    "duration": 23,
    "start_time": "2022-10-19T17:15:30.579Z"
   },
   {
    "duration": 13,
    "start_time": "2022-10-19T17:23:16.994Z"
   },
   {
    "duration": 583,
    "start_time": "2022-10-19T17:24:18.351Z"
   },
   {
    "duration": 162,
    "start_time": "2022-10-19T17:24:29.184Z"
   },
   {
    "duration": 168,
    "start_time": "2022-10-19T17:24:35.383Z"
   },
   {
    "duration": 166,
    "start_time": "2022-10-19T17:25:05.626Z"
   },
   {
    "duration": 3,
    "start_time": "2022-10-19T17:25:27.769Z"
   },
   {
    "duration": 200,
    "start_time": "2022-10-19T17:25:29.922Z"
   },
   {
    "duration": 148,
    "start_time": "2022-10-19T17:25:44.457Z"
   },
   {
    "duration": 169,
    "start_time": "2022-10-19T17:25:54.689Z"
   },
   {
    "duration": 11,
    "start_time": "2022-10-19T17:29:24.263Z"
   },
   {
    "duration": 15,
    "start_time": "2022-10-19T17:29:35.814Z"
   },
   {
    "duration": 150,
    "start_time": "2022-10-19T17:29:44.141Z"
   },
   {
    "duration": 149,
    "start_time": "2022-10-19T17:29:50.876Z"
   },
   {
    "duration": 156,
    "start_time": "2022-10-19T17:30:20.621Z"
   },
   {
    "duration": 177,
    "start_time": "2022-10-19T17:30:31.546Z"
   },
   {
    "duration": 256,
    "start_time": "2022-10-19T17:37:49.423Z"
   },
   {
    "duration": 157,
    "start_time": "2022-10-19T17:39:41.140Z"
   },
   {
    "duration": 180,
    "start_time": "2022-10-19T17:39:50.920Z"
   },
   {
    "duration": 268,
    "start_time": "2022-10-19T17:40:11.025Z"
   },
   {
    "duration": 183,
    "start_time": "2022-10-19T17:40:18.875Z"
   },
   {
    "duration": 152,
    "start_time": "2022-10-19T17:40:33.129Z"
   },
   {
    "duration": 162,
    "start_time": "2022-10-19T17:40:44.657Z"
   },
   {
    "duration": 174,
    "start_time": "2022-10-19T17:41:41.406Z"
   },
   {
    "duration": 234,
    "start_time": "2022-10-19T17:41:53.693Z"
   },
   {
    "duration": 195,
    "start_time": "2022-10-19T17:43:58.659Z"
   },
   {
    "duration": 175,
    "start_time": "2022-10-19T17:44:06.660Z"
   },
   {
    "duration": 208,
    "start_time": "2022-10-19T17:44:13.687Z"
   },
   {
    "duration": 14,
    "start_time": "2022-10-19T17:47:14.912Z"
   },
   {
    "duration": 14,
    "start_time": "2022-10-19T17:47:21.857Z"
   },
   {
    "duration": 15,
    "start_time": "2022-10-19T17:47:47.507Z"
   },
   {
    "duration": 19,
    "start_time": "2022-10-19T17:48:06.949Z"
   },
   {
    "duration": 14,
    "start_time": "2022-10-19T17:48:20.582Z"
   },
   {
    "duration": 14,
    "start_time": "2022-10-19T17:48:31.643Z"
   },
   {
    "duration": 49,
    "start_time": "2022-10-19T17:49:54.966Z"
   },
   {
    "duration": 18,
    "start_time": "2022-10-19T17:49:59.497Z"
   },
   {
    "duration": 171,
    "start_time": "2022-10-19T17:50:41.496Z"
   },
   {
    "duration": 163,
    "start_time": "2022-10-19T17:50:49.704Z"
   },
   {
    "duration": 259,
    "start_time": "2022-10-19T17:51:14.762Z"
   },
   {
    "duration": 182,
    "start_time": "2022-10-19T17:51:24.086Z"
   },
   {
    "duration": 199,
    "start_time": "2022-10-19T17:51:45.988Z"
   },
   {
    "duration": 3,
    "start_time": "2022-10-19T17:52:01.070Z"
   },
   {
    "duration": 223,
    "start_time": "2022-10-19T17:52:19.588Z"
   },
   {
    "duration": 276,
    "start_time": "2022-10-19T17:52:27.952Z"
   },
   {
    "duration": 271,
    "start_time": "2022-10-19T17:52:40.444Z"
   },
   {
    "duration": 168,
    "start_time": "2022-10-19T17:57:06.206Z"
   },
   {
    "duration": 160,
    "start_time": "2022-10-19T17:57:23.714Z"
   },
   {
    "duration": 9,
    "start_time": "2022-10-19T17:57:39.890Z"
   },
   {
    "duration": 173,
    "start_time": "2022-10-19T17:57:44.165Z"
   },
   {
    "duration": 160,
    "start_time": "2022-10-19T17:57:53.791Z"
   },
   {
    "duration": 46,
    "start_time": "2022-10-19T18:00:29.792Z"
   },
   {
    "duration": 48,
    "start_time": "2022-10-19T18:00:35.019Z"
   },
   {
    "duration": 11,
    "start_time": "2022-10-19T18:00:39.311Z"
   },
   {
    "duration": 23,
    "start_time": "2022-10-19T18:00:53.776Z"
   },
   {
    "duration": 123,
    "start_time": "2022-10-19T18:01:20.013Z"
   },
   {
    "duration": 281,
    "start_time": "2022-10-19T18:02:02.491Z"
   },
   {
    "duration": 196,
    "start_time": "2022-10-19T18:02:16.004Z"
   },
   {
    "duration": 164,
    "start_time": "2022-10-19T18:02:23.158Z"
   },
   {
    "duration": 171,
    "start_time": "2022-10-19T18:02:50.957Z"
   },
   {
    "duration": 23,
    "start_time": "2022-10-19T18:03:30.835Z"
   },
   {
    "duration": 188,
    "start_time": "2022-10-19T18:03:40.068Z"
   },
   {
    "duration": 19,
    "start_time": "2022-10-19T18:04:16.382Z"
   },
   {
    "duration": 18,
    "start_time": "2022-10-19T18:04:31.289Z"
   },
   {
    "duration": 18,
    "start_time": "2022-10-19T18:04:51.622Z"
   },
   {
    "duration": 189,
    "start_time": "2022-10-19T18:05:09.745Z"
   },
   {
    "duration": 16,
    "start_time": "2022-10-19T18:05:59.089Z"
   },
   {
    "duration": 184,
    "start_time": "2022-10-19T18:06:06.422Z"
   },
   {
    "duration": 196,
    "start_time": "2022-10-19T18:10:55.503Z"
   },
   {
    "duration": 134,
    "start_time": "2022-10-19T18:11:20.982Z"
   },
   {
    "duration": 15,
    "start_time": "2022-10-19T18:11:32.942Z"
   },
   {
    "duration": 135,
    "start_time": "2022-10-19T18:11:55.117Z"
   },
   {
    "duration": 128,
    "start_time": "2022-10-19T18:12:00.741Z"
   },
   {
    "duration": 205,
    "start_time": "2022-10-19T18:12:04.514Z"
   },
   {
    "duration": 126,
    "start_time": "2022-10-19T18:12:12.027Z"
   },
   {
    "duration": 8,
    "start_time": "2022-10-19T18:13:27.322Z"
   },
   {
    "duration": 151,
    "start_time": "2022-10-19T18:13:46.929Z"
   },
   {
    "duration": 448,
    "start_time": "2022-10-19T18:14:25.850Z"
   },
   {
    "duration": 14,
    "start_time": "2022-10-19T18:15:24.575Z"
   },
   {
    "duration": 20,
    "start_time": "2022-10-19T18:15:31.448Z"
   },
   {
    "duration": 5,
    "start_time": "2022-10-19T18:26:34.009Z"
   },
   {
    "duration": 5,
    "start_time": "2022-10-19T18:29:43.914Z"
   },
   {
    "duration": 5,
    "start_time": "2022-10-19T18:29:53.912Z"
   },
   {
    "duration": 10,
    "start_time": "2022-10-19T18:39:53.319Z"
   },
   {
    "duration": 17,
    "start_time": "2022-10-19T18:40:01.249Z"
   },
   {
    "duration": 12,
    "start_time": "2022-10-19T18:40:12.948Z"
   },
   {
    "duration": 15,
    "start_time": "2022-10-19T18:44:33.646Z"
   },
   {
    "duration": 160,
    "start_time": "2022-10-19T18:45:41.242Z"
   },
   {
    "duration": 65,
    "start_time": "2022-10-19T18:51:38.905Z"
   },
   {
    "duration": 620,
    "start_time": "2022-10-19T18:52:15.189Z"
   },
   {
    "duration": 8,
    "start_time": "2022-10-19T18:52:52.390Z"
   },
   {
    "duration": 3,
    "start_time": "2022-10-19T18:53:06.146Z"
   },
   {
    "duration": 6,
    "start_time": "2022-10-19T18:53:17.324Z"
   },
   {
    "duration": 6,
    "start_time": "2022-10-19T18:53:39.494Z"
   },
   {
    "duration": 6,
    "start_time": "2022-10-19T18:53:44.050Z"
   },
   {
    "duration": 5,
    "start_time": "2022-10-19T18:53:57.702Z"
   },
   {
    "duration": 56,
    "start_time": "2022-10-19T18:54:27.764Z"
   },
   {
    "duration": 17,
    "start_time": "2022-10-19T18:57:35.432Z"
   },
   {
    "duration": 19,
    "start_time": "2022-10-19T18:57:41.499Z"
   },
   {
    "duration": 18,
    "start_time": "2022-10-19T18:57:47.300Z"
   },
   {
    "duration": 17,
    "start_time": "2022-10-19T18:58:10.358Z"
   },
   {
    "duration": 61,
    "start_time": "2022-10-19T18:58:23.966Z"
   },
   {
    "duration": 7,
    "start_time": "2022-10-19T18:58:46.851Z"
   },
   {
    "duration": 9,
    "start_time": "2022-10-19T18:59:03.391Z"
   },
   {
    "duration": 9,
    "start_time": "2022-10-19T18:59:10.773Z"
   },
   {
    "duration": 49,
    "start_time": "2022-10-19T19:00:06.057Z"
   },
   {
    "duration": 10,
    "start_time": "2022-10-19T19:00:35.228Z"
   },
   {
    "duration": 17,
    "start_time": "2022-10-19T19:03:03.734Z"
   },
   {
    "duration": 51,
    "start_time": "2022-10-19T19:03:11.020Z"
   },
   {
    "duration": 58,
    "start_time": "2022-10-19T19:03:40.110Z"
   },
   {
    "duration": 55,
    "start_time": "2022-10-19T19:03:52.853Z"
   },
   {
    "duration": 57,
    "start_time": "2022-10-19T19:04:02.156Z"
   },
   {
    "duration": 11,
    "start_time": "2022-10-19T19:05:09.648Z"
   },
   {
    "duration": 17,
    "start_time": "2022-10-19T19:05:41.839Z"
   },
   {
    "duration": 18,
    "start_time": "2022-10-19T19:06:01.905Z"
   },
   {
    "duration": 20,
    "start_time": "2022-10-19T19:06:22.776Z"
   },
   {
    "duration": 8,
    "start_time": "2022-10-19T19:08:26.465Z"
   },
   {
    "duration": 10,
    "start_time": "2022-10-19T19:08:44.252Z"
   },
   {
    "duration": 61,
    "start_time": "2022-10-19T19:10:10.400Z"
   },
   {
    "duration": 58,
    "start_time": "2022-10-19T19:11:09.793Z"
   },
   {
    "duration": 48,
    "start_time": "2022-10-19T19:12:09.332Z"
   },
   {
    "duration": 56,
    "start_time": "2022-10-19T19:12:21.935Z"
   },
   {
    "duration": 11,
    "start_time": "2022-10-19T19:19:39.287Z"
   },
   {
    "duration": 158,
    "start_time": "2022-10-19T19:19:43.990Z"
   },
   {
    "duration": 8,
    "start_time": "2022-10-19T19:20:08.170Z"
   },
   {
    "duration": 349,
    "start_time": "2022-10-19T19:20:15.034Z"
   },
   {
    "duration": 490,
    "start_time": "2022-10-19T19:25:12.547Z"
   },
   {
    "duration": 457,
    "start_time": "2022-10-19T19:28:11.994Z"
   },
   {
    "duration": 376,
    "start_time": "2022-10-19T19:28:22.121Z"
   },
   {
    "duration": 140,
    "start_time": "2022-10-19T19:28:34.732Z"
   },
   {
    "duration": 372,
    "start_time": "2022-10-19T19:28:44.242Z"
   },
   {
    "duration": 8,
    "start_time": "2022-10-19T19:29:28.039Z"
   },
   {
    "duration": 836,
    "start_time": "2022-10-19T19:29:36.041Z"
   },
   {
    "duration": 2,
    "start_time": "2022-10-19T19:34:24.942Z"
   },
   {
    "duration": 5,
    "start_time": "2022-10-19T19:37:17.017Z"
   },
   {
    "duration": 11,
    "start_time": "2022-10-19T19:37:43.761Z"
   },
   {
    "duration": 5,
    "start_time": "2022-10-19T19:38:23.224Z"
   },
   {
    "duration": 10,
    "start_time": "2022-10-19T19:38:25.362Z"
   },
   {
    "duration": 468,
    "start_time": "2022-10-19T19:38:36.298Z"
   },
   {
    "duration": 476,
    "start_time": "2022-10-19T19:38:42.237Z"
   },
   {
    "duration": 585,
    "start_time": "2022-10-24T07:55:52.043Z"
   },
   {
    "duration": 16,
    "start_time": "2022-10-24T07:55:56.274Z"
   },
   {
    "duration": 31,
    "start_time": "2022-10-24T07:55:58.695Z"
   },
   {
    "duration": 10,
    "start_time": "2022-10-24T07:56:09.682Z"
   },
   {
    "duration": 21,
    "start_time": "2022-10-24T07:56:15.473Z"
   },
   {
    "duration": 16,
    "start_time": "2022-10-24T07:56:18.061Z"
   },
   {
    "duration": 3,
    "start_time": "2022-10-24T07:56:20.523Z"
   },
   {
    "duration": 5,
    "start_time": "2022-10-24T07:56:24.041Z"
   },
   {
    "duration": 9,
    "start_time": "2022-10-24T07:56:29.205Z"
   },
   {
    "duration": 6,
    "start_time": "2022-10-24T07:56:31.253Z"
   },
   {
    "duration": 5,
    "start_time": "2022-10-24T07:56:33.453Z"
   },
   {
    "duration": 13,
    "start_time": "2022-10-24T07:56:37.247Z"
   },
   {
    "duration": 10,
    "start_time": "2022-10-24T07:56:44.599Z"
   },
   {
    "duration": 7,
    "start_time": "2022-10-24T07:56:47.382Z"
   },
   {
    "duration": 11,
    "start_time": "2022-10-24T07:56:52.349Z"
   },
   {
    "duration": 12,
    "start_time": "2022-10-24T07:56:56.982Z"
   },
   {
    "duration": 8,
    "start_time": "2022-10-24T07:57:01.054Z"
   },
   {
    "duration": 6,
    "start_time": "2022-10-24T07:57:03.679Z"
   },
   {
    "duration": 8,
    "start_time": "2022-10-24T07:57:06.774Z"
   },
   {
    "duration": 18,
    "start_time": "2022-10-24T07:57:09.417Z"
   },
   {
    "duration": 6,
    "start_time": "2022-10-24T07:57:32.370Z"
   },
   {
    "duration": 5,
    "start_time": "2022-10-24T07:57:37.481Z"
   },
   {
    "duration": 6,
    "start_time": "2022-10-24T07:57:39.576Z"
   },
   {
    "duration": 6,
    "start_time": "2022-10-24T07:57:47.803Z"
   },
   {
    "duration": 19,
    "start_time": "2022-10-24T07:57:50.156Z"
   },
   {
    "duration": 986,
    "start_time": "2022-10-24T07:57:59.260Z"
   },
   {
    "duration": 18,
    "start_time": "2022-10-24T07:58:02.495Z"
   },
   {
    "duration": 214,
    "start_time": "2022-10-24T07:58:18.116Z"
   },
   {
    "duration": 74,
    "start_time": "2022-10-24T07:58:48.337Z"
   },
   {
    "duration": 949,
    "start_time": "2022-10-24T07:58:58.628Z"
   },
   {
    "duration": 12,
    "start_time": "2022-10-24T07:59:10.476Z"
   },
   {
    "duration": 317,
    "start_time": "2022-10-24T07:59:23.115Z"
   },
   {
    "duration": 3,
    "start_time": "2022-10-24T07:59:30.159Z"
   },
   {
    "duration": 6,
    "start_time": "2022-10-24T07:59:32.568Z"
   },
   {
    "duration": 486,
    "start_time": "2022-10-24T07:59:40.403Z"
   },
   {
    "duration": 10,
    "start_time": "2022-10-24T08:09:14.167Z"
   },
   {
    "duration": 190,
    "start_time": "2022-10-24T08:10:50.043Z"
   },
   {
    "duration": 145,
    "start_time": "2022-10-24T08:11:01.118Z"
   },
   {
    "duration": 176,
    "start_time": "2022-10-24T08:11:10.399Z"
   },
   {
    "duration": 113,
    "start_time": "2022-10-24T08:11:26.162Z"
   },
   {
    "duration": 161,
    "start_time": "2022-10-24T08:11:31.780Z"
   },
   {
    "duration": 203,
    "start_time": "2022-10-24T08:12:07.972Z"
   },
   {
    "duration": 158,
    "start_time": "2022-10-24T08:12:26.947Z"
   },
   {
    "duration": 7,
    "start_time": "2022-10-24T08:22:49.062Z"
   },
   {
    "duration": 183,
    "start_time": "2022-10-24T08:22:51.519Z"
   },
   {
    "duration": 2,
    "start_time": "2022-10-24T08:23:43.582Z"
   },
   {
    "duration": 31,
    "start_time": "2022-10-24T08:29:52.725Z"
   },
   {
    "duration": 3,
    "start_time": "2022-10-24T08:30:23.590Z"
   },
   {
    "duration": 12,
    "start_time": "2022-10-24T08:30:25.789Z"
   },
   {
    "duration": 559,
    "start_time": "2022-10-24T08:31:13.354Z"
   },
   {
    "duration": 524,
    "start_time": "2022-10-24T08:31:25.098Z"
   },
   {
    "duration": 3,
    "start_time": "2022-10-24T08:38:13.631Z"
   },
   {
    "duration": 5,
    "start_time": "2022-10-24T08:38:15.561Z"
   },
   {
    "duration": 747,
    "start_time": "2022-10-24T08:38:19.098Z"
   },
   {
    "duration": 6,
    "start_time": "2022-10-24T08:39:18.629Z"
   },
   {
    "duration": 168,
    "start_time": "2022-10-24T08:39:18.637Z"
   },
   {
    "duration": 3,
    "start_time": "2022-10-24T08:39:25.407Z"
   },
   {
    "duration": 5,
    "start_time": "2022-10-24T08:39:27.380Z"
   },
   {
    "duration": 629,
    "start_time": "2022-10-24T08:39:30.323Z"
   },
   {
    "duration": 692,
    "start_time": "2022-10-24T08:44:18.631Z"
   },
   {
    "duration": 212,
    "start_time": "2022-10-24T08:46:16.367Z"
   },
   {
    "duration": 87,
    "start_time": "2022-10-24T08:47:18.853Z"
   },
   {
    "duration": 73,
    "start_time": "2022-10-24T08:47:26.207Z"
   },
   {
    "duration": 133,
    "start_time": "2022-10-24T08:47:31.844Z"
   },
   {
    "duration": 17,
    "start_time": "2022-10-24T08:48:02.894Z"
   },
   {
    "duration": 760,
    "start_time": "2022-10-24T08:48:08.554Z"
   },
   {
    "duration": 635,
    "start_time": "2022-10-24T08:51:35.753Z"
   },
   {
    "duration": 15,
    "start_time": "2022-10-24T08:51:55.129Z"
   },
   {
    "duration": 21,
    "start_time": "2022-10-24T08:52:01.698Z"
   },
   {
    "duration": 18,
    "start_time": "2022-10-24T08:52:28.374Z"
   },
   {
    "duration": 679,
    "start_time": "2022-10-24T08:52:36.004Z"
   },
   {
    "duration": 12,
    "start_time": "2022-10-24T08:57:50.626Z"
   },
   {
    "duration": 798,
    "start_time": "2022-10-24T08:57:55.554Z"
   },
   {
    "duration": 375,
    "start_time": "2022-10-24T09:08:50.908Z"
   },
   {
    "duration": 161,
    "start_time": "2022-10-24T09:09:43.115Z"
   },
   {
    "duration": 3,
    "start_time": "2022-10-24T09:10:14.777Z"
   },
   {
    "duration": 5,
    "start_time": "2022-10-24T09:10:19.421Z"
   },
   {
    "duration": 701,
    "start_time": "2022-10-24T09:10:19.551Z"
   },
   {
    "duration": 8,
    "start_time": "2022-10-24T09:10:30.722Z"
   },
   {
    "duration": 18,
    "start_time": "2022-10-24T09:10:33.116Z"
   },
   {
    "duration": 707,
    "start_time": "2022-10-24T09:10:36.816Z"
   },
   {
    "duration": 430,
    "start_time": "2022-10-24T09:10:41.543Z"
   },
   {
    "duration": 241,
    "start_time": "2022-10-24T09:11:18.811Z"
   },
   {
    "duration": 5,
    "start_time": "2022-10-24T09:12:15.134Z"
   },
   {
    "duration": 670,
    "start_time": "2022-10-24T09:12:17.143Z"
   },
   {
    "duration": 242,
    "start_time": "2022-10-24T09:12:37.471Z"
   },
   {
    "duration": 7,
    "start_time": "2022-10-24T09:12:44.540Z"
   },
   {
    "duration": 18,
    "start_time": "2022-10-24T09:12:46.271Z"
   },
   {
    "duration": 285,
    "start_time": "2022-10-24T09:12:50.261Z"
   },
   {
    "duration": 4,
    "start_time": "2022-10-24T09:12:56.727Z"
   },
   {
    "duration": 5,
    "start_time": "2022-10-24T09:13:08.542Z"
   },
   {
    "duration": 638,
    "start_time": "2022-10-24T09:13:11.725Z"
   },
   {
    "duration": 237,
    "start_time": "2022-10-24T09:13:37.524Z"
   },
   {
    "duration": 8,
    "start_time": "2022-10-24T09:13:50.245Z"
   },
   {
    "duration": 19,
    "start_time": "2022-10-24T09:13:52.421Z"
   },
   {
    "duration": 239,
    "start_time": "2022-10-24T09:13:57.335Z"
   },
   {
    "duration": 12,
    "start_time": "2022-10-24T09:22:41.910Z"
   },
   {
    "duration": 9,
    "start_time": "2022-10-24T09:23:11.181Z"
   },
   {
    "duration": 10,
    "start_time": "2022-10-24T09:23:19.408Z"
   },
   {
    "duration": 24,
    "start_time": "2022-10-24T09:23:32.391Z"
   },
   {
    "duration": 20,
    "start_time": "2022-10-24T09:24:08.141Z"
   },
   {
    "duration": 15,
    "start_time": "2022-10-24T09:26:02.968Z"
   },
   {
    "duration": 15,
    "start_time": "2022-10-24T09:27:48.074Z"
   },
   {
    "duration": 16,
    "start_time": "2022-10-24T09:27:58.614Z"
   },
   {
    "duration": 157,
    "start_time": "2022-10-24T09:30:51.507Z"
   },
   {
    "duration": 270,
    "start_time": "2022-10-24T09:31:03.383Z"
   },
   {
    "duration": 10,
    "start_time": "2022-10-24T09:32:39.414Z"
   },
   {
    "duration": 10,
    "start_time": "2022-10-24T09:32:54.476Z"
   },
   {
    "duration": 15,
    "start_time": "2022-10-24T09:33:01.857Z"
   },
   {
    "duration": 17,
    "start_time": "2022-10-24T09:33:42.232Z"
   },
   {
    "duration": 16,
    "start_time": "2022-10-24T09:33:55.437Z"
   },
   {
    "duration": 15,
    "start_time": "2022-10-24T09:34:08.869Z"
   },
   {
    "duration": 67,
    "start_time": "2022-10-24T09:34:15.421Z"
   },
   {
    "duration": 18,
    "start_time": "2022-10-24T09:35:08.207Z"
   },
   {
    "duration": 19,
    "start_time": "2022-10-24T09:40:16.407Z"
   },
   {
    "duration": 9,
    "start_time": "2022-10-24T09:40:31.708Z"
   },
   {
    "duration": 439,
    "start_time": "2022-10-24T09:40:39.310Z"
   },
   {
    "duration": 16,
    "start_time": "2022-10-24T09:40:59.451Z"
   },
   {
    "duration": 455,
    "start_time": "2022-10-24T09:41:08.354Z"
   },
   {
    "duration": 13,
    "start_time": "2022-10-24T09:43:56.579Z"
   },
   {
    "duration": 37,
    "start_time": "2022-10-24T09:44:47.995Z"
   },
   {
    "duration": 33,
    "start_time": "2022-10-24T09:45:11.289Z"
   },
   {
    "duration": 22,
    "start_time": "2022-10-24T09:45:53.467Z"
   },
   {
    "duration": 146,
    "start_time": "2022-10-24T09:49:32.830Z"
   },
   {
    "duration": 167,
    "start_time": "2022-10-24T09:50:35.267Z"
   },
   {
    "duration": 190,
    "start_time": "2022-10-24T09:50:49.555Z"
   },
   {
    "duration": 190,
    "start_time": "2022-10-24T09:51:24.467Z"
   },
   {
    "duration": 176,
    "start_time": "2022-10-24T09:52:45.107Z"
   },
   {
    "duration": 189,
    "start_time": "2022-10-24T09:54:01.169Z"
   },
   {
    "duration": 289,
    "start_time": "2022-10-24T09:56:23.440Z"
   },
   {
    "duration": 195,
    "start_time": "2022-10-24T09:56:24.622Z"
   },
   {
    "duration": 201,
    "start_time": "2022-10-24T10:00:08.451Z"
   },
   {
    "duration": 196,
    "start_time": "2022-10-24T10:00:24.412Z"
   },
   {
    "duration": 211,
    "start_time": "2022-10-24T10:00:58.104Z"
   },
   {
    "duration": 188,
    "start_time": "2022-10-24T10:05:54.369Z"
   },
   {
    "duration": 7,
    "start_time": "2022-10-24T10:07:20.972Z"
   },
   {
    "duration": 8,
    "start_time": "2022-10-24T10:07:39.231Z"
   },
   {
    "duration": 9,
    "start_time": "2022-10-24T10:07:54.604Z"
   },
   {
    "duration": 16,
    "start_time": "2022-10-24T10:20:38.324Z"
   },
   {
    "duration": 5,
    "start_time": "2022-10-24T10:21:21.414Z"
   },
   {
    "duration": 7,
    "start_time": "2022-10-24T10:21:46.966Z"
   },
   {
    "duration": 6,
    "start_time": "2022-10-24T10:22:12.378Z"
   },
   {
    "duration": 17,
    "start_time": "2022-10-24T10:23:28.238Z"
   },
   {
    "duration": 168,
    "start_time": "2022-10-24T10:40:31.328Z"
   },
   {
    "duration": 20,
    "start_time": "2022-10-24T10:40:49.546Z"
   },
   {
    "duration": 201,
    "start_time": "2022-10-24T10:40:57.710Z"
   },
   {
    "duration": 239,
    "start_time": "2022-10-24T10:41:22.786Z"
   },
   {
    "duration": 243,
    "start_time": "2022-10-24T10:41:40.137Z"
   },
   {
    "duration": 23,
    "start_time": "2022-10-24T10:42:39.236Z"
   },
   {
    "duration": 245,
    "start_time": "2022-10-24T10:42:54.514Z"
   },
   {
    "duration": 285,
    "start_time": "2022-10-24T10:43:24.348Z"
   },
   {
    "duration": 221,
    "start_time": "2022-10-24T10:44:05.481Z"
   },
   {
    "duration": 129,
    "start_time": "2022-10-24T10:44:23.307Z"
   },
   {
    "duration": 23,
    "start_time": "2022-10-24T10:45:13.722Z"
   },
   {
    "duration": 254,
    "start_time": "2022-10-24T10:45:32.260Z"
   },
   {
    "duration": 298,
    "start_time": "2022-10-24T10:45:51.117Z"
   },
   {
    "duration": 143,
    "start_time": "2022-10-24T10:47:40.235Z"
   },
   {
    "duration": 147,
    "start_time": "2022-10-24T10:47:54.482Z"
   },
   {
    "duration": 113,
    "start_time": "2022-10-24T10:48:08.588Z"
   },
   {
    "duration": 404,
    "start_time": "2022-10-24T10:51:58.059Z"
   },
   {
    "duration": 141,
    "start_time": "2022-10-24T10:52:31.551Z"
   },
   {
    "duration": 237,
    "start_time": "2022-10-24T10:56:37.919Z"
   },
   {
    "duration": 247,
    "start_time": "2022-10-24T10:56:52.031Z"
   },
   {
    "duration": 130,
    "start_time": "2022-10-24T10:57:46.346Z"
   },
   {
    "duration": 14,
    "start_time": "2022-10-24T10:57:46.477Z"
   },
   {
    "duration": 34,
    "start_time": "2022-10-24T10:57:46.492Z"
   },
   {
    "duration": 9,
    "start_time": "2022-10-24T10:57:46.528Z"
   },
   {
    "duration": 15,
    "start_time": "2022-10-24T10:57:46.539Z"
   },
   {
    "duration": 40,
    "start_time": "2022-10-24T10:57:46.556Z"
   },
   {
    "duration": 6,
    "start_time": "2022-10-24T10:57:46.598Z"
   },
   {
    "duration": 18,
    "start_time": "2022-10-24T10:57:46.606Z"
   },
   {
    "duration": 9,
    "start_time": "2022-10-24T10:57:46.626Z"
   },
   {
    "duration": 5,
    "start_time": "2022-10-24T10:57:46.638Z"
   },
   {
    "duration": 4,
    "start_time": "2022-10-24T10:57:46.644Z"
   },
   {
    "duration": 14,
    "start_time": "2022-10-24T10:57:46.650Z"
   },
   {
    "duration": 28,
    "start_time": "2022-10-24T10:57:46.667Z"
   },
   {
    "duration": 10,
    "start_time": "2022-10-24T10:57:46.698Z"
   },
   {
    "duration": 11,
    "start_time": "2022-10-24T10:57:46.710Z"
   },
   {
    "duration": 8,
    "start_time": "2022-10-24T10:57:46.723Z"
   },
   {
    "duration": 8,
    "start_time": "2022-10-24T10:57:46.732Z"
   },
   {
    "duration": 10,
    "start_time": "2022-10-24T10:57:46.742Z"
   },
   {
    "duration": 7,
    "start_time": "2022-10-24T10:57:46.755Z"
   },
   {
    "duration": 22,
    "start_time": "2022-10-24T10:57:46.794Z"
   },
   {
    "duration": 9,
    "start_time": "2022-10-24T10:57:46.818Z"
   },
   {
    "duration": 6,
    "start_time": "2022-10-24T10:57:46.829Z"
   },
   {
    "duration": 7,
    "start_time": "2022-10-24T10:57:46.837Z"
   },
   {
    "duration": 10,
    "start_time": "2022-10-24T10:57:46.846Z"
   },
   {
    "duration": 51,
    "start_time": "2022-10-24T10:57:46.858Z"
   },
   {
    "duration": 17,
    "start_time": "2022-10-24T10:57:46.911Z"
   },
   {
    "duration": 26,
    "start_time": "2022-10-24T10:57:46.930Z"
   },
   {
    "duration": 245,
    "start_time": "2022-10-24T10:57:46.960Z"
   },
   {
    "duration": 63,
    "start_time": "2022-10-24T10:57:47.207Z"
   },
   {
    "duration": 911,
    "start_time": "2022-10-24T10:57:47.272Z"
   },
   {
    "duration": 15,
    "start_time": "2022-10-24T10:57:48.184Z"
   },
   {
    "duration": 316,
    "start_time": "2022-10-24T10:57:48.210Z"
   },
   {
    "duration": 3,
    "start_time": "2022-10-24T10:57:48.528Z"
   },
   {
    "duration": 9,
    "start_time": "2022-10-24T10:57:48.532Z"
   },
   {
    "duration": 566,
    "start_time": "2022-10-24T10:57:48.542Z"
   },
   {
    "duration": 7,
    "start_time": "2022-10-24T10:57:49.109Z"
   },
   {
    "duration": 166,
    "start_time": "2022-10-24T10:57:49.117Z"
   },
   {
    "duration": 3,
    "start_time": "2022-10-24T10:57:49.285Z"
   },
   {
    "duration": 12,
    "start_time": "2022-10-24T10:57:49.294Z"
   },
   {
    "duration": 651,
    "start_time": "2022-10-24T10:57:49.307Z"
   },
   {
    "duration": 6,
    "start_time": "2022-10-24T10:57:49.960Z"
   },
   {
    "duration": 41,
    "start_time": "2022-10-24T10:57:49.968Z"
   },
   {
    "duration": 781,
    "start_time": "2022-10-24T10:57:50.011Z"
   },
   {
    "duration": 240,
    "start_time": "2022-10-24T10:57:50.794Z"
   },
   {
    "duration": 183,
    "start_time": "2022-10-24T10:57:51.036Z"
   },
   {
    "duration": 7,
    "start_time": "2022-10-24T10:57:51.221Z"
   },
   {
    "duration": 210,
    "start_time": "2022-10-24T10:57:51.230Z"
   },
   {
    "duration": 10,
    "start_time": "2022-10-24T10:57:51.441Z"
   },
   {
    "duration": 12,
    "start_time": "2022-10-24T10:57:51.454Z"
   },
   {
    "duration": 259,
    "start_time": "2022-10-24T10:57:51.468Z"
   },
   {
    "duration": 255,
    "start_time": "2022-10-24T10:57:51.729Z"
   },
   {
    "duration": 244,
    "start_time": "2022-10-24T10:58:25.279Z"
   },
   {
    "duration": 261,
    "start_time": "2022-10-24T10:59:19.104Z"
   },
   {
    "duration": 245,
    "start_time": "2022-10-24T11:02:33.615Z"
   },
   {
    "duration": 17,
    "start_time": "2022-10-24T11:03:04.907Z"
   },
   {
    "duration": 358,
    "start_time": "2022-10-24T11:03:07.514Z"
   },
   {
    "duration": 258,
    "start_time": "2022-10-24T11:08:24.845Z"
   },
   {
    "duration": 235,
    "start_time": "2022-10-24T11:18:03.145Z"
   },
   {
    "duration": 6,
    "start_time": "2022-10-24T11:27:00.750Z"
   },
   {
    "duration": 9,
    "start_time": "2022-10-24T11:27:26.751Z"
   },
   {
    "duration": 6,
    "start_time": "2022-10-24T11:27:40.441Z"
   },
   {
    "duration": 8,
    "start_time": "2022-10-24T11:27:55.385Z"
   },
   {
    "duration": 6,
    "start_time": "2022-10-24T11:28:15.975Z"
   },
   {
    "duration": 9,
    "start_time": "2022-10-24T11:31:45.606Z"
   },
   {
    "duration": 16,
    "start_time": "2022-10-24T11:39:42.504Z"
   },
   {
    "duration": 17,
    "start_time": "2022-10-24T11:42:12.391Z"
   },
   {
    "duration": 16,
    "start_time": "2022-10-24T11:42:34.543Z"
   },
   {
    "duration": 17,
    "start_time": "2022-10-24T11:42:55.597Z"
   },
   {
    "duration": 17,
    "start_time": "2022-10-24T11:44:16.301Z"
   },
   {
    "duration": 16,
    "start_time": "2022-10-24T11:44:52.487Z"
   },
   {
    "duration": 16,
    "start_time": "2022-10-24T11:45:02.000Z"
   },
   {
    "duration": 15,
    "start_time": "2022-10-24T11:45:35.188Z"
   },
   {
    "duration": 15,
    "start_time": "2022-10-24T11:46:24.166Z"
   },
   {
    "duration": 16,
    "start_time": "2022-10-24T11:46:30.325Z"
   },
   {
    "duration": 17,
    "start_time": "2022-10-24T11:46:34.618Z"
   },
   {
    "duration": 6,
    "start_time": "2022-10-24T11:48:37.169Z"
   },
   {
    "duration": 167,
    "start_time": "2022-10-24T11:48:40.025Z"
   },
   {
    "duration": 3,
    "start_time": "2022-10-24T11:48:59.960Z"
   },
   {
    "duration": 5,
    "start_time": "2022-10-24T11:49:01.647Z"
   },
   {
    "duration": 649,
    "start_time": "2022-10-24T11:49:04.068Z"
   },
   {
    "duration": 7,
    "start_time": "2022-10-24T11:49:14.656Z"
   },
   {
    "duration": 7,
    "start_time": "2022-10-24T11:49:18.987Z"
   },
   {
    "duration": 19,
    "start_time": "2022-10-24T11:49:20.794Z"
   },
   {
    "duration": 618,
    "start_time": "2022-10-24T11:49:24.226Z"
   },
   {
    "duration": 245,
    "start_time": "2022-10-24T11:49:36.891Z"
   },
   {
    "duration": 16,
    "start_time": "2022-10-24T11:50:02.591Z"
   },
   {
    "duration": 20,
    "start_time": "2022-10-24T11:50:07.227Z"
   },
   {
    "duration": 15,
    "start_time": "2022-10-24T11:50:17.708Z"
   },
   {
    "duration": 586,
    "start_time": "2022-10-24T16:16:30.102Z"
   },
   {
    "duration": 15,
    "start_time": "2022-10-24T16:16:30.690Z"
   },
   {
    "duration": 38,
    "start_time": "2022-10-24T16:16:30.707Z"
   },
   {
    "duration": 16,
    "start_time": "2022-10-24T16:16:30.747Z"
   },
   {
    "duration": 38,
    "start_time": "2022-10-24T16:16:30.765Z"
   },
   {
    "duration": 23,
    "start_time": "2022-10-24T16:16:30.805Z"
   },
   {
    "duration": 24,
    "start_time": "2022-10-24T16:16:30.830Z"
   },
   {
    "duration": 33,
    "start_time": "2022-10-24T16:16:30.856Z"
   },
   {
    "duration": 26,
    "start_time": "2022-10-24T16:16:30.891Z"
   },
   {
    "duration": 19,
    "start_time": "2022-10-24T16:16:30.919Z"
   },
   {
    "duration": 19,
    "start_time": "2022-10-24T16:16:30.940Z"
   },
   {
    "duration": 39,
    "start_time": "2022-10-24T16:16:30.960Z"
   },
   {
    "duration": 14,
    "start_time": "2022-10-24T16:16:31.001Z"
   },
   {
    "duration": 56,
    "start_time": "2022-10-24T16:16:31.018Z"
   },
   {
    "duration": 31,
    "start_time": "2022-10-24T16:16:31.076Z"
   },
   {
    "duration": 29,
    "start_time": "2022-10-24T16:16:31.109Z"
   },
   {
    "duration": 39,
    "start_time": "2022-10-24T16:16:31.140Z"
   },
   {
    "duration": 23,
    "start_time": "2022-10-24T16:16:31.181Z"
   },
   {
    "duration": 27,
    "start_time": "2022-10-24T16:16:31.206Z"
   },
   {
    "duration": 49,
    "start_time": "2022-10-24T16:16:31.235Z"
   },
   {
    "duration": 17,
    "start_time": "2022-10-24T16:16:31.287Z"
   },
   {
    "duration": 44,
    "start_time": "2022-10-24T16:16:31.305Z"
   },
   {
    "duration": 28,
    "start_time": "2022-10-24T16:16:31.351Z"
   },
   {
    "duration": 9,
    "start_time": "2022-10-24T16:16:31.381Z"
   },
   {
    "duration": 34,
    "start_time": "2022-10-24T16:16:31.392Z"
   },
   {
    "duration": 900,
    "start_time": "2022-10-24T16:16:31.428Z"
   },
   {
    "duration": 17,
    "start_time": "2022-10-24T16:16:32.330Z"
   },
   {
    "duration": 223,
    "start_time": "2022-10-24T16:16:32.348Z"
   },
   {
    "duration": 63,
    "start_time": "2022-10-24T16:16:32.573Z"
   },
   {
    "duration": 946,
    "start_time": "2022-10-24T16:16:32.638Z"
   },
   {
    "duration": 13,
    "start_time": "2022-10-24T16:16:33.587Z"
   },
   {
    "duration": 363,
    "start_time": "2022-10-24T16:16:33.602Z"
   },
   {
    "duration": 4,
    "start_time": "2022-10-24T16:16:33.966Z"
   },
   {
    "duration": 12,
    "start_time": "2022-10-24T16:16:33.972Z"
   },
   {
    "duration": 560,
    "start_time": "2022-10-24T16:16:33.985Z"
   },
   {
    "duration": 9,
    "start_time": "2022-10-24T16:16:34.547Z"
   },
   {
    "duration": 343,
    "start_time": "2022-10-24T16:16:34.558Z"
   },
   {
    "duration": 3,
    "start_time": "2022-10-24T16:16:34.904Z"
   },
   {
    "duration": 16,
    "start_time": "2022-10-24T16:16:34.909Z"
   },
   {
    "duration": 648,
    "start_time": "2022-10-24T16:16:34.927Z"
   },
   {
    "duration": 7,
    "start_time": "2022-10-24T16:16:35.578Z"
   },
   {
    "duration": 40,
    "start_time": "2022-10-24T16:16:35.587Z"
   },
   {
    "duration": 640,
    "start_time": "2022-10-24T16:16:35.629Z"
   },
   {
    "duration": 244,
    "start_time": "2022-10-24T16:16:36.271Z"
   },
   {
    "duration": 245,
    "start_time": "2022-10-24T16:16:36.516Z"
   },
   {
    "duration": 10,
    "start_time": "2022-10-24T16:16:36.763Z"
   },
   {
    "duration": 186,
    "start_time": "2022-10-24T16:16:36.775Z"
   },
   {
    "duration": 9,
    "start_time": "2022-10-24T16:16:36.962Z"
   },
   {
    "duration": 20,
    "start_time": "2022-10-24T16:16:36.973Z"
   },
   {
    "duration": 239,
    "start_time": "2022-10-24T16:16:36.995Z"
   },
   {
    "duration": 328,
    "start_time": "2022-10-24T16:16:37.235Z"
   },
   {
    "duration": 18,
    "start_time": "2022-10-24T16:16:37.566Z"
   },
   {
    "duration": 32,
    "start_time": "2022-10-24T16:16:37.585Z"
   },
   {
    "duration": 17,
    "start_time": "2022-10-24T16:16:37.621Z"
   },
   {
    "duration": 3,
    "start_time": "2022-10-24T16:32:34.279Z"
   },
   {
    "duration": 4,
    "start_time": "2022-10-24T16:32:45.925Z"
   },
   {
    "duration": 5,
    "start_time": "2022-10-24T16:34:52.497Z"
   },
   {
    "duration": 5,
    "start_time": "2022-10-24T16:36:21.372Z"
   },
   {
    "duration": 5,
    "start_time": "2022-10-24T16:37:25.391Z"
   },
   {
    "duration": 95,
    "start_time": "2022-10-24T16:38:44.423Z"
   },
   {
    "duration": 389,
    "start_time": "2022-10-24T16:38:59.939Z"
   },
   {
    "duration": 142,
    "start_time": "2022-10-24T16:44:26.658Z"
   },
   {
    "duration": 141,
    "start_time": "2022-10-24T16:44:33.198Z"
   },
   {
    "duration": 150,
    "start_time": "2022-10-24T16:45:47.467Z"
   },
   {
    "duration": 145,
    "start_time": "2022-10-24T16:46:03.890Z"
   },
   {
    "duration": 143,
    "start_time": "2022-10-24T16:46:15.759Z"
   },
   {
    "duration": 142,
    "start_time": "2022-10-24T16:46:49.613Z"
   },
   {
    "duration": 147,
    "start_time": "2022-10-24T16:47:27.034Z"
   },
   {
    "duration": 20,
    "start_time": "2022-10-24T16:49:12.803Z"
   },
   {
    "duration": 8,
    "start_time": "2022-10-24T16:49:22.098Z"
   },
   {
    "duration": 9,
    "start_time": "2022-10-24T16:49:46.970Z"
   },
   {
    "duration": 14,
    "start_time": "2022-10-24T16:49:51.392Z"
   },
   {
    "duration": 5,
    "start_time": "2022-10-24T16:50:26.428Z"
   },
   {
    "duration": 161,
    "start_time": "2022-10-24T16:50:30.325Z"
   },
   {
    "duration": 22,
    "start_time": "2022-10-24T17:01:48.043Z"
   },
   {
    "duration": 13,
    "start_time": "2022-10-24T17:01:57.644Z"
   },
   {
    "duration": 14,
    "start_time": "2022-10-24T17:02:10.940Z"
   },
   {
    "duration": 800,
    "start_time": "2022-10-24T17:02:51.595Z"
   },
   {
    "duration": 433,
    "start_time": "2022-10-24T17:02:58.846Z"
   },
   {
    "duration": 350,
    "start_time": "2022-10-24T17:05:58.868Z"
   },
   {
    "duration": 14,
    "start_time": "2022-10-24T17:06:08.065Z"
   },
   {
    "duration": 292,
    "start_time": "2022-10-24T17:06:11.690Z"
   },
   {
    "duration": 12,
    "start_time": "2022-10-24T17:08:30.280Z"
   },
   {
    "duration": 11,
    "start_time": "2022-10-24T17:09:04.359Z"
   },
   {
    "duration": 8,
    "start_time": "2022-10-24T17:09:52.886Z"
   },
   {
    "duration": 160,
    "start_time": "2022-10-24T17:10:00.538Z"
   },
   {
    "duration": 280,
    "start_time": "2022-10-24T17:10:11.044Z"
   },
   {
    "duration": 732,
    "start_time": "2022-10-24T17:11:32.140Z"
   },
   {
    "duration": 303,
    "start_time": "2022-10-24T17:11:45.070Z"
   },
   {
    "duration": 281,
    "start_time": "2022-10-24T17:13:11.866Z"
   },
   {
    "duration": 52,
    "start_time": "2022-10-24T17:19:47.814Z"
   },
   {
    "duration": 12,
    "start_time": "2022-10-24T17:20:03.239Z"
   },
   {
    "duration": 11,
    "start_time": "2022-10-24T17:20:33.487Z"
   },
   {
    "duration": 17,
    "start_time": "2022-10-24T17:20:48.851Z"
   },
   {
    "duration": 125,
    "start_time": "2022-10-24T17:21:13.436Z"
   },
   {
    "duration": 118,
    "start_time": "2022-10-24T17:21:22.328Z"
   },
   {
    "duration": 12,
    "start_time": "2022-10-24T17:22:53.748Z"
   },
   {
    "duration": 13,
    "start_time": "2022-10-24T17:23:21.807Z"
   },
   {
    "duration": 127,
    "start_time": "2022-10-24T17:23:45.416Z"
   },
   {
    "duration": 135,
    "start_time": "2022-10-24T17:25:20.120Z"
   },
   {
    "duration": 2,
    "start_time": "2022-10-24T17:58:07.645Z"
   },
   {
    "duration": 7,
    "start_time": "2022-10-24T18:03:37.864Z"
   },
   {
    "duration": 4,
    "start_time": "2022-10-24T18:07:03.180Z"
   },
   {
    "duration": 7,
    "start_time": "2022-10-24T18:07:31.667Z"
   },
   {
    "duration": 5,
    "start_time": "2022-10-24T18:07:35.269Z"
   },
   {
    "duration": 9,
    "start_time": "2022-10-24T18:14:49.968Z"
   },
   {
    "duration": 10,
    "start_time": "2022-10-24T18:15:03.877Z"
   },
   {
    "duration": 10,
    "start_time": "2022-10-24T18:15:14.455Z"
   },
   {
    "duration": 7,
    "start_time": "2022-10-24T18:16:08.796Z"
   },
   {
    "duration": 6,
    "start_time": "2022-10-24T18:17:10.060Z"
   },
   {
    "duration": 6,
    "start_time": "2022-10-24T18:21:38.148Z"
   },
   {
    "duration": 7,
    "start_time": "2022-10-24T18:22:06.336Z"
   },
   {
    "duration": 5,
    "start_time": "2022-10-24T18:22:08.341Z"
   },
   {
    "duration": 5,
    "start_time": "2022-10-24T18:22:45.778Z"
   },
   {
    "duration": 9,
    "start_time": "2022-10-24T18:29:07.054Z"
   },
   {
    "duration": 4,
    "start_time": "2022-10-24T18:30:46.545Z"
   },
   {
    "duration": 5,
    "start_time": "2022-10-24T18:32:43.494Z"
   },
   {
    "duration": 8,
    "start_time": "2022-10-24T18:38:59.279Z"
   },
   {
    "duration": 6,
    "start_time": "2022-10-24T18:39:05.677Z"
   },
   {
    "duration": 5,
    "start_time": "2022-10-24T18:39:21.776Z"
   },
   {
    "duration": 11,
    "start_time": "2022-10-24T18:39:38.944Z"
   },
   {
    "duration": 179,
    "start_time": "2022-10-24T18:40:49.282Z"
   },
   {
    "duration": 218,
    "start_time": "2022-10-24T18:41:21.003Z"
   },
   {
    "duration": 7,
    "start_time": "2022-10-24T18:41:39.042Z"
   },
   {
    "duration": 83,
    "start_time": "2022-10-24T18:42:01.094Z"
   },
   {
    "duration": 187,
    "start_time": "2022-10-24T18:42:01.180Z"
   },
   {
    "duration": 60,
    "start_time": "2022-10-24T18:42:01.370Z"
   },
   {
    "duration": 15,
    "start_time": "2022-10-24T18:42:01.434Z"
   },
   {
    "duration": 48,
    "start_time": "2022-10-24T18:42:01.451Z"
   },
   {
    "duration": 57,
    "start_time": "2022-10-24T18:42:01.501Z"
   },
   {
    "duration": 20,
    "start_time": "2022-10-24T18:42:01.561Z"
   },
   {
    "duration": 25,
    "start_time": "2022-10-24T18:42:01.583Z"
   },
   {
    "duration": 25,
    "start_time": "2022-10-24T18:42:01.610Z"
   },
   {
    "duration": 28,
    "start_time": "2022-10-24T18:42:01.639Z"
   },
   {
    "duration": 9,
    "start_time": "2022-10-24T18:42:01.670Z"
   },
   {
    "duration": 31,
    "start_time": "2022-10-24T18:42:01.682Z"
   },
   {
    "duration": 10,
    "start_time": "2022-10-24T18:42:01.716Z"
   },
   {
    "duration": 21,
    "start_time": "2022-10-24T18:42:01.729Z"
   },
   {
    "duration": 24,
    "start_time": "2022-10-24T18:42:01.752Z"
   },
   {
    "duration": 24,
    "start_time": "2022-10-24T18:42:01.779Z"
   },
   {
    "duration": 31,
    "start_time": "2022-10-24T18:42:01.805Z"
   },
   {
    "duration": 25,
    "start_time": "2022-10-24T18:42:01.838Z"
   },
   {
    "duration": 20,
    "start_time": "2022-10-24T18:42:01.865Z"
   },
   {
    "duration": 34,
    "start_time": "2022-10-24T18:42:01.887Z"
   },
   {
    "duration": 6,
    "start_time": "2022-10-24T18:42:01.923Z"
   },
   {
    "duration": 25,
    "start_time": "2022-10-24T18:42:01.931Z"
   },
   {
    "duration": 11,
    "start_time": "2022-10-24T18:42:01.960Z"
   },
   {
    "duration": 14,
    "start_time": "2022-10-24T18:42:01.973Z"
   },
   {
    "duration": 26,
    "start_time": "2022-10-24T18:42:01.990Z"
   },
   {
    "duration": 12,
    "start_time": "2022-10-24T18:42:02.018Z"
   },
   {
    "duration": 34,
    "start_time": "2022-10-24T18:42:02.032Z"
   },
   {
    "duration": 191,
    "start_time": "2022-10-24T18:42:02.073Z"
   },
   {
    "duration": 89,
    "start_time": "2022-10-24T18:42:02.265Z"
   },
   {
    "duration": 893,
    "start_time": "2022-10-24T18:42:02.356Z"
   },
   {
    "duration": 13,
    "start_time": "2022-10-24T18:42:03.252Z"
   },
   {
    "duration": 284,
    "start_time": "2022-10-24T18:42:03.267Z"
   },
   {
    "duration": 3,
    "start_time": "2022-10-24T18:42:03.553Z"
   },
   {
    "duration": 20,
    "start_time": "2022-10-24T18:42:03.558Z"
   },
   {
    "duration": 485,
    "start_time": "2022-10-24T18:42:03.580Z"
   },
   {
    "duration": 9,
    "start_time": "2022-10-24T18:42:04.067Z"
   },
   {
    "duration": 187,
    "start_time": "2022-10-24T18:42:04.078Z"
   },
   {
    "duration": 3,
    "start_time": "2022-10-24T18:42:04.267Z"
   },
   {
    "duration": 10,
    "start_time": "2022-10-24T18:42:04.271Z"
   },
   {
    "duration": 620,
    "start_time": "2022-10-24T18:42:04.283Z"
   },
   {
    "duration": 7,
    "start_time": "2022-10-24T18:42:04.905Z"
   },
   {
    "duration": 16,
    "start_time": "2022-10-24T18:42:04.922Z"
   },
   {
    "duration": 661,
    "start_time": "2022-10-24T18:42:04.940Z"
   },
   {
    "duration": 225,
    "start_time": "2022-10-24T18:42:05.603Z"
   },
   {
    "duration": 173,
    "start_time": "2022-10-24T18:42:05.830Z"
   },
   {
    "duration": 18,
    "start_time": "2022-10-24T18:42:06.004Z"
   },
   {
    "duration": 168,
    "start_time": "2022-10-24T18:42:06.024Z"
   },
   {
    "duration": 9,
    "start_time": "2022-10-24T18:42:06.194Z"
   },
   {
    "duration": 21,
    "start_time": "2022-10-24T18:42:06.204Z"
   },
   {
    "duration": 228,
    "start_time": "2022-10-24T18:42:06.226Z"
   },
   {
    "duration": 217,
    "start_time": "2022-10-24T18:42:06.455Z"
   },
   {
    "duration": 14,
    "start_time": "2022-10-24T18:42:06.674Z"
   },
   {
    "duration": 7,
    "start_time": "2022-10-24T18:42:06.690Z"
   },
   {
    "duration": 29,
    "start_time": "2022-10-24T18:42:06.699Z"
   },
   {
    "duration": 8,
    "start_time": "2022-10-24T18:42:06.730Z"
   },
   {
    "duration": 19,
    "start_time": "2022-10-24T18:42:06.740Z"
   },
   {
    "duration": 11,
    "start_time": "2022-10-24T18:42:06.761Z"
   },
   {
    "duration": 164,
    "start_time": "2022-10-24T18:42:06.774Z"
   },
   {
    "duration": 167,
    "start_time": "2022-10-24T18:42:06.939Z"
   },
   {
    "duration": 171,
    "start_time": "2022-10-24T18:42:07.108Z"
   },
   {
    "duration": 12,
    "start_time": "2022-10-24T18:42:07.281Z"
   },
   {
    "duration": 404,
    "start_time": "2022-10-24T18:42:07.295Z"
   },
   {
    "duration": 25,
    "start_time": "2022-10-24T18:42:07.701Z"
   },
   {
    "duration": 296,
    "start_time": "2022-10-24T18:42:07.728Z"
   },
   {
    "duration": 71,
    "start_time": "2022-10-24T18:42:08.026Z"
   },
   {
    "duration": 0,
    "start_time": "2022-10-24T18:42:08.100Z"
   },
   {
    "duration": 0,
    "start_time": "2022-10-24T18:42:08.102Z"
   },
   {
    "duration": 0,
    "start_time": "2022-10-24T18:42:08.103Z"
   },
   {
    "duration": 0,
    "start_time": "2022-10-24T18:42:08.104Z"
   },
   {
    "duration": 0,
    "start_time": "2022-10-24T18:42:08.105Z"
   },
   {
    "duration": 0,
    "start_time": "2022-10-24T18:42:08.106Z"
   },
   {
    "duration": 0,
    "start_time": "2022-10-24T18:42:08.107Z"
   },
   {
    "duration": 0,
    "start_time": "2022-10-24T18:42:08.108Z"
   },
   {
    "duration": 0,
    "start_time": "2022-10-24T18:42:08.110Z"
   },
   {
    "duration": 0,
    "start_time": "2022-10-24T18:42:08.111Z"
   },
   {
    "duration": 0,
    "start_time": "2022-10-24T18:42:08.112Z"
   },
   {
    "duration": 0,
    "start_time": "2022-10-24T18:42:08.113Z"
   },
   {
    "duration": 0,
    "start_time": "2022-10-24T18:42:08.114Z"
   },
   {
    "duration": 0,
    "start_time": "2022-10-24T18:42:08.116Z"
   },
   {
    "duration": 0,
    "start_time": "2022-10-24T18:42:08.116Z"
   },
   {
    "duration": 0,
    "start_time": "2022-10-24T18:42:08.117Z"
   },
   {
    "duration": 0,
    "start_time": "2022-10-24T18:42:08.118Z"
   },
   {
    "duration": 0,
    "start_time": "2022-10-24T18:42:08.119Z"
   },
   {
    "duration": 0,
    "start_time": "2022-10-24T18:42:08.120Z"
   },
   {
    "duration": 16,
    "start_time": "2022-10-24T18:42:45.044Z"
   },
   {
    "duration": 294,
    "start_time": "2022-10-24T18:42:47.458Z"
   },
   {
    "duration": 13,
    "start_time": "2022-10-24T18:42:51.717Z"
   },
   {
    "duration": 128,
    "start_time": "2022-10-24T18:42:54.112Z"
   },
   {
    "duration": 14,
    "start_time": "2022-10-24T18:42:57.655Z"
   },
   {
    "duration": 129,
    "start_time": "2022-10-24T18:42:59.855Z"
   },
   {
    "duration": 99,
    "start_time": "2022-10-24T18:43:02.802Z"
   },
   {
    "duration": 12,
    "start_time": "2022-10-24T18:43:09.319Z"
   },
   {
    "duration": 152,
    "start_time": "2022-10-24T18:43:11.847Z"
   },
   {
    "duration": 4,
    "start_time": "2022-10-24T18:43:14.944Z"
   },
   {
    "duration": 5,
    "start_time": "2022-10-24T18:46:06.022Z"
   },
   {
    "duration": 7,
    "start_time": "2022-10-24T18:55:36.801Z"
   },
   {
    "duration": 6,
    "start_time": "2022-10-24T18:56:34.187Z"
   },
   {
    "duration": 9,
    "start_time": "2022-10-24T18:57:07.401Z"
   },
   {
    "duration": 5,
    "start_time": "2022-10-24T18:57:09.482Z"
   },
   {
    "duration": 593,
    "start_time": "2022-10-24T19:43:29.188Z"
   },
   {
    "duration": 11,
    "start_time": "2022-10-24T19:43:29.783Z"
   },
   {
    "duration": 25,
    "start_time": "2022-10-24T19:43:29.795Z"
   },
   {
    "duration": 8,
    "start_time": "2022-10-24T19:43:29.822Z"
   },
   {
    "duration": 13,
    "start_time": "2022-10-24T19:43:29.831Z"
   },
   {
    "duration": 13,
    "start_time": "2022-10-24T19:43:29.846Z"
   },
   {
    "duration": 3,
    "start_time": "2022-10-24T19:43:29.860Z"
   },
   {
    "duration": 8,
    "start_time": "2022-10-24T19:43:29.864Z"
   },
   {
    "duration": 7,
    "start_time": "2022-10-24T19:43:29.873Z"
   },
   {
    "duration": 4,
    "start_time": "2022-10-24T19:43:29.906Z"
   },
   {
    "duration": 6,
    "start_time": "2022-10-24T19:43:29.911Z"
   },
   {
    "duration": 16,
    "start_time": "2022-10-24T19:43:29.918Z"
   },
   {
    "duration": 13,
    "start_time": "2022-10-24T19:43:29.935Z"
   },
   {
    "duration": 7,
    "start_time": "2022-10-24T19:43:29.950Z"
   },
   {
    "duration": 9,
    "start_time": "2022-10-24T19:43:29.958Z"
   },
   {
    "duration": 6,
    "start_time": "2022-10-24T19:43:29.968Z"
   },
   {
    "duration": 8,
    "start_time": "2022-10-24T19:43:29.975Z"
   },
   {
    "duration": 21,
    "start_time": "2022-10-24T19:43:29.985Z"
   },
   {
    "duration": 5,
    "start_time": "2022-10-24T19:43:30.009Z"
   },
   {
    "duration": 22,
    "start_time": "2022-10-24T19:43:30.016Z"
   },
   {
    "duration": 5,
    "start_time": "2022-10-24T19:43:30.040Z"
   },
   {
    "duration": 9,
    "start_time": "2022-10-24T19:43:30.047Z"
   },
   {
    "duration": 11,
    "start_time": "2022-10-24T19:43:30.058Z"
   },
   {
    "duration": 10,
    "start_time": "2022-10-24T19:43:30.070Z"
   },
   {
    "duration": 18,
    "start_time": "2022-10-24T19:43:30.081Z"
   },
   {
    "duration": 885,
    "start_time": "2022-10-24T19:43:30.101Z"
   },
   {
    "duration": 18,
    "start_time": "2022-10-24T19:43:30.988Z"
   },
   {
    "duration": 184,
    "start_time": "2022-10-24T19:43:31.009Z"
   },
   {
    "duration": 59,
    "start_time": "2022-10-24T19:43:31.194Z"
   },
   {
    "duration": 812,
    "start_time": "2022-10-24T19:43:31.254Z"
   },
   {
    "duration": 11,
    "start_time": "2022-10-24T19:43:32.067Z"
   },
   {
    "duration": 269,
    "start_time": "2022-10-24T19:43:32.079Z"
   },
   {
    "duration": 3,
    "start_time": "2022-10-24T19:43:32.349Z"
   },
   {
    "duration": 15,
    "start_time": "2022-10-24T19:43:32.353Z"
   },
   {
    "duration": 499,
    "start_time": "2022-10-24T19:43:32.369Z"
   },
   {
    "duration": 6,
    "start_time": "2022-10-24T19:43:32.869Z"
   },
   {
    "duration": 210,
    "start_time": "2022-10-24T19:43:32.877Z"
   },
   {
    "duration": 3,
    "start_time": "2022-10-24T19:43:33.088Z"
   },
   {
    "duration": 13,
    "start_time": "2022-10-24T19:43:33.092Z"
   },
   {
    "duration": 554,
    "start_time": "2022-10-24T19:43:33.106Z"
   },
   {
    "duration": 7,
    "start_time": "2022-10-24T19:43:33.661Z"
   },
   {
    "duration": 28,
    "start_time": "2022-10-24T19:43:33.670Z"
   },
   {
    "duration": 548,
    "start_time": "2022-10-24T19:43:33.699Z"
   },
   {
    "duration": 212,
    "start_time": "2022-10-24T19:43:34.249Z"
   },
   {
    "duration": 156,
    "start_time": "2022-10-24T19:43:34.463Z"
   },
   {
    "duration": 6,
    "start_time": "2022-10-24T19:43:34.620Z"
   },
   {
    "duration": 158,
    "start_time": "2022-10-24T19:43:34.628Z"
   },
   {
    "duration": 7,
    "start_time": "2022-10-24T19:43:34.787Z"
   },
   {
    "duration": 12,
    "start_time": "2022-10-24T19:43:34.805Z"
   },
   {
    "duration": 215,
    "start_time": "2022-10-24T19:43:34.818Z"
   },
   {
    "duration": 286,
    "start_time": "2022-10-24T19:43:35.034Z"
   },
   {
    "duration": 14,
    "start_time": "2022-10-24T19:43:35.321Z"
   },
   {
    "duration": 8,
    "start_time": "2022-10-24T19:43:35.336Z"
   },
   {
    "duration": 17,
    "start_time": "2022-10-24T19:43:35.345Z"
   },
   {
    "duration": 4,
    "start_time": "2022-10-24T19:43:35.364Z"
   },
   {
    "duration": 35,
    "start_time": "2022-10-24T19:43:35.370Z"
   },
   {
    "duration": 5,
    "start_time": "2022-10-24T19:43:35.407Z"
   },
   {
    "duration": 147,
    "start_time": "2022-10-24T19:43:35.413Z"
   },
   {
    "duration": 139,
    "start_time": "2022-10-24T19:43:35.561Z"
   },
   {
    "duration": 137,
    "start_time": "2022-10-24T19:43:35.704Z"
   },
   {
    "duration": 12,
    "start_time": "2022-10-24T19:43:35.842Z"
   },
   {
    "duration": 284,
    "start_time": "2022-10-24T19:43:35.855Z"
   },
   {
    "duration": 10,
    "start_time": "2022-10-24T19:43:36.141Z"
   },
   {
    "duration": 278,
    "start_time": "2022-10-24T19:43:36.153Z"
   },
   {
    "duration": 11,
    "start_time": "2022-10-24T19:43:36.432Z"
   },
   {
    "duration": 268,
    "start_time": "2022-10-24T19:43:36.444Z"
   },
   {
    "duration": 11,
    "start_time": "2022-10-24T19:43:36.713Z"
   },
   {
    "duration": 123,
    "start_time": "2022-10-24T19:43:36.726Z"
   },
   {
    "duration": 12,
    "start_time": "2022-10-24T19:43:36.851Z"
   },
   {
    "duration": 131,
    "start_time": "2022-10-24T19:43:36.865Z"
   },
   {
    "duration": 16,
    "start_time": "2022-10-24T19:43:36.998Z"
   },
   {
    "duration": 133,
    "start_time": "2022-10-24T19:43:37.015Z"
   },
   {
    "duration": 2,
    "start_time": "2022-10-24T19:43:37.149Z"
   },
   {
    "duration": 10,
    "start_time": "2022-10-24T19:43:37.153Z"
   },
   {
    "duration": 4,
    "start_time": "2022-10-24T19:43:37.165Z"
   },
   {
    "duration": 7,
    "start_time": "2022-10-24T19:43:37.170Z"
   },
   {
    "duration": 30,
    "start_time": "2022-10-24T19:43:37.179Z"
   },
   {
    "duration": 5,
    "start_time": "2022-10-24T19:43:37.210Z"
   },
   {
    "duration": 5,
    "start_time": "2022-10-24T19:43:37.216Z"
   },
   {
    "duration": 459,
    "start_time": "2022-10-24T19:59:49.827Z"
   },
   {
    "duration": 13,
    "start_time": "2022-10-24T19:59:50.287Z"
   },
   {
    "duration": 27,
    "start_time": "2022-10-24T19:59:50.301Z"
   },
   {
    "duration": 8,
    "start_time": "2022-10-24T19:59:50.331Z"
   },
   {
    "duration": 13,
    "start_time": "2022-10-24T19:59:50.340Z"
   },
   {
    "duration": 14,
    "start_time": "2022-10-24T19:59:50.354Z"
   },
   {
    "duration": 3,
    "start_time": "2022-10-24T19:59:50.370Z"
   },
   {
    "duration": 4,
    "start_time": "2022-10-24T19:59:50.405Z"
   },
   {
    "duration": 11,
    "start_time": "2022-10-24T19:59:50.411Z"
   },
   {
    "duration": 4,
    "start_time": "2022-10-24T19:59:50.425Z"
   },
   {
    "duration": 5,
    "start_time": "2022-10-24T19:59:50.431Z"
   },
   {
    "duration": 14,
    "start_time": "2022-10-24T19:59:50.437Z"
   },
   {
    "duration": 6,
    "start_time": "2022-10-24T19:59:50.452Z"
   },
   {
    "duration": 9,
    "start_time": "2022-10-24T19:59:50.460Z"
   },
   {
    "duration": 10,
    "start_time": "2022-10-24T19:59:50.471Z"
   },
   {
    "duration": 11,
    "start_time": "2022-10-24T19:59:50.511Z"
   },
   {
    "duration": 17,
    "start_time": "2022-10-24T19:59:50.524Z"
   },
   {
    "duration": 16,
    "start_time": "2022-10-24T19:59:50.543Z"
   },
   {
    "duration": 19,
    "start_time": "2022-10-24T19:59:50.560Z"
   },
   {
    "duration": 16,
    "start_time": "2022-10-24T19:59:50.580Z"
   },
   {
    "duration": 7,
    "start_time": "2022-10-24T19:59:50.597Z"
   },
   {
    "duration": 18,
    "start_time": "2022-10-24T19:59:50.606Z"
   },
   {
    "duration": 12,
    "start_time": "2022-10-24T19:59:50.626Z"
   },
   {
    "duration": 9,
    "start_time": "2022-10-24T19:59:50.639Z"
   },
   {
    "duration": 24,
    "start_time": "2022-10-24T19:59:50.649Z"
   },
   {
    "duration": 731,
    "start_time": "2022-10-24T19:59:50.675Z"
   },
   {
    "duration": 17,
    "start_time": "2022-10-24T19:59:51.408Z"
   },
   {
    "duration": 205,
    "start_time": "2022-10-24T19:59:51.430Z"
   },
   {
    "duration": 69,
    "start_time": "2022-10-24T19:59:51.636Z"
   },
   {
    "duration": 780,
    "start_time": "2022-10-24T19:59:51.708Z"
   },
   {
    "duration": 17,
    "start_time": "2022-10-24T19:59:52.489Z"
   },
   {
    "duration": 276,
    "start_time": "2022-10-24T19:59:52.508Z"
   },
   {
    "duration": 3,
    "start_time": "2022-10-24T19:59:52.785Z"
   },
   {
    "duration": 9,
    "start_time": "2022-10-24T19:59:52.789Z"
   },
   {
    "duration": 463,
    "start_time": "2022-10-24T19:59:52.806Z"
   },
   {
    "duration": 7,
    "start_time": "2022-10-24T19:59:53.270Z"
   },
   {
    "duration": 176,
    "start_time": "2022-10-24T19:59:53.278Z"
   },
   {
    "duration": 2,
    "start_time": "2022-10-24T19:59:53.456Z"
   },
   {
    "duration": 6,
    "start_time": "2022-10-24T19:59:53.460Z"
   },
   {
    "duration": 648,
    "start_time": "2022-10-24T19:59:53.468Z"
   },
   {
    "duration": 8,
    "start_time": "2022-10-24T19:59:54.118Z"
   },
   {
    "duration": 24,
    "start_time": "2022-10-24T19:59:54.127Z"
   },
   {
    "duration": 574,
    "start_time": "2022-10-24T19:59:54.153Z"
   },
   {
    "duration": 242,
    "start_time": "2022-10-24T19:59:54.728Z"
   },
   {
    "duration": 188,
    "start_time": "2022-10-24T19:59:54.971Z"
   },
   {
    "duration": 7,
    "start_time": "2022-10-24T19:59:55.160Z"
   },
   {
    "duration": 192,
    "start_time": "2022-10-24T19:59:55.169Z"
   },
   {
    "duration": 7,
    "start_time": "2022-10-24T19:59:55.362Z"
   },
   {
    "duration": 12,
    "start_time": "2022-10-24T19:59:55.371Z"
   },
   {
    "duration": 214,
    "start_time": "2022-10-24T19:59:55.385Z"
   },
   {
    "duration": 212,
    "start_time": "2022-10-24T19:59:55.601Z"
   },
   {
    "duration": 21,
    "start_time": "2022-10-24T19:59:55.815Z"
   },
   {
    "duration": 5,
    "start_time": "2022-10-24T19:59:55.838Z"
   },
   {
    "duration": 18,
    "start_time": "2022-10-24T19:59:55.844Z"
   },
   {
    "duration": 4,
    "start_time": "2022-10-24T19:59:55.864Z"
   },
   {
    "duration": 49,
    "start_time": "2022-10-24T19:59:55.870Z"
   },
   {
    "duration": 12,
    "start_time": "2022-10-24T19:59:55.920Z"
   },
   {
    "duration": 222,
    "start_time": "2022-10-24T19:59:55.934Z"
   },
   {
    "duration": 156,
    "start_time": "2022-10-24T19:59:56.158Z"
   },
   {
    "duration": 155,
    "start_time": "2022-10-24T19:59:56.320Z"
   },
   {
    "duration": 13,
    "start_time": "2022-10-24T19:59:56.476Z"
   },
   {
    "duration": 290,
    "start_time": "2022-10-24T19:59:56.490Z"
   },
   {
    "duration": 11,
    "start_time": "2022-10-24T19:59:56.781Z"
   },
   {
    "duration": 281,
    "start_time": "2022-10-24T19:59:56.793Z"
   },
   {
    "duration": 10,
    "start_time": "2022-10-24T19:59:57.075Z"
   },
   {
    "duration": 311,
    "start_time": "2022-10-24T19:59:57.087Z"
   },
   {
    "duration": 19,
    "start_time": "2022-10-24T19:59:57.400Z"
   },
   {
    "duration": 183,
    "start_time": "2022-10-24T19:59:57.420Z"
   },
   {
    "duration": 20,
    "start_time": "2022-10-24T19:59:57.605Z"
   },
   {
    "duration": 151,
    "start_time": "2022-10-24T19:59:57.628Z"
   },
   {
    "duration": 13,
    "start_time": "2022-10-24T19:59:57.781Z"
   },
   {
    "duration": 143,
    "start_time": "2022-10-24T19:59:57.795Z"
   },
   {
    "duration": 2,
    "start_time": "2022-10-24T19:59:57.940Z"
   },
   {
    "duration": 18,
    "start_time": "2022-10-24T19:59:57.944Z"
   },
   {
    "duration": 4,
    "start_time": "2022-10-24T19:59:57.964Z"
   },
   {
    "duration": 7,
    "start_time": "2022-10-24T19:59:57.970Z"
   },
   {
    "duration": 40,
    "start_time": "2022-10-24T19:59:57.978Z"
   },
   {
    "duration": 39,
    "start_time": "2022-10-24T19:59:58.021Z"
   },
   {
    "duration": 7,
    "start_time": "2022-10-24T19:59:58.061Z"
   },
   {
    "duration": 711,
    "start_time": "2022-10-25T07:08:25.800Z"
   },
   {
    "duration": 15,
    "start_time": "2022-10-25T07:08:26.513Z"
   },
   {
    "duration": 23,
    "start_time": "2022-10-25T07:08:26.530Z"
   },
   {
    "duration": 13,
    "start_time": "2022-10-25T07:08:26.555Z"
   },
   {
    "duration": 15,
    "start_time": "2022-10-25T07:08:26.570Z"
   },
   {
    "duration": 19,
    "start_time": "2022-10-25T07:08:26.586Z"
   },
   {
    "duration": 4,
    "start_time": "2022-10-25T07:08:26.621Z"
   },
   {
    "duration": 11,
    "start_time": "2022-10-25T07:08:26.627Z"
   },
   {
    "duration": 10,
    "start_time": "2022-10-25T07:08:26.639Z"
   },
   {
    "duration": 5,
    "start_time": "2022-10-25T07:08:26.652Z"
   },
   {
    "duration": 7,
    "start_time": "2022-10-25T07:08:26.659Z"
   },
   {
    "duration": 21,
    "start_time": "2022-10-25T07:08:26.667Z"
   },
   {
    "duration": 11,
    "start_time": "2022-10-25T07:08:26.690Z"
   },
   {
    "duration": 26,
    "start_time": "2022-10-25T07:08:26.703Z"
   },
   {
    "duration": 43,
    "start_time": "2022-10-25T07:08:26.731Z"
   },
   {
    "duration": 8,
    "start_time": "2022-10-25T07:08:26.776Z"
   },
   {
    "duration": 11,
    "start_time": "2022-10-25T07:08:26.786Z"
   },
   {
    "duration": 6,
    "start_time": "2022-10-25T07:08:26.799Z"
   },
   {
    "duration": 15,
    "start_time": "2022-10-25T07:08:26.807Z"
   },
   {
    "duration": 24,
    "start_time": "2022-10-25T07:08:26.823Z"
   },
   {
    "duration": 5,
    "start_time": "2022-10-25T07:08:26.849Z"
   },
   {
    "duration": 6,
    "start_time": "2022-10-25T07:08:26.856Z"
   },
   {
    "duration": 8,
    "start_time": "2022-10-25T07:08:26.864Z"
   },
   {
    "duration": 6,
    "start_time": "2022-10-25T07:08:26.874Z"
   },
   {
    "duration": 43,
    "start_time": "2022-10-25T07:08:26.881Z"
   },
   {
    "duration": 702,
    "start_time": "2022-10-25T07:08:26.926Z"
   },
   {
    "duration": 15,
    "start_time": "2022-10-25T07:08:27.630Z"
   },
   {
    "duration": 268,
    "start_time": "2022-10-25T07:08:27.650Z"
   },
   {
    "duration": 55,
    "start_time": "2022-10-25T07:08:27.921Z"
   },
   {
    "duration": 837,
    "start_time": "2022-10-25T07:08:27.978Z"
   },
   {
    "duration": 8,
    "start_time": "2022-10-25T07:08:28.817Z"
   },
   {
    "duration": 307,
    "start_time": "2022-10-25T07:08:28.827Z"
   },
   {
    "duration": 3,
    "start_time": "2022-10-25T07:08:29.136Z"
   },
   {
    "duration": 11,
    "start_time": "2022-10-25T07:08:29.140Z"
   },
   {
    "duration": 489,
    "start_time": "2022-10-25T07:08:29.153Z"
   },
   {
    "duration": 5,
    "start_time": "2022-10-25T07:08:29.644Z"
   },
   {
    "duration": 154,
    "start_time": "2022-10-25T07:08:29.651Z"
   },
   {
    "duration": 3,
    "start_time": "2022-10-25T07:08:29.807Z"
   },
   {
    "duration": 15,
    "start_time": "2022-10-25T07:08:29.812Z"
   },
   {
    "duration": 616,
    "start_time": "2022-10-25T07:08:29.829Z"
   },
   {
    "duration": 6,
    "start_time": "2022-10-25T07:08:30.447Z"
   },
   {
    "duration": 41,
    "start_time": "2022-10-25T07:08:30.455Z"
   },
   {
    "duration": 740,
    "start_time": "2022-10-25T07:08:30.498Z"
   },
   {
    "duration": 250,
    "start_time": "2022-10-25T07:08:31.240Z"
   },
   {
    "duration": 173,
    "start_time": "2022-10-25T07:08:31.492Z"
   },
   {
    "duration": 7,
    "start_time": "2022-10-25T07:08:31.667Z"
   },
   {
    "duration": 208,
    "start_time": "2022-10-25T07:08:31.676Z"
   },
   {
    "duration": 7,
    "start_time": "2022-10-25T07:08:31.886Z"
   },
   {
    "duration": 31,
    "start_time": "2022-10-25T07:08:31.894Z"
   },
   {
    "duration": 235,
    "start_time": "2022-10-25T07:08:31.927Z"
   },
   {
    "duration": 217,
    "start_time": "2022-10-25T07:08:32.164Z"
   },
   {
    "duration": 12,
    "start_time": "2022-10-25T07:08:32.383Z"
   },
   {
    "duration": 50,
    "start_time": "2022-10-25T07:08:32.396Z"
   },
   {
    "duration": 36,
    "start_time": "2022-10-25T07:08:32.448Z"
   },
   {
    "duration": 17,
    "start_time": "2022-10-25T07:08:32.486Z"
   },
   {
    "duration": 40,
    "start_time": "2022-10-25T07:08:32.505Z"
   },
   {
    "duration": 10,
    "start_time": "2022-10-25T07:08:32.546Z"
   },
   {
    "duration": 203,
    "start_time": "2022-10-25T07:08:32.559Z"
   },
   {
    "duration": 171,
    "start_time": "2022-10-25T07:08:32.764Z"
   },
   {
    "duration": 161,
    "start_time": "2022-10-25T07:08:32.937Z"
   },
   {
    "duration": 22,
    "start_time": "2022-10-25T07:08:33.101Z"
   },
   {
    "duration": 337,
    "start_time": "2022-10-25T07:08:33.125Z"
   },
   {
    "duration": 10,
    "start_time": "2022-10-25T07:08:33.464Z"
   },
   {
    "duration": 393,
    "start_time": "2022-10-25T07:08:33.476Z"
   },
   {
    "duration": 10,
    "start_time": "2022-10-25T07:08:33.872Z"
   },
   {
    "duration": 279,
    "start_time": "2022-10-25T07:08:33.884Z"
   },
   {
    "duration": 11,
    "start_time": "2022-10-25T07:08:34.164Z"
   },
   {
    "duration": 144,
    "start_time": "2022-10-25T07:08:34.176Z"
   },
   {
    "duration": 12,
    "start_time": "2022-10-25T07:08:34.322Z"
   },
   {
    "duration": 139,
    "start_time": "2022-10-25T07:08:34.336Z"
   },
   {
    "duration": 11,
    "start_time": "2022-10-25T07:08:34.477Z"
   },
   {
    "duration": 143,
    "start_time": "2022-10-25T07:08:34.489Z"
   },
   {
    "duration": 3,
    "start_time": "2022-10-25T07:08:34.634Z"
   },
   {
    "duration": 24,
    "start_time": "2022-10-25T07:08:34.638Z"
   },
   {
    "duration": 8,
    "start_time": "2022-10-25T07:08:34.664Z"
   },
   {
    "duration": 34,
    "start_time": "2022-10-25T07:08:34.674Z"
   },
   {
    "duration": 17,
    "start_time": "2022-10-25T07:08:34.710Z"
   },
   {
    "duration": 18,
    "start_time": "2022-10-25T07:08:34.729Z"
   },
   {
    "duration": 21,
    "start_time": "2022-10-25T07:08:34.749Z"
   },
   {
    "duration": 59,
    "start_time": "2022-10-25T07:32:17.197Z"
   },
   {
    "duration": 17,
    "start_time": "2022-10-25T07:32:17.258Z"
   },
   {
    "duration": 51,
    "start_time": "2022-10-25T07:32:17.277Z"
   },
   {
    "duration": 12,
    "start_time": "2022-10-25T07:32:17.331Z"
   },
   {
    "duration": 36,
    "start_time": "2022-10-25T07:32:17.345Z"
   },
   {
    "duration": 21,
    "start_time": "2022-10-25T07:32:17.383Z"
   },
   {
    "duration": 3,
    "start_time": "2022-10-25T07:32:17.406Z"
   },
   {
    "duration": 4,
    "start_time": "2022-10-25T07:32:17.422Z"
   },
   {
    "duration": 8,
    "start_time": "2022-10-25T07:32:17.428Z"
   },
   {
    "duration": 4,
    "start_time": "2022-10-25T07:32:17.439Z"
   },
   {
    "duration": 7,
    "start_time": "2022-10-25T07:32:17.445Z"
   },
   {
    "duration": 25,
    "start_time": "2022-10-25T07:32:17.453Z"
   },
   {
    "duration": 7,
    "start_time": "2022-10-25T07:32:17.480Z"
   },
   {
    "duration": 11,
    "start_time": "2022-10-25T07:32:17.489Z"
   },
   {
    "duration": 31,
    "start_time": "2022-10-25T07:32:17.502Z"
   },
   {
    "duration": 10,
    "start_time": "2022-10-25T07:32:17.535Z"
   },
   {
    "duration": 10,
    "start_time": "2022-10-25T07:32:17.547Z"
   },
   {
    "duration": 6,
    "start_time": "2022-10-25T07:32:17.558Z"
   },
   {
    "duration": 6,
    "start_time": "2022-10-25T07:32:17.566Z"
   },
   {
    "duration": 17,
    "start_time": "2022-10-25T07:32:17.574Z"
   },
   {
    "duration": 4,
    "start_time": "2022-10-25T07:32:17.593Z"
   },
   {
    "duration": 26,
    "start_time": "2022-10-25T07:32:17.598Z"
   },
   {
    "duration": 7,
    "start_time": "2022-10-25T07:32:17.625Z"
   },
   {
    "duration": 7,
    "start_time": "2022-10-25T07:32:17.634Z"
   },
   {
    "duration": 16,
    "start_time": "2022-10-25T07:32:17.642Z"
   },
   {
    "duration": 5,
    "start_time": "2022-10-25T07:32:17.659Z"
   },
   {
    "duration": 15,
    "start_time": "2022-10-25T07:32:17.666Z"
   },
   {
    "duration": 178,
    "start_time": "2022-10-25T07:32:17.684Z"
   },
   {
    "duration": 58,
    "start_time": "2022-10-25T07:32:17.863Z"
   },
   {
    "duration": 723,
    "start_time": "2022-10-25T07:32:17.923Z"
   },
   {
    "duration": 8,
    "start_time": "2022-10-25T07:32:18.648Z"
   },
   {
    "duration": 245,
    "start_time": "2022-10-25T07:32:18.657Z"
   },
   {
    "duration": 2,
    "start_time": "2022-10-25T07:32:18.904Z"
   },
   {
    "duration": 13,
    "start_time": "2022-10-25T07:32:18.908Z"
   },
   {
    "duration": 547,
    "start_time": "2022-10-25T07:32:18.923Z"
   },
   {
    "duration": 5,
    "start_time": "2022-10-25T07:32:19.472Z"
   },
   {
    "duration": 140,
    "start_time": "2022-10-25T07:32:19.479Z"
   },
   {
    "duration": 3,
    "start_time": "2022-10-25T07:32:19.621Z"
   },
   {
    "duration": 7,
    "start_time": "2022-10-25T07:32:19.626Z"
   },
   {
    "duration": 560,
    "start_time": "2022-10-25T07:32:19.634Z"
   },
   {
    "duration": 6,
    "start_time": "2022-10-25T07:32:20.195Z"
   },
   {
    "duration": 22,
    "start_time": "2022-10-25T07:32:20.203Z"
   },
   {
    "duration": 528,
    "start_time": "2022-10-25T07:32:20.227Z"
   },
   {
    "duration": 199,
    "start_time": "2022-10-25T07:32:20.757Z"
   },
   {
    "duration": 156,
    "start_time": "2022-10-25T07:32:20.957Z"
   },
   {
    "duration": 9,
    "start_time": "2022-10-25T07:32:21.115Z"
   },
   {
    "duration": 252,
    "start_time": "2022-10-25T07:32:21.126Z"
   },
   {
    "duration": 8,
    "start_time": "2022-10-25T07:32:21.380Z"
   },
   {
    "duration": 15,
    "start_time": "2022-10-25T07:32:21.390Z"
   },
   {
    "duration": 216,
    "start_time": "2022-10-25T07:32:21.406Z"
   },
   {
    "duration": 224,
    "start_time": "2022-10-25T07:32:21.624Z"
   },
   {
    "duration": 12,
    "start_time": "2022-10-25T07:32:21.850Z"
   },
   {
    "duration": 6,
    "start_time": "2022-10-25T07:32:21.864Z"
   },
   {
    "duration": 33,
    "start_time": "2022-10-25T07:32:21.872Z"
   },
   {
    "duration": 4,
    "start_time": "2022-10-25T07:32:21.906Z"
   },
   {
    "duration": 16,
    "start_time": "2022-10-25T07:32:21.912Z"
   },
   {
    "duration": 4,
    "start_time": "2022-10-25T07:32:21.929Z"
   },
   {
    "duration": 148,
    "start_time": "2022-10-25T07:32:21.935Z"
   },
   {
    "duration": 142,
    "start_time": "2022-10-25T07:32:22.085Z"
   },
   {
    "duration": 145,
    "start_time": "2022-10-25T07:32:47.112Z"
   },
   {
    "duration": 1238,
    "start_time": "2022-10-25T18:41:50.202Z"
   },
   {
    "duration": 3,
    "start_time": "2022-10-25T18:43:44.442Z"
   },
   {
    "duration": 49,
    "start_time": "2022-10-25T18:45:49.474Z"
   },
   {
    "duration": 109,
    "start_time": "2022-10-25T18:48:41.807Z"
   },
   {
    "duration": 14,
    "start_time": "2022-10-25T18:48:46.573Z"
   },
   {
    "duration": 28,
    "start_time": "2022-10-25T18:48:50.496Z"
   },
   {
    "duration": 9,
    "start_time": "2022-10-25T18:48:54.115Z"
   },
   {
    "duration": 13,
    "start_time": "2022-10-25T18:49:04.661Z"
   },
   {
    "duration": 747,
    "start_time": "2022-10-25T19:14:32.325Z"
   },
   {
    "duration": 671,
    "start_time": "2022-10-25T19:14:36.936Z"
   },
   {
    "duration": 690,
    "start_time": "2022-10-25T19:26:45.814Z"
   },
   {
    "duration": 63,
    "start_time": "2022-10-25T19:27:03.597Z"
   },
   {
    "duration": 14,
    "start_time": "2022-10-25T19:27:07.116Z"
   },
   {
    "duration": 27,
    "start_time": "2022-10-25T19:27:09.888Z"
   },
   {
    "duration": 9,
    "start_time": "2022-10-25T19:27:12.452Z"
   },
   {
    "duration": 12,
    "start_time": "2022-10-25T19:27:15.635Z"
   },
   {
    "duration": 15,
    "start_time": "2022-10-25T19:27:20.476Z"
   },
   {
    "duration": 13,
    "start_time": "2022-10-25T19:27:40.468Z"
   },
   {
    "duration": 16,
    "start_time": "2022-10-25T19:29:03.025Z"
   },
   {
    "duration": 9,
    "start_time": "2022-10-25T19:29:25.961Z"
   },
   {
    "duration": 7,
    "start_time": "2022-10-25T19:44:02.619Z"
   },
   {
    "duration": 4,
    "start_time": "2022-10-25T19:44:08.023Z"
   },
   {
    "duration": 3,
    "start_time": "2022-10-25T19:44:19.055Z"
   },
   {
    "duration": 8,
    "start_time": "2022-10-25T19:44:22.222Z"
   },
   {
    "duration": 8,
    "start_time": "2022-10-25T19:44:32.852Z"
   },
   {
    "duration": 2,
    "start_time": "2022-10-25T19:44:49.468Z"
   },
   {
    "duration": 61,
    "start_time": "2022-10-25T19:44:51.439Z"
   },
   {
    "duration": 13,
    "start_time": "2022-10-25T19:44:54.976Z"
   },
   {
    "duration": 27,
    "start_time": "2022-10-25T19:44:57.497Z"
   },
   {
    "duration": 10,
    "start_time": "2022-10-25T19:45:00.396Z"
   },
   {
    "duration": 12,
    "start_time": "2022-10-25T19:45:04.087Z"
   },
   {
    "duration": 15,
    "start_time": "2022-10-25T19:45:07.374Z"
   },
   {
    "duration": 4,
    "start_time": "2022-10-25T19:45:10.963Z"
   },
   {
    "duration": 5,
    "start_time": "2022-10-25T19:45:19.784Z"
   },
   {
    "duration": 4,
    "start_time": "2022-10-25T19:45:31.483Z"
   },
   {
    "duration": 3,
    "start_time": "2022-10-25T19:45:33.036Z"
   },
   {
    "duration": 7,
    "start_time": "2022-10-25T19:59:44.336Z"
   },
   {
    "duration": 7,
    "start_time": "2022-10-25T19:59:58.777Z"
   },
   {
    "duration": 5,
    "start_time": "2022-10-25T20:00:02.440Z"
   },
   {
    "duration": 4,
    "start_time": "2022-10-25T20:00:04.516Z"
   },
   {
    "duration": 21,
    "start_time": "2022-10-25T20:00:10.639Z"
   },
   {
    "duration": 9,
    "start_time": "2022-10-25T20:00:20.916Z"
   },
   {
    "duration": 7,
    "start_time": "2022-10-25T20:00:20.982Z"
   },
   {
    "duration": 9,
    "start_time": "2022-10-25T20:00:26.990Z"
   },
   {
    "duration": 695,
    "start_time": "2022-10-25T20:03:48.968Z"
   },
   {
    "duration": 5,
    "start_time": "2022-10-25T20:04:09.604Z"
   },
   {
    "duration": 5,
    "start_time": "2022-10-25T20:04:31.038Z"
   },
   {
    "duration": 14,
    "start_time": "2022-10-25T20:15:15.752Z"
   },
   {
    "duration": 293,
    "start_time": "2022-10-25T20:18:09.912Z"
   },
   {
    "duration": 183,
    "start_time": "2022-10-25T20:19:11.218Z"
   },
   {
    "duration": 191,
    "start_time": "2022-10-25T20:19:31.893Z"
   },
   {
    "duration": 193,
    "start_time": "2022-10-25T20:20:52.335Z"
   },
   {
    "duration": 191,
    "start_time": "2022-10-25T20:21:16.898Z"
   },
   {
    "duration": 129,
    "start_time": "2022-10-25T20:25:58.394Z"
   },
   {
    "duration": 10,
    "start_time": "2022-10-25T20:26:10.293Z"
   },
   {
    "duration": 10,
    "start_time": "2022-10-25T20:26:17.858Z"
   },
   {
    "duration": 5,
    "start_time": "2022-10-25T20:26:40.916Z"
   },
   {
    "duration": 16,
    "start_time": "2022-10-25T20:26:43.617Z"
   },
   {
    "duration": 16,
    "start_time": "2022-10-25T20:26:46.805Z"
   },
   {
    "duration": 14,
    "start_time": "2022-10-25T20:26:55.265Z"
   },
   {
    "duration": 272,
    "start_time": "2022-10-25T20:27:08.712Z"
   },
   {
    "duration": 61,
    "start_time": "2022-10-25T20:27:16.106Z"
   },
   {
    "duration": 12,
    "start_time": "2022-10-25T20:27:23.571Z"
   },
   {
    "duration": 9,
    "start_time": "2022-10-25T20:27:33.178Z"
   },
   {
    "duration": 373,
    "start_time": "2022-10-25T20:27:36.509Z"
   },
   {
    "duration": 270,
    "start_time": "2022-10-25T20:27:49.450Z"
   },
   {
    "duration": 336,
    "start_time": "2022-10-25T20:28:16.253Z"
   },
   {
    "duration": 305,
    "start_time": "2022-10-25T20:29:36.994Z"
   },
   {
    "duration": 288,
    "start_time": "2022-10-25T20:29:58.996Z"
   },
   {
    "duration": 12,
    "start_time": "2022-10-25T20:32:10.036Z"
   },
   {
    "duration": 354,
    "start_time": "2022-10-25T20:32:13.736Z"
   },
   {
    "duration": 4,
    "start_time": "2022-10-25T20:33:09.206Z"
   },
   {
    "duration": 5,
    "start_time": "2022-10-25T20:37:05.250Z"
   },
   {
    "duration": 570,
    "start_time": "2022-10-25T20:37:08.386Z"
   },
   {
    "duration": 6,
    "start_time": "2022-10-25T20:37:34.698Z"
   },
   {
    "duration": 140,
    "start_time": "2022-10-25T20:39:03.026Z"
   },
   {
    "duration": 138,
    "start_time": "2022-10-25T20:39:50.206Z"
   },
   {
    "duration": 146,
    "start_time": "2022-10-25T20:41:16.708Z"
   },
   {
    "duration": 4,
    "start_time": "2022-10-25T20:43:33.884Z"
   },
   {
    "duration": 510,
    "start_time": "2022-10-25T20:43:36.999Z"
   },
   {
    "duration": 159,
    "start_time": "2022-10-25T20:44:15.035Z"
   },
   {
    "duration": 12,
    "start_time": "2022-10-25T20:44:46.561Z"
   },
   {
    "duration": 14,
    "start_time": "2022-10-25T20:46:34.844Z"
   },
   {
    "duration": 166,
    "start_time": "2022-10-25T20:46:49.254Z"
   },
   {
    "duration": 7,
    "start_time": "2022-10-25T20:46:55.257Z"
   },
   {
    "duration": 249,
    "start_time": "2022-10-25T20:47:17.888Z"
   },
   {
    "duration": 3,
    "start_time": "2022-10-25T20:47:23.899Z"
   },
   {
    "duration": 4,
    "start_time": "2022-10-25T20:49:01.024Z"
   },
   {
    "duration": 643,
    "start_time": "2022-10-25T20:49:05.310Z"
   },
   {
    "duration": 5,
    "start_time": "2022-10-25T20:49:20.777Z"
   },
   {
    "duration": 236,
    "start_time": "2022-10-25T20:49:23.174Z"
   },
   {
    "duration": 4,
    "start_time": "2022-10-25T20:49:50.785Z"
   },
   {
    "duration": 270,
    "start_time": "2022-10-25T20:49:52.741Z"
   },
   {
    "duration": 6,
    "start_time": "2022-10-25T20:50:06.706Z"
   },
   {
    "duration": 18,
    "start_time": "2022-10-25T20:50:09.520Z"
   },
   {
    "duration": 4,
    "start_time": "2022-10-25T20:52:29.142Z"
   },
   {
    "duration": 3,
    "start_time": "2022-10-25T20:52:31.392Z"
   },
   {
    "duration": 17,
    "start_time": "2022-10-25T20:52:34.839Z"
   },
   {
    "duration": 6,
    "start_time": "2022-10-25T20:53:06.411Z"
   },
   {
    "duration": 17,
    "start_time": "2022-10-25T20:53:11.587Z"
   },
   {
    "duration": 230,
    "start_time": "2022-10-25T20:53:27.653Z"
   },
   {
    "duration": 248,
    "start_time": "2022-10-25T20:53:41.509Z"
   },
   {
    "duration": 165,
    "start_time": "2022-10-25T20:53:55.344Z"
   },
   {
    "duration": 4,
    "start_time": "2022-10-25T20:54:28.395Z"
   },
   {
    "duration": 266,
    "start_time": "2022-10-25T20:54:32.148Z"
   },
   {
    "duration": 8,
    "start_time": "2022-10-25T20:56:01.974Z"
   },
   {
    "duration": 15,
    "start_time": "2022-10-25T20:56:09.873Z"
   },
   {
    "duration": 4,
    "start_time": "2022-10-25T20:56:14.552Z"
   },
   {
    "duration": 361,
    "start_time": "2022-10-25T20:56:18.689Z"
   },
   {
    "duration": 324,
    "start_time": "2022-10-25T20:56:41.216Z"
   },
   {
    "duration": 55,
    "start_time": "2022-10-25T20:57:45.614Z"
   },
   {
    "duration": 177,
    "start_time": "2022-10-25T20:57:54.782Z"
   },
   {
    "duration": 178,
    "start_time": "2022-10-25T21:00:22.351Z"
   },
   {
    "duration": 9,
    "start_time": "2022-10-25T21:04:54.660Z"
   },
   {
    "duration": 6,
    "start_time": "2022-10-25T21:07:05.697Z"
   },
   {
    "duration": 149,
    "start_time": "2022-10-25T21:08:17.485Z"
   },
   {
    "duration": 160,
    "start_time": "2022-10-25T21:08:49.285Z"
   },
   {
    "duration": 200,
    "start_time": "2022-10-25T21:09:30.272Z"
   },
   {
    "duration": 5,
    "start_time": "2022-10-25T21:09:53.513Z"
   },
   {
    "duration": 168,
    "start_time": "2022-10-25T21:10:10.846Z"
   },
   {
    "duration": 166,
    "start_time": "2022-10-25T21:11:09.985Z"
   },
   {
    "duration": 156,
    "start_time": "2022-10-25T21:11:15.966Z"
   },
   {
    "duration": 139,
    "start_time": "2022-10-25T21:11:41.800Z"
   },
   {
    "duration": 162,
    "start_time": "2022-10-25T21:15:36.938Z"
   },
   {
    "duration": 3,
    "start_time": "2022-10-25T21:16:00.471Z"
   },
   {
    "duration": 68,
    "start_time": "2022-10-25T21:16:00.478Z"
   },
   {
    "duration": 12,
    "start_time": "2022-10-25T21:16:00.548Z"
   },
   {
    "duration": 51,
    "start_time": "2022-10-25T21:16:00.561Z"
   },
   {
    "duration": 11,
    "start_time": "2022-10-25T21:16:01.221Z"
   },
   {
    "duration": 28,
    "start_time": "2022-10-25T21:16:01.234Z"
   },
   {
    "duration": 55,
    "start_time": "2022-10-25T21:16:01.264Z"
   },
   {
    "duration": 3,
    "start_time": "2022-10-25T21:16:01.321Z"
   },
   {
    "duration": 21,
    "start_time": "2022-10-25T21:16:01.326Z"
   },
   {
    "duration": 27,
    "start_time": "2022-10-25T21:16:01.349Z"
   },
   {
    "duration": 4,
    "start_time": "2022-10-25T21:16:01.421Z"
   },
   {
    "duration": 16,
    "start_time": "2022-10-25T21:16:01.427Z"
   },
   {
    "duration": 16,
    "start_time": "2022-10-25T21:16:01.445Z"
   },
   {
    "duration": 7,
    "start_time": "2022-10-25T21:16:01.462Z"
   },
   {
    "duration": 7,
    "start_time": "2022-10-25T21:16:01.590Z"
   },
   {
    "duration": 14,
    "start_time": "2022-10-25T21:16:01.598Z"
   },
   {
    "duration": 13,
    "start_time": "2022-10-25T21:16:01.613Z"
   },
   {
    "duration": 11,
    "start_time": "2022-10-25T21:16:01.628Z"
   },
   {
    "duration": 9,
    "start_time": "2022-10-25T21:16:01.640Z"
   },
   {
    "duration": 7,
    "start_time": "2022-10-25T21:16:01.650Z"
   },
   {
    "duration": 16,
    "start_time": "2022-10-25T21:16:01.659Z"
   },
   {
    "duration": 5,
    "start_time": "2022-10-25T21:16:01.676Z"
   },
   {
    "duration": 7,
    "start_time": "2022-10-25T21:16:01.683Z"
   },
   {
    "duration": 7,
    "start_time": "2022-10-25T21:16:01.692Z"
   },
   {
    "duration": 7,
    "start_time": "2022-10-25T21:16:01.700Z"
   },
   {
    "duration": 8,
    "start_time": "2022-10-25T21:16:01.709Z"
   },
   {
    "duration": 4,
    "start_time": "2022-10-25T21:16:01.734Z"
   },
   {
    "duration": 18,
    "start_time": "2022-10-25T21:16:01.740Z"
   },
   {
    "duration": 15,
    "start_time": "2022-10-25T21:16:03.429Z"
   },
   {
    "duration": 212,
    "start_time": "2022-10-25T21:16:03.446Z"
   },
   {
    "duration": 55,
    "start_time": "2022-10-25T21:16:03.659Z"
   },
   {
    "duration": 823,
    "start_time": "2022-10-25T21:16:03.733Z"
   },
   {
    "duration": 9,
    "start_time": "2022-10-25T21:16:04.558Z"
   },
   {
    "duration": 286,
    "start_time": "2022-10-25T21:16:04.569Z"
   },
   {
    "duration": 3,
    "start_time": "2022-10-25T21:16:04.856Z"
   },
   {
    "duration": 9,
    "start_time": "2022-10-25T21:16:04.860Z"
   },
   {
    "duration": 545,
    "start_time": "2022-10-25T21:16:04.871Z"
   },
   {
    "duration": 6,
    "start_time": "2022-10-25T21:16:05.417Z"
   },
   {
    "duration": 171,
    "start_time": "2022-10-25T21:16:05.426Z"
   },
   {
    "duration": 3,
    "start_time": "2022-10-25T21:16:05.600Z"
   },
   {
    "duration": 45,
    "start_time": "2022-10-25T21:16:05.605Z"
   },
   {
    "duration": 5,
    "start_time": "2022-10-25T21:16:05.652Z"
   },
   {
    "duration": 315,
    "start_time": "2022-10-25T21:16:05.658Z"
   },
   {
    "duration": 7,
    "start_time": "2022-10-25T21:16:05.975Z"
   },
   {
    "duration": 19,
    "start_time": "2022-10-25T21:16:05.983Z"
   },
   {
    "duration": 181,
    "start_time": "2022-10-25T21:16:06.004Z"
   },
   {
    "duration": 238,
    "start_time": "2022-10-25T21:16:06.187Z"
   },
   {
    "duration": 161,
    "start_time": "2022-10-25T21:16:06.428Z"
   },
   {
    "duration": 6,
    "start_time": "2022-10-25T21:16:06.591Z"
   },
   {
    "duration": 177,
    "start_time": "2022-10-25T21:16:06.599Z"
   },
   {
    "duration": 7,
    "start_time": "2022-10-25T21:16:07.136Z"
   },
   {
    "duration": 5,
    "start_time": "2022-10-25T21:20:51.909Z"
   },
   {
    "duration": 7,
    "start_time": "2022-10-25T21:25:13.693Z"
   },
   {
    "duration": 7,
    "start_time": "2022-10-25T21:26:39.649Z"
   },
   {
    "duration": 211,
    "start_time": "2022-10-25T21:29:49.247Z"
   },
   {
    "duration": 205,
    "start_time": "2022-10-25T21:31:07.374Z"
   },
   {
    "duration": 213,
    "start_time": "2022-10-25T21:32:12.637Z"
   },
   {
    "duration": 14,
    "start_time": "2022-10-25T21:36:07.734Z"
   },
   {
    "duration": 6,
    "start_time": "2022-10-25T21:36:15.859Z"
   },
   {
    "duration": 14,
    "start_time": "2022-10-25T21:36:22.031Z"
   },
   {
    "duration": 15,
    "start_time": "2022-10-25T21:37:27.005Z"
   },
   {
    "duration": 6,
    "start_time": "2022-10-25T21:37:30.889Z"
   },
   {
    "duration": 267,
    "start_time": "2022-10-25T21:37:36.190Z"
   },
   {
    "duration": 810,
    "start_time": "2022-10-25T21:37:57.867Z"
   },
   {
    "duration": 14,
    "start_time": "2022-10-25T21:38:15.950Z"
   },
   {
    "duration": 6,
    "start_time": "2022-10-25T21:38:20.821Z"
   },
   {
    "duration": 13,
    "start_time": "2022-10-25T21:38:24.185Z"
   },
   {
    "duration": 6,
    "start_time": "2022-10-25T21:38:28.977Z"
   },
   {
    "duration": 14,
    "start_time": "2022-10-25T21:38:33.875Z"
   },
   {
    "duration": 6,
    "start_time": "2022-10-25T21:38:42.674Z"
   },
   {
    "duration": 156,
    "start_time": "2022-10-25T21:38:48.404Z"
   },
   {
    "duration": 185,
    "start_time": "2022-10-25T21:42:11.623Z"
   },
   {
    "duration": 164,
    "start_time": "2022-10-25T21:42:18.899Z"
   },
   {
    "duration": 111,
    "start_time": "2022-10-25T21:42:34.097Z"
   },
   {
    "duration": 157,
    "start_time": "2022-10-25T21:43:30.160Z"
   },
   {
    "duration": 111,
    "start_time": "2022-10-25T21:44:01.805Z"
   },
   {
    "duration": 140,
    "start_time": "2022-10-25T21:44:20.411Z"
   },
   {
    "duration": 104,
    "start_time": "2022-10-25T21:44:28.941Z"
   },
   {
    "duration": 12,
    "start_time": "2022-10-25T21:45:31.873Z"
   },
   {
    "duration": 331,
    "start_time": "2022-10-25T21:45:35.807Z"
   },
   {
    "duration": 297,
    "start_time": "2022-10-25T21:46:01.583Z"
   },
   {
    "duration": 351,
    "start_time": "2022-10-25T21:46:06.976Z"
   },
   {
    "duration": 283,
    "start_time": "2022-10-25T21:46:11.678Z"
   },
   {
    "duration": 282,
    "start_time": "2022-10-25T21:46:20.710Z"
   },
   {
    "duration": 12,
    "start_time": "2022-10-25T21:46:35.261Z"
   },
   {
    "duration": 155,
    "start_time": "2022-10-25T21:46:46.761Z"
   },
   {
    "duration": 169,
    "start_time": "2022-10-25T21:47:24.976Z"
   },
   {
    "duration": 160,
    "start_time": "2022-10-25T21:47:30.310Z"
   },
   {
    "duration": 170,
    "start_time": "2022-10-25T21:47:46.786Z"
   },
   {
    "duration": 188,
    "start_time": "2022-10-25T21:47:52.671Z"
   },
   {
    "duration": 202,
    "start_time": "2022-10-25T21:48:10.235Z"
   },
   {
    "duration": 199,
    "start_time": "2022-10-25T21:48:19.234Z"
   },
   {
    "duration": 9,
    "start_time": "2022-10-25T21:48:45.916Z"
   },
   {
    "duration": 12,
    "start_time": "2022-10-25T21:48:51.303Z"
   },
   {
    "duration": 222,
    "start_time": "2022-10-25T21:48:53.734Z"
   },
   {
    "duration": 13,
    "start_time": "2022-10-25T21:49:06.677Z"
   },
   {
    "duration": 240,
    "start_time": "2022-10-25T21:50:02.040Z"
   },
   {
    "duration": 13,
    "start_time": "2022-10-25T21:50:13.087Z"
   },
   {
    "duration": 143,
    "start_time": "2022-10-25T21:50:16.982Z"
   },
   {
    "duration": 13,
    "start_time": "2022-10-25T21:50:30.411Z"
   },
   {
    "duration": 147,
    "start_time": "2022-10-25T21:50:34.191Z"
   },
   {
    "duration": 123,
    "start_time": "2022-10-25T21:51:33.335Z"
   },
   {
    "duration": 121,
    "start_time": "2022-10-25T21:52:29.288Z"
   },
   {
    "duration": 145,
    "start_time": "2022-10-25T21:52:45.641Z"
   },
   {
    "duration": 123,
    "start_time": "2022-10-25T21:55:13.659Z"
   },
   {
    "duration": 147,
    "start_time": "2022-10-25T21:55:46.923Z"
   },
   {
    "duration": 120,
    "start_time": "2022-10-25T22:01:23.141Z"
   },
   {
    "duration": 120,
    "start_time": "2022-10-25T22:07:01.297Z"
   },
   {
    "duration": 11,
    "start_time": "2022-10-25T22:10:06.355Z"
   },
   {
    "duration": 6,
    "start_time": "2022-10-25T22:10:14.326Z"
   },
   {
    "duration": 5,
    "start_time": "2022-10-25T22:10:43.463Z"
   },
   {
    "duration": 7,
    "start_time": "2022-10-25T22:10:54.982Z"
   },
   {
    "duration": 5,
    "start_time": "2022-10-25T22:10:57.910Z"
   },
   {
    "duration": 7,
    "start_time": "2022-10-25T22:11:01.705Z"
   },
   {
    "duration": 7,
    "start_time": "2022-10-25T22:11:20.589Z"
   },
   {
    "duration": 5,
    "start_time": "2022-10-25T22:11:22.909Z"
   },
   {
    "duration": 6,
    "start_time": "2022-10-25T22:11:27.817Z"
   },
   {
    "duration": 6,
    "start_time": "2022-10-25T22:13:10.516Z"
   },
   {
    "duration": 6,
    "start_time": "2022-10-25T22:13:31.225Z"
   },
   {
    "duration": 4,
    "start_time": "2022-10-25T22:13:33.561Z"
   },
   {
    "duration": 7,
    "start_time": "2022-10-25T22:13:36.331Z"
   },
   {
    "duration": 8,
    "start_time": "2022-10-25T22:14:17.646Z"
   },
   {
    "duration": 5,
    "start_time": "2022-10-25T22:14:20.207Z"
   },
   {
    "duration": 6,
    "start_time": "2022-10-25T22:14:22.700Z"
   },
   {
    "duration": 7,
    "start_time": "2022-10-25T22:17:54.550Z"
   },
   {
    "duration": 15,
    "start_time": "2022-10-25T22:17:57.682Z"
   },
   {
    "duration": 176,
    "start_time": "2022-10-25T22:18:07.137Z"
   },
   {
    "duration": 239,
    "start_time": "2022-10-25T22:18:19.286Z"
   },
   {
    "duration": 105,
    "start_time": "2022-10-25T22:18:47.586Z"
   },
   {
    "duration": 6,
    "start_time": "2022-10-25T22:19:03.140Z"
   },
   {
    "duration": 4,
    "start_time": "2022-10-25T22:19:06.547Z"
   },
   {
    "duration": 3,
    "start_time": "2022-10-25T22:19:11.955Z"
   },
   {
    "duration": 63,
    "start_time": "2022-10-25T22:19:11.960Z"
   },
   {
    "duration": 12,
    "start_time": "2022-10-25T22:19:12.025Z"
   },
   {
    "duration": 25,
    "start_time": "2022-10-25T22:19:12.039Z"
   },
   {
    "duration": 8,
    "start_time": "2022-10-25T22:19:12.066Z"
   },
   {
    "duration": 13,
    "start_time": "2022-10-25T22:19:12.076Z"
   },
   {
    "duration": 13,
    "start_time": "2022-10-25T22:19:12.090Z"
   },
   {
    "duration": 3,
    "start_time": "2022-10-25T22:19:12.133Z"
   },
   {
    "duration": 6,
    "start_time": "2022-10-25T22:19:12.137Z"
   },
   {
    "duration": 7,
    "start_time": "2022-10-25T22:19:12.145Z"
   },
   {
    "duration": 6,
    "start_time": "2022-10-25T22:19:12.154Z"
   },
   {
    "duration": 5,
    "start_time": "2022-10-25T22:19:12.161Z"
   },
   {
    "duration": 22,
    "start_time": "2022-10-25T22:19:12.168Z"
   },
   {
    "duration": 41,
    "start_time": "2022-10-25T22:19:12.192Z"
   },
   {
    "duration": 9,
    "start_time": "2022-10-25T22:19:12.235Z"
   },
   {
    "duration": 10,
    "start_time": "2022-10-25T22:19:12.245Z"
   },
   {
    "duration": 9,
    "start_time": "2022-10-25T22:19:12.257Z"
   },
   {
    "duration": 8,
    "start_time": "2022-10-25T22:19:12.267Z"
   },
   {
    "duration": 8,
    "start_time": "2022-10-25T22:19:12.277Z"
   },
   {
    "duration": 5,
    "start_time": "2022-10-25T22:19:12.286Z"
   },
   {
    "duration": 51,
    "start_time": "2022-10-25T22:19:12.293Z"
   },
   {
    "duration": 5,
    "start_time": "2022-10-25T22:19:12.345Z"
   },
   {
    "duration": 6,
    "start_time": "2022-10-25T22:19:12.351Z"
   },
   {
    "duration": 8,
    "start_time": "2022-10-25T22:19:12.358Z"
   },
   {
    "duration": 5,
    "start_time": "2022-10-25T22:19:12.368Z"
   },
   {
    "duration": 6,
    "start_time": "2022-10-25T22:19:12.374Z"
   },
   {
    "duration": 8,
    "start_time": "2022-10-25T22:19:12.381Z"
   },
   {
    "duration": 44,
    "start_time": "2022-10-25T22:19:12.390Z"
   },
   {
    "duration": 13,
    "start_time": "2022-10-25T22:19:12.438Z"
   },
   {
    "duration": 216,
    "start_time": "2022-10-25T22:19:12.453Z"
   },
   {
    "duration": 63,
    "start_time": "2022-10-25T22:19:12.671Z"
   },
   {
    "duration": 771,
    "start_time": "2022-10-25T22:19:12.736Z"
   },
   {
    "duration": 10,
    "start_time": "2022-10-25T22:19:13.509Z"
   },
   {
    "duration": 292,
    "start_time": "2022-10-25T22:19:13.521Z"
   },
   {
    "duration": 4,
    "start_time": "2022-10-25T22:19:13.814Z"
   },
   {
    "duration": 18,
    "start_time": "2022-10-25T22:19:13.819Z"
   },
   {
    "duration": 455,
    "start_time": "2022-10-25T22:19:13.839Z"
   },
   {
    "duration": 6,
    "start_time": "2022-10-25T22:19:14.295Z"
   },
   {
    "duration": 176,
    "start_time": "2022-10-25T22:19:14.302Z"
   },
   {
    "duration": 3,
    "start_time": "2022-10-25T22:19:14.479Z"
   },
   {
    "duration": 21,
    "start_time": "2022-10-25T22:19:14.483Z"
   },
   {
    "duration": 4,
    "start_time": "2022-10-25T22:19:14.505Z"
   },
   {
    "duration": 394,
    "start_time": "2022-10-25T22:19:14.510Z"
   },
   {
    "duration": 7,
    "start_time": "2022-10-25T22:19:14.906Z"
   },
   {
    "duration": 29,
    "start_time": "2022-10-25T22:19:14.914Z"
   },
   {
    "duration": 176,
    "start_time": "2022-10-25T22:19:14.944Z"
   },
   {
    "duration": 177,
    "start_time": "2022-10-25T22:19:15.122Z"
   },
   {
    "duration": 177,
    "start_time": "2022-10-25T22:19:15.300Z"
   },
   {
    "duration": 7,
    "start_time": "2022-10-25T22:19:15.478Z"
   },
   {
    "duration": 178,
    "start_time": "2022-10-25T22:19:15.487Z"
   },
   {
    "duration": 4,
    "start_time": "2022-10-25T22:19:15.667Z"
   },
   {
    "duration": 9,
    "start_time": "2022-10-25T22:19:15.672Z"
   },
   {
    "duration": 9,
    "start_time": "2022-10-25T22:19:15.683Z"
   },
   {
    "duration": 242,
    "start_time": "2022-10-25T22:19:15.694Z"
   },
   {
    "duration": 213,
    "start_time": "2022-10-25T22:19:15.937Z"
   },
   {
    "duration": 17,
    "start_time": "2022-10-25T22:19:16.152Z"
   },
   {
    "duration": 9,
    "start_time": "2022-10-25T22:19:16.171Z"
   },
   {
    "duration": 21,
    "start_time": "2022-10-25T22:19:16.181Z"
   },
   {
    "duration": 6,
    "start_time": "2022-10-25T22:19:16.204Z"
   },
   {
    "duration": 19,
    "start_time": "2022-10-25T22:19:16.233Z"
   },
   {
    "duration": 15,
    "start_time": "2022-10-25T22:19:16.254Z"
   },
   {
    "duration": 262,
    "start_time": "2022-10-25T22:19:16.271Z"
   },
   {
    "duration": 158,
    "start_time": "2022-10-25T22:19:16.535Z"
   },
   {
    "duration": 153,
    "start_time": "2022-10-25T22:19:16.697Z"
   },
   {
    "duration": 12,
    "start_time": "2022-10-25T22:19:16.852Z"
   },
   {
    "duration": 218,
    "start_time": "2022-10-25T22:19:16.865Z"
   },
   {
    "duration": 11,
    "start_time": "2022-10-25T22:19:17.085Z"
   },
   {
    "duration": 307,
    "start_time": "2022-10-25T22:19:17.098Z"
   },
   {
    "duration": 11,
    "start_time": "2022-10-25T22:19:17.406Z"
   },
   {
    "duration": 208,
    "start_time": "2022-10-25T22:19:17.418Z"
   },
   {
    "duration": 17,
    "start_time": "2022-10-25T22:19:17.627Z"
   },
   {
    "duration": 135,
    "start_time": "2022-10-25T22:19:17.646Z"
   },
   {
    "duration": 13,
    "start_time": "2022-10-25T22:19:17.782Z"
   },
   {
    "duration": 161,
    "start_time": "2022-10-25T22:19:17.796Z"
   },
   {
    "duration": 13,
    "start_time": "2022-10-25T22:19:17.959Z"
   },
   {
    "duration": 128,
    "start_time": "2022-10-25T22:19:17.973Z"
   },
   {
    "duration": 6,
    "start_time": "2022-10-25T22:19:18.103Z"
   },
   {
    "duration": 5,
    "start_time": "2022-10-25T22:19:20.516Z"
   },
   {
    "duration": 5,
    "start_time": "2022-10-25T22:19:28.316Z"
   },
   {
    "duration": 7,
    "start_time": "2022-10-25T22:19:42.307Z"
   },
   {
    "duration": 5,
    "start_time": "2022-10-25T22:19:45.119Z"
   },
   {
    "duration": 6,
    "start_time": "2022-10-25T22:19:48.948Z"
   },
   {
    "duration": 6,
    "start_time": "2022-10-25T22:20:47.388Z"
   },
   {
    "duration": 7,
    "start_time": "2022-10-25T22:21:20.022Z"
   },
   {
    "duration": 5,
    "start_time": "2022-10-25T22:21:27.095Z"
   },
   {
    "duration": 7,
    "start_time": "2022-10-25T22:23:18.468Z"
   },
   {
    "duration": 7,
    "start_time": "2022-10-25T22:23:29.462Z"
   },
   {
    "duration": 6,
    "start_time": "2022-10-25T22:23:37.076Z"
   },
   {
    "duration": 9,
    "start_time": "2022-10-25T22:23:49.840Z"
   },
   {
    "duration": 13,
    "start_time": "2022-10-25T22:23:57.509Z"
   },
   {
    "duration": 41,
    "start_time": "2022-10-25T22:24:14.336Z"
   },
   {
    "duration": 1279,
    "start_time": "2022-10-26T17:25:40.720Z"
   },
   {
    "duration": 85,
    "start_time": "2022-10-26T17:25:42.001Z"
   },
   {
    "duration": 16,
    "start_time": "2022-10-26T17:25:42.088Z"
   },
   {
    "duration": 36,
    "start_time": "2022-10-26T17:25:42.105Z"
   },
   {
    "duration": 9,
    "start_time": "2022-10-26T17:25:42.143Z"
   },
   {
    "duration": 16,
    "start_time": "2022-10-26T17:25:42.154Z"
   },
   {
    "duration": 16,
    "start_time": "2022-10-26T17:25:42.171Z"
   },
   {
    "duration": 3,
    "start_time": "2022-10-26T17:25:42.189Z"
   },
   {
    "duration": 34,
    "start_time": "2022-10-26T17:25:42.193Z"
   },
   {
    "duration": 7,
    "start_time": "2022-10-26T17:25:42.229Z"
   },
   {
    "duration": 5,
    "start_time": "2022-10-26T17:25:42.238Z"
   },
   {
    "duration": 4,
    "start_time": "2022-10-26T17:25:42.244Z"
   },
   {
    "duration": 16,
    "start_time": "2022-10-26T17:25:42.250Z"
   },
   {
    "duration": 8,
    "start_time": "2022-10-26T17:25:42.267Z"
   },
   {
    "duration": 10,
    "start_time": "2022-10-26T17:25:42.276Z"
   },
   {
    "duration": 42,
    "start_time": "2022-10-26T17:25:42.287Z"
   },
   {
    "duration": 10,
    "start_time": "2022-10-26T17:25:42.332Z"
   },
   {
    "duration": 11,
    "start_time": "2022-10-26T17:25:42.344Z"
   },
   {
    "duration": 7,
    "start_time": "2022-10-26T17:25:42.357Z"
   },
   {
    "duration": 6,
    "start_time": "2022-10-26T17:25:42.365Z"
   },
   {
    "duration": 13,
    "start_time": "2022-10-26T17:25:42.372Z"
   },
   {
    "duration": 38,
    "start_time": "2022-10-26T17:25:42.387Z"
   },
   {
    "duration": 5,
    "start_time": "2022-10-26T17:25:42.427Z"
   },
   {
    "duration": 5,
    "start_time": "2022-10-26T17:25:42.434Z"
   },
   {
    "duration": 5,
    "start_time": "2022-10-26T17:25:42.441Z"
   },
   {
    "duration": 5,
    "start_time": "2022-10-26T17:25:42.448Z"
   },
   {
    "duration": 6,
    "start_time": "2022-10-26T17:25:42.455Z"
   },
   {
    "duration": 16,
    "start_time": "2022-10-26T17:25:42.465Z"
   },
   {
    "duration": 49,
    "start_time": "2022-10-26T17:25:42.483Z"
   },
   {
    "duration": 236,
    "start_time": "2022-10-26T17:25:42.534Z"
   },
   {
    "duration": 83,
    "start_time": "2022-10-26T17:25:42.772Z"
   },
   {
    "duration": 799,
    "start_time": "2022-10-26T17:25:42.856Z"
   },
   {
    "duration": 14,
    "start_time": "2022-10-26T17:25:43.657Z"
   },
   {
    "duration": 347,
    "start_time": "2022-10-26T17:25:43.673Z"
   },
   {
    "duration": 4,
    "start_time": "2022-10-26T17:25:44.023Z"
   },
   {
    "duration": 12,
    "start_time": "2022-10-26T17:25:44.028Z"
   },
   {
    "duration": 518,
    "start_time": "2022-10-26T17:25:44.041Z"
   },
   {
    "duration": 6,
    "start_time": "2022-10-26T17:25:44.561Z"
   },
   {
    "duration": 284,
    "start_time": "2022-10-26T17:25:44.569Z"
   },
   {
    "duration": 3,
    "start_time": "2022-10-26T17:25:44.854Z"
   },
   {
    "duration": 23,
    "start_time": "2022-10-26T17:25:44.859Z"
   },
   {
    "duration": 4,
    "start_time": "2022-10-26T17:25:44.884Z"
   },
   {
    "duration": 340,
    "start_time": "2022-10-26T17:25:44.890Z"
   },
   {
    "duration": 8,
    "start_time": "2022-10-26T17:25:45.231Z"
   },
   {
    "duration": 19,
    "start_time": "2022-10-26T17:25:45.240Z"
   },
   {
    "duration": 236,
    "start_time": "2022-10-26T17:25:45.261Z"
   },
   {
    "duration": 189,
    "start_time": "2022-10-26T17:25:45.499Z"
   },
   {
    "duration": 194,
    "start_time": "2022-10-26T17:25:45.689Z"
   },
   {
    "duration": 6,
    "start_time": "2022-10-26T17:25:45.884Z"
   },
   {
    "duration": 175,
    "start_time": "2022-10-26T17:25:45.892Z"
   },
   {
    "duration": 4,
    "start_time": "2022-10-26T17:25:46.069Z"
   },
   {
    "duration": 8,
    "start_time": "2022-10-26T17:25:46.074Z"
   },
   {
    "duration": 7,
    "start_time": "2022-10-26T17:25:46.084Z"
   },
   {
    "duration": 266,
    "start_time": "2022-10-26T17:25:46.093Z"
   },
   {
    "duration": 233,
    "start_time": "2022-10-26T17:25:46.361Z"
   },
   {
    "duration": 15,
    "start_time": "2022-10-26T17:25:46.595Z"
   },
   {
    "duration": 15,
    "start_time": "2022-10-26T17:25:46.612Z"
   },
   {
    "duration": 16,
    "start_time": "2022-10-26T17:25:46.629Z"
   },
   {
    "duration": 6,
    "start_time": "2022-10-26T17:25:46.646Z"
   },
   {
    "duration": 17,
    "start_time": "2022-10-26T17:25:46.653Z"
   },
   {
    "duration": 8,
    "start_time": "2022-10-26T17:25:46.672Z"
   },
   {
    "duration": 292,
    "start_time": "2022-10-26T17:25:46.681Z"
   },
   {
    "duration": 172,
    "start_time": "2022-10-26T17:25:46.974Z"
   },
   {
    "duration": 159,
    "start_time": "2022-10-26T17:25:47.147Z"
   },
   {
    "duration": 21,
    "start_time": "2022-10-26T17:25:47.308Z"
   },
   {
    "duration": 314,
    "start_time": "2022-10-26T17:25:47.331Z"
   },
   {
    "duration": 12,
    "start_time": "2022-10-26T17:25:47.647Z"
   },
   {
    "duration": 227,
    "start_time": "2022-10-26T17:25:47.660Z"
   },
   {
    "duration": 13,
    "start_time": "2022-10-26T17:25:47.888Z"
   },
   {
    "duration": 229,
    "start_time": "2022-10-26T17:25:47.902Z"
   },
   {
    "duration": 14,
    "start_time": "2022-10-26T17:25:48.132Z"
   },
   {
    "duration": 148,
    "start_time": "2022-10-26T17:25:48.148Z"
   },
   {
    "duration": 14,
    "start_time": "2022-10-26T17:25:48.298Z"
   },
   {
    "duration": 169,
    "start_time": "2022-10-26T17:25:48.324Z"
   },
   {
    "duration": 14,
    "start_time": "2022-10-26T17:25:48.495Z"
   },
   {
    "duration": 142,
    "start_time": "2022-10-26T17:25:48.510Z"
   },
   {
    "duration": 7,
    "start_time": "2022-10-26T17:25:48.654Z"
   },
   {
    "duration": 14,
    "start_time": "2022-10-26T17:25:48.662Z"
   },
   {
    "duration": 11,
    "start_time": "2022-10-26T17:25:48.677Z"
   },
   {
    "duration": 18,
    "start_time": "2022-10-26T17:25:48.689Z"
   },
   {
    "duration": 23,
    "start_time": "2022-10-26T17:25:48.709Z"
   },
   {
    "duration": 113,
    "start_time": "2022-10-26T17:25:48.737Z"
   },
   {
    "duration": 6,
    "start_time": "2022-10-26T17:26:20.578Z"
   }
  ],
  "kernelspec": {
   "display_name": "Python 3 (ipykernel)",
   "language": "python",
   "name": "python3"
  },
  "language_info": {
   "codemirror_mode": {
    "name": "ipython",
    "version": 3
   },
   "file_extension": ".py",
   "mimetype": "text/x-python",
   "name": "python",
   "nbconvert_exporter": "python",
   "pygments_lexer": "ipython3",
   "version": "3.9.12"
  },
  "toc": {
   "base_numbering": 1,
   "nav_menu": {},
   "number_sections": true,
   "sideBar": true,
   "skip_h1_title": true,
   "title_cell": "Table of Contents",
   "title_sidebar": "Contents",
   "toc_cell": false,
   "toc_position": {
    "height": "calc(100% - 180px)",
    "left": "10px",
    "top": "150px",
    "width": "165px"
   },
   "toc_section_display": true,
   "toc_window_display": true
  }
 },
 "nbformat": 4,
 "nbformat_minor": 2
}
