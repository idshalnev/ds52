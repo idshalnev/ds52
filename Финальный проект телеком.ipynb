{
  "cells": [
    {
      "cell_type": "markdown",
      "id": "d7f70714",
      "metadata": {
        "id": "d7f70714"
      },
      "source": [
        "# Телеком — задача проекта\n",
        "\n",
        "Оператор связи «Ниединогоразрыва.ком» хочет научиться прогнозировать отток клиентов. Если выяснится, что пользователь планирует уйти, ему будут предложены промокоды и специальные условия. Команда оператора собрала персональные данные о некоторых клиентах, информацию об их тарифах и договорах.\n",
        "\n",
        "### Описание услуг\n",
        "\n",
        "Оператор предоставляет два основных типа услуг:\n",
        "\n",
        "1. Стационарную телефонную связь. Возможно подключение телефонного аппарата к нескольким линиям одновременно.\n",
        "2. Интернет. Подключение может быть двух типов: через телефонную линию (DSL*,* от англ. *digital subscriber line*, «цифровая абонентская линия») или оптоволоконный кабель (*Fiber optic*).  \n",
        "\n",
        "Также доступны такие услуги:\n",
        "\n",
        "- Интернет-безопасность: антивирус (*DeviceProtection*) и блокировка небезопасных сайтов (*OnlineSecurity*);\n",
        "- Выделенная линия технической поддержки (*TechSupport*);\n",
        "- Облачное хранилище файлов для резервного копирования данных (*OnlineBackup*);\n",
        "- Стриминговое телевидение (*StreamingTV*) и каталог фильмов (*StreamingMovies*).\n",
        "\n",
        "За услуги клиенты могут платить каждый месяц или заключить договор на 1–2 года. Доступны различные способы расчёта и возможность получения электронного чека."
      ]
    },
    {
      "cell_type": "markdown",
      "id": "8305bc79",
      "metadata": {
        "id": "8305bc79"
      },
      "source": [
        "##  1.Исследование  данных  \n",
        "(импорты будут добавляться)"
      ]
    },
    {
      "cell_type": "code",
      "execution_count": null,
      "id": "fdadec33",
      "metadata": {
        "id": "fdadec33"
      },
      "outputs": [],
      "source": [
        "import pandas as pd\n",
        "import numpy as np\n",
        "import matplotlib.pyplot as plt\n",
        "import seaborn as sns\n",
        "from sklearn.model_selection import train_test_split\n",
        "from sklearn.linear_model import LinearRegression\n",
        "from sklearn.linear_model import LogisticRegression\n",
        "from sklearn.preprocessing import StandardScaler\n",
        "from sklearn.metrics import roc_auc_score, make_scorer, accuracy_score\n",
        "from sklearn.metrics import roc_curve, confusion_matrix\n",
        "from sklearn.tree import DecisionTreeClassifier\n",
        "from sklearn.ensemble import RandomForestClassifier\n",
        "from sklearn.utils import shuffle\n",
        "from sklearn.model_selection import GridSearchCV\n",
        "from catboost import CatBoostClassifier\n",
        "from lightgbm import LGBMClassifier\n",
        "from sklearn.model_selection import KFold"
      ]
    },
    {
      "cell_type": "code",
      "execution_count": null,
      "id": "5b8ed6ff",
      "metadata": {
        "id": "5b8ed6ff"
      },
      "outputs": [],
      "source": [
        "try:\n",
        "    df_1 = pd.read_csv(r'C:\\Users\\katze\\anaconda3\\Projects\\FinalProject\\datasets/phone_new.csv')\n",
        "    df_2 = pd.read_csv(r'C:\\Users\\katze\\anaconda3\\Projects\\FinalProject\\datasets/personal_new.csv')\n",
        "    df_3 = pd.read_csv(r'C:\\Users\\katze\\anaconda3\\Projects\\FinalProject\\datasets/internet_new.csv')\n",
        "    df_4 = pd.read_csv(r'C:\\Users\\katze\\anaconda3\\Projects\\FinalProject\\datasets/contract_new.csv')\n",
        "\n",
        "except:\n",
        "    df_1 = pd.read_csv('/datasets/phone_new.csv')\n",
        "    df_2 = pd.read_csv('/datasets/personal_new.csv')\n",
        "    df_3 = pd.read_csv('/datasets/internet_new.csv')\n",
        "    df_4 = pd.read_csv('/datasets/contract_new.csv')\n",
        ""
      ]
    },
    {
      "cell_type": "markdown",
      "id": "b176679a",
      "metadata": {
        "id": "b176679a"
      },
      "source": [
        "Читаем датасеты и выводим информацию."
      ]
    },
    {
      "cell_type": "code",
      "execution_count": null,
      "id": "9fbcb882",
      "metadata": {
        "id": "9fbcb882",
        "outputId": "dfe86be7-123c-4fce-b11f-2cf1353375f7"
      },
      "outputs": [
        {
          "data": {
            "text/html": [
              "<div>\n",
              "<style scoped>\n",
              "    .dataframe tbody tr th:only-of-type {\n",
              "        vertical-align: middle;\n",
              "    }\n",
              "\n",
              "    .dataframe tbody tr th {\n",
              "        vertical-align: top;\n",
              "    }\n",
              "\n",
              "    .dataframe thead th {\n",
              "        text-align: right;\n",
              "    }\n",
              "</style>\n",
              "<table border=\"1\" class=\"dataframe\">\n",
              "  <thead>\n",
              "    <tr style=\"text-align: right;\">\n",
              "      <th></th>\n",
              "      <th>customerID</th>\n",
              "      <th>MultipleLines</th>\n",
              "    </tr>\n",
              "  </thead>\n",
              "  <tbody>\n",
              "    <tr>\n",
              "      <th>0</th>\n",
              "      <td>5575-GNVDE</td>\n",
              "      <td>No</td>\n",
              "    </tr>\n",
              "    <tr>\n",
              "      <th>1</th>\n",
              "      <td>3668-QPYBK</td>\n",
              "      <td>No</td>\n",
              "    </tr>\n",
              "    <tr>\n",
              "      <th>2</th>\n",
              "      <td>9237-HQITU</td>\n",
              "      <td>No</td>\n",
              "    </tr>\n",
              "    <tr>\n",
              "      <th>3</th>\n",
              "      <td>9305-CDSKC</td>\n",
              "      <td>Yes</td>\n",
              "    </tr>\n",
              "    <tr>\n",
              "      <th>4</th>\n",
              "      <td>1452-KIOVK</td>\n",
              "      <td>Yes</td>\n",
              "    </tr>\n",
              "  </tbody>\n",
              "</table>\n",
              "</div>"
            ],
            "text/plain": [
              "   customerID MultipleLines\n",
              "0  5575-GNVDE            No\n",
              "1  3668-QPYBK            No\n",
              "2  9237-HQITU            No\n",
              "3  9305-CDSKC           Yes\n",
              "4  1452-KIOVK           Yes"
            ]
          },
          "execution_count": 3,
          "metadata": {},
          "output_type": "execute_result"
        }
      ],
      "source": [
        "df_1.head()"
      ]
    },
    {
      "cell_type": "code",
      "execution_count": null,
      "id": "b4900df4",
      "metadata": {
        "id": "b4900df4",
        "outputId": "09503e06-3188-4eb0-ffa0-bcec2c980d88"
      },
      "outputs": [
        {
          "data": {
            "text/html": [
              "<div>\n",
              "<style scoped>\n",
              "    .dataframe tbody tr th:only-of-type {\n",
              "        vertical-align: middle;\n",
              "    }\n",
              "\n",
              "    .dataframe tbody tr th {\n",
              "        vertical-align: top;\n",
              "    }\n",
              "\n",
              "    .dataframe thead th {\n",
              "        text-align: right;\n",
              "    }\n",
              "</style>\n",
              "<table border=\"1\" class=\"dataframe\">\n",
              "  <thead>\n",
              "    <tr style=\"text-align: right;\">\n",
              "      <th></th>\n",
              "      <th>customerID</th>\n",
              "      <th>gender</th>\n",
              "      <th>SeniorCitizen</th>\n",
              "      <th>Partner</th>\n",
              "      <th>Dependents</th>\n",
              "    </tr>\n",
              "  </thead>\n",
              "  <tbody>\n",
              "    <tr>\n",
              "      <th>0</th>\n",
              "      <td>7590-VHVEG</td>\n",
              "      <td>Female</td>\n",
              "      <td>0</td>\n",
              "      <td>Yes</td>\n",
              "      <td>No</td>\n",
              "    </tr>\n",
              "    <tr>\n",
              "      <th>1</th>\n",
              "      <td>5575-GNVDE</td>\n",
              "      <td>Male</td>\n",
              "      <td>0</td>\n",
              "      <td>No</td>\n",
              "      <td>No</td>\n",
              "    </tr>\n",
              "    <tr>\n",
              "      <th>2</th>\n",
              "      <td>3668-QPYBK</td>\n",
              "      <td>Male</td>\n",
              "      <td>0</td>\n",
              "      <td>No</td>\n",
              "      <td>No</td>\n",
              "    </tr>\n",
              "    <tr>\n",
              "      <th>3</th>\n",
              "      <td>7795-CFOCW</td>\n",
              "      <td>Male</td>\n",
              "      <td>0</td>\n",
              "      <td>No</td>\n",
              "      <td>No</td>\n",
              "    </tr>\n",
              "    <tr>\n",
              "      <th>4</th>\n",
              "      <td>9237-HQITU</td>\n",
              "      <td>Female</td>\n",
              "      <td>0</td>\n",
              "      <td>No</td>\n",
              "      <td>No</td>\n",
              "    </tr>\n",
              "  </tbody>\n",
              "</table>\n",
              "</div>"
            ],
            "text/plain": [
              "   customerID  gender  SeniorCitizen Partner Dependents\n",
              "0  7590-VHVEG  Female              0     Yes         No\n",
              "1  5575-GNVDE    Male              0      No         No\n",
              "2  3668-QPYBK    Male              0      No         No\n",
              "3  7795-CFOCW    Male              0      No         No\n",
              "4  9237-HQITU  Female              0      No         No"
            ]
          },
          "execution_count": 4,
          "metadata": {},
          "output_type": "execute_result"
        }
      ],
      "source": [
        "df_2.head()"
      ]
    },
    {
      "cell_type": "code",
      "execution_count": null,
      "id": "fc80e929",
      "metadata": {
        "id": "fc80e929",
        "outputId": "5b061e51-8708-482e-b7ca-5416041b338a"
      },
      "outputs": [
        {
          "data": {
            "text/html": [
              "<div>\n",
              "<style scoped>\n",
              "    .dataframe tbody tr th:only-of-type {\n",
              "        vertical-align: middle;\n",
              "    }\n",
              "\n",
              "    .dataframe tbody tr th {\n",
              "        vertical-align: top;\n",
              "    }\n",
              "\n",
              "    .dataframe thead th {\n",
              "        text-align: right;\n",
              "    }\n",
              "</style>\n",
              "<table border=\"1\" class=\"dataframe\">\n",
              "  <thead>\n",
              "    <tr style=\"text-align: right;\">\n",
              "      <th></th>\n",
              "      <th>customerID</th>\n",
              "      <th>InternetService</th>\n",
              "      <th>OnlineSecurity</th>\n",
              "      <th>OnlineBackup</th>\n",
              "      <th>DeviceProtection</th>\n",
              "      <th>TechSupport</th>\n",
              "      <th>StreamingTV</th>\n",
              "      <th>StreamingMovies</th>\n",
              "    </tr>\n",
              "  </thead>\n",
              "  <tbody>\n",
              "    <tr>\n",
              "      <th>0</th>\n",
              "      <td>7590-VHVEG</td>\n",
              "      <td>DSL</td>\n",
              "      <td>No</td>\n",
              "      <td>Yes</td>\n",
              "      <td>No</td>\n",
              "      <td>No</td>\n",
              "      <td>No</td>\n",
              "      <td>No</td>\n",
              "    </tr>\n",
              "    <tr>\n",
              "      <th>1</th>\n",
              "      <td>5575-GNVDE</td>\n",
              "      <td>DSL</td>\n",
              "      <td>Yes</td>\n",
              "      <td>No</td>\n",
              "      <td>Yes</td>\n",
              "      <td>No</td>\n",
              "      <td>No</td>\n",
              "      <td>No</td>\n",
              "    </tr>\n",
              "    <tr>\n",
              "      <th>2</th>\n",
              "      <td>3668-QPYBK</td>\n",
              "      <td>DSL</td>\n",
              "      <td>Yes</td>\n",
              "      <td>Yes</td>\n",
              "      <td>No</td>\n",
              "      <td>No</td>\n",
              "      <td>No</td>\n",
              "      <td>No</td>\n",
              "    </tr>\n",
              "    <tr>\n",
              "      <th>3</th>\n",
              "      <td>7795-CFOCW</td>\n",
              "      <td>DSL</td>\n",
              "      <td>Yes</td>\n",
              "      <td>No</td>\n",
              "      <td>Yes</td>\n",
              "      <td>Yes</td>\n",
              "      <td>No</td>\n",
              "      <td>No</td>\n",
              "    </tr>\n",
              "    <tr>\n",
              "      <th>4</th>\n",
              "      <td>9237-HQITU</td>\n",
              "      <td>Fiber optic</td>\n",
              "      <td>No</td>\n",
              "      <td>No</td>\n",
              "      <td>No</td>\n",
              "      <td>No</td>\n",
              "      <td>No</td>\n",
              "      <td>No</td>\n",
              "    </tr>\n",
              "  </tbody>\n",
              "</table>\n",
              "</div>"
            ],
            "text/plain": [
              "   customerID InternetService OnlineSecurity OnlineBackup DeviceProtection  \\\n",
              "0  7590-VHVEG             DSL             No          Yes               No   \n",
              "1  5575-GNVDE             DSL            Yes           No              Yes   \n",
              "2  3668-QPYBK             DSL            Yes          Yes               No   \n",
              "3  7795-CFOCW             DSL            Yes           No              Yes   \n",
              "4  9237-HQITU     Fiber optic             No           No               No   \n",
              "\n",
              "  TechSupport StreamingTV StreamingMovies  \n",
              "0          No          No              No  \n",
              "1          No          No              No  \n",
              "2          No          No              No  \n",
              "3         Yes          No              No  \n",
              "4          No          No              No  "
            ]
          },
          "execution_count": 5,
          "metadata": {},
          "output_type": "execute_result"
        }
      ],
      "source": [
        "df_3.head()\n"
      ]
    },
    {
      "cell_type": "code",
      "execution_count": null,
      "id": "8ae436b8",
      "metadata": {
        "id": "8ae436b8",
        "outputId": "3f6126fa-6730-4a1f-e6ef-3e3ead4ced23"
      },
      "outputs": [
        {
          "data": {
            "text/html": [
              "<div>\n",
              "<style scoped>\n",
              "    .dataframe tbody tr th:only-of-type {\n",
              "        vertical-align: middle;\n",
              "    }\n",
              "\n",
              "    .dataframe tbody tr th {\n",
              "        vertical-align: top;\n",
              "    }\n",
              "\n",
              "    .dataframe thead th {\n",
              "        text-align: right;\n",
              "    }\n",
              "</style>\n",
              "<table border=\"1\" class=\"dataframe\">\n",
              "  <thead>\n",
              "    <tr style=\"text-align: right;\">\n",
              "      <th></th>\n",
              "      <th>customerID</th>\n",
              "      <th>BeginDate</th>\n",
              "      <th>EndDate</th>\n",
              "      <th>Type</th>\n",
              "      <th>PaperlessBilling</th>\n",
              "      <th>PaymentMethod</th>\n",
              "      <th>MonthlyCharges</th>\n",
              "      <th>TotalCharges</th>\n",
              "    </tr>\n",
              "  </thead>\n",
              "  <tbody>\n",
              "    <tr>\n",
              "      <th>0</th>\n",
              "      <td>7590-VHVEG</td>\n",
              "      <td>2020-01-01</td>\n",
              "      <td>No</td>\n",
              "      <td>Month-to-month</td>\n",
              "      <td>Yes</td>\n",
              "      <td>Electronic check</td>\n",
              "      <td>29.85</td>\n",
              "      <td>31.04</td>\n",
              "    </tr>\n",
              "    <tr>\n",
              "      <th>1</th>\n",
              "      <td>5575-GNVDE</td>\n",
              "      <td>2017-04-01</td>\n",
              "      <td>No</td>\n",
              "      <td>One year</td>\n",
              "      <td>No</td>\n",
              "      <td>Mailed check</td>\n",
              "      <td>56.95</td>\n",
              "      <td>2071.84</td>\n",
              "    </tr>\n",
              "    <tr>\n",
              "      <th>2</th>\n",
              "      <td>3668-QPYBK</td>\n",
              "      <td>2019-10-01</td>\n",
              "      <td>No</td>\n",
              "      <td>Month-to-month</td>\n",
              "      <td>Yes</td>\n",
              "      <td>Mailed check</td>\n",
              "      <td>53.85</td>\n",
              "      <td>226.17</td>\n",
              "    </tr>\n",
              "    <tr>\n",
              "      <th>3</th>\n",
              "      <td>7795-CFOCW</td>\n",
              "      <td>2016-05-01</td>\n",
              "      <td>No</td>\n",
              "      <td>One year</td>\n",
              "      <td>No</td>\n",
              "      <td>Bank transfer (automatic)</td>\n",
              "      <td>42.30</td>\n",
              "      <td>1960.6</td>\n",
              "    </tr>\n",
              "    <tr>\n",
              "      <th>4</th>\n",
              "      <td>9237-HQITU</td>\n",
              "      <td>2019-09-01</td>\n",
              "      <td>No</td>\n",
              "      <td>Month-to-month</td>\n",
              "      <td>Yes</td>\n",
              "      <td>Electronic check</td>\n",
              "      <td>70.70</td>\n",
              "      <td>353.5</td>\n",
              "    </tr>\n",
              "  </tbody>\n",
              "</table>\n",
              "</div>"
            ],
            "text/plain": [
              "   customerID   BeginDate EndDate            Type PaperlessBilling  \\\n",
              "0  7590-VHVEG  2020-01-01      No  Month-to-month              Yes   \n",
              "1  5575-GNVDE  2017-04-01      No        One year               No   \n",
              "2  3668-QPYBK  2019-10-01      No  Month-to-month              Yes   \n",
              "3  7795-CFOCW  2016-05-01      No        One year               No   \n",
              "4  9237-HQITU  2019-09-01      No  Month-to-month              Yes   \n",
              "\n",
              "               PaymentMethod  MonthlyCharges TotalCharges  \n",
              "0           Electronic check           29.85        31.04  \n",
              "1               Mailed check           56.95      2071.84  \n",
              "2               Mailed check           53.85       226.17  \n",
              "3  Bank transfer (automatic)           42.30       1960.6  \n",
              "4           Electronic check           70.70        353.5  "
            ]
          },
          "execution_count": 6,
          "metadata": {},
          "output_type": "execute_result"
        }
      ],
      "source": [
        "df_4.head()"
      ]
    },
    {
      "cell_type": "code",
      "execution_count": null,
      "id": "26855446",
      "metadata": {
        "id": "26855446",
        "outputId": "78b519bf-fc16-4104-f5cf-b07d08c68726"
      },
      "outputs": [
        {
          "name": "stdout",
          "output_type": "stream",
          "text": [
            "<class 'pandas.core.frame.DataFrame'>\n",
            "RangeIndex: 6361 entries, 0 to 6360\n",
            "Data columns (total 2 columns):\n",
            " #   Column         Non-Null Count  Dtype \n",
            "---  ------         --------------  ----- \n",
            " 0   customerID     6361 non-null   object\n",
            " 1   MultipleLines  6361 non-null   object\n",
            "dtypes: object(2)\n",
            "memory usage: 99.5+ KB\n"
          ]
        }
      ],
      "source": [
        "df_1.info()"
      ]
    },
    {
      "cell_type": "code",
      "execution_count": null,
      "id": "5f941f50",
      "metadata": {
        "id": "5f941f50",
        "outputId": "d42f3cdf-3542-42e0-faf1-9169ef6a32f4"
      },
      "outputs": [
        {
          "name": "stdout",
          "output_type": "stream",
          "text": [
            "<class 'pandas.core.frame.DataFrame'>\n",
            "RangeIndex: 7043 entries, 0 to 7042\n",
            "Data columns (total 5 columns):\n",
            " #   Column         Non-Null Count  Dtype \n",
            "---  ------         --------------  ----- \n",
            " 0   customerID     7043 non-null   object\n",
            " 1   gender         7043 non-null   object\n",
            " 2   SeniorCitizen  7043 non-null   int64 \n",
            " 3   Partner        7043 non-null   object\n",
            " 4   Dependents     7043 non-null   object\n",
            "dtypes: int64(1), object(4)\n",
            "memory usage: 275.2+ KB\n"
          ]
        }
      ],
      "source": [
        "df_2.info()"
      ]
    },
    {
      "cell_type": "code",
      "execution_count": null,
      "id": "40ce0f94",
      "metadata": {
        "id": "40ce0f94",
        "outputId": "cf01e22a-153d-4022-928e-d96ef6a523b0"
      },
      "outputs": [
        {
          "name": "stdout",
          "output_type": "stream",
          "text": [
            "<class 'pandas.core.frame.DataFrame'>\n",
            "RangeIndex: 5517 entries, 0 to 5516\n",
            "Data columns (total 8 columns):\n",
            " #   Column            Non-Null Count  Dtype \n",
            "---  ------            --------------  ----- \n",
            " 0   customerID        5517 non-null   object\n",
            " 1   InternetService   5517 non-null   object\n",
            " 2   OnlineSecurity    5517 non-null   object\n",
            " 3   OnlineBackup      5517 non-null   object\n",
            " 4   DeviceProtection  5517 non-null   object\n",
            " 5   TechSupport       5517 non-null   object\n",
            " 6   StreamingTV       5517 non-null   object\n",
            " 7   StreamingMovies   5517 non-null   object\n",
            "dtypes: object(8)\n",
            "memory usage: 344.9+ KB\n"
          ]
        }
      ],
      "source": [
        "df_3.info()"
      ]
    },
    {
      "cell_type": "code",
      "execution_count": null,
      "id": "7921cec8",
      "metadata": {
        "id": "7921cec8",
        "outputId": "bf504cbf-1d76-4e2e-fb0d-be4c29d19855"
      },
      "outputs": [
        {
          "name": "stdout",
          "output_type": "stream",
          "text": [
            "<class 'pandas.core.frame.DataFrame'>\n",
            "RangeIndex: 7043 entries, 0 to 7042\n",
            "Data columns (total 8 columns):\n",
            " #   Column            Non-Null Count  Dtype  \n",
            "---  ------            --------------  -----  \n",
            " 0   customerID        7043 non-null   object \n",
            " 1   BeginDate         7043 non-null   object \n",
            " 2   EndDate           7043 non-null   object \n",
            " 3   Type              7043 non-null   object \n",
            " 4   PaperlessBilling  7043 non-null   object \n",
            " 5   PaymentMethod     7043 non-null   object \n",
            " 6   MonthlyCharges    7043 non-null   float64\n",
            " 7   TotalCharges      7043 non-null   object \n",
            "dtypes: float64(1), object(7)\n",
            "memory usage: 440.3+ KB\n"
          ]
        }
      ],
      "source": [
        "df_4.info()"
      ]
    },
    {
      "cell_type": "code",
      "execution_count": null,
      "id": "85c045a1",
      "metadata": {
        "id": "85c045a1",
        "outputId": "7ea6985f-c83d-4964-8ae3-e89c0a0b1c80"
      },
      "outputs": [
        {
          "data": {
            "text/html": [
              "<div>\n",
              "<style scoped>\n",
              "    .dataframe tbody tr th:only-of-type {\n",
              "        vertical-align: middle;\n",
              "    }\n",
              "\n",
              "    .dataframe tbody tr th {\n",
              "        vertical-align: top;\n",
              "    }\n",
              "\n",
              "    .dataframe thead th {\n",
              "        text-align: right;\n",
              "    }\n",
              "</style>\n",
              "<table border=\"1\" class=\"dataframe\">\n",
              "  <thead>\n",
              "    <tr style=\"text-align: right;\">\n",
              "      <th></th>\n",
              "      <th>customerID</th>\n",
              "      <th>MultipleLines</th>\n",
              "    </tr>\n",
              "  </thead>\n",
              "  <tbody>\n",
              "    <tr>\n",
              "      <th>count</th>\n",
              "      <td>6361</td>\n",
              "      <td>6361</td>\n",
              "    </tr>\n",
              "    <tr>\n",
              "      <th>unique</th>\n",
              "      <td>6361</td>\n",
              "      <td>2</td>\n",
              "    </tr>\n",
              "    <tr>\n",
              "      <th>top</th>\n",
              "      <td>5575-GNVDE</td>\n",
              "      <td>No</td>\n",
              "    </tr>\n",
              "    <tr>\n",
              "      <th>freq</th>\n",
              "      <td>1</td>\n",
              "      <td>3390</td>\n",
              "    </tr>\n",
              "  </tbody>\n",
              "</table>\n",
              "</div>"
            ],
            "text/plain": [
              "        customerID MultipleLines\n",
              "count         6361          6361\n",
              "unique        6361             2\n",
              "top     5575-GNVDE            No\n",
              "freq             1          3390"
            ]
          },
          "execution_count": 11,
          "metadata": {},
          "output_type": "execute_result"
        }
      ],
      "source": [
        "df_1.describe()"
      ]
    },
    {
      "cell_type": "code",
      "execution_count": null,
      "id": "07e31aaf",
      "metadata": {
        "id": "07e31aaf",
        "outputId": "5b0604c6-14c8-4acb-ac25-9d34d883321c"
      },
      "outputs": [
        {
          "data": {
            "text/html": [
              "<div>\n",
              "<style scoped>\n",
              "    .dataframe tbody tr th:only-of-type {\n",
              "        vertical-align: middle;\n",
              "    }\n",
              "\n",
              "    .dataframe tbody tr th {\n",
              "        vertical-align: top;\n",
              "    }\n",
              "\n",
              "    .dataframe thead th {\n",
              "        text-align: right;\n",
              "    }\n",
              "</style>\n",
              "<table border=\"1\" class=\"dataframe\">\n",
              "  <thead>\n",
              "    <tr style=\"text-align: right;\">\n",
              "      <th></th>\n",
              "      <th>SeniorCitizen</th>\n",
              "    </tr>\n",
              "  </thead>\n",
              "  <tbody>\n",
              "    <tr>\n",
              "      <th>count</th>\n",
              "      <td>7043.000000</td>\n",
              "    </tr>\n",
              "    <tr>\n",
              "      <th>mean</th>\n",
              "      <td>0.162147</td>\n",
              "    </tr>\n",
              "    <tr>\n",
              "      <th>std</th>\n",
              "      <td>0.368612</td>\n",
              "    </tr>\n",
              "    <tr>\n",
              "      <th>min</th>\n",
              "      <td>0.000000</td>\n",
              "    </tr>\n",
              "    <tr>\n",
              "      <th>25%</th>\n",
              "      <td>0.000000</td>\n",
              "    </tr>\n",
              "    <tr>\n",
              "      <th>50%</th>\n",
              "      <td>0.000000</td>\n",
              "    </tr>\n",
              "    <tr>\n",
              "      <th>75%</th>\n",
              "      <td>0.000000</td>\n",
              "    </tr>\n",
              "    <tr>\n",
              "      <th>max</th>\n",
              "      <td>1.000000</td>\n",
              "    </tr>\n",
              "  </tbody>\n",
              "</table>\n",
              "</div>"
            ],
            "text/plain": [
              "       SeniorCitizen\n",
              "count    7043.000000\n",
              "mean        0.162147\n",
              "std         0.368612\n",
              "min         0.000000\n",
              "25%         0.000000\n",
              "50%         0.000000\n",
              "75%         0.000000\n",
              "max         1.000000"
            ]
          },
          "execution_count": 12,
          "metadata": {},
          "output_type": "execute_result"
        }
      ],
      "source": [
        "df_2.describe()"
      ]
    },
    {
      "cell_type": "code",
      "execution_count": null,
      "id": "93804827",
      "metadata": {
        "id": "93804827",
        "outputId": "84fd7dc5-f448-40e4-ea19-8fb087d63a64"
      },
      "outputs": [
        {
          "data": {
            "text/html": [
              "<div>\n",
              "<style scoped>\n",
              "    .dataframe tbody tr th:only-of-type {\n",
              "        vertical-align: middle;\n",
              "    }\n",
              "\n",
              "    .dataframe tbody tr th {\n",
              "        vertical-align: top;\n",
              "    }\n",
              "\n",
              "    .dataframe thead th {\n",
              "        text-align: right;\n",
              "    }\n",
              "</style>\n",
              "<table border=\"1\" class=\"dataframe\">\n",
              "  <thead>\n",
              "    <tr style=\"text-align: right;\">\n",
              "      <th></th>\n",
              "      <th>customerID</th>\n",
              "      <th>InternetService</th>\n",
              "      <th>OnlineSecurity</th>\n",
              "      <th>OnlineBackup</th>\n",
              "      <th>DeviceProtection</th>\n",
              "      <th>TechSupport</th>\n",
              "      <th>StreamingTV</th>\n",
              "      <th>StreamingMovies</th>\n",
              "    </tr>\n",
              "  </thead>\n",
              "  <tbody>\n",
              "    <tr>\n",
              "      <th>count</th>\n",
              "      <td>5517</td>\n",
              "      <td>5517</td>\n",
              "      <td>5517</td>\n",
              "      <td>5517</td>\n",
              "      <td>5517</td>\n",
              "      <td>5517</td>\n",
              "      <td>5517</td>\n",
              "      <td>5517</td>\n",
              "    </tr>\n",
              "    <tr>\n",
              "      <th>unique</th>\n",
              "      <td>5517</td>\n",
              "      <td>2</td>\n",
              "      <td>2</td>\n",
              "      <td>2</td>\n",
              "      <td>2</td>\n",
              "      <td>2</td>\n",
              "      <td>2</td>\n",
              "      <td>2</td>\n",
              "    </tr>\n",
              "    <tr>\n",
              "      <th>top</th>\n",
              "      <td>7590-VHVEG</td>\n",
              "      <td>Fiber optic</td>\n",
              "      <td>No</td>\n",
              "      <td>No</td>\n",
              "      <td>No</td>\n",
              "      <td>No</td>\n",
              "      <td>No</td>\n",
              "      <td>No</td>\n",
              "    </tr>\n",
              "    <tr>\n",
              "      <th>freq</th>\n",
              "      <td>1</td>\n",
              "      <td>3096</td>\n",
              "      <td>3498</td>\n",
              "      <td>3088</td>\n",
              "      <td>3095</td>\n",
              "      <td>3473</td>\n",
              "      <td>2810</td>\n",
              "      <td>2785</td>\n",
              "    </tr>\n",
              "  </tbody>\n",
              "</table>\n",
              "</div>"
            ],
            "text/plain": [
              "        customerID InternetService OnlineSecurity OnlineBackup  \\\n",
              "count         5517            5517           5517         5517   \n",
              "unique        5517               2              2            2   \n",
              "top     7590-VHVEG     Fiber optic             No           No   \n",
              "freq             1            3096           3498         3088   \n",
              "\n",
              "       DeviceProtection TechSupport StreamingTV StreamingMovies  \n",
              "count              5517        5517        5517            5517  \n",
              "unique                2           2           2               2  \n",
              "top                  No          No          No              No  \n",
              "freq               3095        3473        2810            2785  "
            ]
          },
          "execution_count": 13,
          "metadata": {},
          "output_type": "execute_result"
        }
      ],
      "source": [
        "df_3.describe()"
      ]
    },
    {
      "cell_type": "code",
      "execution_count": null,
      "id": "ab8aabca",
      "metadata": {
        "id": "ab8aabca",
        "outputId": "a4eab081-dfb0-45ec-ebab-faa27230b742"
      },
      "outputs": [
        {
          "data": {
            "text/html": [
              "<div>\n",
              "<style scoped>\n",
              "    .dataframe tbody tr th:only-of-type {\n",
              "        vertical-align: middle;\n",
              "    }\n",
              "\n",
              "    .dataframe tbody tr th {\n",
              "        vertical-align: top;\n",
              "    }\n",
              "\n",
              "    .dataframe thead th {\n",
              "        text-align: right;\n",
              "    }\n",
              "</style>\n",
              "<table border=\"1\" class=\"dataframe\">\n",
              "  <thead>\n",
              "    <tr style=\"text-align: right;\">\n",
              "      <th></th>\n",
              "      <th>MonthlyCharges</th>\n",
              "    </tr>\n",
              "  </thead>\n",
              "  <tbody>\n",
              "    <tr>\n",
              "      <th>count</th>\n",
              "      <td>7043.000000</td>\n",
              "    </tr>\n",
              "    <tr>\n",
              "      <th>mean</th>\n",
              "      <td>64.761692</td>\n",
              "    </tr>\n",
              "    <tr>\n",
              "      <th>std</th>\n",
              "      <td>30.090047</td>\n",
              "    </tr>\n",
              "    <tr>\n",
              "      <th>min</th>\n",
              "      <td>18.250000</td>\n",
              "    </tr>\n",
              "    <tr>\n",
              "      <th>25%</th>\n",
              "      <td>35.500000</td>\n",
              "    </tr>\n",
              "    <tr>\n",
              "      <th>50%</th>\n",
              "      <td>70.350000</td>\n",
              "    </tr>\n",
              "    <tr>\n",
              "      <th>75%</th>\n",
              "      <td>89.850000</td>\n",
              "    </tr>\n",
              "    <tr>\n",
              "      <th>max</th>\n",
              "      <td>118.750000</td>\n",
              "    </tr>\n",
              "  </tbody>\n",
              "</table>\n",
              "</div>"
            ],
            "text/plain": [
              "       MonthlyCharges\n",
              "count     7043.000000\n",
              "mean        64.761692\n",
              "std         30.090047\n",
              "min         18.250000\n",
              "25%         35.500000\n",
              "50%         70.350000\n",
              "75%         89.850000\n",
              "max        118.750000"
            ]
          },
          "execution_count": 14,
          "metadata": {},
          "output_type": "execute_result"
        }
      ],
      "source": [
        "df_4.describe()"
      ]
    },
    {
      "cell_type": "markdown",
      "id": "1779b228",
      "metadata": {
        "id": "1779b228"
      },
      "source": [
        "### Проверяем на количество пропусков"
      ]
    },
    {
      "cell_type": "code",
      "execution_count": null,
      "id": "866ec41d",
      "metadata": {
        "id": "866ec41d",
        "outputId": "03a0bb79-4e78-4eb2-bcf9-6a9b5aeaee64"
      },
      "outputs": [
        {
          "data": {
            "text/plain": [
              "customerID       0\n",
              "MultipleLines    0\n",
              "dtype: int64"
            ]
          },
          "execution_count": 15,
          "metadata": {},
          "output_type": "execute_result"
        }
      ],
      "source": [
        "df_1.isna().sum()"
      ]
    },
    {
      "cell_type": "code",
      "execution_count": null,
      "id": "9d866679",
      "metadata": {
        "id": "9d866679",
        "outputId": "9ef0dc58-8f82-4a76-d652-6151ccc10e3c"
      },
      "outputs": [
        {
          "data": {
            "text/plain": [
              "customerID       0\n",
              "gender           0\n",
              "SeniorCitizen    0\n",
              "Partner          0\n",
              "Dependents       0\n",
              "dtype: int64"
            ]
          },
          "execution_count": 16,
          "metadata": {},
          "output_type": "execute_result"
        }
      ],
      "source": [
        "df_2.isna().sum()"
      ]
    },
    {
      "cell_type": "code",
      "execution_count": null,
      "id": "7e4b3d66",
      "metadata": {
        "id": "7e4b3d66",
        "outputId": "5daeb343-2e3c-4579-de49-c5713b727c9e"
      },
      "outputs": [
        {
          "data": {
            "text/plain": [
              "customerID          0\n",
              "InternetService     0\n",
              "OnlineSecurity      0\n",
              "OnlineBackup        0\n",
              "DeviceProtection    0\n",
              "TechSupport         0\n",
              "StreamingTV         0\n",
              "StreamingMovies     0\n",
              "dtype: int64"
            ]
          },
          "execution_count": 17,
          "metadata": {},
          "output_type": "execute_result"
        }
      ],
      "source": [
        "df_3.isna().sum()"
      ]
    },
    {
      "cell_type": "code",
      "execution_count": null,
      "id": "2469c82c",
      "metadata": {
        "id": "2469c82c",
        "outputId": "697b69ba-a5b0-40e8-cc16-6e9c6fd52370"
      },
      "outputs": [
        {
          "data": {
            "text/plain": [
              "customerID          0\n",
              "BeginDate           0\n",
              "EndDate             0\n",
              "Type                0\n",
              "PaperlessBilling    0\n",
              "PaymentMethod       0\n",
              "MonthlyCharges      0\n",
              "TotalCharges        0\n",
              "dtype: int64"
            ]
          },
          "execution_count": 18,
          "metadata": {},
          "output_type": "execute_result"
        }
      ],
      "source": [
        "df_4.isna().sum()"
      ]
    },
    {
      "cell_type": "markdown",
      "id": "d2f96e6c",
      "metadata": {
        "id": "d2f96e6c"
      },
      "source": [
        "Пропуски отсутствуют, идем дальше, построим графики по каждому датасету"
      ]
    },
    {
      "cell_type": "code",
      "execution_count": null,
      "id": "b1a8d5c9",
      "metadata": {
        "id": "b1a8d5c9",
        "outputId": "aca5f774-a81f-47be-c4fc-df49438503e1"
      },
      "outputs": [
        {
          "data": {
            "image/png": "[encoded data removed]",
            "text/plain": [
              "<Figure size 648x648 with 1 Axes>"
            ]
          },
          "metadata": {
            "needs_background": "light"
          },
          "output_type": "display_data"
        }
      ],
      "source": [
        "df_1['MultipleLines'].hist(figsize=(9,9))\n",
        "plt.title('Распределение кол-ва подключенных линий')\n",
        "plt.show()\n"
      ]
    },
    {
      "cell_type": "markdown",
      "id": "d9fa0538",
      "metadata": {
        "id": "d9fa0538"
      },
      "source": [
        "Клиентов подключенных по нескольким сетям меньше"
      ]
    },
    {
      "cell_type": "code",
      "execution_count": null,
      "id": "49225915",
      "metadata": {
        "id": "49225915",
        "outputId": "2e58d37f-b140-4e64-8f2c-42ddb6bbd2a9"
      },
      "outputs": [
        {
          "data": {
            "image/png": "[encoded data removed]",
            "text/plain": [
              "<Figure size 432x288 with 1 Axes>"
            ]
          },
          "metadata": {
            "needs_background": "light"
          },
          "output_type": "display_data"
        }
      ],
      "source": [
        "df_2['gender'].hist()\n",
        "plt.title('Распределние пола клиента')\n",
        "plt.show()"
      ]
    },
    {
      "cell_type": "markdown",
      "id": "8b1da7fb",
      "metadata": {
        "id": "8b1da7fb"
      },
      "source": [
        "Соотношение мужчин и женин примерно одинаковое"
      ]
    },
    {
      "cell_type": "code",
      "execution_count": null,
      "id": "7f5966ba",
      "metadata": {
        "id": "7f5966ba",
        "outputId": "bd477cb4-7f2a-4272-d0d8-09de3099f4c8"
      },
      "outputs": [
        {
          "data": {
            "image/png": "[encoded data removed]",
            "text/plain": [
              "<Figure size 432x288 with 1 Axes>"
            ]
          },
          "metadata": {
            "needs_background": "light"
          },
          "output_type": "display_data"
        }
      ],
      "source": [
        "df_2['SeniorCitizen'].hist()\n",
        "plt.title('Гражданин страны')\n",
        "plt.show()"
      ]
    },
    {
      "cell_type": "markdown",
      "id": "e00d001d",
      "metadata": {
        "id": "e00d001d"
      },
      "source": [
        "Всего лишь 20% являются граждаными города"
      ]
    },
    {
      "cell_type": "code",
      "execution_count": null,
      "id": "499ffb20",
      "metadata": {
        "id": "499ffb20",
        "outputId": "8bf5f452-7060-46eb-b4bf-42458b52c4c2"
      },
      "outputs": [
        {
          "data": {
            "image/png": "[encoded data removed]",
            "text/plain": [
              "<Figure size 432x288 with 1 Axes>"
            ]
          },
          "metadata": {
            "needs_background": "light"
          },
          "output_type": "display_data"
        }
      ],
      "source": [
        "df_3['InternetService'].hist()\n",
        "plt.title('Тип подключения')\n",
        "plt.show()"
      ]
    },
    {
      "cell_type": "markdown",
      "id": "56db0860",
      "metadata": {
        "id": "56db0860"
      },
      "source": [
        "По оптике подключено больше клиентов, оптоволкно сейчас дает больше скоростных возможностей."
      ]
    },
    {
      "cell_type": "code",
      "execution_count": null,
      "id": "8f618ff5",
      "metadata": {
        "id": "8f618ff5",
        "outputId": "a109b0b6-1e5b-4c5a-8cf5-b21fd60598d2"
      },
      "outputs": [
        {
          "data": {
            "image/png": "[encoded data removed]",
            "text/plain": [
              "<Figure size 432x288 with 1 Axes>"
            ]
          },
          "metadata": {
            "needs_background": "light"
          },
          "output_type": "display_data"
        }
      ],
      "source": [
        "df_3['OnlineSecurity'].hist()\n",
        "plt.title('Online Security')\n",
        "plt.show()"
      ]
    },
    {
      "cell_type": "markdown",
      "id": "1baf538a",
      "metadata": {
        "id": "1baf538a"
      },
      "source": [
        "Мало кто пользуется защитой интернет соединения от провайдера."
      ]
    },
    {
      "cell_type": "code",
      "execution_count": null,
      "id": "d36dce30",
      "metadata": {
        "id": "d36dce30",
        "outputId": "1b06e95c-bbfb-4677-892a-04dfaf30ccd8"
      },
      "outputs": [
        {
          "data": {
            "image/png": "[encoded data removed]",
            "text/plain": [
              "<Figure size 432x288 with 1 Axes>"
            ]
          },
          "metadata": {
            "needs_background": "light"
          },
          "output_type": "display_data"
        }
      ],
      "source": [
        "df_3['OnlineBackup'].hist()\n",
        "plt.title('OnlineBackup')\n",
        "plt.show()"
      ]
    },
    {
      "cell_type": "markdown",
      "id": "dc460097",
      "metadata": {
        "id": "dc460097"
      },
      "source": [
        "Почти 40% пользуется облачными сервисами"
      ]
    },
    {
      "cell_type": "code",
      "execution_count": null,
      "id": "6c878366",
      "metadata": {
        "id": "6c878366",
        "outputId": "b9721129-4ca2-4185-b863-b52d8e9fc43f"
      },
      "outputs": [
        {
          "data": {
            "image/png": "[encoded data removed]",
            "text/plain": [
              "<Figure size 432x288 with 1 Axes>"
            ]
          },
          "metadata": {
            "needs_background": "light"
          },
          "output_type": "display_data"
        }
      ],
      "source": [
        "df_3['DeviceProtection'].hist()\n",
        "plt.title('Установили антивирус')\n",
        "plt.show()"
      ]
    },
    {
      "cell_type": "markdown",
      "id": "bfe2220f",
      "metadata": {
        "id": "bfe2220f"
      },
      "source": [
        "Антивирусом не пользуется большая часть клиентов."
      ]
    },
    {
      "cell_type": "code",
      "execution_count": null,
      "id": "47f065c9",
      "metadata": {
        "id": "47f065c9",
        "outputId": "16011595-ae7c-4c82-f98f-e5aa11f0695a"
      },
      "outputs": [
        {
          "data": {
            "image/png": "[encoded data removed]",
            "text/plain": [
              "<Figure size 432x288 with 1 Axes>"
            ]
          },
          "metadata": {
            "needs_background": "light"
          },
          "output_type": "display_data"
        }
      ],
      "source": [
        "df_3['TechSupport'].hist()\n",
        "plt.title('Выделенная линия техподдержки')\n",
        "plt.show()"
      ]
    },
    {
      "cell_type": "code",
      "execution_count": null,
      "id": "f898edc9",
      "metadata": {
        "id": "f898edc9",
        "outputId": "7249b22f-e73c-4f4e-e073-322d58a4a4c1"
      },
      "outputs": [
        {
          "data": {
            "image/png": "[encoded data removed]",
            "text/plain": [
              "<Figure size 432x288 with 1 Axes>"
            ]
          },
          "metadata": {
            "needs_background": "light"
          },
          "output_type": "display_data"
        }
      ],
      "source": [
        "df_3['StreamingTV'].hist()\n",
        "plt.title('Потоковое ТВ')\n",
        "plt.show()"
      ]
    },
    {
      "cell_type": "markdown",
      "id": "f936db5f",
      "metadata": {
        "id": "f936db5f"
      },
      "source": [
        "Потоковым ТВ пользуеся примерно половина и половина не пользуется."
      ]
    },
    {
      "cell_type": "code",
      "execution_count": null,
      "id": "04178592",
      "metadata": {
        "id": "04178592",
        "outputId": "699f261f-08fc-48e8-eb50-59323fa7519a"
      },
      "outputs": [
        {
          "data": {
            "image/png": "[encoded data removed]",
            "text/plain": [
              "<Figure size 432x288 with 1 Axes>"
            ]
          },
          "metadata": {
            "needs_background": "light"
          },
          "output_type": "display_data"
        }
      ],
      "source": [
        "df_3['StreamingMovies'].hist()\n",
        "plt.title('Фильмы')\n",
        "plt.show()"
      ]
    },
    {
      "cell_type": "markdown",
      "id": "49a9995f",
      "metadata": {
        "id": "49a9995f"
      },
      "source": [
        "Ровно как и потоковыми фильмами"
      ]
    },
    {
      "cell_type": "code",
      "execution_count": null,
      "id": "8a9fcccd",
      "metadata": {
        "id": "8a9fcccd",
        "outputId": "3f4e3260-5acc-4e51-e9a2-9953a7bfafc1"
      },
      "outputs": [
        {
          "data": {
            "image/png": "[encoded data removed]",
            "text/plain": [
              "<Figure size 432x288 with 1 Axes>"
            ]
          },
          "metadata": {
            "needs_background": "light"
          },
          "output_type": "display_data"
        }
      ],
      "source": [
        "df_4['PaperlessBilling'].hist()\n",
        "plt.title('Электронный чек')\n",
        "plt.show()"
      ]
    },
    {
      "cell_type": "markdown",
      "id": "471ef912",
      "metadata": {
        "id": "471ef912"
      },
      "source": [
        "Примерно 60% клиентов отказались от бумажных чеков, берегут природу"
      ]
    },
    {
      "cell_type": "code",
      "execution_count": null,
      "id": "b6836bff",
      "metadata": {
        "id": "b6836bff",
        "outputId": "280f3730-24ed-4e83-d34a-1dc6d4e3bace"
      },
      "outputs": [
        {
          "data": {
            "image/png": "[encoded data removed]",
            "text/plain": [
              "<Figure size 648x648 with 1 Axes>"
            ]
          },
          "metadata": {
            "needs_background": "light"
          },
          "output_type": "display_data"
        }
      ],
      "source": [
        "df_4['PaymentMethod'].hist(figsize=(9,9))\n",
        "plt.title('Спосбо выставления счета')\n",
        "plt.show()"
      ]
    },
    {
      "cell_type": "markdown",
      "id": "694f6087",
      "metadata": {
        "id": "694f6087"
      },
      "source": [
        "Чаще клиенты предпочитают получать счет на емэйл, меньше в бумажном виде, у остальных подлюкчен автоплатеж."
      ]
    },
    {
      "cell_type": "code",
      "execution_count": null,
      "id": "081f1e3b",
      "metadata": {
        "id": "081f1e3b",
        "outputId": "eec41bb3-5603-4f3c-d01d-7a7cd1485358"
      },
      "outputs": [
        {
          "data": {
            "image/png": "[encoded data removed]",
            "text/plain": [
              "<Figure size 648x648 with 1 Axes>"
            ]
          },
          "metadata": {
            "needs_background": "light"
          },
          "output_type": "display_data"
        }
      ],
      "source": [
        "df_4['MonthlyCharges'].hist(figsize=(9,9))\n",
        "plt.title('Ежемесячный платеж')\n",
        "plt.show()"
      ]
    },
    {
      "cell_type": "markdown",
      "id": "44f5883f",
      "metadata": {
        "id": "44f5883f"
      },
      "source": [
        "Как видно из графика, мы видим подтверждение предыдущих графиков, где люди не пользуются дополнительными продуктами от провайдера и платят только за интернет."
      ]
    },
    {
      "cell_type": "code",
      "execution_count": null,
      "id": "ad22ac62",
      "metadata": {
        "id": "ad22ac62",
        "outputId": "e6a6079a-4e1b-433b-c8f0-fb4002a4e9fd"
      },
      "outputs": [
        {
          "data": {
            "image/png": "[encoded data removed]",
            "text/plain": [
              "<Figure size 648x648 with 1 Axes>"
            ]
          },
          "metadata": {
            "needs_background": "light"
          },
          "output_type": "display_data"
        }
      ],
      "source": [
        "df_4['Type'].hist(figsize=(9,9))\n",
        "plt.title('Тип плаежа')\n",
        "plt.show()"
      ]
    },
    {
      "cell_type": "markdown",
      "id": "6a93eba7",
      "metadata": {
        "id": "6a93eba7"
      },
      "source": [
        "Больщинство клиентом предпочитает ежемесячную оплату, меньше платят сразу год, чуть больше клиентов оплачивают сразу за 2 года - постоянные клиенты, скорее всего кто расчитывает на долгосрочное сотруничество."
      ]
    },
    {
      "cell_type": "markdown",
      "id": "369e32fc",
      "metadata": {
        "id": "369e32fc"
      },
      "source": [
        "Мы выгрузли данные по каждому датасету, познакомились с ними. Проверили на наличие пропусков, тип данных, построили графики по главным столбцам каждого датасета, чтобы визуально определить тип клиентов, какими продуктами чаще всего пользуются от интернет-провайдера. Увидели предпочтительный способ оплаты и получения счета. Дальнейшая наша задача будет определить самого \"нелояльного клиента\" который платит по месяцам, дабы возможно пробный период, либо с дальнейшими намерениями переключить на более дешевого провайдера, и который соответственно возможно, не пользуеся ни одним доп.продуктов провайдера, по поведению которого нам нужно обучить модель, для предсказания оттока клиентов."
      ]
    },
    {
      "cell_type": "markdown",
      "id": "fcb97278",
      "metadata": {
        "id": "fcb97278"
      },
      "source": [
        "## 2. Предобработка данных\n",
        "\n",
        "Предобработку данных начнем с объединения всех таблиц в одну по ключу customer_id"
      ]
    },
    {
      "cell_type": "code",
      "execution_count": null,
      "id": "6305e3b9",
      "metadata": {
        "id": "6305e3b9"
      },
      "outputs": [],
      "source": [
        "df_full = pd.merge(df_2,df_4, on = 'customerID', how = 'left')"
      ]
    },
    {
      "cell_type": "code",
      "execution_count": null,
      "id": "299ce898",
      "metadata": {
        "id": "299ce898"
      },
      "outputs": [],
      "source": [
        "df_full = pd.merge(df_full, df_1, on='customerID', how='left')"
      ]
    },
    {
      "cell_type": "code",
      "execution_count": null,
      "id": "661768cc",
      "metadata": {
        "id": "661768cc"
      },
      "outputs": [],
      "source": [
        "df_full = pd.merge(df_full, df_3, on = 'customerID', how='left')"
      ]
    },
    {
      "cell_type": "markdown",
      "id": "0d20981c",
      "metadata": {
        "id": "0d20981c"
      },
      "source": [
        "После объединения выведем основную информацию по новой таблице."
      ]
    },
    {
      "cell_type": "code",
      "execution_count": null,
      "id": "66b49275",
      "metadata": {
        "id": "66b49275",
        "outputId": "bd764731-90d5-481d-9b6d-3eb43a9cf034"
      },
      "outputs": [
        {
          "name": "stdout",
          "output_type": "stream",
          "text": [
            "<class 'pandas.core.frame.DataFrame'>\n",
            "Int64Index: 7043 entries, 0 to 7042\n",
            "Data columns (total 20 columns):\n",
            " #   Column            Non-Null Count  Dtype  \n",
            "---  ------            --------------  -----  \n",
            " 0   customerID        7043 non-null   object \n",
            " 1   gender            7043 non-null   object \n",
            " 2   SeniorCitizen     7043 non-null   int64  \n",
            " 3   Partner           7043 non-null   object \n",
            " 4   Dependents        7043 non-null   object \n",
            " 5   BeginDate         7043 non-null   object \n",
            " 6   EndDate           7043 non-null   object \n",
            " 7   Type              7043 non-null   object \n",
            " 8   PaperlessBilling  7043 non-null   object \n",
            " 9   PaymentMethod     7043 non-null   object \n",
            " 10  MonthlyCharges    7043 non-null   float64\n",
            " 11  TotalCharges      7043 non-null   object \n",
            " 12  MultipleLines     6361 non-null   object \n",
            " 13  InternetService   5517 non-null   object \n",
            " 14  OnlineSecurity    5517 non-null   object \n",
            " 15  OnlineBackup      5517 non-null   object \n",
            " 16  DeviceProtection  5517 non-null   object \n",
            " 17  TechSupport       5517 non-null   object \n",
            " 18  StreamingTV       5517 non-null   object \n",
            " 19  StreamingMovies   5517 non-null   object \n",
            "dtypes: float64(1), int64(1), object(18)\n",
            "memory usage: 1.1+ MB\n"
          ]
        }
      ],
      "source": [
        "df_full.info()"
      ]
    },
    {
      "cell_type": "code",
      "execution_count": null,
      "id": "f76152bf",
      "metadata": {
        "id": "f76152bf",
        "outputId": "1335f77c-a9dd-474b-87da-b81bbe1e611c"
      },
      "outputs": [
        {
          "data": {
            "text/plain": [
              "customerID           object\n",
              "gender               object\n",
              "SeniorCitizen         int64\n",
              "Partner              object\n",
              "Dependents           object\n",
              "BeginDate            object\n",
              "EndDate              object\n",
              "Type                 object\n",
              "PaperlessBilling     object\n",
              "PaymentMethod        object\n",
              "MonthlyCharges      float64\n",
              "TotalCharges         object\n",
              "MultipleLines        object\n",
              "InternetService      object\n",
              "OnlineSecurity       object\n",
              "OnlineBackup         object\n",
              "DeviceProtection     object\n",
              "TechSupport          object\n",
              "StreamingTV          object\n",
              "StreamingMovies      object\n",
              "dtype: object"
            ]
          },
          "execution_count": 37,
          "metadata": {},
          "output_type": "execute_result"
        }
      ],
      "source": [
        "df_full.dtypes"
      ]
    },
    {
      "cell_type": "markdown",
      "id": "deffbe32",
      "metadata": {
        "id": "deffbe32"
      },
      "source": [
        "Для удобства чтения и написания кода, приведем названия столбцов к нижнему регистру"
      ]
    },
    {
      "cell_type": "code",
      "execution_count": null,
      "id": "716f2a14",
      "metadata": {
        "id": "716f2a14"
      },
      "outputs": [],
      "source": [
        "df_full.columns = df_full.columns.str.lower()"
      ]
    },
    {
      "cell_type": "code",
      "execution_count": null,
      "id": "1c852ddd",
      "metadata": {
        "id": "1c852ddd",
        "outputId": "15f93e1c-966c-4399-df7f-f6224671db11"
      },
      "outputs": [
        {
          "data": {
            "text/plain": [
              "customerid             0\n",
              "gender                 0\n",
              "seniorcitizen          0\n",
              "partner                0\n",
              "dependents             0\n",
              "begindate              0\n",
              "enddate                0\n",
              "type                   0\n",
              "paperlessbilling       0\n",
              "paymentmethod          0\n",
              "monthlycharges         0\n",
              "totalcharges           0\n",
              "multiplelines        682\n",
              "internetservice     1526\n",
              "onlinesecurity      1526\n",
              "onlinebackup        1526\n",
              "deviceprotection    1526\n",
              "techsupport         1526\n",
              "streamingtv         1526\n",
              "streamingmovies     1526\n",
              "dtype: int64"
            ]
          },
          "execution_count": 39,
          "metadata": {},
          "output_type": "execute_result"
        }
      ],
      "source": [
        "df_full.isna().sum()"
      ]
    },
    {
      "cell_type": "markdown",
      "id": "ae936506",
      "metadata": {
        "id": "ae936506"
      },
      "source": [
        "После объединения таблиц, в бывшей таблице internet образовались пропуски, причем одинаковое кол-во, возможно на дату создания анкеты не было информации по этим клиентам подключили они доп.продукты или не подключили их вообще. В таблице internet во всех столбцах о доп продуктах интернет провайдера были значения \"Yes\" и \"No\", значит логичнее будет заполнить пропуски в этих солбцах значением \"No\". А также в графе totalcharges тип object,  надо исправить на float64"
      ]
    },
    {
      "cell_type": "code",
      "execution_count": null,
      "id": "275cfec6",
      "metadata": {
        "id": "275cfec6",
        "outputId": "d80fd3ca-a375-4ff5-9805-8f6fd538cb63"
      },
      "outputs": [
        {
          "data": {
            "text/plain": [
              "array(['31.04', '2071.84', '226.17', ..., '325.6', '520.8', '7251.82'],\n",
              "      dtype=object)"
            ]
          },
          "execution_count": 40,
          "metadata": {},
          "output_type": "execute_result"
        }
      ],
      "source": [
        "df_full['totalcharges'].unique()"
      ]
    },
    {
      "cell_type": "code",
      "execution_count": null,
      "id": "051f3949",
      "metadata": {
        "id": "051f3949",
        "outputId": "511aea8d-97ba-44dc-9bd1-9235e87f7844"
      },
      "outputs": [
        {
          "data": {
            "text/plain": [
              "11"
            ]
          },
          "execution_count": 41,
          "metadata": {},
          "output_type": "execute_result"
        }
      ],
      "source": [
        "(df_full['totalcharges']== ' ').sum()"
      ]
    },
    {
      "cell_type": "markdown",
      "id": "50bd997e",
      "metadata": {
        "id": "50bd997e"
      },
      "source": [
        "Оказывается по мимо типа данных есть еще проблема в в значении \"...\", что мешает нам перевести данные, таких случаев всего 11, избавимся от них"
      ]
    },
    {
      "cell_type": "code",
      "execution_count": null,
      "id": "fce4b3dd",
      "metadata": {
        "id": "fce4b3dd"
      },
      "outputs": [],
      "source": [
        "df_full = df_full[df_full['totalcharges'] != ' ']"
      ]
    },
    {
      "cell_type": "code",
      "execution_count": null,
      "id": "951cc403",
      "metadata": {
        "id": "951cc403"
      },
      "outputs": [],
      "source": [
        "df_full['totalcharges'] = df_full['totalcharges'].astype('float64')"
      ]
    },
    {
      "cell_type": "code",
      "execution_count": null,
      "id": "c3965c2d",
      "metadata": {
        "id": "c3965c2d"
      },
      "outputs": [],
      "source": [
        "df_full['multiplelines'] = df_full['multiplelines'].fillna('No')"
      ]
    },
    {
      "cell_type": "code",
      "execution_count": null,
      "id": "f0bf4cad",
      "metadata": {
        "id": "f0bf4cad"
      },
      "outputs": [],
      "source": [
        "df_full['internetservice'] = df_full['internetservice'].fillna('No')"
      ]
    },
    {
      "cell_type": "code",
      "execution_count": null,
      "id": "5f8c74bd",
      "metadata": {
        "id": "5f8c74bd"
      },
      "outputs": [],
      "source": [
        "df_full['onlinesecurity'] = df_full['onlinesecurity'].fillna('No')"
      ]
    },
    {
      "cell_type": "code",
      "execution_count": null,
      "id": "2881b728",
      "metadata": {
        "id": "2881b728"
      },
      "outputs": [],
      "source": [
        "df_full['onlinebackup'] = df_full['onlinebackup'].fillna('No')"
      ]
    },
    {
      "cell_type": "code",
      "execution_count": null,
      "id": "98700bdc",
      "metadata": {
        "id": "98700bdc"
      },
      "outputs": [],
      "source": [
        "df_full['deviceprotection'] = df_full['deviceprotection'].fillna('No')"
      ]
    },
    {
      "cell_type": "code",
      "execution_count": null,
      "id": "fd611053",
      "metadata": {
        "id": "fd611053"
      },
      "outputs": [],
      "source": [
        "df_full['techsupport'] = df_full['techsupport'].fillna('No')"
      ]
    },
    {
      "cell_type": "code",
      "execution_count": null,
      "id": "a5985733",
      "metadata": {
        "id": "a5985733"
      },
      "outputs": [],
      "source": [
        "df_full['streamingtv'] = df_full['streamingtv'].fillna('No')"
      ]
    },
    {
      "cell_type": "code",
      "execution_count": null,
      "id": "67064256",
      "metadata": {
        "id": "67064256"
      },
      "outputs": [],
      "source": [
        "df_full['streamingmovies'] = df_full['streamingmovies'].fillna('No')"
      ]
    },
    {
      "cell_type": "code",
      "execution_count": null,
      "id": "788a8bf0",
      "metadata": {
        "id": "788a8bf0",
        "outputId": "01e15fa5-1ef0-40e8-ed64-8b8dc3523e71"
      },
      "outputs": [
        {
          "data": {
            "text/plain": [
              "customerid          0\n",
              "gender              0\n",
              "seniorcitizen       0\n",
              "partner             0\n",
              "dependents          0\n",
              "begindate           0\n",
              "enddate             0\n",
              "type                0\n",
              "paperlessbilling    0\n",
              "paymentmethod       0\n",
              "monthlycharges      0\n",
              "totalcharges        0\n",
              "multiplelines       0\n",
              "internetservice     0\n",
              "onlinesecurity      0\n",
              "onlinebackup        0\n",
              "deviceprotection    0\n",
              "techsupport         0\n",
              "streamingtv         0\n",
              "streamingmovies     0\n",
              "dtype: int64"
            ]
          },
          "execution_count": 52,
          "metadata": {},
          "output_type": "execute_result"
        }
      ],
      "source": [
        "df_full.isna().sum()"
      ]
    },
    {
      "cell_type": "markdown",
      "id": "836e4801",
      "metadata": {
        "id": "836e4801"
      },
      "source": [
        "Пропуски заполнены"
      ]
    },
    {
      "cell_type": "code",
      "execution_count": null,
      "id": "b050614c",
      "metadata": {
        "id": "b050614c",
        "outputId": "072e5aef-ee60-4093-905b-ff0b8a6fd4de"
      },
      "outputs": [
        {
          "data": {
            "text/plain": [
              "2014-02-01    366\n",
              "2019-10-01    237\n",
              "2019-11-01    237\n",
              "2019-09-01    237\n",
              "2020-01-01    233\n",
              "             ... \n",
              "2016-11-01     50\n",
              "2014-01-01      7\n",
              "2013-10-01      3\n",
              "2013-12-01      3\n",
              "2013-11-01      2\n",
              "Name: begindate, Length: 76, dtype: int64"
            ]
          },
          "execution_count": 53,
          "metadata": {},
          "output_type": "execute_result"
        }
      ],
      "source": [
        "df_full['begindate'].value_counts()"
      ]
    },
    {
      "cell_type": "code",
      "execution_count": null,
      "id": "9f6b1e09",
      "metadata": {
        "id": "9f6b1e09",
        "outputId": "758150bd-cf5d-44cc-99e2-4bce46b6a812"
      },
      "outputs": [
        {
          "data": {
            "text/plain": [
              "No            5931\n",
              "2020-01-01      39\n",
              "2019-12-01      38\n",
              "2018-11-01      35\n",
              "2019-09-01      32\n",
              "              ... \n",
              "2014-09-01       2\n",
              "2014-12-01       2\n",
              "2014-06-01       1\n",
              "2014-10-01       1\n",
              "2014-11-01       1\n",
              "Name: enddate, Length: 67, dtype: int64"
            ]
          },
          "execution_count": 54,
          "metadata": {},
          "output_type": "execute_result"
        }
      ],
      "source": [
        "df_full['enddate'].value_counts()"
      ]
    },
    {
      "cell_type": "markdown",
      "id": "8342e933",
      "metadata": {
        "id": "8342e933"
      },
      "source": [
        "В столбце enddate по мимо даты есть значение \"No\" - это означает, что клиент еще не ушел из компании. Предлагаю посмотреть, как долго клиенты были клиентами компании до ухода. Для этого переведем типа данных в этих столбцах в DateTime, т.к. в столбце endate есть значение No, то это значение забьем заглушкой, равной датой актуальности данных, по условию это 2020-02-01, перед этим зададим целевой признак, по которму модель будет определять факт воможного ухода клиента, соответственно, нам нужно создать еще один столбец, в которм будут значения 1 и 0, ушел клиент или нет, соответственно."
      ]
    },
    {
      "cell_type": "code",
      "execution_count": null,
      "id": "f0b13d4a",
      "metadata": {
        "id": "f0b13d4a"
      },
      "outputs": [],
      "source": [
        "df_full['purpose'] = df_full.apply(lambda x: 0 if x.enddate =='No' else 1, axis =1)"
      ]
    },
    {
      "cell_type": "markdown",
      "id": "bd0c3a0a",
      "metadata": {
        "id": "bd0c3a0a"
      },
      "source": [
        "Посмотрим, сколько клиентов ушло"
      ]
    },
    {
      "cell_type": "markdown",
      "id": "daf5a544",
      "metadata": {
        "id": "daf5a544"
      },
      "source": [
        "<div class=\"alert alert-block alert-success\"; style=\"border-left: 6px solid green\">\n",
        "<b>Комментарий тимлида V2 ✔️</b>\n",
        "       \n",
        "С целевым разобрались!\n",
        "    \n",
        "</div>\n"
      ]
    },
    {
      "cell_type": "code",
      "execution_count": null,
      "id": "c4cd94b0",
      "metadata": {
        "id": "c4cd94b0",
        "outputId": "f1fa2aa9-457d-4f57-8f1b-299910f5d96b"
      },
      "outputs": [
        {
          "data": {
            "text/plain": [
              "0    5931\n",
              "1    1101\n",
              "Name: purpose, dtype: int64"
            ]
          },
          "execution_count": 56,
          "metadata": {},
          "output_type": "execute_result"
        }
      ],
      "source": [
        "df_full['purpose'].value_counts()"
      ]
    },
    {
      "cell_type": "code",
      "execution_count": null,
      "id": "46f07887",
      "metadata": {
        "id": "46f07887",
        "outputId": "da9050ec-b93b-4f7c-e47a-4cdfc08304c6"
      },
      "outputs": [
        {
          "data": {
            "text/plain": [
              "15.656996587030717"
            ]
          },
          "execution_count": 57,
          "metadata": {},
          "output_type": "execute_result"
        }
      ],
      "source": [
        "len(df_full[(df_full['purpose'] == 1)])/len(df_full['purpose'])*100"
      ]
    },
    {
      "cell_type": "code",
      "execution_count": null,
      "id": "3e75be50",
      "metadata": {
        "id": "3e75be50",
        "outputId": "b068a1a4-bed9-4503-f46c-e2007b6fb555"
      },
      "outputs": [
        {
          "data": {
            "image/png": "[encoded data removed]",
            "text/plain": [
              "<Figure size 432x288 with 1 Axes>"
            ]
          },
          "metadata": {
            "needs_background": "light"
          },
          "output_type": "display_data"
        }
      ],
      "source": [
        "df_full['purpose'].hist()\n",
        "plt.show()"
      ]
    },
    {
      "cell_type": "markdown",
      "id": "ba147a3d",
      "metadata": {
        "id": "ba147a3d"
      },
      "source": [
        "Наблюдаем дисбаланс классов"
      ]
    },
    {
      "cell_type": "code",
      "execution_count": null,
      "id": "daf87fa6",
      "metadata": {
        "id": "daf87fa6"
      },
      "outputs": [],
      "source": [
        "df_full['begindate'] = df_full['begindate'].astype('datetime64')"
      ]
    },
    {
      "cell_type": "code",
      "execution_count": null,
      "id": "7aec7b3e",
      "metadata": {
        "id": "7aec7b3e"
      },
      "outputs": [],
      "source": [
        "date = '2020-02-01'"
      ]
    },
    {
      "cell_type": "code",
      "execution_count": null,
      "id": "8a43ea4f",
      "metadata": {
        "id": "8a43ea4f"
      },
      "outputs": [],
      "source": [
        "df_full.loc[df_full['enddate'] == 'No', 'enddate'] = date"
      ]
    },
    {
      "cell_type": "code",
      "execution_count": null,
      "id": "34929a72",
      "metadata": {
        "id": "34929a72"
      },
      "outputs": [],
      "source": [
        "df_full['enddate'] = df_full['enddate'].astype('datetime64')"
      ]
    },
    {
      "cell_type": "code",
      "execution_count": null,
      "id": "87816f82",
      "metadata": {
        "id": "87816f82"
      },
      "outputs": [],
      "source": [
        "df_full['ratio'] = (df_full['enddate']- df_full['begindate']).dt.days"
      ]
    },
    {
      "cell_type": "code",
      "execution_count": null,
      "id": "72eabae8",
      "metadata": {
        "scrolled": true,
        "id": "72eabae8",
        "outputId": "755adc18-71d2-46a2-aeb8-d89c1c6d9514"
      },
      "outputs": [
        {
          "name": "stderr",
          "output_type": "stream",
          "text": [
            "C:\\Users\\katze\\anaconda3\\lib\\site-packages\\seaborn\\distributions.py:2619: FutureWarning: `distplot` is a deprecated function and will be removed in a future version. Please adapt your code to use either `displot` (a figure-level function with similar flexibility) or `histplot` (an axes-level function for histograms).\n",
            "  warnings.warn(msg, FutureWarning)\n"
          ]
        },
        {
          "data": {
            "image/png": "[encoded data removed]",
            "text/plain": [
              "<Figure size 432x288 with 1 Axes>"
            ]
          },
          "metadata": {
            "needs_background": "light"
          },
          "output_type": "display_data"
        }
      ],
      "source": [
        "sns.distplot(df_full['ratio'])\n",
        "plt.show()"
      ]
    },
    {
      "cell_type": "markdown",
      "id": "83d1f4a8",
      "metadata": {
        "id": "83d1f4a8"
      },
      "source": [
        "Выведем новую таблицу"
      ]
    },
    {
      "cell_type": "code",
      "execution_count": null,
      "id": "625c0940",
      "metadata": {
        "id": "625c0940",
        "outputId": "0a12c3a6-741c-40ae-83ff-08034bdbcaa7"
      },
      "outputs": [
        {
          "data": {
            "text/html": [
              "<div>\n",
              "<style scoped>\n",
              "    .dataframe tbody tr th:only-of-type {\n",
              "        vertical-align: middle;\n",
              "    }\n",
              "\n",
              "    .dataframe tbody tr th {\n",
              "        vertical-align: top;\n",
              "    }\n",
              "\n",
              "    .dataframe thead th {\n",
              "        text-align: right;\n",
              "    }\n",
              "</style>\n",
              "<table border=\"1\" class=\"dataframe\">\n",
              "  <thead>\n",
              "    <tr style=\"text-align: right;\">\n",
              "      <th></th>\n",
              "      <th>customerid</th>\n",
              "      <th>gender</th>\n",
              "      <th>seniorcitizen</th>\n",
              "      <th>partner</th>\n",
              "      <th>dependents</th>\n",
              "      <th>begindate</th>\n",
              "      <th>enddate</th>\n",
              "      <th>type</th>\n",
              "      <th>paperlessbilling</th>\n",
              "      <th>paymentmethod</th>\n",
              "      <th>...</th>\n",
              "      <th>multiplelines</th>\n",
              "      <th>internetservice</th>\n",
              "      <th>onlinesecurity</th>\n",
              "      <th>onlinebackup</th>\n",
              "      <th>deviceprotection</th>\n",
              "      <th>techsupport</th>\n",
              "      <th>streamingtv</th>\n",
              "      <th>streamingmovies</th>\n",
              "      <th>purpose</th>\n",
              "      <th>ratio</th>\n",
              "    </tr>\n",
              "  </thead>\n",
              "  <tbody>\n",
              "    <tr>\n",
              "      <th>0</th>\n",
              "      <td>7590-VHVEG</td>\n",
              "      <td>Female</td>\n",
              "      <td>0</td>\n",
              "      <td>Yes</td>\n",
              "      <td>No</td>\n",
              "      <td>2020-01-01</td>\n",
              "      <td>2020-02-01</td>\n",
              "      <td>Month-to-month</td>\n",
              "      <td>Yes</td>\n",
              "      <td>Electronic check</td>\n",
              "      <td>...</td>\n",
              "      <td>No</td>\n",
              "      <td>DSL</td>\n",
              "      <td>No</td>\n",
              "      <td>Yes</td>\n",
              "      <td>No</td>\n",
              "      <td>No</td>\n",
              "      <td>No</td>\n",
              "      <td>No</td>\n",
              "      <td>0</td>\n",
              "      <td>31</td>\n",
              "    </tr>\n",
              "    <tr>\n",
              "      <th>1</th>\n",
              "      <td>5575-GNVDE</td>\n",
              "      <td>Male</td>\n",
              "      <td>0</td>\n",
              "      <td>No</td>\n",
              "      <td>No</td>\n",
              "      <td>2017-04-01</td>\n",
              "      <td>2020-02-01</td>\n",
              "      <td>One year</td>\n",
              "      <td>No</td>\n",
              "      <td>Mailed check</td>\n",
              "      <td>...</td>\n",
              "      <td>No</td>\n",
              "      <td>DSL</td>\n",
              "      <td>Yes</td>\n",
              "      <td>No</td>\n",
              "      <td>Yes</td>\n",
              "      <td>No</td>\n",
              "      <td>No</td>\n",
              "      <td>No</td>\n",
              "      <td>0</td>\n",
              "      <td>1036</td>\n",
              "    </tr>\n",
              "    <tr>\n",
              "      <th>2</th>\n",
              "      <td>3668-QPYBK</td>\n",
              "      <td>Male</td>\n",
              "      <td>0</td>\n",
              "      <td>No</td>\n",
              "      <td>No</td>\n",
              "      <td>2019-10-01</td>\n",
              "      <td>2020-02-01</td>\n",
              "      <td>Month-to-month</td>\n",
              "      <td>Yes</td>\n",
              "      <td>Mailed check</td>\n",
              "      <td>...</td>\n",
              "      <td>No</td>\n",
              "      <td>DSL</td>\n",
              "      <td>Yes</td>\n",
              "      <td>Yes</td>\n",
              "      <td>No</td>\n",
              "      <td>No</td>\n",
              "      <td>No</td>\n",
              "      <td>No</td>\n",
              "      <td>0</td>\n",
              "      <td>123</td>\n",
              "    </tr>\n",
              "    <tr>\n",
              "      <th>3</th>\n",
              "      <td>7795-CFOCW</td>\n",
              "      <td>Male</td>\n",
              "      <td>0</td>\n",
              "      <td>No</td>\n",
              "      <td>No</td>\n",
              "      <td>2016-05-01</td>\n",
              "      <td>2020-02-01</td>\n",
              "      <td>One year</td>\n",
              "      <td>No</td>\n",
              "      <td>Bank transfer (automatic)</td>\n",
              "      <td>...</td>\n",
              "      <td>No</td>\n",
              "      <td>DSL</td>\n",
              "      <td>Yes</td>\n",
              "      <td>No</td>\n",
              "      <td>Yes</td>\n",
              "      <td>Yes</td>\n",
              "      <td>No</td>\n",
              "      <td>No</td>\n",
              "      <td>0</td>\n",
              "      <td>1371</td>\n",
              "    </tr>\n",
              "    <tr>\n",
              "      <th>4</th>\n",
              "      <td>9237-HQITU</td>\n",
              "      <td>Female</td>\n",
              "      <td>0</td>\n",
              "      <td>No</td>\n",
              "      <td>No</td>\n",
              "      <td>2019-09-01</td>\n",
              "      <td>2020-02-01</td>\n",
              "      <td>Month-to-month</td>\n",
              "      <td>Yes</td>\n",
              "      <td>Electronic check</td>\n",
              "      <td>...</td>\n",
              "      <td>No</td>\n",
              "      <td>Fiber optic</td>\n",
              "      <td>No</td>\n",
              "      <td>No</td>\n",
              "      <td>No</td>\n",
              "      <td>No</td>\n",
              "      <td>No</td>\n",
              "      <td>No</td>\n",
              "      <td>0</td>\n",
              "      <td>153</td>\n",
              "    </tr>\n",
              "  </tbody>\n",
              "</table>\n",
              "<p>5 rows × 22 columns</p>\n",
              "</div>"
            ],
            "text/plain": [
              "   customerid  gender  seniorcitizen partner dependents  begindate    enddate  \\\n",
              "0  7590-VHVEG  Female              0     Yes         No 2020-01-01 2020-02-01   \n",
              "1  5575-GNVDE    Male              0      No         No 2017-04-01 2020-02-01   \n",
              "2  3668-QPYBK    Male              0      No         No 2019-10-01 2020-02-01   \n",
              "3  7795-CFOCW    Male              0      No         No 2016-05-01 2020-02-01   \n",
              "4  9237-HQITU  Female              0      No         No 2019-09-01 2020-02-01   \n",
              "\n",
              "             type paperlessbilling              paymentmethod  ...  \\\n",
              "0  Month-to-month              Yes           Electronic check  ...   \n",
              "1        One year               No               Mailed check  ...   \n",
              "2  Month-to-month              Yes               Mailed check  ...   \n",
              "3        One year               No  Bank transfer (automatic)  ...   \n",
              "4  Month-to-month              Yes           Electronic check  ...   \n",
              "\n",
              "   multiplelines  internetservice onlinesecurity onlinebackup  \\\n",
              "0             No              DSL             No          Yes   \n",
              "1             No              DSL            Yes           No   \n",
              "2             No              DSL            Yes          Yes   \n",
              "3             No              DSL            Yes           No   \n",
              "4             No      Fiber optic             No           No   \n",
              "\n",
              "  deviceprotection techsupport streamingtv streamingmovies purpose ratio  \n",
              "0               No          No          No              No       0    31  \n",
              "1              Yes          No          No              No       0  1036  \n",
              "2               No          No          No              No       0   123  \n",
              "3              Yes         Yes          No              No       0  1371  \n",
              "4               No          No          No              No       0   153  \n",
              "\n",
              "[5 rows x 22 columns]"
            ]
          },
          "execution_count": 65,
          "metadata": {},
          "output_type": "execute_result"
        }
      ],
      "source": [
        "df_full.head()"
      ]
    },
    {
      "cell_type": "markdown",
      "id": "7e7a354c",
      "metadata": {
        "id": "7e7a354c"
      },
      "source": [
        "Чтобы оценить данные в новом столбце, используем метод describe() чтобы посмотреть минимальное и максимальное количество дней пользования услугами, максимальное кол-во дней, соответствует еще действующим клиентам."
      ]
    },
    {
      "cell_type": "code",
      "execution_count": null,
      "id": "22be8c4c",
      "metadata": {
        "id": "22be8c4c",
        "outputId": "df7cffe9-172c-42bb-965e-2000f1f9218a"
      },
      "outputs": [
        {
          "data": {
            "text/html": [
              "<div>\n",
              "<style scoped>\n",
              "    .dataframe tbody tr th:only-of-type {\n",
              "        vertical-align: middle;\n",
              "    }\n",
              "\n",
              "    .dataframe tbody tr th {\n",
              "        vertical-align: top;\n",
              "    }\n",
              "\n",
              "    .dataframe thead th {\n",
              "        text-align: right;\n",
              "    }\n",
              "</style>\n",
              "<table border=\"1\" class=\"dataframe\">\n",
              "  <thead>\n",
              "    <tr style=\"text-align: right;\">\n",
              "      <th></th>\n",
              "      <th>seniorcitizen</th>\n",
              "      <th>monthlycharges</th>\n",
              "      <th>totalcharges</th>\n",
              "      <th>purpose</th>\n",
              "      <th>ratio</th>\n",
              "    </tr>\n",
              "  </thead>\n",
              "  <tbody>\n",
              "    <tr>\n",
              "      <th>count</th>\n",
              "      <td>7032.000000</td>\n",
              "      <td>7032.000000</td>\n",
              "      <td>7032.000000</td>\n",
              "      <td>7032.000000</td>\n",
              "      <td>7032.000000</td>\n",
              "    </tr>\n",
              "    <tr>\n",
              "      <th>mean</th>\n",
              "      <td>0.162400</td>\n",
              "      <td>64.798208</td>\n",
              "      <td>2118.621822</td>\n",
              "      <td>0.156570</td>\n",
              "      <td>899.961320</td>\n",
              "    </tr>\n",
              "    <tr>\n",
              "      <th>std</th>\n",
              "      <td>0.368844</td>\n",
              "      <td>30.085974</td>\n",
              "      <td>2112.736199</td>\n",
              "      <td>0.363421</td>\n",
              "      <td>682.738777</td>\n",
              "    </tr>\n",
              "    <tr>\n",
              "      <th>min</th>\n",
              "      <td>0.000000</td>\n",
              "      <td>18.250000</td>\n",
              "      <td>19.050000</td>\n",
              "      <td>0.000000</td>\n",
              "      <td>28.000000</td>\n",
              "    </tr>\n",
              "    <tr>\n",
              "      <th>25%</th>\n",
              "      <td>0.000000</td>\n",
              "      <td>35.587500</td>\n",
              "      <td>439.745000</td>\n",
              "      <td>0.000000</td>\n",
              "      <td>276.000000</td>\n",
              "    </tr>\n",
              "    <tr>\n",
              "      <th>50%</th>\n",
              "      <td>0.000000</td>\n",
              "      <td>70.350000</td>\n",
              "      <td>1345.275000</td>\n",
              "      <td>0.000000</td>\n",
              "      <td>761.000000</td>\n",
              "    </tr>\n",
              "    <tr>\n",
              "      <th>75%</th>\n",
              "      <td>0.000000</td>\n",
              "      <td>89.862500</td>\n",
              "      <td>3239.317500</td>\n",
              "      <td>0.000000</td>\n",
              "      <td>1461.000000</td>\n",
              "    </tr>\n",
              "    <tr>\n",
              "      <th>max</th>\n",
              "      <td>1.000000</td>\n",
              "      <td>118.750000</td>\n",
              "      <td>9221.380000</td>\n",
              "      <td>1.000000</td>\n",
              "      <td>2314.000000</td>\n",
              "    </tr>\n",
              "  </tbody>\n",
              "</table>\n",
              "</div>"
            ],
            "text/plain": [
              "       seniorcitizen  monthlycharges  totalcharges      purpose        ratio\n",
              "count    7032.000000     7032.000000   7032.000000  7032.000000  7032.000000\n",
              "mean        0.162400       64.798208   2118.621822     0.156570   899.961320\n",
              "std         0.368844       30.085974   2112.736199     0.363421   682.738777\n",
              "min         0.000000       18.250000     19.050000     0.000000    28.000000\n",
              "25%         0.000000       35.587500    439.745000     0.000000   276.000000\n",
              "50%         0.000000       70.350000   1345.275000     0.000000   761.000000\n",
              "75%         0.000000       89.862500   3239.317500     0.000000  1461.000000\n",
              "max         1.000000      118.750000   9221.380000     1.000000  2314.000000"
            ]
          },
          "execution_count": 66,
          "metadata": {},
          "output_type": "execute_result"
        }
      ],
      "source": [
        "df_full.describe()"
      ]
    },
    {
      "cell_type": "markdown",
      "id": "9e2a26da",
      "metadata": {
        "id": "9e2a26da"
      },
      "source": [
        "В среднем пользуются почти 3 года, самое минимальное кол-во дней 0, т.е отключение в день подключения. Очень странно.  \n",
        "\n",
        "Для дальнейшей работы нам не понадобятся данные из столбцов customer id, начало заключения контракта и дата его окончания,  также суммарные затраты, т.к. мы подсчитали количество дней пользования услугами, поэтому эти данные мы удалим, чтобы наши модели не обучались лишними данными"
      ]
    },
    {
      "cell_type": "markdown",
      "id": "f9f73a54",
      "metadata": {
        "id": "f9f73a54"
      },
      "source": [
        "Также посмотрим на корреляицю числовых признаков"
      ]
    },
    {
      "cell_type": "code",
      "execution_count": null,
      "id": "7ed30126",
      "metadata": {
        "id": "7ed30126",
        "outputId": "d8f74429-aed5-4716-a850-d877f8609544"
      },
      "outputs": [
        {
          "data": {
            "text/plain": [
              "Text(0.5, 1.0, 'Корреляция числовых признаков')"
            ]
          },
          "execution_count": 67,
          "metadata": {},
          "output_type": "execute_result"
        },
        {
          "data": {
            "image/png": "[encoded data removed]",
            "text/plain": [
              "<Figure size 432x288 with 2 Axes>"
            ]
          },
          "metadata": {
            "needs_background": "light"
          },
          "output_type": "display_data"
        }
      ],
      "source": [
        "sns.heatmap(df_full[['totalcharges', 'ratio', 'monthlycharges']].corr(), annot = True)\n",
        "plt.title('Корреляция числовых признаков')"
      ]
    },
    {
      "cell_type": "markdown",
      "id": "aeb30e66",
      "metadata": {
        "id": "aeb30e66"
      },
      "source": [
        "Между длительностью договора и суммарными затратами сильная корреляция, неудивительно, ведь, чем дольше бользуешься, тем больше платишь, между признаками ежемесячный платеж и суммарные затраты корреляция средняя, корреляция между длительностью договора и ежемесячными платежами низкая"
      ]
    },
    {
      "cell_type": "code",
      "execution_count": null,
      "id": "a5dcae8d",
      "metadata": {
        "id": "a5dcae8d"
      },
      "outputs": [],
      "source": [
        "df_full = df_full.drop(['customerid', 'begindate', 'enddate', 'totalcharges'], axis=1)"
      ]
    },
    {
      "cell_type": "code",
      "execution_count": null,
      "id": "65b3aeff",
      "metadata": {
        "id": "65b3aeff",
        "outputId": "8bd344f6-ef46-47d8-ecfa-f8f10652db19"
      },
      "outputs": [
        {
          "data": {
            "text/html": [
              "<div>\n",
              "<style scoped>\n",
              "    .dataframe tbody tr th:only-of-type {\n",
              "        vertical-align: middle;\n",
              "    }\n",
              "\n",
              "    .dataframe tbody tr th {\n",
              "        vertical-align: top;\n",
              "    }\n",
              "\n",
              "    .dataframe thead th {\n",
              "        text-align: right;\n",
              "    }\n",
              "</style>\n",
              "<table border=\"1\" class=\"dataframe\">\n",
              "  <thead>\n",
              "    <tr style=\"text-align: right;\">\n",
              "      <th></th>\n",
              "      <th>gender</th>\n",
              "      <th>seniorcitizen</th>\n",
              "      <th>partner</th>\n",
              "      <th>dependents</th>\n",
              "      <th>type</th>\n",
              "      <th>paperlessbilling</th>\n",
              "      <th>paymentmethod</th>\n",
              "      <th>monthlycharges</th>\n",
              "      <th>multiplelines</th>\n",
              "      <th>internetservice</th>\n",
              "      <th>onlinesecurity</th>\n",
              "      <th>onlinebackup</th>\n",
              "      <th>deviceprotection</th>\n",
              "      <th>techsupport</th>\n",
              "      <th>streamingtv</th>\n",
              "      <th>streamingmovies</th>\n",
              "      <th>purpose</th>\n",
              "      <th>ratio</th>\n",
              "    </tr>\n",
              "  </thead>\n",
              "  <tbody>\n",
              "    <tr>\n",
              "      <th>0</th>\n",
              "      <td>Female</td>\n",
              "      <td>0</td>\n",
              "      <td>Yes</td>\n",
              "      <td>No</td>\n",
              "      <td>Month-to-month</td>\n",
              "      <td>Yes</td>\n",
              "      <td>Electronic check</td>\n",
              "      <td>29.85</td>\n",
              "      <td>No</td>\n",
              "      <td>DSL</td>\n",
              "      <td>No</td>\n",
              "      <td>Yes</td>\n",
              "      <td>No</td>\n",
              "      <td>No</td>\n",
              "      <td>No</td>\n",
              "      <td>No</td>\n",
              "      <td>0</td>\n",
              "      <td>31</td>\n",
              "    </tr>\n",
              "    <tr>\n",
              "      <th>1</th>\n",
              "      <td>Male</td>\n",
              "      <td>0</td>\n",
              "      <td>No</td>\n",
              "      <td>No</td>\n",
              "      <td>One year</td>\n",
              "      <td>No</td>\n",
              "      <td>Mailed check</td>\n",
              "      <td>56.95</td>\n",
              "      <td>No</td>\n",
              "      <td>DSL</td>\n",
              "      <td>Yes</td>\n",
              "      <td>No</td>\n",
              "      <td>Yes</td>\n",
              "      <td>No</td>\n",
              "      <td>No</td>\n",
              "      <td>No</td>\n",
              "      <td>0</td>\n",
              "      <td>1036</td>\n",
              "    </tr>\n",
              "    <tr>\n",
              "      <th>2</th>\n",
              "      <td>Male</td>\n",
              "      <td>0</td>\n",
              "      <td>No</td>\n",
              "      <td>No</td>\n",
              "      <td>Month-to-month</td>\n",
              "      <td>Yes</td>\n",
              "      <td>Mailed check</td>\n",
              "      <td>53.85</td>\n",
              "      <td>No</td>\n",
              "      <td>DSL</td>\n",
              "      <td>Yes</td>\n",
              "      <td>Yes</td>\n",
              "      <td>No</td>\n",
              "      <td>No</td>\n",
              "      <td>No</td>\n",
              "      <td>No</td>\n",
              "      <td>0</td>\n",
              "      <td>123</td>\n",
              "    </tr>\n",
              "    <tr>\n",
              "      <th>3</th>\n",
              "      <td>Male</td>\n",
              "      <td>0</td>\n",
              "      <td>No</td>\n",
              "      <td>No</td>\n",
              "      <td>One year</td>\n",
              "      <td>No</td>\n",
              "      <td>Bank transfer (automatic)</td>\n",
              "      <td>42.30</td>\n",
              "      <td>No</td>\n",
              "      <td>DSL</td>\n",
              "      <td>Yes</td>\n",
              "      <td>No</td>\n",
              "      <td>Yes</td>\n",
              "      <td>Yes</td>\n",
              "      <td>No</td>\n",
              "      <td>No</td>\n",
              "      <td>0</td>\n",
              "      <td>1371</td>\n",
              "    </tr>\n",
              "    <tr>\n",
              "      <th>4</th>\n",
              "      <td>Female</td>\n",
              "      <td>0</td>\n",
              "      <td>No</td>\n",
              "      <td>No</td>\n",
              "      <td>Month-to-month</td>\n",
              "      <td>Yes</td>\n",
              "      <td>Electronic check</td>\n",
              "      <td>70.70</td>\n",
              "      <td>No</td>\n",
              "      <td>Fiber optic</td>\n",
              "      <td>No</td>\n",
              "      <td>No</td>\n",
              "      <td>No</td>\n",
              "      <td>No</td>\n",
              "      <td>No</td>\n",
              "      <td>No</td>\n",
              "      <td>0</td>\n",
              "      <td>153</td>\n",
              "    </tr>\n",
              "  </tbody>\n",
              "</table>\n",
              "</div>"
            ],
            "text/plain": [
              "   gender  seniorcitizen partner dependents            type paperlessbilling  \\\n",
              "0  Female              0     Yes         No  Month-to-month              Yes   \n",
              "1    Male              0      No         No        One year               No   \n",
              "2    Male              0      No         No  Month-to-month              Yes   \n",
              "3    Male              0      No         No        One year               No   \n",
              "4  Female              0      No         No  Month-to-month              Yes   \n",
              "\n",
              "               paymentmethod  monthlycharges multiplelines internetservice  \\\n",
              "0           Electronic check           29.85            No             DSL   \n",
              "1               Mailed check           56.95            No             DSL   \n",
              "2               Mailed check           53.85            No             DSL   \n",
              "3  Bank transfer (automatic)           42.30            No             DSL   \n",
              "4           Electronic check           70.70            No     Fiber optic   \n",
              "\n",
              "  onlinesecurity onlinebackup deviceprotection techsupport streamingtv  \\\n",
              "0             No          Yes               No          No          No   \n",
              "1            Yes           No              Yes          No          No   \n",
              "2            Yes          Yes               No          No          No   \n",
              "3            Yes           No              Yes         Yes          No   \n",
              "4             No           No               No          No          No   \n",
              "\n",
              "  streamingmovies  purpose  ratio  \n",
              "0              No        0     31  \n",
              "1              No        0   1036  \n",
              "2              No        0    123  \n",
              "3              No        0   1371  \n",
              "4              No        0    153  "
            ]
          },
          "execution_count": 69,
          "metadata": {},
          "output_type": "execute_result"
        }
      ],
      "source": [
        "df_full.head()"
      ]
    },
    {
      "cell_type": "markdown",
      "id": "7264222a",
      "metadata": {
        "id": "7264222a"
      },
      "source": [
        "Изменим во всем датафрейме значения Yes & No на 1 и 0 соответственно, для удобства восприятия"
      ]
    },
    {
      "cell_type": "code",
      "execution_count": null,
      "id": "5bda8583",
      "metadata": {
        "id": "5bda8583"
      },
      "outputs": [],
      "source": [
        "df_full = df_full.replace({'No' : 0, 'Yes' : 1})"
      ]
    },
    {
      "cell_type": "code",
      "execution_count": null,
      "id": "7dc4b507",
      "metadata": {
        "id": "7dc4b507",
        "outputId": "192193a1-e92e-44b3-ac5b-08916c91bae5"
      },
      "outputs": [
        {
          "data": {
            "text/html": [
              "<div>\n",
              "<style scoped>\n",
              "    .dataframe tbody tr th:only-of-type {\n",
              "        vertical-align: middle;\n",
              "    }\n",
              "\n",
              "    .dataframe tbody tr th {\n",
              "        vertical-align: top;\n",
              "    }\n",
              "\n",
              "    .dataframe thead th {\n",
              "        text-align: right;\n",
              "    }\n",
              "</style>\n",
              "<table border=\"1\" class=\"dataframe\">\n",
              "  <thead>\n",
              "    <tr style=\"text-align: right;\">\n",
              "      <th></th>\n",
              "      <th>gender</th>\n",
              "      <th>seniorcitizen</th>\n",
              "      <th>partner</th>\n",
              "      <th>dependents</th>\n",
              "      <th>type</th>\n",
              "      <th>paperlessbilling</th>\n",
              "      <th>paymentmethod</th>\n",
              "      <th>monthlycharges</th>\n",
              "      <th>multiplelines</th>\n",
              "      <th>internetservice</th>\n",
              "      <th>onlinesecurity</th>\n",
              "      <th>onlinebackup</th>\n",
              "      <th>deviceprotection</th>\n",
              "      <th>techsupport</th>\n",
              "      <th>streamingtv</th>\n",
              "      <th>streamingmovies</th>\n",
              "      <th>purpose</th>\n",
              "      <th>ratio</th>\n",
              "    </tr>\n",
              "  </thead>\n",
              "  <tbody>\n",
              "    <tr>\n",
              "      <th>0</th>\n",
              "      <td>Female</td>\n",
              "      <td>0</td>\n",
              "      <td>1</td>\n",
              "      <td>0</td>\n",
              "      <td>Month-to-month</td>\n",
              "      <td>1</td>\n",
              "      <td>Electronic check</td>\n",
              "      <td>29.85</td>\n",
              "      <td>0</td>\n",
              "      <td>DSL</td>\n",
              "      <td>0</td>\n",
              "      <td>1</td>\n",
              "      <td>0</td>\n",
              "      <td>0</td>\n",
              "      <td>0</td>\n",
              "      <td>0</td>\n",
              "      <td>0</td>\n",
              "      <td>31</td>\n",
              "    </tr>\n",
              "    <tr>\n",
              "      <th>1</th>\n",
              "      <td>Male</td>\n",
              "      <td>0</td>\n",
              "      <td>0</td>\n",
              "      <td>0</td>\n",
              "      <td>One year</td>\n",
              "      <td>0</td>\n",
              "      <td>Mailed check</td>\n",
              "      <td>56.95</td>\n",
              "      <td>0</td>\n",
              "      <td>DSL</td>\n",
              "      <td>1</td>\n",
              "      <td>0</td>\n",
              "      <td>1</td>\n",
              "      <td>0</td>\n",
              "      <td>0</td>\n",
              "      <td>0</td>\n",
              "      <td>0</td>\n",
              "      <td>1036</td>\n",
              "    </tr>\n",
              "    <tr>\n",
              "      <th>2</th>\n",
              "      <td>Male</td>\n",
              "      <td>0</td>\n",
              "      <td>0</td>\n",
              "      <td>0</td>\n",
              "      <td>Month-to-month</td>\n",
              "      <td>1</td>\n",
              "      <td>Mailed check</td>\n",
              "      <td>53.85</td>\n",
              "      <td>0</td>\n",
              "      <td>DSL</td>\n",
              "      <td>1</td>\n",
              "      <td>1</td>\n",
              "      <td>0</td>\n",
              "      <td>0</td>\n",
              "      <td>0</td>\n",
              "      <td>0</td>\n",
              "      <td>0</td>\n",
              "      <td>123</td>\n",
              "    </tr>\n",
              "    <tr>\n",
              "      <th>3</th>\n",
              "      <td>Male</td>\n",
              "      <td>0</td>\n",
              "      <td>0</td>\n",
              "      <td>0</td>\n",
              "      <td>One year</td>\n",
              "      <td>0</td>\n",
              "      <td>Bank transfer (automatic)</td>\n",
              "      <td>42.30</td>\n",
              "      <td>0</td>\n",
              "      <td>DSL</td>\n",
              "      <td>1</td>\n",
              "      <td>0</td>\n",
              "      <td>1</td>\n",
              "      <td>1</td>\n",
              "      <td>0</td>\n",
              "      <td>0</td>\n",
              "      <td>0</td>\n",
              "      <td>1371</td>\n",
              "    </tr>\n",
              "    <tr>\n",
              "      <th>4</th>\n",
              "      <td>Female</td>\n",
              "      <td>0</td>\n",
              "      <td>0</td>\n",
              "      <td>0</td>\n",
              "      <td>Month-to-month</td>\n",
              "      <td>1</td>\n",
              "      <td>Electronic check</td>\n",
              "      <td>70.70</td>\n",
              "      <td>0</td>\n",
              "      <td>Fiber optic</td>\n",
              "      <td>0</td>\n",
              "      <td>0</td>\n",
              "      <td>0</td>\n",
              "      <td>0</td>\n",
              "      <td>0</td>\n",
              "      <td>0</td>\n",
              "      <td>0</td>\n",
              "      <td>153</td>\n",
              "    </tr>\n",
              "  </tbody>\n",
              "</table>\n",
              "</div>"
            ],
            "text/plain": [
              "   gender  seniorcitizen  partner  dependents            type  \\\n",
              "0  Female              0        1           0  Month-to-month   \n",
              "1    Male              0        0           0        One year   \n",
              "2    Male              0        0           0  Month-to-month   \n",
              "3    Male              0        0           0        One year   \n",
              "4  Female              0        0           0  Month-to-month   \n",
              "\n",
              "   paperlessbilling              paymentmethod  monthlycharges  multiplelines  \\\n",
              "0                 1           Electronic check           29.85              0   \n",
              "1                 0               Mailed check           56.95              0   \n",
              "2                 1               Mailed check           53.85              0   \n",
              "3                 0  Bank transfer (automatic)           42.30              0   \n",
              "4                 1           Electronic check           70.70              0   \n",
              "\n",
              "  internetservice  onlinesecurity  onlinebackup  deviceprotection  \\\n",
              "0             DSL               0             1                 0   \n",
              "1             DSL               1             0                 1   \n",
              "2             DSL               1             1                 0   \n",
              "3             DSL               1             0                 1   \n",
              "4     Fiber optic               0             0                 0   \n",
              "\n",
              "   techsupport  streamingtv  streamingmovies  purpose  ratio  \n",
              "0            0            0                0        0     31  \n",
              "1            0            0                0        0   1036  \n",
              "2            0            0                0        0    123  \n",
              "3            1            0                0        0   1371  \n",
              "4            0            0                0        0    153  "
            ]
          },
          "execution_count": 71,
          "metadata": {},
          "output_type": "execute_result"
        }
      ],
      "source": [
        "df_full.head(5)"
      ]
    },
    {
      "cell_type": "markdown",
      "id": "0ed513bc",
      "metadata": {
        "id": "0ed513bc"
      },
      "source": [
        "Теперь закодируем все признаки, включая числовые"
      ]
    },
    {
      "cell_type": "code",
      "execution_count": null,
      "id": "3f93532b",
      "metadata": {
        "id": "3f93532b",
        "outputId": "3f1d262a-df1b-4b96-e189-98aa0185a9ef"
      },
      "outputs": [
        {
          "data": {
            "text/html": [
              "<div>\n",
              "<style scoped>\n",
              "    .dataframe tbody tr th:only-of-type {\n",
              "        vertical-align: middle;\n",
              "    }\n",
              "\n",
              "    .dataframe tbody tr th {\n",
              "        vertical-align: top;\n",
              "    }\n",
              "\n",
              "    .dataframe thead th {\n",
              "        text-align: right;\n",
              "    }\n",
              "</style>\n",
              "<table border=\"1\" class=\"dataframe\">\n",
              "  <thead>\n",
              "    <tr style=\"text-align: right;\">\n",
              "      <th></th>\n",
              "      <th>seniorcitizen</th>\n",
              "      <th>partner</th>\n",
              "      <th>dependents</th>\n",
              "      <th>paperlessbilling</th>\n",
              "      <th>monthlycharges</th>\n",
              "      <th>multiplelines</th>\n",
              "      <th>onlinesecurity</th>\n",
              "      <th>onlinebackup</th>\n",
              "      <th>deviceprotection</th>\n",
              "      <th>techsupport</th>\n",
              "      <th>...</th>\n",
              "      <th>purpose</th>\n",
              "      <th>ratio</th>\n",
              "      <th>gender_Male</th>\n",
              "      <th>type_One year</th>\n",
              "      <th>type_Two year</th>\n",
              "      <th>paymentmethod_Credit card (automatic)</th>\n",
              "      <th>paymentmethod_Electronic check</th>\n",
              "      <th>paymentmethod_Mailed check</th>\n",
              "      <th>internetservice_DSL</th>\n",
              "      <th>internetservice_Fiber optic</th>\n",
              "    </tr>\n",
              "  </thead>\n",
              "  <tbody>\n",
              "    <tr>\n",
              "      <th>0</th>\n",
              "      <td>0</td>\n",
              "      <td>1</td>\n",
              "      <td>0</td>\n",
              "      <td>1</td>\n",
              "      <td>29.85</td>\n",
              "      <td>0</td>\n",
              "      <td>0</td>\n",
              "      <td>1</td>\n",
              "      <td>0</td>\n",
              "      <td>0</td>\n",
              "      <td>...</td>\n",
              "      <td>0</td>\n",
              "      <td>31</td>\n",
              "      <td>0</td>\n",
              "      <td>0</td>\n",
              "      <td>0</td>\n",
              "      <td>0</td>\n",
              "      <td>1</td>\n",
              "      <td>0</td>\n",
              "      <td>1</td>\n",
              "      <td>0</td>\n",
              "    </tr>\n",
              "    <tr>\n",
              "      <th>1</th>\n",
              "      <td>0</td>\n",
              "      <td>0</td>\n",
              "      <td>0</td>\n",
              "      <td>0</td>\n",
              "      <td>56.95</td>\n",
              "      <td>0</td>\n",
              "      <td>1</td>\n",
              "      <td>0</td>\n",
              "      <td>1</td>\n",
              "      <td>0</td>\n",
              "      <td>...</td>\n",
              "      <td>0</td>\n",
              "      <td>1036</td>\n",
              "      <td>1</td>\n",
              "      <td>1</td>\n",
              "      <td>0</td>\n",
              "      <td>0</td>\n",
              "      <td>0</td>\n",
              "      <td>1</td>\n",
              "      <td>1</td>\n",
              "      <td>0</td>\n",
              "    </tr>\n",
              "    <tr>\n",
              "      <th>2</th>\n",
              "      <td>0</td>\n",
              "      <td>0</td>\n",
              "      <td>0</td>\n",
              "      <td>1</td>\n",
              "      <td>53.85</td>\n",
              "      <td>0</td>\n",
              "      <td>1</td>\n",
              "      <td>1</td>\n",
              "      <td>0</td>\n",
              "      <td>0</td>\n",
              "      <td>...</td>\n",
              "      <td>0</td>\n",
              "      <td>123</td>\n",
              "      <td>1</td>\n",
              "      <td>0</td>\n",
              "      <td>0</td>\n",
              "      <td>0</td>\n",
              "      <td>0</td>\n",
              "      <td>1</td>\n",
              "      <td>1</td>\n",
              "      <td>0</td>\n",
              "    </tr>\n",
              "    <tr>\n",
              "      <th>3</th>\n",
              "      <td>0</td>\n",
              "      <td>0</td>\n",
              "      <td>0</td>\n",
              "      <td>0</td>\n",
              "      <td>42.30</td>\n",
              "      <td>0</td>\n",
              "      <td>1</td>\n",
              "      <td>0</td>\n",
              "      <td>1</td>\n",
              "      <td>1</td>\n",
              "      <td>...</td>\n",
              "      <td>0</td>\n",
              "      <td>1371</td>\n",
              "      <td>1</td>\n",
              "      <td>1</td>\n",
              "      <td>0</td>\n",
              "      <td>0</td>\n",
              "      <td>0</td>\n",
              "      <td>0</td>\n",
              "      <td>1</td>\n",
              "      <td>0</td>\n",
              "    </tr>\n",
              "    <tr>\n",
              "      <th>4</th>\n",
              "      <td>0</td>\n",
              "      <td>0</td>\n",
              "      <td>0</td>\n",
              "      <td>1</td>\n",
              "      <td>70.70</td>\n",
              "      <td>0</td>\n",
              "      <td>0</td>\n",
              "      <td>0</td>\n",
              "      <td>0</td>\n",
              "      <td>0</td>\n",
              "      <td>...</td>\n",
              "      <td>0</td>\n",
              "      <td>153</td>\n",
              "      <td>0</td>\n",
              "      <td>0</td>\n",
              "      <td>0</td>\n",
              "      <td>0</td>\n",
              "      <td>1</td>\n",
              "      <td>0</td>\n",
              "      <td>0</td>\n",
              "      <td>1</td>\n",
              "    </tr>\n",
              "  </tbody>\n",
              "</table>\n",
              "<p>5 rows × 22 columns</p>\n",
              "</div>"
            ],
            "text/plain": [
              "   seniorcitizen  partner  dependents  paperlessbilling  monthlycharges  \\\n",
              "0              0        1           0                 1           29.85   \n",
              "1              0        0           0                 0           56.95   \n",
              "2              0        0           0                 1           53.85   \n",
              "3              0        0           0                 0           42.30   \n",
              "4              0        0           0                 1           70.70   \n",
              "\n",
              "   multiplelines  onlinesecurity  onlinebackup  deviceprotection  techsupport  \\\n",
              "0              0               0             1                 0            0   \n",
              "1              0               1             0                 1            0   \n",
              "2              0               1             1                 0            0   \n",
              "3              0               1             0                 1            1   \n",
              "4              0               0             0                 0            0   \n",
              "\n",
              "   ...  purpose  ratio  gender_Male  type_One year  type_Two year  \\\n",
              "0  ...        0     31            0              0              0   \n",
              "1  ...        0   1036            1              1              0   \n",
              "2  ...        0    123            1              0              0   \n",
              "3  ...        0   1371            1              1              0   \n",
              "4  ...        0    153            0              0              0   \n",
              "\n",
              "   paymentmethod_Credit card (automatic)  paymentmethod_Electronic check  \\\n",
              "0                                      0                               1   \n",
              "1                                      0                               0   \n",
              "2                                      0                               0   \n",
              "3                                      0                               0   \n",
              "4                                      0                               1   \n",
              "\n",
              "   paymentmethod_Mailed check  internetservice_DSL  \\\n",
              "0                           0                    1   \n",
              "1                           1                    1   \n",
              "2                           1                    1   \n",
              "3                           0                    1   \n",
              "4                           0                    0   \n",
              "\n",
              "   internetservice_Fiber optic  \n",
              "0                            0  \n",
              "1                            0  \n",
              "2                            0  \n",
              "3                            0  \n",
              "4                            1  \n",
              "\n",
              "[5 rows x 22 columns]"
            ]
          },
          "execution_count": 72,
          "metadata": {},
          "output_type": "execute_result"
        }
      ],
      "source": [
        "df_ohe = pd.get_dummies(df_full, drop_first = True)\n",
        "df_ohe.head()"
      ]
    },
    {
      "cell_type": "code",
      "execution_count": null,
      "id": "4d9d555c",
      "metadata": {
        "id": "4d9d555c",
        "outputId": "29e73f58-4f7b-48c0-cc49-5c0460e7b4d4"
      },
      "outputs": [
        {
          "name": "stdout",
          "output_type": "stream",
          "text": [
            "<class 'pandas.core.frame.DataFrame'>\n",
            "Int64Index: 7032 entries, 0 to 7042\n",
            "Data columns (total 22 columns):\n",
            " #   Column                                 Non-Null Count  Dtype  \n",
            "---  ------                                 --------------  -----  \n",
            " 0   seniorcitizen                          7032 non-null   int64  \n",
            " 1   partner                                7032 non-null   int64  \n",
            " 2   dependents                             7032 non-null   int64  \n",
            " 3   paperlessbilling                       7032 non-null   int64  \n",
            " 4   monthlycharges                         7032 non-null   float64\n",
            " 5   multiplelines                          7032 non-null   int64  \n",
            " 6   onlinesecurity                         7032 non-null   int64  \n",
            " 7   onlinebackup                           7032 non-null   int64  \n",
            " 8   deviceprotection                       7032 non-null   int64  \n",
            " 9   techsupport                            7032 non-null   int64  \n",
            " 10  streamingtv                            7032 non-null   int64  \n",
            " 11  streamingmovies                        7032 non-null   int64  \n",
            " 12  purpose                                7032 non-null   int64  \n",
            " 13  ratio                                  7032 non-null   int64  \n",
            " 14  gender_Male                            7032 non-null   uint8  \n",
            " 15  type_One year                          7032 non-null   uint8  \n",
            " 16  type_Two year                          7032 non-null   uint8  \n",
            " 17  paymentmethod_Credit card (automatic)  7032 non-null   uint8  \n",
            " 18  paymentmethod_Electronic check         7032 non-null   uint8  \n",
            " 19  paymentmethod_Mailed check             7032 non-null   uint8  \n",
            " 20  internetservice_DSL                    7032 non-null   uint8  \n",
            " 21  internetservice_Fiber optic            7032 non-null   uint8  \n",
            "dtypes: float64(1), int64(13), uint8(8)\n",
            "memory usage: 879.0 KB\n"
          ]
        }
      ],
      "source": [
        "df_ohe.info()"
      ]
    },
    {
      "cell_type": "markdown",
      "id": "a84e260e",
      "metadata": {
        "id": "a84e260e"
      },
      "source": [
        "Разобьем наш датасет на признаки и тренировочную и тестовую выборку"
      ]
    },
    {
      "cell_type": "code",
      "execution_count": null,
      "id": "386d1f99",
      "metadata": {
        "id": "386d1f99"
      },
      "outputs": [],
      "source": [
        "features = df_ohe.drop('purpose', axis =1)\n",
        "target = df_ohe['purpose']"
      ]
    },
    {
      "cell_type": "code",
      "execution_count": null,
      "id": "d0373c88",
      "metadata": {
        "id": "d0373c88"
      },
      "outputs": [],
      "source": [
        "features_train, features_test, target_train, target_test = train_test_split(features,\n",
        "                                                                           target,\n",
        "                                                                            test_size = 0.25,\n",
        "                                                                           random_state = 100423,\n",
        "                                                                           shuffle = True)"
      ]
    },
    {
      "cell_type": "code",
      "execution_count": null,
      "id": "5a87e692",
      "metadata": {
        "id": "5a87e692",
        "outputId": "eb6da40b-8ecf-4534-bf2a-8a38c94fc437"
      },
      "outputs": [
        {
          "name": "stdout",
          "output_type": "stream",
          "text": [
            "(5274, 21)\n",
            "(1758, 21)\n"
          ]
        }
      ],
      "source": [
        "print(features_train.shape)\n",
        "print(features_test.shape)"
      ]
    },
    {
      "cell_type": "markdown",
      "id": "6cb7dbc0",
      "metadata": {
        "id": "6cb7dbc0"
      },
      "source": [
        "Числовые признаки масштабируем StandartScaler"
      ]
    },
    {
      "cell_type": "code",
      "execution_count": null,
      "id": "33b9b2b5",
      "metadata": {
        "id": "33b9b2b5"
      },
      "outputs": [],
      "source": [
        "numeric = ['monthlycharges', 'ratio']"
      ]
    },
    {
      "cell_type": "code",
      "execution_count": null,
      "id": "4f6fa77f",
      "metadata": {
        "id": "4f6fa77f"
      },
      "outputs": [],
      "source": [
        "scaler = StandardScaler()\n",
        "scaler.fit(features_train[numeric])\n",
        "\n",
        "features_train[numeric] = scaler.transform(features_train[numeric])\n",
        "features_test[numeric] = scaler.transform(features_test[numeric])"
      ]
    },
    {
      "cell_type": "markdown",
      "id": "6e1e0ba6",
      "metadata": {
        "id": "6e1e0ba6"
      },
      "source": [
        "Создадим модель для кросс валидации"
      ]
    },
    {
      "cell_type": "code",
      "execution_count": null,
      "id": "a495508a",
      "metadata": {
        "id": "a495508a"
      },
      "outputs": [],
      "source": [
        "def grid (model, features, target, params):\n",
        "    roc_auc_scorer = make_scorer(roc_auc_score, greater_is_better = True, needs_threshold = True) #needs_threshold ставим True, тем самым заменяя, что мы считаем predict_proba\n",
        "    grid = GridSearchCV(model, params, scoring = roc_auc_scorer, cv=5, n_jobs=-1)\n",
        "    grid.fit(features, target)\n",
        "    print('Наилучшие гиперпарамеры', grid.best_params_)\n",
        "    print('ROC_AUC', grid.best_score_)"
      ]
    },
    {
      "cell_type": "markdown",
      "id": "59f9a548",
      "metadata": {
        "id": "59f9a548"
      },
      "source": [
        "Логистическая регрессия"
      ]
    },
    {
      "cell_type": "code",
      "execution_count": null,
      "id": "a476344d",
      "metadata": {
        "id": "a476344d",
        "outputId": "f280ba76-80c0-4dfc-e29a-3d28d90160c4"
      },
      "outputs": [
        {
          "name": "stdout",
          "output_type": "stream",
          "text": [
            "Наилучшие гиперпарамеры {'C': 5, 'class_weight': None}\n",
            "ROC_AUC 0.7611786670149254\n",
            "CPU times: total: 578 ms\n",
            "Wall time: 11.3 s\n"
          ]
        }
      ],
      "source": [
        "%%time\n",
        "model_lr = LogisticRegression(random_state = 100423)\n",
        "lr_param = {'class_weight':['balanced', None], 'C' : [2, 5, 10]}# в параметрах укажем выбор модели с дисбалансом и с балансом\n",
        "grid(model_lr, features_train, target_train, lr_param )\n"
      ]
    },
    {
      "cell_type": "markdown",
      "id": "db2c4429",
      "metadata": {
        "id": "db2c4429"
      },
      "source": [
        "Случайный лес"
      ]
    },
    {
      "cell_type": "code",
      "execution_count": null,
      "id": "2a33dc75",
      "metadata": {
        "id": "2a33dc75",
        "outputId": "c3c1a9a2-87c5-43e8-e969-2dd61a05bbbf"
      },
      "outputs": [
        {
          "name": "stdout",
          "output_type": "stream",
          "text": [
            "Наилучшие гиперпарамеры {'max_depth': 8, 'n_estimators': 75}\n",
            "ROC_AUC 0.82215789428293\n",
            "CPU times: total: 12.3 s\n",
            "Wall time: 1min 56s\n"
          ]
        }
      ],
      "source": [
        "%%time\n",
        "model_rf = RandomForestClassifier(random_state = 100423)\n",
        "rf_param = {'max_depth' : range (1, 15, 1), 'n_estimators': range(5,80, 5)}\n",
        "grid(model_rf, features_train, target_train, rf_param)"
      ]
    },
    {
      "cell_type": "markdown",
      "id": "7ff6d21e",
      "metadata": {
        "id": "7ff6d21e"
      },
      "source": [
        "Метрика ROC_AUC модели случайного леса уже лучше и ближе к целевой >=0.85"
      ]
    },
    {
      "cell_type": "markdown",
      "id": "6722cff1",
      "metadata": {
        "id": "6722cff1"
      },
      "source": [
        "LightGBM Classifier"
      ]
    },
    {
      "cell_type": "code",
      "execution_count": null,
      "id": "906554a7",
      "metadata": {
        "id": "906554a7",
        "outputId": "8990f35a-610e-4ca0-8e74-123ebe447d0e"
      },
      "outputs": [
        {
          "name": "stdout",
          "output_type": "stream",
          "text": [
            "Наилучшие гиперпарамеры {'learning_rate': 0.1778279410038923, 'n_estimators': 60, 'num_leaves': 31}\n",
            "ROC_AUC 0.8765404680384284\n",
            "CPU times: total: 2.14 s\n",
            "Wall time: 12.8 s\n"
          ]
        }
      ],
      "source": [
        "%%time\n",
        "model_lgbm = LGBMClassifier(boosting_type='gbdt', random_state = 100423)\n",
        "lgbm_params = {'learning_rate': np.logspace(-3, 0 ,5),\n",
        "         'n_estimators' : [40, 60],\n",
        "         'num_leaves' : [31, 41, 51]\n",
        "}\n",
        "grid(model_lgbm, features_train, target_train, lgbm_params)"
      ]
    },
    {
      "cell_type": "markdown",
      "id": "001f3fd9",
      "metadata": {
        "id": "001f3fd9"
      },
      "source": [
        "CatBoost Classifier"
      ]
    },
    {
      "cell_type": "code",
      "execution_count": null,
      "id": "ba21c1ba",
      "metadata": {
        "id": "ba21c1ba",
        "outputId": "547d8c80-6009-4b30-de51-b5801dcf257e"
      },
      "outputs": [
        {
          "name": "stdout",
          "output_type": "stream",
          "text": [
            "Наилучшие гиперпарамеры {'learning_rate': 1.0, 'max_depth': 2, 'n_estimators': 60}\n",
            "ROC_AUC 0.8887346379073919\n",
            "CPU times: total: 5.53 s\n",
            "Wall time: 2min 25s\n"
          ]
        }
      ],
      "source": [
        "%%time\n",
        "model_cb = CatBoostClassifier(random_state = 100423,\n",
        "                          loss_function = 'CrossEntropy',\n",
        "                          silent = True)\n",
        "cb_params = {'learning_rate' : np.logspace(-3, 0, 5),\n",
        "           'max_depth' : range(2, 11),\n",
        "             'n_estimators' : [40, 60]\n",
        "}\n",
        "grid(model_cb, features_train, target_train, cb_params)"
      ]
    },
    {
      "cell_type": "markdown",
      "id": "376bce4a",
      "metadata": {
        "id": "376bce4a"
      },
      "source": [
        "На моделях с бустингом мы достигли на обучающей выборке нужного показателя ROC_AUC >=0.85, мелочь, а приятно. ЛУчшей моделью стала CatBoost с метриков ROC_AUC 0,888. Ее будем проверять на тестовой выборке и по ней будем делать важность признаков и матрицу ошибок."
      ]
    },
    {
      "cell_type": "markdown",
      "id": "31f5c523",
      "metadata": {
        "id": "31f5c523"
      },
      "source": [
        "## Тестирование модели"
      ]
    },
    {
      "cell_type": "code",
      "execution_count": null,
      "id": "b2d57a91",
      "metadata": {
        "id": "b2d57a91",
        "outputId": "4d5fa9b5-3fcf-4926-f514-3ee792f470f2"
      },
      "outputs": [
        {
          "name": "stdout",
          "output_type": "stream",
          "text": [
            "Accuracy 0.9129692832764505\n",
            "ROC_AUC 0.8938066562425778\n",
            "CPU times: total: 734 ms\n",
            "Wall time: 348 ms\n"
          ]
        }
      ],
      "source": [
        "%%time\n",
        "cb_test = CatBoostClassifier(learning_rate = 1.0,\n",
        "                             max_depth = 2,\n",
        "                             n_estimators = 60,\n",
        "                            loss_function = 'CrossEntropy',\n",
        "                            silent = True,\n",
        "                            random_state = 100423)\n",
        "cb_test.fit(features_train, target_train)\n",
        "prediction_test = cb_test.predict(features_test)\n",
        "\n",
        "probabilities_test = cb_test.predict_proba(features_test)\n",
        "probabilities_one_test = probabilities_test[:,1]\n",
        "\n",
        "print('Accuracy', accuracy_score(target_test, prediction_test))\n",
        "print('ROC_AUC', roc_auc_score(target_test, probabilities_one_test))"
      ]
    },
    {
      "cell_type": "markdown",
      "id": "d4e14501",
      "metadata": {
        "id": "d4e14501"
      },
      "source": [
        "На тестовой выборке Catboost показал метрику ROC_AUC 0.89"
      ]
    },
    {
      "cell_type": "markdown",
      "id": "66c51a29",
      "metadata": {
        "id": "66c51a29"
      },
      "source": [
        "Строим матрицу ошибок и ROC кривую"
      ]
    },
    {
      "cell_type": "code",
      "execution_count": null,
      "id": "09631574",
      "metadata": {
        "id": "09631574",
        "outputId": "566ae76a-2dde-4b1f-ed20-528c9f106723"
      },
      "outputs": [
        {
          "data": {
            "text/plain": [
              "array([[1469,   17],\n",
              "       [ 136,  136]], dtype=int64)"
            ]
          },
          "execution_count": 85,
          "metadata": {},
          "output_type": "execute_result"
        }
      ],
      "source": [
        "confusion_matrix(target_test, prediction_test)\n",
        "\n"
      ]
    },
    {
      "cell_type": "code",
      "execution_count": null,
      "id": "20a13b7d",
      "metadata": {
        "id": "20a13b7d"
      },
      "outputs": [],
      "source": [
        "fpr, tpr, threshold = roc_curve(target_test, probabilities_one_test)"
      ]
    },
    {
      "cell_type": "code",
      "execution_count": null,
      "id": "ed1bec93",
      "metadata": {
        "id": "ed1bec93",
        "outputId": "d5a8ca4d-891b-4237-ccea-c24e7660894e"
      },
      "outputs": [
        {
          "data": {
            "image/png": "[encoded data removed]",
            "text/plain": [
              "<Figure size 648x648 with 1 Axes>"
            ]
          },
          "metadata": {
            "needs_background": "light"
          },
          "output_type": "display_data"
        }
      ],
      "source": [
        "plt.figure(figsize = (9, 9))\n",
        "\n",
        "plt.plot([0, 1], [0, 1])\n",
        "plt.plot(fpr, tpr)\n",
        "plt.xlim([0.0, 1.0])\n",
        "plt.ylim([0.0, 1.0])\n",
        "plt.xlabel('False Positive Rate')\n",
        "plt.ylabel('True Positive Rate')\n",
        "plt.legend(('Случайная модель', 'CatBoost'), loc = 'lower right')\n",
        "\n",
        "plt.title('ROC-кривая')\n",
        "\n",
        "plt.show()"
      ]
    },
    {
      "cell_type": "markdown",
      "id": "ef2bd113",
      "metadata": {
        "id": "ef2bd113"
      },
      "source": [
        "Посмотрим на важность признаков для модели"
      ]
    },
    {
      "cell_type": "code",
      "execution_count": null,
      "id": "222eb522",
      "metadata": {
        "id": "222eb522",
        "outputId": "aa23e8b4-56db-4ba1-cce7-da0bedecaa49"
      },
      "outputs": [
        {
          "data": {
            "image/png": "[encoded data removed]",
            "text/plain": [
              "<Figure size 864x576 with 1 Axes>"
            ]
          },
          "metadata": {
            "needs_background": "light"
          },
          "output_type": "display_data"
        }
      ],
      "source": [
        "features_importance = pd.DataFrame(data={'columns': features_train.columns,\n",
        "                                        'importance' : cb_test.feature_importances_\n",
        "                                        }).sort_values(by='importance', ascending= False)\n",
        "plt.figure(figsize=(12,8))\n",
        "sns.barplot(x=features_importance['columns'], y=features_importance['importance'])\n",
        "plt.title('Важность признаков')\n",
        "plt.xticks(rotation='vertical')\n",
        "plt.xlabel('Признак')\n",
        "plt.ylabel('Важность')\n",
        "plt.show()"
      ]
    },
    {
      "cell_type": "markdown",
      "id": "b504f3f1",
      "metadata": {
        "id": "b504f3f1"
      },
      "source": [
        "Как видно из графика, наиболее важным признаком для предскаания модели является длительность действия договора."
      ]
    },
    {
      "cell_type": "markdown",
      "id": "6cbc2836",
      "metadata": {
        "id": "6cbc2836"
      },
      "source": [
        "## Отчет проекта"
      ]
    },
    {
      "cell_type": "markdown",
      "id": "f752ebb0",
      "metadata": {
        "id": "f752ebb0"
      },
      "source": [
        "Мы выгрузли данные по каждому датасету, познакомились с ними. Проверили на наличие пропусков, тип данных, построили графики по главным столбцам каждого датасета, чтобы визуально определить тип клиентов, какими продуктами чаще всего пользуются от интернет-провайдера. Увидели предпочтительный способ оплаты и получения счета. Дальнейшая наша задача будет определить самого \"нелояльного клиента\" который платит по месяцам, дабы возможно пробный период, либо с дальнейшими намерениями переключить на более дешевого провайдера, и который соответственно возможно, не пользуеся ни одним доп.продуктов провайдера, по поведению которого нам нужно обучить модель, для предсказания оттока клиентов.\n",
        "\n",
        "Мы объединили все датасеты по ключу CustomerID, для простоты восприятия, присоединение начали с датасета данных клиентов и интерент продуктов, дабы избежать утечки данных, в остальных датасетах после присоединения образовались пропуски, а именно в доп продуктах провайера, их мы заполнили значением \"NO\"\n",
        "\n",
        "При исследовании данных выявили, что в столбце totalcharges присутствуют пустые значения, их мы удалили, т.к. их всего 11 штук, на общую информацию они не повлияют.\n",
        "\n",
        "Создали новый признак - длительность договора, путем подсчета разницы между окончанием договора и датой его подписания, графы, где договор не закончился, заполнили значение актуальной датой данных.\n",
        "\n",
        "Создали целевой признак - по столбцу окончание договора, и присвоили занчение 1 и 0, если клиент ушел и еще является клиентом.\n",
        "\n",
        "После создания целевого признака, сделали проверку на дисбаланс классов, определили, что всего лишь 1/6 часть клиентов ушло.\n",
        "\n",
        "Удалили ненужные нам признаки для дальнейшего построения и обучения моделей, а именно начало и конец договора, суммарные затраты и индек клиента.\n",
        "\n",
        "Бинарным значениям \"YES\" & \"NO\" присвоили числовые значения 1 и 0 соответственно, для простоты обучения, категориальные признаки (Тип оплаты, получения счета и тип подключения) мы закодировали в числовые и срзу сделали проверку на утечку данных.\n",
        "\n",
        "Далее мы поделили данные на тренировочную и тестовую выборки, числовые признаки отмасштабировали.\n",
        "\n",
        "Создали функцию для обучения моделей на кросс валидации. Для прогнозирования выбрали 4 модели: Логистическая регрессия, случайнй лес и 2 модели бустинга - это LGBM и CatBoost. Метрику выбрали ROC_AUC, целевое значение не ниже 0,85 на тренировочной выборке. 2 модели достигли этого значения - это модели LGBM  и CatBoost, 0.87 и 0,88 соответственно. Лучше моделью стал CatBoost, ее мы проверили на тестовой выборке, результат оказался 0,89. Цель по метрике мы достигли.\n",
        "\n",
        "Затем мы созали матрицу ошибок и построили ROC кривую по отношению к случайной линейном модели. И определили важность признаков для лучшей модели, самым важным оказался длительность договора, который мы получили переведя занчения столбцов начало и конец договора в тип datetime64, и итоговое значение длительности договора перевели в дни.\n",
        "\n",
        "Все пункты плана проекта выполнены. Целевое значение получено, модели обучены, определена лучшая из них и проверена на тестовой выборке.\n",
        "\n",
        "\n"
      ]
    },
    {
      "cell_type": "markdown",
      "id": "f8ddbfc2",
      "metadata": {
        "id": "f8ddbfc2"
      },
      "source": [
        "Гиперпараметры лучшей модели : 'learning_rate': 1.0, 'max_depth': 2, 'n_estimators': 60\n",
        "\n",
        "Признаки, на которых обучалась модель выведим в виде таблицы"
      ]
    },
    {
      "cell_type": "code",
      "execution_count": null,
      "id": "212095c1",
      "metadata": {
        "id": "212095c1",
        "outputId": "ee2911b9-c92f-4330-9901-8857fb2327f6"
      },
      "outputs": [
        {
          "data": {
            "text/html": [
              "<div>\n",
              "<style scoped>\n",
              "    .dataframe tbody tr th:only-of-type {\n",
              "        vertical-align: middle;\n",
              "    }\n",
              "\n",
              "    .dataframe tbody tr th {\n",
              "        vertical-align: top;\n",
              "    }\n",
              "\n",
              "    .dataframe thead th {\n",
              "        text-align: right;\n",
              "    }\n",
              "</style>\n",
              "<table border=\"1\" class=\"dataframe\">\n",
              "  <thead>\n",
              "    <tr style=\"text-align: right;\">\n",
              "      <th></th>\n",
              "      <th>columns</th>\n",
              "      <th>importance</th>\n",
              "    </tr>\n",
              "  </thead>\n",
              "  <tbody>\n",
              "    <tr>\n",
              "      <th>12</th>\n",
              "      <td>ratio</td>\n",
              "      <td>77.798474</td>\n",
              "    </tr>\n",
              "    <tr>\n",
              "      <th>15</th>\n",
              "      <td>type_Two year</td>\n",
              "      <td>4.077256</td>\n",
              "    </tr>\n",
              "    <tr>\n",
              "      <th>5</th>\n",
              "      <td>multiplelines</td>\n",
              "      <td>2.655919</td>\n",
              "    </tr>\n",
              "    <tr>\n",
              "      <th>4</th>\n",
              "      <td>monthlycharges</td>\n",
              "      <td>2.532158</td>\n",
              "    </tr>\n",
              "    <tr>\n",
              "      <th>7</th>\n",
              "      <td>onlinebackup</td>\n",
              "      <td>2.392676</td>\n",
              "    </tr>\n",
              "    <tr>\n",
              "      <th>1</th>\n",
              "      <td>partner</td>\n",
              "      <td>2.084885</td>\n",
              "    </tr>\n",
              "    <tr>\n",
              "      <th>18</th>\n",
              "      <td>paymentmethod_Mailed check</td>\n",
              "      <td>1.856226</td>\n",
              "    </tr>\n",
              "    <tr>\n",
              "      <th>14</th>\n",
              "      <td>type_One year</td>\n",
              "      <td>1.402518</td>\n",
              "    </tr>\n",
              "    <tr>\n",
              "      <th>8</th>\n",
              "      <td>deviceprotection</td>\n",
              "      <td>0.888245</td>\n",
              "    </tr>\n",
              "    <tr>\n",
              "      <th>19</th>\n",
              "      <td>internetservice_DSL</td>\n",
              "      <td>0.599564</td>\n",
              "    </tr>\n",
              "    <tr>\n",
              "      <th>11</th>\n",
              "      <td>streamingmovies</td>\n",
              "      <td>0.585533</td>\n",
              "    </tr>\n",
              "    <tr>\n",
              "      <th>3</th>\n",
              "      <td>paperlessbilling</td>\n",
              "      <td>0.578393</td>\n",
              "    </tr>\n",
              "    <tr>\n",
              "      <th>9</th>\n",
              "      <td>techsupport</td>\n",
              "      <td>0.505830</td>\n",
              "    </tr>\n",
              "    <tr>\n",
              "      <th>10</th>\n",
              "      <td>streamingtv</td>\n",
              "      <td>0.447553</td>\n",
              "    </tr>\n",
              "    <tr>\n",
              "      <th>6</th>\n",
              "      <td>onlinesecurity</td>\n",
              "      <td>0.441892</td>\n",
              "    </tr>\n",
              "    <tr>\n",
              "      <th>17</th>\n",
              "      <td>paymentmethod_Electronic check</td>\n",
              "      <td>0.290901</td>\n",
              "    </tr>\n",
              "    <tr>\n",
              "      <th>16</th>\n",
              "      <td>paymentmethod_Credit card (automatic)</td>\n",
              "      <td>0.266637</td>\n",
              "    </tr>\n",
              "    <tr>\n",
              "      <th>0</th>\n",
              "      <td>seniorcitizen</td>\n",
              "      <td>0.239128</td>\n",
              "    </tr>\n",
              "    <tr>\n",
              "      <th>2</th>\n",
              "      <td>dependents</td>\n",
              "      <td>0.236433</td>\n",
              "    </tr>\n",
              "    <tr>\n",
              "      <th>13</th>\n",
              "      <td>gender_Male</td>\n",
              "      <td>0.119778</td>\n",
              "    </tr>\n",
              "    <tr>\n",
              "      <th>20</th>\n",
              "      <td>internetservice_Fiber optic</td>\n",
              "      <td>0.000000</td>\n",
              "    </tr>\n",
              "  </tbody>\n",
              "</table>\n",
              "</div>"
            ],
            "text/plain": [
              "                                  columns  importance\n",
              "12                                  ratio   77.798474\n",
              "15                          type_Two year    4.077256\n",
              "5                           multiplelines    2.655919\n",
              "4                          monthlycharges    2.532158\n",
              "7                            onlinebackup    2.392676\n",
              "1                                 partner    2.084885\n",
              "18             paymentmethod_Mailed check    1.856226\n",
              "14                          type_One year    1.402518\n",
              "8                        deviceprotection    0.888245\n",
              "19                    internetservice_DSL    0.599564\n",
              "11                        streamingmovies    0.585533\n",
              "3                        paperlessbilling    0.578393\n",
              "9                             techsupport    0.505830\n",
              "10                            streamingtv    0.447553\n",
              "6                          onlinesecurity    0.441892\n",
              "17         paymentmethod_Electronic check    0.290901\n",
              "16  paymentmethod_Credit card (automatic)    0.266637\n",
              "0                           seniorcitizen    0.239128\n",
              "2                              dependents    0.236433\n",
              "13                            gender_Male    0.119778\n",
              "20            internetservice_Fiber optic    0.000000"
            ]
          },
          "metadata": {},
          "output_type": "display_data"
        }
      ],
      "source": [
        "display(features_importance)"
      ]
    },
    {
      "cell_type": "code",
      "execution_count": null,
      "id": "9c28417c",
      "metadata": {
        "id": "9c28417c"
      },
      "outputs": [],
      "source": []
    }
  ],
  "metadata": {
    "ExecuteTimeLog": [
      {
        "duration": 1178,
        "start_time": "2023-04-12T10:45:11.974Z"
      },
      {
        "duration": 462,
        "start_time": "2023-04-12T10:45:13.154Z"
      },
      {
        "duration": 47,
        "start_time": "2023-04-12T19:21:27.606Z"
      },
      {
        "duration": 1219,
        "start_time": "2023-04-12T19:21:36.368Z"
      },
      {
        "duration": 411,
        "start_time": "2023-04-12T19:21:44.529Z"
      },
      {
        "duration": 10,
        "start_time": "2023-04-12T19:22:24.969Z"
      },
      {
        "duration": 8,
        "start_time": "2023-04-12T19:22:28.446Z"
      },
      {
        "duration": 10,
        "start_time": "2023-04-12T19:22:30.466Z"
      },
      {
        "duration": 10,
        "start_time": "2023-04-12T19:22:31.955Z"
      },
      {
        "duration": 107,
        "start_time": "2023-04-12T19:24:05.162Z"
      },
      {
        "duration": 118,
        "start_time": "2023-04-12T19:27:17.579Z"
      },
      {
        "duration": 77,
        "start_time": "2023-04-12T19:31:01.009Z"
      },
      {
        "duration": 114,
        "start_time": "2023-04-12T19:34:39.110Z"
      },
      {
        "duration": 1496,
        "start_time": "2023-04-13T18:14:39.330Z"
      },
      {
        "duration": 657,
        "start_time": "2023-04-13T18:14:40.828Z"
      },
      {
        "duration": 11,
        "start_time": "2023-04-13T18:14:43.402Z"
      },
      {
        "duration": 54,
        "start_time": "2023-04-20T05:25:27.173Z"
      },
      {
        "duration": 1934,
        "start_time": "2023-04-20T05:26:24.185Z"
      },
      {
        "duration": 526,
        "start_time": "2023-04-20T05:26:26.121Z"
      },
      {
        "duration": 13,
        "start_time": "2023-04-20T05:26:26.649Z"
      },
      {
        "duration": 10,
        "start_time": "2023-04-20T05:26:26.664Z"
      },
      {
        "duration": 13,
        "start_time": "2023-04-20T05:26:26.676Z"
      },
      {
        "duration": 13,
        "start_time": "2023-04-20T05:26:26.691Z"
      },
      {
        "duration": 16,
        "start_time": "2023-04-20T05:26:26.706Z"
      },
      {
        "duration": 14,
        "start_time": "2023-04-20T05:26:26.724Z"
      },
      {
        "duration": 12,
        "start_time": "2023-04-20T05:26:26.740Z"
      },
      {
        "duration": 41,
        "start_time": "2023-04-20T05:26:26.756Z"
      },
      {
        "duration": 26,
        "start_time": "2023-04-20T05:26:26.799Z"
      },
      {
        "duration": 14,
        "start_time": "2023-04-20T05:26:26.827Z"
      },
      {
        "duration": 74,
        "start_time": "2023-04-20T05:26:26.844Z"
      },
      {
        "duration": 14,
        "start_time": "2023-04-20T05:26:26.921Z"
      },
      {
        "duration": 8,
        "start_time": "2023-04-20T05:26:26.937Z"
      },
      {
        "duration": 9,
        "start_time": "2023-04-20T05:26:26.948Z"
      },
      {
        "duration": 35,
        "start_time": "2023-04-20T05:26:26.958Z"
      },
      {
        "duration": 11,
        "start_time": "2023-04-20T05:26:26.995Z"
      },
      {
        "duration": 196,
        "start_time": "2023-04-20T05:26:27.008Z"
      },
      {
        "duration": 132,
        "start_time": "2023-04-20T05:26:27.206Z"
      },
      {
        "duration": 217,
        "start_time": "2023-04-20T05:26:27.340Z"
      },
      {
        "duration": 128,
        "start_time": "2023-04-20T05:26:27.559Z"
      },
      {
        "duration": 128,
        "start_time": "2023-04-20T05:26:27.689Z"
      },
      {
        "duration": 136,
        "start_time": "2023-04-20T05:26:27.819Z"
      },
      {
        "duration": 130,
        "start_time": "2023-04-20T05:26:27.957Z"
      },
      {
        "duration": 134,
        "start_time": "2023-04-20T05:26:28.089Z"
      },
      {
        "duration": 148,
        "start_time": "2023-04-20T05:26:28.225Z"
      },
      {
        "duration": 126,
        "start_time": "2023-04-20T05:26:28.378Z"
      },
      {
        "duration": 130,
        "start_time": "2023-04-20T05:26:28.506Z"
      },
      {
        "duration": 155,
        "start_time": "2023-04-20T05:26:28.638Z"
      },
      {
        "duration": 176,
        "start_time": "2023-04-20T05:26:28.794Z"
      },
      {
        "duration": 166,
        "start_time": "2023-04-20T05:26:28.971Z"
      },
      {
        "duration": 12,
        "start_time": "2023-04-20T05:26:29.139Z"
      },
      {
        "duration": 12,
        "start_time": "2023-04-20T05:26:29.153Z"
      },
      {
        "duration": 16,
        "start_time": "2023-04-20T05:26:29.184Z"
      },
      {
        "duration": 27,
        "start_time": "2023-04-20T05:26:29.202Z"
      },
      {
        "duration": 7,
        "start_time": "2023-04-20T05:26:29.232Z"
      },
      {
        "duration": 4,
        "start_time": "2023-04-20T05:26:29.241Z"
      },
      {
        "duration": 42,
        "start_time": "2023-04-20T05:26:29.247Z"
      },
      {
        "duration": 7,
        "start_time": "2023-04-20T05:26:29.291Z"
      },
      {
        "duration": 7,
        "start_time": "2023-04-20T05:26:29.300Z"
      },
      {
        "duration": 9,
        "start_time": "2023-04-20T05:26:29.309Z"
      },
      {
        "duration": 6,
        "start_time": "2023-04-20T05:26:29.320Z"
      },
      {
        "duration": 9,
        "start_time": "2023-04-20T05:26:29.328Z"
      },
      {
        "duration": 5,
        "start_time": "2023-04-20T05:26:29.339Z"
      },
      {
        "duration": 42,
        "start_time": "2023-04-20T05:26:29.346Z"
      },
      {
        "duration": 4,
        "start_time": "2023-04-20T05:26:29.390Z"
      },
      {
        "duration": 5,
        "start_time": "2023-04-20T05:26:29.396Z"
      },
      {
        "duration": 115,
        "start_time": "2023-04-20T05:26:29.403Z"
      },
      {
        "duration": 5,
        "start_time": "2023-04-20T05:26:29.520Z"
      },
      {
        "duration": 5,
        "start_time": "2023-04-20T05:26:29.527Z"
      },
      {
        "duration": 16,
        "start_time": "2023-04-20T05:26:29.533Z"
      },
      {
        "duration": 8,
        "start_time": "2023-04-20T05:26:29.551Z"
      },
      {
        "duration": 31,
        "start_time": "2023-04-20T05:26:29.561Z"
      },
      {
        "duration": 101,
        "start_time": "2023-04-20T05:26:29.594Z"
      },
      {
        "duration": 6,
        "start_time": "2023-04-20T05:26:29.697Z"
      },
      {
        "duration": 7,
        "start_time": "2023-04-20T05:26:29.705Z"
      },
      {
        "duration": 157,
        "start_time": "2023-04-20T05:26:29.714Z"
      },
      {
        "duration": 14,
        "start_time": "2023-04-20T05:26:29.873Z"
      },
      {
        "duration": 6,
        "start_time": "2023-04-20T05:26:29.889Z"
      },
      {
        "duration": 8,
        "start_time": "2023-04-20T05:26:29.896Z"
      },
      {
        "duration": 8,
        "start_time": "2023-04-20T05:26:29.905Z"
      },
      {
        "duration": 5,
        "start_time": "2023-04-20T05:26:29.915Z"
      },
      {
        "duration": 212,
        "start_time": "2023-04-20T05:26:29.922Z"
      },
      {
        "duration": 29,
        "start_time": "2023-04-20T05:26:30.136Z"
      },
      {
        "duration": 46,
        "start_time": "2023-04-20T05:26:30.167Z"
      },
      {
        "duration": 412,
        "start_time": "2023-04-20T05:26:30.215Z"
      },
      {
        "duration": 5,
        "start_time": "2023-04-20T05:26:30.629Z"
      },
      {
        "duration": 31,
        "start_time": "2023-04-20T05:26:30.636Z"
      },
      {
        "duration": 41,
        "start_time": "2023-04-20T05:26:30.669Z"
      },
      {
        "duration": 19,
        "start_time": "2023-04-20T05:26:30.712Z"
      },
      {
        "duration": 43,
        "start_time": "2023-04-20T05:26:30.733Z"
      },
      {
        "duration": 22,
        "start_time": "2023-04-20T05:26:30.778Z"
      },
      {
        "duration": 8,
        "start_time": "2023-04-20T05:26:30.802Z"
      },
      {
        "duration": 26,
        "start_time": "2023-04-20T05:26:30.812Z"
      },
      {
        "duration": 24,
        "start_time": "2023-04-20T05:26:30.840Z"
      },
      {
        "duration": 25,
        "start_time": "2023-04-20T05:26:30.866Z"
      },
      {
        "duration": 32,
        "start_time": "2023-04-20T05:26:30.893Z"
      },
      {
        "duration": 33,
        "start_time": "2023-04-20T05:26:30.927Z"
      },
      {
        "duration": 44645,
        "start_time": "2023-04-20T05:26:30.962Z"
      },
      {
        "duration": 135264,
        "start_time": "2023-04-20T05:27:15.687Z"
      }
    ],
    "kernelspec": {
      "display_name": "Python 3 (ipykernel)",
      "language": "python",
      "name": "python3"
    },
    "language_info": {
      "codemirror_mode": {
        "name": "ipython",
        "version": 3
      },
      "file_extension": ".py",
      "mimetype": "text/x-python",
      "name": "python",
      "nbconvert_exporter": "python",
      "pygments_lexer": "ipython3",
      "version": "3.9.5"
    },
    "toc": {
      "base_numbering": 1,
      "nav_menu": {},
      "number_sections": true,
      "sideBar": true,
      "skip_h1_title": true,
      "title_cell": "Table of Contents",
      "title_sidebar": "Contents",
      "toc_cell": false,
      "toc_position": {},
      "toc_section_display": true,
      "toc_window_display": false
    },
    "colab": {
      "provenance": []
    }
  },
  "nbformat": 4,
  "nbformat_minor": 5
}